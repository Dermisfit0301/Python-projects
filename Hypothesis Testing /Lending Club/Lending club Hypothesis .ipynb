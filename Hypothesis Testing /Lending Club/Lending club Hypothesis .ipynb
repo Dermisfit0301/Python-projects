{
 "cells": [
  {
   "cell_type": "markdown",
   "id": "01d26a7f",
   "metadata": {},
   "source": [
    "# Lending club hypothesis testing \n",
    " \n",
    "The business problem is to analyze Lending Club loans data to test hypotheses regarding the relationships between interest rates and loan amounts, loan length and interest rates, interest rates and loan purposes, and the relationship between FICO scores and home ownership."
   ]
  },
  {
   "cell_type": "code",
   "execution_count": 42,
   "id": "d6eebcb6",
   "metadata": {},
   "outputs": [],
   "source": [
    "#Importing Necessary Libraries\n",
    "import pandas as pd\n",
    "import numpy as np\n",
    "import matplotlib.pyplot as plt\n",
    "from scipy import stats\n",
    "import statsmodels\n",
    "from statsmodels.formula.api import ols"
   ]
  },
  {
   "cell_type": "code",
   "execution_count": 2,
   "id": "65f48ed3",
   "metadata": {},
   "outputs": [
    {
     "data": {
      "text/html": [
       "<div>\n",
       "<style scoped>\n",
       "    .dataframe tbody tr th:only-of-type {\n",
       "        vertical-align: middle;\n",
       "    }\n",
       "\n",
       "    .dataframe tbody tr th {\n",
       "        vertical-align: top;\n",
       "    }\n",
       "\n",
       "    .dataframe thead th {\n",
       "        text-align: right;\n",
       "    }\n",
       "</style>\n",
       "<table border=\"1\" class=\"dataframe\">\n",
       "  <thead>\n",
       "    <tr style=\"text-align: right;\">\n",
       "      <th></th>\n",
       "      <th>Amount.Requested</th>\n",
       "      <th>Amount.Funded.By.Investors</th>\n",
       "      <th>Interest.Rate</th>\n",
       "      <th>Loan.Length</th>\n",
       "      <th>Loan.Purpose</th>\n",
       "      <th>Debt.To.Income.Ratio</th>\n",
       "      <th>State</th>\n",
       "      <th>Home.Ownership</th>\n",
       "      <th>Monthly.Income</th>\n",
       "      <th>FICO.Range</th>\n",
       "      <th>Open.CREDIT.Lines</th>\n",
       "      <th>Revolving.CREDIT.Balance</th>\n",
       "      <th>Inquiries.in.the.Last.6.Months</th>\n",
       "      <th>Employment.Length</th>\n",
       "    </tr>\n",
       "  </thead>\n",
       "  <tbody>\n",
       "    <tr>\n",
       "      <th>0</th>\n",
       "      <td>20000.0</td>\n",
       "      <td>20000.0</td>\n",
       "      <td>8.90%</td>\n",
       "      <td>36 months</td>\n",
       "      <td>debt_consolidation</td>\n",
       "      <td>14.90%</td>\n",
       "      <td>SC</td>\n",
       "      <td>MORTGAGE</td>\n",
       "      <td>6541.67</td>\n",
       "      <td>735-739</td>\n",
       "      <td>14.0</td>\n",
       "      <td>14272.0</td>\n",
       "      <td>2.0</td>\n",
       "      <td>&lt; 1 year</td>\n",
       "    </tr>\n",
       "    <tr>\n",
       "      <th>1</th>\n",
       "      <td>19200.0</td>\n",
       "      <td>19200.0</td>\n",
       "      <td>12.12%</td>\n",
       "      <td>36 months</td>\n",
       "      <td>debt_consolidation</td>\n",
       "      <td>28.36%</td>\n",
       "      <td>TX</td>\n",
       "      <td>MORTGAGE</td>\n",
       "      <td>4583.33</td>\n",
       "      <td>715-719</td>\n",
       "      <td>12.0</td>\n",
       "      <td>11140.0</td>\n",
       "      <td>1.0</td>\n",
       "      <td>2 years</td>\n",
       "    </tr>\n",
       "    <tr>\n",
       "      <th>2</th>\n",
       "      <td>35000.0</td>\n",
       "      <td>35000.0</td>\n",
       "      <td>21.98%</td>\n",
       "      <td>60 months</td>\n",
       "      <td>debt_consolidation</td>\n",
       "      <td>23.81%</td>\n",
       "      <td>CA</td>\n",
       "      <td>MORTGAGE</td>\n",
       "      <td>11500.00</td>\n",
       "      <td>690-694</td>\n",
       "      <td>14.0</td>\n",
       "      <td>21977.0</td>\n",
       "      <td>1.0</td>\n",
       "      <td>2 years</td>\n",
       "    </tr>\n",
       "    <tr>\n",
       "      <th>3</th>\n",
       "      <td>10000.0</td>\n",
       "      <td>9975.0</td>\n",
       "      <td>9.99%</td>\n",
       "      <td>36 months</td>\n",
       "      <td>debt_consolidation</td>\n",
       "      <td>14.30%</td>\n",
       "      <td>KS</td>\n",
       "      <td>MORTGAGE</td>\n",
       "      <td>3833.33</td>\n",
       "      <td>695-699</td>\n",
       "      <td>10.0</td>\n",
       "      <td>9346.0</td>\n",
       "      <td>0.0</td>\n",
       "      <td>5 years</td>\n",
       "    </tr>\n",
       "    <tr>\n",
       "      <th>4</th>\n",
       "      <td>12000.0</td>\n",
       "      <td>12000.0</td>\n",
       "      <td>11.71%</td>\n",
       "      <td>36 months</td>\n",
       "      <td>credit_card</td>\n",
       "      <td>18.78%</td>\n",
       "      <td>NJ</td>\n",
       "      <td>RENT</td>\n",
       "      <td>3195.00</td>\n",
       "      <td>695-699</td>\n",
       "      <td>11.0</td>\n",
       "      <td>14469.0</td>\n",
       "      <td>0.0</td>\n",
       "      <td>9 years</td>\n",
       "    </tr>\n",
       "  </tbody>\n",
       "</table>\n",
       "</div>"
      ],
      "text/plain": [
       "   Amount.Requested  Amount.Funded.By.Investors Interest.Rate Loan.Length  \\\n",
       "0           20000.0                     20000.0         8.90%   36 months   \n",
       "1           19200.0                     19200.0        12.12%   36 months   \n",
       "2           35000.0                     35000.0        21.98%   60 months   \n",
       "3           10000.0                      9975.0         9.99%   36 months   \n",
       "4           12000.0                     12000.0        11.71%   36 months   \n",
       "\n",
       "         Loan.Purpose Debt.To.Income.Ratio State Home.Ownership  \\\n",
       "0  debt_consolidation               14.90%    SC       MORTGAGE   \n",
       "1  debt_consolidation               28.36%    TX       MORTGAGE   \n",
       "2  debt_consolidation               23.81%    CA       MORTGAGE   \n",
       "3  debt_consolidation               14.30%    KS       MORTGAGE   \n",
       "4         credit_card               18.78%    NJ           RENT   \n",
       "\n",
       "   Monthly.Income FICO.Range  Open.CREDIT.Lines  Revolving.CREDIT.Balance  \\\n",
       "0         6541.67    735-739               14.0                   14272.0   \n",
       "1         4583.33    715-719               12.0                   11140.0   \n",
       "2        11500.00    690-694               14.0                   21977.0   \n",
       "3         3833.33    695-699               10.0                    9346.0   \n",
       "4         3195.00    695-699               11.0                   14469.0   \n",
       "\n",
       "   Inquiries.in.the.Last.6.Months Employment.Length  \n",
       "0                             2.0          < 1 year  \n",
       "1                             1.0           2 years  \n",
       "2                             1.0           2 years  \n",
       "3                             0.0           5 years  \n",
       "4                             0.0           9 years  "
      ]
     },
     "execution_count": 2,
     "metadata": {},
     "output_type": "execute_result"
    }
   ],
   "source": [
    "#loading the dataset\n",
    "df = pd.read_csv(\"C:\\\\Users\\\\sujoydutta\\\\Desktop\\\\Data analysis\\\\Datasets for ML\\\\Hypothesis testing\\\\LoansData.csv\")\n",
    "df.head()"
   ]
  },
  {
   "cell_type": "code",
   "execution_count": 3,
   "id": "b1c3c732",
   "metadata": {},
   "outputs": [
    {
     "name": "stdout",
     "output_type": "stream",
     "text": [
      "<class 'pandas.core.frame.DataFrame'>\n",
      "RangeIndex: 2500 entries, 0 to 2499\n",
      "Data columns (total 14 columns):\n",
      " #   Column                          Non-Null Count  Dtype  \n",
      "---  ------                          --------------  -----  \n",
      " 0   Amount.Requested                2499 non-null   float64\n",
      " 1   Amount.Funded.By.Investors      2499 non-null   float64\n",
      " 2   Interest.Rate                   2498 non-null   object \n",
      " 3   Loan.Length                     2500 non-null   object \n",
      " 4   Loan.Purpose                    2500 non-null   object \n",
      " 5   Debt.To.Income.Ratio            2499 non-null   object \n",
      " 6   State                           2500 non-null   object \n",
      " 7   Home.Ownership                  2499 non-null   object \n",
      " 8   Monthly.Income                  2499 non-null   float64\n",
      " 9   FICO.Range                      2498 non-null   object \n",
      " 10  Open.CREDIT.Lines               2497 non-null   float64\n",
      " 11  Revolving.CREDIT.Balance        2497 non-null   float64\n",
      " 12  Inquiries.in.the.Last.6.Months  2497 non-null   float64\n",
      " 13  Employment.Length               2423 non-null   object \n",
      "dtypes: float64(6), object(8)\n",
      "memory usage: 273.6+ KB\n",
      "None\n"
     ]
    }
   ],
   "source": [
    "# Getting information about the data types and missing values\n",
    "print(df.info())  "
   ]
  },
  {
   "cell_type": "code",
   "execution_count": 4,
   "id": "ede2d035",
   "metadata": {},
   "outputs": [
    {
     "name": "stdout",
     "output_type": "stream",
     "text": [
      "<class 'pandas.core.frame.DataFrame'>\n",
      "Int64Index: 2413 entries, 0 to 2499\n",
      "Data columns (total 14 columns):\n",
      " #   Column                          Non-Null Count  Dtype  \n",
      "---  ------                          --------------  -----  \n",
      " 0   Amount.Requested                2413 non-null   float64\n",
      " 1   Amount.Funded.By.Investors      2413 non-null   float64\n",
      " 2   Interest.Rate                   2413 non-null   object \n",
      " 3   Loan.Length                     2413 non-null   object \n",
      " 4   Loan.Purpose                    2413 non-null   object \n",
      " 5   Debt.To.Income.Ratio            2413 non-null   object \n",
      " 6   State                           2413 non-null   object \n",
      " 7   Home.Ownership                  2413 non-null   object \n",
      " 8   Monthly.Income                  2413 non-null   float64\n",
      " 9   FICO.Range                      2413 non-null   object \n",
      " 10  Open.CREDIT.Lines               2413 non-null   float64\n",
      " 11  Revolving.CREDIT.Balance        2413 non-null   float64\n",
      " 12  Inquiries.in.the.Last.6.Months  2413 non-null   float64\n",
      " 13  Employment.Length               2413 non-null   object \n",
      "dtypes: float64(6), object(8)\n",
      "memory usage: 282.8+ KB\n"
     ]
    }
   ],
   "source": [
    "#dropping null values\n",
    "df=df.dropna()\n",
    "df.info()"
   ]
  },
  {
   "cell_type": "code",
   "execution_count": 5,
   "id": "cf9f4647",
   "metadata": {},
   "outputs": [],
   "source": [
    "#data cleaning and formatting \n",
    "df['Interest.Rate'] = df['Interest.Rate'].str.rstrip('%').astype(float)\n",
    "df['Debt.To.Income.Ratio'] = df['Debt.To.Income.Ratio'].str.rstrip('%').astype(float)\n",
    "df['Loan.Length'] = df['Loan.Length'].str.rstrip('months').astype(int)"
   ]
  },
  {
   "cell_type": "markdown",
   "id": "0f33ed4b",
   "metadata": {},
   "source": [
    "**Interest Rate vs. Loan Amount**\n",
    "\n",
    "Let us test if interest rates vary for different loan amounts, we will use a statistical test such as ANOVA. First,we will group the data by loan amounts and calculate the mean interest rates for each group. Then,we will perform the ANOVA test."
   ]
  },
  {
   "cell_type": "code",
   "execution_count": 6,
   "id": "6bf5248a",
   "metadata": {},
   "outputs": [],
   "source": [
    "#performing the anova for loan amount groups\n",
    "loan_amount_groups = df.groupby('Amount.Requested')\n",
    "f_statistic, p_value = stats.f_oneway(*[group['Interest.Rate'] for name, group in loan_amount_groups])"
   ]
  },
  {
   "cell_type": "code",
   "execution_count": 7,
   "id": "01deaaa0",
   "metadata": {},
   "outputs": [
    {
     "name": "stdout",
     "output_type": "stream",
     "text": [
      "ANOVA results for loan_amount_groups:\n",
      "F statistic: 1.9852843268876887\n",
      "P value: 9.511554394354776e-21\n"
     ]
    }
   ],
   "source": [
    "#printing the results\n",
    "print('ANOVA results for loan_amount_groups:')\n",
    "print('F statistic:', f_statistic)\n",
    "print('P value:', p_value)"
   ]
  },
  {
   "cell_type": "markdown",
   "id": "2f000a9b",
   "metadata": {},
   "source": [
    "*Remark: Since P value is very less than 0.05 we can say there is a significant difference across loan amounts with respect to interest rates.Hence there are different interest rates for each amount.*"
   ]
  },
  {
   "cell_type": "markdown",
   "id": "1e50690e",
   "metadata": {},
   "source": [
    "**Loan Length vs. Interest Rate**\n",
    "\n",
    "Let us see if loan length directly affects interest rates using a Pearson's correlation test.\n",
    "\n"
   ]
  },
  {
   "cell_type": "code",
   "execution_count": 10,
   "id": "4eae21db",
   "metadata": {},
   "outputs": [],
   "source": [
    "#performing the anova for Loan length and Interest rate\n",
    "correlation_coefficient, p_value = stats.pearsonr(df['Loan.Length'], df['Interest.Rate'])"
   ]
  },
  {
   "cell_type": "code",
   "execution_count": 12,
   "id": "f3ecff63",
   "metadata": {},
   "outputs": [
    {
     "name": "stdout",
     "output_type": "stream",
     "text": [
      "Correlation results for Loan Length vs. Interest Rate:\n",
      "correlation coefficient: 0.42505738230947665\n",
      "P value: 1.7938010673370282e-106\n"
     ]
    }
   ],
   "source": [
    "#printing the results\n",
    "print('Correlation results for Loan Length vs. Interest Rate:')\n",
    "print('correlation coefficient:', correlation_coefficient)\n",
    "print('P value:', p_value)"
   ]
  },
  {
   "cell_type": "markdown",
   "id": "a38ea8d0",
   "metadata": {},
   "source": [
    "*Remark: Since P value is very less than 0.05 we can say there is a significant correlation between Loan Length and Interest Rate and there is a moderately positive correlation between the two values.*"
   ]
  },
  {
   "cell_type": "markdown",
   "id": "afd78a58",
   "metadata": {},
   "source": [
    "**Interest Rate vs. Loan Purpose**\n",
    "\n",
    "Let us test if interest rates vary for different loan amounts, we will use a statistical test such as ANOVA. First,we will group the data by loan amounts and calculate the mean interest rates for each group. Then,we will perform the ANOVA test."
   ]
  },
  {
   "cell_type": "code",
   "execution_count": 13,
   "id": "6b163a11",
   "metadata": {},
   "outputs": [],
   "source": [
    "#performing the anova for Loan Purposes\n",
    "f_statistic, p_value = stats.f_oneway(*[group['Interest.Rate'] for name, group in df.groupby('Loan.Purpose')])"
   ]
  },
  {
   "cell_type": "code",
   "execution_count": 14,
   "id": "fbe49ff5",
   "metadata": {},
   "outputs": [
    {
     "name": "stdout",
     "output_type": "stream",
     "text": [
      "ANOVA results for Loan Purposes:\n",
      "F statistic: 7.330838185919651\n",
      "P value: 2.7646672581411367e-14\n"
     ]
    }
   ],
   "source": [
    "#printing the results\n",
    "print('ANOVA results for Loan Purposes:')\n",
    "print('F statistic:', f_statistic)\n",
    "print('P value:', p_value)"
   ]
  },
  {
   "cell_type": "markdown",
   "id": "9ccc9828",
   "metadata": {},
   "source": [
    "*Remark: Since P value is very less than 0.05 we can say there is a significant difference across loan purposes with respect to interest rates.Hence there are different interest rates for each purpose.*"
   ]
  },
  {
   "cell_type": "code",
   "execution_count": 19,
   "id": "2bacebc2",
   "metadata": {},
   "outputs": [],
   "source": [
    "#Feature engineering for fico score\n",
    "df[['FICO.Min', 'FICO.Max']] = df['FICO.Range'].str.split('-', expand=True).astype(int)"
   ]
  },
  {
   "cell_type": "code",
   "execution_count": 20,
   "id": "8499045e",
   "metadata": {},
   "outputs": [
    {
     "data": {
      "text/plain": [
       "0       737.0\n",
       "1       717.0\n",
       "2       692.0\n",
       "3       697.0\n",
       "4       697.0\n",
       "        ...  \n",
       "2495    707.0\n",
       "2496    742.0\n",
       "2497    682.0\n",
       "2498    677.0\n",
       "2499    672.0\n",
       "Name: FICO.score, Length: 2413, dtype: float64"
      ]
     },
     "execution_count": 20,
     "metadata": {},
     "output_type": "execute_result"
    }
   ],
   "source": [
    "#getting the average FICO score\n",
    "df['FICO.score'] = df[['FICO.Min', 'FICO.Max']].mean(axis=1)\n",
    "df['FICO.score']"
   ]
  },
  {
   "cell_type": "markdown",
   "id": "7f18d742",
   "metadata": {},
   "source": [
    "**Relationship Between FICO Scores and Home Ownership**\n",
    "\n",
    "In order to analyze the relationship between FICO scores and home ownership, we can compare the FICO scores for different home ownership categories using T-test of independent samples."
   ]
  },
  {
   "cell_type": "code",
   "execution_count": 44,
   "id": "6413a3d0",
   "metadata": {},
   "outputs": [],
   "source": [
    "\n",
    "# Separating FICO scores\n",
    "fico_home_owners = df[df['Home.Ownership'] == 'OWN']['FICO.score']\n",
    "fico_non_home_owners = df[df['Home.Ownership'] != 'OWN']['FICO.score']\n",
    "\n",
    "\n",
    "\n",
    "\n"
   ]
  },
  {
   "cell_type": "code",
   "execution_count": 45,
   "id": "3c111051",
   "metadata": {},
   "outputs": [],
   "source": [
    "# Performing an independent samples t-test\n",
    "t_statistic, p_value = stats.ttest_ind(fico_home_owners, fico_non_home_owners)\n"
   ]
  },
  {
   "cell_type": "code",
   "execution_count": 46,
   "id": "78fa6356",
   "metadata": {},
   "outputs": [
    {
     "name": "stdout",
     "output_type": "stream",
     "text": [
      "T-Statistic: 0.4755690628354589\n",
      "P-Value: 0.6344245033040679\n"
     ]
    }
   ],
   "source": [
    "# Printing the results\n",
    "print(\"T-Statistic:\", t_statistic)\n",
    "print(\"P-Value:\", p_value)\n",
    "\n"
   ]
  },
  {
   "cell_type": "code",
   "execution_count": 47,
   "id": "226d4b6b",
   "metadata": {},
   "outputs": [
    {
     "name": "stdout",
     "output_type": "stream",
     "text": [
      "There is no significant difference between FICO scores of home owners and non-home owners.\n"
     ]
    }
   ],
   "source": [
    "# Determining the significance\n",
    "alpha = 0.05  \n",
    "if p_value < alpha:\n",
    "    print(\"There is a significant difference between FICO scores of home owners and non-home owners.\")\n",
    "else:\n",
    "    print(\"There is no significant difference between FICO scores of home owners and non-home owners.\")"
   ]
  },
  {
   "cell_type": "markdown",
   "id": "6b6f3b1a",
   "metadata": {},
   "source": [
    "*Remark: Since P value is higher than Alpha we can say Home ownership is not affected by FICO scores.*"
   ]
  }
 ],
 "metadata": {
  "kernelspec": {
   "display_name": "Python 3 (ipykernel)",
   "language": "python",
   "name": "python3"
  },
  "language_info": {
   "codemirror_mode": {
    "name": "ipython",
    "version": 3
   },
   "file_extension": ".py",
   "mimetype": "text/x-python",
   "name": "python",
   "nbconvert_exporter": "python",
   "pygments_lexer": "ipython3",
   "version": "3.9.12"
  }
 },
 "nbformat": 4,
 "nbformat_minor": 5
}
