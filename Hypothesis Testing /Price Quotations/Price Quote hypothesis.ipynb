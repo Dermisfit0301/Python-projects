{
 "cells": [
  {
   "cell_type": "markdown",
   "id": "1531ca7f",
   "metadata": {},
   "source": [
    "# Price Quote hypothesis testing\n",
    "\n",
    "The business problem involves a small manufacturing company aiming to enhance its price quoting process, which is currently labor-intensive and highly variable. The sales department manager is concerned about the complexity and potential inconsistency in the quoted prices, which depend on various factors. To address this issue, an improvement team conducted a study with two experts, Mary and Barry, independently providing prices for twelve orders. The goal is to determine if there is a statistically significant difference in the average price quotes provided by Mary and Barry. This analysis will help the company understand the extent of variability between pricing experts and may lead to process improvements to achieve more consistent and accurate pricing."
   ]
  },
  {
   "cell_type": "code",
   "execution_count": 1,
   "id": "6e66d180",
   "metadata": {},
   "outputs": [],
   "source": [
    "#importing the packages\n",
    "import pandas as pd\n",
    "from scipy import stats"
   ]
  },
  {
   "cell_type": "code",
   "execution_count": 2,
   "id": "bba46e1e",
   "metadata": {},
   "outputs": [
    {
     "data": {
      "text/html": [
       "<div>\n",
       "<style scoped>\n",
       "    .dataframe tbody tr th:only-of-type {\n",
       "        vertical-align: middle;\n",
       "    }\n",
       "\n",
       "    .dataframe tbody tr th {\n",
       "        vertical-align: top;\n",
       "    }\n",
       "\n",
       "    .dataframe thead th {\n",
       "        text-align: right;\n",
       "    }\n",
       "</style>\n",
       "<table border=\"1\" class=\"dataframe\">\n",
       "  <thead>\n",
       "    <tr style=\"text-align: right;\">\n",
       "      <th></th>\n",
       "      <th>Order_Number</th>\n",
       "      <th>Barry_Price</th>\n",
       "      <th>Mary_Price</th>\n",
       "    </tr>\n",
       "  </thead>\n",
       "  <tbody>\n",
       "    <tr>\n",
       "      <th>0</th>\n",
       "      <td>1</td>\n",
       "      <td>126</td>\n",
       "      <td>114</td>\n",
       "    </tr>\n",
       "    <tr>\n",
       "      <th>1</th>\n",
       "      <td>2</td>\n",
       "      <td>110</td>\n",
       "      <td>118</td>\n",
       "    </tr>\n",
       "    <tr>\n",
       "      <th>2</th>\n",
       "      <td>3</td>\n",
       "      <td>138</td>\n",
       "      <td>114</td>\n",
       "    </tr>\n",
       "    <tr>\n",
       "      <th>3</th>\n",
       "      <td>4</td>\n",
       "      <td>142</td>\n",
       "      <td>111</td>\n",
       "    </tr>\n",
       "    <tr>\n",
       "      <th>4</th>\n",
       "      <td>5</td>\n",
       "      <td>146</td>\n",
       "      <td>129</td>\n",
       "    </tr>\n",
       "  </tbody>\n",
       "</table>\n",
       "</div>"
      ],
      "text/plain": [
       "   Order_Number  Barry_Price  Mary_Price\n",
       "0             1          126         114\n",
       "1             2          110         118\n",
       "2             3          138         114\n",
       "3             4          142         111\n",
       "4             5          146         129"
      ]
     },
     "execution_count": 2,
     "metadata": {},
     "output_type": "execute_result"
    }
   ],
   "source": [
    "# Loading the data from the CSV file\n",
    "df = pd.read_csv(\"C:\\\\Users\\\\sujoydutta\\\\Desktop\\\\Data analysis\\\\Datasets for ML\\\\Hypothesis testing\\\\Price_Quotes.csv\")\n",
    "df.head()"
   ]
  },
  {
   "cell_type": "code",
   "execution_count": 3,
   "id": "3d26a3de",
   "metadata": {},
   "outputs": [],
   "source": [
    "# Separating the price quotes provided by Mary and Barry\n",
    "mary_quotes = df['Mary_Price']\n",
    "barry_quotes = df['Barry_Price']\n"
   ]
  },
  {
   "cell_type": "code",
   "execution_count": 4,
   "id": "75252e12",
   "metadata": {},
   "outputs": [],
   "source": [
    "# Performing a two-sample t-test to compare the means\n",
    "t_statistic, p_value = stats.ttest_ind(mary_quotes, barry_quotes)"
   ]
  },
  {
   "cell_type": "code",
   "execution_count": 5,
   "id": "50722c22",
   "metadata": {},
   "outputs": [
    {
     "name": "stdout",
     "output_type": "stream",
     "text": [
      "T-Statistic: -1.4147436739281787\n",
      "P-Value: 0.17114226132118285\n",
      "There is no significant difference in the average price quotes provided by Mary and Barry.\n"
     ]
    }
   ],
   "source": [
    "# Setting the significance level\n",
    "alpha = 0.05\n",
    "\n",
    "# Print the results\n",
    "print(\"T-Statistic:\", t_statistic)\n",
    "print(\"P-Value:\", p_value)\n",
    "\n",
    "if p_value < alpha:\n",
    "    print(\"There is a significant difference in the average price quotes provided by Mary and Barry.\")\n",
    "else:\n",
    "    print(\"There is no significant difference in the average price quotes provided by Mary and Barry.\")"
   ]
  },
  {
   "cell_type": "markdown",
   "id": "9340fc79",
   "metadata": {},
   "source": [
    "*Remark: Since P value is higher than alpha level so we can say the prices of both Mary and Barry are almost same.*"
   ]
  }
 ],
 "metadata": {
  "kernelspec": {
   "display_name": "Python 3 (ipykernel)",
   "language": "python",
   "name": "python3"
  },
  "language_info": {
   "codemirror_mode": {
    "name": "ipython",
    "version": 3
   },
   "file_extension": ".py",
   "mimetype": "text/x-python",
   "name": "python",
   "nbconvert_exporter": "python",
   "pygments_lexer": "ipython3",
   "version": "3.9.12"
  }
 },
 "nbformat": 4,
 "nbformat_minor": 5
}
