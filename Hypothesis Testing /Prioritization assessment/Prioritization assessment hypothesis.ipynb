{
 "cells": [
  {
   "cell_type": "markdown",
   "id": "35ce2eed",
   "metadata": {},
   "source": [
    "# Prioritization assessment hypothesis testing\n",
    "\n",
    "ApDudes, a tablet application developer, faced challenges with project deadlines as only 10% of their projects were completed on time and within budget. To address this, the project manager focused on the implementation phase and identified that software engineers struggled with task prioritization and project size. To improve the situation, they implemented a classification and prioritization system, breaking projects into smaller tasks with assigned priorities. The belief was that this approach would accelerate the completion of high-priority tasks, ultimately reducing overall project completion times. The effectiveness of this system is under evaluation to ensure that higher-priority tasks are completed more quickly, contributing to improved project timelines."
   ]
  },
  {
   "cell_type": "code",
   "execution_count": 1,
   "id": "dccc9a57",
   "metadata": {},
   "outputs": [],
   "source": [
    "#importing packages\n",
    "import pandas as pd\n",
    "from scipy import stats"
   ]
  },
  {
   "cell_type": "code",
   "execution_count": 4,
   "id": "9830aae9",
   "metadata": {},
   "outputs": [
    {
     "data": {
      "text/html": [
       "<div>\n",
       "<style scoped>\n",
       "    .dataframe tbody tr th:only-of-type {\n",
       "        vertical-align: middle;\n",
       "    }\n",
       "\n",
       "    .dataframe tbody tr th {\n",
       "        vertical-align: top;\n",
       "    }\n",
       "\n",
       "    .dataframe thead th {\n",
       "        text-align: right;\n",
       "    }\n",
       "</style>\n",
       "<table border=\"1\" class=\"dataframe\">\n",
       "  <thead>\n",
       "    <tr style=\"text-align: right;\">\n",
       "      <th></th>\n",
       "      <th>Days</th>\n",
       "      <th>Priority</th>\n",
       "    </tr>\n",
       "  </thead>\n",
       "  <tbody>\n",
       "    <tr>\n",
       "      <th>0</th>\n",
       "      <td>3.3</td>\n",
       "      <td>High</td>\n",
       "    </tr>\n",
       "    <tr>\n",
       "      <th>1</th>\n",
       "      <td>7.9</td>\n",
       "      <td>Medium</td>\n",
       "    </tr>\n",
       "    <tr>\n",
       "      <th>2</th>\n",
       "      <td>0.3</td>\n",
       "      <td>High</td>\n",
       "    </tr>\n",
       "    <tr>\n",
       "      <th>3</th>\n",
       "      <td>0.7</td>\n",
       "      <td>Medium</td>\n",
       "    </tr>\n",
       "    <tr>\n",
       "      <th>4</th>\n",
       "      <td>8.6</td>\n",
       "      <td>Medium</td>\n",
       "    </tr>\n",
       "  </tbody>\n",
       "</table>\n",
       "</div>"
      ],
      "text/plain": [
       "   Days Priority\n",
       "0   3.3     High\n",
       "1   7.9   Medium\n",
       "2   0.3     High\n",
       "3   0.7   Medium\n",
       "4   8.6   Medium"
      ]
     },
     "execution_count": 4,
     "metadata": {},
     "output_type": "execute_result"
    }
   ],
   "source": [
    "# Loading the data from the CSV file\n",
    "data= pd.read_csv(\"C:\\\\Users\\\\sujoydutta\\\\Desktop\\\\Data analysis\\\\Datasets for ML\\\\Hypothesis testing\\\\Priority_Assessment.csv\")\n",
    "data.head()"
   ]
  },
  {
   "cell_type": "code",
   "execution_count": 5,
   "id": "3ef4b310",
   "metadata": {},
   "outputs": [],
   "source": [
    "# Separating the data into high, medium, and low priority jobs\n",
    "high_priority = data[data['Priority'] == 'High']['Days']\n",
    "medium_priority = data[data['Priority'] == 'Medium']['Days']\n",
    "low_priority = data[data['Priority'] == 'Low']['Days']"
   ]
  },
  {
   "cell_type": "code",
   "execution_count": 6,
   "id": "ac9ace25",
   "metadata": {},
   "outputs": [],
   "source": [
    "# Performing ANOVA to compare the means\n",
    "f_statistic, p_value = stats.f_oneway(high_priority, medium_priority, low_priority)\n"
   ]
  },
  {
   "cell_type": "code",
   "execution_count": 7,
   "id": "8a511520",
   "metadata": {},
   "outputs": [
    {
     "name": "stdout",
     "output_type": "stream",
     "text": [
      "F-Statistic: 1.812311010076072\n",
      "P-Value: 0.16411459461716182\n",
      "There is no significant evidence that the prioritization system is effective in reducing completion times.\n"
     ]
    }
   ],
   "source": [
    "# Setting the significance level (alpha)\n",
    "alpha = 0.05\n",
    "\n",
    "# Printing the results\n",
    "print(\"F-Statistic:\", f_statistic)\n",
    "print(\"P-Value:\", p_value)\n",
    "\n",
    "if p_value < alpha:\n",
    "    print(\"There is evidence that the prioritization system is effective, with significant differences in completion times.\")\n",
    "else:\n",
    "    print(\"There is no significant evidence that the prioritization system is effective in reducing completion times.\")"
   ]
  },
  {
   "cell_type": "markdown",
   "id": "7c9402a3",
   "metadata": {},
   "source": [
    "*Remark: Since P value is higher than alpha level so we can say there is no reduction in completion time after prioritization system.*"
   ]
  }
 ],
 "metadata": {
  "kernelspec": {
   "display_name": "Python 3 (ipykernel)",
   "language": "python",
   "name": "python3"
  },
  "language_info": {
   "codemirror_mode": {
    "name": "ipython",
    "version": 3
   },
   "file_extension": ".py",
   "mimetype": "text/x-python",
   "name": "python",
   "nbconvert_exporter": "python",
   "pygments_lexer": "ipython3",
   "version": "3.9.12"
  }
 },
 "nbformat": 4,
 "nbformat_minor": 5
}
