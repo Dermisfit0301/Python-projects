{
 "cells": [
  {
   "cell_type": "markdown",
   "id": "3c8fbf52",
   "metadata": {},
   "source": [
    "# **Horse survival**\n",
    "\n",
    "By using the variables present in the dataset we are going to predict the survival of the horse. We are going to use the Decision Tree method for this purpose. "
   ]
  },
  {
   "cell_type": "markdown",
   "id": "6729dc14",
   "metadata": {},
   "source": [
    "**Step 1: Setting up the work environment**\n",
    "\n",
    "We are going to download the necessary packages for our work. We are going to view the dataset and check the datatypes."
   ]
  },
  {
   "cell_type": "code",
   "execution_count": 130,
   "id": "b3acae5c",
   "metadata": {},
   "outputs": [],
   "source": [
    "# import pandas as pd\n",
    "import numpy as np\n",
    "import matplotlib.pyplot as plt\n",
    "import os\n",
    "import math\n",
    "import scipy.stats as stats\n",
    "import pandas as pd\n",
    "import seaborn as sb\n",
    "import statsmodels.formula.api as smf\n",
    "import statsmodels.api as sm\n",
    "from scipy import stats\n",
    "from sklearn.metrics import mean_squared_error\n",
    "from sklearn.tree import DecisionTreeClassifier\n",
    "from sklearn.model_selection import train_test_split\n",
    "from sklearn.metrics import r2_score\n",
    "from sklearn.preprocessing import LabelEncoder\n",
    "from sklearn.impute import SimpleImputer\n",
    "from sklearn.preprocessing import StandardScaler\n",
    "from sklearn.ensemble import RandomForestClassifier\n",
    "from statsmodels.formula.api import ols\n",
    "from sklearn.metrics import classification_report\n",
    "from sklearn.metrics import accuracy_score, auc, balanced_accuracy_score, confusion_matrix, f1_score, precision_score, average_precision_score, roc_auc_score,  recall_score,  precision_recall_curve as skm\n",
    "import warnings\n",
    "warnings.filterwarnings(\"ignore\")"
   ]
  },
  {
   "cell_type": "code",
   "execution_count": 2,
   "id": "a2f3ea88",
   "metadata": {},
   "outputs": [
    {
     "data": {
      "text/html": [
       "<div>\n",
       "<style scoped>\n",
       "    .dataframe tbody tr th:only-of-type {\n",
       "        vertical-align: middle;\n",
       "    }\n",
       "\n",
       "    .dataframe tbody tr th {\n",
       "        vertical-align: top;\n",
       "    }\n",
       "\n",
       "    .dataframe thead th {\n",
       "        text-align: right;\n",
       "    }\n",
       "</style>\n",
       "<table border=\"1\" class=\"dataframe\">\n",
       "  <thead>\n",
       "    <tr style=\"text-align: right;\">\n",
       "      <th></th>\n",
       "      <th>surgery</th>\n",
       "      <th>age</th>\n",
       "      <th>hospital_number</th>\n",
       "      <th>rectal_temp</th>\n",
       "      <th>pulse</th>\n",
       "      <th>respiratory_rate</th>\n",
       "      <th>temp_of_extremities</th>\n",
       "      <th>peripheral_pulse</th>\n",
       "      <th>mucous_membrane</th>\n",
       "      <th>capillary_refill_time</th>\n",
       "      <th>...</th>\n",
       "      <th>packed_cell_volume</th>\n",
       "      <th>total_protein</th>\n",
       "      <th>abdomo_appearance</th>\n",
       "      <th>abdomo_protein</th>\n",
       "      <th>outcome</th>\n",
       "      <th>surgical_lesion</th>\n",
       "      <th>lesion_1</th>\n",
       "      <th>lesion_2</th>\n",
       "      <th>lesion_3</th>\n",
       "      <th>cp_data</th>\n",
       "    </tr>\n",
       "  </thead>\n",
       "  <tbody>\n",
       "    <tr>\n",
       "      <th>0</th>\n",
       "      <td>no</td>\n",
       "      <td>adult</td>\n",
       "      <td>530101</td>\n",
       "      <td>38.5</td>\n",
       "      <td>66.0</td>\n",
       "      <td>28.0</td>\n",
       "      <td>cool</td>\n",
       "      <td>reduced</td>\n",
       "      <td>NaN</td>\n",
       "      <td>more_3_sec</td>\n",
       "      <td>...</td>\n",
       "      <td>45.0</td>\n",
       "      <td>8.4</td>\n",
       "      <td>NaN</td>\n",
       "      <td>NaN</td>\n",
       "      <td>died</td>\n",
       "      <td>no</td>\n",
       "      <td>11300</td>\n",
       "      <td>0</td>\n",
       "      <td>0</td>\n",
       "      <td>no</td>\n",
       "    </tr>\n",
       "    <tr>\n",
       "      <th>1</th>\n",
       "      <td>yes</td>\n",
       "      <td>adult</td>\n",
       "      <td>534817</td>\n",
       "      <td>39.2</td>\n",
       "      <td>88.0</td>\n",
       "      <td>20.0</td>\n",
       "      <td>NaN</td>\n",
       "      <td>NaN</td>\n",
       "      <td>pale_cyanotic</td>\n",
       "      <td>less_3_sec</td>\n",
       "      <td>...</td>\n",
       "      <td>50.0</td>\n",
       "      <td>85.0</td>\n",
       "      <td>cloudy</td>\n",
       "      <td>2.0</td>\n",
       "      <td>euthanized</td>\n",
       "      <td>no</td>\n",
       "      <td>2208</td>\n",
       "      <td>0</td>\n",
       "      <td>0</td>\n",
       "      <td>no</td>\n",
       "    </tr>\n",
       "    <tr>\n",
       "      <th>2</th>\n",
       "      <td>no</td>\n",
       "      <td>adult</td>\n",
       "      <td>530334</td>\n",
       "      <td>38.3</td>\n",
       "      <td>40.0</td>\n",
       "      <td>24.0</td>\n",
       "      <td>normal</td>\n",
       "      <td>normal</td>\n",
       "      <td>pale_pink</td>\n",
       "      <td>less_3_sec</td>\n",
       "      <td>...</td>\n",
       "      <td>33.0</td>\n",
       "      <td>6.7</td>\n",
       "      <td>NaN</td>\n",
       "      <td>NaN</td>\n",
       "      <td>lived</td>\n",
       "      <td>no</td>\n",
       "      <td>0</td>\n",
       "      <td>0</td>\n",
       "      <td>0</td>\n",
       "      <td>yes</td>\n",
       "    </tr>\n",
       "    <tr>\n",
       "      <th>3</th>\n",
       "      <td>yes</td>\n",
       "      <td>young</td>\n",
       "      <td>5290409</td>\n",
       "      <td>39.1</td>\n",
       "      <td>164.0</td>\n",
       "      <td>84.0</td>\n",
       "      <td>cold</td>\n",
       "      <td>normal</td>\n",
       "      <td>dark_cyanotic</td>\n",
       "      <td>more_3_sec</td>\n",
       "      <td>...</td>\n",
       "      <td>48.0</td>\n",
       "      <td>7.2</td>\n",
       "      <td>serosanguious</td>\n",
       "      <td>5.3</td>\n",
       "      <td>died</td>\n",
       "      <td>yes</td>\n",
       "      <td>2208</td>\n",
       "      <td>0</td>\n",
       "      <td>0</td>\n",
       "      <td>yes</td>\n",
       "    </tr>\n",
       "    <tr>\n",
       "      <th>4</th>\n",
       "      <td>no</td>\n",
       "      <td>adult</td>\n",
       "      <td>530255</td>\n",
       "      <td>37.3</td>\n",
       "      <td>104.0</td>\n",
       "      <td>35.0</td>\n",
       "      <td>NaN</td>\n",
       "      <td>NaN</td>\n",
       "      <td>dark_cyanotic</td>\n",
       "      <td>more_3_sec</td>\n",
       "      <td>...</td>\n",
       "      <td>74.0</td>\n",
       "      <td>7.4</td>\n",
       "      <td>NaN</td>\n",
       "      <td>NaN</td>\n",
       "      <td>died</td>\n",
       "      <td>no</td>\n",
       "      <td>4300</td>\n",
       "      <td>0</td>\n",
       "      <td>0</td>\n",
       "      <td>no</td>\n",
       "    </tr>\n",
       "  </tbody>\n",
       "</table>\n",
       "<p>5 rows × 28 columns</p>\n",
       "</div>"
      ],
      "text/plain": [
       "  surgery    age  hospital_number  rectal_temp  pulse  respiratory_rate  \\\n",
       "0      no  adult           530101         38.5   66.0              28.0   \n",
       "1     yes  adult           534817         39.2   88.0              20.0   \n",
       "2      no  adult           530334         38.3   40.0              24.0   \n",
       "3     yes  young          5290409         39.1  164.0              84.0   \n",
       "4      no  adult           530255         37.3  104.0              35.0   \n",
       "\n",
       "  temp_of_extremities peripheral_pulse mucous_membrane capillary_refill_time  \\\n",
       "0                cool          reduced             NaN            more_3_sec   \n",
       "1                 NaN              NaN   pale_cyanotic            less_3_sec   \n",
       "2              normal           normal       pale_pink            less_3_sec   \n",
       "3                cold           normal   dark_cyanotic            more_3_sec   \n",
       "4                 NaN              NaN   dark_cyanotic            more_3_sec   \n",
       "\n",
       "   ... packed_cell_volume total_protein abdomo_appearance abdomo_protein  \\\n",
       "0  ...               45.0           8.4               NaN            NaN   \n",
       "1  ...               50.0          85.0            cloudy            2.0   \n",
       "2  ...               33.0           6.7               NaN            NaN   \n",
       "3  ...               48.0           7.2     serosanguious            5.3   \n",
       "4  ...               74.0           7.4               NaN            NaN   \n",
       "\n",
       "      outcome  surgical_lesion lesion_1 lesion_2  lesion_3  cp_data  \n",
       "0        died               no    11300        0         0       no  \n",
       "1  euthanized               no     2208        0         0       no  \n",
       "2       lived               no        0        0         0      yes  \n",
       "3        died              yes     2208        0         0      yes  \n",
       "4        died               no     4300        0         0       no  \n",
       "\n",
       "[5 rows x 28 columns]"
      ]
     },
     "execution_count": 2,
     "metadata": {},
     "output_type": "execute_result"
    }
   ],
   "source": [
    "#getting the dataset\n",
    "horsesrv=pd.read_csv(\"C:\\\\Users\\\\sujoydutta\\\\Desktop\\\\Data analysis\\\\Datasets\\\\horse.csv\")\n",
    "horsesrv.head()"
   ]
  },
  {
   "cell_type": "code",
   "execution_count": 3,
   "id": "9424ddaf",
   "metadata": {},
   "outputs": [
    {
     "data": {
      "text/plain": [
       "(299, 28)"
      ]
     },
     "execution_count": 3,
     "metadata": {},
     "output_type": "execute_result"
    }
   ],
   "source": [
    "#shape of the dataset\n",
    "horsesrv.shape"
   ]
  },
  {
   "cell_type": "code",
   "execution_count": 4,
   "id": "3e72cb01",
   "metadata": {},
   "outputs": [
    {
     "name": "stdout",
     "output_type": "stream",
     "text": [
      "<class 'pandas.core.frame.DataFrame'>\n",
      "RangeIndex: 299 entries, 0 to 298\n",
      "Data columns (total 28 columns):\n",
      " #   Column                 Non-Null Count  Dtype  \n",
      "---  ------                 --------------  -----  \n",
      " 0   surgery                299 non-null    object \n",
      " 1   age                    299 non-null    object \n",
      " 2   hospital_number        299 non-null    int64  \n",
      " 3   rectal_temp            239 non-null    float64\n",
      " 4   pulse                  275 non-null    float64\n",
      " 5   respiratory_rate       241 non-null    float64\n",
      " 6   temp_of_extremities    243 non-null    object \n",
      " 7   peripheral_pulse       230 non-null    object \n",
      " 8   mucous_membrane        252 non-null    object \n",
      " 9   capillary_refill_time  267 non-null    object \n",
      " 10  pain                   244 non-null    object \n",
      " 11  peristalsis            255 non-null    object \n",
      " 12  abdominal_distention   243 non-null    object \n",
      " 13  nasogastric_tube       195 non-null    object \n",
      " 14  nasogastric_reflux     193 non-null    object \n",
      " 15  nasogastric_reflux_ph  53 non-null     float64\n",
      " 16  rectal_exam_feces      197 non-null    object \n",
      " 17  abdomen                181 non-null    object \n",
      " 18  packed_cell_volume     270 non-null    float64\n",
      " 19  total_protein          266 non-null    float64\n",
      " 20  abdomo_appearance      134 non-null    object \n",
      " 21  abdomo_protein         101 non-null    float64\n",
      " 22  outcome                299 non-null    object \n",
      " 23  surgical_lesion        299 non-null    object \n",
      " 24  lesion_1               299 non-null    int64  \n",
      " 25  lesion_2               299 non-null    int64  \n",
      " 26  lesion_3               299 non-null    int64  \n",
      " 27  cp_data                299 non-null    object \n",
      "dtypes: float64(7), int64(4), object(17)\n",
      "memory usage: 65.5+ KB\n"
     ]
    }
   ],
   "source": [
    "#dataset info\n",
    "horsesrv.info()"
   ]
  },
  {
   "cell_type": "code",
   "execution_count": 5,
   "id": "106a48c5",
   "metadata": {},
   "outputs": [
    {
     "data": {
      "text/plain": [
       "surgery                    0\n",
       "age                        0\n",
       "hospital_number            0\n",
       "rectal_temp               60\n",
       "pulse                     24\n",
       "respiratory_rate          58\n",
       "temp_of_extremities       56\n",
       "peripheral_pulse          69\n",
       "mucous_membrane           47\n",
       "capillary_refill_time     32\n",
       "pain                      55\n",
       "peristalsis               44\n",
       "abdominal_distention      56\n",
       "nasogastric_tube         104\n",
       "nasogastric_reflux       106\n",
       "nasogastric_reflux_ph    246\n",
       "rectal_exam_feces        102\n",
       "abdomen                  118\n",
       "packed_cell_volume        29\n",
       "total_protein             33\n",
       "abdomo_appearance        165\n",
       "abdomo_protein           198\n",
       "outcome                    0\n",
       "surgical_lesion            0\n",
       "lesion_1                   0\n",
       "lesion_2                   0\n",
       "lesion_3                   0\n",
       "cp_data                    0\n",
       "dtype: int64"
      ]
     },
     "execution_count": 5,
     "metadata": {},
     "output_type": "execute_result"
    }
   ],
   "source": [
    "#seeing null values\n",
    "horsesrv.isnull().sum()"
   ]
  },
  {
   "cell_type": "markdown",
   "id": "9dd936d7",
   "metadata": {},
   "source": [
    "**Step 2: Data cleaning**\n",
    "\n",
    "In this step, we are going to clean our dataset. We are going to look for null values and replace them with mean and mode. We are going to modify some variables if it is necessary and change datatypes for better analysis. We will also remove outliers from the dataset. Outliers hamper the machine learning algorithms and hence they have to be removed."
   ]
  },
  {
   "cell_type": "code",
   "execution_count": 6,
   "id": "9790d7e8",
   "metadata": {},
   "outputs": [
    {
     "name": "stdout",
     "output_type": "stream",
     "text": [
      "<class 'pandas.core.frame.DataFrame'>\n",
      "RangeIndex: 299 entries, 0 to 298\n",
      "Data columns (total 28 columns):\n",
      " #   Column                 Non-Null Count  Dtype  \n",
      "---  ------                 --------------  -----  \n",
      " 0   surgery                299 non-null    object \n",
      " 1   age                    299 non-null    object \n",
      " 2   hospital_number        299 non-null    int64  \n",
      " 3   rectal_temp            239 non-null    float64\n",
      " 4   pulse                  275 non-null    float64\n",
      " 5   respiratory_rate       241 non-null    float64\n",
      " 6   temp_of_extremities    243 non-null    object \n",
      " 7   peripheral_pulse       230 non-null    object \n",
      " 8   mucous_membrane        252 non-null    object \n",
      " 9   capillary_refill_time  267 non-null    object \n",
      " 10  pain                   244 non-null    object \n",
      " 11  peristalsis            255 non-null    object \n",
      " 12  abdominal_distention   243 non-null    object \n",
      " 13  nasogastric_tube       195 non-null    object \n",
      " 14  nasogastric_reflux     193 non-null    object \n",
      " 15  nasogastric_reflux_ph  53 non-null     float64\n",
      " 16  rectal_exam_feces      197 non-null    object \n",
      " 17  abdomen                181 non-null    object \n",
      " 18  packed_cell_volume     270 non-null    float64\n",
      " 19  total_protein          266 non-null    float64\n",
      " 20  abdomo_appearance      134 non-null    object \n",
      " 21  abdomo_protein         101 non-null    float64\n",
      " 22  outcome                299 non-null    object \n",
      " 23  surgical_lesion        299 non-null    object \n",
      " 24  lesion_1               299 non-null    int64  \n",
      " 25  lesion_2               299 non-null    int64  \n",
      " 26  lesion_3               299 non-null    int64  \n",
      " 27  cp_data                299 non-null    object \n",
      "dtypes: float64(7), int64(4), object(17)\n",
      "memory usage: 65.5+ KB\n",
      "None\n"
     ]
    }
   ],
   "source": [
    "#replacing missing values with nan(Not a number) that makes things simpler for python\n",
    "horsesrv.replace(\"?\",np.nan,inplace = True)\n",
    "print(horsesrv.info())"
   ]
  },
  {
   "cell_type": "code",
   "execution_count": 7,
   "id": "1986d83c",
   "metadata": {},
   "outputs": [
    {
     "data": {
      "text/html": [
       "<div>\n",
       "<style scoped>\n",
       "    .dataframe tbody tr th:only-of-type {\n",
       "        vertical-align: middle;\n",
       "    }\n",
       "\n",
       "    .dataframe tbody tr th {\n",
       "        vertical-align: top;\n",
       "    }\n",
       "\n",
       "    .dataframe thead th {\n",
       "        text-align: right;\n",
       "    }\n",
       "</style>\n",
       "<table border=\"1\" class=\"dataframe\">\n",
       "  <thead>\n",
       "    <tr style=\"text-align: right;\">\n",
       "      <th></th>\n",
       "      <th>surgery</th>\n",
       "      <th>age</th>\n",
       "      <th>hospital_number</th>\n",
       "      <th>rectal_temp</th>\n",
       "      <th>pulse</th>\n",
       "      <th>respiratory_rate</th>\n",
       "      <th>temp_of_extremities</th>\n",
       "      <th>peripheral_pulse</th>\n",
       "      <th>mucous_membrane</th>\n",
       "      <th>capillary_refill_time</th>\n",
       "      <th>...</th>\n",
       "      <th>packed_cell_volume</th>\n",
       "      <th>total_protein</th>\n",
       "      <th>abdomo_appearance</th>\n",
       "      <th>abdomo_protein</th>\n",
       "      <th>outcome</th>\n",
       "      <th>surgical_lesion</th>\n",
       "      <th>lesion_1</th>\n",
       "      <th>lesion_2</th>\n",
       "      <th>lesion_3</th>\n",
       "      <th>cp_data</th>\n",
       "    </tr>\n",
       "  </thead>\n",
       "  <tbody>\n",
       "    <tr>\n",
       "      <th>0</th>\n",
       "      <td>False</td>\n",
       "      <td>False</td>\n",
       "      <td>False</td>\n",
       "      <td>False</td>\n",
       "      <td>False</td>\n",
       "      <td>False</td>\n",
       "      <td>False</td>\n",
       "      <td>False</td>\n",
       "      <td>True</td>\n",
       "      <td>False</td>\n",
       "      <td>...</td>\n",
       "      <td>False</td>\n",
       "      <td>False</td>\n",
       "      <td>True</td>\n",
       "      <td>True</td>\n",
       "      <td>False</td>\n",
       "      <td>False</td>\n",
       "      <td>False</td>\n",
       "      <td>False</td>\n",
       "      <td>False</td>\n",
       "      <td>False</td>\n",
       "    </tr>\n",
       "    <tr>\n",
       "      <th>1</th>\n",
       "      <td>False</td>\n",
       "      <td>False</td>\n",
       "      <td>False</td>\n",
       "      <td>False</td>\n",
       "      <td>False</td>\n",
       "      <td>False</td>\n",
       "      <td>True</td>\n",
       "      <td>True</td>\n",
       "      <td>False</td>\n",
       "      <td>False</td>\n",
       "      <td>...</td>\n",
       "      <td>False</td>\n",
       "      <td>False</td>\n",
       "      <td>False</td>\n",
       "      <td>False</td>\n",
       "      <td>False</td>\n",
       "      <td>False</td>\n",
       "      <td>False</td>\n",
       "      <td>False</td>\n",
       "      <td>False</td>\n",
       "      <td>False</td>\n",
       "    </tr>\n",
       "    <tr>\n",
       "      <th>2</th>\n",
       "      <td>False</td>\n",
       "      <td>False</td>\n",
       "      <td>False</td>\n",
       "      <td>False</td>\n",
       "      <td>False</td>\n",
       "      <td>False</td>\n",
       "      <td>False</td>\n",
       "      <td>False</td>\n",
       "      <td>False</td>\n",
       "      <td>False</td>\n",
       "      <td>...</td>\n",
       "      <td>False</td>\n",
       "      <td>False</td>\n",
       "      <td>True</td>\n",
       "      <td>True</td>\n",
       "      <td>False</td>\n",
       "      <td>False</td>\n",
       "      <td>False</td>\n",
       "      <td>False</td>\n",
       "      <td>False</td>\n",
       "      <td>False</td>\n",
       "    </tr>\n",
       "    <tr>\n",
       "      <th>3</th>\n",
       "      <td>False</td>\n",
       "      <td>False</td>\n",
       "      <td>False</td>\n",
       "      <td>False</td>\n",
       "      <td>False</td>\n",
       "      <td>False</td>\n",
       "      <td>False</td>\n",
       "      <td>False</td>\n",
       "      <td>False</td>\n",
       "      <td>False</td>\n",
       "      <td>...</td>\n",
       "      <td>False</td>\n",
       "      <td>False</td>\n",
       "      <td>False</td>\n",
       "      <td>False</td>\n",
       "      <td>False</td>\n",
       "      <td>False</td>\n",
       "      <td>False</td>\n",
       "      <td>False</td>\n",
       "      <td>False</td>\n",
       "      <td>False</td>\n",
       "    </tr>\n",
       "    <tr>\n",
       "      <th>4</th>\n",
       "      <td>False</td>\n",
       "      <td>False</td>\n",
       "      <td>False</td>\n",
       "      <td>False</td>\n",
       "      <td>False</td>\n",
       "      <td>False</td>\n",
       "      <td>True</td>\n",
       "      <td>True</td>\n",
       "      <td>False</td>\n",
       "      <td>False</td>\n",
       "      <td>...</td>\n",
       "      <td>False</td>\n",
       "      <td>False</td>\n",
       "      <td>True</td>\n",
       "      <td>True</td>\n",
       "      <td>False</td>\n",
       "      <td>False</td>\n",
       "      <td>False</td>\n",
       "      <td>False</td>\n",
       "      <td>False</td>\n",
       "      <td>False</td>\n",
       "    </tr>\n",
       "    <tr>\n",
       "      <th>...</th>\n",
       "      <td>...</td>\n",
       "      <td>...</td>\n",
       "      <td>...</td>\n",
       "      <td>...</td>\n",
       "      <td>...</td>\n",
       "      <td>...</td>\n",
       "      <td>...</td>\n",
       "      <td>...</td>\n",
       "      <td>...</td>\n",
       "      <td>...</td>\n",
       "      <td>...</td>\n",
       "      <td>...</td>\n",
       "      <td>...</td>\n",
       "      <td>...</td>\n",
       "      <td>...</td>\n",
       "      <td>...</td>\n",
       "      <td>...</td>\n",
       "      <td>...</td>\n",
       "      <td>...</td>\n",
       "      <td>...</td>\n",
       "      <td>...</td>\n",
       "    </tr>\n",
       "    <tr>\n",
       "      <th>294</th>\n",
       "      <td>False</td>\n",
       "      <td>False</td>\n",
       "      <td>False</td>\n",
       "      <td>True</td>\n",
       "      <td>False</td>\n",
       "      <td>False</td>\n",
       "      <td>False</td>\n",
       "      <td>True</td>\n",
       "      <td>False</td>\n",
       "      <td>False</td>\n",
       "      <td>...</td>\n",
       "      <td>False</td>\n",
       "      <td>False</td>\n",
       "      <td>True</td>\n",
       "      <td>True</td>\n",
       "      <td>False</td>\n",
       "      <td>False</td>\n",
       "      <td>False</td>\n",
       "      <td>False</td>\n",
       "      <td>False</td>\n",
       "      <td>False</td>\n",
       "    </tr>\n",
       "    <tr>\n",
       "      <th>295</th>\n",
       "      <td>False</td>\n",
       "      <td>False</td>\n",
       "      <td>False</td>\n",
       "      <td>False</td>\n",
       "      <td>False</td>\n",
       "      <td>False</td>\n",
       "      <td>False</td>\n",
       "      <td>False</td>\n",
       "      <td>False</td>\n",
       "      <td>False</td>\n",
       "      <td>...</td>\n",
       "      <td>False</td>\n",
       "      <td>True</td>\n",
       "      <td>False</td>\n",
       "      <td>False</td>\n",
       "      <td>False</td>\n",
       "      <td>False</td>\n",
       "      <td>False</td>\n",
       "      <td>False</td>\n",
       "      <td>False</td>\n",
       "      <td>False</td>\n",
       "    </tr>\n",
       "    <tr>\n",
       "      <th>296</th>\n",
       "      <td>False</td>\n",
       "      <td>False</td>\n",
       "      <td>False</td>\n",
       "      <td>False</td>\n",
       "      <td>False</td>\n",
       "      <td>False</td>\n",
       "      <td>False</td>\n",
       "      <td>False</td>\n",
       "      <td>False</td>\n",
       "      <td>False</td>\n",
       "      <td>...</td>\n",
       "      <td>False</td>\n",
       "      <td>False</td>\n",
       "      <td>True</td>\n",
       "      <td>True</td>\n",
       "      <td>False</td>\n",
       "      <td>False</td>\n",
       "      <td>False</td>\n",
       "      <td>False</td>\n",
       "      <td>False</td>\n",
       "      <td>False</td>\n",
       "    </tr>\n",
       "    <tr>\n",
       "      <th>297</th>\n",
       "      <td>False</td>\n",
       "      <td>False</td>\n",
       "      <td>False</td>\n",
       "      <td>False</td>\n",
       "      <td>False</td>\n",
       "      <td>False</td>\n",
       "      <td>False</td>\n",
       "      <td>False</td>\n",
       "      <td>False</td>\n",
       "      <td>False</td>\n",
       "      <td>...</td>\n",
       "      <td>False</td>\n",
       "      <td>False</td>\n",
       "      <td>False</td>\n",
       "      <td>False</td>\n",
       "      <td>False</td>\n",
       "      <td>False</td>\n",
       "      <td>False</td>\n",
       "      <td>False</td>\n",
       "      <td>False</td>\n",
       "      <td>False</td>\n",
       "    </tr>\n",
       "    <tr>\n",
       "      <th>298</th>\n",
       "      <td>False</td>\n",
       "      <td>False</td>\n",
       "      <td>False</td>\n",
       "      <td>False</td>\n",
       "      <td>False</td>\n",
       "      <td>False</td>\n",
       "      <td>True</td>\n",
       "      <td>True</td>\n",
       "      <td>True</td>\n",
       "      <td>True</td>\n",
       "      <td>...</td>\n",
       "      <td>False</td>\n",
       "      <td>False</td>\n",
       "      <td>False</td>\n",
       "      <td>False</td>\n",
       "      <td>False</td>\n",
       "      <td>False</td>\n",
       "      <td>False</td>\n",
       "      <td>False</td>\n",
       "      <td>False</td>\n",
       "      <td>False</td>\n",
       "    </tr>\n",
       "  </tbody>\n",
       "</table>\n",
       "<p>299 rows × 28 columns</p>\n",
       "</div>"
      ],
      "text/plain": [
       "     surgery    age  hospital_number  rectal_temp  pulse  respiratory_rate  \\\n",
       "0      False  False            False        False  False             False   \n",
       "1      False  False            False        False  False             False   \n",
       "2      False  False            False        False  False             False   \n",
       "3      False  False            False        False  False             False   \n",
       "4      False  False            False        False  False             False   \n",
       "..       ...    ...              ...          ...    ...               ...   \n",
       "294    False  False            False         True  False             False   \n",
       "295    False  False            False        False  False             False   \n",
       "296    False  False            False        False  False             False   \n",
       "297    False  False            False        False  False             False   \n",
       "298    False  False            False        False  False             False   \n",
       "\n",
       "     temp_of_extremities  peripheral_pulse  mucous_membrane  \\\n",
       "0                  False             False             True   \n",
       "1                   True              True            False   \n",
       "2                  False             False            False   \n",
       "3                  False             False            False   \n",
       "4                   True              True            False   \n",
       "..                   ...               ...              ...   \n",
       "294                False              True            False   \n",
       "295                False             False            False   \n",
       "296                False             False            False   \n",
       "297                False             False            False   \n",
       "298                 True              True             True   \n",
       "\n",
       "     capillary_refill_time  ...  packed_cell_volume  total_protein  \\\n",
       "0                    False  ...               False          False   \n",
       "1                    False  ...               False          False   \n",
       "2                    False  ...               False          False   \n",
       "3                    False  ...               False          False   \n",
       "4                    False  ...               False          False   \n",
       "..                     ...  ...                 ...            ...   \n",
       "294                  False  ...               False          False   \n",
       "295                  False  ...               False           True   \n",
       "296                  False  ...               False          False   \n",
       "297                  False  ...               False          False   \n",
       "298                   True  ...               False          False   \n",
       "\n",
       "     abdomo_appearance  abdomo_protein  outcome  surgical_lesion  lesion_1  \\\n",
       "0                 True            True    False            False     False   \n",
       "1                False           False    False            False     False   \n",
       "2                 True            True    False            False     False   \n",
       "3                False           False    False            False     False   \n",
       "4                 True            True    False            False     False   \n",
       "..                 ...             ...      ...              ...       ...   \n",
       "294               True            True    False            False     False   \n",
       "295              False           False    False            False     False   \n",
       "296               True            True    False            False     False   \n",
       "297              False           False    False            False     False   \n",
       "298              False           False    False            False     False   \n",
       "\n",
       "     lesion_2  lesion_3  cp_data  \n",
       "0       False     False    False  \n",
       "1       False     False    False  \n",
       "2       False     False    False  \n",
       "3       False     False    False  \n",
       "4       False     False    False  \n",
       "..        ...       ...      ...  \n",
       "294     False     False    False  \n",
       "295     False     False    False  \n",
       "296     False     False    False  \n",
       "297     False     False    False  \n",
       "298     False     False    False  \n",
       "\n",
       "[299 rows x 28 columns]"
      ]
     },
     "execution_count": 7,
     "metadata": {},
     "output_type": "execute_result"
    }
   ],
   "source": [
    "#seeing the missing data\n",
    "missing_data=horsesrv.isnull()\n",
    "missing_data"
   ]
  },
  {
   "cell_type": "code",
   "execution_count": 8,
   "id": "698b0528",
   "metadata": {},
   "outputs": [
    {
     "name": "stdout",
     "output_type": "stream",
     "text": [
      "surgery False    299\n",
      "Name: surgery, dtype: int64\n",
      "\n",
      "age False    299\n",
      "Name: age, dtype: int64\n",
      "\n",
      "hospital_number False    299\n",
      "Name: hospital_number, dtype: int64\n",
      "\n",
      "rectal_temp False    239\n",
      "True      60\n",
      "Name: rectal_temp, dtype: int64\n",
      "\n",
      "pulse False    275\n",
      "True      24\n",
      "Name: pulse, dtype: int64\n",
      "\n",
      "respiratory_rate False    241\n",
      "True      58\n",
      "Name: respiratory_rate, dtype: int64\n",
      "\n",
      "temp_of_extremities False    243\n",
      "True      56\n",
      "Name: temp_of_extremities, dtype: int64\n",
      "\n",
      "peripheral_pulse False    230\n",
      "True      69\n",
      "Name: peripheral_pulse, dtype: int64\n",
      "\n",
      "mucous_membrane False    252\n",
      "True      47\n",
      "Name: mucous_membrane, dtype: int64\n",
      "\n",
      "capillary_refill_time False    267\n",
      "True      32\n",
      "Name: capillary_refill_time, dtype: int64\n",
      "\n",
      "pain False    244\n",
      "True      55\n",
      "Name: pain, dtype: int64\n",
      "\n",
      "peristalsis False    255\n",
      "True      44\n",
      "Name: peristalsis, dtype: int64\n",
      "\n",
      "abdominal_distention False    243\n",
      "True      56\n",
      "Name: abdominal_distention, dtype: int64\n",
      "\n",
      "nasogastric_tube False    195\n",
      "True     104\n",
      "Name: nasogastric_tube, dtype: int64\n",
      "\n",
      "nasogastric_reflux False    193\n",
      "True     106\n",
      "Name: nasogastric_reflux, dtype: int64\n",
      "\n",
      "nasogastric_reflux_ph True     246\n",
      "False     53\n",
      "Name: nasogastric_reflux_ph, dtype: int64\n",
      "\n",
      "rectal_exam_feces False    197\n",
      "True     102\n",
      "Name: rectal_exam_feces, dtype: int64\n",
      "\n",
      "abdomen False    181\n",
      "True     118\n",
      "Name: abdomen, dtype: int64\n",
      "\n",
      "packed_cell_volume False    270\n",
      "True      29\n",
      "Name: packed_cell_volume, dtype: int64\n",
      "\n",
      "total_protein False    266\n",
      "True      33\n",
      "Name: total_protein, dtype: int64\n",
      "\n",
      "abdomo_appearance True     165\n",
      "False    134\n",
      "Name: abdomo_appearance, dtype: int64\n",
      "\n",
      "abdomo_protein True     198\n",
      "False    101\n",
      "Name: abdomo_protein, dtype: int64\n",
      "\n",
      "outcome False    299\n",
      "Name: outcome, dtype: int64\n",
      "\n",
      "surgical_lesion False    299\n",
      "Name: surgical_lesion, dtype: int64\n",
      "\n",
      "lesion_1 False    299\n",
      "Name: lesion_1, dtype: int64\n",
      "\n",
      "lesion_2 False    299\n",
      "Name: lesion_2, dtype: int64\n",
      "\n",
      "lesion_3 False    299\n",
      "Name: lesion_3, dtype: int64\n",
      "\n",
      "cp_data False    299\n",
      "Name: cp_data, dtype: int64\n",
      "\n"
     ]
    }
   ],
   "source": [
    "#let us see the number of missing values in each column\n",
    "for column in missing_data.columns.values.tolist():\n",
    "  print(column,missing_data[column].value_counts())\n",
    "  print(\"\")"
   ]
  },
  {
   "cell_type": "code",
   "execution_count": 9,
   "id": "ef3fd1d5",
   "metadata": {},
   "outputs": [
    {
     "data": {
      "text/html": [
       "<div>\n",
       "<style scoped>\n",
       "    .dataframe tbody tr th:only-of-type {\n",
       "        vertical-align: middle;\n",
       "    }\n",
       "\n",
       "    .dataframe tbody tr th {\n",
       "        vertical-align: top;\n",
       "    }\n",
       "\n",
       "    .dataframe thead th {\n",
       "        text-align: right;\n",
       "    }\n",
       "</style>\n",
       "<table border=\"1\" class=\"dataframe\">\n",
       "  <thead>\n",
       "    <tr style=\"text-align: right;\">\n",
       "      <th></th>\n",
       "      <th>surgery</th>\n",
       "      <th>age</th>\n",
       "      <th>hospital_number</th>\n",
       "      <th>rectal_temp</th>\n",
       "      <th>pulse</th>\n",
       "      <th>respiratory_rate</th>\n",
       "      <th>temp_of_extremities</th>\n",
       "      <th>peripheral_pulse</th>\n",
       "      <th>mucous_membrane</th>\n",
       "      <th>capillary_refill_time</th>\n",
       "      <th>...</th>\n",
       "      <th>abdomen</th>\n",
       "      <th>packed_cell_volume</th>\n",
       "      <th>total_protein</th>\n",
       "      <th>abdomo_appearance</th>\n",
       "      <th>outcome</th>\n",
       "      <th>surgical_lesion</th>\n",
       "      <th>lesion_1</th>\n",
       "      <th>lesion_2</th>\n",
       "      <th>lesion_3</th>\n",
       "      <th>cp_data</th>\n",
       "    </tr>\n",
       "  </thead>\n",
       "  <tbody>\n",
       "    <tr>\n",
       "      <th>0</th>\n",
       "      <td>no</td>\n",
       "      <td>adult</td>\n",
       "      <td>530101</td>\n",
       "      <td>38.5</td>\n",
       "      <td>66.0</td>\n",
       "      <td>28.0</td>\n",
       "      <td>cool</td>\n",
       "      <td>reduced</td>\n",
       "      <td>NaN</td>\n",
       "      <td>more_3_sec</td>\n",
       "      <td>...</td>\n",
       "      <td>distend_large</td>\n",
       "      <td>45.0</td>\n",
       "      <td>8.4</td>\n",
       "      <td>NaN</td>\n",
       "      <td>died</td>\n",
       "      <td>no</td>\n",
       "      <td>11300</td>\n",
       "      <td>0</td>\n",
       "      <td>0</td>\n",
       "      <td>no</td>\n",
       "    </tr>\n",
       "    <tr>\n",
       "      <th>1</th>\n",
       "      <td>yes</td>\n",
       "      <td>adult</td>\n",
       "      <td>534817</td>\n",
       "      <td>39.2</td>\n",
       "      <td>88.0</td>\n",
       "      <td>20.0</td>\n",
       "      <td>NaN</td>\n",
       "      <td>NaN</td>\n",
       "      <td>pale_cyanotic</td>\n",
       "      <td>less_3_sec</td>\n",
       "      <td>...</td>\n",
       "      <td>other</td>\n",
       "      <td>50.0</td>\n",
       "      <td>85.0</td>\n",
       "      <td>cloudy</td>\n",
       "      <td>euthanized</td>\n",
       "      <td>no</td>\n",
       "      <td>2208</td>\n",
       "      <td>0</td>\n",
       "      <td>0</td>\n",
       "      <td>no</td>\n",
       "    </tr>\n",
       "    <tr>\n",
       "      <th>2</th>\n",
       "      <td>no</td>\n",
       "      <td>adult</td>\n",
       "      <td>530334</td>\n",
       "      <td>38.3</td>\n",
       "      <td>40.0</td>\n",
       "      <td>24.0</td>\n",
       "      <td>normal</td>\n",
       "      <td>normal</td>\n",
       "      <td>pale_pink</td>\n",
       "      <td>less_3_sec</td>\n",
       "      <td>...</td>\n",
       "      <td>normal</td>\n",
       "      <td>33.0</td>\n",
       "      <td>6.7</td>\n",
       "      <td>NaN</td>\n",
       "      <td>lived</td>\n",
       "      <td>no</td>\n",
       "      <td>0</td>\n",
       "      <td>0</td>\n",
       "      <td>0</td>\n",
       "      <td>yes</td>\n",
       "    </tr>\n",
       "    <tr>\n",
       "      <th>3</th>\n",
       "      <td>yes</td>\n",
       "      <td>young</td>\n",
       "      <td>5290409</td>\n",
       "      <td>39.1</td>\n",
       "      <td>164.0</td>\n",
       "      <td>84.0</td>\n",
       "      <td>cold</td>\n",
       "      <td>normal</td>\n",
       "      <td>dark_cyanotic</td>\n",
       "      <td>more_3_sec</td>\n",
       "      <td>...</td>\n",
       "      <td>NaN</td>\n",
       "      <td>48.0</td>\n",
       "      <td>7.2</td>\n",
       "      <td>serosanguious</td>\n",
       "      <td>died</td>\n",
       "      <td>yes</td>\n",
       "      <td>2208</td>\n",
       "      <td>0</td>\n",
       "      <td>0</td>\n",
       "      <td>yes</td>\n",
       "    </tr>\n",
       "    <tr>\n",
       "      <th>4</th>\n",
       "      <td>no</td>\n",
       "      <td>adult</td>\n",
       "      <td>530255</td>\n",
       "      <td>37.3</td>\n",
       "      <td>104.0</td>\n",
       "      <td>35.0</td>\n",
       "      <td>NaN</td>\n",
       "      <td>NaN</td>\n",
       "      <td>dark_cyanotic</td>\n",
       "      <td>more_3_sec</td>\n",
       "      <td>...</td>\n",
       "      <td>NaN</td>\n",
       "      <td>74.0</td>\n",
       "      <td>7.4</td>\n",
       "      <td>NaN</td>\n",
       "      <td>died</td>\n",
       "      <td>no</td>\n",
       "      <td>4300</td>\n",
       "      <td>0</td>\n",
       "      <td>0</td>\n",
       "      <td>no</td>\n",
       "    </tr>\n",
       "    <tr>\n",
       "      <th>...</th>\n",
       "      <td>...</td>\n",
       "      <td>...</td>\n",
       "      <td>...</td>\n",
       "      <td>...</td>\n",
       "      <td>...</td>\n",
       "      <td>...</td>\n",
       "      <td>...</td>\n",
       "      <td>...</td>\n",
       "      <td>...</td>\n",
       "      <td>...</td>\n",
       "      <td>...</td>\n",
       "      <td>...</td>\n",
       "      <td>...</td>\n",
       "      <td>...</td>\n",
       "      <td>...</td>\n",
       "      <td>...</td>\n",
       "      <td>...</td>\n",
       "      <td>...</td>\n",
       "      <td>...</td>\n",
       "      <td>...</td>\n",
       "      <td>...</td>\n",
       "    </tr>\n",
       "    <tr>\n",
       "      <th>294</th>\n",
       "      <td>yes</td>\n",
       "      <td>adult</td>\n",
       "      <td>533886</td>\n",
       "      <td>NaN</td>\n",
       "      <td>120.0</td>\n",
       "      <td>70.0</td>\n",
       "      <td>cold</td>\n",
       "      <td>NaN</td>\n",
       "      <td>pale_cyanotic</td>\n",
       "      <td>more_3_sec</td>\n",
       "      <td>...</td>\n",
       "      <td>distend_large</td>\n",
       "      <td>55.0</td>\n",
       "      <td>65.0</td>\n",
       "      <td>NaN</td>\n",
       "      <td>euthanized</td>\n",
       "      <td>no</td>\n",
       "      <td>3205</td>\n",
       "      <td>0</td>\n",
       "      <td>0</td>\n",
       "      <td>no</td>\n",
       "    </tr>\n",
       "    <tr>\n",
       "      <th>295</th>\n",
       "      <td>no</td>\n",
       "      <td>adult</td>\n",
       "      <td>527702</td>\n",
       "      <td>37.2</td>\n",
       "      <td>72.0</td>\n",
       "      <td>24.0</td>\n",
       "      <td>cool</td>\n",
       "      <td>increased</td>\n",
       "      <td>pale_cyanotic</td>\n",
       "      <td>more_3_sec</td>\n",
       "      <td>...</td>\n",
       "      <td>distend_small</td>\n",
       "      <td>44.0</td>\n",
       "      <td>NaN</td>\n",
       "      <td>serosanguious</td>\n",
       "      <td>euthanized</td>\n",
       "      <td>yes</td>\n",
       "      <td>2208</td>\n",
       "      <td>0</td>\n",
       "      <td>0</td>\n",
       "      <td>yes</td>\n",
       "    </tr>\n",
       "    <tr>\n",
       "      <th>296</th>\n",
       "      <td>yes</td>\n",
       "      <td>adult</td>\n",
       "      <td>529386</td>\n",
       "      <td>37.5</td>\n",
       "      <td>72.0</td>\n",
       "      <td>30.0</td>\n",
       "      <td>cold</td>\n",
       "      <td>reduced</td>\n",
       "      <td>pale_cyanotic</td>\n",
       "      <td>less_3_sec</td>\n",
       "      <td>...</td>\n",
       "      <td>distend_large</td>\n",
       "      <td>60.0</td>\n",
       "      <td>6.8</td>\n",
       "      <td>NaN</td>\n",
       "      <td>died</td>\n",
       "      <td>yes</td>\n",
       "      <td>3205</td>\n",
       "      <td>0</td>\n",
       "      <td>0</td>\n",
       "      <td>no</td>\n",
       "    </tr>\n",
       "    <tr>\n",
       "      <th>297</th>\n",
       "      <td>yes</td>\n",
       "      <td>adult</td>\n",
       "      <td>530612</td>\n",
       "      <td>36.5</td>\n",
       "      <td>100.0</td>\n",
       "      <td>24.0</td>\n",
       "      <td>cool</td>\n",
       "      <td>reduced</td>\n",
       "      <td>pale_pink</td>\n",
       "      <td>less_3_sec</td>\n",
       "      <td>...</td>\n",
       "      <td>distend_small</td>\n",
       "      <td>50.0</td>\n",
       "      <td>6.0</td>\n",
       "      <td>serosanguious</td>\n",
       "      <td>lived</td>\n",
       "      <td>yes</td>\n",
       "      <td>2208</td>\n",
       "      <td>0</td>\n",
       "      <td>0</td>\n",
       "      <td>yes</td>\n",
       "    </tr>\n",
       "    <tr>\n",
       "      <th>298</th>\n",
       "      <td>yes</td>\n",
       "      <td>adult</td>\n",
       "      <td>534618</td>\n",
       "      <td>37.2</td>\n",
       "      <td>40.0</td>\n",
       "      <td>20.0</td>\n",
       "      <td>NaN</td>\n",
       "      <td>NaN</td>\n",
       "      <td>NaN</td>\n",
       "      <td>NaN</td>\n",
       "      <td>...</td>\n",
       "      <td>normal</td>\n",
       "      <td>36.0</td>\n",
       "      <td>62.0</td>\n",
       "      <td>clear</td>\n",
       "      <td>euthanized</td>\n",
       "      <td>no</td>\n",
       "      <td>6112</td>\n",
       "      <td>0</td>\n",
       "      <td>0</td>\n",
       "      <td>no</td>\n",
       "    </tr>\n",
       "  </tbody>\n",
       "</table>\n",
       "<p>299 rows × 26 columns</p>\n",
       "</div>"
      ],
      "text/plain": [
       "    surgery    age  hospital_number  rectal_temp  pulse  respiratory_rate  \\\n",
       "0        no  adult           530101         38.5   66.0              28.0   \n",
       "1       yes  adult           534817         39.2   88.0              20.0   \n",
       "2        no  adult           530334         38.3   40.0              24.0   \n",
       "3       yes  young          5290409         39.1  164.0              84.0   \n",
       "4        no  adult           530255         37.3  104.0              35.0   \n",
       "..      ...    ...              ...          ...    ...               ...   \n",
       "294     yes  adult           533886          NaN  120.0              70.0   \n",
       "295      no  adult           527702         37.2   72.0              24.0   \n",
       "296     yes  adult           529386         37.5   72.0              30.0   \n",
       "297     yes  adult           530612         36.5  100.0              24.0   \n",
       "298     yes  adult           534618         37.2   40.0              20.0   \n",
       "\n",
       "    temp_of_extremities peripheral_pulse mucous_membrane  \\\n",
       "0                  cool          reduced             NaN   \n",
       "1                   NaN              NaN   pale_cyanotic   \n",
       "2                normal           normal       pale_pink   \n",
       "3                  cold           normal   dark_cyanotic   \n",
       "4                   NaN              NaN   dark_cyanotic   \n",
       "..                  ...              ...             ...   \n",
       "294                cold              NaN   pale_cyanotic   \n",
       "295                cool        increased   pale_cyanotic   \n",
       "296                cold          reduced   pale_cyanotic   \n",
       "297                cool          reduced       pale_pink   \n",
       "298                 NaN              NaN             NaN   \n",
       "\n",
       "    capillary_refill_time  ...        abdomen packed_cell_volume  \\\n",
       "0              more_3_sec  ...  distend_large               45.0   \n",
       "1              less_3_sec  ...          other               50.0   \n",
       "2              less_3_sec  ...         normal               33.0   \n",
       "3              more_3_sec  ...            NaN               48.0   \n",
       "4              more_3_sec  ...            NaN               74.0   \n",
       "..                    ...  ...            ...                ...   \n",
       "294            more_3_sec  ...  distend_large               55.0   \n",
       "295            more_3_sec  ...  distend_small               44.0   \n",
       "296            less_3_sec  ...  distend_large               60.0   \n",
       "297            less_3_sec  ...  distend_small               50.0   \n",
       "298                   NaN  ...         normal               36.0   \n",
       "\n",
       "    total_protein abdomo_appearance     outcome surgical_lesion lesion_1  \\\n",
       "0             8.4               NaN        died              no    11300   \n",
       "1            85.0            cloudy  euthanized              no     2208   \n",
       "2             6.7               NaN       lived              no        0   \n",
       "3             7.2     serosanguious        died             yes     2208   \n",
       "4             7.4               NaN        died              no     4300   \n",
       "..            ...               ...         ...             ...      ...   \n",
       "294          65.0               NaN  euthanized              no     3205   \n",
       "295           NaN     serosanguious  euthanized             yes     2208   \n",
       "296           6.8               NaN        died             yes     3205   \n",
       "297           6.0     serosanguious       lived             yes     2208   \n",
       "298          62.0             clear  euthanized              no     6112   \n",
       "\n",
       "     lesion_2  lesion_3 cp_data  \n",
       "0           0         0      no  \n",
       "1           0         0      no  \n",
       "2           0         0     yes  \n",
       "3           0         0     yes  \n",
       "4           0         0      no  \n",
       "..        ...       ...     ...  \n",
       "294         0         0      no  \n",
       "295         0         0     yes  \n",
       "296         0         0      no  \n",
       "297         0         0     yes  \n",
       "298         0         0      no  \n",
       "\n",
       "[299 rows x 26 columns]"
      ]
     },
     "execution_count": 9,
     "metadata": {},
     "output_type": "execute_result"
    }
   ],
   "source": [
    "#dropping values which have more null values\n",
    "horsesrv=horsesrv.drop(['nasogastric_reflux_ph','abdomo_protein'], axis=1)\n",
    "horsesrv"
   ]
  },
  {
   "cell_type": "code",
   "execution_count": 10,
   "id": "6ac5f4ed",
   "metadata": {},
   "outputs": [],
   "source": [
    "#getting median values of numerical variables \n",
    "med_rtp=horsesrv.rectal_temp.astype(\"float\").median(axis=0)\n",
    "med_pls=horsesrv.pulse.astype(\"float\").median(axis=0)\n",
    "med_rrt=horsesrv.respiratory_rate.astype(\"float\").median(axis=0)\n",
    "med_pcv=horsesrv.packed_cell_volume.astype(\"float\").median(axis=0)\n",
    "med_tpr=horsesrv.total_protein.astype(\"float\").median(axis=0)\n"
   ]
  },
  {
   "cell_type": "code",
   "execution_count": 11,
   "id": "526c9d2f",
   "metadata": {},
   "outputs": [],
   "source": [
    "#replacing null values with median \n",
    "horsesrv.rectal_temp.replace(np.nan, med_rtp, inplace=True)\n",
    "horsesrv.pulse.replace(np.nan, med_pls, inplace=True)\n",
    "horsesrv.respiratory_rate.replace(np.nan, med_rrt, inplace=True)\n",
    "horsesrv.packed_cell_volume.replace(np.nan, med_pcv, inplace=True)\n",
    "horsesrv.total_protein.replace(np.nan, med_tpr, inplace=True)"
   ]
  },
  {
   "cell_type": "code",
   "execution_count": 12,
   "id": "f50e2547",
   "metadata": {},
   "outputs": [
    {
     "data": {
      "text/plain": [
       "surgery                    0\n",
       "age                        0\n",
       "hospital_number            0\n",
       "rectal_temp                0\n",
       "pulse                      0\n",
       "respiratory_rate           0\n",
       "temp_of_extremities       56\n",
       "peripheral_pulse          69\n",
       "mucous_membrane           47\n",
       "capillary_refill_time     32\n",
       "pain                      55\n",
       "peristalsis               44\n",
       "abdominal_distention      56\n",
       "nasogastric_tube         104\n",
       "nasogastric_reflux       106\n",
       "rectal_exam_feces        102\n",
       "abdomen                  118\n",
       "packed_cell_volume         0\n",
       "total_protein              0\n",
       "abdomo_appearance        165\n",
       "outcome                    0\n",
       "surgical_lesion            0\n",
       "lesion_1                   0\n",
       "lesion_2                   0\n",
       "lesion_3                   0\n",
       "cp_data                    0\n",
       "dtype: int64"
      ]
     },
     "execution_count": 12,
     "metadata": {},
     "output_type": "execute_result"
    }
   ],
   "source": [
    "#seeing null values\n",
    "horsesrv.isnull().sum()"
   ]
  },
  {
   "cell_type": "code",
   "execution_count": 13,
   "id": "9f02d763",
   "metadata": {},
   "outputs": [
    {
     "data": {
      "text/plain": [
       "<AxesSubplot:xlabel='rectal_temp'>"
      ]
     },
     "execution_count": 13,
     "metadata": {},
     "output_type": "execute_result"
    },
    {
     "data": {
      "image/png": "[encoded data removed]",
      "text/plain": [
       "<Figure size 432x288 with 1 Axes>"
      ]
     },
     "metadata": {
      "needs_background": "light"
     },
     "output_type": "display_data"
    }
   ],
   "source": [
    "#seeing outliers in rectal_temp\n",
    "sb.boxplot(horsesrv.rectal_temp)"
   ]
  },
  {
   "cell_type": "code",
   "execution_count": 14,
   "id": "e3096a14",
   "metadata": {},
   "outputs": [
    {
     "data": {
      "text/plain": [
       "<AxesSubplot:ylabel='Frequency'>"
      ]
     },
     "execution_count": 14,
     "metadata": {},
     "output_type": "execute_result"
    },
    {
     "data": {
      "image/png": "[encoded data removed]",
      "text/plain": [
       "<Figure size 432x288 with 1 Axes>"
      ]
     },
     "metadata": {
      "needs_background": "light"
     },
     "output_type": "display_data"
    }
   ],
   "source": [
    "#using histogram to see abnormally high values\n",
    "horsesrv.rectal_temp.plot.hist()"
   ]
  },
  {
   "cell_type": "code",
   "execution_count": 15,
   "id": "5d31ebe5",
   "metadata": {},
   "outputs": [
    {
     "data": {
      "text/plain": [
       "<AxesSubplot:ylabel='Density'>"
      ]
     },
     "execution_count": 15,
     "metadata": {},
     "output_type": "execute_result"
    },
    {
     "data": {
      "image/png": "[encoded data removed]",
      "text/plain": [
       "<Figure size 432x288 with 1 Axes>"
      ]
     },
     "metadata": {
      "needs_background": "light"
     },
     "output_type": "display_data"
    }
   ],
   "source": [
    "#checking distribution for rectal_temp\n",
    "horsesrv.rectal_temp.plot.density()"
   ]
  },
  {
   "cell_type": "code",
   "execution_count": 16,
   "id": "a0fd1ee3",
   "metadata": {},
   "outputs": [
    {
     "data": {
      "text/plain": [
       "0.10    37.480\n",
       "0.25    37.900\n",
       "0.50    38.200\n",
       "0.70    38.300\n",
       "0.90    38.900\n",
       "0.95    39.300\n",
       "0.99    40.006\n",
       "Name: rectal_temp, dtype: float64"
      ]
     },
     "execution_count": 16,
     "metadata": {},
     "output_type": "execute_result"
    }
   ],
   "source": [
    "#outlier treatment for variable rectal_temp\n",
    "horsesrv.rectal_temp.quantile([0.1, 0.25, 0.5, 0.70, 0.9, 0.95, 0.99])\n"
   ]
  },
  {
   "cell_type": "code",
   "execution_count": 17,
   "id": "ec924f38",
   "metadata": {},
   "outputs": [],
   "source": [
    "#seeing limits\n",
    "rect_temp_out_HE=horsesrv[horsesrv.rectal_temp > 39.3].copy()\n",
    "rect_temp_out_LE=horsesrv[horsesrv.rectal_temp < 37.48].copy()"
   ]
  },
  {
   "cell_type": "code",
   "execution_count": 18,
   "id": "a2c012a5",
   "metadata": {},
   "outputs": [
    {
     "name": "stdout",
     "output_type": "stream",
     "text": [
      "44\n"
     ]
    }
   ],
   "source": [
    "#putting them at one place\n",
    "rect_temp_out_tot=pd.concat([rect_temp_out_LE['rectal_temp'],rect_temp_out_HE['rectal_temp']])\n",
    "print(len(rect_temp_out_tot))"
   ]
  },
  {
   "cell_type": "code",
   "execution_count": 19,
   "id": "67c9b0d4",
   "metadata": {},
   "outputs": [],
   "source": [
    "#removing outliers\n",
    "for x in horsesrv.rectal_temp:\n",
    "    if x > 38.6:\n",
    "        horsesrv.rectal_temp.replace(x,np.nan,inplace=True)\n",
    "for x in horsesrv.rectal_temp:\n",
    "    if x < 37.75:\n",
    "        horsesrv.rectal_temp.replace(x,np.nan,inplace=True)\n",
    "        \n",
    "        "
   ]
  },
  {
   "cell_type": "code",
   "execution_count": 20,
   "id": "d65dde4e",
   "metadata": {},
   "outputs": [
    {
     "data": {
      "text/plain": [
       "<AxesSubplot:xlabel='rectal_temp'>"
      ]
     },
     "execution_count": 20,
     "metadata": {},
     "output_type": "execute_result"
    },
    {
     "data": {
      "image/png": "[encoded data removed]",
      "text/plain": [
       "<Figure size 432x288 with 1 Axes>"
      ]
     },
     "metadata": {
      "needs_background": "light"
     },
     "output_type": "display_data"
    }
   ],
   "source": [
    "#checking if outliers gone \n",
    "sb.boxplot(horsesrv.rectal_temp)"
   ]
  },
  {
   "cell_type": "code",
   "execution_count": 21,
   "id": "d1544a2f",
   "metadata": {},
   "outputs": [],
   "source": [
    "#replacing nan values with median \n",
    "horsesrv.rectal_temp.replace(np.nan, med_rtp, inplace=True)"
   ]
  },
  {
   "cell_type": "code",
   "execution_count": 22,
   "id": "3683a6bc",
   "metadata": {},
   "outputs": [
    {
     "data": {
      "text/plain": [
       "<AxesSubplot:xlabel='pulse'>"
      ]
     },
     "execution_count": 22,
     "metadata": {},
     "output_type": "execute_result"
    },
    {
     "data": {
      "image/png": "[encoded data removed]",
      "text/plain": [
       "<Figure size 432x288 with 1 Axes>"
      ]
     },
     "metadata": {
      "needs_background": "light"
     },
     "output_type": "display_data"
    }
   ],
   "source": [
    "#seeing outliers in pulse\n",
    "sb.boxplot(horsesrv.pulse)\n"
   ]
  },
  {
   "cell_type": "code",
   "execution_count": 23,
   "id": "99a55822",
   "metadata": {},
   "outputs": [
    {
     "data": {
      "text/plain": [
       "<AxesSubplot:ylabel='Frequency'>"
      ]
     },
     "execution_count": 23,
     "metadata": {},
     "output_type": "execute_result"
    },
    {
     "data": {
      "image/png": "[encoded data removed]",
      "text/plain": [
       "<Figure size 432x288 with 1 Axes>"
      ]
     },
     "metadata": {
      "needs_background": "light"
     },
     "output_type": "display_data"
    }
   ],
   "source": [
    "#using histogram to see abnormally high values\n",
    "horsesrv.pulse.plot.hist()"
   ]
  },
  {
   "cell_type": "code",
   "execution_count": 24,
   "id": "e75c894e",
   "metadata": {},
   "outputs": [
    {
     "data": {
      "text/plain": [
       "<AxesSubplot:ylabel='Density'>"
      ]
     },
     "execution_count": 24,
     "metadata": {},
     "output_type": "execute_result"
    },
    {
     "data": {
      "image/png": "[encoded data removed]",
      "text/plain": [
       "<Figure size 432x288 with 1 Axes>"
      ]
     },
     "metadata": {
      "needs_background": "light"
     },
     "output_type": "display_data"
    }
   ],
   "source": [
    "#checking distribution for pulse\n",
    "horsesrv.pulse.plot.density()"
   ]
  },
  {
   "cell_type": "code",
   "execution_count": 25,
   "id": "707925d5",
   "metadata": {},
   "outputs": [
    {
     "data": {
      "text/plain": [
       "0.10     42.0\n",
       "0.25     48.5\n",
       "0.50     64.0\n",
       "0.70     83.2\n",
       "0.90    112.0\n",
       "0.95    124.0\n",
       "0.99    150.2\n",
       "Name: pulse, dtype: float64"
      ]
     },
     "execution_count": 25,
     "metadata": {},
     "output_type": "execute_result"
    }
   ],
   "source": [
    "#outlier treatment for variable pulse\n",
    "horsesrv.pulse.quantile([0.1, 0.25, 0.5, 0.70, 0.9, 0.95, 0.99])"
   ]
  },
  {
   "cell_type": "code",
   "execution_count": 26,
   "id": "669df9d1",
   "metadata": {},
   "outputs": [],
   "source": [
    "#seeing limits\n",
    "pulse_HE=horsesrv[horsesrv.pulse > 150].copy()\n"
   ]
  },
  {
   "cell_type": "code",
   "execution_count": 27,
   "id": "d915645a",
   "metadata": {},
   "outputs": [
    {
     "name": "stdout",
     "output_type": "stream",
     "text": [
      "3\n"
     ]
    }
   ],
   "source": [
    "#putting them at one place\n",
    "print(len(pulse_HE))"
   ]
  },
  {
   "cell_type": "code",
   "execution_count": 28,
   "id": "0bd792fa",
   "metadata": {},
   "outputs": [],
   "source": [
    "#removing outliers\n",
    "for x in horsesrv.pulse:\n",
    "    if x > 145:\n",
    "        horsesrv.pulse.replace(x,np.nan,inplace=True)"
   ]
  },
  {
   "cell_type": "code",
   "execution_count": 29,
   "id": "d0d347ac",
   "metadata": {},
   "outputs": [
    {
     "data": {
      "text/plain": [
       "<AxesSubplot:xlabel='pulse'>"
      ]
     },
     "execution_count": 29,
     "metadata": {},
     "output_type": "execute_result"
    },
    {
     "data": {
      "image/png": "[encoded data removed]",
      "text/plain": [
       "<Figure size 432x288 with 1 Axes>"
      ]
     },
     "metadata": {
      "needs_background": "light"
     },
     "output_type": "display_data"
    }
   ],
   "source": [
    "#checking if outliers gone \n",
    "sb.boxplot(horsesrv.pulse)"
   ]
  },
  {
   "cell_type": "code",
   "execution_count": 30,
   "id": "2139d769",
   "metadata": {},
   "outputs": [],
   "source": [
    "#replacing nan values with median \n",
    "horsesrv.pulse.replace(np.nan, med_pls, inplace=True)"
   ]
  },
  {
   "cell_type": "code",
   "execution_count": 31,
   "id": "3176ac2f",
   "metadata": {},
   "outputs": [
    {
     "data": {
      "text/plain": [
       "<AxesSubplot:xlabel='respiratory_rate'>"
      ]
     },
     "execution_count": 31,
     "metadata": {},
     "output_type": "execute_result"
    },
    {
     "data": {
      "image/png": "[encoded data removed]",
      "text/plain": [
       "<Figure size 432x288 with 1 Axes>"
      ]
     },
     "metadata": {
      "needs_background": "light"
     },
     "output_type": "display_data"
    }
   ],
   "source": [
    "#seeing outliers in respiratory_rate\n",
    "sb.boxplot(horsesrv.respiratory_rate)\n"
   ]
  },
  {
   "cell_type": "code",
   "execution_count": 32,
   "id": "6198e311",
   "metadata": {},
   "outputs": [
    {
     "data": {
      "text/plain": [
       "<AxesSubplot:ylabel='Frequency'>"
      ]
     },
     "execution_count": 32,
     "metadata": {},
     "output_type": "execute_result"
    },
    {
     "data": {
      "image/png": "[encoded data removed]",
      "text/plain": [
       "<Figure size 432x288 with 1 Axes>"
      ]
     },
     "metadata": {
      "needs_background": "light"
     },
     "output_type": "display_data"
    }
   ],
   "source": [
    "#using histogram to see abnormally high values\n",
    "horsesrv.respiratory_rate.plot.hist()"
   ]
  },
  {
   "cell_type": "code",
   "execution_count": 33,
   "id": "238b4dd5",
   "metadata": {},
   "outputs": [
    {
     "data": {
      "text/plain": [
       "<AxesSubplot:ylabel='Density'>"
      ]
     },
     "execution_count": 33,
     "metadata": {},
     "output_type": "execute_result"
    },
    {
     "data": {
      "image/png": "[encoded data removed]",
      "text/plain": [
       "<Figure size 432x288 with 1 Axes>"
      ]
     },
     "metadata": {
      "needs_background": "light"
     },
     "output_type": "display_data"
    }
   ],
   "source": [
    "#checking distribution for respiratory rate\n",
    "horsesrv.respiratory_rate.plot.density()"
   ]
  },
  {
   "cell_type": "code",
   "execution_count": 34,
   "id": "270ae859",
   "metadata": {},
   "outputs": [
    {
     "data": {
      "text/plain": [
       "0.10    14.8\n",
       "0.25    20.0\n",
       "0.50    25.0\n",
       "0.70    30.0\n",
       "0.90    48.0\n",
       "0.95    68.0\n",
       "0.99    90.0\n",
       "Name: respiratory_rate, dtype: float64"
      ]
     },
     "execution_count": 34,
     "metadata": {},
     "output_type": "execute_result"
    }
   ],
   "source": [
    "#outlier treatment for variable respiratory_rate\n",
    "horsesrv.respiratory_rate.quantile([0.1, 0.25, 0.5, 0.70, 0.9, 0.95, 0.99])"
   ]
  },
  {
   "cell_type": "code",
   "execution_count": 35,
   "id": "31b524d5",
   "metadata": {},
   "outputs": [],
   "source": [
    "#seeing limits\n",
    "resp_rate_HE=horsesrv[horsesrv.respiratory_rate > 48].copy()\n"
   ]
  },
  {
   "cell_type": "code",
   "execution_count": 36,
   "id": "474becb9",
   "metadata": {},
   "outputs": [
    {
     "name": "stdout",
     "output_type": "stream",
     "text": [
      "27\n"
     ]
    }
   ],
   "source": [
    "#putting them at one place\n",
    "print(len(resp_rate_HE))"
   ]
  },
  {
   "cell_type": "code",
   "execution_count": 37,
   "id": "16153bc3",
   "metadata": {},
   "outputs": [],
   "source": [
    "#removing outliers\n",
    "for x in horsesrv.respiratory_rate:\n",
    "    if x > 48:\n",
    "        horsesrv.respiratory_rate.replace(x,np.nan,inplace=True)"
   ]
  },
  {
   "cell_type": "code",
   "execution_count": 38,
   "id": "ee1a9bc4",
   "metadata": {},
   "outputs": [
    {
     "data": {
      "text/plain": [
       "<AxesSubplot:xlabel='respiratory_rate'>"
      ]
     },
     "execution_count": 38,
     "metadata": {},
     "output_type": "execute_result"
    },
    {
     "data": {
      "image/png": "[encoded data removed]",
      "text/plain": [
       "<Figure size 432x288 with 1 Axes>"
      ]
     },
     "metadata": {
      "needs_background": "light"
     },
     "output_type": "display_data"
    }
   ],
   "source": [
    "#checking if outliers gone \n",
    "sb.boxplot(horsesrv.respiratory_rate)\n"
   ]
  },
  {
   "cell_type": "code",
   "execution_count": 39,
   "id": "800d1666",
   "metadata": {},
   "outputs": [],
   "source": [
    "#replacing nan values with median \n",
    "horsesrv.respiratory_rate.replace(np.nan,med_rrt, inplace=True)"
   ]
  },
  {
   "cell_type": "code",
   "execution_count": 40,
   "id": "f3aef575",
   "metadata": {},
   "outputs": [
    {
     "data": {
      "text/plain": [
       "<AxesSubplot:xlabel='packed_cell_volume'>"
      ]
     },
     "execution_count": 40,
     "metadata": {},
     "output_type": "execute_result"
    },
    {
     "data": {
      "image/png": "[encoded data removed]",
      "text/plain": [
       "<Figure size 432x288 with 1 Axes>"
      ]
     },
     "metadata": {
      "needs_background": "light"
     },
     "output_type": "display_data"
    }
   ],
   "source": [
    "#seeing outliers in packed cell volume\n",
    "sb.boxplot(horsesrv.packed_cell_volume)\n"
   ]
  },
  {
   "cell_type": "code",
   "execution_count": 41,
   "id": "40ff9432",
   "metadata": {},
   "outputs": [
    {
     "data": {
      "text/plain": [
       "<AxesSubplot:ylabel='Frequency'>"
      ]
     },
     "execution_count": 41,
     "metadata": {},
     "output_type": "execute_result"
    },
    {
     "data": {
      "image/png": "[encoded data removed]",
      "text/plain": [
       "<Figure size 432x288 with 1 Axes>"
      ]
     },
     "metadata": {
      "needs_background": "light"
     },
     "output_type": "display_data"
    }
   ],
   "source": [
    "#using histogram to see abnormally high values\n",
    "horsesrv.packed_cell_volume.plot.hist()"
   ]
  },
  {
   "cell_type": "code",
   "execution_count": 42,
   "id": "aca6525a",
   "metadata": {},
   "outputs": [
    {
     "data": {
      "text/plain": [
       "<AxesSubplot:ylabel='Density'>"
      ]
     },
     "execution_count": 42,
     "metadata": {},
     "output_type": "execute_result"
    },
    {
     "data": {
      "image/png": "[encoded data removed]",
      "text/plain": [
       "<Figure size 432x288 with 1 Axes>"
      ]
     },
     "metadata": {
      "needs_background": "light"
     },
     "output_type": "display_data"
    }
   ],
   "source": [
    "#checking distribution for packed_cell_volume\n",
    "horsesrv.packed_cell_volume.plot.density()"
   ]
  },
  {
   "cell_type": "code",
   "execution_count": 43,
   "id": "60be788b",
   "metadata": {},
   "outputs": [
    {
     "data": {
      "text/plain": [
       "0.10    35.00\n",
       "0.25    39.00\n",
       "0.50    45.00\n",
       "0.70    49.00\n",
       "0.90    60.00\n",
       "0.95    66.10\n",
       "0.99    73.02\n",
       "Name: packed_cell_volume, dtype: float64"
      ]
     },
     "execution_count": 43,
     "metadata": {},
     "output_type": "execute_result"
    }
   ],
   "source": [
    "#outlier treatment for variable packed_cell_volume\n",
    "horsesrv.packed_cell_volume.quantile([0.1, 0.25, 0.5, 0.70, 0.9, 0.95, 0.99])"
   ]
  },
  {
   "cell_type": "code",
   "execution_count": 44,
   "id": "04c6c610",
   "metadata": {},
   "outputs": [],
   "source": [
    "#seeing limits\n",
    "pack_cell_vol_out_HE=horsesrv[horsesrv.packed_cell_volume > 65].copy()"
   ]
  },
  {
   "cell_type": "code",
   "execution_count": 45,
   "id": "f30ea2e4",
   "metadata": {},
   "outputs": [
    {
     "name": "stdout",
     "output_type": "stream",
     "text": [
      "18\n"
     ]
    }
   ],
   "source": [
    "#putting them at one place\n",
    "print(len(pack_cell_vol_out_HE))\n"
   ]
  },
  {
   "cell_type": "code",
   "execution_count": 46,
   "id": "4cb1746e",
   "metadata": {},
   "outputs": [],
   "source": [
    "#removing outliers\n",
    "for x in horsesrv.packed_cell_volume:\n",
    "    if x > 65:\n",
    "        horsesrv.packed_cell_volume.replace(x,np.nan,inplace=True)"
   ]
  },
  {
   "cell_type": "code",
   "execution_count": 47,
   "id": "4df85a4e",
   "metadata": {},
   "outputs": [
    {
     "data": {
      "text/plain": [
       "<AxesSubplot:xlabel='packed_cell_volume'>"
      ]
     },
     "execution_count": 47,
     "metadata": {},
     "output_type": "execute_result"
    },
    {
     "data": {
      "image/png": "[encoded data removed]",
      "text/plain": [
       "<Figure size 432x288 with 1 Axes>"
      ]
     },
     "metadata": {
      "needs_background": "light"
     },
     "output_type": "display_data"
    }
   ],
   "source": [
    "#checking if outliers gone \n",
    "sb.boxplot(horsesrv.packed_cell_volume)"
   ]
  },
  {
   "cell_type": "code",
   "execution_count": 48,
   "id": "e69201d9",
   "metadata": {},
   "outputs": [],
   "source": [
    "#replacing nan values with median \n",
    "horsesrv.packed_cell_volume.replace(np.nan, med_pcv, inplace=True)"
   ]
  },
  {
   "cell_type": "code",
   "execution_count": 49,
   "id": "fca02b7b",
   "metadata": {},
   "outputs": [
    {
     "data": {
      "text/plain": [
       "<AxesSubplot:xlabel='total_protein'>"
      ]
     },
     "execution_count": 49,
     "metadata": {},
     "output_type": "execute_result"
    },
    {
     "data": {
      "image/png": "[encoded data removed]",
      "text/plain": [
       "<Figure size 432x288 with 1 Axes>"
      ]
     },
     "metadata": {
      "needs_background": "light"
     },
     "output_type": "display_data"
    }
   ],
   "source": [
    "#seeing outliers in total_protein\n",
    "sb.boxplot(horsesrv.total_protein)"
   ]
  },
  {
   "cell_type": "markdown",
   "id": "e6cfbcb5",
   "metadata": {},
   "source": [
    "**Step 3:Exploratory data analysis**\n",
    "\n",
    "In this step, we are going to explore the dataset. Perform hypothesis tests,bivariate analysis and check for correlation between variables."
   ]
  },
  {
   "cell_type": "code",
   "execution_count": 50,
   "id": "f2fb439b",
   "metadata": {
    "scrolled": false
   },
   "outputs": [
    {
     "data": {
      "text/html": [
       "<div>\n",
       "<style scoped>\n",
       "    .dataframe tbody tr th:only-of-type {\n",
       "        vertical-align: middle;\n",
       "    }\n",
       "\n",
       "    .dataframe tbody tr th {\n",
       "        vertical-align: top;\n",
       "    }\n",
       "\n",
       "    .dataframe thead th {\n",
       "        text-align: right;\n",
       "    }\n",
       "</style>\n",
       "<table border=\"1\" class=\"dataframe\">\n",
       "  <thead>\n",
       "    <tr style=\"text-align: right;\">\n",
       "      <th></th>\n",
       "      <th>hospital_number</th>\n",
       "      <th>rectal_temp</th>\n",
       "      <th>pulse</th>\n",
       "      <th>respiratory_rate</th>\n",
       "      <th>packed_cell_volume</th>\n",
       "      <th>total_protein</th>\n",
       "      <th>lesion_1</th>\n",
       "      <th>lesion_2</th>\n",
       "      <th>lesion_3</th>\n",
       "    </tr>\n",
       "  </thead>\n",
       "  <tbody>\n",
       "    <tr>\n",
       "      <th>count</th>\n",
       "      <td>299.00</td>\n",
       "      <td>299.00</td>\n",
       "      <td>299.00</td>\n",
       "      <td>299.00</td>\n",
       "      <td>299.00</td>\n",
       "      <td>299.00</td>\n",
       "      <td>299.00</td>\n",
       "      <td>299.00</td>\n",
       "      <td>299.00</td>\n",
       "    </tr>\n",
       "    <tr>\n",
       "      <th>mean</th>\n",
       "      <td>1087732.70</td>\n",
       "      <td>38.20</td>\n",
       "      <td>69.45</td>\n",
       "      <td>25.30</td>\n",
       "      <td>44.68</td>\n",
       "      <td>22.42</td>\n",
       "      <td>3659.71</td>\n",
       "      <td>90.53</td>\n",
       "      <td>7.39</td>\n",
       "    </tr>\n",
       "    <tr>\n",
       "      <th>std</th>\n",
       "      <td>1532031.58</td>\n",
       "      <td>0.17</td>\n",
       "      <td>24.47</td>\n",
       "      <td>8.34</td>\n",
       "      <td>7.86</td>\n",
       "      <td>26.34</td>\n",
       "      <td>5408.47</td>\n",
       "      <td>650.64</td>\n",
       "      <td>127.75</td>\n",
       "    </tr>\n",
       "    <tr>\n",
       "      <th>min</th>\n",
       "      <td>518476.00</td>\n",
       "      <td>37.80</td>\n",
       "      <td>30.00</td>\n",
       "      <td>8.00</td>\n",
       "      <td>23.00</td>\n",
       "      <td>3.30</td>\n",
       "      <td>0.00</td>\n",
       "      <td>0.00</td>\n",
       "      <td>0.00</td>\n",
       "    </tr>\n",
       "    <tr>\n",
       "      <th>25%</th>\n",
       "      <td>528904.00</td>\n",
       "      <td>38.20</td>\n",
       "      <td>48.50</td>\n",
       "      <td>20.00</td>\n",
       "      <td>39.00</td>\n",
       "      <td>6.60</td>\n",
       "      <td>2111.50</td>\n",
       "      <td>0.00</td>\n",
       "      <td>0.00</td>\n",
       "    </tr>\n",
       "    <tr>\n",
       "      <th>50%</th>\n",
       "      <td>530301.00</td>\n",
       "      <td>38.20</td>\n",
       "      <td>64.00</td>\n",
       "      <td>25.00</td>\n",
       "      <td>45.00</td>\n",
       "      <td>7.50</td>\n",
       "      <td>2322.00</td>\n",
       "      <td>0.00</td>\n",
       "      <td>0.00</td>\n",
       "    </tr>\n",
       "    <tr>\n",
       "      <th>75%</th>\n",
       "      <td>534736.00</td>\n",
       "      <td>38.20</td>\n",
       "      <td>86.00</td>\n",
       "      <td>30.00</td>\n",
       "      <td>49.00</td>\n",
       "      <td>52.00</td>\n",
       "      <td>3209.00</td>\n",
       "      <td>0.00</td>\n",
       "      <td>0.00</td>\n",
       "    </tr>\n",
       "    <tr>\n",
       "      <th>max</th>\n",
       "      <td>5305629.00</td>\n",
       "      <td>38.60</td>\n",
       "      <td>140.00</td>\n",
       "      <td>48.00</td>\n",
       "      <td>65.00</td>\n",
       "      <td>89.00</td>\n",
       "      <td>41110.00</td>\n",
       "      <td>7111.00</td>\n",
       "      <td>2209.00</td>\n",
       "    </tr>\n",
       "  </tbody>\n",
       "</table>\n",
       "</div>"
      ],
      "text/plain": [
       "       hospital_number  rectal_temp   pulse  respiratory_rate  \\\n",
       "count           299.00       299.00  299.00            299.00   \n",
       "mean        1087732.70        38.20   69.45             25.30   \n",
       "std         1532031.58         0.17   24.47              8.34   \n",
       "min          518476.00        37.80   30.00              8.00   \n",
       "25%          528904.00        38.20   48.50             20.00   \n",
       "50%          530301.00        38.20   64.00             25.00   \n",
       "75%          534736.00        38.20   86.00             30.00   \n",
       "max         5305629.00        38.60  140.00             48.00   \n",
       "\n",
       "       packed_cell_volume  total_protein  lesion_1  lesion_2  lesion_3  \n",
       "count              299.00         299.00    299.00    299.00    299.00  \n",
       "mean                44.68          22.42   3659.71     90.53      7.39  \n",
       "std                  7.86          26.34   5408.47    650.64    127.75  \n",
       "min                 23.00           3.30      0.00      0.00      0.00  \n",
       "25%                 39.00           6.60   2111.50      0.00      0.00  \n",
       "50%                 45.00           7.50   2322.00      0.00      0.00  \n",
       "75%                 49.00          52.00   3209.00      0.00      0.00  \n",
       "max                 65.00          89.00  41110.00   7111.00   2209.00  "
      ]
     },
     "execution_count": 50,
     "metadata": {},
     "output_type": "execute_result"
    }
   ],
   "source": [
    "#summary stats\n",
    "horsesrv.describe().round(2)"
   ]
  },
  {
   "cell_type": "code",
   "execution_count": 51,
   "id": "66787fd8",
   "metadata": {},
   "outputs": [
    {
     "data": {
      "text/html": [
       "<div>\n",
       "<style scoped>\n",
       "    .dataframe tbody tr th:only-of-type {\n",
       "        vertical-align: middle;\n",
       "    }\n",
       "\n",
       "    .dataframe tbody tr th {\n",
       "        vertical-align: top;\n",
       "    }\n",
       "\n",
       "    .dataframe thead th {\n",
       "        text-align: right;\n",
       "    }\n",
       "</style>\n",
       "<table border=\"1\" class=\"dataframe\">\n",
       "  <thead>\n",
       "    <tr style=\"text-align: right;\">\n",
       "      <th></th>\n",
       "      <th>rectal_temp</th>\n",
       "      <th>pulse</th>\n",
       "      <th>respiratory_rate</th>\n",
       "      <th>packed_cell_volume</th>\n",
       "      <th>total_protein</th>\n",
       "    </tr>\n",
       "  </thead>\n",
       "  <tbody>\n",
       "    <tr>\n",
       "      <th>rectal_temp</th>\n",
       "      <td>1.00</td>\n",
       "      <td>0.10</td>\n",
       "      <td>0.10</td>\n",
       "      <td>-0.08</td>\n",
       "      <td>-0.04</td>\n",
       "    </tr>\n",
       "    <tr>\n",
       "      <th>pulse</th>\n",
       "      <td>0.10</td>\n",
       "      <td>1.00</td>\n",
       "      <td>0.33</td>\n",
       "      <td>0.42</td>\n",
       "      <td>-0.05</td>\n",
       "    </tr>\n",
       "    <tr>\n",
       "      <th>respiratory_rate</th>\n",
       "      <td>0.10</td>\n",
       "      <td>0.33</td>\n",
       "      <td>1.00</td>\n",
       "      <td>0.18</td>\n",
       "      <td>-0.05</td>\n",
       "    </tr>\n",
       "    <tr>\n",
       "      <th>packed_cell_volume</th>\n",
       "      <td>-0.08</td>\n",
       "      <td>0.42</td>\n",
       "      <td>0.18</td>\n",
       "      <td>1.00</td>\n",
       "      <td>-0.02</td>\n",
       "    </tr>\n",
       "    <tr>\n",
       "      <th>total_protein</th>\n",
       "      <td>-0.04</td>\n",
       "      <td>-0.05</td>\n",
       "      <td>-0.05</td>\n",
       "      <td>-0.02</td>\n",
       "      <td>1.00</td>\n",
       "    </tr>\n",
       "  </tbody>\n",
       "</table>\n",
       "</div>"
      ],
      "text/plain": [
       "                    rectal_temp  pulse  respiratory_rate  packed_cell_volume  \\\n",
       "rectal_temp                1.00   0.10              0.10               -0.08   \n",
       "pulse                      0.10   1.00              0.33                0.42   \n",
       "respiratory_rate           0.10   0.33              1.00                0.18   \n",
       "packed_cell_volume        -0.08   0.42              0.18                1.00   \n",
       "total_protein             -0.04  -0.05             -0.05               -0.02   \n",
       "\n",
       "                    total_protein  \n",
       "rectal_temp                 -0.04  \n",
       "pulse                       -0.05  \n",
       "respiratory_rate            -0.05  \n",
       "packed_cell_volume          -0.02  \n",
       "total_protein                1.00  "
      ]
     },
     "execution_count": 51,
     "metadata": {},
     "output_type": "execute_result"
    }
   ],
   "source": [
    "#seeing correlation of numerical variables\n",
    "num_vars=['rectal_temp','pulse','respiratory_rate','packed_cell_volume','total_protein']\n",
    "cordata =horsesrv[num_vars].corr()\n",
    "cordata.round(2)"
   ]
  },
  {
   "cell_type": "code",
   "execution_count": 52,
   "id": "60afc5ad",
   "metadata": {},
   "outputs": [
    {
     "data": {
      "text/plain": [
       "<AxesSubplot:>"
      ]
     },
     "execution_count": 52,
     "metadata": {},
     "output_type": "execute_result"
    },
    {
     "data": {
      "image/png": "[encoded data removed]",
      "text/plain": [
       "<Figure size 432x288 with 2 Axes>"
      ]
     },
     "metadata": {
      "needs_background": "light"
     },
     "output_type": "display_data"
    }
   ],
   "source": [
    "#heatmap of correlation\n",
    "sb.heatmap(cordata, annot=True, cmap=\"Reds\")"
   ]
  },
  {
   "cell_type": "code",
   "execution_count": 53,
   "id": "ab724460",
   "metadata": {},
   "outputs": [
    {
     "data": {
      "text/plain": [
       "'blue is pedigree horse and yellow is normal'"
      ]
     },
     "execution_count": 53,
     "metadata": {},
     "output_type": "execute_result"
    },
    {
     "data": {
      "image/png": "[encoded data removed]",
      "text/plain": [
       "<Figure size 451.75x360 with 1 Axes>"
      ]
     },
     "metadata": {
      "needs_background": "light"
     },
     "output_type": "display_data"
    }
   ],
   "source": [
    "#Comparing respiratory rate with capillary refill time and outcome\n",
    "sb.catplot(data=horsesrv, x=\"respiratory_rate\", y='capillary_refill_time', hue=\"outcome\", kind=\"swarm\")\n",
    "plt.rcParams['figure.figsize'] = [50, 10]\n",
    "\n",
    "\"blue is pedigree horse and yellow is normal\""
   ]
  },
  {
   "cell_type": "code",
   "execution_count": 54,
   "id": "33917518",
   "metadata": {},
   "outputs": [
    {
     "data": {
      "text/plain": [
       "'blue/yellow is dead horse and green is normal'"
      ]
     },
     "execution_count": 54,
     "metadata": {},
     "output_type": "execute_result"
    },
    {
     "data": {
      "image/png": "[encoded data removed]",
      "text/plain": [
       "<Figure size 451.75x360 with 1 Axes>"
      ]
     },
     "metadata": {
      "needs_background": "light"
     },
     "output_type": "display_data"
    }
   ],
   "source": [
    "#Comparing respiratory_rate with nasogastric reflux and outcome\n",
    "sb.catplot(data=horsesrv, x=\"respiratory_rate\", y='nasogastric_tube', hue=\"outcome\", kind=\"swarm\")\n",
    "plt.rcParams['figure.figsize'] = [50, 10]\n",
    "\n",
    "\"blue/yellow is dead horse and green is normal\""
   ]
  },
  {
   "cell_type": "code",
   "execution_count": 55,
   "id": "c3735246",
   "metadata": {},
   "outputs": [
    {
     "data": {
      "text/plain": [
       "'blue is pedigree horse and yellow is normal'"
      ]
     },
     "execution_count": 55,
     "metadata": {},
     "output_type": "execute_result"
    },
    {
     "data": {
      "image/png": "[encoded data removed]",
      "text/plain": [
       "<Figure size 451.75x360 with 1 Axes>"
      ]
     },
     "metadata": {
      "needs_background": "light"
     },
     "output_type": "display_data"
    }
   ],
   "source": [
    "#Comparing pulse rate with nasogastric reflux and breed\n",
    "sb.catplot(data=horsesrv, x=\"packed_cell_volume\", y='mucous_membrane', hue=\"outcome\", kind=\"swarm\")\n",
    "plt.rcParams['figure.figsize'] = [50, 10]\n",
    "\n",
    "\"blue is pedigree horse and yellow is normal\""
   ]
  },
  {
   "cell_type": "code",
   "execution_count": 56,
   "id": "d9903cec",
   "metadata": {},
   "outputs": [
    {
     "data": {
      "text/plain": [
       "<AxesSubplot:xlabel='age', ylabel='respiratory_rate'>"
      ]
     },
     "execution_count": 56,
     "metadata": {},
     "output_type": "execute_result"
    },
    {
     "data": {
      "image/png": "[encoded data removed]",
      "text/plain": [
       "<Figure size 864x432 with 1 Axes>"
      ]
     },
     "metadata": {
      "needs_background": "light"
     },
     "output_type": "display_data"
    }
   ],
   "source": [
    "#box plot for age vs respiratory_rate\n",
    "plt.figure(figsize=[12,6])\n",
    "sb.boxplot(\"age\", \"respiratory_rate\", data=horsesrv)"
   ]
  },
  {
   "cell_type": "code",
   "execution_count": 57,
   "id": "175782c8",
   "metadata": {},
   "outputs": [
    {
     "data": {
      "text/html": [
       "<div>\n",
       "<style scoped>\n",
       "    .dataframe tbody tr th:only-of-type {\n",
       "        vertical-align: middle;\n",
       "    }\n",
       "\n",
       "    .dataframe tbody tr th {\n",
       "        vertical-align: top;\n",
       "    }\n",
       "\n",
       "    .dataframe thead th {\n",
       "        text-align: right;\n",
       "    }\n",
       "</style>\n",
       "<table border=\"1\" class=\"dataframe\">\n",
       "  <thead>\n",
       "    <tr style=\"text-align: right;\">\n",
       "      <th></th>\n",
       "      <th>df</th>\n",
       "      <th>sum_sq</th>\n",
       "      <th>mean_sq</th>\n",
       "      <th>F</th>\n",
       "      <th>PR(&gt;F)</th>\n",
       "    </tr>\n",
       "  </thead>\n",
       "  <tbody>\n",
       "    <tr>\n",
       "      <th>age</th>\n",
       "      <td>1.0</td>\n",
       "      <td>311.011998</td>\n",
       "      <td>311.011998</td>\n",
       "      <td>4.526749</td>\n",
       "      <td>0.034193</td>\n",
       "    </tr>\n",
       "    <tr>\n",
       "      <th>Residual</th>\n",
       "      <td>297.0</td>\n",
       "      <td>20405.496364</td>\n",
       "      <td>68.705375</td>\n",
       "      <td>NaN</td>\n",
       "      <td>NaN</td>\n",
       "    </tr>\n",
       "  </tbody>\n",
       "</table>\n",
       "</div>"
      ],
      "text/plain": [
       "             df        sum_sq     mean_sq         F    PR(>F)\n",
       "age         1.0    311.011998  311.011998  4.526749  0.034193\n",
       "Residual  297.0  20405.496364   68.705375       NaN       NaN"
      ]
     },
     "execution_count": 57,
     "metadata": {},
     "output_type": "execute_result"
    }
   ],
   "source": [
    "#checking if respiratory_rate differs according to the peristalsis of the horse\n",
    "mod = ols(\"respiratory_rate ~ age\", data = horsesrv).fit()\n",
    "anov_table = sm.stats.anova_lm(mod)\n",
    "anov_table"
   ]
  },
  {
   "cell_type": "code",
   "execution_count": 58,
   "id": "53959749",
   "metadata": {},
   "outputs": [
    {
     "data": {
      "text/plain": [
       "<AxesSubplot:xlabel='peristalsis', ylabel='total_protein'>"
      ]
     },
     "execution_count": 58,
     "metadata": {},
     "output_type": "execute_result"
    },
    {
     "data": {
      "image/png": "[encoded data removed]",
      "text/plain": [
       "<Figure size 864x432 with 1 Axes>"
      ]
     },
     "metadata": {
      "needs_background": "light"
     },
     "output_type": "display_data"
    }
   ],
   "source": [
    "#box plot for peristalsis vs total protein\n",
    "plt.figure(figsize=[12,6])\n",
    "sb.boxplot(\"peristalsis\", \"total_protein\", data=horsesrv)"
   ]
  },
  {
   "cell_type": "code",
   "execution_count": 59,
   "id": "f283e31f",
   "metadata": {},
   "outputs": [
    {
     "data": {
      "text/html": [
       "<div>\n",
       "<style scoped>\n",
       "    .dataframe tbody tr th:only-of-type {\n",
       "        vertical-align: middle;\n",
       "    }\n",
       "\n",
       "    .dataframe tbody tr th {\n",
       "        vertical-align: top;\n",
       "    }\n",
       "\n",
       "    .dataframe thead th {\n",
       "        text-align: right;\n",
       "    }\n",
       "</style>\n",
       "<table border=\"1\" class=\"dataframe\">\n",
       "  <thead>\n",
       "    <tr style=\"text-align: right;\">\n",
       "      <th></th>\n",
       "      <th>df</th>\n",
       "      <th>sum_sq</th>\n",
       "      <th>mean_sq</th>\n",
       "      <th>F</th>\n",
       "      <th>PR(&gt;F)</th>\n",
       "    </tr>\n",
       "  </thead>\n",
       "  <tbody>\n",
       "    <tr>\n",
       "      <th>peristalsis</th>\n",
       "      <td>3.0</td>\n",
       "      <td>6154.999589</td>\n",
       "      <td>2051.666530</td>\n",
       "      <td>2.8319</td>\n",
       "      <td>0.038924</td>\n",
       "    </tr>\n",
       "    <tr>\n",
       "      <th>Residual</th>\n",
       "      <td>251.0</td>\n",
       "      <td>181845.489431</td>\n",
       "      <td>724.484022</td>\n",
       "      <td>NaN</td>\n",
       "      <td>NaN</td>\n",
       "    </tr>\n",
       "  </tbody>\n",
       "</table>\n",
       "</div>"
      ],
      "text/plain": [
       "                df         sum_sq      mean_sq       F    PR(>F)\n",
       "peristalsis    3.0    6154.999589  2051.666530  2.8319  0.038924\n",
       "Residual     251.0  181845.489431   724.484022     NaN       NaN"
      ]
     },
     "execution_count": 59,
     "metadata": {},
     "output_type": "execute_result"
    }
   ],
   "source": [
    "#checking if protein  differs according to the peristalsis of the horse\n",
    "mod = ols(\"total_protein ~ peristalsis\", data = horsesrv).fit()\n",
    "anov_table = sm.stats.anova_lm(mod)\n",
    "anov_table"
   ]
  },
  {
   "cell_type": "code",
   "execution_count": 60,
   "id": "a52dc0fa",
   "metadata": {
    "scrolled": true
   },
   "outputs": [
    {
     "data": {
      "text/plain": [
       "<AxesSubplot:xlabel='rectal_exam_feces', ylabel='rectal_temp'>"
      ]
     },
     "execution_count": 60,
     "metadata": {},
     "output_type": "execute_result"
    },
    {
     "data": {
      "image/png": "[encoded data removed]",
      "text/plain": [
       "<Figure size 864x432 with 1 Axes>"
      ]
     },
     "metadata": {
      "needs_background": "light"
     },
     "output_type": "display_data"
    }
   ],
   "source": [
    "#box plot for rectal_temp vs rectal_exam_feces\n",
    "plt.figure(figsize=[12,6])\n",
    "sb.boxplot(\"rectal_exam_feces\",\"rectal_temp\", data=horsesrv)"
   ]
  },
  {
   "cell_type": "code",
   "execution_count": 61,
   "id": "f31e1dae",
   "metadata": {},
   "outputs": [
    {
     "data": {
      "text/html": [
       "<div>\n",
       "<style scoped>\n",
       "    .dataframe tbody tr th:only-of-type {\n",
       "        vertical-align: middle;\n",
       "    }\n",
       "\n",
       "    .dataframe tbody tr th {\n",
       "        vertical-align: top;\n",
       "    }\n",
       "\n",
       "    .dataframe thead th {\n",
       "        text-align: right;\n",
       "    }\n",
       "</style>\n",
       "<table border=\"1\" class=\"dataframe\">\n",
       "  <thead>\n",
       "    <tr style=\"text-align: right;\">\n",
       "      <th></th>\n",
       "      <th>df</th>\n",
       "      <th>sum_sq</th>\n",
       "      <th>mean_sq</th>\n",
       "      <th>F</th>\n",
       "      <th>PR(&gt;F)</th>\n",
       "    </tr>\n",
       "  </thead>\n",
       "  <tbody>\n",
       "    <tr>\n",
       "      <th>rectal_exam_feces</th>\n",
       "      <td>3.0</td>\n",
       "      <td>0.049965</td>\n",
       "      <td>0.016655</td>\n",
       "      <td>0.518227</td>\n",
       "      <td>0.670218</td>\n",
       "    </tr>\n",
       "    <tr>\n",
       "      <th>Residual</th>\n",
       "      <td>193.0</td>\n",
       "      <td>6.202725</td>\n",
       "      <td>0.032138</td>\n",
       "      <td>NaN</td>\n",
       "      <td>NaN</td>\n",
       "    </tr>\n",
       "  </tbody>\n",
       "</table>\n",
       "</div>"
      ],
      "text/plain": [
       "                      df    sum_sq   mean_sq         F    PR(>F)\n",
       "rectal_exam_feces    3.0  0.049965  0.016655  0.518227  0.670218\n",
       "Residual           193.0  6.202725  0.032138       NaN       NaN"
      ]
     },
     "execution_count": 61,
     "metadata": {},
     "output_type": "execute_result"
    }
   ],
   "source": [
    "#checking if rectal_temp  differs according to the rectal_exam_feces type of the horse\n",
    "mod = ols(\"rectal_temp ~ rectal_exam_feces\", data = horsesrv).fit()\n",
    "anov_table = sm.stats.anova_lm(mod)\n",
    "anov_table"
   ]
  },
  {
   "cell_type": "code",
   "execution_count": 62,
   "id": "8db31129",
   "metadata": {},
   "outputs": [
    {
     "data": {
      "text/plain": [
       "<AxesSubplot:xlabel='pain', ylabel='pulse'>"
      ]
     },
     "execution_count": 62,
     "metadata": {},
     "output_type": "execute_result"
    },
    {
     "data": {
      "image/png": "[encoded data removed]",
      "text/plain": [
       "<Figure size 864x432 with 1 Axes>"
      ]
     },
     "metadata": {
      "needs_background": "light"
     },
     "output_type": "display_data"
    }
   ],
   "source": [
    "#box plot for pain vs pulse\n",
    "plt.figure(figsize=[12,6])\n",
    "sb.boxplot(\"pain\", \"pulse\", data=horsesrv)"
   ]
  },
  {
   "cell_type": "code",
   "execution_count": 63,
   "id": "8c941a6d",
   "metadata": {},
   "outputs": [
    {
     "data": {
      "text/html": [
       "<div>\n",
       "<style scoped>\n",
       "    .dataframe tbody tr th:only-of-type {\n",
       "        vertical-align: middle;\n",
       "    }\n",
       "\n",
       "    .dataframe tbody tr th {\n",
       "        vertical-align: top;\n",
       "    }\n",
       "\n",
       "    .dataframe thead th {\n",
       "        text-align: right;\n",
       "    }\n",
       "</style>\n",
       "<table border=\"1\" class=\"dataframe\">\n",
       "  <thead>\n",
       "    <tr style=\"text-align: right;\">\n",
       "      <th></th>\n",
       "      <th>df</th>\n",
       "      <th>sum_sq</th>\n",
       "      <th>mean_sq</th>\n",
       "      <th>F</th>\n",
       "      <th>PR(&gt;F)</th>\n",
       "    </tr>\n",
       "  </thead>\n",
       "  <tbody>\n",
       "    <tr>\n",
       "      <th>pain</th>\n",
       "      <td>4.0</td>\n",
       "      <td>30689.088744</td>\n",
       "      <td>7672.272186</td>\n",
       "      <td>15.59343</td>\n",
       "      <td>2.376481e-11</td>\n",
       "    </tr>\n",
       "    <tr>\n",
       "      <th>Residual</th>\n",
       "      <td>239.0</td>\n",
       "      <td>117592.665355</td>\n",
       "      <td>492.019520</td>\n",
       "      <td>NaN</td>\n",
       "      <td>NaN</td>\n",
       "    </tr>\n",
       "  </tbody>\n",
       "</table>\n",
       "</div>"
      ],
      "text/plain": [
       "             df         sum_sq      mean_sq         F        PR(>F)\n",
       "pain        4.0   30689.088744  7672.272186  15.59343  2.376481e-11\n",
       "Residual  239.0  117592.665355   492.019520       NaN           NaN"
      ]
     },
     "execution_count": 63,
     "metadata": {},
     "output_type": "execute_result"
    }
   ],
   "source": [
    "#checking if pulse differs according to the pain of the horse\n",
    "mod = ols(\"pulse ~ pain\", data = horsesrv).fit()\n",
    "anov_table = sm.stats.anova_lm(mod)\n",
    "anov_table"
   ]
  },
  {
   "cell_type": "code",
   "execution_count": 64,
   "id": "97dc47a6",
   "metadata": {},
   "outputs": [
    {
     "data": {
      "image/png": "[encoded data removed]",
      "text/plain": [
       "<Figure size 3600x720 with 1 Axes>"
      ]
     },
     "metadata": {
      "needs_background": "light"
     },
     "output_type": "display_data"
    }
   ],
   "source": [
    "#Are most horses CP certified? \n",
    "breed_certified=horsesrv['cp_data'].unique()\n",
    "horses=horsesrv['cp_data'].value_counts()\n",
    "\n",
    "#plotting number of horses per breed category\n",
    "plt.plot(breed_certified,horses)\n",
    "plt.title('Are the horses breed certified?')\n",
    "plt.xlabel('CP certified?')\n",
    "plt.ylabel('number of horses')\n",
    "plt.rcParams['figure.figsize'] = [17, 7]\n",
    "plt.show()\n",
    "\n"
   ]
  },
  {
   "cell_type": "code",
   "execution_count": 65,
   "id": "f1c25b1c",
   "metadata": {},
   "outputs": [
    {
     "name": "stdout",
     "output_type": "stream",
     "text": [
      "The mortality rate of horses due to colic is 40.468227424749166\n"
     ]
    }
   ],
   "source": [
    "#mortality rate\n",
    "saved= horsesrv[horsesrv.outcome == 'lived']\n",
    "notsaved= len(horsesrv)- len(saved)\n",
    "mort_rate= notsaved/len(horsesrv)*100\n",
    "print(\"The mortality rate of horses due to colic is {0}\".format(mort_rate))"
   ]
  },
  {
   "cell_type": "code",
   "execution_count": 66,
   "id": "09613116",
   "metadata": {},
   "outputs": [
    {
     "data": {
      "image/png": "[encoded data removed]",
      "text/plain": [
       "<Figure size 1224x504 with 1 Axes>"
      ]
     },
     "metadata": {},
     "output_type": "display_data"
    }
   ],
   "source": [
    "#which age group of horse was most likely to survive?\n",
    "age=saved['age'].unique()\n",
    "numbers=saved['age'].value_counts()\n",
    "\n",
    "#age wise survival percentage\n",
    "plt.pie(numbers, labels = age, startangle = 75,autopct='%.2f%%')\n",
    "plt.show()"
   ]
  },
  {
   "cell_type": "code",
   "execution_count": 67,
   "id": "96f1bf81",
   "metadata": {},
   "outputs": [
    {
     "data": {
      "image/png": "[encoded data removed]",
      "text/plain": [
       "<Figure size 1224x504 with 1 Axes>"
      ]
     },
     "metadata": {
      "needs_background": "light"
     },
     "output_type": "display_data"
    }
   ],
   "source": [
    "#which hospital_number was more likely to  have survivors\n",
    "hospital=saved['hospital_number'].unique()\n",
    "survivors=saved['hospital_number'].value_counts()\n",
    "\n",
    "#plotting survivors per hospital number\n",
    "plt.bar(survivors,hospital)\n",
    "\n",
    "plt.plot(survivors,hospital)\n",
    "plt.title('which hospital_number was more likely to  have survivors?')\n",
    "plt.xlabel('hospital_number')\n",
    "plt.ylabel('number of survivors')\n",
    "plt.rcParams['figure.figsize'] = [17, 7]\n",
    "plt.show()"
   ]
  },
  {
   "cell_type": "code",
   "execution_count": 68,
   "id": "e4f4bfe6",
   "metadata": {},
   "outputs": [
    {
     "data": {
      "text/plain": [
       "mild_pain       54\n",
       "alert           35\n",
       "depressed       33\n",
       "extreme_pain    12\n",
       "severe_pain     10\n",
       "Name: pain, dtype: int64"
      ]
     },
     "execution_count": 68,
     "metadata": {},
     "output_type": "execute_result"
    }
   ],
   "source": [
    "#checking number of survivors pain type \n",
    "saved['pain'].value_counts()"
   ]
  },
  {
   "cell_type": "code",
   "execution_count": 69,
   "id": "ac4655f8",
   "metadata": {},
   "outputs": [
    {
     "data": {
      "image/png": "[encoded data removed]",
      "text/plain": [
       "<Figure size 1224x504 with 1 Axes>"
      ]
     },
     "metadata": {
      "needs_background": "light"
     },
     "output_type": "display_data"
    }
   ],
   "source": [
    "#which hospital_number was more likely to  have survivors\n",
    "surgery=saved['surgery'].unique()\n",
    "survivors=saved['surgery'].value_counts()\n",
    "\n",
    "#plotting surivors per surgery type\n",
    "plt.bar(surgery,survivors)\n",
    "\n",
    "plt.title('Was surgery needed for survival?')\n",
    "plt.xlabel('Surgery status')\n",
    "plt.ylabel('number of survivors')\n",
    "plt.rcParams['figure.figsize'] = [17, 7]\n",
    "plt.show()"
   ]
  },
  {
   "cell_type": "code",
   "execution_count": 70,
   "id": "f246ccb5",
   "metadata": {},
   "outputs": [
    {
     "data": {
      "image/png": "[encoded data removed]",
      "text/plain": [
       "<Figure size 1224x504 with 1 Axes>"
      ]
     },
     "metadata": {
      "needs_background": "light"
     },
     "output_type": "display_data"
    }
   ],
   "source": [
    "#Did surgerical lesion save horses?\n",
    "lesion=saved['surgical_lesion'].unique()\n",
    "survivors=saved['surgical_lesion'].value_counts()\n",
    "\n",
    "#plotting surivors per lesion type\n",
    "plt.bar(lesion,survivors)\n",
    "\n",
    "plt.title('Was lesion needed for survival?')\n",
    "plt.xlabel('Surgery status')\n",
    "plt.ylabel('number of survivors')\n",
    "plt.rcParams['figure.figsize'] = [17, 7]\n",
    "plt.show()"
   ]
  },
  {
   "cell_type": "code",
   "execution_count": 71,
   "id": "48d47a78",
   "metadata": {
    "scrolled": true
   },
   "outputs": [
    {
     "data": {
      "text/plain": [
       "none            80\n",
       "less_1_liter    16\n",
       "more_1_liter    15\n",
       "Name: nasogastric_reflux, dtype: int64"
      ]
     },
     "execution_count": 71,
     "metadata": {},
     "output_type": "execute_result"
    }
   ],
   "source": [
    "#seeing number of nasogastric reflux\n",
    "saved['nasogastric_reflux'].value_counts()"
   ]
  },
  {
   "cell_type": "code",
   "execution_count": 72,
   "id": "4972118a",
   "metadata": {},
   "outputs": [
    {
     "data": {
      "image/png": "[encoded data removed]",
      "text/plain": [
       "<Figure size 1224x504 with 1 Axes>"
      ]
     },
     "metadata": {
      "needs_background": "light"
     },
     "output_type": "display_data"
    }
   ],
   "source": [
    "#were pedigree horses more likely to survive?\n",
    "ped=saved['cp_data'].unique()\n",
    "survivors=saved['cp_data'].value_counts()\n",
    "\n",
    "#plotting surivors per pedigree group\n",
    "plt.bar(ped,survivors)\n",
    "\n",
    "plt.title('share of pedigree horses in survival')\n",
    "plt.xlabel('pedigree status')\n",
    "plt.ylabel('number of survivors')\n",
    "plt.rcParams['figure.figsize'] = [17, 7]\n",
    "plt.show()"
   ]
  },
  {
   "cell_type": "code",
   "execution_count": 73,
   "id": "a8dd51ef",
   "metadata": {},
   "outputs": [
    {
     "data": {
      "text/plain": [
       "'blue is pedigree horse and yellow is normal'"
      ]
     },
     "execution_count": 73,
     "metadata": {},
     "output_type": "execute_result"
    },
    {
     "data": {
      "image/png": "[encoded data removed]",
      "text/plain": [
       "<Figure size 413.25x360 with 1 Axes>"
      ]
     },
     "metadata": {
      "needs_background": "light"
     },
     "output_type": "display_data"
    }
   ],
   "source": [
    "#Comparing pulse rate with nasogastric reflux and breed\n",
    "sb.catplot(data=saved, x=\"pulse\", y='nasogastric_reflux', hue=\"cp_data\", kind=\"swarm\")\n",
    "plt.rcParams['figure.figsize'] = [50, 10]\n",
    "\n",
    "\"blue is pedigree horse and yellow is normal\""
   ]
  },
  {
   "cell_type": "code",
   "execution_count": 74,
   "id": "375171d0",
   "metadata": {},
   "outputs": [
    {
     "data": {
      "text/plain": [
       "'blue is pedigree horse and yellow is normal'"
      ]
     },
     "execution_count": 74,
     "metadata": {},
     "output_type": "execute_result"
    },
    {
     "data": {
      "image/png": "[encoded data removed]",
      "text/plain": [
       "<Figure size 413.25x360 with 1 Axes>"
      ]
     },
     "metadata": {
      "needs_background": "light"
     },
     "output_type": "display_data"
    }
   ],
   "source": [
    "#Comparing total protein with breed and abdomo appearance\n",
    "sb.catplot(data=saved, x=\"total_protein\", y='abdomo_appearance', hue=\"cp_data\", kind=\"swarm\")\n",
    "plt.rcParams['figure.figsize'] = [50, 10]\n",
    "\n",
    "\"blue is pedigree horse and yellow is normal\""
   ]
  },
  {
   "cell_type": "code",
   "execution_count": 75,
   "id": "8ecd40e9",
   "metadata": {},
   "outputs": [
    {
     "data": {
      "text/plain": [
       "'blue is pedigree horse and yellow is normal'"
      ]
     },
     "execution_count": 75,
     "metadata": {},
     "output_type": "execute_result"
    },
    {
     "data": {
      "image/png": "[encoded data removed]",
      "text/plain": [
       "<Figure size 413.25x360 with 1 Axes>"
      ]
     },
     "metadata": {
      "needs_background": "light"
     },
     "output_type": "display_data"
    }
   ],
   "source": [
    "#Comparing pulse rate with peripheral pulse and breed\n",
    "sb.catplot(data=saved, x=\"pulse\", y='peripheral_pulse', hue=\"cp_data\", kind=\"swarm\")\n",
    "plt.rcParams['figure.figsize'] = [50, 10]\n",
    "\n",
    "\"blue is pedigree horse and yellow is normal\""
   ]
  },
  {
   "cell_type": "markdown",
   "id": "867deeb7",
   "metadata": {},
   "source": [
    "**Findings**\n",
    "\n",
    "*Note: My findings may or may not be medically accurate. i am not a vet or a horse expert.*\n",
    "\n",
    "Respiratory rate is correlated with pulse and packed cell volume\n",
    "\n",
    "Adult horses are more likely to survive colic\n",
    "\n",
    "Adult horses  have a higher respiratory rate\n",
    "\n",
    "The amount of protein affects the peristalsis level\n",
    "\n",
    "Rectal exam temperature levels affect the rectal affect temperature.\n",
    "\n",
    "Horses in higher level of pain have a higher pulse rate\n",
    "\n",
    "40% horses will die due to colic\n",
    "\n",
    "All hospitals offer the same chance of survival\n",
    "\n",
    "About two thirds horses are not certified only one thirds are. \n",
    "\n",
    "Most horses didnt need surgical lesion to survive\n",
    "\n",
    "Giving nasogastric reflux is a sign of colic and surviving horses didnt give nasogastric reflux\n",
    "\n",
    "Pedigreed horses were more likely to survive. \n",
    "\n",
    "Those who mostly didnt gave nasogastric reflux were having normal pulse rates and both types of horses were equally likely\n",
    "\n",
    "Most of the horses that lived needed a slight nasogastric tube to survive and had a normal respiratory rate\n",
    "\n",
    "The horses that survived has a normal pink mucuous membrane and a cell volume between 30 to 50. \n",
    "\n",
    "The surviving horses(mostly non pedigree) had a normal peripheral pulse and a rate of 60 to 80. \n",
    "\n",
    "Those who had a capillary refill time of less than 3 seconds were more likely to survive irrespective of respiratory rate.\n",
    "\n",
    "Among the Horses that survived pedigreed horses had lower protein and cloudier abdomo appearances. \n"
   ]
  },
  {
   "cell_type": "markdown",
   "id": "f6d67d84",
   "metadata": {},
   "source": [
    "**Step 4: Model Building**\n",
    "\n",
    "Now we are going to build the Decision Tree classifier  to predict the horses  who is likely to make it alive The data has been cleaned and explored. "
   ]
  },
  {
   "cell_type": "code",
   "execution_count": 76,
   "id": "ef06db80",
   "metadata": {},
   "outputs": [],
   "source": [
    "#creating target variable which is the outcome of the horse\n",
    "target=horsesrv['outcome']"
   ]
  },
  {
   "cell_type": "code",
   "execution_count": 77,
   "id": "aae4d2ec",
   "metadata": {},
   "outputs": [],
   "source": [
    "#removing target variable from main dataframe\n",
    "horsesrv= horsesrv.drop(['outcome'], axis=1)"
   ]
  },
  {
   "cell_type": "code",
   "execution_count": 79,
   "id": "0a2f6f9c",
   "metadata": {},
   "outputs": [
    {
     "data": {
      "text/plain": [
       "['surgery',\n",
       " 'age',\n",
       " 'temp_of_extremities',\n",
       " 'peripheral_pulse',\n",
       " 'mucous_membrane',\n",
       " 'capillary_refill_time',\n",
       " 'pain',\n",
       " 'peristalsis',\n",
       " 'abdominal_distention',\n",
       " 'nasogastric_tube',\n",
       " 'nasogastric_reflux',\n",
       " 'rectal_exam_feces',\n",
       " 'abdomen',\n",
       " 'abdomo_appearance',\n",
       " 'surgical_lesion',\n",
       " 'cp_data']"
      ]
     },
     "execution_count": 79,
     "metadata": {},
     "output_type": "execute_result"
    }
   ],
   "source": [
    "#defining category variables\n",
    "category_variables=['surgery', 'age', 'temp_of_extremities','peripheral_pulse',\n",
    "        'mucous_membrane', 'capillary_refill_time', 'pain', 'peristalsis',\n",
    "        'abdominal_distention', 'nasogastric_tube', 'nasogastric_reflux', 'rectal_exam_feces', 'abdomen',\n",
    "       'abdomo_appearance', 'surgical_lesion','cp_data']\n",
    "category_variables"
   ]
  },
  {
   "cell_type": "code",
   "execution_count": 80,
   "id": "56c922d9",
   "metadata": {},
   "outputs": [],
   "source": [
    "#integrating them\n",
    "horsesrv[category_variables]=['surgery', 'age', 'temp_of_extremities','peripheral_pulse',\n",
    "        'mucous_membrane', 'capillary_refill_time', 'pain', 'peristalsis',\n",
    "        'abdominal_distention', 'nasogastric_tube', 'nasogastric_reflux', 'rectal_exam_feces', 'abdomen',\n",
    "       'abdomo_appearance', 'surgical_lesion','cp_data']"
   ]
  },
  {
   "cell_type": "code",
   "execution_count": 81,
   "id": "64e2ca40",
   "metadata": {},
   "outputs": [],
   "source": [
    "#creating dummy variables \n",
    "\n",
    "\n",
    "for category in horsesrv[category_variables]:\n",
    "    horsesrv[category] = pd.get_dummies(horsesrv[category])\n"
   ]
  },
  {
   "cell_type": "code",
   "execution_count": 82,
   "id": "5255e0a0",
   "metadata": {},
   "outputs": [],
   "source": [
    "#imputing missing values\n",
    "imp= SimpleImputer(missing_values=np.nan, strategy=\"most_frequent\")\n",
    "horsesrv[category_variables]= imp.fit_transform(horsesrv[category_variables])"
   ]
  },
  {
   "cell_type": "code",
   "execution_count": 83,
   "id": "a5182ca7",
   "metadata": {},
   "outputs": [
    {
     "data": {
      "text/plain": [
       "surgery                  0\n",
       "age                      0\n",
       "hospital_number          0\n",
       "rectal_temp              0\n",
       "pulse                    0\n",
       "respiratory_rate         0\n",
       "temp_of_extremities      0\n",
       "peripheral_pulse         0\n",
       "mucous_membrane          0\n",
       "capillary_refill_time    0\n",
       "pain                     0\n",
       "peristalsis              0\n",
       "abdominal_distention     0\n",
       "nasogastric_tube         0\n",
       "nasogastric_reflux       0\n",
       "rectal_exam_feces        0\n",
       "abdomen                  0\n",
       "packed_cell_volume       0\n",
       "total_protein            0\n",
       "abdomo_appearance        0\n",
       "surgical_lesion          0\n",
       "lesion_1                 0\n",
       "lesion_2                 0\n",
       "lesion_3                 0\n",
       "cp_data                  0\n",
       "dtype: int64"
      ]
     },
     "execution_count": 83,
     "metadata": {},
     "output_type": "execute_result"
    }
   ],
   "source": [
    "#checking missing values \n",
    "\n",
    "horsesrv.isnull().sum()"
   ]
  },
  {
   "cell_type": "code",
   "execution_count": 84,
   "id": "82c9d585",
   "metadata": {},
   "outputs": [
    {
     "data": {
      "text/html": [
       "<div>\n",
       "<style scoped>\n",
       "    .dataframe tbody tr th:only-of-type {\n",
       "        vertical-align: middle;\n",
       "    }\n",
       "\n",
       "    .dataframe tbody tr th {\n",
       "        vertical-align: top;\n",
       "    }\n",
       "\n",
       "    .dataframe thead th {\n",
       "        text-align: right;\n",
       "    }\n",
       "</style>\n",
       "<table border=\"1\" class=\"dataframe\">\n",
       "  <thead>\n",
       "    <tr style=\"text-align: right;\">\n",
       "      <th></th>\n",
       "      <th>surgery</th>\n",
       "      <th>age</th>\n",
       "      <th>hospital_number</th>\n",
       "      <th>rectal_temp</th>\n",
       "      <th>pulse</th>\n",
       "      <th>respiratory_rate</th>\n",
       "      <th>temp_of_extremities</th>\n",
       "      <th>peripheral_pulse</th>\n",
       "      <th>mucous_membrane</th>\n",
       "      <th>capillary_refill_time</th>\n",
       "      <th>...</th>\n",
       "      <th>rectal_exam_feces</th>\n",
       "      <th>abdomen</th>\n",
       "      <th>packed_cell_volume</th>\n",
       "      <th>total_protein</th>\n",
       "      <th>abdomo_appearance</th>\n",
       "      <th>surgical_lesion</th>\n",
       "      <th>lesion_1</th>\n",
       "      <th>lesion_2</th>\n",
       "      <th>lesion_3</th>\n",
       "      <th>cp_data</th>\n",
       "    </tr>\n",
       "  </thead>\n",
       "  <tbody>\n",
       "    <tr>\n",
       "      <th>0</th>\n",
       "      <td>1</td>\n",
       "      <td>1</td>\n",
       "      <td>530101</td>\n",
       "      <td>38.5</td>\n",
       "      <td>66.0</td>\n",
       "      <td>28.0</td>\n",
       "      <td>1</td>\n",
       "      <td>1</td>\n",
       "      <td>1</td>\n",
       "      <td>1</td>\n",
       "      <td>...</td>\n",
       "      <td>1</td>\n",
       "      <td>1</td>\n",
       "      <td>45.0</td>\n",
       "      <td>8.4</td>\n",
       "      <td>1</td>\n",
       "      <td>1</td>\n",
       "      <td>11300</td>\n",
       "      <td>0</td>\n",
       "      <td>0</td>\n",
       "      <td>1</td>\n",
       "    </tr>\n",
       "    <tr>\n",
       "      <th>1</th>\n",
       "      <td>1</td>\n",
       "      <td>1</td>\n",
       "      <td>534817</td>\n",
       "      <td>38.2</td>\n",
       "      <td>88.0</td>\n",
       "      <td>20.0</td>\n",
       "      <td>1</td>\n",
       "      <td>1</td>\n",
       "      <td>1</td>\n",
       "      <td>1</td>\n",
       "      <td>...</td>\n",
       "      <td>1</td>\n",
       "      <td>1</td>\n",
       "      <td>50.0</td>\n",
       "      <td>85.0</td>\n",
       "      <td>1</td>\n",
       "      <td>1</td>\n",
       "      <td>2208</td>\n",
       "      <td>0</td>\n",
       "      <td>0</td>\n",
       "      <td>1</td>\n",
       "    </tr>\n",
       "    <tr>\n",
       "      <th>2</th>\n",
       "      <td>1</td>\n",
       "      <td>1</td>\n",
       "      <td>530334</td>\n",
       "      <td>38.3</td>\n",
       "      <td>40.0</td>\n",
       "      <td>24.0</td>\n",
       "      <td>1</td>\n",
       "      <td>1</td>\n",
       "      <td>1</td>\n",
       "      <td>1</td>\n",
       "      <td>...</td>\n",
       "      <td>1</td>\n",
       "      <td>1</td>\n",
       "      <td>33.0</td>\n",
       "      <td>6.7</td>\n",
       "      <td>1</td>\n",
       "      <td>1</td>\n",
       "      <td>0</td>\n",
       "      <td>0</td>\n",
       "      <td>0</td>\n",
       "      <td>1</td>\n",
       "    </tr>\n",
       "    <tr>\n",
       "      <th>3</th>\n",
       "      <td>1</td>\n",
       "      <td>1</td>\n",
       "      <td>5290409</td>\n",
       "      <td>38.2</td>\n",
       "      <td>64.0</td>\n",
       "      <td>25.0</td>\n",
       "      <td>1</td>\n",
       "      <td>1</td>\n",
       "      <td>1</td>\n",
       "      <td>1</td>\n",
       "      <td>...</td>\n",
       "      <td>1</td>\n",
       "      <td>1</td>\n",
       "      <td>48.0</td>\n",
       "      <td>7.2</td>\n",
       "      <td>1</td>\n",
       "      <td>1</td>\n",
       "      <td>2208</td>\n",
       "      <td>0</td>\n",
       "      <td>0</td>\n",
       "      <td>1</td>\n",
       "    </tr>\n",
       "    <tr>\n",
       "      <th>4</th>\n",
       "      <td>1</td>\n",
       "      <td>1</td>\n",
       "      <td>530255</td>\n",
       "      <td>38.2</td>\n",
       "      <td>104.0</td>\n",
       "      <td>35.0</td>\n",
       "      <td>1</td>\n",
       "      <td>1</td>\n",
       "      <td>1</td>\n",
       "      <td>1</td>\n",
       "      <td>...</td>\n",
       "      <td>1</td>\n",
       "      <td>1</td>\n",
       "      <td>45.0</td>\n",
       "      <td>7.4</td>\n",
       "      <td>1</td>\n",
       "      <td>1</td>\n",
       "      <td>4300</td>\n",
       "      <td>0</td>\n",
       "      <td>0</td>\n",
       "      <td>1</td>\n",
       "    </tr>\n",
       "  </tbody>\n",
       "</table>\n",
       "<p>5 rows × 25 columns</p>\n",
       "</div>"
      ],
      "text/plain": [
       "   surgery  age  hospital_number  rectal_temp  pulse  respiratory_rate  \\\n",
       "0        1    1           530101         38.5   66.0              28.0   \n",
       "1        1    1           534817         38.2   88.0              20.0   \n",
       "2        1    1           530334         38.3   40.0              24.0   \n",
       "3        1    1          5290409         38.2   64.0              25.0   \n",
       "4        1    1           530255         38.2  104.0              35.0   \n",
       "\n",
       "   temp_of_extremities  peripheral_pulse  mucous_membrane  \\\n",
       "0                    1                 1                1   \n",
       "1                    1                 1                1   \n",
       "2                    1                 1                1   \n",
       "3                    1                 1                1   \n",
       "4                    1                 1                1   \n",
       "\n",
       "   capillary_refill_time  ...  rectal_exam_feces  abdomen  packed_cell_volume  \\\n",
       "0                      1  ...                  1        1                45.0   \n",
       "1                      1  ...                  1        1                50.0   \n",
       "2                      1  ...                  1        1                33.0   \n",
       "3                      1  ...                  1        1                48.0   \n",
       "4                      1  ...                  1        1                45.0   \n",
       "\n",
       "   total_protein  abdomo_appearance  surgical_lesion  lesion_1  lesion_2  \\\n",
       "0            8.4                  1                1     11300         0   \n",
       "1           85.0                  1                1      2208         0   \n",
       "2            6.7                  1                1         0         0   \n",
       "3            7.2                  1                1      2208         0   \n",
       "4            7.4                  1                1      4300         0   \n",
       "\n",
       "   lesion_3  cp_data  \n",
       "0         0        1  \n",
       "1         0        1  \n",
       "2         0        1  \n",
       "3         0        1  \n",
       "4         0        1  \n",
       "\n",
       "[5 rows x 25 columns]"
      ]
     },
     "execution_count": 84,
     "metadata": {},
     "output_type": "execute_result"
    }
   ],
   "source": [
    "#checking the new dummy variables\n",
    "horsesrv.head()"
   ]
  },
  {
   "cell_type": "code",
   "execution_count": 85,
   "id": "91872a1e",
   "metadata": {},
   "outputs": [
    {
     "data": {
      "text/plain": [
       "(299, 25)"
      ]
     },
     "execution_count": 85,
     "metadata": {},
     "output_type": "execute_result"
    }
   ],
   "source": [
    "#checking shape of transformed dataset\n",
    "horsesrv.shape"
   ]
  },
  {
   "cell_type": "code",
   "execution_count": 86,
   "id": "3db7bc66",
   "metadata": {},
   "outputs": [
    {
     "data": {
      "text/plain": [
       "DecisionTreeClassifier()"
      ]
     },
     "execution_count": 86,
     "metadata": {},
     "output_type": "execute_result"
    }
   ],
   "source": [
    "#getting classifier\n",
    "\n",
    "dct=DecisionTreeClassifier()\n",
    "\n",
    "dct"
   ]
  },
  {
   "cell_type": "code",
   "execution_count": 87,
   "id": "ec6f0926",
   "metadata": {},
   "outputs": [
    {
     "data": {
      "text/plain": [
       "LabelEncoder()"
      ]
     },
     "execution_count": 87,
     "metadata": {},
     "output_type": "execute_result"
    }
   ],
   "source": [
    "#initializing label encoder\n",
    "le=LabelEncoder()\n",
    "le"
   ]
  },
  {
   "cell_type": "code",
   "execution_count": 88,
   "id": "58c39c69",
   "metadata": {},
   "outputs": [],
   "source": [
    "#standard scaler initiate\n",
    "sc=StandardScaler()"
   ]
  },
  {
   "cell_type": "code",
   "execution_count": 89,
   "id": "a90a59b5",
   "metadata": {},
   "outputs": [
    {
     "data": {
      "text/plain": [
       "array([0, 1, 2, 0, 0, 2, 2, 0, 1, 2, 2, 2, 2, 0, 2, 0, 0, 2, 2, 2, 2, 2,\n",
       "       2, 2, 2, 2, 2, 2, 0, 2, 0, 1, 2, 2, 2, 1, 1, 2, 2, 0, 0, 2, 2, 1,\n",
       "       1, 0, 2, 2, 0, 0, 2, 0, 2, 2, 1, 0, 2, 0, 0, 0, 2, 2, 0, 1, 2, 2,\n",
       "       2, 2, 2, 2, 1, 2, 0, 0, 0, 1, 2, 2, 0, 2, 0, 2, 2, 0, 2, 2, 0, 1,\n",
       "       2, 2, 2, 0, 2, 0, 2, 2, 2, 1, 2, 2, 2, 1, 2, 2, 0, 2, 2, 2, 1, 0,\n",
       "       0, 2, 2, 0, 2, 2, 2, 1, 2, 2, 2, 1, 2, 0, 1, 2, 2, 2, 1, 2, 0, 0,\n",
       "       2, 0, 0, 0, 2, 2, 2, 2, 0, 0, 2, 1, 2, 2, 0, 2, 2, 2, 0, 2, 2, 2,\n",
       "       2, 2, 1, 2, 2, 2, 0, 2, 1, 2, 1, 2, 2, 2, 1, 2, 0, 2, 0, 0, 2, 2,\n",
       "       0, 2, 1, 0, 2, 0, 2, 2, 2, 2, 2, 2, 2, 2, 2, 2, 0, 2, 2, 1, 0, 2,\n",
       "       2, 2, 0, 1, 2, 2, 1, 2, 0, 1, 2, 0, 0, 2, 2, 2, 2, 2, 2, 1, 2, 1,\n",
       "       2, 2, 2, 2, 2, 0, 2, 1, 2, 2, 0, 2, 2, 2, 0, 2, 2, 1, 1, 0, 2, 0,\n",
       "       2, 2, 0, 2, 0, 2, 2, 1, 0, 0, 2, 2, 0, 1, 0, 2, 0, 2, 2, 2, 0, 2,\n",
       "       1, 2, 2, 2, 2, 0, 2, 2, 0, 1, 0, 1, 2, 2, 2, 2, 0, 0, 2, 2, 2, 1,\n",
       "       2, 2, 2, 2, 0, 0, 1, 2, 1, 1, 0, 2, 1])"
      ]
     },
     "execution_count": 89,
     "metadata": {},
     "output_type": "execute_result"
    }
   ],
   "source": [
    "#transforming target variable\n",
    "target=le.fit_transform(target)\n",
    "target"
   ]
  },
  {
   "cell_type": "code",
   "execution_count": 119,
   "id": "879bfa40",
   "metadata": {},
   "outputs": [],
   "source": [
    "#converting to Dataframe\n",
    "horsesrv= pd.DataFrame(horsesrv)\n",
    "target= pd.DataFrame(target)"
   ]
  },
  {
   "cell_type": "code",
   "execution_count": 120,
   "id": "4a65b2f5",
   "metadata": {},
   "outputs": [],
   "source": [
    "#creating X and y\n",
    "X = horsesrv.values\n",
    "y= target.values\n"
   ]
  },
  {
   "cell_type": "code",
   "execution_count": 121,
   "id": "a9ec01ab",
   "metadata": {},
   "outputs": [],
   "source": [
    "#train test split\n",
    "X_train, X_test, y_train, y_test = train_test_split(X, y, test_size =0.25, random_state=1)\n"
   ]
  },
  {
   "cell_type": "code",
   "execution_count": 122,
   "id": "abd4fe3b",
   "metadata": {},
   "outputs": [],
   "source": [
    "#using standard scaler\n",
    "X_train=sc.fit_transform(X_train)\n",
    "X_test=sc.transform(X_test)"
   ]
  },
  {
   "cell_type": "code",
   "execution_count": 123,
   "id": "71c537fd",
   "metadata": {},
   "outputs": [
    {
     "data": {
      "text/plain": [
       "DecisionTreeClassifier()"
      ]
     },
     "execution_count": 123,
     "metadata": {},
     "output_type": "execute_result"
    }
   ],
   "source": [
    "#fitting the model \n",
    "dct.fit(X_train,y_train)"
   ]
  },
  {
   "cell_type": "code",
   "execution_count": 124,
   "id": "39145a9c",
   "metadata": {},
   "outputs": [
    {
     "data": {
      "text/plain": [
       "array([0, 0, 0, 2, 2, 2, 2, 0, 2, 2, 2, 2, 2, 0, 0, 2, 0, 2, 0, 2, 0, 0,\n",
       "       2, 2, 0, 2, 2, 0, 2, 0, 2, 0, 2, 0, 2, 0, 2, 2, 1, 2, 1, 2, 0, 0,\n",
       "       2, 0, 1, 0, 0, 2, 2, 0, 0, 0, 0, 2, 2, 2, 2, 1, 2, 2, 1, 0, 0, 0,\n",
       "       2, 2, 2, 2, 2, 2, 2, 2, 0])"
      ]
     },
     "execution_count": 124,
     "metadata": {},
     "output_type": "execute_result"
    }
   ],
   "source": [
    "#predict\n",
    "ypred= dct.predict(X_test)\n",
    "ypred"
   ]
  },
  {
   "cell_type": "code",
   "execution_count": 128,
   "id": "50f29c87",
   "metadata": {},
   "outputs": [
    {
     "name": "stdout",
     "output_type": "stream",
     "text": [
      "Accuracy of the model: 62.66666666666667%\n"
     ]
    }
   ],
   "source": [
    "\n",
    "#accuracy\n",
    "print(\"Accuracy of the model: {0}%\".format(accuracy_score(y_test,ypred)*100))"
   ]
  },
  {
   "cell_type": "code",
   "execution_count": 126,
   "id": "1cd194af",
   "metadata": {},
   "outputs": [
    {
     "name": "stdout",
     "output_type": "stream",
     "text": [
      "[[17  1  7]\n",
      " [ 1  1  5]\n",
      " [11  3 29]]\n"
     ]
    }
   ],
   "source": [
    "#confusion matrix\n",
    "cm=confusion_matrix(y_test,ypred)\n",
    "print(cm)"
   ]
  },
  {
   "cell_type": "code",
   "execution_count": 127,
   "id": "9fa16454",
   "metadata": {},
   "outputs": [
    {
     "name": "stdout",
     "output_type": "stream",
     "text": [
      "              precision    recall  f1-score   support\n",
      "\n",
      "           0       0.59      0.68      0.63        25\n",
      "           1       0.20      0.14      0.17         7\n",
      "           2       0.71      0.67      0.69        43\n",
      "\n",
      "    accuracy                           0.63        75\n",
      "   macro avg       0.50      0.50      0.50        75\n",
      "weighted avg       0.62      0.63      0.62        75\n",
      "\n"
     ]
    }
   ],
   "source": [
    "#printing metrics\n",
    "print(classification_report(y_test,ypred))\n"
   ]
  },
  {
   "cell_type": "code",
   "execution_count": 131,
   "id": "c6a635d4",
   "metadata": {},
   "outputs": [],
   "source": [
    "#using random forest \n",
    "rf=RandomForestClassifier()"
   ]
  },
  {
   "cell_type": "code",
   "execution_count": 132,
   "id": "c3022d94",
   "metadata": {},
   "outputs": [
    {
     "data": {
      "text/plain": [
       "RandomForestClassifier()"
      ]
     },
     "execution_count": 132,
     "metadata": {},
     "output_type": "execute_result"
    }
   ],
   "source": [
    "#fitting the model \n",
    "rf.fit(X_train,y_train)"
   ]
  },
  {
   "cell_type": "code",
   "execution_count": 133,
   "id": "7195cf16",
   "metadata": {},
   "outputs": [
    {
     "data": {
      "text/plain": [
       "array([0, 2, 0, 2, 2, 2, 0, 0, 2, 2, 2, 2, 2, 0, 0, 2, 0, 2, 0, 2, 2, 2,\n",
       "       2, 0, 0, 2, 2, 0, 2, 1, 2, 0, 2, 0, 2, 0, 2, 2, 1, 2, 0, 2, 2, 1,\n",
       "       2, 0, 1, 2, 0, 2, 2, 0, 2, 0, 2, 2, 2, 2, 2, 2, 2, 2, 2, 0, 0, 0,\n",
       "       2, 2, 2, 2, 1, 2, 2, 2, 0])"
      ]
     },
     "execution_count": 133,
     "metadata": {},
     "output_type": "execute_result"
    }
   ],
   "source": [
    "#predict\n",
    "ypred= rf.predict(X_test)\n",
    "ypred"
   ]
  },
  {
   "cell_type": "code",
   "execution_count": 134,
   "id": "0a56f1ac",
   "metadata": {},
   "outputs": [
    {
     "name": "stdout",
     "output_type": "stream",
     "text": [
      "Accuracy of the model: 72.0%\n"
     ]
    }
   ],
   "source": [
    "#accuracy\n",
    "print(\"Accuracy of the model: {0}%\".format(accuracy_score(y_test,ypred)*100))"
   ]
  },
  {
   "cell_type": "code",
   "execution_count": 135,
   "id": "44601186",
   "metadata": {},
   "outputs": [
    {
     "name": "stdout",
     "output_type": "stream",
     "text": [
      "[[17  2  6]\n",
      " [ 1  1  5]\n",
      " [ 5  2 36]]\n"
     ]
    }
   ],
   "source": [
    "#confusion matrix\n",
    "cm=confusion_matrix(y_test,ypred)\n",
    "print(cm)"
   ]
  },
  {
   "cell_type": "code",
   "execution_count": 136,
   "id": "0dd06119",
   "metadata": {},
   "outputs": [
    {
     "name": "stdout",
     "output_type": "stream",
     "text": [
      "              precision    recall  f1-score   support\n",
      "\n",
      "           0       0.74      0.68      0.71        25\n",
      "           1       0.20      0.14      0.17         7\n",
      "           2       0.77      0.84      0.80        43\n",
      "\n",
      "    accuracy                           0.72        75\n",
      "   macro avg       0.57      0.55      0.56        75\n",
      "weighted avg       0.70      0.72      0.71        75\n",
      "\n"
     ]
    }
   ],
   "source": [
    "#printing metrics\n",
    "print(classification_report(y_test,ypred))\n"
   ]
  },
  {
   "cell_type": "markdown",
   "id": "695a8438",
   "metadata": {},
   "source": [
    "**Conclusion**\n",
    "\n",
    "The model has 63% accuracy using decision tree which could not be improved despite data cleaning activities. Decision Tree doesnt depend on outliers and other factors. The accuracy is low due to lack of important variables and less data for training. \n",
    "By using Random forest the accuracy went upto 72%.\n"
   ]
  }
 ],
 "metadata": {
  "kernelspec": {
   "display_name": "Python 3 (ipykernel)",
   "language": "python",
   "name": "python3"
  },
  "language_info": {
   "codemirror_mode": {
    "name": "ipython",
    "version": 3
   },
   "file_extension": ".py",
   "mimetype": "text/x-python",
   "name": "python",
   "nbconvert_exporter": "python",
   "pygments_lexer": "ipython3",
   "version": "3.9.12"
  }
 },
 "nbformat": 4,
 "nbformat_minor": 5
}
