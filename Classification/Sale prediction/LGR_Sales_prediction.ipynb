{
 "cells": [
  {
   "cell_type": "markdown",
   "id": "cd7cb9d2",
   "metadata": {},
   "source": [
    "#  Sales prediction using LGR\n",
    "\n",
    "In this scenario we are using a fictional data of an ecommerce website that has been generated randomly for practice.We are trying to build an algorithm using LGR that predicts whether the customer will buy our product or not. \n",
    "\n",
    "\n",
    "We have data from an e-commerce site that has the dependent variable 1:Buying the product and 0:Not buying anything. We have to see which customers are most likely to buy the product and what are the features i.e. nationality, day, income etc of the ideal customer. \n",
    "\n",
    "Then we will know which group of customers we need to target more and which group is more profitable so and so. \n"
   ]
  },
  {
   "cell_type": "markdown",
   "id": "a5f41e05",
   "metadata": {},
   "source": [
    "**Step 1: Preparing the environment**\n",
    "\n",
    "We will import the packages and the necessary libraries from Python. We will import the csv file from our computer and open the dataset. We will have a quick look at the features before proceding. \n"
   ]
  },
  {
   "cell_type": "code",
   "execution_count": 1,
   "id": "8fd9c0d7",
   "metadata": {},
   "outputs": [],
   "source": [
    "#importing packages\n",
    "\n",
    "from pandas import Series;  from numpy.random import randn\n",
    "from statsmodels.stats.weightstats import ttest_ind\n",
    "import scipy.stats as stats\n",
    "from scipy.stats import ttest_ind\n",
    "import pandas as pd\n",
    "import numpy as np\n",
    "import seaborn as sb\n",
    "%matplotlib inline\n",
    "from matplotlib import pyplot as plt\n",
    "from scipy.stats import shapiro\n",
    "from scipy import stats\n",
    "from sklearn.metrics import classification_report\n",
    "from sklearn.pipeline import Pipeline\n",
    "from sklearn.preprocessing import StandardScaler\n",
    "from sklearn.model_selection import train_test_split\n",
    "from sklearn.model_selection import cross_val_score\n",
    "from sklearn.model_selection import cross_val_predict\n",
    "from sklearn.feature_selection import mutual_info_regression\n",
    "from sklearn.linear_model import Ridge\n",
    "from sklearn.model_selection import GridSearchCV\n",
    "from datetime import datetime\n",
    "from datetime import date\n",
    "import statsmodels.api as sm\n",
    "from statsmodels.formula.api import ols\n",
    "from sklearn.preprocessing import StandardScaler\n",
    "from sklearn.linear_model import LogisticRegression as lgr\n",
    "from mpl_toolkits.mplot3d import Axes3D\n",
    "from sklearn import preprocessing as preproc\n",
    "from sklearn import metrics\n",
    "from sklearn.datasets import make_classification\n",
    "from sklearn.linear_model import LogisticRegression\n",
    "from sklearn.model_selection import train_test_split\n",
    "from sklearn.pipeline import make_pipeline\n",
    "from sklearn.preprocessing import StandardScaler\n",
    "from sklearn.neighbors import KNeighborsRegressor\n",
    "from sklearn.metrics import accuracy_score, auc, balanced_accuracy_score, confusion_matrix, f1_score, precision_score, average_precision_score, roc_auc_score,  recall_score,  precision_recall_curve as skm"
   ]
  },
  {
   "cell_type": "code",
   "execution_count": 2,
   "id": "d412e16e",
   "metadata": {},
   "outputs": [],
   "source": [
    "from sklearn.feature_selection import mutual_info_regression"
   ]
  },
  {
   "cell_type": "code",
   "execution_count": 3,
   "id": "11142cd9",
   "metadata": {},
   "outputs": [
    {
     "data": {
      "text/html": [
       "<div>\n",
       "<style scoped>\n",
       "    .dataframe tbody tr th:only-of-type {\n",
       "        vertical-align: middle;\n",
       "    }\n",
       "\n",
       "    .dataframe tbody tr th {\n",
       "        vertical-align: top;\n",
       "    }\n",
       "\n",
       "    .dataframe thead th {\n",
       "        text-align: right;\n",
       "    }\n",
       "</style>\n",
       "<table border=\"1\" class=\"dataframe\">\n",
       "  <thead>\n",
       "    <tr style=\"text-align: right;\">\n",
       "      <th></th>\n",
       "      <th>Cust_ID</th>\n",
       "      <th>Gender</th>\n",
       "      <th>Device</th>\n",
       "      <th>First_timer?</th>\n",
       "      <th>Channel</th>\n",
       "      <th>Day</th>\n",
       "      <th>Min_spent</th>\n",
       "      <th>Clicks</th>\n",
       "      <th>Annual_inc</th>\n",
       "      <th>Country</th>\n",
       "      <th>Age</th>\n",
       "      <th>Purchased</th>\n",
       "      <th>Unnamed: 12</th>\n",
       "      <th>Unnamed: 13</th>\n",
       "      <th>Unnamed: 14</th>\n",
       "      <th>Unnamed: 15</th>\n",
       "    </tr>\n",
       "  </thead>\n",
       "  <tbody>\n",
       "    <tr>\n",
       "      <th>0</th>\n",
       "      <td>J#58032A</td>\n",
       "      <td>male</td>\n",
       "      <td>PC</td>\n",
       "      <td>1.0</td>\n",
       "      <td>Social media ads</td>\n",
       "      <td>FRI</td>\n",
       "      <td>4.0</td>\n",
       "      <td>21.0</td>\n",
       "      <td>40000.0</td>\n",
       "      <td>India</td>\n",
       "      <td>41.0</td>\n",
       "      <td>0</td>\n",
       "      <td>NaN</td>\n",
       "      <td>NaN</td>\n",
       "      <td>NaN</td>\n",
       "      <td>NaN</td>\n",
       "    </tr>\n",
       "    <tr>\n",
       "      <th>1</th>\n",
       "      <td>Z#51384I</td>\n",
       "      <td>male</td>\n",
       "      <td>Mobile</td>\n",
       "      <td>1.0</td>\n",
       "      <td>Google search</td>\n",
       "      <td>WED</td>\n",
       "      <td>2.0</td>\n",
       "      <td>17.0</td>\n",
       "      <td>40000.0</td>\n",
       "      <td>China</td>\n",
       "      <td>32.0</td>\n",
       "      <td>0</td>\n",
       "      <td>NaN</td>\n",
       "      <td>NaN</td>\n",
       "      <td>NaN</td>\n",
       "      <td>NaN</td>\n",
       "    </tr>\n",
       "    <tr>\n",
       "      <th>2</th>\n",
       "      <td>T#46862G</td>\n",
       "      <td>female</td>\n",
       "      <td>PC</td>\n",
       "      <td>0.0</td>\n",
       "      <td>Other</td>\n",
       "      <td>FRI</td>\n",
       "      <td>7.0</td>\n",
       "      <td>20.0</td>\n",
       "      <td>35000.0</td>\n",
       "      <td>Japan</td>\n",
       "      <td>58.0</td>\n",
       "      <td>1</td>\n",
       "      <td>NaN</td>\n",
       "      <td>NaN</td>\n",
       "      <td>NaN</td>\n",
       "      <td>NaN</td>\n",
       "    </tr>\n",
       "    <tr>\n",
       "      <th>3</th>\n",
       "      <td>M#33554V</td>\n",
       "      <td>male</td>\n",
       "      <td>Mobile</td>\n",
       "      <td>1.0</td>\n",
       "      <td>Google search</td>\n",
       "      <td>TUE</td>\n",
       "      <td>5.0</td>\n",
       "      <td>15.0</td>\n",
       "      <td>35000.0</td>\n",
       "      <td>Canada</td>\n",
       "      <td>54.0</td>\n",
       "      <td>0</td>\n",
       "      <td>NaN</td>\n",
       "      <td>NaN</td>\n",
       "      <td>NaN</td>\n",
       "      <td>NaN</td>\n",
       "    </tr>\n",
       "    <tr>\n",
       "      <th>4</th>\n",
       "      <td>X#92545O</td>\n",
       "      <td>male</td>\n",
       "      <td>Mobile</td>\n",
       "      <td>1.0</td>\n",
       "      <td>Social media ads</td>\n",
       "      <td>SAT</td>\n",
       "      <td>9.0</td>\n",
       "      <td>19.0</td>\n",
       "      <td>10000.0</td>\n",
       "      <td>Ireland</td>\n",
       "      <td>55.0</td>\n",
       "      <td>1</td>\n",
       "      <td>NaN</td>\n",
       "      <td>NaN</td>\n",
       "      <td>NaN</td>\n",
       "      <td>NaN</td>\n",
       "    </tr>\n",
       "  </tbody>\n",
       "</table>\n",
       "</div>"
      ],
      "text/plain": [
       "    Cust_ID  Gender  Device  First_timer?          Channel   Day  Min_spent  \\\n",
       "0  J#58032A    male      PC           1.0  Social media ads  FRI        4.0   \n",
       "1  Z#51384I    male  Mobile           1.0     Google search  WED        2.0   \n",
       "2  T#46862G  female      PC           0.0             Other  FRI        7.0   \n",
       "3  M#33554V    male  Mobile           1.0     Google search  TUE        5.0   \n",
       "4  X#92545O    male  Mobile           1.0  Social media ads  SAT        9.0   \n",
       "\n",
       "   Clicks   Annual_inc  Country   Age  Purchased   Unnamed: 12  Unnamed: 13  \\\n",
       "0     21.0     40000.0    India  41.0           0          NaN          NaN   \n",
       "1     17.0     40000.0    China  32.0           0          NaN          NaN   \n",
       "2     20.0     35000.0    Japan  58.0           1          NaN          NaN   \n",
       "3     15.0     35000.0   Canada  54.0           0          NaN          NaN   \n",
       "4     19.0     10000.0  Ireland  55.0           1          NaN          NaN   \n",
       "\n",
       "   Unnamed: 14 Unnamed: 15  \n",
       "0          NaN         NaN  \n",
       "1          NaN         NaN  \n",
       "2          NaN         NaN  \n",
       "3          NaN         NaN  \n",
       "4          NaN         NaN  "
      ]
     },
     "execution_count": 3,
     "metadata": {},
     "output_type": "execute_result"
    }
   ],
   "source": [
    "#loading the dataset\n",
    "saledf=pd.read_csv(\"C:\\\\Users\\\\sujoydutta\\\\Desktop\\\\Data analysis\\\\Datasets\\\\DigitalAd_dataset.csv\")\n",
    "saledf.head()"
   ]
  },
  {
   "cell_type": "code",
   "execution_count": 4,
   "id": "7f686f38",
   "metadata": {},
   "outputs": [
    {
     "name": "stdout",
     "output_type": "stream",
     "text": [
      "<class 'pandas.core.frame.DataFrame'>\n",
      "RangeIndex: 10999 entries, 0 to 10998\n",
      "Data columns (total 16 columns):\n",
      " #   Column        Non-Null Count  Dtype  \n",
      "---  ------        --------------  -----  \n",
      " 0   Cust_ID       10999 non-null  object \n",
      " 1   Gender        10267 non-null  object \n",
      " 2   Device        9743 non-null   object \n",
      " 3   First_timer?  10417 non-null  float64\n",
      " 4   Channel       10866 non-null  object \n",
      " 5   Day           10999 non-null  object \n",
      " 6   Min_spent     10978 non-null  float64\n",
      " 7   Clicks        10858 non-null  float64\n",
      " 8   Annual_inc    9897 non-null   float64\n",
      " 9   Country       10913 non-null  object \n",
      " 10  Age           10867 non-null  float64\n",
      " 11  Purchased     10999 non-null  int64  \n",
      " 12  Unnamed: 12   0 non-null      float64\n",
      " 13  Unnamed: 13   0 non-null      float64\n",
      " 14  Unnamed: 14   0 non-null      float64\n",
      " 15  Unnamed: 15   1 non-null      object \n",
      "dtypes: float64(8), int64(1), object(7)\n",
      "memory usage: 1.3+ MB\n"
     ]
    }
   ],
   "source": [
    "#understanding the dataset\n",
    "saledf.info()"
   ]
  },
  {
   "cell_type": "markdown",
   "id": "59d11867",
   "metadata": {},
   "source": [
    "**Step 2: Data cleaning**\n",
    "\n",
    "We are going to clean the dataset and make it good for analysis. In this step the null values will be replaced by mean(numerical variables) and mode(categorical variables). Then we will replace the outliers in the dataset. Records and fields deemed irrelevant will be dropped. "
   ]
  },
  {
   "cell_type": "code",
   "execution_count": 5,
   "id": "08911392",
   "metadata": {},
   "outputs": [
    {
     "data": {
      "text/plain": [
       "Cust_ID          object\n",
       "Gender           object\n",
       "Device           object\n",
       "First_timer?    float64\n",
       "Channel          object\n",
       "Day              object\n",
       "Min_spent       float64\n",
       "Clicks          float64\n",
       "Annual_inc      float64\n",
       "Country          object\n",
       "Age             float64\n",
       "Purchased         int64\n",
       "Unnamed: 12     float64\n",
       "Unnamed: 13     float64\n",
       "Unnamed: 14     float64\n",
       "Unnamed: 15      object\n",
       "dtype: object"
      ]
     },
     "execution_count": 5,
     "metadata": {},
     "output_type": "execute_result"
    }
   ],
   "source": [
    "#seeing the datatypes\n",
    "saledf.dtypes"
   ]
  },
  {
   "cell_type": "code",
   "execution_count": 6,
   "id": "fddca1e5",
   "metadata": {},
   "outputs": [
    {
     "data": {
      "text/plain": [
       "(10999, 16)"
      ]
     },
     "execution_count": 6,
     "metadata": {},
     "output_type": "execute_result"
    }
   ],
   "source": [
    "#seeing the shape\n",
    "saledf.shape"
   ]
  },
  {
   "cell_type": "code",
   "execution_count": 7,
   "id": "1d76d440",
   "metadata": {},
   "outputs": [
    {
     "data": {
      "text/plain": [
       "Cust_ID             0\n",
       "Gender            732\n",
       "Device           1256\n",
       "First_timer?      582\n",
       "Channel           133\n",
       "Day                 0\n",
       "Min_spent          21\n",
       "Clicks            141\n",
       "Annual_inc       1102\n",
       "Country            86\n",
       "Age               132\n",
       "Purchased           0\n",
       "Unnamed: 12     10999\n",
       "Unnamed: 13     10999\n",
       "Unnamed: 14     10999\n",
       "Unnamed: 15     10998\n",
       "dtype: int64"
      ]
     },
     "execution_count": 7,
     "metadata": {},
     "output_type": "execute_result"
    }
   ],
   "source": [
    "#seeing null values\n",
    "saledf.isnull().sum()"
   ]
  },
  {
   "cell_type": "code",
   "execution_count": 8,
   "id": "ff5f539d",
   "metadata": {},
   "outputs": [
    {
     "data": {
      "text/html": [
       "<div>\n",
       "<style scoped>\n",
       "    .dataframe tbody tr th:only-of-type {\n",
       "        vertical-align: middle;\n",
       "    }\n",
       "\n",
       "    .dataframe tbody tr th {\n",
       "        vertical-align: top;\n",
       "    }\n",
       "\n",
       "    .dataframe thead th {\n",
       "        text-align: right;\n",
       "    }\n",
       "</style>\n",
       "<table border=\"1\" class=\"dataframe\">\n",
       "  <thead>\n",
       "    <tr style=\"text-align: right;\">\n",
       "      <th></th>\n",
       "      <th>Cust_ID</th>\n",
       "      <th>Gender</th>\n",
       "      <th>Device</th>\n",
       "      <th>First_timer?</th>\n",
       "      <th>Channel</th>\n",
       "      <th>Day</th>\n",
       "      <th>Min_spent</th>\n",
       "      <th>Clicks</th>\n",
       "      <th>Annual_inc</th>\n",
       "      <th>Country</th>\n",
       "      <th>Age</th>\n",
       "      <th>Purchased</th>\n",
       "      <th>Unnamed: 12</th>\n",
       "      <th>Unnamed: 13</th>\n",
       "      <th>Unnamed: 14</th>\n",
       "      <th>Unnamed: 15</th>\n",
       "    </tr>\n",
       "  </thead>\n",
       "  <tbody>\n",
       "    <tr>\n",
       "      <th>0</th>\n",
       "      <td>False</td>\n",
       "      <td>False</td>\n",
       "      <td>False</td>\n",
       "      <td>False</td>\n",
       "      <td>False</td>\n",
       "      <td>False</td>\n",
       "      <td>False</td>\n",
       "      <td>False</td>\n",
       "      <td>False</td>\n",
       "      <td>False</td>\n",
       "      <td>False</td>\n",
       "      <td>False</td>\n",
       "      <td>True</td>\n",
       "      <td>True</td>\n",
       "      <td>True</td>\n",
       "      <td>True</td>\n",
       "    </tr>\n",
       "    <tr>\n",
       "      <th>1</th>\n",
       "      <td>False</td>\n",
       "      <td>False</td>\n",
       "      <td>False</td>\n",
       "      <td>False</td>\n",
       "      <td>False</td>\n",
       "      <td>False</td>\n",
       "      <td>False</td>\n",
       "      <td>False</td>\n",
       "      <td>False</td>\n",
       "      <td>False</td>\n",
       "      <td>False</td>\n",
       "      <td>False</td>\n",
       "      <td>True</td>\n",
       "      <td>True</td>\n",
       "      <td>True</td>\n",
       "      <td>True</td>\n",
       "    </tr>\n",
       "    <tr>\n",
       "      <th>2</th>\n",
       "      <td>False</td>\n",
       "      <td>False</td>\n",
       "      <td>False</td>\n",
       "      <td>False</td>\n",
       "      <td>False</td>\n",
       "      <td>False</td>\n",
       "      <td>False</td>\n",
       "      <td>False</td>\n",
       "      <td>False</td>\n",
       "      <td>False</td>\n",
       "      <td>False</td>\n",
       "      <td>False</td>\n",
       "      <td>True</td>\n",
       "      <td>True</td>\n",
       "      <td>True</td>\n",
       "      <td>True</td>\n",
       "    </tr>\n",
       "    <tr>\n",
       "      <th>3</th>\n",
       "      <td>False</td>\n",
       "      <td>False</td>\n",
       "      <td>False</td>\n",
       "      <td>False</td>\n",
       "      <td>False</td>\n",
       "      <td>False</td>\n",
       "      <td>False</td>\n",
       "      <td>False</td>\n",
       "      <td>False</td>\n",
       "      <td>False</td>\n",
       "      <td>False</td>\n",
       "      <td>False</td>\n",
       "      <td>True</td>\n",
       "      <td>True</td>\n",
       "      <td>True</td>\n",
       "      <td>True</td>\n",
       "    </tr>\n",
       "    <tr>\n",
       "      <th>4</th>\n",
       "      <td>False</td>\n",
       "      <td>False</td>\n",
       "      <td>False</td>\n",
       "      <td>False</td>\n",
       "      <td>False</td>\n",
       "      <td>False</td>\n",
       "      <td>False</td>\n",
       "      <td>False</td>\n",
       "      <td>False</td>\n",
       "      <td>False</td>\n",
       "      <td>False</td>\n",
       "      <td>False</td>\n",
       "      <td>True</td>\n",
       "      <td>True</td>\n",
       "      <td>True</td>\n",
       "      <td>True</td>\n",
       "    </tr>\n",
       "    <tr>\n",
       "      <th>...</th>\n",
       "      <td>...</td>\n",
       "      <td>...</td>\n",
       "      <td>...</td>\n",
       "      <td>...</td>\n",
       "      <td>...</td>\n",
       "      <td>...</td>\n",
       "      <td>...</td>\n",
       "      <td>...</td>\n",
       "      <td>...</td>\n",
       "      <td>...</td>\n",
       "      <td>...</td>\n",
       "      <td>...</td>\n",
       "      <td>...</td>\n",
       "      <td>...</td>\n",
       "      <td>...</td>\n",
       "      <td>...</td>\n",
       "    </tr>\n",
       "    <tr>\n",
       "      <th>10994</th>\n",
       "      <td>False</td>\n",
       "      <td>False</td>\n",
       "      <td>False</td>\n",
       "      <td>False</td>\n",
       "      <td>False</td>\n",
       "      <td>False</td>\n",
       "      <td>False</td>\n",
       "      <td>False</td>\n",
       "      <td>False</td>\n",
       "      <td>False</td>\n",
       "      <td>False</td>\n",
       "      <td>False</td>\n",
       "      <td>True</td>\n",
       "      <td>True</td>\n",
       "      <td>True</td>\n",
       "      <td>True</td>\n",
       "    </tr>\n",
       "    <tr>\n",
       "      <th>10995</th>\n",
       "      <td>False</td>\n",
       "      <td>False</td>\n",
       "      <td>False</td>\n",
       "      <td>False</td>\n",
       "      <td>False</td>\n",
       "      <td>False</td>\n",
       "      <td>False</td>\n",
       "      <td>False</td>\n",
       "      <td>False</td>\n",
       "      <td>False</td>\n",
       "      <td>False</td>\n",
       "      <td>False</td>\n",
       "      <td>True</td>\n",
       "      <td>True</td>\n",
       "      <td>True</td>\n",
       "      <td>True</td>\n",
       "    </tr>\n",
       "    <tr>\n",
       "      <th>10996</th>\n",
       "      <td>False</td>\n",
       "      <td>False</td>\n",
       "      <td>False</td>\n",
       "      <td>False</td>\n",
       "      <td>False</td>\n",
       "      <td>False</td>\n",
       "      <td>False</td>\n",
       "      <td>False</td>\n",
       "      <td>False</td>\n",
       "      <td>False</td>\n",
       "      <td>False</td>\n",
       "      <td>False</td>\n",
       "      <td>True</td>\n",
       "      <td>True</td>\n",
       "      <td>True</td>\n",
       "      <td>True</td>\n",
       "    </tr>\n",
       "    <tr>\n",
       "      <th>10997</th>\n",
       "      <td>False</td>\n",
       "      <td>False</td>\n",
       "      <td>False</td>\n",
       "      <td>False</td>\n",
       "      <td>False</td>\n",
       "      <td>False</td>\n",
       "      <td>False</td>\n",
       "      <td>False</td>\n",
       "      <td>False</td>\n",
       "      <td>False</td>\n",
       "      <td>False</td>\n",
       "      <td>False</td>\n",
       "      <td>True</td>\n",
       "      <td>True</td>\n",
       "      <td>True</td>\n",
       "      <td>True</td>\n",
       "    </tr>\n",
       "    <tr>\n",
       "      <th>10998</th>\n",
       "      <td>False</td>\n",
       "      <td>False</td>\n",
       "      <td>False</td>\n",
       "      <td>False</td>\n",
       "      <td>False</td>\n",
       "      <td>False</td>\n",
       "      <td>False</td>\n",
       "      <td>False</td>\n",
       "      <td>False</td>\n",
       "      <td>False</td>\n",
       "      <td>False</td>\n",
       "      <td>False</td>\n",
       "      <td>True</td>\n",
       "      <td>True</td>\n",
       "      <td>True</td>\n",
       "      <td>True</td>\n",
       "    </tr>\n",
       "  </tbody>\n",
       "</table>\n",
       "<p>10999 rows × 16 columns</p>\n",
       "</div>"
      ],
      "text/plain": [
       "       Cust_ID  Gender  Device  First_timer?  Channel     Day  Min_spent  \\\n",
       "0        False   False   False         False     False  False      False   \n",
       "1        False   False   False         False     False  False      False   \n",
       "2        False   False   False         False     False  False      False   \n",
       "3        False   False   False         False     False  False      False   \n",
       "4        False   False   False         False     False  False      False   \n",
       "...        ...     ...     ...           ...       ...    ...        ...   \n",
       "10994    False   False   False         False     False  False      False   \n",
       "10995    False   False   False         False     False  False      False   \n",
       "10996    False   False   False         False     False  False      False   \n",
       "10997    False   False   False         False     False  False      False   \n",
       "10998    False   False   False         False     False  False      False   \n",
       "\n",
       "       Clicks   Annual_inc  Country    Age  Purchased   Unnamed: 12  \\\n",
       "0        False       False    False  False       False         True   \n",
       "1        False       False    False  False       False         True   \n",
       "2        False       False    False  False       False         True   \n",
       "3        False       False    False  False       False         True   \n",
       "4        False       False    False  False       False         True   \n",
       "...        ...         ...      ...    ...         ...          ...   \n",
       "10994    False       False    False  False       False         True   \n",
       "10995    False       False    False  False       False         True   \n",
       "10996    False       False    False  False       False         True   \n",
       "10997    False       False    False  False       False         True   \n",
       "10998    False       False    False  False       False         True   \n",
       "\n",
       "       Unnamed: 13  Unnamed: 14  Unnamed: 15  \n",
       "0             True         True         True  \n",
       "1             True         True         True  \n",
       "2             True         True         True  \n",
       "3             True         True         True  \n",
       "4             True         True         True  \n",
       "...            ...          ...          ...  \n",
       "10994         True         True         True  \n",
       "10995         True         True         True  \n",
       "10996         True         True         True  \n",
       "10997         True         True         True  \n",
       "10998         True         True         True  \n",
       "\n",
       "[10999 rows x 16 columns]"
      ]
     },
     "execution_count": 8,
     "metadata": {},
     "output_type": "execute_result"
    }
   ],
   "source": [
    "#seeing the missing data\n",
    "missing_data=saledf.isnull()\n",
    "missing_data"
   ]
  },
  {
   "cell_type": "code",
   "execution_count": 9,
   "id": "001d63e2",
   "metadata": {},
   "outputs": [
    {
     "name": "stdout",
     "output_type": "stream",
     "text": [
      "Cust_ID False    10999\n",
      "Name: Cust_ID, dtype: int64\n",
      "\n",
      "Gender False    10267\n",
      "True       732\n",
      "Name: Gender, dtype: int64\n",
      "\n",
      "Device False    9743\n",
      "True     1256\n",
      "Name: Device, dtype: int64\n",
      "\n",
      "First_timer? False    10417\n",
      "True       582\n",
      "Name: First_timer?, dtype: int64\n",
      "\n",
      "Channel  False    10866\n",
      "True       133\n",
      "Name: Channel , dtype: int64\n",
      "\n",
      "Day False    10999\n",
      "Name: Day, dtype: int64\n",
      "\n",
      "Min_spent False    10978\n",
      "True        21\n",
      "Name: Min_spent, dtype: int64\n",
      "\n",
      "Clicks  False    10858\n",
      "True       141\n",
      "Name: Clicks , dtype: int64\n",
      "\n",
      "Annual_inc False    9897\n",
      "True     1102\n",
      "Name: Annual_inc, dtype: int64\n",
      "\n",
      "Country False    10913\n",
      "True        86\n",
      "Name: Country, dtype: int64\n",
      "\n",
      "Age False    10867\n",
      "True       132\n",
      "Name: Age, dtype: int64\n",
      "\n",
      "Purchased  False    10999\n",
      "Name: Purchased , dtype: int64\n",
      "\n",
      "Unnamed: 12 True    10999\n",
      "Name: Unnamed: 12, dtype: int64\n",
      "\n",
      "Unnamed: 13 True    10999\n",
      "Name: Unnamed: 13, dtype: int64\n",
      "\n",
      "Unnamed: 14 True    10999\n",
      "Name: Unnamed: 14, dtype: int64\n",
      "\n",
      "Unnamed: 15 True     10998\n",
      "False        1\n",
      "Name: Unnamed: 15, dtype: int64\n",
      "\n"
     ]
    }
   ],
   "source": [
    "#let us see the number of missing values in each column\n",
    "for column in missing_data.columns.values.tolist():\n",
    "  print(column,missing_data[column].value_counts())\n",
    "  print(\"\")"
   ]
  },
  {
   "cell_type": "code",
   "execution_count": 10,
   "id": "03ba55f6",
   "metadata": {},
   "outputs": [
    {
     "name": "stdout",
     "output_type": "stream",
     "text": [
      "<class 'pandas.core.frame.DataFrame'>\n",
      "RangeIndex: 10999 entries, 0 to 10998\n",
      "Data columns (total 16 columns):\n",
      " #   Column        Non-Null Count  Dtype  \n",
      "---  ------        --------------  -----  \n",
      " 0   Cust_ID       10999 non-null  object \n",
      " 1   Gender        10267 non-null  object \n",
      " 2   Device        9743 non-null   object \n",
      " 3   First_timer?  10417 non-null  float64\n",
      " 4   Channel       10866 non-null  object \n",
      " 5   Day           10999 non-null  object \n",
      " 6   Min_spent     10978 non-null  float64\n",
      " 7   Clicks        10858 non-null  float64\n",
      " 8   Annual_inc    9897 non-null   float64\n",
      " 9   Country       10913 non-null  object \n",
      " 10  Age           10867 non-null  float64\n",
      " 11  Purchased     10999 non-null  int64  \n",
      " 12  Unnamed: 12   0 non-null      float64\n",
      " 13  Unnamed: 13   0 non-null      float64\n",
      " 14  Unnamed: 14   0 non-null      float64\n",
      " 15  Unnamed: 15   1 non-null      object \n",
      "dtypes: float64(8), int64(1), object(7)\n",
      "memory usage: 1.3+ MB\n",
      "None\n"
     ]
    }
   ],
   "source": [
    "#replacing missing values with nan(Not a number) that makes things simpler for python\n",
    "saledf.replace(\"?\",np.nan,inplace = True)\n",
    "print(saledf.info())"
   ]
  },
  {
   "cell_type": "code",
   "execution_count": 11,
   "id": "f7141851",
   "metadata": {},
   "outputs": [
    {
     "name": "stdout",
     "output_type": "stream",
     "text": [
      "Cust_ID False    10999\n",
      "Name: Cust_ID, dtype: int64\n",
      "\n",
      "Gender False    10267\n",
      "True       732\n",
      "Name: Gender, dtype: int64\n",
      "\n",
      "Device False    9743\n",
      "True     1256\n",
      "Name: Device, dtype: int64\n",
      "\n",
      "First_timer? False    10417\n",
      "True       582\n",
      "Name: First_timer?, dtype: int64\n",
      "\n",
      "Channel  False    10866\n",
      "True       133\n",
      "Name: Channel , dtype: int64\n",
      "\n",
      "Day False    10999\n",
      "Name: Day, dtype: int64\n",
      "\n",
      "Min_spent False    10978\n",
      "True        21\n",
      "Name: Min_spent, dtype: int64\n",
      "\n",
      "Clicks  False    10858\n",
      "True       141\n",
      "Name: Clicks , dtype: int64\n",
      "\n",
      "Annual_inc False    9897\n",
      "True     1102\n",
      "Name: Annual_inc, dtype: int64\n",
      "\n",
      "Country False    10913\n",
      "True        86\n",
      "Name: Country, dtype: int64\n",
      "\n",
      "Age False    10867\n",
      "True       132\n",
      "Name: Age, dtype: int64\n",
      "\n",
      "Purchased  False    10999\n",
      "Name: Purchased , dtype: int64\n",
      "\n",
      "Unnamed: 12 True    10999\n",
      "Name: Unnamed: 12, dtype: int64\n",
      "\n",
      "Unnamed: 13 True    10999\n",
      "Name: Unnamed: 13, dtype: int64\n",
      "\n",
      "Unnamed: 14 True    10999\n",
      "Name: Unnamed: 14, dtype: int64\n",
      "\n",
      "Unnamed: 15 True     10998\n",
      "False        1\n",
      "Name: Unnamed: 15, dtype: int64\n",
      "\n"
     ]
    }
   ],
   "source": [
    "#let us see the number of missing values in each column\n",
    "for column in saledf.columns.values.tolist():\n",
    "  print(column,missing_data[column].value_counts())\n",
    "  print(\"\")"
   ]
  },
  {
   "cell_type": "code",
   "execution_count": 12,
   "id": "fd414f54",
   "metadata": {},
   "outputs": [
    {
     "name": "stdout",
     "output_type": "stream",
     "text": [
      "<class 'pandas.core.frame.DataFrame'>\n",
      "RangeIndex: 10999 entries, 0 to 10998\n",
      "Data columns (total 16 columns):\n",
      " #   Column        Non-Null Count  Dtype  \n",
      "---  ------        --------------  -----  \n",
      " 0   Cust_ID       10999 non-null  object \n",
      " 1   Gender        10267 non-null  object \n",
      " 2   Device        9743 non-null   object \n",
      " 3   First_timer?  10417 non-null  float64\n",
      " 4   Channel       10866 non-null  object \n",
      " 5   Day           10999 non-null  object \n",
      " 6   Min_spent     10978 non-null  float64\n",
      " 7   Clicks        10858 non-null  float64\n",
      " 8   Annual_inc    9897 non-null   float64\n",
      " 9   Country       10913 non-null  object \n",
      " 10  Age           10867 non-null  float64\n",
      " 11  Purchased     10999 non-null  int64  \n",
      " 12  Unnamed: 12   0 non-null      float64\n",
      " 13  Unnamed: 13   0 non-null      float64\n",
      " 14  Unnamed: 14   0 non-null      float64\n",
      " 15  Unnamed: 15   1 non-null      object \n",
      "dtypes: float64(8), int64(1), object(7)\n",
      "memory usage: 1.3+ MB\n",
      "None\n"
     ]
    }
   ],
   "source": [
    "#replacing missing values with nan(Not a number) that makes things simpler for python\n",
    "saledf.replace(\"?\",np.nan,inplace = True)\n",
    "print(saledf.info())"
   ]
  },
  {
   "cell_type": "code",
   "execution_count": 13,
   "id": "907abb5c",
   "metadata": {},
   "outputs": [],
   "source": [
    "#removing useless columns \n",
    "saledf=saledf.drop(['Cust_ID','Unnamed: 12','Unnamed: 13','Unnamed: 14','Unnamed: 15'],  axis=1)"
   ]
  },
  {
   "cell_type": "code",
   "execution_count": 14,
   "id": "93aa840d",
   "metadata": {},
   "outputs": [
    {
     "name": "stdout",
     "output_type": "stream",
     "text": [
      "male      5275\n",
      "female    4992\n",
      "Name: Gender, dtype: int64\n",
      "the mode value is male\n"
     ]
    }
   ],
   "source": [
    "#taking mode values of gender and replacing null values\n",
    "gendercnt=saledf['Gender'].value_counts()\n",
    "print(gendercnt)\n",
    "mode_gender=saledf['Gender'].value_counts().idxmax()\n",
    "print(\"the mode value is\",mode_gender)\n",
    "saledf['Gender'].replace(np.nan, mode_gender, inplace=True)"
   ]
  },
  {
   "cell_type": "code",
   "execution_count": 15,
   "id": "7c3d7127",
   "metadata": {},
   "outputs": [
    {
     "name": "stdout",
     "output_type": "stream",
     "text": [
      "Tablet    2524\n",
      "Mobile    2447\n",
      "PC        2387\n",
      "Other     2385\n",
      "Name: Device, dtype: int64\n",
      "the mode value is Tablet\n"
     ]
    }
   ],
   "source": [
    "#taking mode values of device and replacing null values\n",
    "devcnt=saledf['Device'].value_counts()\n",
    "print(devcnt)\n",
    "mode_dev=saledf['Device'].value_counts().idxmax()\n",
    "print(\"the mode value is\",mode_dev)\n",
    "saledf['Device'].replace(np.nan, mode_dev, inplace=True)"
   ]
  },
  {
   "cell_type": "code",
   "execution_count": 16,
   "id": "6f9e098a",
   "metadata": {},
   "outputs": [
    {
     "name": "stdout",
     "output_type": "stream",
     "text": [
      "1.0    5309\n",
      "0.0    5108\n",
      "Name: First_timer?, dtype: int64\n",
      "the mode value is 1.0\n"
     ]
    }
   ],
   "source": [
    "#taking mode values of First_timer?  and replacing null values\n",
    "ftcnt=saledf['First_timer?'].value_counts()\n",
    "print(ftcnt)\n",
    "mode_ft=saledf['First_timer?'].value_counts().idxmax()\n",
    "print(\"the mode value is\",mode_ft)\n",
    "saledf['First_timer?'].replace(np.nan, mode_ft, inplace=True)"
   ]
  },
  {
   "cell_type": "code",
   "execution_count": 17,
   "id": "63decd65",
   "metadata": {},
   "outputs": [
    {
     "name": "stdout",
     "output_type": "stream",
     "text": [
      "Google search       1386\n",
      "Email               1376\n",
      "Affiliate link      1368\n",
      "Referral            1367\n",
      "Other               1357\n",
      "Youtube channel     1349\n",
      "Social media ads    1334\n",
      "Website             1329\n",
      "Name: Channel , dtype: int64\n",
      "the mode value is Google search\n"
     ]
    }
   ],
   "source": [
    "#taking mode values of Channel  and replacing null values\n",
    "chncnt=saledf['Channel '].value_counts()\n",
    "print(chncnt)\n",
    "mode_chn=saledf['Channel '].value_counts().idxmax()\n",
    "print(\"the mode value is\",mode_chn)\n",
    "saledf['Channel '].replace(np.nan, mode_chn, inplace=True)"
   ]
  },
  {
   "cell_type": "code",
   "execution_count": 18,
   "id": "a6ab29ab",
   "metadata": {},
   "outputs": [
    {
     "name": "stdout",
     "output_type": "stream",
     "text": [
      "FRI    1633\n",
      "SAT    1602\n",
      "TUE    1582\n",
      "WED    1574\n",
      "SUN    1559\n",
      "MON    1535\n",
      "THU    1514\n",
      "Name: Day, dtype: int64\n",
      "the mode value is FRI\n"
     ]
    }
   ],
   "source": [
    "#taking mode values of Day  and replacing null values\n",
    "daycnt=saledf['Day'].value_counts()\n",
    "print(daycnt)\n",
    "mode_day=saledf['Day'].value_counts().idxmax()\n",
    "print(\"the mode value is\",mode_day)\n",
    "saledf['Day'].replace(np.nan, mode_day, inplace=True)"
   ]
  },
  {
   "cell_type": "code",
   "execution_count": 19,
   "id": "74e6d1a5",
   "metadata": {},
   "outputs": [
    {
     "name": "stdout",
     "output_type": "stream",
     "text": [
      "USA         1149\n",
      "China       1123\n",
      "Canada      1120\n",
      "India       1094\n",
      "Malaysia    1088\n",
      "Ireland     1085\n",
      "Japan       1083\n",
      "Mexico      1074\n",
      "Russia      1060\n",
      "UK          1037\n",
      "Name: Country, dtype: int64\n",
      "the mode value is USA\n"
     ]
    }
   ],
   "source": [
    "#taking mode values of Country and replacing null values\n",
    "councnt=saledf['Country'].value_counts()\n",
    "print(councnt)\n",
    "mode_coun=saledf['Country'].value_counts().idxmax()\n",
    "print(\"the mode value is\",mode_coun)\n",
    "saledf['Country'].replace(np.nan, mode_coun, inplace=True)"
   ]
  },
  {
   "cell_type": "code",
   "execution_count": 20,
   "id": "d5feb4ff",
   "metadata": {},
   "outputs": [
    {
     "name": "stdout",
     "output_type": "stream",
     "text": [
      "The average time spent on website is 8.44006194206595 minutes.\n",
      "The average annual income is  49176.1139739315 american dollars.\n",
      "The average age of a vistor is 42.88267231066532 years.\n",
      "The average number is  20.03370786516854 clicks.\n"
     ]
    }
   ],
   "source": [
    "#taking mean values of numerical feature\n",
    "#gathering mean values of numerical variables\n",
    "avg_min= saledf[\"Min_spent\"].astype(\"float\").mean(axis=0)\n",
    "print(\"The average time spent on website is\",avg_min,\"minutes.\")\n",
    "avg_inc= saledf[\"Annual_inc\"].astype(\"float\").mean(axis=0)\n",
    "print(\"The average annual income is \",avg_inc,\"american dollars.\")\n",
    "avg_age= saledf[\"Age\"].astype(\"float\").mean(axis=0)\n",
    "print(\"The average age of a vistor is\",avg_age,\"years.\")\n",
    "avg_click= saledf[\"Clicks \"].astype(\"float\").mean(axis=0)\n",
    "print(\"The average number is \",avg_click,\"clicks.\")"
   ]
  },
  {
   "cell_type": "code",
   "execution_count": 21,
   "id": "d88099c7",
   "metadata": {},
   "outputs": [],
   "source": [
    "#replacing numerical missing values with mean\n",
    "saledf[\"Min_spent\"].replace(np.nan, avg_min, inplace=True)\n",
    "saledf[\"Annual_inc\"].replace(np.nan, avg_inc, inplace=True)\n",
    "saledf[\"Age\"].replace(np.nan, avg_age, inplace=True)\n",
    "saledf[\"Clicks \"].replace(np.nan, avg_click, inplace=True)"
   ]
  },
  {
   "cell_type": "code",
   "execution_count": 22,
   "id": "b388574d",
   "metadata": {},
   "outputs": [
    {
     "data": {
      "text/plain": [
       "Gender          0\n",
       "Device          0\n",
       "First_timer?    0\n",
       "Channel         0\n",
       "Day             0\n",
       "Min_spent       0\n",
       "Clicks          0\n",
       "Annual_inc      0\n",
       "Country         0\n",
       "Age             0\n",
       "Purchased       0\n",
       "dtype: int64"
      ]
     },
     "execution_count": 22,
     "metadata": {},
     "output_type": "execute_result"
    }
   ],
   "source": [
    "#seeing if all null values are gone\n",
    "saledf.isnull().sum()"
   ]
  },
  {
   "cell_type": "code",
   "execution_count": 23,
   "id": "4495375d",
   "metadata": {},
   "outputs": [
    {
     "name": "stderr",
     "output_type": "stream",
     "text": [
      "C:\\Users\\sujoydutta\\anaconda3\\lib\\site-packages\\seaborn\\_decorators.py:36: FutureWarning: Pass the following variable as a keyword arg: x. From version 0.12, the only valid positional argument will be `data`, and passing other arguments without an explicit keyword will result in an error or misinterpretation.\n",
      "  warnings.warn(\n"
     ]
    },
    {
     "data": {
      "text/plain": [
       "<AxesSubplot:xlabel='Min_spent'>"
      ]
     },
     "execution_count": 23,
     "metadata": {},
     "output_type": "execute_result"
    },
    {
     "data": {
      "image/png": "[encoded data removed]",
      "text/plain": [
       "<Figure size 432x288 with 1 Axes>"
      ]
     },
     "metadata": {
      "needs_background": "light"
     },
     "output_type": "display_data"
    }
   ],
   "source": [
    "#seeing outliers in min_spent\n",
    "sb.boxplot(saledf[\"Min_spent\"])"
   ]
  },
  {
   "cell_type": "code",
   "execution_count": 24,
   "id": "c8d4a94d",
   "metadata": {},
   "outputs": [
    {
     "name": "stderr",
     "output_type": "stream",
     "text": [
      "C:\\Users\\sujoydutta\\anaconda3\\lib\\site-packages\\seaborn\\_decorators.py:36: FutureWarning: Pass the following variable as a keyword arg: x. From version 0.12, the only valid positional argument will be `data`, and passing other arguments without an explicit keyword will result in an error or misinterpretation.\n",
      "  warnings.warn(\n"
     ]
    },
    {
     "data": {
      "text/plain": [
       "<AxesSubplot:xlabel='Age'>"
      ]
     },
     "execution_count": 24,
     "metadata": {},
     "output_type": "execute_result"
    },
    {
     "data": {
      "image/png": "[encoded data removed]",
      "text/plain": [
       "<Figure size 432x288 with 1 Axes>"
      ]
     },
     "metadata": {
      "needs_background": "light"
     },
     "output_type": "display_data"
    }
   ],
   "source": [
    "#seeing outliers in age\n",
    "sb.boxplot(saledf[\"Age\"])"
   ]
  },
  {
   "cell_type": "code",
   "execution_count": 25,
   "id": "3197ee5a",
   "metadata": {},
   "outputs": [
    {
     "name": "stderr",
     "output_type": "stream",
     "text": [
      "C:\\Users\\sujoydutta\\anaconda3\\lib\\site-packages\\seaborn\\_decorators.py:36: FutureWarning: Pass the following variable as a keyword arg: x. From version 0.12, the only valid positional argument will be `data`, and passing other arguments without an explicit keyword will result in an error or misinterpretation.\n",
      "  warnings.warn(\n"
     ]
    },
    {
     "data": {
      "text/plain": [
       "<AxesSubplot:xlabel='Clicks '>"
      ]
     },
     "execution_count": 25,
     "metadata": {},
     "output_type": "execute_result"
    },
    {
     "data": {
      "image/png": "[encoded data removed]",
      "text/plain": [
       "<Figure size 432x288 with 1 Axes>"
      ]
     },
     "metadata": {
      "needs_background": "light"
     },
     "output_type": "display_data"
    }
   ],
   "source": [
    "#seeing outliers in clicks\n",
    "sb.boxplot(saledf[\"Clicks \"])"
   ]
  },
  {
   "cell_type": "code",
   "execution_count": 26,
   "id": "cc55bfb7",
   "metadata": {},
   "outputs": [
    {
     "name": "stderr",
     "output_type": "stream",
     "text": [
      "C:\\Users\\sujoydutta\\anaconda3\\lib\\site-packages\\seaborn\\_decorators.py:36: FutureWarning: Pass the following variable as a keyword arg: x. From version 0.12, the only valid positional argument will be `data`, and passing other arguments without an explicit keyword will result in an error or misinterpretation.\n",
      "  warnings.warn(\n"
     ]
    },
    {
     "data": {
      "text/plain": [
       "<AxesSubplot:xlabel='Annual_inc'>"
      ]
     },
     "execution_count": 26,
     "metadata": {},
     "output_type": "execute_result"
    },
    {
     "data": {
      "image/png": "[encoded data removed]",
      "text/plain": [
       "<Figure size 432x288 with 1 Axes>"
      ]
     },
     "metadata": {
      "needs_background": "light"
     },
     "output_type": "display_data"
    }
   ],
   "source": [
    "#seeing outliers in annual income\n",
    "sb.boxplot(saledf[\"Annual_inc\"])"
   ]
  },
  {
   "cell_type": "markdown",
   "id": "805d318d",
   "metadata": {},
   "source": [
    "**Step 3: Feature engineering**\n",
    "\n",
    "Here we are going to modify variables for better use. We are also going to analyse the variables and find out their utility value.\n",
    "We will encode the categories in categorical variables so that they can be used for LGR. We will rename columns to make them suitable. "
   ]
  },
  {
   "cell_type": "code",
   "execution_count": 27,
   "id": "b687cbc3",
   "metadata": {},
   "outputs": [
    {
     "data": {
      "text/html": [
       "<div>\n",
       "<style scoped>\n",
       "    .dataframe tbody tr th:only-of-type {\n",
       "        vertical-align: middle;\n",
       "    }\n",
       "\n",
       "    .dataframe tbody tr th {\n",
       "        vertical-align: top;\n",
       "    }\n",
       "\n",
       "    .dataframe thead th {\n",
       "        text-align: right;\n",
       "    }\n",
       "</style>\n",
       "<table border=\"1\" class=\"dataframe\">\n",
       "  <thead>\n",
       "    <tr style=\"text-align: right;\">\n",
       "      <th></th>\n",
       "      <th>Gender</th>\n",
       "      <th>Device</th>\n",
       "      <th>First_timer?</th>\n",
       "      <th>Channel</th>\n",
       "      <th>Day</th>\n",
       "      <th>Min_spent</th>\n",
       "      <th>Clicks</th>\n",
       "      <th>Annual_inc</th>\n",
       "      <th>Country</th>\n",
       "      <th>Age</th>\n",
       "      <th>Purchased</th>\n",
       "    </tr>\n",
       "  </thead>\n",
       "  <tbody>\n",
       "  </tbody>\n",
       "</table>\n",
       "</div>"
      ],
      "text/plain": [
       "Empty DataFrame\n",
       "Columns: [Gender, Device, First_timer?, Channel , Day, Min_spent, Clicks , Annual_inc, Country, Age, Purchased ]\n",
       "Index: []"
      ]
     },
     "execution_count": 27,
     "metadata": {},
     "output_type": "execute_result"
    }
   ],
   "source": [
    "saledf.head(0)"
   ]
  },
  {
   "cell_type": "code",
   "execution_count": 28,
   "id": "44830ebc",
   "metadata": {},
   "outputs": [],
   "source": [
    "#converting variable type\n",
    "saledf['First_timer?']=saledf['First_timer?'].astype(str)\n",
    "saledf['Purchased ']=saledf['Purchased '].astype(str)"
   ]
  },
  {
   "cell_type": "code",
   "execution_count": 29,
   "id": "0a52e2e3",
   "metadata": {},
   "outputs": [
    {
     "name": "stdout",
     "output_type": "stream",
     "text": [
      "<class 'pandas.core.frame.DataFrame'>\n",
      "RangeIndex: 10999 entries, 0 to 10998\n",
      "Data columns (total 11 columns):\n",
      " #   Column        Non-Null Count  Dtype  \n",
      "---  ------        --------------  -----  \n",
      " 0   Gender        10999 non-null  object \n",
      " 1   Device        10999 non-null  object \n",
      " 2   First_timer?  10999 non-null  object \n",
      " 3   Channel       10999 non-null  object \n",
      " 4   Day           10999 non-null  object \n",
      " 5   Min_spent     10999 non-null  float64\n",
      " 6   Clicks        10999 non-null  float64\n",
      " 7   Annual_inc    10999 non-null  float64\n",
      " 8   Country       10999 non-null  object \n",
      " 9   Age           10999 non-null  float64\n",
      " 10  Purchased     10999 non-null  object \n",
      "dtypes: float64(4), object(7)\n",
      "memory usage: 945.4+ KB\n"
     ]
    }
   ],
   "source": [
    "saledf.info()"
   ]
  },
  {
   "cell_type": "code",
   "execution_count": 30,
   "id": "c12eacc2",
   "metadata": {},
   "outputs": [],
   "source": [
    "#renaming\n",
    "saledf.rename(columns={\n",
    "        \"Purchased \": \"Bought?\",\n",
    "        \"Clicks \": \"clickcount\",\n",
    "        \"Channel \": \"Came_from?\"\n",
    "        \n",
    "    }, inplace=True,\n",
    "    )\n"
   ]
  },
  {
   "cell_type": "code",
   "execution_count": 31,
   "id": "a83087fa",
   "metadata": {},
   "outputs": [],
   "source": [
    "#initalizing encoder\n",
    "label_encoder=preproc.LabelEncoder()\n",
    "\n",
    "#encoding categorical variables \n",
    "devenc=label_encoder.fit_transform(saledf['Device'])\n",
    "chnenc=label_encoder.fit_transform(saledf['Came_from?'])\n",
    "dayenc=label_encoder.fit_transform(saledf['Day'])\n",
    "conenc=label_encoder.fit_transform(saledf['Country'])\n",
    "genenc=label_encoder.fit_transform(saledf['Gender'])"
   ]
  },
  {
   "cell_type": "code",
   "execution_count": 32,
   "id": "a6ec7855",
   "metadata": {},
   "outputs": [],
   "source": [
    "#special function\n",
    "def make_mi_scores(X, y):\n",
    "    X = X.copy()\n",
    "    for colname in X.select_dtypes([\"object\", \"category\"]):\n",
    "        X[colname], _ = X[colname].factorize()\n",
    "    # All discrete features should now have integer dtypes\n",
    "    discrete_features = [pd.api.types.is_integer_dtype(t) for t in X.dtypes]\n",
    "    mi_scores = mutual_info_regression(X, y, discrete_features=discrete_features, random_state=0)\n",
    "    mi_scores = pd.Series(mi_scores, name=\"MI Scores\", index=X.columns)\n",
    "    mi_scores = mi_scores.sort_values(ascending=False)\n",
    "    return mi_scores\n",
    "\n",
    "\n",
    "def plot_mi_scores(scores):\n",
    "    scores = scores.sort_values(ascending=True)\n",
    "    width = np.arange(len(scores))\n",
    "    ticks = list(scores.index)\n",
    "    plt.barh(width, scores)\n",
    "    plt.yticks(width, ticks)\n",
    "    plt.title(\"Mutual Information Scores\")\n",
    "    \n",
    "def drop_uninformative(df, mi_scores):\n",
    "    return df.loc[:, mi_scores > 0.0]"
   ]
  },
  {
   "cell_type": "code",
   "execution_count": 33,
   "id": "54660636",
   "metadata": {},
   "outputs": [
    {
     "data": {
      "text/html": [
       "<div>\n",
       "<style scoped>\n",
       "    .dataframe tbody tr th:only-of-type {\n",
       "        vertical-align: middle;\n",
       "    }\n",
       "\n",
       "    .dataframe tbody tr th {\n",
       "        vertical-align: top;\n",
       "    }\n",
       "\n",
       "    .dataframe thead th {\n",
       "        text-align: right;\n",
       "    }\n",
       "</style>\n",
       "<table border=\"1\" class=\"dataframe\">\n",
       "  <thead>\n",
       "    <tr style=\"text-align: right;\">\n",
       "      <th></th>\n",
       "      <th>Gender</th>\n",
       "      <th>Device</th>\n",
       "      <th>First_timer?</th>\n",
       "      <th>Came_from?</th>\n",
       "      <th>Day</th>\n",
       "      <th>Min_spent</th>\n",
       "      <th>clickcount</th>\n",
       "      <th>Annual_inc</th>\n",
       "      <th>Country</th>\n",
       "      <th>Age</th>\n",
       "      <th>Bought?</th>\n",
       "    </tr>\n",
       "  </thead>\n",
       "  <tbody>\n",
       "  </tbody>\n",
       "</table>\n",
       "</div>"
      ],
      "text/plain": [
       "Empty DataFrame\n",
       "Columns: [Gender, Device, First_timer?, Came_from?, Day, Min_spent, clickcount, Annual_inc, Country, Age, Bought?]\n",
       "Index: []"
      ]
     },
     "execution_count": 33,
     "metadata": {},
     "output_type": "execute_result"
    }
   ],
   "source": [
    "saledf.head(0)"
   ]
  },
  {
   "cell_type": "code",
   "execution_count": 34,
   "id": "e74c6c04",
   "metadata": {},
   "outputs": [
    {
     "data": {
      "text/html": [
       "<div>\n",
       "<style scoped>\n",
       "    .dataframe tbody tr th:only-of-type {\n",
       "        vertical-align: middle;\n",
       "    }\n",
       "\n",
       "    .dataframe tbody tr th {\n",
       "        vertical-align: top;\n",
       "    }\n",
       "\n",
       "    .dataframe thead th {\n",
       "        text-align: right;\n",
       "    }\n",
       "</style>\n",
       "<table border=\"1\" class=\"dataframe\">\n",
       "  <thead>\n",
       "    <tr style=\"text-align: right;\">\n",
       "      <th></th>\n",
       "      <th>Gender</th>\n",
       "      <th>Device</th>\n",
       "      <th>First_timer?</th>\n",
       "      <th>Came_from?</th>\n",
       "      <th>Day</th>\n",
       "      <th>Min_spent</th>\n",
       "      <th>clickcount</th>\n",
       "      <th>Annual_inc</th>\n",
       "      <th>Country</th>\n",
       "      <th>Age</th>\n",
       "      <th>Bought?</th>\n",
       "    </tr>\n",
       "  </thead>\n",
       "  <tbody>\n",
       "    <tr>\n",
       "      <th>0</th>\n",
       "      <td>male</td>\n",
       "      <td>PC</td>\n",
       "      <td>1.0</td>\n",
       "      <td>Social media ads</td>\n",
       "      <td>FRI</td>\n",
       "      <td>4.0</td>\n",
       "      <td>21.0</td>\n",
       "      <td>40000.0</td>\n",
       "      <td>India</td>\n",
       "      <td>41.0</td>\n",
       "      <td>0</td>\n",
       "    </tr>\n",
       "    <tr>\n",
       "      <th>1</th>\n",
       "      <td>male</td>\n",
       "      <td>Mobile</td>\n",
       "      <td>1.0</td>\n",
       "      <td>Google search</td>\n",
       "      <td>WED</td>\n",
       "      <td>2.0</td>\n",
       "      <td>17.0</td>\n",
       "      <td>40000.0</td>\n",
       "      <td>China</td>\n",
       "      <td>32.0</td>\n",
       "      <td>0</td>\n",
       "    </tr>\n",
       "    <tr>\n",
       "      <th>2</th>\n",
       "      <td>female</td>\n",
       "      <td>PC</td>\n",
       "      <td>0.0</td>\n",
       "      <td>Other</td>\n",
       "      <td>FRI</td>\n",
       "      <td>7.0</td>\n",
       "      <td>20.0</td>\n",
       "      <td>35000.0</td>\n",
       "      <td>Japan</td>\n",
       "      <td>58.0</td>\n",
       "      <td>1</td>\n",
       "    </tr>\n",
       "    <tr>\n",
       "      <th>3</th>\n",
       "      <td>male</td>\n",
       "      <td>Mobile</td>\n",
       "      <td>1.0</td>\n",
       "      <td>Google search</td>\n",
       "      <td>TUE</td>\n",
       "      <td>5.0</td>\n",
       "      <td>15.0</td>\n",
       "      <td>35000.0</td>\n",
       "      <td>Canada</td>\n",
       "      <td>54.0</td>\n",
       "      <td>0</td>\n",
       "    </tr>\n",
       "    <tr>\n",
       "      <th>4</th>\n",
       "      <td>male</td>\n",
       "      <td>Mobile</td>\n",
       "      <td>1.0</td>\n",
       "      <td>Social media ads</td>\n",
       "      <td>SAT</td>\n",
       "      <td>9.0</td>\n",
       "      <td>19.0</td>\n",
       "      <td>10000.0</td>\n",
       "      <td>Ireland</td>\n",
       "      <td>55.0</td>\n",
       "      <td>1</td>\n",
       "    </tr>\n",
       "    <tr>\n",
       "      <th>...</th>\n",
       "      <td>...</td>\n",
       "      <td>...</td>\n",
       "      <td>...</td>\n",
       "      <td>...</td>\n",
       "      <td>...</td>\n",
       "      <td>...</td>\n",
       "      <td>...</td>\n",
       "      <td>...</td>\n",
       "      <td>...</td>\n",
       "      <td>...</td>\n",
       "      <td>...</td>\n",
       "    </tr>\n",
       "    <tr>\n",
       "      <th>10994</th>\n",
       "      <td>female</td>\n",
       "      <td>PC</td>\n",
       "      <td>1.0</td>\n",
       "      <td>Google search</td>\n",
       "      <td>SUN</td>\n",
       "      <td>12.0</td>\n",
       "      <td>13.0</td>\n",
       "      <td>100000.0</td>\n",
       "      <td>India</td>\n",
       "      <td>31.0</td>\n",
       "      <td>0</td>\n",
       "    </tr>\n",
       "    <tr>\n",
       "      <th>10995</th>\n",
       "      <td>female</td>\n",
       "      <td>Other</td>\n",
       "      <td>1.0</td>\n",
       "      <td>Website</td>\n",
       "      <td>THU</td>\n",
       "      <td>13.0</td>\n",
       "      <td>18.0</td>\n",
       "      <td>76000.0</td>\n",
       "      <td>Mexico</td>\n",
       "      <td>69.0</td>\n",
       "      <td>1</td>\n",
       "    </tr>\n",
       "    <tr>\n",
       "      <th>10996</th>\n",
       "      <td>female</td>\n",
       "      <td>Other</td>\n",
       "      <td>0.0</td>\n",
       "      <td>Affiliate link</td>\n",
       "      <td>FRI</td>\n",
       "      <td>3.0</td>\n",
       "      <td>13.0</td>\n",
       "      <td>40000.0</td>\n",
       "      <td>China</td>\n",
       "      <td>43.0</td>\n",
       "      <td>1</td>\n",
       "    </tr>\n",
       "    <tr>\n",
       "      <th>10997</th>\n",
       "      <td>female</td>\n",
       "      <td>Other</td>\n",
       "      <td>0.0</td>\n",
       "      <td>Email</td>\n",
       "      <td>WED</td>\n",
       "      <td>5.0</td>\n",
       "      <td>17.0</td>\n",
       "      <td>58000.0</td>\n",
       "      <td>Japan</td>\n",
       "      <td>19.0</td>\n",
       "      <td>0</td>\n",
       "    </tr>\n",
       "    <tr>\n",
       "      <th>10998</th>\n",
       "      <td>female</td>\n",
       "      <td>Mobile</td>\n",
       "      <td>1.0</td>\n",
       "      <td>Google search</td>\n",
       "      <td>SAT</td>\n",
       "      <td>13.0</td>\n",
       "      <td>21.0</td>\n",
       "      <td>100000.0</td>\n",
       "      <td>Ireland</td>\n",
       "      <td>36.0</td>\n",
       "      <td>1</td>\n",
       "    </tr>\n",
       "  </tbody>\n",
       "</table>\n",
       "<p>10999 rows × 11 columns</p>\n",
       "</div>"
      ],
      "text/plain": [
       "       Gender  Device First_timer?        Came_from?  Day  Min_spent  \\\n",
       "0        male      PC          1.0  Social media ads  FRI        4.0   \n",
       "1        male  Mobile          1.0     Google search  WED        2.0   \n",
       "2      female      PC          0.0             Other  FRI        7.0   \n",
       "3        male  Mobile          1.0     Google search  TUE        5.0   \n",
       "4        male  Mobile          1.0  Social media ads  SAT        9.0   \n",
       "...       ...     ...          ...               ...  ...        ...   \n",
       "10994  female      PC          1.0     Google search  SUN       12.0   \n",
       "10995  female   Other          1.0           Website  THU       13.0   \n",
       "10996  female   Other          0.0    Affiliate link  FRI        3.0   \n",
       "10997  female   Other          0.0            Email   WED        5.0   \n",
       "10998  female  Mobile          1.0     Google search  SAT       13.0   \n",
       "\n",
       "       clickcount  Annual_inc  Country   Age Bought?  \n",
       "0            21.0     40000.0    India  41.0       0  \n",
       "1            17.0     40000.0    China  32.0       0  \n",
       "2            20.0     35000.0    Japan  58.0       1  \n",
       "3            15.0     35000.0   Canada  54.0       0  \n",
       "4            19.0     10000.0  Ireland  55.0       1  \n",
       "...           ...         ...      ...   ...     ...  \n",
       "10994        13.0    100000.0    India  31.0       0  \n",
       "10995        18.0     76000.0   Mexico  69.0       1  \n",
       "10996        13.0     40000.0    China  43.0       1  \n",
       "10997        17.0     58000.0    Japan  19.0       0  \n",
       "10998        21.0    100000.0  Ireland  36.0       1  \n",
       "\n",
       "[10999 rows x 11 columns]"
      ]
     },
     "execution_count": 34,
     "metadata": {},
     "output_type": "execute_result"
    }
   ],
   "source": [
    "saledf"
   ]
  },
  {
   "cell_type": "code",
   "execution_count": 35,
   "id": "61ccce52",
   "metadata": {},
   "outputs": [],
   "source": [
    "#setting X,y\n",
    "X=pd.DataFrame([saledf[\"First_timer?\"],saledf[\"Min_spent\"],saledf[\"clickcount\"],saledf[\"Annual_inc\"],\n",
    "                saledf[\"Age\"],devenc,chnenc,dayenc,conenc,genenc]).T\n",
    "y=saledf[\"Bought?\"]"
   ]
  },
  {
   "cell_type": "code",
   "execution_count": 36,
   "id": "c555adc7",
   "metadata": {},
   "outputs": [
    {
     "name": "stderr",
     "output_type": "stream",
     "text": [
      "C:\\Users\\sujoydutta\\anaconda3\\lib\\site-packages\\pandas\\core\\algorithms.py:798: FutureWarning: In a future version, the Index constructor will not infer numeric dtypes when passed object-dtype sequences (matching Series behavior)\n",
      "  uniques = Index(uniques)\n"
     ]
    },
    {
     "data": {
      "text/plain": [
       "Min_spent       0.008613\n",
       "Age             0.008331\n",
       "First_timer?    0.006797\n",
       "Annual_inc      0.004499\n",
       "clickcount      0.001699\n",
       "Unnamed 1       0.000323\n",
       "Unnamed 2       0.000253\n",
       "Unnamed 3       0.000083\n",
       "Unnamed 0       0.000000\n",
       "Unnamed 4       0.000000\n",
       "Name: MI Scores, dtype: float64"
      ]
     },
     "execution_count": 36,
     "metadata": {},
     "output_type": "execute_result"
    }
   ],
   "source": [
    "#seeing the info captured by variables\n",
    "scores=make_mi_scores(X, y)\n",
    "scores"
   ]
  },
  {
   "cell_type": "code",
   "execution_count": 37,
   "id": "2cd1c537",
   "metadata": {},
   "outputs": [
    {
     "data": {
      "image/png": "[encoded data removed]",
      "text/plain": [
       "<Figure size 432x288 with 1 Axes>"
      ]
     },
     "metadata": {
      "needs_background": "light"
     },
     "output_type": "display_data"
    }
   ],
   "source": [
    "#visual of info captured by variables\n",
    "plot_mi_scores(scores)"
   ]
  },
  {
   "cell_type": "code",
   "execution_count": 38,
   "id": "872e2bb9",
   "metadata": {},
   "outputs": [
    {
     "data": {
      "text/html": [
       "<div>\n",
       "<style scoped>\n",
       "    .dataframe tbody tr th:only-of-type {\n",
       "        vertical-align: middle;\n",
       "    }\n",
       "\n",
       "    .dataframe tbody tr th {\n",
       "        vertical-align: top;\n",
       "    }\n",
       "\n",
       "    .dataframe thead th {\n",
       "        text-align: right;\n",
       "    }\n",
       "</style>\n",
       "<table border=\"1\" class=\"dataframe\">\n",
       "  <thead>\n",
       "    <tr style=\"text-align: right;\">\n",
       "      <th></th>\n",
       "      <th>First_timer?</th>\n",
       "      <th>Min_spent</th>\n",
       "      <th>clickcount</th>\n",
       "      <th>Annual_inc</th>\n",
       "      <th>Age</th>\n",
       "      <th>Unnamed 1</th>\n",
       "      <th>Unnamed 2</th>\n",
       "      <th>Unnamed 3</th>\n",
       "    </tr>\n",
       "  </thead>\n",
       "  <tbody>\n",
       "    <tr>\n",
       "      <th>0</th>\n",
       "      <td>1.0</td>\n",
       "      <td>4.0</td>\n",
       "      <td>21.0</td>\n",
       "      <td>40000.0</td>\n",
       "      <td>41.0</td>\n",
       "      <td>5</td>\n",
       "      <td>0</td>\n",
       "      <td>2</td>\n",
       "    </tr>\n",
       "    <tr>\n",
       "      <th>1</th>\n",
       "      <td>1.0</td>\n",
       "      <td>2.0</td>\n",
       "      <td>17.0</td>\n",
       "      <td>40000.0</td>\n",
       "      <td>32.0</td>\n",
       "      <td>2</td>\n",
       "      <td>6</td>\n",
       "      <td>1</td>\n",
       "    </tr>\n",
       "    <tr>\n",
       "      <th>2</th>\n",
       "      <td>0.0</td>\n",
       "      <td>7.0</td>\n",
       "      <td>20.0</td>\n",
       "      <td>35000.0</td>\n",
       "      <td>58.0</td>\n",
       "      <td>3</td>\n",
       "      <td>0</td>\n",
       "      <td>4</td>\n",
       "    </tr>\n",
       "    <tr>\n",
       "      <th>3</th>\n",
       "      <td>1.0</td>\n",
       "      <td>5.0</td>\n",
       "      <td>15.0</td>\n",
       "      <td>35000.0</td>\n",
       "      <td>54.0</td>\n",
       "      <td>2</td>\n",
       "      <td>5</td>\n",
       "      <td>0</td>\n",
       "    </tr>\n",
       "    <tr>\n",
       "      <th>4</th>\n",
       "      <td>1.0</td>\n",
       "      <td>9.0</td>\n",
       "      <td>19.0</td>\n",
       "      <td>10000.0</td>\n",
       "      <td>55.0</td>\n",
       "      <td>5</td>\n",
       "      <td>2</td>\n",
       "      <td>3</td>\n",
       "    </tr>\n",
       "    <tr>\n",
       "      <th>...</th>\n",
       "      <td>...</td>\n",
       "      <td>...</td>\n",
       "      <td>...</td>\n",
       "      <td>...</td>\n",
       "      <td>...</td>\n",
       "      <td>...</td>\n",
       "      <td>...</td>\n",
       "      <td>...</td>\n",
       "    </tr>\n",
       "    <tr>\n",
       "      <th>10994</th>\n",
       "      <td>1.0</td>\n",
       "      <td>12.0</td>\n",
       "      <td>13.0</td>\n",
       "      <td>100000.0</td>\n",
       "      <td>31.0</td>\n",
       "      <td>2</td>\n",
       "      <td>3</td>\n",
       "      <td>2</td>\n",
       "    </tr>\n",
       "    <tr>\n",
       "      <th>10995</th>\n",
       "      <td>1.0</td>\n",
       "      <td>13.0</td>\n",
       "      <td>18.0</td>\n",
       "      <td>76000.0</td>\n",
       "      <td>69.0</td>\n",
       "      <td>6</td>\n",
       "      <td>4</td>\n",
       "      <td>6</td>\n",
       "    </tr>\n",
       "    <tr>\n",
       "      <th>10996</th>\n",
       "      <td>0.0</td>\n",
       "      <td>3.0</td>\n",
       "      <td>13.0</td>\n",
       "      <td>40000.0</td>\n",
       "      <td>43.0</td>\n",
       "      <td>0</td>\n",
       "      <td>0</td>\n",
       "      <td>1</td>\n",
       "    </tr>\n",
       "    <tr>\n",
       "      <th>10997</th>\n",
       "      <td>0.0</td>\n",
       "      <td>5.0</td>\n",
       "      <td>17.0</td>\n",
       "      <td>58000.0</td>\n",
       "      <td>19.0</td>\n",
       "      <td>1</td>\n",
       "      <td>6</td>\n",
       "      <td>4</td>\n",
       "    </tr>\n",
       "    <tr>\n",
       "      <th>10998</th>\n",
       "      <td>1.0</td>\n",
       "      <td>13.0</td>\n",
       "      <td>21.0</td>\n",
       "      <td>100000.0</td>\n",
       "      <td>36.0</td>\n",
       "      <td>2</td>\n",
       "      <td>2</td>\n",
       "      <td>3</td>\n",
       "    </tr>\n",
       "  </tbody>\n",
       "</table>\n",
       "<p>10999 rows × 8 columns</p>\n",
       "</div>"
      ],
      "text/plain": [
       "      First_timer? Min_spent clickcount Annual_inc   Age Unnamed 1 Unnamed 2  \\\n",
       "0              1.0       4.0       21.0    40000.0  41.0         5         0   \n",
       "1              1.0       2.0       17.0    40000.0  32.0         2         6   \n",
       "2              0.0       7.0       20.0    35000.0  58.0         3         0   \n",
       "3              1.0       5.0       15.0    35000.0  54.0         2         5   \n",
       "4              1.0       9.0       19.0    10000.0  55.0         5         2   \n",
       "...            ...       ...        ...        ...   ...       ...       ...   \n",
       "10994          1.0      12.0       13.0   100000.0  31.0         2         3   \n",
       "10995          1.0      13.0       18.0    76000.0  69.0         6         4   \n",
       "10996          0.0       3.0       13.0    40000.0  43.0         0         0   \n",
       "10997          0.0       5.0       17.0    58000.0  19.0         1         6   \n",
       "10998          1.0      13.0       21.0   100000.0  36.0         2         2   \n",
       "\n",
       "      Unnamed 3  \n",
       "0             2  \n",
       "1             1  \n",
       "2             4  \n",
       "3             0  \n",
       "4             3  \n",
       "...         ...  \n",
       "10994         2  \n",
       "10995         6  \n",
       "10996         1  \n",
       "10997         4  \n",
       "10998         3  \n",
       "\n",
       "[10999 rows x 8 columns]"
      ]
     },
     "execution_count": 38,
     "metadata": {},
     "output_type": "execute_result"
    }
   ],
   "source": [
    "#dropping meaningless variables\n",
    "X=drop_uninformative(X,scores)\n",
    "X"
   ]
  },
  {
   "cell_type": "markdown",
   "id": "7be82857",
   "metadata": {},
   "source": [
    "**Step 4: Exploratory data analysis**\n",
    "\n",
    "In this step, we are going to explore the dataset. Perform hypothesis tests,bivariate/univariate analysis and check for correlation between variables.  \n"
   ]
  },
  {
   "cell_type": "code",
   "execution_count": 39,
   "id": "85d4230a",
   "metadata": {},
   "outputs": [
    {
     "data": {
      "text/html": [
       "<div>\n",
       "<style scoped>\n",
       "    .dataframe tbody tr th:only-of-type {\n",
       "        vertical-align: middle;\n",
       "    }\n",
       "\n",
       "    .dataframe tbody tr th {\n",
       "        vertical-align: top;\n",
       "    }\n",
       "\n",
       "    .dataframe thead th {\n",
       "        text-align: right;\n",
       "    }\n",
       "</style>\n",
       "<table border=\"1\" class=\"dataframe\">\n",
       "  <thead>\n",
       "    <tr style=\"text-align: right;\">\n",
       "      <th></th>\n",
       "      <th>Min_spent</th>\n",
       "      <th>clickcount</th>\n",
       "      <th>Annual_inc</th>\n",
       "      <th>Age</th>\n",
       "    </tr>\n",
       "  </thead>\n",
       "  <tbody>\n",
       "    <tr>\n",
       "      <th>count</th>\n",
       "      <td>10999.0</td>\n",
       "      <td>10999.0</td>\n",
       "      <td>10999.0</td>\n",
       "      <td>10999.0</td>\n",
       "    </tr>\n",
       "    <tr>\n",
       "      <th>mean</th>\n",
       "      <td>8.0</td>\n",
       "      <td>20.0</td>\n",
       "      <td>49176.0</td>\n",
       "      <td>43.0</td>\n",
       "    </tr>\n",
       "    <tr>\n",
       "      <th>std</th>\n",
       "      <td>4.0</td>\n",
       "      <td>4.0</td>\n",
       "      <td>27293.0</td>\n",
       "      <td>16.0</td>\n",
       "    </tr>\n",
       "    <tr>\n",
       "      <th>min</th>\n",
       "      <td>2.0</td>\n",
       "      <td>13.0</td>\n",
       "      <td>10000.0</td>\n",
       "      <td>16.0</td>\n",
       "    </tr>\n",
       "    <tr>\n",
       "      <th>25%</th>\n",
       "      <td>5.0</td>\n",
       "      <td>16.0</td>\n",
       "      <td>25000.0</td>\n",
       "      <td>29.0</td>\n",
       "    </tr>\n",
       "    <tr>\n",
       "      <th>50%</th>\n",
       "      <td>8.0</td>\n",
       "      <td>20.0</td>\n",
       "      <td>40000.0</td>\n",
       "      <td>43.0</td>\n",
       "    </tr>\n",
       "    <tr>\n",
       "      <th>75%</th>\n",
       "      <td>12.0</td>\n",
       "      <td>24.0</td>\n",
       "      <td>76000.0</td>\n",
       "      <td>56.0</td>\n",
       "    </tr>\n",
       "    <tr>\n",
       "      <th>max</th>\n",
       "      <td>15.0</td>\n",
       "      <td>27.0</td>\n",
       "      <td>100000.0</td>\n",
       "      <td>70.0</td>\n",
       "    </tr>\n",
       "  </tbody>\n",
       "</table>\n",
       "</div>"
      ],
      "text/plain": [
       "       Min_spent  clickcount  Annual_inc      Age\n",
       "count    10999.0     10999.0     10999.0  10999.0\n",
       "mean         8.0        20.0     49176.0     43.0\n",
       "std          4.0         4.0     27293.0     16.0\n",
       "min          2.0        13.0     10000.0     16.0\n",
       "25%          5.0        16.0     25000.0     29.0\n",
       "50%          8.0        20.0     40000.0     43.0\n",
       "75%         12.0        24.0     76000.0     56.0\n",
       "max         15.0        27.0    100000.0     70.0"
      ]
     },
     "execution_count": 39,
     "metadata": {},
     "output_type": "execute_result"
    }
   ],
   "source": [
    "#summary stats\n",
    "saledf.describe().round()"
   ]
  },
  {
   "cell_type": "code",
   "execution_count": 40,
   "id": "2e5e5d4b",
   "metadata": {},
   "outputs": [
    {
     "data": {
      "text/html": [
       "<div>\n",
       "<style scoped>\n",
       "    .dataframe tbody tr th:only-of-type {\n",
       "        vertical-align: middle;\n",
       "    }\n",
       "\n",
       "    .dataframe tbody tr th {\n",
       "        vertical-align: top;\n",
       "    }\n",
       "\n",
       "    .dataframe thead th {\n",
       "        text-align: right;\n",
       "    }\n",
       "</style>\n",
       "<table border=\"1\" class=\"dataframe\">\n",
       "  <thead>\n",
       "    <tr style=\"text-align: right;\">\n",
       "      <th></th>\n",
       "      <th>Gender</th>\n",
       "      <th>Device</th>\n",
       "      <th>First_timer?</th>\n",
       "      <th>Came_from?</th>\n",
       "      <th>Day</th>\n",
       "      <th>Min_spent</th>\n",
       "      <th>clickcount</th>\n",
       "      <th>Annual_inc</th>\n",
       "      <th>Country</th>\n",
       "      <th>Age</th>\n",
       "      <th>Bought?</th>\n",
       "    </tr>\n",
       "  </thead>\n",
       "  <tbody>\n",
       "  </tbody>\n",
       "</table>\n",
       "</div>"
      ],
      "text/plain": [
       "Empty DataFrame\n",
       "Columns: [Gender, Device, First_timer?, Came_from?, Day, Min_spent, clickcount, Annual_inc, Country, Age, Bought?]\n",
       "Index: []"
      ]
     },
     "execution_count": 40,
     "metadata": {},
     "output_type": "execute_result"
    }
   ],
   "source": [
    "saledf.head(0)"
   ]
  },
  {
   "cell_type": "markdown",
   "id": "13210677",
   "metadata": {},
   "source": [
    "*Univariate*\n",
    "\n",
    "In this step, we are going to explore the dataset. Perform hypothesis tests,bivariate/univariate analysis and check for correlation between variables.  "
   ]
  },
  {
   "cell_type": "code",
   "execution_count": 41,
   "id": "f9c33fd4",
   "metadata": {},
   "outputs": [
    {
     "name": "stderr",
     "output_type": "stream",
     "text": [
      "C:\\Users\\sujoydutta\\anaconda3\\lib\\site-packages\\seaborn\\distributions.py:2619: FutureWarning: `distplot` is a deprecated function and will be removed in a future version. Please adapt your code to use either `displot` (a figure-level function with similar flexibility) or `histplot` (an axes-level function for histograms).\n",
      "  warnings.warn(msg, FutureWarning)\n"
     ]
    },
    {
     "data": {
      "text/plain": [
       "<AxesSubplot:xlabel='Age'>"
      ]
     },
     "execution_count": 41,
     "metadata": {},
     "output_type": "execute_result"
    },
    {
     "data": {
      "image/png": "[encoded data removed]",
      "text/plain": [
       "<Figure size 1152x504 with 1 Axes>"
      ]
     },
     "metadata": {
      "needs_background": "light"
     },
     "output_type": "display_data"
    }
   ],
   "source": [
    "#for Age\n",
    "plt.figure(figsize=(16,7))\n",
    "sb.distplot(saledf['Age'], kde = False,hist_kws=dict(edgecolor=\"k\"))"
   ]
  },
  {
   "cell_type": "code",
   "execution_count": 42,
   "id": "a9d98aa0",
   "metadata": {},
   "outputs": [
    {
     "data": {
      "text/plain": [
       "<AxesSubplot:xlabel='Min_spent'>"
      ]
     },
     "execution_count": 42,
     "metadata": {},
     "output_type": "execute_result"
    },
    {
     "data": {
      "image/png": "[encoded data removed]",
      "text/plain": [
       "<Figure size 1152x504 with 1 Axes>"
      ]
     },
     "metadata": {
      "needs_background": "light"
     },
     "output_type": "display_data"
    }
   ],
   "source": [
    "#for Min_spent\n",
    "plt.figure(figsize=(16,7))\n",
    "sb.distplot(saledf['Min_spent'], kde = False,hist_kws=dict(edgecolor=\"k\"))"
   ]
  },
  {
   "cell_type": "code",
   "execution_count": 43,
   "id": "2e972d6e",
   "metadata": {},
   "outputs": [
    {
     "data": {
      "text/plain": [
       "<AxesSubplot:xlabel='clickcount'>"
      ]
     },
     "execution_count": 43,
     "metadata": {},
     "output_type": "execute_result"
    },
    {
     "data": {
      "image/png": "[encoded data removed]",
      "text/plain": [
       "<Figure size 1152x504 with 1 Axes>"
      ]
     },
     "metadata": {
      "needs_background": "light"
     },
     "output_type": "display_data"
    }
   ],
   "source": [
    "#for clickcount\t\n",
    "plt.figure(figsize=(16,7))\n",
    "sb.distplot(saledf['clickcount'], kde = False,hist_kws=dict(edgecolor=\"k\"))"
   ]
  },
  {
   "cell_type": "code",
   "execution_count": 44,
   "id": "6911abdd",
   "metadata": {},
   "outputs": [
    {
     "data": {
      "text/plain": [
       "<AxesSubplot:xlabel='Annual_inc'>"
      ]
     },
     "execution_count": 44,
     "metadata": {},
     "output_type": "execute_result"
    },
    {
     "data": {
      "image/png": "[encoded data removed]",
      "text/plain": [
       "<Figure size 1152x504 with 1 Axes>"
      ]
     },
     "metadata": {
      "needs_background": "light"
     },
     "output_type": "display_data"
    }
   ],
   "source": [
    "#for Annual_inc\n",
    "plt.figure(figsize=(16,7))\n",
    "sb.distplot(saledf['Annual_inc'], kde = False,hist_kws=dict(edgecolor=\"k\"))"
   ]
  },
  {
   "cell_type": "markdown",
   "id": "03a0615a",
   "metadata": {},
   "source": [
    "*Bi-variate analysis*\n",
    "\n",
    "checking correlation between variables."
   ]
  },
  {
   "cell_type": "code",
   "execution_count": 45,
   "id": "a320a16e",
   "metadata": {},
   "outputs": [
    {
     "data": {
      "text/plain": [
       "<function matplotlib.pyplot.show(close=None, block=None)>"
      ]
     },
     "execution_count": 45,
     "metadata": {},
     "output_type": "execute_result"
    },
    {
     "data": {
      "image/png": "[encoded data removed]",
      "text/plain": [
       "<Figure size 432x288 with 1 Axes>"
      ]
     },
     "metadata": {
      "needs_background": "light"
     },
     "output_type": "display_data"
    }
   ],
   "source": [
    "#are people with more income more likely to spend more time on website?\n",
    "plt.scatter(saledf['Annual_inc'], saledf['Min_spent'], c =\"red\")\n",
    "plt.show"
   ]
  },
  {
   "cell_type": "code",
   "execution_count": 46,
   "id": "0f15eb21",
   "metadata": {},
   "outputs": [
    {
     "data": {
      "text/plain": [
       "<function matplotlib.pyplot.show(close=None, block=None)>"
      ]
     },
     "execution_count": 46,
     "metadata": {},
     "output_type": "execute_result"
    },
    {
     "data": {
      "image/png": "[encoded data removed]",
      "text/plain": [
       "<Figure size 432x288 with 1 Axes>"
      ]
     },
     "metadata": {
      "needs_background": "light"
     },
     "output_type": "display_data"
    }
   ],
   "source": [
    "#are people with more age more likely to spend more time on website?\n",
    "plt.scatter(saledf['Age'], saledf['Min_spent'], c =\"pink\")\n",
    "plt.show"
   ]
  },
  {
   "cell_type": "code",
   "execution_count": 47,
   "id": "eff3a437",
   "metadata": {},
   "outputs": [
    {
     "data": {
      "text/plain": [
       "<function matplotlib.pyplot.show(close=None, block=None)>"
      ]
     },
     "execution_count": 47,
     "metadata": {},
     "output_type": "execute_result"
    },
    {
     "data": {
      "image/png": "[encoded data removed]",
      "text/plain": [
       "<Figure size 432x288 with 1 Axes>"
      ]
     },
     "metadata": {
      "needs_background": "light"
     },
     "output_type": "display_data"
    }
   ],
   "source": [
    "#are people with more age more likely to make more clicks?\n",
    "plt.scatter(saledf['Age'], saledf['clickcount'], c =\"purple\")\n",
    "plt.show"
   ]
  },
  {
   "cell_type": "code",
   "execution_count": 48,
   "id": "2631f292",
   "metadata": {},
   "outputs": [
    {
     "data": {
      "text/plain": [
       "<function matplotlib.pyplot.show(close=None, block=None)>"
      ]
     },
     "execution_count": 48,
     "metadata": {},
     "output_type": "execute_result"
    },
    {
     "data": {
      "image/png": "[encoded data removed]",
      "text/plain": [
       "<Figure size 432x288 with 1 Axes>"
      ]
     },
     "metadata": {
      "needs_background": "light"
     },
     "output_type": "display_data"
    }
   ],
   "source": [
    "#are people with more income more likely to make more clicks?\n",
    "plt.scatter(saledf['Annual_inc'], saledf['clickcount'], c =\"green\")\n",
    "plt.show"
   ]
  },
  {
   "cell_type": "code",
   "execution_count": 49,
   "id": "b52bcad7",
   "metadata": {},
   "outputs": [
    {
     "data": {
      "text/html": [
       "<div>\n",
       "<style scoped>\n",
       "    .dataframe tbody tr th:only-of-type {\n",
       "        vertical-align: middle;\n",
       "    }\n",
       "\n",
       "    .dataframe tbody tr th {\n",
       "        vertical-align: top;\n",
       "    }\n",
       "\n",
       "    .dataframe thead th {\n",
       "        text-align: right;\n",
       "    }\n",
       "</style>\n",
       "<table border=\"1\" class=\"dataframe\">\n",
       "  <thead>\n",
       "    <tr style=\"text-align: right;\">\n",
       "      <th></th>\n",
       "      <th>Min_spent</th>\n",
       "      <th>clickcount</th>\n",
       "      <th>Annual_inc</th>\n",
       "      <th>Age</th>\n",
       "    </tr>\n",
       "  </thead>\n",
       "  <tbody>\n",
       "    <tr>\n",
       "      <th>Min_spent</th>\n",
       "      <td>1.0000</td>\n",
       "      <td>0.0002</td>\n",
       "      <td>0.0139</td>\n",
       "      <td>-0.0159</td>\n",
       "    </tr>\n",
       "    <tr>\n",
       "      <th>clickcount</th>\n",
       "      <td>0.0002</td>\n",
       "      <td>1.0000</td>\n",
       "      <td>-0.0193</td>\n",
       "      <td>-0.0105</td>\n",
       "    </tr>\n",
       "    <tr>\n",
       "      <th>Annual_inc</th>\n",
       "      <td>0.0139</td>\n",
       "      <td>-0.0193</td>\n",
       "      <td>1.0000</td>\n",
       "      <td>0.0047</td>\n",
       "    </tr>\n",
       "    <tr>\n",
       "      <th>Age</th>\n",
       "      <td>-0.0159</td>\n",
       "      <td>-0.0105</td>\n",
       "      <td>0.0047</td>\n",
       "      <td>1.0000</td>\n",
       "    </tr>\n",
       "  </tbody>\n",
       "</table>\n",
       "</div>"
      ],
      "text/plain": [
       "            Min_spent  clickcount  Annual_inc     Age\n",
       "Min_spent      1.0000      0.0002      0.0139 -0.0159\n",
       "clickcount     0.0002      1.0000     -0.0193 -0.0105\n",
       "Annual_inc     0.0139     -0.0193      1.0000  0.0047\n",
       "Age           -0.0159     -0.0105      0.0047  1.0000"
      ]
     },
     "execution_count": 49,
     "metadata": {},
     "output_type": "execute_result"
    }
   ],
   "source": [
    "#seeing correlation stats\n",
    "saledf.corr().round(4)"
   ]
  },
  {
   "cell_type": "code",
   "execution_count": 50,
   "id": "d659ce80",
   "metadata": {
    "scrolled": true
   },
   "outputs": [
    {
     "name": "stdout",
     "output_type": "stream",
     "text": [
      "stat=0.955, p=0.000\n",
      "Probably not Gaussian\n"
     ]
    },
    {
     "name": "stderr",
     "output_type": "stream",
     "text": [
      "C:\\Users\\sujoydutta\\anaconda3\\lib\\site-packages\\scipy\\stats\\morestats.py:1760: UserWarning: p-value may not be accurate for N > 5000.\n",
      "  warnings.warn(\"p-value may not be accurate for N > 5000.\")\n"
     ]
    }
   ],
   "source": [
    "#checking distribution of Age\n",
    "stat, p = shapiro(saledf['Age'])\n",
    "print('stat=%.3f, p=%.3f' % (stat, p))\n",
    "if p > 0.05:\n",
    "\tprint('Probably Gaussian')\n",
    "else:\n",
    "\tprint('Probably not Gaussian')"
   ]
  },
  {
   "cell_type": "code",
   "execution_count": 51,
   "id": "a65f92a6",
   "metadata": {},
   "outputs": [
    {
     "name": "stdout",
     "output_type": "stream",
     "text": [
      "stat=0.947, p=0.000\n",
      "Probably not Gaussian\n"
     ]
    }
   ],
   "source": [
    "#checking distribution of clickcount\n",
    "stat, p = shapiro(saledf['clickcount'])\n",
    "print('stat=%.3f, p=%.3f' % (stat, p))\n",
    "if p > 0.05:\n",
    "\tprint('Probably Gaussian')\n",
    "else:\n",
    "\tprint('Probably not Gaussian')"
   ]
  },
  {
   "cell_type": "code",
   "execution_count": 52,
   "id": "d05dc639",
   "metadata": {},
   "outputs": [
    {
     "name": "stdout",
     "output_type": "stream",
     "text": [
      "stat=0.944, p=0.000\n",
      "Probably not Gaussian\n"
     ]
    }
   ],
   "source": [
    "#checking distribution of Min_spent\n",
    "stat, p = shapiro(saledf['Min_spent'])\n",
    "print('stat=%.3f, p=%.3f' % (stat, p))\n",
    "if p > 0.05:\n",
    "\tprint('Probably Gaussian')\n",
    "else:\n",
    "\tprint('Probably not Gaussian')"
   ]
  },
  {
   "cell_type": "code",
   "execution_count": 53,
   "id": "bf338fad",
   "metadata": {},
   "outputs": [
    {
     "name": "stdout",
     "output_type": "stream",
     "text": [
      "stat=0.920, p=0.000\n",
      "Probably not Gaussian\n"
     ]
    }
   ],
   "source": [
    "#checking distribution of Annual_inc\n",
    "stat, p = shapiro(saledf['Annual_inc'])\n",
    "print('stat=%.3f, p=%.3f' % (stat, p))\n",
    "if p > 0.05:\n",
    "\tprint('Probably Gaussian')\n",
    "else:\n",
    "\tprint('Probably not Gaussian')"
   ]
  },
  {
   "cell_type": "code",
   "execution_count": 54,
   "id": "7010bf2f",
   "metadata": {},
   "outputs": [
    {
     "data": {
      "text/plain": [
       "0    5558\n",
       "1    5441\n",
       "Name: Bought?, dtype: int64"
      ]
     },
     "execution_count": 54,
     "metadata": {},
     "output_type": "execute_result"
    }
   ],
   "source": [
    "#seeing sale count\n",
    "saledf['Bought?'].value_counts()"
   ]
  },
  {
   "cell_type": "code",
   "execution_count": 55,
   "id": "3f4adc3c",
   "metadata": {},
   "outputs": [],
   "source": [
    "#assigning variables to classes\n",
    "bought_yes=saledf[saledf['Bought?'] == '1']\n",
    "bought_no=saledf[saledf['Bought?'] == '0']"
   ]
  },
  {
   "cell_type": "code",
   "execution_count": 56,
   "id": "b1e55cd1",
   "metadata": {},
   "outputs": [
    {
     "name": "stdout",
     "output_type": "stream",
     "text": [
      "The probability of customer buying is 49.468133466678786 percent!\n"
     ]
    }
   ],
   "source": [
    "#conversion rate\n",
    "convrate=len(bought_yes)/len(saledf)*100\n",
    "print(\"The probability of customer buying is\",convrate,\"percent!\")"
   ]
  },
  {
   "cell_type": "code",
   "execution_count": 57,
   "id": "798d19b0",
   "metadata": {},
   "outputs": [
    {
     "data": {
      "image/png": "[encoded data removed]",
      "text/plain": [
       "<Figure size 432x288 with 1 Axes>"
      ]
     },
     "metadata": {},
     "output_type": "display_data"
    }
   ],
   "source": [
    "#how many of customers are first timers?\n",
    "country=bought_yes['First_timer?'].unique()\n",
    "sales=bought_yes['First_timer?'].value_counts()\n",
    "\n",
    "#country customer percentage\n",
    "plt.pie(sales, labels = country, startangle = 75,autopct='%.1f%%')\n",
    "plt.show()"
   ]
  },
  {
   "cell_type": "code",
   "execution_count": 58,
   "id": "cefee676",
   "metadata": {},
   "outputs": [
    {
     "data": {
      "image/png": "[encoded data removed]",
      "text/plain": [
       "<Figure size 432x288 with 1 Axes>"
      ]
     },
     "metadata": {},
     "output_type": "display_data"
    }
   ],
   "source": [
    "#seeing number of sales per country\n",
    "country=bought_yes['Country'].unique()\n",
    "sales=bought_yes['Country'].value_counts()\n",
    "\n",
    "#country customer percentage\n",
    "plt.pie(sales, labels = country, startangle = 75,autopct='%.1f%%')\n",
    "plt.show()"
   ]
  },
  {
   "cell_type": "code",
   "execution_count": 59,
   "id": "031ae5da",
   "metadata": {},
   "outputs": [
    {
     "data": {
      "image/png": "[encoded data removed]",
      "text/plain": [
       "<Figure size 432x288 with 1 Axes>"
      ]
     },
     "metadata": {
      "needs_background": "light"
     },
     "output_type": "display_data"
    }
   ],
   "source": [
    "#seeing number of sales per source\n",
    "Source=bought_yes['Came_from?'].unique()\n",
    "sale=bought_yes['Came_from?'].value_counts()\n",
    "\n",
    "#country customer percentage\n",
    "plt.bar(Source, sale)\n",
    "plt.show()\n",
    "plt.rcParams['figure.figsize'] = [10,5]"
   ]
  },
  {
   "cell_type": "code",
   "execution_count": 60,
   "id": "cfa21364",
   "metadata": {},
   "outputs": [
    {
     "data": {
      "image/png": "[encoded data removed]",
      "text/plain": [
       "<Figure size 720x360 with 1 Axes>"
      ]
     },
     "metadata": {
      "needs_background": "light"
     },
     "output_type": "display_data"
    }
   ],
   "source": [
    "#which device user more likely to buy \n",
    "device=bought_yes['Device'].unique()\n",
    "users=bought_yes['Device'].value_counts()\n",
    "\n",
    "#plotting fraud cases per spending category\n",
    "plt.plot(device,users)\n",
    "plt.title('Which device user is our best customer?')\n",
    "plt.xlabel('device types')\n",
    "plt.ylabel('number of users')\n",
    "plt.rcParams['figure.figsize'] = [17, 7]\n",
    "plt.show()\n",
    "\n"
   ]
  },
  {
   "cell_type": "code",
   "execution_count": 61,
   "id": "1a1a6258",
   "metadata": {},
   "outputs": [
    {
     "name": "stderr",
     "output_type": "stream",
     "text": [
      "C:\\Users\\sujoydutta\\AppData\\Local\\Temp\\ipykernel_5816\\1550271726.py:5: SettingWithCopyWarning: \n",
      "A value is trying to be set on a copy of a slice from a DataFrame.\n",
      "Try using .loc[row_indexer,col_indexer] = value instead\n",
      "\n",
      "See the caveats in the documentation: https://pandas.pydata.org/pandas-docs/stable/user_guide/indexing.html#returning-a-view-versus-a-copy\n",
      "  bought_yes['income-category']=pd.cut(bought_yes['Annual_inc'],bins=bins,labels=labels)\n"
     ]
    },
    {
     "data": {
      "text/plain": [
       "Text(0.5, 1.0, 'Income groups of customers')"
      ]
     },
     "execution_count": 61,
     "metadata": {},
     "output_type": "execute_result"
    },
    {
     "data": {
      "image/png": "[encoded data removed]",
      "text/plain": [
       "<Figure size 1224x504 with 1 Axes>"
      ]
     },
     "metadata": {
      "needs_background": "light"
     },
     "output_type": "display_data"
    }
   ],
   "source": [
    "#income category bin\n",
    "bins=[0,30000,70000,100000]\n",
    "labels=[\"mediocre\",\"standard\",\"Premium\"]\n",
    "#cutting\n",
    "bought_yes['income-category']=pd.cut(bought_yes['Annual_inc'],bins=bins,labels=labels)\n",
    "bought_yes['income-category'].value_counts()\n",
    "\n",
    "#plotting the  histogram\n",
    "plt.bar(labels, bought_yes['income-category'].value_counts())\n",
    "plt.xlabel(\"category  types\")\n",
    "plt.ylabel(\"number of people in each bin\")\n",
    "plt.title(\"Income groups of customers\")"
   ]
  },
  {
   "cell_type": "code",
   "execution_count": 62,
   "id": "ad674013",
   "metadata": {},
   "outputs": [
    {
     "data": {
      "image/png": "[encoded data removed]",
      "text/plain": [
       "<Figure size 1224x504 with 1 Axes>"
      ]
     },
     "metadata": {},
     "output_type": "display_data"
    }
   ],
   "source": [
    "#which day is more good for sale\n",
    "\n",
    "dayofweek=bought_yes['Day'].unique()\n",
    "number=bought_yes['Day'].value_counts()\n",
    "\n",
    "\n",
    "# color for each label\n",
    "colors = ['red', 'yellow', 'violet', 'wheat','seagreen','cyan','pink']\n",
    "  \n",
    "# plotting the pie chart\n",
    "plt.pie(number, labels = dayofweek, colors=colors, \n",
    "        startangle=90, shadow = True ,explode = (0.1, 0.1, 0.1, 0.1, 0.1, 0, 0.2),\n",
    "        radius = 1.2, autopct = '%1.1f%%')\n",
    "\n",
    "# plotting legend\n",
    "plt.legend()\n",
    "  \n",
    "# showing the plot\n",
    "plt.show()"
   ]
  },
  {
   "cell_type": "code",
   "execution_count": 63,
   "id": "2193a1a1",
   "metadata": {},
   "outputs": [
    {
     "name": "stderr",
     "output_type": "stream",
     "text": [
      "C:\\Users\\sujoydutta\\anaconda3\\lib\\site-packages\\seaborn\\categorical.py:1296: UserWarning: 85.3% of the points cannot be placed; you may want to decrease the size of the markers or use stripplot.\n",
      "  warnings.warn(msg, UserWarning)\n",
      "C:\\Users\\sujoydutta\\anaconda3\\lib\\site-packages\\seaborn\\categorical.py:1296: UserWarning: 87.1% of the points cannot be placed; you may want to decrease the size of the markers or use stripplot.\n",
      "  warnings.warn(msg, UserWarning)\n"
     ]
    },
    {
     "data": {
      "text/plain": [
       "'blue is girl and yellow is boy'"
      ]
     },
     "execution_count": 63,
     "metadata": {},
     "output_type": "execute_result"
    },
    {
     "data": {
      "image/png": "[encoded data removed]",
      "text/plain": [
       "<Figure size 430.5x360 with 1 Axes>"
      ]
     },
     "metadata": {
      "needs_background": "light"
     },
     "output_type": "display_data"
    }
   ],
   "source": [
    "#which gender first time visitors make the most clicks\n",
    "sb.catplot(data=bought_yes, x=\"clickcount\", y=\"First_timer?\", hue=\"Gender\", kind=\"swarm\")\n",
    "plt.rcParams['figure.figsize'] = [50, 10]\n",
    "\n",
    "\"blue is girl and yellow is boy\""
   ]
  },
  {
   "cell_type": "code",
   "execution_count": 64,
   "id": "53b53f8f",
   "metadata": {
    "scrolled": true
   },
   "outputs": [
    {
     "data": {
      "text/html": [
       "<div>\n",
       "<style scoped>\n",
       "    .dataframe tbody tr th:only-of-type {\n",
       "        vertical-align: middle;\n",
       "    }\n",
       "\n",
       "    .dataframe tbody tr th {\n",
       "        vertical-align: top;\n",
       "    }\n",
       "\n",
       "    .dataframe thead th {\n",
       "        text-align: right;\n",
       "    }\n",
       "</style>\n",
       "<table border=\"1\" class=\"dataframe\">\n",
       "  <thead>\n",
       "    <tr style=\"text-align: right;\">\n",
       "      <th></th>\n",
       "      <th>df</th>\n",
       "      <th>sum_sq</th>\n",
       "      <th>mean_sq</th>\n",
       "      <th>F</th>\n",
       "      <th>PR(&gt;F)</th>\n",
       "    </tr>\n",
       "  </thead>\n",
       "  <tbody>\n",
       "    <tr>\n",
       "      <th>ct</th>\n",
       "      <td>9.0</td>\n",
       "      <td>104.089618</td>\n",
       "      <td>11.565513</td>\n",
       "      <td>0.626417</td>\n",
       "      <td>0.775521</td>\n",
       "    </tr>\n",
       "    <tr>\n",
       "      <th>Residual</th>\n",
       "      <td>10989.0</td>\n",
       "      <td>202889.573304</td>\n",
       "      <td>18.462970</td>\n",
       "      <td>NaN</td>\n",
       "      <td>NaN</td>\n",
       "    </tr>\n",
       "  </tbody>\n",
       "</table>\n",
       "</div>"
      ],
      "text/plain": [
       "               df         sum_sq    mean_sq         F    PR(>F)\n",
       "ct            9.0     104.089618  11.565513  0.626417  0.775521\n",
       "Residual  10989.0  202889.573304  18.462970       NaN       NaN"
      ]
     },
     "execution_count": 64,
     "metadata": {},
     "output_type": "execute_result"
    }
   ],
   "source": [
    "#does click depend on country?\n",
    "\n",
    "ct=saledf['Country']\n",
    "mod = ols(\"clickcount ~ ct\", data = saledf).fit()\n",
    "anov_table = sm.stats.anova_lm(mod)\n",
    "anov_table"
   ]
  },
  {
   "cell_type": "code",
   "execution_count": 65,
   "id": "f010a2f6",
   "metadata": {},
   "outputs": [
    {
     "data": {
      "text/html": [
       "<div>\n",
       "<style scoped>\n",
       "    .dataframe tbody tr th:only-of-type {\n",
       "        vertical-align: middle;\n",
       "    }\n",
       "\n",
       "    .dataframe tbody tr th {\n",
       "        vertical-align: top;\n",
       "    }\n",
       "\n",
       "    .dataframe thead th {\n",
       "        text-align: right;\n",
       "    }\n",
       "</style>\n",
       "<table border=\"1\" class=\"dataframe\">\n",
       "  <thead>\n",
       "    <tr style=\"text-align: right;\">\n",
       "      <th></th>\n",
       "      <th>df</th>\n",
       "      <th>sum_sq</th>\n",
       "      <th>mean_sq</th>\n",
       "      <th>F</th>\n",
       "      <th>PR(&gt;F)</th>\n",
       "    </tr>\n",
       "  </thead>\n",
       "  <tbody>\n",
       "    <tr>\n",
       "      <th>cf</th>\n",
       "      <td>7.0</td>\n",
       "      <td>1.744688e+03</td>\n",
       "      <td>249.241164</td>\n",
       "      <td>1.001049</td>\n",
       "      <td>0.428182</td>\n",
       "    </tr>\n",
       "    <tr>\n",
       "      <th>Residual</th>\n",
       "      <td>10991.0</td>\n",
       "      <td>2.736539e+06</td>\n",
       "      <td>248.979958</td>\n",
       "      <td>NaN</td>\n",
       "      <td>NaN</td>\n",
       "    </tr>\n",
       "  </tbody>\n",
       "</table>\n",
       "</div>"
      ],
      "text/plain": [
       "               df        sum_sq     mean_sq         F    PR(>F)\n",
       "cf            7.0  1.744688e+03  249.241164  1.001049  0.428182\n",
       "Residual  10991.0  2.736539e+06  248.979958       NaN       NaN"
      ]
     },
     "execution_count": 65,
     "metadata": {},
     "output_type": "execute_result"
    }
   ],
   "source": [
    "#does source target different age group?\n",
    "\n",
    "cf=saledf['Came_from?']\n",
    "mod = ols(\"Age ~ cf\", data = saledf).fit()\n",
    "anov_table = sm.stats.anova_lm(mod)\n",
    "anov_table"
   ]
  },
  {
   "cell_type": "code",
   "execution_count": 66,
   "id": "ad487848",
   "metadata": {},
   "outputs": [
    {
     "data": {
      "text/html": [
       "<div>\n",
       "<style scoped>\n",
       "    .dataframe tbody tr th:only-of-type {\n",
       "        vertical-align: middle;\n",
       "    }\n",
       "\n",
       "    .dataframe tbody tr th {\n",
       "        vertical-align: top;\n",
       "    }\n",
       "\n",
       "    .dataframe thead th {\n",
       "        text-align: right;\n",
       "    }\n",
       "</style>\n",
       "<table border=\"1\" class=\"dataframe\">\n",
       "  <thead>\n",
       "    <tr style=\"text-align: right;\">\n",
       "      <th></th>\n",
       "      <th>df</th>\n",
       "      <th>sum_sq</th>\n",
       "      <th>mean_sq</th>\n",
       "      <th>F</th>\n",
       "      <th>PR(&gt;F)</th>\n",
       "    </tr>\n",
       "  </thead>\n",
       "  <tbody>\n",
       "    <tr>\n",
       "      <th>dv</th>\n",
       "      <td>3.0</td>\n",
       "      <td>32.012238</td>\n",
       "      <td>10.670746</td>\n",
       "      <td>0.654448</td>\n",
       "      <td>0.580068</td>\n",
       "    </tr>\n",
       "    <tr>\n",
       "      <th>Residual</th>\n",
       "      <td>10995.0</td>\n",
       "      <td>179273.048520</td>\n",
       "      <td>16.304961</td>\n",
       "      <td>NaN</td>\n",
       "      <td>NaN</td>\n",
       "    </tr>\n",
       "  </tbody>\n",
       "</table>\n",
       "</div>"
      ],
      "text/plain": [
       "               df         sum_sq    mean_sq         F    PR(>F)\n",
       "dv            3.0      32.012238  10.670746  0.654448  0.580068\n",
       "Residual  10995.0  179273.048520  16.304961       NaN       NaN"
      ]
     },
     "execution_count": 66,
     "metadata": {},
     "output_type": "execute_result"
    }
   ],
   "source": [
    "#does time spent depend on device?\n",
    "\n",
    "dv=saledf['Device']\n",
    "mod = ols(\"Min_spent ~ dv\", data = saledf).fit()\n",
    "anov_table = sm.stats.anova_lm(mod)\n",
    "anov_table"
   ]
  },
  {
   "cell_type": "code",
   "execution_count": 67,
   "id": "bd7827da",
   "metadata": {},
   "outputs": [
    {
     "data": {
      "text/html": [
       "<div>\n",
       "<style scoped>\n",
       "    .dataframe tbody tr th:only-of-type {\n",
       "        vertical-align: middle;\n",
       "    }\n",
       "\n",
       "    .dataframe tbody tr th {\n",
       "        vertical-align: top;\n",
       "    }\n",
       "\n",
       "    .dataframe thead th {\n",
       "        text-align: right;\n",
       "    }\n",
       "</style>\n",
       "<table border=\"1\" class=\"dataframe\">\n",
       "  <thead>\n",
       "    <tr style=\"text-align: right;\">\n",
       "      <th></th>\n",
       "      <th>df</th>\n",
       "      <th>sum_sq</th>\n",
       "      <th>mean_sq</th>\n",
       "      <th>F</th>\n",
       "      <th>PR(&gt;F)</th>\n",
       "    </tr>\n",
       "  </thead>\n",
       "  <tbody>\n",
       "    <tr>\n",
       "      <th>bt</th>\n",
       "      <td>1.0</td>\n",
       "      <td>2.167253e+08</td>\n",
       "      <td>2.167253e+08</td>\n",
       "      <td>0.290915</td>\n",
       "      <td>0.589646</td>\n",
       "    </tr>\n",
       "    <tr>\n",
       "      <th>Residual</th>\n",
       "      <td>10997.0</td>\n",
       "      <td>8.192539e+12</td>\n",
       "      <td>7.449795e+08</td>\n",
       "      <td>NaN</td>\n",
       "      <td>NaN</td>\n",
       "    </tr>\n",
       "  </tbody>\n",
       "</table>\n",
       "</div>"
      ],
      "text/plain": [
       "               df        sum_sq       mean_sq         F    PR(>F)\n",
       "bt            1.0  2.167253e+08  2.167253e+08  0.290915  0.589646\n",
       "Residual  10997.0  8.192539e+12  7.449795e+08       NaN       NaN"
      ]
     },
     "execution_count": 67,
     "metadata": {},
     "output_type": "execute_result"
    }
   ],
   "source": [
    "#are people with high income likely to convert?\n",
    "\n",
    "bt=saledf['Bought?']\n",
    "mod = ols(\"Annual_inc ~ bt\", data = saledf).fit()\n",
    "anov_table = sm.stats.anova_lm(mod)\n",
    "anov_table"
   ]
  },
  {
   "cell_type": "code",
   "execution_count": 68,
   "id": "03224f39",
   "metadata": {},
   "outputs": [
    {
     "data": {
      "text/html": [
       "<div>\n",
       "<style scoped>\n",
       "    .dataframe tbody tr th:only-of-type {\n",
       "        vertical-align: middle;\n",
       "    }\n",
       "\n",
       "    .dataframe tbody tr th {\n",
       "        vertical-align: top;\n",
       "    }\n",
       "\n",
       "    .dataframe thead th {\n",
       "        text-align: right;\n",
       "    }\n",
       "</style>\n",
       "<table border=\"1\" class=\"dataframe\">\n",
       "  <thead>\n",
       "    <tr style=\"text-align: right;\">\n",
       "      <th></th>\n",
       "      <th>df</th>\n",
       "      <th>sum_sq</th>\n",
       "      <th>mean_sq</th>\n",
       "      <th>F</th>\n",
       "      <th>PR(&gt;F)</th>\n",
       "    </tr>\n",
       "  </thead>\n",
       "  <tbody>\n",
       "    <tr>\n",
       "      <th>ft</th>\n",
       "      <td>1.0</td>\n",
       "      <td>0.210935</td>\n",
       "      <td>0.210935</td>\n",
       "      <td>0.011427</td>\n",
       "      <td>0.914872</td>\n",
       "    </tr>\n",
       "    <tr>\n",
       "      <th>Residual</th>\n",
       "      <td>10997.0</td>\n",
       "      <td>202993.451986</td>\n",
       "      <td>18.458984</td>\n",
       "      <td>NaN</td>\n",
       "      <td>NaN</td>\n",
       "    </tr>\n",
       "  </tbody>\n",
       "</table>\n",
       "</div>"
      ],
      "text/plain": [
       "               df         sum_sq    mean_sq         F    PR(>F)\n",
       "ft            1.0       0.210935   0.210935  0.011427  0.914872\n",
       "Residual  10997.0  202993.451986  18.458984       NaN       NaN"
      ]
     },
     "execution_count": 68,
     "metadata": {},
     "output_type": "execute_result"
    }
   ],
   "source": [
    "#are first timers most likely to make more clicks?\n",
    "\n",
    "ft=saledf['First_timer?']\n",
    "mod = ols(\"clickcount ~ ft\", data = saledf).fit()\n",
    "anov_table = sm.stats.anova_lm(mod)\n",
    "anov_table"
   ]
  },
  {
   "cell_type": "code",
   "execution_count": 69,
   "id": "43aa266a",
   "metadata": {},
   "outputs": [
    {
     "data": {
      "text/html": [
       "<div>\n",
       "<style scoped>\n",
       "    .dataframe tbody tr th:only-of-type {\n",
       "        vertical-align: middle;\n",
       "    }\n",
       "\n",
       "    .dataframe tbody tr th {\n",
       "        vertical-align: top;\n",
       "    }\n",
       "\n",
       "    .dataframe thead th {\n",
       "        text-align: right;\n",
       "    }\n",
       "</style>\n",
       "<table border=\"1\" class=\"dataframe\">\n",
       "  <thead>\n",
       "    <tr style=\"text-align: right;\">\n",
       "      <th></th>\n",
       "      <th>df</th>\n",
       "      <th>sum_sq</th>\n",
       "      <th>mean_sq</th>\n",
       "      <th>F</th>\n",
       "      <th>PR(&gt;F)</th>\n",
       "    </tr>\n",
       "  </thead>\n",
       "  <tbody>\n",
       "    <tr>\n",
       "      <th>ft</th>\n",
       "      <td>1.0</td>\n",
       "      <td>23.625749</td>\n",
       "      <td>23.625749</td>\n",
       "      <td>1.449187</td>\n",
       "      <td>0.228684</td>\n",
       "    </tr>\n",
       "    <tr>\n",
       "      <th>Residual</th>\n",
       "      <td>10997.0</td>\n",
       "      <td>179281.435009</td>\n",
       "      <td>16.302758</td>\n",
       "      <td>NaN</td>\n",
       "      <td>NaN</td>\n",
       "    </tr>\n",
       "  </tbody>\n",
       "</table>\n",
       "</div>"
      ],
      "text/plain": [
       "               df         sum_sq    mean_sq         F    PR(>F)\n",
       "ft            1.0      23.625749  23.625749  1.449187  0.228684\n",
       "Residual  10997.0  179281.435009  16.302758       NaN       NaN"
      ]
     },
     "execution_count": 69,
     "metadata": {},
     "output_type": "execute_result"
    }
   ],
   "source": [
    "#are first timers most likely to spend more time?\n",
    "\n",
    "ft=saledf['First_timer?']\n",
    "mod = ols(\"Min_spent ~ ft\", data = saledf).fit()\n",
    "anov_table = sm.stats.anova_lm(mod)\n",
    "anov_table"
   ]
  },
  {
   "cell_type": "code",
   "execution_count": 70,
   "id": "9978594b",
   "metadata": {},
   "outputs": [
    {
     "data": {
      "text/html": [
       "<div>\n",
       "<style scoped>\n",
       "    .dataframe tbody tr th:only-of-type {\n",
       "        vertical-align: middle;\n",
       "    }\n",
       "\n",
       "    .dataframe tbody tr th {\n",
       "        vertical-align: top;\n",
       "    }\n",
       "\n",
       "    .dataframe thead th {\n",
       "        text-align: right;\n",
       "    }\n",
       "</style>\n",
       "<table border=\"1\" class=\"dataframe\">\n",
       "  <thead>\n",
       "    <tr style=\"text-align: right;\">\n",
       "      <th></th>\n",
       "      <th>df</th>\n",
       "      <th>sum_sq</th>\n",
       "      <th>mean_sq</th>\n",
       "      <th>F</th>\n",
       "      <th>PR(&gt;F)</th>\n",
       "    </tr>\n",
       "  </thead>\n",
       "  <tbody>\n",
       "    <tr>\n",
       "      <th>Day</th>\n",
       "      <td>6.0</td>\n",
       "      <td>33.466564</td>\n",
       "      <td>5.577761</td>\n",
       "      <td>0.302083</td>\n",
       "      <td>0.936095</td>\n",
       "    </tr>\n",
       "    <tr>\n",
       "      <th>Residual</th>\n",
       "      <td>10992.0</td>\n",
       "      <td>202960.196357</td>\n",
       "      <td>18.464356</td>\n",
       "      <td>NaN</td>\n",
       "      <td>NaN</td>\n",
       "    </tr>\n",
       "  </tbody>\n",
       "</table>\n",
       "</div>"
      ],
      "text/plain": [
       "               df         sum_sq    mean_sq         F    PR(>F)\n",
       "Day           6.0      33.466564   5.577761  0.302083  0.936095\n",
       "Residual  10992.0  202960.196357  18.464356       NaN       NaN"
      ]
     },
     "execution_count": 70,
     "metadata": {},
     "output_type": "execute_result"
    }
   ],
   "source": [
    "#are number of clicks dependent on days?\n",
    "\n",
    "day=saledf['Day']\n",
    "mod = ols(\"clickcount ~ Day\", data = saledf).fit()\n",
    "anov_table = sm.stats.anova_lm(mod)\n",
    "anov_table"
   ]
  },
  {
   "cell_type": "markdown",
   "id": "b1c385fc",
   "metadata": {},
   "source": [
    "**Finding**\n",
    "\n",
    "1. Number of clicks are almost the same on every day,country and visitor types.\n",
    "2. First timers and regular vistors have the same amount of clicks and spend the same amount of time\n",
    "3. There is no correlation among numerical data types. \n",
    "4. Regular visitors are more likely to buy then first timers.\n",
    "5. People of all age groups come from different sources\n",
    "6. Sale probaility is less than 50%\n",
    "7. Sales are slightly higher on Fridays and slightly lower on Wednesday\n",
    "8. People spend the same amount of time from all devices types. \n",
    "9. People who make the purchase are mostly PC users and come from other unspecified chanels.\n",
    "10. Both men and women first timers make the same number of clicks.\n",
    "11. Most of the buyers have an income below 70,000 dollars per annum. \n",
    "12. It is not necessary that a person with higher income is a likely customer. "
   ]
  },
  {
   "cell_type": "markdown",
   "id": "b0a9cb81",
   "metadata": {},
   "source": [
    "**Step 5: Model Building**\n",
    "\n",
    "Now we are going to build the LGR model to predict the clients who is likely to make a sale. The data has been cleaned and explored. "
   ]
  },
  {
   "cell_type": "code",
   "execution_count": 71,
   "id": "3c793ca7",
   "metadata": {},
   "outputs": [],
   "source": [
    "#initializing lgr and sc \n",
    "lgmodel=lgr(solver='lbfgs')\n",
    "sc=StandardScaler()"
   ]
  },
  {
   "cell_type": "code",
   "execution_count": 72,
   "id": "4965034e",
   "metadata": {},
   "outputs": [],
   "source": [
    "#train test split\n",
    "X_train, X_test, y_train, y_test = train_test_split(X, y, test_size =0.25, random_state=0)\n"
   ]
  },
  {
   "cell_type": "code",
   "execution_count": 73,
   "id": "3a829240",
   "metadata": {},
   "outputs": [],
   "source": [
    "#using standard scaler\n",
    "X_train=sc.fit_transform(X_train)\n",
    "X_test=sc.transform(X_test)"
   ]
  },
  {
   "cell_type": "code",
   "execution_count": 74,
   "id": "666e6cb9",
   "metadata": {},
   "outputs": [
    {
     "data": {
      "text/plain": [
       "LogisticRegression()"
      ]
     },
     "execution_count": 74,
     "metadata": {},
     "output_type": "execute_result"
    }
   ],
   "source": [
    "#fitting the model\n",
    "lgmodel.fit(X = X_train,\n",
    "            y = y_train)"
   ]
  },
  {
   "cell_type": "code",
   "execution_count": 75,
   "id": "7e4467db",
   "metadata": {},
   "outputs": [
    {
     "name": "stdout",
     "output_type": "stream",
     "text": [
      "[-0.03132409]\n",
      "[[-0.02402529  0.00277058 -0.02352577  0.01052735 -0.04488104 -0.03455662\n",
      "  -0.03044072 -0.01999826]]\n"
     ]
    }
   ],
   "source": [
    "#check model intercept and co ef\n",
    "print(lgmodel.intercept_)\n",
    "print(lgmodel.coef_)"
   ]
  },
  {
   "cell_type": "code",
   "execution_count": 76,
   "id": "4bdfdaec",
   "metadata": {},
   "outputs": [
    {
     "name": "stdout",
     "output_type": "stream",
     "text": [
      "              precision    recall  f1-score   support\n",
      "\n",
      "           0       0.49      0.65      0.56      1369\n",
      "           1       0.49      0.34      0.40      1381\n",
      "\n",
      "    accuracy                           0.49      2750\n",
      "   macro avg       0.49      0.49      0.48      2750\n",
      "weighted avg       0.49      0.49      0.48      2750\n",
      "\n"
     ]
    }
   ],
   "source": [
    "#checking the model \n",
    "\n",
    "Y_pred = lgmodel.predict(X_test)\n",
    "#printing metrics\n",
    "print(classification_report(y_test,Y_pred))\n",
    "\n",
    "\n"
   ]
  },
  {
   "cell_type": "code",
   "execution_count": 77,
   "id": "b1f3d68b",
   "metadata": {},
   "outputs": [
    {
     "name": "stdout",
     "output_type": "stream",
     "text": [
      "[[886 483]\n",
      " [918 463]]\n"
     ]
    }
   ],
   "source": [
    "#confusion matrix\n",
    "cm=confusion_matrix(y_test,Y_pred)\n",
    "print(cm)"
   ]
  },
  {
   "cell_type": "code",
   "execution_count": 78,
   "id": "979ec6e0",
   "metadata": {},
   "outputs": [
    {
     "name": "stdout",
     "output_type": "stream",
     "text": [
      "Accuracy of the model: 49.054545454545455%\n"
     ]
    }
   ],
   "source": [
    "print(\"Accuracy of the model: {0}%\".format(accuracy_score(y_test,Y_pred)*100))"
   ]
  },
  {
   "cell_type": "markdown",
   "id": "74791160",
   "metadata": {},
   "source": [
    "**Step 6: Building the algorithm**\n",
    "\n",
    "We will trim the existing dataset and put the necessary variables in the model. We will build a model that takes input in the form of the necessary variables and tells us whether this person will buy or not. "
   ]
  },
  {
   "cell_type": "code",
   "execution_count": 79,
   "id": "b33d0042",
   "metadata": {},
   "outputs": [
    {
     "data": {
      "text/html": [
       "<div>\n",
       "<style scoped>\n",
       "    .dataframe tbody tr th:only-of-type {\n",
       "        vertical-align: middle;\n",
       "    }\n",
       "\n",
       "    .dataframe tbody tr th {\n",
       "        vertical-align: top;\n",
       "    }\n",
       "\n",
       "    .dataframe thead th {\n",
       "        text-align: right;\n",
       "    }\n",
       "</style>\n",
       "<table border=\"1\" class=\"dataframe\">\n",
       "  <thead>\n",
       "    <tr style=\"text-align: right;\">\n",
       "      <th></th>\n",
       "      <th>First_timer?</th>\n",
       "      <th>Min_spent</th>\n",
       "      <th>clickcount</th>\n",
       "      <th>Annual_inc</th>\n",
       "      <th>Age</th>\n",
       "      <th>Unnamed 1</th>\n",
       "      <th>Unnamed 2</th>\n",
       "      <th>Unnamed 3</th>\n",
       "    </tr>\n",
       "  </thead>\n",
       "  <tbody>\n",
       "  </tbody>\n",
       "</table>\n",
       "</div>"
      ],
      "text/plain": [
       "Empty DataFrame\n",
       "Columns: [First_timer?, Min_spent, clickcount, Annual_inc, Age, Unnamed 1, Unnamed 2, Unnamed 3]\n",
       "Index: []"
      ]
     },
     "execution_count": 79,
     "metadata": {},
     "output_type": "execute_result"
    }
   ],
   "source": [
    "#seeing ideal dataset\n",
    "X.head(0)"
   ]
  },
  {
   "cell_type": "code",
   "execution_count": 80,
   "id": "8950c4be",
   "metadata": {},
   "outputs": [
    {
     "data": {
      "text/html": [
       "<div>\n",
       "<style scoped>\n",
       "    .dataframe tbody tr th:only-of-type {\n",
       "        vertical-align: middle;\n",
       "    }\n",
       "\n",
       "    .dataframe tbody tr th {\n",
       "        vertical-align: top;\n",
       "    }\n",
       "\n",
       "    .dataframe thead th {\n",
       "        text-align: right;\n",
       "    }\n",
       "</style>\n",
       "<table border=\"1\" class=\"dataframe\">\n",
       "  <thead>\n",
       "    <tr style=\"text-align: right;\">\n",
       "      <th></th>\n",
       "      <th>Gender</th>\n",
       "      <th>Device</th>\n",
       "      <th>First_timer?</th>\n",
       "      <th>Came_from?</th>\n",
       "      <th>Day</th>\n",
       "      <th>Min_spent</th>\n",
       "      <th>clickcount</th>\n",
       "      <th>Annual_inc</th>\n",
       "      <th>Country</th>\n",
       "      <th>Age</th>\n",
       "      <th>Bought?</th>\n",
       "    </tr>\n",
       "  </thead>\n",
       "  <tbody>\n",
       "  </tbody>\n",
       "</table>\n",
       "</div>"
      ],
      "text/plain": [
       "Empty DataFrame\n",
       "Columns: [Gender, Device, First_timer?, Came_from?, Day, Min_spent, clickcount, Annual_inc, Country, Age, Bought?]\n",
       "Index: []"
      ]
     },
     "execution_count": 80,
     "metadata": {},
     "output_type": "execute_result"
    }
   ],
   "source": [
    "#comparing with original \n",
    "saledf.head(0)"
   ]
  },
  {
   "cell_type": "code",
   "execution_count": 81,
   "id": "b429bcb8",
   "metadata": {},
   "outputs": [
    {
     "data": {
      "text/plain": [
       "2    1519\n",
       "1    1376\n",
       "0    1368\n",
       "4    1367\n",
       "3    1357\n",
       "7    1349\n",
       "5    1334\n",
       "6    1329\n",
       "Name: Unnamed 1, dtype: int64"
      ]
     },
     "execution_count": 81,
     "metadata": {},
     "output_type": "execute_result"
    }
   ],
   "source": [
    "#seeing first unnamed \n",
    "X['Unnamed 1'].value_counts()"
   ]
  },
  {
   "cell_type": "code",
   "execution_count": 82,
   "id": "98334527",
   "metadata": {},
   "outputs": [
    {
     "data": {
      "text/plain": [
       "Google search       1519\n",
       "Email               1376\n",
       "Affiliate link      1368\n",
       "Referral            1367\n",
       "Other               1357\n",
       "Youtube channel     1349\n",
       "Social media ads    1334\n",
       "Website             1329\n",
       "Name: Came_from?, dtype: int64"
      ]
     },
     "execution_count": 82,
     "metadata": {},
     "output_type": "execute_result"
    }
   ],
   "source": [
    "#seeing original values\n",
    "saledf['Came_from?'].value_counts()"
   ]
  },
  {
   "cell_type": "code",
   "execution_count": 83,
   "id": "03c74474",
   "metadata": {},
   "outputs": [
    {
     "data": {
      "text/plain": [
       "0    1633\n",
       "2    1602\n",
       "5    1582\n",
       "6    1574\n",
       "3    1559\n",
       "1    1535\n",
       "4    1514\n",
       "Name: Unnamed 2, dtype: int64"
      ]
     },
     "execution_count": 83,
     "metadata": {},
     "output_type": "execute_result"
    }
   ],
   "source": [
    "#seeing second unnamed \n",
    "X['Unnamed 2'].value_counts()"
   ]
  },
  {
   "cell_type": "code",
   "execution_count": 84,
   "id": "e96c480c",
   "metadata": {},
   "outputs": [
    {
     "data": {
      "text/plain": [
       "FRI    1633\n",
       "SAT    1602\n",
       "TUE    1582\n",
       "WED    1574\n",
       "SUN    1559\n",
       "MON    1535\n",
       "THU    1514\n",
       "Name: Day, dtype: int64"
      ]
     },
     "execution_count": 84,
     "metadata": {},
     "output_type": "execute_result"
    }
   ],
   "source": [
    "#seeing original values\n",
    "saledf['Day'].value_counts()"
   ]
  },
  {
   "cell_type": "code",
   "execution_count": 85,
   "id": "6540d1e5",
   "metadata": {},
   "outputs": [
    {
     "data": {
      "text/plain": [
       "9    1235\n",
       "1    1123\n",
       "0    1120\n",
       "2    1094\n",
       "5    1088\n",
       "3    1085\n",
       "4    1083\n",
       "6    1074\n",
       "7    1060\n",
       "8    1037\n",
       "Name: Unnamed 3, dtype: int64"
      ]
     },
     "execution_count": 85,
     "metadata": {},
     "output_type": "execute_result"
    }
   ],
   "source": [
    "#seeing third unnamed \n",
    "X['Unnamed 3'].value_counts()"
   ]
  },
  {
   "cell_type": "code",
   "execution_count": 86,
   "id": "4b487a86",
   "metadata": {},
   "outputs": [
    {
     "data": {
      "text/plain": [
       "USA         1235\n",
       "China       1123\n",
       "Canada      1120\n",
       "India       1094\n",
       "Malaysia    1088\n",
       "Ireland     1085\n",
       "Japan       1083\n",
       "Mexico      1074\n",
       "Russia      1060\n",
       "UK          1037\n",
       "Name: Country, dtype: int64"
      ]
     },
     "execution_count": 86,
     "metadata": {},
     "output_type": "execute_result"
    }
   ],
   "source": [
    "#seeing original values\n",
    "saledf['Country'].value_counts()"
   ]
  },
  {
   "cell_type": "code",
   "execution_count": 87,
   "id": "c7030cd3",
   "metadata": {},
   "outputs": [],
   "source": [
    "#dropping unnecessary columns\n",
    "saledftrim=saledf.drop([\"Gender\",\"Device\"], axis=1)"
   ]
  },
  {
   "cell_type": "code",
   "execution_count": 91,
   "id": "96c44ad7",
   "metadata": {
    "scrolled": true
   },
   "outputs": [
    {
     "name": "stdout",
     "output_type": "stream",
     "text": [
      "first timer?1\n",
      "came from?1\n",
      "which day?2\n",
      "time spent?21\n",
      "how many clicks done?21\n",
      "how much you earn annually?40000\n",
      "From which country do you belong?3\n",
      "How old are you?41\n",
      "['0']\n",
      "sale not done\n"
     ]
    },
    {
     "name": "stderr",
     "output_type": "stream",
     "text": [
      "C:\\Users\\sujoydutta\\anaconda3\\lib\\site-packages\\sklearn\\base.py:450: UserWarning: X does not have valid feature names, but StandardScaler was fitted with feature names\n",
      "  warnings.warn(\n"
     ]
    }
   ],
   "source": [
    "#building function\n",
    "First_timer=int(input(\"first timer?\"))\n",
    "Came_from=int(input(\"came from?\"))\n",
    "Day=int(input(\"which day?\"))\n",
    "Min_spent=int(input(\"time spent?\"))\n",
    "clickcount=int(input(\"how many clicks done?\"))\n",
    "Annual_inc=int(input(\"how much you earn annually?\"))\n",
    "Country=int(input(\"From which country do you belong?\"))\n",
    "Age=int(input(\"How old are you?\"))\n",
    "newcust=[[First_timer,Came_from,Day,Min_spent,clickcount,Annual_inc,Country,Age]]\n",
    "result=lgmodel.predict(sc.transform(newcust))\n",
    "print(result)\n",
    "if result == 1:\n",
    "    print(\"sale done\")\n",
    "else:\n",
    "    print(\"sale not done\")"
   ]
  }
 ],
 "metadata": {
  "kernelspec": {
   "display_name": "Python 3 (ipykernel)",
   "language": "python",
   "name": "python3"
  },
  "language_info": {
   "codemirror_mode": {
    "name": "ipython",
    "version": 3
   },
   "file_extension": ".py",
   "mimetype": "text/x-python",
   "name": "python",
   "nbconvert_exporter": "python",
   "pygments_lexer": "ipython3",
   "version": "3.9.12"
  }
 },
 "nbformat": 4,
 "nbformat_minor": 5
}
