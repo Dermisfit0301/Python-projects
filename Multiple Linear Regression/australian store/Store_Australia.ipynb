{
 "cells": [
  {
   "cell_type": "markdown",
   "id": "9c0e5964",
   "metadata": {},
   "source": [
    "# Store Dataset\n",
    "\n",
    "This dataset is from an Australian Superstore. We have details of around 150 stores from its varied locations in Australia. Our job is to see which factors does the sale depend on. We will also find out which stores are more profitable and so on"
   ]
  },
  {
   "cell_type": "markdown",
   "id": "2f7c5161",
   "metadata": {},
   "source": [
    "**Step 1: Setting up the work environment**\n",
    "\n",
    "We are going to download the necessary packages for our work. We are going to view the dataset and check the datatypes."
   ]
  },
  {
   "cell_type": "code",
   "execution_count": 124,
   "id": "d9329d89",
   "metadata": {},
   "outputs": [],
   "source": [
    "#installing packages\n",
    "import numpy as np\n",
    "import pandas as pd\n",
    "import matplotlib.pyplot as plt\n",
    "import seaborn as sb\n",
    "from sklearn.linear_model import LinearRegression\n",
    "from sklearn.tree import DecisionTreeRegressor \n",
    "from sklearn.metrics import mean_squared_error\n",
    "from sklearn.pipeline import Pipeline\n",
    "from sklearn.preprocessing import StandardScaler\n",
    "from sklearn.preprocessing import PolynomialFeatures\n",
    "from sklearn.metrics import r2_score\n",
    "from sklearn.model_selection import train_test_split\n",
    "from sklearn.model_selection import cross_val_score\n",
    "from sklearn.model_selection import cross_val_predict\n",
    "from sklearn.linear_model import Ridge\n",
    "from sklearn.model_selection import GridSearchCV\n",
    "import os\n",
    "from collections import Counter\n",
    "from statsmodels.stats.weightstats import ttest_ind\n",
    "import scipy.stats as stats\n",
    "from scipy.stats import ttest_ind\n",
    "%matplotlib inline\n",
    "from scipy import stats\n",
    "from sklearn.metrics import classification_report\n",
    "from datetime import datetime\n",
    "from datetime import date\n",
    "import statsmodels.api as sm\n",
    "from statsmodels.formula.api import ols\n",
    "from sklearn import preprocessing as preproc\n",
    "from sklearn import metrics\n",
    "from sklearn.pipeline import make_pipeline\n",
    "import warnings\n",
    "warnings.filterwarnings(\"ignore\")"
   ]
  },
  {
   "cell_type": "code",
   "execution_count": 2,
   "id": "fcd9085b",
   "metadata": {},
   "outputs": [
    {
     "data": {
      "text/html": [
       "<div>\n",
       "<style scoped>\n",
       "    .dataframe tbody tr th:only-of-type {\n",
       "        vertical-align: middle;\n",
       "    }\n",
       "\n",
       "    .dataframe tbody tr th {\n",
       "        vertical-align: top;\n",
       "    }\n",
       "\n",
       "    .dataframe thead th {\n",
       "        text-align: right;\n",
       "    }\n",
       "</style>\n",
       "<table border=\"1\" class=\"dataframe\">\n",
       "  <thead>\n",
       "    <tr style=\"text-align: right;\">\n",
       "      <th></th>\n",
       "      <th>Store No.</th>\n",
       "      <th>Sales $m</th>\n",
       "      <th>Wages $m</th>\n",
       "      <th>No. Staff</th>\n",
       "      <th>Location</th>\n",
       "      <th>Loc'n (Num)</th>\n",
       "      <th>State</th>\n",
       "      <th>State (Num)</th>\n",
       "      <th>Age (Yrs)</th>\n",
       "      <th>GrossProfit</th>\n",
       "      <th>...</th>\n",
       "      <th>Mng-Sex (Num)</th>\n",
       "      <th>Mng-Age</th>\n",
       "      <th>Mng-Exp</th>\n",
       "      <th>Mng-Train</th>\n",
       "      <th>Union%</th>\n",
       "      <th>Car Spaces</th>\n",
       "      <th>HomeDel</th>\n",
       "      <th>HomeDel (Num)</th>\n",
       "      <th>Basket:2013</th>\n",
       "      <th>Basket:2014</th>\n",
       "    </tr>\n",
       "  </thead>\n",
       "  <tbody>\n",
       "    <tr>\n",
       "      <th>0</th>\n",
       "      <td>1</td>\n",
       "      <td>12.5</td>\n",
       "      <td>2.3</td>\n",
       "      <td>60</td>\n",
       "      <td>Mall</td>\n",
       "      <td>2</td>\n",
       "      <td>NSW</td>\n",
       "      <td>1</td>\n",
       "      <td>10</td>\n",
       "      <td>0.712</td>\n",
       "      <td>...</td>\n",
       "      <td>0</td>\n",
       "      <td>33</td>\n",
       "      <td>12</td>\n",
       "      <td>2</td>\n",
       "      <td>38</td>\n",
       "      <td>46</td>\n",
       "      <td>Del:No</td>\n",
       "      <td>0</td>\n",
       "      <td>171</td>\n",
       "      <td>178</td>\n",
       "    </tr>\n",
       "    <tr>\n",
       "      <th>1</th>\n",
       "      <td>2</td>\n",
       "      <td>14.5</td>\n",
       "      <td>2.7</td>\n",
       "      <td>69</td>\n",
       "      <td>Mall</td>\n",
       "      <td>2</td>\n",
       "      <td>Vic</td>\n",
       "      <td>2</td>\n",
       "      <td>8</td>\n",
       "      <td>0.091</td>\n",
       "      <td>...</td>\n",
       "      <td>0</td>\n",
       "      <td>33</td>\n",
       "      <td>16</td>\n",
       "      <td>1</td>\n",
       "      <td>38</td>\n",
       "      <td>73</td>\n",
       "      <td>Del:No</td>\n",
       "      <td>0</td>\n",
       "      <td>168</td>\n",
       "      <td>178</td>\n",
       "    </tr>\n",
       "    <tr>\n",
       "      <th>2</th>\n",
       "      <td>3</td>\n",
       "      <td>19.0</td>\n",
       "      <td>3.1</td>\n",
       "      <td>79</td>\n",
       "      <td>Country</td>\n",
       "      <td>3</td>\n",
       "      <td>Vic</td>\n",
       "      <td>2</td>\n",
       "      <td>7</td>\n",
       "      <td>1.075</td>\n",
       "      <td>...</td>\n",
       "      <td>0</td>\n",
       "      <td>30</td>\n",
       "      <td>9</td>\n",
       "      <td>2</td>\n",
       "      <td>39</td>\n",
       "      <td>64</td>\n",
       "      <td>Del:No</td>\n",
       "      <td>0</td>\n",
       "      <td>180</td>\n",
       "      <td>188</td>\n",
       "    </tr>\n",
       "    <tr>\n",
       "      <th>3</th>\n",
       "      <td>4</td>\n",
       "      <td>18.2</td>\n",
       "      <td>2.6</td>\n",
       "      <td>66</td>\n",
       "      <td>Mall</td>\n",
       "      <td>2</td>\n",
       "      <td>Qld</td>\n",
       "      <td>3</td>\n",
       "      <td>7</td>\n",
       "      <td>1.372</td>\n",
       "      <td>...</td>\n",
       "      <td>0</td>\n",
       "      <td>29</td>\n",
       "      <td>9</td>\n",
       "      <td>2</td>\n",
       "      <td>38</td>\n",
       "      <td>66</td>\n",
       "      <td>Del:Yes</td>\n",
       "      <td>1</td>\n",
       "      <td>173</td>\n",
       "      <td>180</td>\n",
       "    </tr>\n",
       "    <tr>\n",
       "      <th>4</th>\n",
       "      <td>5</td>\n",
       "      <td>7.6</td>\n",
       "      <td>2.0</td>\n",
       "      <td>51</td>\n",
       "      <td>Strip</td>\n",
       "      <td>1</td>\n",
       "      <td>Qld</td>\n",
       "      <td>3</td>\n",
       "      <td>15</td>\n",
       "      <td>2.148</td>\n",
       "      <td>...</td>\n",
       "      <td>0</td>\n",
       "      <td>36</td>\n",
       "      <td>4</td>\n",
       "      <td>3</td>\n",
       "      <td>40</td>\n",
       "      <td>29</td>\n",
       "      <td>Del:No</td>\n",
       "      <td>0</td>\n",
       "      <td>166</td>\n",
       "      <td>171</td>\n",
       "    </tr>\n",
       "  </tbody>\n",
       "</table>\n",
       "<p>5 rows × 26 columns</p>\n",
       "</div>"
      ],
      "text/plain": [
       "   Store No.  Sales $m  Wages $m  No. Staff Location  Loc'n (Num) State  \\\n",
       "0          1      12.5       2.3         60     Mall            2   NSW   \n",
       "1          2      14.5       2.7         69     Mall            2   Vic   \n",
       "2          3      19.0       3.1         79  Country            3   Vic   \n",
       "3          4      18.2       2.6         66     Mall            2   Qld   \n",
       "4          5       7.6       2.0         51    Strip            1   Qld   \n",
       "\n",
       "   State (Num)  Age (Yrs)  GrossProfit  ...  Mng-Sex (Num)  Mng-Age  Mng-Exp  \\\n",
       "0            1         10        0.712  ...              0       33       12   \n",
       "1            2          8        0.091  ...              0       33       16   \n",
       "2            2          7        1.075  ...              0       30        9   \n",
       "3            3          7        1.372  ...              0       29        9   \n",
       "4            3         15        2.148  ...              0       36        4   \n",
       "\n",
       "  Mng-Train  Union% Car Spaces  HomeDel  HomeDel (Num)  Basket:2013  \\\n",
       "0         2      38         46   Del:No              0          171   \n",
       "1         1      38         73   Del:No              0          168   \n",
       "2         2      39         64   Del:No              0          180   \n",
       "3         2      38         66  Del:Yes              1          173   \n",
       "4         3      40         29   Del:No              0          166   \n",
       "\n",
       "   Basket:2014  \n",
       "0          178  \n",
       "1          178  \n",
       "2          188  \n",
       "3          180  \n",
       "4          171  \n",
       "\n",
       "[5 rows x 26 columns]"
      ]
     },
     "execution_count": 2,
     "metadata": {},
     "output_type": "execute_result"
    }
   ],
   "source": [
    "#getting the dataset\n",
    "store= pd.read_excel('C:\\\\Users\\\\sujoydutta\\\\Desktop\\\\Data analysis\\\\Datasets\\\\StoresData.xlsx') \n",
    "store.head()"
   ]
  },
  {
   "cell_type": "code",
   "execution_count": 3,
   "id": "d17d7806",
   "metadata": {},
   "outputs": [
    {
     "data": {
      "text/plain": [
       "(150, 26)"
      ]
     },
     "execution_count": 3,
     "metadata": {},
     "output_type": "execute_result"
    }
   ],
   "source": [
    "#seeing the dataset\n",
    "store.shape"
   ]
  },
  {
   "cell_type": "code",
   "execution_count": 4,
   "id": "dfe4cd88",
   "metadata": {},
   "outputs": [
    {
     "data": {
      "text/plain": [
       "Store No.          int64\n",
       "Sales $m         float64\n",
       "Wages $m         float64\n",
       "No. Staff          int64\n",
       "Location          object\n",
       "Loc'n (Num)        int64\n",
       "State             object\n",
       "State (Num)        int64\n",
       "Age (Yrs)          int64\n",
       "GrossProfit      float64\n",
       "Adv.$'000          int64\n",
       "Competitors        int64\n",
       "HrsTrading         int64\n",
       "Sundays           object\n",
       "Sundays (Num)      int64\n",
       "Mng-Sex           object\n",
       "Mng-Sex (Num)      int64\n",
       "Mng-Age            int64\n",
       "Mng-Exp            int64\n",
       "Mng-Train          int64\n",
       "Union%             int64\n",
       "Car Spaces         int64\n",
       "HomeDel           object\n",
       "HomeDel (Num)      int64\n",
       "Basket:2013        int64\n",
       "Basket:2014        int64\n",
       "dtype: object"
      ]
     },
     "execution_count": 4,
     "metadata": {},
     "output_type": "execute_result"
    }
   ],
   "source": [
    "#seeing datatypes\n",
    "store.dtypes"
   ]
  },
  {
   "cell_type": "code",
   "execution_count": 5,
   "id": "c9106c9d",
   "metadata": {},
   "outputs": [],
   "source": [
    "#making typecast\n",
    "def Typecasting(data):\n",
    "    try:\n",
    "        print(data.columns)\n",
    "        typecast=data.astype(eval)\n",
    "    except:\n",
    "       typecast=data \n",
    "    return typecast"
   ]
  },
  {
   "cell_type": "code",
   "execution_count": 6,
   "id": "01187877",
   "metadata": {},
   "outputs": [
    {
     "name": "stdout",
     "output_type": "stream",
     "text": [
      "Index(['Store No.', 'Sales $m', 'Wages $m', 'No. Staff', 'Location',\n",
      "       'Loc'n (Num)', 'State', 'State (Num)', 'Age (Yrs)', 'GrossProfit',\n",
      "       'Adv.$'000', 'Competitors', 'HrsTrading', 'Sundays', 'Sundays (Num)',\n",
      "       'Mng-Sex', 'Mng-Sex (Num)', 'Mng-Age', 'Mng-Exp', 'Mng-Train', 'Union%',\n",
      "       'Car Spaces', 'HomeDel', 'HomeDel (Num)', 'Basket:2013', 'Basket:2014'],\n",
      "      dtype='object')\n"
     ]
    },
    {
     "data": {
      "text/html": [
       "<div>\n",
       "<style scoped>\n",
       "    .dataframe tbody tr th:only-of-type {\n",
       "        vertical-align: middle;\n",
       "    }\n",
       "\n",
       "    .dataframe tbody tr th {\n",
       "        vertical-align: top;\n",
       "    }\n",
       "\n",
       "    .dataframe thead th {\n",
       "        text-align: right;\n",
       "    }\n",
       "</style>\n",
       "<table border=\"1\" class=\"dataframe\">\n",
       "  <thead>\n",
       "    <tr style=\"text-align: right;\">\n",
       "      <th></th>\n",
       "      <th>Store No.</th>\n",
       "      <th>Sales $m</th>\n",
       "      <th>Wages $m</th>\n",
       "      <th>No. Staff</th>\n",
       "      <th>Location</th>\n",
       "      <th>Loc'n (Num)</th>\n",
       "      <th>State</th>\n",
       "      <th>State (Num)</th>\n",
       "      <th>Age (Yrs)</th>\n",
       "      <th>GrossProfit</th>\n",
       "      <th>...</th>\n",
       "      <th>Mng-Sex (Num)</th>\n",
       "      <th>Mng-Age</th>\n",
       "      <th>Mng-Exp</th>\n",
       "      <th>Mng-Train</th>\n",
       "      <th>Union%</th>\n",
       "      <th>Car Spaces</th>\n",
       "      <th>HomeDel</th>\n",
       "      <th>HomeDel (Num)</th>\n",
       "      <th>Basket:2013</th>\n",
       "      <th>Basket:2014</th>\n",
       "    </tr>\n",
       "  </thead>\n",
       "  <tbody>\n",
       "    <tr>\n",
       "      <th>0</th>\n",
       "      <td>1</td>\n",
       "      <td>12.5</td>\n",
       "      <td>2.3</td>\n",
       "      <td>60</td>\n",
       "      <td>Mall</td>\n",
       "      <td>2</td>\n",
       "      <td>NSW</td>\n",
       "      <td>1</td>\n",
       "      <td>10</td>\n",
       "      <td>0.712</td>\n",
       "      <td>...</td>\n",
       "      <td>0</td>\n",
       "      <td>33</td>\n",
       "      <td>12</td>\n",
       "      <td>2</td>\n",
       "      <td>38</td>\n",
       "      <td>46</td>\n",
       "      <td>Del:No</td>\n",
       "      <td>0</td>\n",
       "      <td>171</td>\n",
       "      <td>178</td>\n",
       "    </tr>\n",
       "    <tr>\n",
       "      <th>1</th>\n",
       "      <td>2</td>\n",
       "      <td>14.5</td>\n",
       "      <td>2.7</td>\n",
       "      <td>69</td>\n",
       "      <td>Mall</td>\n",
       "      <td>2</td>\n",
       "      <td>Vic</td>\n",
       "      <td>2</td>\n",
       "      <td>8</td>\n",
       "      <td>0.091</td>\n",
       "      <td>...</td>\n",
       "      <td>0</td>\n",
       "      <td>33</td>\n",
       "      <td>16</td>\n",
       "      <td>1</td>\n",
       "      <td>38</td>\n",
       "      <td>73</td>\n",
       "      <td>Del:No</td>\n",
       "      <td>0</td>\n",
       "      <td>168</td>\n",
       "      <td>178</td>\n",
       "    </tr>\n",
       "    <tr>\n",
       "      <th>2</th>\n",
       "      <td>3</td>\n",
       "      <td>19.0</td>\n",
       "      <td>3.1</td>\n",
       "      <td>79</td>\n",
       "      <td>Country</td>\n",
       "      <td>3</td>\n",
       "      <td>Vic</td>\n",
       "      <td>2</td>\n",
       "      <td>7</td>\n",
       "      <td>1.075</td>\n",
       "      <td>...</td>\n",
       "      <td>0</td>\n",
       "      <td>30</td>\n",
       "      <td>9</td>\n",
       "      <td>2</td>\n",
       "      <td>39</td>\n",
       "      <td>64</td>\n",
       "      <td>Del:No</td>\n",
       "      <td>0</td>\n",
       "      <td>180</td>\n",
       "      <td>188</td>\n",
       "    </tr>\n",
       "    <tr>\n",
       "      <th>3</th>\n",
       "      <td>4</td>\n",
       "      <td>18.2</td>\n",
       "      <td>2.6</td>\n",
       "      <td>66</td>\n",
       "      <td>Mall</td>\n",
       "      <td>2</td>\n",
       "      <td>Qld</td>\n",
       "      <td>3</td>\n",
       "      <td>7</td>\n",
       "      <td>1.372</td>\n",
       "      <td>...</td>\n",
       "      <td>0</td>\n",
       "      <td>29</td>\n",
       "      <td>9</td>\n",
       "      <td>2</td>\n",
       "      <td>38</td>\n",
       "      <td>66</td>\n",
       "      <td>Del:Yes</td>\n",
       "      <td>1</td>\n",
       "      <td>173</td>\n",
       "      <td>180</td>\n",
       "    </tr>\n",
       "    <tr>\n",
       "      <th>4</th>\n",
       "      <td>5</td>\n",
       "      <td>7.6</td>\n",
       "      <td>2.0</td>\n",
       "      <td>51</td>\n",
       "      <td>Strip</td>\n",
       "      <td>1</td>\n",
       "      <td>Qld</td>\n",
       "      <td>3</td>\n",
       "      <td>15</td>\n",
       "      <td>2.148</td>\n",
       "      <td>...</td>\n",
       "      <td>0</td>\n",
       "      <td>36</td>\n",
       "      <td>4</td>\n",
       "      <td>3</td>\n",
       "      <td>40</td>\n",
       "      <td>29</td>\n",
       "      <td>Del:No</td>\n",
       "      <td>0</td>\n",
       "      <td>166</td>\n",
       "      <td>171</td>\n",
       "    </tr>\n",
       "    <tr>\n",
       "      <th>...</th>\n",
       "      <td>...</td>\n",
       "      <td>...</td>\n",
       "      <td>...</td>\n",
       "      <td>...</td>\n",
       "      <td>...</td>\n",
       "      <td>...</td>\n",
       "      <td>...</td>\n",
       "      <td>...</td>\n",
       "      <td>...</td>\n",
       "      <td>...</td>\n",
       "      <td>...</td>\n",
       "      <td>...</td>\n",
       "      <td>...</td>\n",
       "      <td>...</td>\n",
       "      <td>...</td>\n",
       "      <td>...</td>\n",
       "      <td>...</td>\n",
       "      <td>...</td>\n",
       "      <td>...</td>\n",
       "      <td>...</td>\n",
       "      <td>...</td>\n",
       "    </tr>\n",
       "    <tr>\n",
       "      <th>145</th>\n",
       "      <td>146</td>\n",
       "      <td>14.1</td>\n",
       "      <td>3.3</td>\n",
       "      <td>88</td>\n",
       "      <td>Strip</td>\n",
       "      <td>1</td>\n",
       "      <td>SA</td>\n",
       "      <td>4</td>\n",
       "      <td>5</td>\n",
       "      <td>0.504</td>\n",
       "      <td>...</td>\n",
       "      <td>1</td>\n",
       "      <td>42</td>\n",
       "      <td>9</td>\n",
       "      <td>3</td>\n",
       "      <td>35</td>\n",
       "      <td>63</td>\n",
       "      <td>Del:No</td>\n",
       "      <td>0</td>\n",
       "      <td>163</td>\n",
       "      <td>172</td>\n",
       "    </tr>\n",
       "    <tr>\n",
       "      <th>146</th>\n",
       "      <td>147</td>\n",
       "      <td>8.1</td>\n",
       "      <td>1.7</td>\n",
       "      <td>58</td>\n",
       "      <td>Country</td>\n",
       "      <td>3</td>\n",
       "      <td>NSW</td>\n",
       "      <td>1</td>\n",
       "      <td>19</td>\n",
       "      <td>0.447</td>\n",
       "      <td>...</td>\n",
       "      <td>0</td>\n",
       "      <td>43</td>\n",
       "      <td>12</td>\n",
       "      <td>3</td>\n",
       "      <td>42</td>\n",
       "      <td>35</td>\n",
       "      <td>Del:No</td>\n",
       "      <td>0</td>\n",
       "      <td>178</td>\n",
       "      <td>186</td>\n",
       "    </tr>\n",
       "    <tr>\n",
       "      <th>147</th>\n",
       "      <td>148</td>\n",
       "      <td>13.6</td>\n",
       "      <td>2.9</td>\n",
       "      <td>66</td>\n",
       "      <td>Strip</td>\n",
       "      <td>1</td>\n",
       "      <td>WA</td>\n",
       "      <td>5</td>\n",
       "      <td>17</td>\n",
       "      <td>2.620</td>\n",
       "      <td>...</td>\n",
       "      <td>0</td>\n",
       "      <td>39</td>\n",
       "      <td>8</td>\n",
       "      <td>3</td>\n",
       "      <td>45</td>\n",
       "      <td>48</td>\n",
       "      <td>Del:No</td>\n",
       "      <td>0</td>\n",
       "      <td>166</td>\n",
       "      <td>172</td>\n",
       "    </tr>\n",
       "    <tr>\n",
       "      <th>148</th>\n",
       "      <td>149</td>\n",
       "      <td>10.0</td>\n",
       "      <td>2.0</td>\n",
       "      <td>55</td>\n",
       "      <td>Mall</td>\n",
       "      <td>2</td>\n",
       "      <td>WA</td>\n",
       "      <td>5</td>\n",
       "      <td>8</td>\n",
       "      <td>1.168</td>\n",
       "      <td>...</td>\n",
       "      <td>0</td>\n",
       "      <td>52</td>\n",
       "      <td>13</td>\n",
       "      <td>3</td>\n",
       "      <td>40</td>\n",
       "      <td>34</td>\n",
       "      <td>Del:No</td>\n",
       "      <td>0</td>\n",
       "      <td>174</td>\n",
       "      <td>182</td>\n",
       "    </tr>\n",
       "    <tr>\n",
       "      <th>149</th>\n",
       "      <td>150</td>\n",
       "      <td>11.6</td>\n",
       "      <td>2.2</td>\n",
       "      <td>60</td>\n",
       "      <td>Country</td>\n",
       "      <td>3</td>\n",
       "      <td>ACT</td>\n",
       "      <td>8</td>\n",
       "      <td>9</td>\n",
       "      <td>0.032</td>\n",
       "      <td>...</td>\n",
       "      <td>0</td>\n",
       "      <td>35</td>\n",
       "      <td>8</td>\n",
       "      <td>2</td>\n",
       "      <td>39</td>\n",
       "      <td>37</td>\n",
       "      <td>Del:Yes</td>\n",
       "      <td>1</td>\n",
       "      <td>178</td>\n",
       "      <td>185</td>\n",
       "    </tr>\n",
       "  </tbody>\n",
       "</table>\n",
       "<p>150 rows × 26 columns</p>\n",
       "</div>"
      ],
      "text/plain": [
       "     Store No.  Sales $m  Wages $m  No. Staff Location  Loc'n (Num) State  \\\n",
       "0            1      12.5       2.3         60     Mall            2   NSW   \n",
       "1            2      14.5       2.7         69     Mall            2   Vic   \n",
       "2            3      19.0       3.1         79  Country            3   Vic   \n",
       "3            4      18.2       2.6         66     Mall            2   Qld   \n",
       "4            5       7.6       2.0         51    Strip            1   Qld   \n",
       "..         ...       ...       ...        ...      ...          ...   ...   \n",
       "145        146      14.1       3.3         88    Strip            1    SA   \n",
       "146        147       8.1       1.7         58  Country            3   NSW   \n",
       "147        148      13.6       2.9         66    Strip            1    WA   \n",
       "148        149      10.0       2.0         55     Mall            2    WA   \n",
       "149        150      11.6       2.2         60  Country            3   ACT   \n",
       "\n",
       "     State (Num)  Age (Yrs)  GrossProfit  ...  Mng-Sex (Num)  Mng-Age  \\\n",
       "0              1         10        0.712  ...              0       33   \n",
       "1              2          8        0.091  ...              0       33   \n",
       "2              2          7        1.075  ...              0       30   \n",
       "3              3          7        1.372  ...              0       29   \n",
       "4              3         15        2.148  ...              0       36   \n",
       "..           ...        ...          ...  ...            ...      ...   \n",
       "145            4          5        0.504  ...              1       42   \n",
       "146            1         19        0.447  ...              0       43   \n",
       "147            5         17        2.620  ...              0       39   \n",
       "148            5          8        1.168  ...              0       52   \n",
       "149            8          9        0.032  ...              0       35   \n",
       "\n",
       "     Mng-Exp Mng-Train  Union% Car Spaces  HomeDel  HomeDel (Num)  \\\n",
       "0         12         2      38         46   Del:No              0   \n",
       "1         16         1      38         73   Del:No              0   \n",
       "2          9         2      39         64   Del:No              0   \n",
       "3          9         2      38         66  Del:Yes              1   \n",
       "4          4         3      40         29   Del:No              0   \n",
       "..       ...       ...     ...        ...      ...            ...   \n",
       "145        9         3      35         63   Del:No              0   \n",
       "146       12         3      42         35   Del:No              0   \n",
       "147        8         3      45         48   Del:No              0   \n",
       "148       13         3      40         34   Del:No              0   \n",
       "149        8         2      39         37  Del:Yes              1   \n",
       "\n",
       "     Basket:2013  Basket:2014  \n",
       "0            171          178  \n",
       "1            168          178  \n",
       "2            180          188  \n",
       "3            173          180  \n",
       "4            166          171  \n",
       "..           ...          ...  \n",
       "145          163          172  \n",
       "146          178          186  \n",
       "147          166          172  \n",
       "148          174          182  \n",
       "149          178          185  \n",
       "\n",
       "[150 rows x 26 columns]"
      ]
     },
     "execution_count": 6,
     "metadata": {},
     "output_type": "execute_result"
    }
   ],
   "source": [
    "#typecasting the dataset\n",
    "Typecasting(store)"
   ]
  },
  {
   "cell_type": "markdown",
   "id": "64f71d18",
   "metadata": {},
   "source": [
    "**Step 2: Data cleaning**\n",
    "\n",
    "In this step, we are going to clean our dataset. We are going to look for null values and replace them with mean and mode. \n",
    "We are going to modify some variables if it is necessary and change datatypes for better analysis. We will also remove outliers from the dataset.  Outliers hamper the machine learning algorithms and hence they have to be removed."
   ]
  },
  {
   "cell_type": "code",
   "execution_count": 7,
   "id": "f9dbf082",
   "metadata": {},
   "outputs": [],
   "source": [
    "def Typecasting():\n",
    "    data=store\n",
    "    print(data[0])\n",
    "    try:\n",
    "        print(data.columns)\n",
    "        typecast=data.astype(eval)\n",
    "    except:\n",
    "       typecast=data \n",
    "    return typecast"
   ]
  },
  {
   "cell_type": "code",
   "execution_count": 8,
   "id": "ed25dc68",
   "metadata": {},
   "outputs": [
    {
     "data": {
      "text/html": [
       "<div>\n",
       "<style scoped>\n",
       "    .dataframe tbody tr th:only-of-type {\n",
       "        vertical-align: middle;\n",
       "    }\n",
       "\n",
       "    .dataframe tbody tr th {\n",
       "        vertical-align: top;\n",
       "    }\n",
       "\n",
       "    .dataframe thead th {\n",
       "        text-align: right;\n",
       "    }\n",
       "</style>\n",
       "<table border=\"1\" class=\"dataframe\">\n",
       "  <thead>\n",
       "    <tr style=\"text-align: right;\">\n",
       "      <th></th>\n",
       "      <th>Store No.</th>\n",
       "      <th>Sales $m</th>\n",
       "      <th>Wages $m</th>\n",
       "      <th>No. Staff</th>\n",
       "      <th>Location</th>\n",
       "      <th>Loc'n (Num)</th>\n",
       "      <th>State</th>\n",
       "      <th>State (Num)</th>\n",
       "      <th>Age (Yrs)</th>\n",
       "      <th>GrossProfit</th>\n",
       "      <th>...</th>\n",
       "      <th>Sundays (Num)</th>\n",
       "      <th>Mng-Sex (Num)</th>\n",
       "      <th>Mng-Age</th>\n",
       "      <th>Mng-Exp</th>\n",
       "      <th>Mng-Train</th>\n",
       "      <th>Union%</th>\n",
       "      <th>Car Spaces</th>\n",
       "      <th>HomeDel (Num)</th>\n",
       "      <th>Basket:2013</th>\n",
       "      <th>Basket:2014</th>\n",
       "    </tr>\n",
       "  </thead>\n",
       "  <tbody>\n",
       "    <tr>\n",
       "      <th>0</th>\n",
       "      <td>1</td>\n",
       "      <td>12.5</td>\n",
       "      <td>2.3</td>\n",
       "      <td>60</td>\n",
       "      <td>Mall</td>\n",
       "      <td>2</td>\n",
       "      <td>NSW</td>\n",
       "      <td>1</td>\n",
       "      <td>10</td>\n",
       "      <td>0.712</td>\n",
       "      <td>...</td>\n",
       "      <td>0</td>\n",
       "      <td>0</td>\n",
       "      <td>33</td>\n",
       "      <td>12</td>\n",
       "      <td>2</td>\n",
       "      <td>38</td>\n",
       "      <td>46</td>\n",
       "      <td>0</td>\n",
       "      <td>171</td>\n",
       "      <td>178</td>\n",
       "    </tr>\n",
       "    <tr>\n",
       "      <th>1</th>\n",
       "      <td>2</td>\n",
       "      <td>14.5</td>\n",
       "      <td>2.7</td>\n",
       "      <td>69</td>\n",
       "      <td>Mall</td>\n",
       "      <td>2</td>\n",
       "      <td>Vic</td>\n",
       "      <td>2</td>\n",
       "      <td>8</td>\n",
       "      <td>0.091</td>\n",
       "      <td>...</td>\n",
       "      <td>0</td>\n",
       "      <td>0</td>\n",
       "      <td>33</td>\n",
       "      <td>16</td>\n",
       "      <td>1</td>\n",
       "      <td>38</td>\n",
       "      <td>73</td>\n",
       "      <td>0</td>\n",
       "      <td>168</td>\n",
       "      <td>178</td>\n",
       "    </tr>\n",
       "    <tr>\n",
       "      <th>2</th>\n",
       "      <td>3</td>\n",
       "      <td>19.0</td>\n",
       "      <td>3.1</td>\n",
       "      <td>79</td>\n",
       "      <td>Country</td>\n",
       "      <td>3</td>\n",
       "      <td>Vic</td>\n",
       "      <td>2</td>\n",
       "      <td>7</td>\n",
       "      <td>1.075</td>\n",
       "      <td>...</td>\n",
       "      <td>1</td>\n",
       "      <td>0</td>\n",
       "      <td>30</td>\n",
       "      <td>9</td>\n",
       "      <td>2</td>\n",
       "      <td>39</td>\n",
       "      <td>64</td>\n",
       "      <td>0</td>\n",
       "      <td>180</td>\n",
       "      <td>188</td>\n",
       "    </tr>\n",
       "    <tr>\n",
       "      <th>3</th>\n",
       "      <td>4</td>\n",
       "      <td>18.2</td>\n",
       "      <td>2.6</td>\n",
       "      <td>66</td>\n",
       "      <td>Mall</td>\n",
       "      <td>2</td>\n",
       "      <td>Qld</td>\n",
       "      <td>3</td>\n",
       "      <td>7</td>\n",
       "      <td>1.372</td>\n",
       "      <td>...</td>\n",
       "      <td>1</td>\n",
       "      <td>0</td>\n",
       "      <td>29</td>\n",
       "      <td>9</td>\n",
       "      <td>2</td>\n",
       "      <td>38</td>\n",
       "      <td>66</td>\n",
       "      <td>1</td>\n",
       "      <td>173</td>\n",
       "      <td>180</td>\n",
       "    </tr>\n",
       "    <tr>\n",
       "      <th>4</th>\n",
       "      <td>5</td>\n",
       "      <td>7.6</td>\n",
       "      <td>2.0</td>\n",
       "      <td>51</td>\n",
       "      <td>Strip</td>\n",
       "      <td>1</td>\n",
       "      <td>Qld</td>\n",
       "      <td>3</td>\n",
       "      <td>15</td>\n",
       "      <td>2.148</td>\n",
       "      <td>...</td>\n",
       "      <td>1</td>\n",
       "      <td>0</td>\n",
       "      <td>36</td>\n",
       "      <td>4</td>\n",
       "      <td>3</td>\n",
       "      <td>40</td>\n",
       "      <td>29</td>\n",
       "      <td>0</td>\n",
       "      <td>166</td>\n",
       "      <td>171</td>\n",
       "    </tr>\n",
       "    <tr>\n",
       "      <th>...</th>\n",
       "      <td>...</td>\n",
       "      <td>...</td>\n",
       "      <td>...</td>\n",
       "      <td>...</td>\n",
       "      <td>...</td>\n",
       "      <td>...</td>\n",
       "      <td>...</td>\n",
       "      <td>...</td>\n",
       "      <td>...</td>\n",
       "      <td>...</td>\n",
       "      <td>...</td>\n",
       "      <td>...</td>\n",
       "      <td>...</td>\n",
       "      <td>...</td>\n",
       "      <td>...</td>\n",
       "      <td>...</td>\n",
       "      <td>...</td>\n",
       "      <td>...</td>\n",
       "      <td>...</td>\n",
       "      <td>...</td>\n",
       "      <td>...</td>\n",
       "    </tr>\n",
       "    <tr>\n",
       "      <th>145</th>\n",
       "      <td>146</td>\n",
       "      <td>14.1</td>\n",
       "      <td>3.3</td>\n",
       "      <td>88</td>\n",
       "      <td>Strip</td>\n",
       "      <td>1</td>\n",
       "      <td>SA</td>\n",
       "      <td>4</td>\n",
       "      <td>5</td>\n",
       "      <td>0.504</td>\n",
       "      <td>...</td>\n",
       "      <td>1</td>\n",
       "      <td>1</td>\n",
       "      <td>42</td>\n",
       "      <td>9</td>\n",
       "      <td>3</td>\n",
       "      <td>35</td>\n",
       "      <td>63</td>\n",
       "      <td>0</td>\n",
       "      <td>163</td>\n",
       "      <td>172</td>\n",
       "    </tr>\n",
       "    <tr>\n",
       "      <th>146</th>\n",
       "      <td>147</td>\n",
       "      <td>8.1</td>\n",
       "      <td>1.7</td>\n",
       "      <td>58</td>\n",
       "      <td>Country</td>\n",
       "      <td>3</td>\n",
       "      <td>NSW</td>\n",
       "      <td>1</td>\n",
       "      <td>19</td>\n",
       "      <td>0.447</td>\n",
       "      <td>...</td>\n",
       "      <td>0</td>\n",
       "      <td>0</td>\n",
       "      <td>43</td>\n",
       "      <td>12</td>\n",
       "      <td>3</td>\n",
       "      <td>42</td>\n",
       "      <td>35</td>\n",
       "      <td>0</td>\n",
       "      <td>178</td>\n",
       "      <td>186</td>\n",
       "    </tr>\n",
       "    <tr>\n",
       "      <th>147</th>\n",
       "      <td>148</td>\n",
       "      <td>13.6</td>\n",
       "      <td>2.9</td>\n",
       "      <td>66</td>\n",
       "      <td>Strip</td>\n",
       "      <td>1</td>\n",
       "      <td>WA</td>\n",
       "      <td>5</td>\n",
       "      <td>17</td>\n",
       "      <td>2.620</td>\n",
       "      <td>...</td>\n",
       "      <td>0</td>\n",
       "      <td>0</td>\n",
       "      <td>39</td>\n",
       "      <td>8</td>\n",
       "      <td>3</td>\n",
       "      <td>45</td>\n",
       "      <td>48</td>\n",
       "      <td>0</td>\n",
       "      <td>166</td>\n",
       "      <td>172</td>\n",
       "    </tr>\n",
       "    <tr>\n",
       "      <th>148</th>\n",
       "      <td>149</td>\n",
       "      <td>10.0</td>\n",
       "      <td>2.0</td>\n",
       "      <td>55</td>\n",
       "      <td>Mall</td>\n",
       "      <td>2</td>\n",
       "      <td>WA</td>\n",
       "      <td>5</td>\n",
       "      <td>8</td>\n",
       "      <td>1.168</td>\n",
       "      <td>...</td>\n",
       "      <td>0</td>\n",
       "      <td>0</td>\n",
       "      <td>52</td>\n",
       "      <td>13</td>\n",
       "      <td>3</td>\n",
       "      <td>40</td>\n",
       "      <td>34</td>\n",
       "      <td>0</td>\n",
       "      <td>174</td>\n",
       "      <td>182</td>\n",
       "    </tr>\n",
       "    <tr>\n",
       "      <th>149</th>\n",
       "      <td>150</td>\n",
       "      <td>11.6</td>\n",
       "      <td>2.2</td>\n",
       "      <td>60</td>\n",
       "      <td>Country</td>\n",
       "      <td>3</td>\n",
       "      <td>ACT</td>\n",
       "      <td>8</td>\n",
       "      <td>9</td>\n",
       "      <td>0.032</td>\n",
       "      <td>...</td>\n",
       "      <td>1</td>\n",
       "      <td>0</td>\n",
       "      <td>35</td>\n",
       "      <td>8</td>\n",
       "      <td>2</td>\n",
       "      <td>39</td>\n",
       "      <td>37</td>\n",
       "      <td>1</td>\n",
       "      <td>178</td>\n",
       "      <td>185</td>\n",
       "    </tr>\n",
       "  </tbody>\n",
       "</table>\n",
       "<p>150 rows × 23 columns</p>\n",
       "</div>"
      ],
      "text/plain": [
       "     Store No.  Sales $m  Wages $m  No. Staff Location  Loc'n (Num) State  \\\n",
       "0            1      12.5       2.3         60     Mall            2   NSW   \n",
       "1            2      14.5       2.7         69     Mall            2   Vic   \n",
       "2            3      19.0       3.1         79  Country            3   Vic   \n",
       "3            4      18.2       2.6         66     Mall            2   Qld   \n",
       "4            5       7.6       2.0         51    Strip            1   Qld   \n",
       "..         ...       ...       ...        ...      ...          ...   ...   \n",
       "145        146      14.1       3.3         88    Strip            1    SA   \n",
       "146        147       8.1       1.7         58  Country            3   NSW   \n",
       "147        148      13.6       2.9         66    Strip            1    WA   \n",
       "148        149      10.0       2.0         55     Mall            2    WA   \n",
       "149        150      11.6       2.2         60  Country            3   ACT   \n",
       "\n",
       "     State (Num)  Age (Yrs)  GrossProfit  ...  Sundays (Num)  Mng-Sex (Num)  \\\n",
       "0              1         10        0.712  ...              0              0   \n",
       "1              2          8        0.091  ...              0              0   \n",
       "2              2          7        1.075  ...              1              0   \n",
       "3              3          7        1.372  ...              1              0   \n",
       "4              3         15        2.148  ...              1              0   \n",
       "..           ...        ...          ...  ...            ...            ...   \n",
       "145            4          5        0.504  ...              1              1   \n",
       "146            1         19        0.447  ...              0              0   \n",
       "147            5         17        2.620  ...              0              0   \n",
       "148            5          8        1.168  ...              0              0   \n",
       "149            8          9        0.032  ...              1              0   \n",
       "\n",
       "     Mng-Age  Mng-Exp  Mng-Train  Union%  Car Spaces  HomeDel (Num)  \\\n",
       "0         33       12          2      38          46              0   \n",
       "1         33       16          1      38          73              0   \n",
       "2         30        9          2      39          64              0   \n",
       "3         29        9          2      38          66              1   \n",
       "4         36        4          3      40          29              0   \n",
       "..       ...      ...        ...     ...         ...            ...   \n",
       "145       42        9          3      35          63              0   \n",
       "146       43       12          3      42          35              0   \n",
       "147       39        8          3      45          48              0   \n",
       "148       52       13          3      40          34              0   \n",
       "149       35        8          2      39          37              1   \n",
       "\n",
       "     Basket:2013  Basket:2014  \n",
       "0            171          178  \n",
       "1            168          178  \n",
       "2            180          188  \n",
       "3            173          180  \n",
       "4            166          171  \n",
       "..           ...          ...  \n",
       "145          163          172  \n",
       "146          178          186  \n",
       "147          166          172  \n",
       "148          174          182  \n",
       "149          178          185  \n",
       "\n",
       "[150 rows x 23 columns]"
      ]
     },
     "execution_count": 8,
     "metadata": {},
     "output_type": "execute_result"
    }
   ],
   "source": [
    "#dropping useless columns\n",
    "store=store.drop(['HomeDel','Sundays','Mng-Sex'],axis=1)\n",
    "store"
   ]
  },
  {
   "cell_type": "code",
   "execution_count": 9,
   "id": "40043c0d",
   "metadata": {},
   "outputs": [],
   "source": [
    "#categorical variables\n",
    "cat= ['Location','State']"
   ]
  },
  {
   "cell_type": "code",
   "execution_count": 10,
   "id": "36b64498",
   "metadata": {},
   "outputs": [
    {
     "name": "stdout",
     "output_type": "stream",
     "text": [
      "['Store No.', 'Sales $m', 'Wages $m', 'No. Staff', \"Loc'n (Num)\", 'State (Num)', 'Age (Yrs)', 'GrossProfit', \"Adv.$'000\", 'Competitors', 'HrsTrading', 'Sundays (Num)', 'Mng-Sex (Num)', 'Mng-Age', 'Mng-Exp', 'Mng-Train', 'Union%', 'Car Spaces', 'HomeDel (Num)', 'Basket:2013', 'Basket:2014']\n"
     ]
    }
   ],
   "source": [
    "#getting non categorical variables\n",
    "non_cat=[]\n",
    "for x in store.columns:\n",
    "    if x in cat:\n",
    "        pass\n",
    "    else:\n",
    "        non_cat.append(x)\n",
    "print(non_cat)"
   ]
  },
  {
   "cell_type": "code",
   "execution_count": 11,
   "id": "b70a0aea",
   "metadata": {},
   "outputs": [
    {
     "data": {
      "text/plain": [
       "['Store No.',\n",
       " 'Sales $m',\n",
       " 'Wages $m',\n",
       " 'No. Staff',\n",
       " \"Loc'n (Num)\",\n",
       " 'State (Num)',\n",
       " 'Age (Yrs)',\n",
       " 'GrossProfit',\n",
       " \"Adv.$'000\",\n",
       " 'Competitors',\n",
       " 'HrsTrading',\n",
       " 'Sundays (Num)',\n",
       " 'Mng-Sex (Num)',\n",
       " 'Mng-Age',\n",
       " 'Mng-Exp',\n",
       " 'Mng-Train',\n",
       " 'Union%',\n",
       " 'Car Spaces',\n",
       " 'HomeDel (Num)',\n",
       " 'Basket:2013',\n",
       " 'Basket:2014']"
      ]
     },
     "execution_count": 11,
     "metadata": {},
     "output_type": "execute_result"
    }
   ],
   "source": [
    "#seeing non categorical variables\n",
    "non_cat"
   ]
  },
  {
   "cell_type": "code",
   "execution_count": 12,
   "id": "ce172fb1",
   "metadata": {},
   "outputs": [
    {
     "data": {
      "text/plain": [
       "Store No.        0\n",
       "Sales $m         0\n",
       "Wages $m         0\n",
       "No. Staff        0\n",
       "Location         0\n",
       "Loc'n (Num)      0\n",
       "State            0\n",
       "State (Num)      0\n",
       "Age (Yrs)        0\n",
       "GrossProfit      0\n",
       "Adv.$'000        0\n",
       "Competitors      0\n",
       "HrsTrading       0\n",
       "Sundays (Num)    0\n",
       "Mng-Sex (Num)    0\n",
       "Mng-Age          0\n",
       "Mng-Exp          0\n",
       "Mng-Train        0\n",
       "Union%           0\n",
       "Car Spaces       0\n",
       "HomeDel (Num)    0\n",
       "Basket:2013      0\n",
       "Basket:2014      0\n",
       "dtype: int64"
      ]
     },
     "execution_count": 12,
     "metadata": {},
     "output_type": "execute_result"
    }
   ],
   "source": [
    "#checking null values \n",
    "store.isna().sum(axis=0)"
   ]
  },
  {
   "cell_type": "code",
   "execution_count": 13,
   "id": "9cb203c5",
   "metadata": {},
   "outputs": [],
   "source": [
    "#renaming columns \n",
    "\n",
    "store.rename(columns={\n",
    "        \"Sales $m\": \"salesmd\",\n",
    "        \"Wages $m\": \"wagesmd\",\n",
    "        \"Adv.$'000\": \"advkd\",\n",
    "        \"Basket:2013\": \"bkxiii\",\n",
    "        \"Basket:2014\": \"bkxiv\"\n",
    "        \n",
    "    }, inplace=True,\n",
    "    )"
   ]
  },
  {
   "cell_type": "code",
   "execution_count": 14,
   "id": "c7ecd351",
   "metadata": {},
   "outputs": [
    {
     "data": {
      "text/html": [
       "<div>\n",
       "<style scoped>\n",
       "    .dataframe tbody tr th:only-of-type {\n",
       "        vertical-align: middle;\n",
       "    }\n",
       "\n",
       "    .dataframe tbody tr th {\n",
       "        vertical-align: top;\n",
       "    }\n",
       "\n",
       "    .dataframe thead th {\n",
       "        text-align: right;\n",
       "    }\n",
       "</style>\n",
       "<table border=\"1\" class=\"dataframe\">\n",
       "  <thead>\n",
       "    <tr style=\"text-align: right;\">\n",
       "      <th></th>\n",
       "      <th>Store No.</th>\n",
       "      <th>salesmd</th>\n",
       "      <th>wagesmd</th>\n",
       "      <th>No. Staff</th>\n",
       "      <th>Location</th>\n",
       "      <th>Loc'n (Num)</th>\n",
       "      <th>State</th>\n",
       "      <th>State (Num)</th>\n",
       "      <th>Age (Yrs)</th>\n",
       "      <th>GrossProfit</th>\n",
       "      <th>...</th>\n",
       "      <th>Sundays (Num)</th>\n",
       "      <th>Mng-Sex (Num)</th>\n",
       "      <th>Mng-Age</th>\n",
       "      <th>Mng-Exp</th>\n",
       "      <th>Mng-Train</th>\n",
       "      <th>Union%</th>\n",
       "      <th>Car Spaces</th>\n",
       "      <th>HomeDel (Num)</th>\n",
       "      <th>bkxiii</th>\n",
       "      <th>bkxiv</th>\n",
       "    </tr>\n",
       "  </thead>\n",
       "  <tbody>\n",
       "    <tr>\n",
       "      <th>0</th>\n",
       "      <td>1</td>\n",
       "      <td>12.5</td>\n",
       "      <td>2.3</td>\n",
       "      <td>60</td>\n",
       "      <td>Mall</td>\n",
       "      <td>2</td>\n",
       "      <td>NSW</td>\n",
       "      <td>1</td>\n",
       "      <td>10</td>\n",
       "      <td>0.712</td>\n",
       "      <td>...</td>\n",
       "      <td>0</td>\n",
       "      <td>0</td>\n",
       "      <td>33</td>\n",
       "      <td>12</td>\n",
       "      <td>2</td>\n",
       "      <td>38</td>\n",
       "      <td>46</td>\n",
       "      <td>0</td>\n",
       "      <td>171</td>\n",
       "      <td>178</td>\n",
       "    </tr>\n",
       "    <tr>\n",
       "      <th>1</th>\n",
       "      <td>2</td>\n",
       "      <td>14.5</td>\n",
       "      <td>2.7</td>\n",
       "      <td>69</td>\n",
       "      <td>Mall</td>\n",
       "      <td>2</td>\n",
       "      <td>Vic</td>\n",
       "      <td>2</td>\n",
       "      <td>8</td>\n",
       "      <td>0.091</td>\n",
       "      <td>...</td>\n",
       "      <td>0</td>\n",
       "      <td>0</td>\n",
       "      <td>33</td>\n",
       "      <td>16</td>\n",
       "      <td>1</td>\n",
       "      <td>38</td>\n",
       "      <td>73</td>\n",
       "      <td>0</td>\n",
       "      <td>168</td>\n",
       "      <td>178</td>\n",
       "    </tr>\n",
       "    <tr>\n",
       "      <th>2</th>\n",
       "      <td>3</td>\n",
       "      <td>19.0</td>\n",
       "      <td>3.1</td>\n",
       "      <td>79</td>\n",
       "      <td>Country</td>\n",
       "      <td>3</td>\n",
       "      <td>Vic</td>\n",
       "      <td>2</td>\n",
       "      <td>7</td>\n",
       "      <td>1.075</td>\n",
       "      <td>...</td>\n",
       "      <td>1</td>\n",
       "      <td>0</td>\n",
       "      <td>30</td>\n",
       "      <td>9</td>\n",
       "      <td>2</td>\n",
       "      <td>39</td>\n",
       "      <td>64</td>\n",
       "      <td>0</td>\n",
       "      <td>180</td>\n",
       "      <td>188</td>\n",
       "    </tr>\n",
       "    <tr>\n",
       "      <th>3</th>\n",
       "      <td>4</td>\n",
       "      <td>18.2</td>\n",
       "      <td>2.6</td>\n",
       "      <td>66</td>\n",
       "      <td>Mall</td>\n",
       "      <td>2</td>\n",
       "      <td>Qld</td>\n",
       "      <td>3</td>\n",
       "      <td>7</td>\n",
       "      <td>1.372</td>\n",
       "      <td>...</td>\n",
       "      <td>1</td>\n",
       "      <td>0</td>\n",
       "      <td>29</td>\n",
       "      <td>9</td>\n",
       "      <td>2</td>\n",
       "      <td>38</td>\n",
       "      <td>66</td>\n",
       "      <td>1</td>\n",
       "      <td>173</td>\n",
       "      <td>180</td>\n",
       "    </tr>\n",
       "    <tr>\n",
       "      <th>4</th>\n",
       "      <td>5</td>\n",
       "      <td>7.6</td>\n",
       "      <td>2.0</td>\n",
       "      <td>51</td>\n",
       "      <td>Strip</td>\n",
       "      <td>1</td>\n",
       "      <td>Qld</td>\n",
       "      <td>3</td>\n",
       "      <td>15</td>\n",
       "      <td>2.148</td>\n",
       "      <td>...</td>\n",
       "      <td>1</td>\n",
       "      <td>0</td>\n",
       "      <td>36</td>\n",
       "      <td>4</td>\n",
       "      <td>3</td>\n",
       "      <td>40</td>\n",
       "      <td>29</td>\n",
       "      <td>0</td>\n",
       "      <td>166</td>\n",
       "      <td>171</td>\n",
       "    </tr>\n",
       "  </tbody>\n",
       "</table>\n",
       "<p>5 rows × 23 columns</p>\n",
       "</div>"
      ],
      "text/plain": [
       "   Store No.  salesmd  wagesmd  No. Staff Location  Loc'n (Num) State  \\\n",
       "0          1     12.5      2.3         60     Mall            2   NSW   \n",
       "1          2     14.5      2.7         69     Mall            2   Vic   \n",
       "2          3     19.0      3.1         79  Country            3   Vic   \n",
       "3          4     18.2      2.6         66     Mall            2   Qld   \n",
       "4          5      7.6      2.0         51    Strip            1   Qld   \n",
       "\n",
       "   State (Num)  Age (Yrs)  GrossProfit  ...  Sundays (Num)  Mng-Sex (Num)  \\\n",
       "0            1         10        0.712  ...              0              0   \n",
       "1            2          8        0.091  ...              0              0   \n",
       "2            2          7        1.075  ...              1              0   \n",
       "3            3          7        1.372  ...              1              0   \n",
       "4            3         15        2.148  ...              1              0   \n",
       "\n",
       "   Mng-Age  Mng-Exp  Mng-Train  Union%  Car Spaces  HomeDel (Num)  bkxiii  \\\n",
       "0       33       12          2      38          46              0     171   \n",
       "1       33       16          1      38          73              0     168   \n",
       "2       30        9          2      39          64              0     180   \n",
       "3       29        9          2      38          66              1     173   \n",
       "4       36        4          3      40          29              0     166   \n",
       "\n",
       "   bkxiv  \n",
       "0    178  \n",
       "1    178  \n",
       "2    188  \n",
       "3    180  \n",
       "4    171  \n",
       "\n",
       "[5 rows x 23 columns]"
      ]
     },
     "execution_count": 14,
     "metadata": {},
     "output_type": "execute_result"
    }
   ],
   "source": [
    "#checking changes\n",
    "store.head()"
   ]
  },
  {
   "cell_type": "markdown",
   "id": "bf35a3a5",
   "metadata": {},
   "source": [
    "**Univariate analysis**\n",
    "\n",
    "We are using boxplot,histogram and plot to find the outliers,extreme values and distribution of the numerical variables."
   ]
  },
  {
   "cell_type": "code",
   "execution_count": 15,
   "id": "b851e749",
   "metadata": {},
   "outputs": [
    {
     "data": {
      "text/plain": [
       "<AxesSubplot:ylabel='Density'>"
      ]
     },
     "execution_count": 15,
     "metadata": {},
     "output_type": "execute_result"
    },
    {
     "data": {
      "image/png": "[encoded data removed]",
      "text/plain": [
       "<Figure size 432x288 with 1 Axes>"
      ]
     },
     "metadata": {
      "needs_background": "light"
     },
     "output_type": "display_data"
    }
   ],
   "source": [
    "#checking distribution for salesmd\n",
    "store.salesmd.plot.density()"
   ]
  },
  {
   "cell_type": "code",
   "execution_count": 16,
   "id": "df986551",
   "metadata": {},
   "outputs": [
    {
     "data": {
      "text/plain": [
       "<AxesSubplot:ylabel='Frequency'>"
      ]
     },
     "execution_count": 16,
     "metadata": {},
     "output_type": "execute_result"
    },
    {
     "data": {
      "image/png": "[encoded data removed]",
      "text/plain": [
       "<Figure size 432x288 with 1 Axes>"
      ]
     },
     "metadata": {
      "needs_background": "light"
     },
     "output_type": "display_data"
    }
   ],
   "source": [
    "#using histogram to see abnormally high values\n",
    "store.salesmd.plot.hist()"
   ]
  },
  {
   "cell_type": "code",
   "execution_count": 17,
   "id": "28676d66",
   "metadata": {},
   "outputs": [
    {
     "data": {
      "text/plain": [
       "<AxesSubplot:xlabel='salesmd'>"
      ]
     },
     "execution_count": 17,
     "metadata": {},
     "output_type": "execute_result"
    },
    {
     "data": {
      "image/png": "[encoded data removed]",
      "text/plain": [
       "<Figure size 432x288 with 1 Axes>"
      ]
     },
     "metadata": {
      "needs_background": "light"
     },
     "output_type": "display_data"
    }
   ],
   "source": [
    "#checking outliers using boxplot\n",
    "sb.boxplot(store.salesmd)"
   ]
  },
  {
   "cell_type": "code",
   "execution_count": 18,
   "id": "69ca9aca",
   "metadata": {},
   "outputs": [
    {
     "data": {
      "text/plain": [
       "<AxesSubplot:ylabel='Density'>"
      ]
     },
     "execution_count": 18,
     "metadata": {},
     "output_type": "execute_result"
    },
    {
     "data": {
      "image/png": "[encoded data removed]",
      "text/plain": [
       "<Figure size 432x288 with 1 Axes>"
      ]
     },
     "metadata": {
      "needs_background": "light"
     },
     "output_type": "display_data"
    }
   ],
   "source": [
    "#checking distribution for wagesmd\n",
    "store.wagesmd.plot.density()"
   ]
  },
  {
   "cell_type": "code",
   "execution_count": 19,
   "id": "27f4290d",
   "metadata": {},
   "outputs": [
    {
     "data": {
      "text/plain": [
       "<AxesSubplot:ylabel='Frequency'>"
      ]
     },
     "execution_count": 19,
     "metadata": {},
     "output_type": "execute_result"
    },
    {
     "data": {
      "image/png": "[encoded data removed]",
      "text/plain": [
       "<Figure size 432x288 with 1 Axes>"
      ]
     },
     "metadata": {
      "needs_background": "light"
     },
     "output_type": "display_data"
    }
   ],
   "source": [
    "#using histogram to see abnormally high values\n",
    "store.wagesmd.plot.hist()"
   ]
  },
  {
   "cell_type": "code",
   "execution_count": 20,
   "id": "3c12483c",
   "metadata": {},
   "outputs": [
    {
     "data": {
      "text/plain": [
       "<AxesSubplot:xlabel='wagesmd'>"
      ]
     },
     "execution_count": 20,
     "metadata": {},
     "output_type": "execute_result"
    },
    {
     "data": {
      "image/png": "[encoded data removed]",
      "text/plain": [
       "<Figure size 432x288 with 1 Axes>"
      ]
     },
     "metadata": {
      "needs_background": "light"
     },
     "output_type": "display_data"
    }
   ],
   "source": [
    "#checking outliers using boxplot\n",
    "sb.boxplot(store.wagesmd)"
   ]
  },
  {
   "cell_type": "code",
   "execution_count": 21,
   "id": "0cab85a1",
   "metadata": {},
   "outputs": [
    {
     "data": {
      "text/plain": [
       "<AxesSubplot:ylabel='Density'>"
      ]
     },
     "execution_count": 21,
     "metadata": {},
     "output_type": "execute_result"
    },
    {
     "data": {
      "image/png": "[encoded data removed]",
      "text/plain": [
       "<Figure size 432x288 with 1 Axes>"
      ]
     },
     "metadata": {
      "needs_background": "light"
     },
     "output_type": "display_data"
    }
   ],
   "source": [
    "#checking distribution for advkd\n",
    "store.advkd.plot.density()"
   ]
  },
  {
   "cell_type": "code",
   "execution_count": 22,
   "id": "adc44550",
   "metadata": {},
   "outputs": [
    {
     "data": {
      "text/plain": [
       "<AxesSubplot:ylabel='Frequency'>"
      ]
     },
     "execution_count": 22,
     "metadata": {},
     "output_type": "execute_result"
    },
    {
     "data": {
      "image/png": "[encoded data removed]",
      "text/plain": [
       "<Figure size 432x288 with 1 Axes>"
      ]
     },
     "metadata": {
      "needs_background": "light"
     },
     "output_type": "display_data"
    }
   ],
   "source": [
    "#using histogram to see abnormally high values\n",
    "store.advkd.plot.hist()"
   ]
  },
  {
   "cell_type": "code",
   "execution_count": 23,
   "id": "93dbcfa4",
   "metadata": {},
   "outputs": [
    {
     "data": {
      "text/plain": [
       "<AxesSubplot:xlabel='advkd'>"
      ]
     },
     "execution_count": 23,
     "metadata": {},
     "output_type": "execute_result"
    },
    {
     "data": {
      "image/png": "[encoded data removed]",
      "text/plain": [
       "<Figure size 432x288 with 1 Axes>"
      ]
     },
     "metadata": {
      "needs_background": "light"
     },
     "output_type": "display_data"
    }
   ],
   "source": [
    "#checking outliers using boxplot\n",
    "sb.boxplot(store.advkd)"
   ]
  },
  {
   "cell_type": "code",
   "execution_count": 24,
   "id": "923d4ae6",
   "metadata": {},
   "outputs": [
    {
     "data": {
      "text/plain": [
       "<AxesSubplot:ylabel='Density'>"
      ]
     },
     "execution_count": 24,
     "metadata": {},
     "output_type": "execute_result"
    },
    {
     "data": {
      "image/png": "[encoded data removed]",
      "text/plain": [
       "<Figure size 432x288 with 1 Axes>"
      ]
     },
     "metadata": {
      "needs_background": "light"
     },
     "output_type": "display_data"
    }
   ],
   "source": [
    "#checking distribution for bkxiii\n",
    "store.bkxiii.plot.density()"
   ]
  },
  {
   "cell_type": "code",
   "execution_count": 25,
   "id": "0b6ddbcd",
   "metadata": {},
   "outputs": [
    {
     "data": {
      "text/plain": [
       "<AxesSubplot:ylabel='Frequency'>"
      ]
     },
     "execution_count": 25,
     "metadata": {},
     "output_type": "execute_result"
    },
    {
     "data": {
      "image/png": "[encoded data removed]",
      "text/plain": [
       "<Figure size 432x288 with 1 Axes>"
      ]
     },
     "metadata": {
      "needs_background": "light"
     },
     "output_type": "display_data"
    }
   ],
   "source": [
    "#using histogram to see abnormally high values\n",
    "store.bkxiii.plot.hist()"
   ]
  },
  {
   "cell_type": "code",
   "execution_count": 26,
   "id": "0c67e642",
   "metadata": {},
   "outputs": [
    {
     "data": {
      "text/plain": [
       "<AxesSubplot:xlabel='bkxiii'>"
      ]
     },
     "execution_count": 26,
     "metadata": {},
     "output_type": "execute_result"
    },
    {
     "data": {
      "image/png": "[encoded data removed]",
      "text/plain": [
       "<Figure size 432x288 with 1 Axes>"
      ]
     },
     "metadata": {
      "needs_background": "light"
     },
     "output_type": "display_data"
    }
   ],
   "source": [
    "#checking outliers using boxplot\n",
    "sb.boxplot(store.bkxiii)"
   ]
  },
  {
   "cell_type": "code",
   "execution_count": 27,
   "id": "75916b35",
   "metadata": {},
   "outputs": [
    {
     "data": {
      "text/plain": [
       "<AxesSubplot:ylabel='Density'>"
      ]
     },
     "execution_count": 27,
     "metadata": {},
     "output_type": "execute_result"
    },
    {
     "data": {
      "image/png": "[encoded data removed]",
      "text/plain": [
       "<Figure size 432x288 with 1 Axes>"
      ]
     },
     "metadata": {
      "needs_background": "light"
     },
     "output_type": "display_data"
    }
   ],
   "source": [
    "#checking distribution for bkxiv\n",
    "store.bkxiv.plot.density()"
   ]
  },
  {
   "cell_type": "code",
   "execution_count": 28,
   "id": "a8f8147c",
   "metadata": {},
   "outputs": [
    {
     "data": {
      "text/plain": [
       "<AxesSubplot:ylabel='Frequency'>"
      ]
     },
     "execution_count": 28,
     "metadata": {},
     "output_type": "execute_result"
    },
    {
     "data": {
      "image/png": "[encoded data removed]",
      "text/plain": [
       "<Figure size 432x288 with 1 Axes>"
      ]
     },
     "metadata": {
      "needs_background": "light"
     },
     "output_type": "display_data"
    }
   ],
   "source": [
    "#using histogram to see abnormally high values\n",
    "store.bkxiv.plot.hist()"
   ]
  },
  {
   "cell_type": "code",
   "execution_count": 29,
   "id": "64e6b0ff",
   "metadata": {},
   "outputs": [
    {
     "data": {
      "text/plain": [
       "<AxesSubplot:xlabel='bkxiv'>"
      ]
     },
     "execution_count": 29,
     "metadata": {},
     "output_type": "execute_result"
    },
    {
     "data": {
      "image/png": "[encoded data removed]",
      "text/plain": [
       "<Figure size 432x288 with 1 Axes>"
      ]
     },
     "metadata": {
      "needs_background": "light"
     },
     "output_type": "display_data"
    }
   ],
   "source": [
    "#checking outliers using boxplot\n",
    "sb.boxplot(store.bkxiv)"
   ]
  },
  {
   "cell_type": "code",
   "execution_count": 30,
   "id": "bd5bbba7",
   "metadata": {},
   "outputs": [
    {
     "data": {
      "text/plain": [
       "<AxesSubplot:ylabel='Density'>"
      ]
     },
     "execution_count": 30,
     "metadata": {},
     "output_type": "execute_result"
    },
    {
     "data": {
      "image/png": "[encoded data removed]",
      "text/plain": [
       "<Figure size 432x288 with 1 Axes>"
      ]
     },
     "metadata": {
      "needs_background": "light"
     },
     "output_type": "display_data"
    }
   ],
   "source": [
    "#checking distribution for GrossProfit\n",
    "store.GrossProfit.plot.density()"
   ]
  },
  {
   "cell_type": "code",
   "execution_count": 31,
   "id": "e4c33e7f",
   "metadata": {},
   "outputs": [
    {
     "data": {
      "text/plain": [
       "<AxesSubplot:ylabel='Frequency'>"
      ]
     },
     "execution_count": 31,
     "metadata": {},
     "output_type": "execute_result"
    },
    {
     "data": {
      "image/png": "[encoded data removed]",
      "text/plain": [
       "<Figure size 432x288 with 1 Axes>"
      ]
     },
     "metadata": {
      "needs_background": "light"
     },
     "output_type": "display_data"
    }
   ],
   "source": [
    "#using histogram to see abnormally high values\n",
    "store.GrossProfit.plot.hist()"
   ]
  },
  {
   "cell_type": "code",
   "execution_count": 32,
   "id": "bf39f63b",
   "metadata": {},
   "outputs": [
    {
     "data": {
      "text/plain": [
       "<AxesSubplot:xlabel='GrossProfit'>"
      ]
     },
     "execution_count": 32,
     "metadata": {},
     "output_type": "execute_result"
    },
    {
     "data": {
      "image/png": "[encoded data removed]",
      "text/plain": [
       "<Figure size 432x288 with 1 Axes>"
      ]
     },
     "metadata": {
      "needs_background": "light"
     },
     "output_type": "display_data"
    }
   ],
   "source": [
    "#checking outliers using boxplot\n",
    "sb.boxplot(store.GrossProfit)"
   ]
  },
  {
   "cell_type": "code",
   "execution_count": 33,
   "id": "3df68aa3",
   "metadata": {},
   "outputs": [
    {
     "data": {
      "text/plain": [
       "<AxesSubplot:ylabel='Density'>"
      ]
     },
     "execution_count": 33,
     "metadata": {},
     "output_type": "execute_result"
    },
    {
     "data": {
      "image/png": "[encoded data removed]",
      "text/plain": [
       "<Figure size 432x288 with 1 Axes>"
      ]
     },
     "metadata": {
      "needs_background": "light"
     },
     "output_type": "display_data"
    }
   ],
   "source": [
    "#checking distribution for Union%\n",
    "store['Union%'].plot.density()"
   ]
  },
  {
   "cell_type": "code",
   "execution_count": 34,
   "id": "78357e98",
   "metadata": {},
   "outputs": [
    {
     "data": {
      "text/plain": [
       "<AxesSubplot:ylabel='Frequency'>"
      ]
     },
     "execution_count": 34,
     "metadata": {},
     "output_type": "execute_result"
    },
    {
     "data": {
      "image/png": "[encoded data removed]",
      "text/plain": [
       "<Figure size 432x288 with 1 Axes>"
      ]
     },
     "metadata": {
      "needs_background": "light"
     },
     "output_type": "display_data"
    }
   ],
   "source": [
    "#using histogram to see abnormally high values\n",
    "store['Union%'].plot.hist()"
   ]
  },
  {
   "cell_type": "code",
   "execution_count": 35,
   "id": "89547d38",
   "metadata": {},
   "outputs": [
    {
     "data": {
      "text/plain": [
       "<AxesSubplot:xlabel='Union%'>"
      ]
     },
     "execution_count": 35,
     "metadata": {},
     "output_type": "execute_result"
    },
    {
     "data": {
      "image/png": "[encoded data removed]",
      "text/plain": [
       "<Figure size 432x288 with 1 Axes>"
      ]
     },
     "metadata": {
      "needs_background": "light"
     },
     "output_type": "display_data"
    }
   ],
   "source": [
    "#checking outliers using boxplot\n",
    "sb.boxplot(store['Union%'])"
   ]
  },
  {
   "cell_type": "code",
   "execution_count": 36,
   "id": "53ae485b",
   "metadata": {},
   "outputs": [
    {
     "data": {
      "text/plain": [
       "<AxesSubplot:ylabel='Density'>"
      ]
     },
     "execution_count": 36,
     "metadata": {},
     "output_type": "execute_result"
    },
    {
     "data": {
      "image/png": "[encoded data removed]",
      "text/plain": [
       "<Figure size 432x288 with 1 Axes>"
      ]
     },
     "metadata": {
      "needs_background": "light"
     },
     "output_type": "display_data"
    }
   ],
   "source": [
    "#checking distribution for Age (Yrs)\n",
    "store['Age (Yrs)'].plot.density()"
   ]
  },
  {
   "cell_type": "code",
   "execution_count": 37,
   "id": "ab6870cd",
   "metadata": {},
   "outputs": [
    {
     "data": {
      "text/plain": [
       "<AxesSubplot:ylabel='Frequency'>"
      ]
     },
     "execution_count": 37,
     "metadata": {},
     "output_type": "execute_result"
    },
    {
     "data": {
      "image/png": "[encoded data removed]",
      "text/plain": [
       "<Figure size 432x288 with 1 Axes>"
      ]
     },
     "metadata": {
      "needs_background": "light"
     },
     "output_type": "display_data"
    }
   ],
   "source": [
    "#using histogram to see abnormally high values\n",
    "store['Age (Yrs)'].plot.hist()"
   ]
  },
  {
   "cell_type": "code",
   "execution_count": 38,
   "id": "0d9aa74c",
   "metadata": {},
   "outputs": [
    {
     "data": {
      "text/plain": [
       "<AxesSubplot:xlabel='Age (Yrs)'>"
      ]
     },
     "execution_count": 38,
     "metadata": {},
     "output_type": "execute_result"
    },
    {
     "data": {
      "image/png": "[encoded data removed]",
      "text/plain": [
       "<Figure size 432x288 with 1 Axes>"
      ]
     },
     "metadata": {
      "needs_background": "light"
     },
     "output_type": "display_data"
    }
   ],
   "source": [
    "#checking outliers using boxplot\n",
    "sb.boxplot(store['Age (Yrs)'])"
   ]
  },
  {
   "cell_type": "code",
   "execution_count": 39,
   "id": "ab4c855c",
   "metadata": {},
   "outputs": [
    {
     "data": {
      "text/plain": [
       "<AxesSubplot:ylabel='Density'>"
      ]
     },
     "execution_count": 39,
     "metadata": {},
     "output_type": "execute_result"
    },
    {
     "data": {
      "image/png": "[encoded data removed]",
      "text/plain": [
       "<Figure size 432x288 with 1 Axes>"
      ]
     },
     "metadata": {
      "needs_background": "light"
     },
     "output_type": "display_data"
    }
   ],
   "source": [
    "#checking distribution No. Staff\n",
    "store['No. Staff'].plot.density()"
   ]
  },
  {
   "cell_type": "code",
   "execution_count": 40,
   "id": "33a79f66",
   "metadata": {},
   "outputs": [
    {
     "data": {
      "text/plain": [
       "<AxesSubplot:ylabel='Frequency'>"
      ]
     },
     "execution_count": 40,
     "metadata": {},
     "output_type": "execute_result"
    },
    {
     "data": {
      "image/png": "[encoded data removed]",
      "text/plain": [
       "<Figure size 432x288 with 1 Axes>"
      ]
     },
     "metadata": {
      "needs_background": "light"
     },
     "output_type": "display_data"
    }
   ],
   "source": [
    "#using histogram to see abnormally high values\n",
    "store['No. Staff'].plot.hist()"
   ]
  },
  {
   "cell_type": "code",
   "execution_count": 41,
   "id": "2ef965ef",
   "metadata": {},
   "outputs": [
    {
     "data": {
      "text/plain": [
       "<AxesSubplot:xlabel='No. Staff'>"
      ]
     },
     "execution_count": 41,
     "metadata": {},
     "output_type": "execute_result"
    },
    {
     "data": {
      "image/png": "[encoded data removed]",
      "text/plain": [
       "<Figure size 432x288 with 1 Axes>"
      ]
     },
     "metadata": {
      "needs_background": "light"
     },
     "output_type": "display_data"
    }
   ],
   "source": [
    "#checking outliers using boxplot\n",
    "sb.boxplot(store['No. Staff'])"
   ]
  },
  {
   "cell_type": "code",
   "execution_count": 42,
   "id": "37c81e7e",
   "metadata": {},
   "outputs": [
    {
     "data": {
      "text/plain": [
       "<AxesSubplot:ylabel='Density'>"
      ]
     },
     "execution_count": 42,
     "metadata": {},
     "output_type": "execute_result"
    },
    {
     "data": {
      "image/png": "[encoded data removed]",
      "text/plain": [
       "<Figure size 432x288 with 1 Axes>"
      ]
     },
     "metadata": {
      "needs_background": "light"
     },
     "output_type": "display_data"
    }
   ],
   "source": [
    "#checking distribution for \n",
    "store['HrsTrading'].plot.density()"
   ]
  },
  {
   "cell_type": "code",
   "execution_count": 43,
   "id": "fb56c91b",
   "metadata": {},
   "outputs": [
    {
     "data": {
      "text/plain": [
       "<AxesSubplot:ylabel='Frequency'>"
      ]
     },
     "execution_count": 43,
     "metadata": {},
     "output_type": "execute_result"
    },
    {
     "data": {
      "image/png": "[encoded data removed]",
      "text/plain": [
       "<Figure size 432x288 with 1 Axes>"
      ]
     },
     "metadata": {
      "needs_background": "light"
     },
     "output_type": "display_data"
    }
   ],
   "source": [
    "#using histogram to see abnormally high values\n",
    "store['HrsTrading'].plot.hist()"
   ]
  },
  {
   "cell_type": "code",
   "execution_count": 44,
   "id": "7b6bb0ba",
   "metadata": {},
   "outputs": [
    {
     "data": {
      "text/plain": [
       "<AxesSubplot:xlabel='HrsTrading'>"
      ]
     },
     "execution_count": 44,
     "metadata": {},
     "output_type": "execute_result"
    },
    {
     "data": {
      "image/png": "[encoded data removed]",
      "text/plain": [
       "<Figure size 432x288 with 1 Axes>"
      ]
     },
     "metadata": {
      "needs_background": "light"
     },
     "output_type": "display_data"
    }
   ],
   "source": [
    "#checking outliers using boxplot\n",
    "sb.boxplot(store['HrsTrading'])"
   ]
  },
  {
   "cell_type": "code",
   "execution_count": 45,
   "id": "241c6422",
   "metadata": {},
   "outputs": [
    {
     "data": {
      "text/plain": [
       "<AxesSubplot:ylabel='Density'>"
      ]
     },
     "execution_count": 45,
     "metadata": {},
     "output_type": "execute_result"
    },
    {
     "data": {
      "image/png": "[encoded data removed]",
      "text/plain": [
       "<Figure size 432x288 with 1 Axes>"
      ]
     },
     "metadata": {
      "needs_background": "light"
     },
     "output_type": "display_data"
    }
   ],
   "source": [
    "#checking distribution for Car Spaces\n",
    "store['Car Spaces'].plot.density()"
   ]
  },
  {
   "cell_type": "code",
   "execution_count": 46,
   "id": "12d4fbf7",
   "metadata": {},
   "outputs": [
    {
     "data": {
      "text/plain": [
       "<AxesSubplot:ylabel='Frequency'>"
      ]
     },
     "execution_count": 46,
     "metadata": {},
     "output_type": "execute_result"
    },
    {
     "data": {
      "image/png": "[encoded data removed]",
      "text/plain": [
       "<Figure size 432x288 with 1 Axes>"
      ]
     },
     "metadata": {
      "needs_background": "light"
     },
     "output_type": "display_data"
    }
   ],
   "source": [
    "#using histogram to see abnormally high values\n",
    "store['Car Spaces'].plot.hist()"
   ]
  },
  {
   "cell_type": "code",
   "execution_count": 47,
   "id": "2f357294",
   "metadata": {},
   "outputs": [
    {
     "data": {
      "text/plain": [
       "<AxesSubplot:xlabel='Car Spaces'>"
      ]
     },
     "execution_count": 47,
     "metadata": {},
     "output_type": "execute_result"
    },
    {
     "data": {
      "image/png": "[encoded data removed]",
      "text/plain": [
       "<Figure size 432x288 with 1 Axes>"
      ]
     },
     "metadata": {
      "needs_background": "light"
     },
     "output_type": "display_data"
    }
   ],
   "source": [
    "#checking outliers using boxplot\n",
    "sb.boxplot(store['Car Spaces'])"
   ]
  },
  {
   "cell_type": "code",
   "execution_count": 48,
   "id": "2ffaf26f",
   "metadata": {},
   "outputs": [
    {
     "data": {
      "text/plain": [
       "<AxesSubplot:ylabel='Density'>"
      ]
     },
     "execution_count": 48,
     "metadata": {},
     "output_type": "execute_result"
    },
    {
     "data": {
      "image/png": "[encoded data removed]",
      "text/plain": [
       "<Figure size 432x288 with 1 Axes>"
      ]
     },
     "metadata": {
      "needs_background": "light"
     },
     "output_type": "display_data"
    }
   ],
   "source": [
    "#checking distribution for Mng-Age\n",
    "store['Mng-Age'].plot.density()"
   ]
  },
  {
   "cell_type": "code",
   "execution_count": 49,
   "id": "91a9d95e",
   "metadata": {},
   "outputs": [
    {
     "data": {
      "text/plain": [
       "<AxesSubplot:ylabel='Frequency'>"
      ]
     },
     "execution_count": 49,
     "metadata": {},
     "output_type": "execute_result"
    },
    {
     "data": {
      "image/png": "[encoded data removed]",
      "text/plain": [
       "<Figure size 432x288 with 1 Axes>"
      ]
     },
     "metadata": {
      "needs_background": "light"
     },
     "output_type": "display_data"
    }
   ],
   "source": [
    "#using histogram to see abnormally high values\n",
    "store['Mng-Age'].plot.hist()"
   ]
  },
  {
   "cell_type": "code",
   "execution_count": 50,
   "id": "c7e1ee9d",
   "metadata": {},
   "outputs": [
    {
     "data": {
      "text/plain": [
       "<AxesSubplot:xlabel='Mng-Age'>"
      ]
     },
     "execution_count": 50,
     "metadata": {},
     "output_type": "execute_result"
    },
    {
     "data": {
      "image/png": "[encoded data removed]",
      "text/plain": [
       "<Figure size 432x288 with 1 Axes>"
      ]
     },
     "metadata": {
      "needs_background": "light"
     },
     "output_type": "display_data"
    }
   ],
   "source": [
    "#checking outliers using boxplot\n",
    "sb.boxplot(store['Mng-Age'])"
   ]
  },
  {
   "cell_type": "code",
   "execution_count": 51,
   "id": "c6fcf6da",
   "metadata": {},
   "outputs": [
    {
     "data": {
      "text/plain": [
       "<AxesSubplot:ylabel='Density'>"
      ]
     },
     "execution_count": 51,
     "metadata": {},
     "output_type": "execute_result"
    },
    {
     "data": {
      "image/png": "[encoded data removed]",
      "text/plain": [
       "<Figure size 432x288 with 1 Axes>"
      ]
     },
     "metadata": {
      "needs_background": "light"
     },
     "output_type": "display_data"
    }
   ],
   "source": [
    "#checking distribution for Mng-Exp'\n",
    "store['Mng-Exp'].plot.density()"
   ]
  },
  {
   "cell_type": "code",
   "execution_count": 52,
   "id": "c208d361",
   "metadata": {},
   "outputs": [
    {
     "data": {
      "text/plain": [
       "<AxesSubplot:ylabel='Frequency'>"
      ]
     },
     "execution_count": 52,
     "metadata": {},
     "output_type": "execute_result"
    },
    {
     "data": {
      "image/png": "[encoded data removed]",
      "text/plain": [
       "<Figure size 432x288 with 1 Axes>"
      ]
     },
     "metadata": {
      "needs_background": "light"
     },
     "output_type": "display_data"
    }
   ],
   "source": [
    "#using histogram to see abnormally high values\n",
    "store['Mng-Exp'].plot.hist()"
   ]
  },
  {
   "cell_type": "code",
   "execution_count": 53,
   "id": "a3d50267",
   "metadata": {},
   "outputs": [
    {
     "data": {
      "text/plain": [
       "<AxesSubplot:xlabel='Mng-Exp'>"
      ]
     },
     "execution_count": 53,
     "metadata": {},
     "output_type": "execute_result"
    },
    {
     "data": {
      "image/png": "[encoded data removed]",
      "text/plain": [
       "<Figure size 432x288 with 1 Axes>"
      ]
     },
     "metadata": {
      "needs_background": "light"
     },
     "output_type": "display_data"
    }
   ],
   "source": [
    "#checking outliers using boxplot\n",
    "sb.boxplot(store['Mng-Exp'])"
   ]
  },
  {
   "cell_type": "code",
   "execution_count": 54,
   "id": "6f262981",
   "metadata": {},
   "outputs": [
    {
     "data": {
      "text/plain": [
       "<AxesSubplot:ylabel='Density'>"
      ]
     },
     "execution_count": 54,
     "metadata": {},
     "output_type": "execute_result"
    },
    {
     "data": {
      "image/png": "[encoded data removed]",
      "text/plain": [
       "<Figure size 432x288 with 1 Axes>"
      ]
     },
     "metadata": {
      "needs_background": "light"
     },
     "output_type": "display_data"
    }
   ],
   "source": [
    "#checking distribution for Age (Yrs)\n",
    "store['Age (Yrs)'].plot.density()"
   ]
  },
  {
   "cell_type": "code",
   "execution_count": 55,
   "id": "3c63bc21",
   "metadata": {},
   "outputs": [
    {
     "data": {
      "text/plain": [
       "<AxesSubplot:ylabel='Frequency'>"
      ]
     },
     "execution_count": 55,
     "metadata": {},
     "output_type": "execute_result"
    },
    {
     "data": {
      "image/png": "[encoded data removed]",
      "text/plain": [
       "<Figure size 432x288 with 1 Axes>"
      ]
     },
     "metadata": {
      "needs_background": "light"
     },
     "output_type": "display_data"
    }
   ],
   "source": [
    "#using histogram to see abnormally high values\n",
    "store['Age (Yrs)'].plot.hist()"
   ]
  },
  {
   "cell_type": "code",
   "execution_count": 56,
   "id": "ee421684",
   "metadata": {},
   "outputs": [
    {
     "data": {
      "text/plain": [
       "<AxesSubplot:xlabel='Age (Yrs)'>"
      ]
     },
     "execution_count": 56,
     "metadata": {},
     "output_type": "execute_result"
    },
    {
     "data": {
      "image/png": "[encoded data removed]",
      "text/plain": [
       "<Figure size 432x288 with 1 Axes>"
      ]
     },
     "metadata": {
      "needs_background": "light"
     },
     "output_type": "display_data"
    }
   ],
   "source": [
    "#checking outliers using boxplot\n",
    "sb.boxplot(store['Age (Yrs)'])"
   ]
  },
  {
   "cell_type": "markdown",
   "id": "3a1705f6",
   "metadata": {},
   "source": [
    "**Step 3:Exploratory data analysis**\n",
    "\n",
    "In this step, we are going to explore the dataset. Perform hypothesis tests,bivariate analysis and check for correlation between variables.  \n"
   ]
  },
  {
   "cell_type": "code",
   "execution_count": 57,
   "id": "0a57d929",
   "metadata": {},
   "outputs": [
    {
     "data": {
      "text/html": [
       "<div>\n",
       "<style scoped>\n",
       "    .dataframe tbody tr th:only-of-type {\n",
       "        vertical-align: middle;\n",
       "    }\n",
       "\n",
       "    .dataframe tbody tr th {\n",
       "        vertical-align: top;\n",
       "    }\n",
       "\n",
       "    .dataframe thead th {\n",
       "        text-align: right;\n",
       "    }\n",
       "</style>\n",
       "<table border=\"1\" class=\"dataframe\">\n",
       "  <thead>\n",
       "    <tr style=\"text-align: right;\">\n",
       "      <th></th>\n",
       "      <th>Store No.</th>\n",
       "      <th>salesmd</th>\n",
       "      <th>wagesmd</th>\n",
       "      <th>No. Staff</th>\n",
       "      <th>Loc'n (Num)</th>\n",
       "      <th>State (Num)</th>\n",
       "      <th>Age (Yrs)</th>\n",
       "      <th>GrossProfit</th>\n",
       "      <th>advkd</th>\n",
       "      <th>Competitors</th>\n",
       "      <th>...</th>\n",
       "      <th>Sundays (Num)</th>\n",
       "      <th>Mng-Sex (Num)</th>\n",
       "      <th>Mng-Age</th>\n",
       "      <th>Mng-Exp</th>\n",
       "      <th>Mng-Train</th>\n",
       "      <th>Union%</th>\n",
       "      <th>Car Spaces</th>\n",
       "      <th>HomeDel (Num)</th>\n",
       "      <th>bkxiii</th>\n",
       "      <th>bkxiv</th>\n",
       "    </tr>\n",
       "  </thead>\n",
       "  <tbody>\n",
       "    <tr>\n",
       "      <th>count</th>\n",
       "      <td>150.00</td>\n",
       "      <td>150.00</td>\n",
       "      <td>150.00</td>\n",
       "      <td>150.00</td>\n",
       "      <td>150.00</td>\n",
       "      <td>150.00</td>\n",
       "      <td>150.00</td>\n",
       "      <td>150.00</td>\n",
       "      <td>150.00</td>\n",
       "      <td>150.00</td>\n",
       "      <td>...</td>\n",
       "      <td>150.00</td>\n",
       "      <td>150.00</td>\n",
       "      <td>150.00</td>\n",
       "      <td>150.00</td>\n",
       "      <td>150.00</td>\n",
       "      <td>150.00</td>\n",
       "      <td>150.00</td>\n",
       "      <td>150.00</td>\n",
       "      <td>150.00</td>\n",
       "      <td>150.00</td>\n",
       "    </tr>\n",
       "    <tr>\n",
       "      <th>mean</th>\n",
       "      <td>75.50</td>\n",
       "      <td>11.66</td>\n",
       "      <td>2.38</td>\n",
       "      <td>61.49</td>\n",
       "      <td>1.91</td>\n",
       "      <td>3.03</td>\n",
       "      <td>8.85</td>\n",
       "      <td>1.01</td>\n",
       "      <td>147.27</td>\n",
       "      <td>2.51</td>\n",
       "      <td>...</td>\n",
       "      <td>0.62</td>\n",
       "      <td>0.17</td>\n",
       "      <td>38.42</td>\n",
       "      <td>9.25</td>\n",
       "      <td>2.81</td>\n",
       "      <td>37.79</td>\n",
       "      <td>44.19</td>\n",
       "      <td>0.30</td>\n",
       "      <td>171.81</td>\n",
       "      <td>178.85</td>\n",
       "    </tr>\n",
       "    <tr>\n",
       "      <th>std</th>\n",
       "      <td>43.45</td>\n",
       "      <td>3.57</td>\n",
       "      <td>0.57</td>\n",
       "      <td>14.61</td>\n",
       "      <td>0.77</td>\n",
       "      <td>1.89</td>\n",
       "      <td>5.44</td>\n",
       "      <td>0.65</td>\n",
       "      <td>67.99</td>\n",
       "      <td>1.74</td>\n",
       "      <td>...</td>\n",
       "      <td>0.49</td>\n",
       "      <td>0.37</td>\n",
       "      <td>7.34</td>\n",
       "      <td>3.99</td>\n",
       "      <td>1.18</td>\n",
       "      <td>4.90</td>\n",
       "      <td>22.16</td>\n",
       "      <td>0.46</td>\n",
       "      <td>8.01</td>\n",
       "      <td>8.64</td>\n",
       "    </tr>\n",
       "    <tr>\n",
       "      <th>min</th>\n",
       "      <td>1.00</td>\n",
       "      <td>5.90</td>\n",
       "      <td>1.50</td>\n",
       "      <td>35.00</td>\n",
       "      <td>1.00</td>\n",
       "      <td>1.00</td>\n",
       "      <td>1.00</td>\n",
       "      <td>0.02</td>\n",
       "      <td>20.00</td>\n",
       "      <td>0.00</td>\n",
       "      <td>...</td>\n",
       "      <td>0.00</td>\n",
       "      <td>0.00</td>\n",
       "      <td>27.00</td>\n",
       "      <td>1.00</td>\n",
       "      <td>1.00</td>\n",
       "      <td>24.00</td>\n",
       "      <td>8.00</td>\n",
       "      <td>0.00</td>\n",
       "      <td>156.00</td>\n",
       "      <td>162.00</td>\n",
       "    </tr>\n",
       "    <tr>\n",
       "      <th>25%</th>\n",
       "      <td>38.25</td>\n",
       "      <td>8.83</td>\n",
       "      <td>1.90</td>\n",
       "      <td>51.00</td>\n",
       "      <td>1.00</td>\n",
       "      <td>1.00</td>\n",
       "      <td>4.25</td>\n",
       "      <td>0.51</td>\n",
       "      <td>101.00</td>\n",
       "      <td>1.00</td>\n",
       "      <td>...</td>\n",
       "      <td>0.00</td>\n",
       "      <td>0.00</td>\n",
       "      <td>33.00</td>\n",
       "      <td>7.00</td>\n",
       "      <td>2.00</td>\n",
       "      <td>35.00</td>\n",
       "      <td>26.00</td>\n",
       "      <td>0.00</td>\n",
       "      <td>164.00</td>\n",
       "      <td>171.00</td>\n",
       "    </tr>\n",
       "    <tr>\n",
       "      <th>50%</th>\n",
       "      <td>75.50</td>\n",
       "      <td>10.95</td>\n",
       "      <td>2.20</td>\n",
       "      <td>58.00</td>\n",
       "      <td>2.00</td>\n",
       "      <td>3.00</td>\n",
       "      <td>7.50</td>\n",
       "      <td>0.98</td>\n",
       "      <td>130.50</td>\n",
       "      <td>2.00</td>\n",
       "      <td>...</td>\n",
       "      <td>1.00</td>\n",
       "      <td>0.00</td>\n",
       "      <td>37.00</td>\n",
       "      <td>9.00</td>\n",
       "      <td>3.00</td>\n",
       "      <td>38.00</td>\n",
       "      <td>39.50</td>\n",
       "      <td>0.00</td>\n",
       "      <td>172.00</td>\n",
       "      <td>179.00</td>\n",
       "    </tr>\n",
       "    <tr>\n",
       "      <th>75%</th>\n",
       "      <td>112.75</td>\n",
       "      <td>14.00</td>\n",
       "      <td>2.70</td>\n",
       "      <td>69.75</td>\n",
       "      <td>2.75</td>\n",
       "      <td>4.00</td>\n",
       "      <td>12.00</td>\n",
       "      <td>1.42</td>\n",
       "      <td>196.75</td>\n",
       "      <td>4.00</td>\n",
       "      <td>...</td>\n",
       "      <td>1.00</td>\n",
       "      <td>0.00</td>\n",
       "      <td>43.00</td>\n",
       "      <td>12.00</td>\n",
       "      <td>3.00</td>\n",
       "      <td>41.00</td>\n",
       "      <td>58.00</td>\n",
       "      <td>1.00</td>\n",
       "      <td>178.00</td>\n",
       "      <td>185.00</td>\n",
       "    </tr>\n",
       "    <tr>\n",
       "      <th>max</th>\n",
       "      <td>150.00</td>\n",
       "      <td>23.50</td>\n",
       "      <td>3.90</td>\n",
       "      <td>117.00</td>\n",
       "      <td>3.00</td>\n",
       "      <td>8.00</td>\n",
       "      <td>24.00</td>\n",
       "      <td>2.87</td>\n",
       "      <td>369.00</td>\n",
       "      <td>7.00</td>\n",
       "      <td>...</td>\n",
       "      <td>1.00</td>\n",
       "      <td>1.00</td>\n",
       "      <td>61.00</td>\n",
       "      <td>21.00</td>\n",
       "      <td>6.00</td>\n",
       "      <td>50.00</td>\n",
       "      <td>114.00</td>\n",
       "      <td>1.00</td>\n",
       "      <td>201.00</td>\n",
       "      <td>204.00</td>\n",
       "    </tr>\n",
       "  </tbody>\n",
       "</table>\n",
       "<p>8 rows × 21 columns</p>\n",
       "</div>"
      ],
      "text/plain": [
       "       Store No.  salesmd  wagesmd  No. Staff  Loc'n (Num)  State (Num)  \\\n",
       "count     150.00   150.00   150.00     150.00       150.00       150.00   \n",
       "mean       75.50    11.66     2.38      61.49         1.91         3.03   \n",
       "std        43.45     3.57     0.57      14.61         0.77         1.89   \n",
       "min         1.00     5.90     1.50      35.00         1.00         1.00   \n",
       "25%        38.25     8.83     1.90      51.00         1.00         1.00   \n",
       "50%        75.50    10.95     2.20      58.00         2.00         3.00   \n",
       "75%       112.75    14.00     2.70      69.75         2.75         4.00   \n",
       "max       150.00    23.50     3.90     117.00         3.00         8.00   \n",
       "\n",
       "       Age (Yrs)  GrossProfit   advkd  Competitors  ...  Sundays (Num)  \\\n",
       "count     150.00       150.00  150.00       150.00  ...         150.00   \n",
       "mean        8.85         1.01  147.27         2.51  ...           0.62   \n",
       "std         5.44         0.65   67.99         1.74  ...           0.49   \n",
       "min         1.00         0.02   20.00         0.00  ...           0.00   \n",
       "25%         4.25         0.51  101.00         1.00  ...           0.00   \n",
       "50%         7.50         0.98  130.50         2.00  ...           1.00   \n",
       "75%        12.00         1.42  196.75         4.00  ...           1.00   \n",
       "max        24.00         2.87  369.00         7.00  ...           1.00   \n",
       "\n",
       "       Mng-Sex (Num)  Mng-Age  Mng-Exp  Mng-Train  Union%  Car Spaces  \\\n",
       "count         150.00   150.00   150.00     150.00  150.00      150.00   \n",
       "mean            0.17    38.42     9.25       2.81   37.79       44.19   \n",
       "std             0.37     7.34     3.99       1.18    4.90       22.16   \n",
       "min             0.00    27.00     1.00       1.00   24.00        8.00   \n",
       "25%             0.00    33.00     7.00       2.00   35.00       26.00   \n",
       "50%             0.00    37.00     9.00       3.00   38.00       39.50   \n",
       "75%             0.00    43.00    12.00       3.00   41.00       58.00   \n",
       "max             1.00    61.00    21.00       6.00   50.00      114.00   \n",
       "\n",
       "       HomeDel (Num)  bkxiii   bkxiv  \n",
       "count         150.00  150.00  150.00  \n",
       "mean            0.30  171.81  178.85  \n",
       "std             0.46    8.01    8.64  \n",
       "min             0.00  156.00  162.00  \n",
       "25%             0.00  164.00  171.00  \n",
       "50%             0.00  172.00  179.00  \n",
       "75%             1.00  178.00  185.00  \n",
       "max             1.00  201.00  204.00  \n",
       "\n",
       "[8 rows x 21 columns]"
      ]
     },
     "execution_count": 57,
     "metadata": {},
     "output_type": "execute_result"
    }
   ],
   "source": [
    "#summary statistics\n",
    "store.describe().round(2)"
   ]
  },
  {
   "cell_type": "code",
   "execution_count": 58,
   "id": "5979a735",
   "metadata": {
    "scrolled": true
   },
   "outputs": [
    {
     "data": {
      "text/html": [
       "<div>\n",
       "<style scoped>\n",
       "    .dataframe tbody tr th:only-of-type {\n",
       "        vertical-align: middle;\n",
       "    }\n",
       "\n",
       "    .dataframe tbody tr th {\n",
       "        vertical-align: top;\n",
       "    }\n",
       "\n",
       "    .dataframe thead th {\n",
       "        text-align: right;\n",
       "    }\n",
       "</style>\n",
       "<table border=\"1\" class=\"dataframe\">\n",
       "  <thead>\n",
       "    <tr style=\"text-align: right;\">\n",
       "      <th></th>\n",
       "      <th>salesmd</th>\n",
       "      <th>wagesmd</th>\n",
       "      <th>advkd</th>\n",
       "      <th>GrossProfit</th>\n",
       "      <th>bkxiv</th>\n",
       "      <th>bkxiii</th>\n",
       "      <th>Union%</th>\n",
       "      <th>No. Staff</th>\n",
       "      <th>HrsTrading</th>\n",
       "      <th>Car Spaces</th>\n",
       "      <th>Mng-Age</th>\n",
       "      <th>Mng-Exp</th>\n",
       "      <th>Age (Yrs)</th>\n",
       "    </tr>\n",
       "  </thead>\n",
       "  <tbody>\n",
       "    <tr>\n",
       "      <th>salesmd</th>\n",
       "      <td>1.00</td>\n",
       "      <td>0.81</td>\n",
       "      <td>0.84</td>\n",
       "      <td>0.05</td>\n",
       "      <td>0.45</td>\n",
       "      <td>0.45</td>\n",
       "      <td>0.01</td>\n",
       "      <td>0.74</td>\n",
       "      <td>-0.09</td>\n",
       "      <td>0.57</td>\n",
       "      <td>-0.22</td>\n",
       "      <td>0.38</td>\n",
       "      <td>-0.12</td>\n",
       "    </tr>\n",
       "    <tr>\n",
       "      <th>wagesmd</th>\n",
       "      <td>0.81</td>\n",
       "      <td>1.00</td>\n",
       "      <td>0.80</td>\n",
       "      <td>0.05</td>\n",
       "      <td>0.21</td>\n",
       "      <td>0.21</td>\n",
       "      <td>-0.03</td>\n",
       "      <td>0.92</td>\n",
       "      <td>-0.09</td>\n",
       "      <td>0.70</td>\n",
       "      <td>-0.07</td>\n",
       "      <td>0.12</td>\n",
       "      <td>-0.06</td>\n",
       "    </tr>\n",
       "    <tr>\n",
       "      <th>advkd</th>\n",
       "      <td>0.84</td>\n",
       "      <td>0.80</td>\n",
       "      <td>1.00</td>\n",
       "      <td>0.03</td>\n",
       "      <td>-0.02</td>\n",
       "      <td>-0.01</td>\n",
       "      <td>0.06</td>\n",
       "      <td>0.74</td>\n",
       "      <td>-0.05</td>\n",
       "      <td>0.54</td>\n",
       "      <td>-0.05</td>\n",
       "      <td>0.23</td>\n",
       "      <td>-0.01</td>\n",
       "    </tr>\n",
       "    <tr>\n",
       "      <th>GrossProfit</th>\n",
       "      <td>0.05</td>\n",
       "      <td>0.05</td>\n",
       "      <td>0.03</td>\n",
       "      <td>1.00</td>\n",
       "      <td>0.16</td>\n",
       "      <td>0.18</td>\n",
       "      <td>0.03</td>\n",
       "      <td>-0.05</td>\n",
       "      <td>-0.69</td>\n",
       "      <td>0.01</td>\n",
       "      <td>-0.07</td>\n",
       "      <td>-0.18</td>\n",
       "      <td>-0.04</td>\n",
       "    </tr>\n",
       "    <tr>\n",
       "      <th>bkxiv</th>\n",
       "      <td>0.45</td>\n",
       "      <td>0.21</td>\n",
       "      <td>-0.02</td>\n",
       "      <td>0.16</td>\n",
       "      <td>1.00</td>\n",
       "      <td>0.99</td>\n",
       "      <td>-0.12</td>\n",
       "      <td>0.14</td>\n",
       "      <td>-0.33</td>\n",
       "      <td>0.18</td>\n",
       "      <td>-0.33</td>\n",
       "      <td>0.27</td>\n",
       "      <td>-0.25</td>\n",
       "    </tr>\n",
       "    <tr>\n",
       "      <th>bkxiii</th>\n",
       "      <td>0.45</td>\n",
       "      <td>0.21</td>\n",
       "      <td>-0.01</td>\n",
       "      <td>0.18</td>\n",
       "      <td>0.99</td>\n",
       "      <td>1.00</td>\n",
       "      <td>-0.11</td>\n",
       "      <td>0.13</td>\n",
       "      <td>-0.35</td>\n",
       "      <td>0.16</td>\n",
       "      <td>-0.32</td>\n",
       "      <td>0.26</td>\n",
       "      <td>-0.25</td>\n",
       "    </tr>\n",
       "    <tr>\n",
       "      <th>Union%</th>\n",
       "      <td>0.01</td>\n",
       "      <td>-0.03</td>\n",
       "      <td>0.06</td>\n",
       "      <td>0.03</td>\n",
       "      <td>-0.12</td>\n",
       "      <td>-0.11</td>\n",
       "      <td>1.00</td>\n",
       "      <td>-0.02</td>\n",
       "      <td>-0.04</td>\n",
       "      <td>-0.03</td>\n",
       "      <td>0.02</td>\n",
       "      <td>0.04</td>\n",
       "      <td>0.89</td>\n",
       "    </tr>\n",
       "    <tr>\n",
       "      <th>No. Staff</th>\n",
       "      <td>0.74</td>\n",
       "      <td>0.92</td>\n",
       "      <td>0.74</td>\n",
       "      <td>-0.05</td>\n",
       "      <td>0.14</td>\n",
       "      <td>0.13</td>\n",
       "      <td>-0.02</td>\n",
       "      <td>1.00</td>\n",
       "      <td>0.03</td>\n",
       "      <td>0.76</td>\n",
       "      <td>-0.00</td>\n",
       "      <td>0.10</td>\n",
       "      <td>-0.03</td>\n",
       "    </tr>\n",
       "    <tr>\n",
       "      <th>HrsTrading</th>\n",
       "      <td>-0.09</td>\n",
       "      <td>-0.09</td>\n",
       "      <td>-0.05</td>\n",
       "      <td>-0.69</td>\n",
       "      <td>-0.33</td>\n",
       "      <td>-0.35</td>\n",
       "      <td>-0.04</td>\n",
       "      <td>0.03</td>\n",
       "      <td>1.00</td>\n",
       "      <td>-0.02</td>\n",
       "      <td>0.16</td>\n",
       "      <td>0.24</td>\n",
       "      <td>0.02</td>\n",
       "    </tr>\n",
       "    <tr>\n",
       "      <th>Car Spaces</th>\n",
       "      <td>0.57</td>\n",
       "      <td>0.70</td>\n",
       "      <td>0.54</td>\n",
       "      <td>0.01</td>\n",
       "      <td>0.18</td>\n",
       "      <td>0.16</td>\n",
       "      <td>-0.03</td>\n",
       "      <td>0.76</td>\n",
       "      <td>-0.02</td>\n",
       "      <td>1.00</td>\n",
       "      <td>-0.03</td>\n",
       "      <td>0.06</td>\n",
       "      <td>-0.05</td>\n",
       "    </tr>\n",
       "    <tr>\n",
       "      <th>Mng-Age</th>\n",
       "      <td>-0.22</td>\n",
       "      <td>-0.07</td>\n",
       "      <td>-0.05</td>\n",
       "      <td>-0.07</td>\n",
       "      <td>-0.33</td>\n",
       "      <td>-0.32</td>\n",
       "      <td>0.02</td>\n",
       "      <td>-0.00</td>\n",
       "      <td>0.16</td>\n",
       "      <td>-0.03</td>\n",
       "      <td>1.00</td>\n",
       "      <td>-0.03</td>\n",
       "      <td>0.11</td>\n",
       "    </tr>\n",
       "    <tr>\n",
       "      <th>Mng-Exp</th>\n",
       "      <td>0.38</td>\n",
       "      <td>0.12</td>\n",
       "      <td>0.23</td>\n",
       "      <td>-0.18</td>\n",
       "      <td>0.27</td>\n",
       "      <td>0.26</td>\n",
       "      <td>0.04</td>\n",
       "      <td>0.10</td>\n",
       "      <td>0.24</td>\n",
       "      <td>0.06</td>\n",
       "      <td>-0.03</td>\n",
       "      <td>1.00</td>\n",
       "      <td>-0.07</td>\n",
       "    </tr>\n",
       "    <tr>\n",
       "      <th>Age (Yrs)</th>\n",
       "      <td>-0.12</td>\n",
       "      <td>-0.06</td>\n",
       "      <td>-0.01</td>\n",
       "      <td>-0.04</td>\n",
       "      <td>-0.25</td>\n",
       "      <td>-0.25</td>\n",
       "      <td>0.89</td>\n",
       "      <td>-0.03</td>\n",
       "      <td>0.02</td>\n",
       "      <td>-0.05</td>\n",
       "      <td>0.11</td>\n",
       "      <td>-0.07</td>\n",
       "      <td>1.00</td>\n",
       "    </tr>\n",
       "  </tbody>\n",
       "</table>\n",
       "</div>"
      ],
      "text/plain": [
       "             salesmd  wagesmd  advkd  GrossProfit  bkxiv  bkxiii  Union%  \\\n",
       "salesmd         1.00     0.81   0.84         0.05   0.45    0.45    0.01   \n",
       "wagesmd         0.81     1.00   0.80         0.05   0.21    0.21   -0.03   \n",
       "advkd           0.84     0.80   1.00         0.03  -0.02   -0.01    0.06   \n",
       "GrossProfit     0.05     0.05   0.03         1.00   0.16    0.18    0.03   \n",
       "bkxiv           0.45     0.21  -0.02         0.16   1.00    0.99   -0.12   \n",
       "bkxiii          0.45     0.21  -0.01         0.18   0.99    1.00   -0.11   \n",
       "Union%          0.01    -0.03   0.06         0.03  -0.12   -0.11    1.00   \n",
       "No. Staff       0.74     0.92   0.74        -0.05   0.14    0.13   -0.02   \n",
       "HrsTrading     -0.09    -0.09  -0.05        -0.69  -0.33   -0.35   -0.04   \n",
       "Car Spaces      0.57     0.70   0.54         0.01   0.18    0.16   -0.03   \n",
       "Mng-Age        -0.22    -0.07  -0.05        -0.07  -0.33   -0.32    0.02   \n",
       "Mng-Exp         0.38     0.12   0.23        -0.18   0.27    0.26    0.04   \n",
       "Age (Yrs)      -0.12    -0.06  -0.01        -0.04  -0.25   -0.25    0.89   \n",
       "\n",
       "             No. Staff  HrsTrading  Car Spaces  Mng-Age  Mng-Exp  Age (Yrs)  \n",
       "salesmd           0.74       -0.09        0.57    -0.22     0.38      -0.12  \n",
       "wagesmd           0.92       -0.09        0.70    -0.07     0.12      -0.06  \n",
       "advkd             0.74       -0.05        0.54    -0.05     0.23      -0.01  \n",
       "GrossProfit      -0.05       -0.69        0.01    -0.07    -0.18      -0.04  \n",
       "bkxiv             0.14       -0.33        0.18    -0.33     0.27      -0.25  \n",
       "bkxiii            0.13       -0.35        0.16    -0.32     0.26      -0.25  \n",
       "Union%           -0.02       -0.04       -0.03     0.02     0.04       0.89  \n",
       "No. Staff         1.00        0.03        0.76    -0.00     0.10      -0.03  \n",
       "HrsTrading        0.03        1.00       -0.02     0.16     0.24       0.02  \n",
       "Car Spaces        0.76       -0.02        1.00    -0.03     0.06      -0.05  \n",
       "Mng-Age          -0.00        0.16       -0.03     1.00    -0.03       0.11  \n",
       "Mng-Exp           0.10        0.24        0.06    -0.03     1.00      -0.07  \n",
       "Age (Yrs)        -0.03        0.02       -0.05     0.11    -0.07       1.00  "
      ]
     },
     "execution_count": 58,
     "metadata": {},
     "output_type": "execute_result"
    }
   ],
   "source": [
    "#seeing correlation of numerical variables\n",
    "num_vars=['salesmd','wagesmd','advkd','GrossProfit','bkxiv','bkxiii','Union%','No. Staff','HrsTrading','Car Spaces','Mng-Age','Mng-Exp','Age (Yrs)']\n",
    "cordata =store[num_vars].corr()\n",
    "cordata.round(2)"
   ]
  },
  {
   "cell_type": "code",
   "execution_count": 59,
   "id": "5d632e71",
   "metadata": {},
   "outputs": [
    {
     "data": {
      "text/plain": [
       "<AxesSubplot:>"
      ]
     },
     "execution_count": 59,
     "metadata": {},
     "output_type": "execute_result"
    },
    {
     "data": {
      "image/png": "[encoded data removed]",
      "text/plain": [
       "<Figure size 432x288 with 2 Axes>"
      ]
     },
     "metadata": {
      "needs_background": "light"
     },
     "output_type": "display_data"
    }
   ],
   "source": [
    "#heatmap of correlation\n",
    "sb.heatmap(cordata, annot=True, cmap=\"Reds\")"
   ]
  },
  {
   "cell_type": "code",
   "execution_count": 60,
   "id": "055eb6db",
   "metadata": {},
   "outputs": [
    {
     "data": {
      "text/plain": [
       "<AxesSubplot:xlabel='Location', ylabel='salesmd'>"
      ]
     },
     "execution_count": 60,
     "metadata": {},
     "output_type": "execute_result"
    },
    {
     "data": {
      "image/png": "[encoded data removed]",
      "text/plain": [
       "<Figure size 432x288 with 1 Axes>"
      ]
     },
     "metadata": {
      "needs_background": "light"
     },
     "output_type": "display_data"
    }
   ],
   "source": [
    "#box plot for salesmd vs Location\n",
    "\n",
    "sb.boxplot(\"Location\", \"salesmd\", data=store)\n"
   ]
  },
  {
   "cell_type": "code",
   "execution_count": 61,
   "id": "91891f47",
   "metadata": {},
   "outputs": [
    {
     "data": {
      "text/html": [
       "<div>\n",
       "<style scoped>\n",
       "    .dataframe tbody tr th:only-of-type {\n",
       "        vertical-align: middle;\n",
       "    }\n",
       "\n",
       "    .dataframe tbody tr th {\n",
       "        vertical-align: top;\n",
       "    }\n",
       "\n",
       "    .dataframe thead th {\n",
       "        text-align: right;\n",
       "    }\n",
       "</style>\n",
       "<table border=\"1\" class=\"dataframe\">\n",
       "  <thead>\n",
       "    <tr style=\"text-align: right;\">\n",
       "      <th></th>\n",
       "      <th>df</th>\n",
       "      <th>sum_sq</th>\n",
       "      <th>mean_sq</th>\n",
       "      <th>F</th>\n",
       "      <th>PR(&gt;F)</th>\n",
       "    </tr>\n",
       "  </thead>\n",
       "  <tbody>\n",
       "    <tr>\n",
       "      <th>Location</th>\n",
       "      <td>2.0</td>\n",
       "      <td>410.866907</td>\n",
       "      <td>205.433454</td>\n",
       "      <td>20.278824</td>\n",
       "      <td>1.668853e-08</td>\n",
       "    </tr>\n",
       "    <tr>\n",
       "      <th>Residual</th>\n",
       "      <td>147.0</td>\n",
       "      <td>1489.175026</td>\n",
       "      <td>10.130442</td>\n",
       "      <td>NaN</td>\n",
       "      <td>NaN</td>\n",
       "    </tr>\n",
       "  </tbody>\n",
       "</table>\n",
       "</div>"
      ],
      "text/plain": [
       "             df       sum_sq     mean_sq          F        PR(>F)\n",
       "Location    2.0   410.866907  205.433454  20.278824  1.668853e-08\n",
       "Residual  147.0  1489.175026   10.130442        NaN           NaN"
      ]
     },
     "execution_count": 61,
     "metadata": {},
     "output_type": "execute_result"
    }
   ],
   "source": [
    "#checking if sales differs according to the Location\n",
    "mod = ols(\"salesmd ~ Location\", data=store).fit()\n",
    "anov_table = sm.stats.anova_lm(mod)\n",
    "anov_table"
   ]
  },
  {
   "cell_type": "code",
   "execution_count": 62,
   "id": "038685aa",
   "metadata": {},
   "outputs": [
    {
     "data": {
      "text/plain": [
       "<AxesSubplot:xlabel='State', ylabel='wagesmd'>"
      ]
     },
     "execution_count": 62,
     "metadata": {},
     "output_type": "execute_result"
    },
    {
     "data": {
      "image/png": "[encoded data removed]",
      "text/plain": [
       "<Figure size 432x288 with 1 Axes>"
      ]
     },
     "metadata": {
      "needs_background": "light"
     },
     "output_type": "display_data"
    }
   ],
   "source": [
    "#box plot for wagesmd vs State\n",
    "\n",
    "sb.boxplot(\"State\", \"wagesmd\", data=store)"
   ]
  },
  {
   "cell_type": "code",
   "execution_count": 63,
   "id": "ac4dffef",
   "metadata": {},
   "outputs": [
    {
     "data": {
      "text/html": [
       "<div>\n",
       "<style scoped>\n",
       "    .dataframe tbody tr th:only-of-type {\n",
       "        vertical-align: middle;\n",
       "    }\n",
       "\n",
       "    .dataframe tbody tr th {\n",
       "        vertical-align: top;\n",
       "    }\n",
       "\n",
       "    .dataframe thead th {\n",
       "        text-align: right;\n",
       "    }\n",
       "</style>\n",
       "<table border=\"1\" class=\"dataframe\">\n",
       "  <thead>\n",
       "    <tr style=\"text-align: right;\">\n",
       "      <th></th>\n",
       "      <th>df</th>\n",
       "      <th>sum_sq</th>\n",
       "      <th>mean_sq</th>\n",
       "      <th>F</th>\n",
       "      <th>PR(&gt;F)</th>\n",
       "    </tr>\n",
       "  </thead>\n",
       "  <tbody>\n",
       "    <tr>\n",
       "      <th>State</th>\n",
       "      <td>7.0</td>\n",
       "      <td>3.592253</td>\n",
       "      <td>0.513179</td>\n",
       "      <td>1.639178</td>\n",
       "      <td>0.129052</td>\n",
       "    </tr>\n",
       "    <tr>\n",
       "      <th>Residual</th>\n",
       "      <td>142.0</td>\n",
       "      <td>44.456080</td>\n",
       "      <td>0.313071</td>\n",
       "      <td>NaN</td>\n",
       "      <td>NaN</td>\n",
       "    </tr>\n",
       "  </tbody>\n",
       "</table>\n",
       "</div>"
      ],
      "text/plain": [
       "             df     sum_sq   mean_sq         F    PR(>F)\n",
       "State       7.0   3.592253  0.513179  1.639178  0.129052\n",
       "Residual  142.0  44.456080  0.313071       NaN       NaN"
      ]
     },
     "execution_count": 63,
     "metadata": {},
     "output_type": "execute_result"
    }
   ],
   "source": [
    "#checking if wages differs according to the State\n",
    "mod = ols(\"wagesmd ~ State\", data=store).fit()\n",
    "anov_table = sm.stats.anova_lm(mod)\n",
    "anov_table"
   ]
  },
  {
   "cell_type": "code",
   "execution_count": 64,
   "id": "8c71c1b4",
   "metadata": {},
   "outputs": [
    {
     "data": {
      "text/plain": [
       "<AxesSubplot:xlabel='State', ylabel='advkd'>"
      ]
     },
     "execution_count": 64,
     "metadata": {},
     "output_type": "execute_result"
    },
    {
     "data": {
      "image/png": "[encoded data removed]",
      "text/plain": [
       "<Figure size 432x288 with 1 Axes>"
      ]
     },
     "metadata": {
      "needs_background": "light"
     },
     "output_type": "display_data"
    }
   ],
   "source": [
    "#box plot for adv  budget vs State\n",
    "\n",
    "sb.boxplot(\"State\", \"advkd\", data=store)"
   ]
  },
  {
   "cell_type": "code",
   "execution_count": 65,
   "id": "d5ffd7e2",
   "metadata": {},
   "outputs": [
    {
     "data": {
      "text/html": [
       "<div>\n",
       "<style scoped>\n",
       "    .dataframe tbody tr th:only-of-type {\n",
       "        vertical-align: middle;\n",
       "    }\n",
       "\n",
       "    .dataframe tbody tr th {\n",
       "        vertical-align: top;\n",
       "    }\n",
       "\n",
       "    .dataframe thead th {\n",
       "        text-align: right;\n",
       "    }\n",
       "</style>\n",
       "<table border=\"1\" class=\"dataframe\">\n",
       "  <thead>\n",
       "    <tr style=\"text-align: right;\">\n",
       "      <th></th>\n",
       "      <th>df</th>\n",
       "      <th>sum_sq</th>\n",
       "      <th>mean_sq</th>\n",
       "      <th>F</th>\n",
       "      <th>PR(&gt;F)</th>\n",
       "    </tr>\n",
       "  </thead>\n",
       "  <tbody>\n",
       "    <tr>\n",
       "      <th>State</th>\n",
       "      <td>7.0</td>\n",
       "      <td>29613.434621</td>\n",
       "      <td>4230.490660</td>\n",
       "      <td>0.911237</td>\n",
       "      <td>0.499705</td>\n",
       "    </tr>\n",
       "    <tr>\n",
       "      <th>Residual</th>\n",
       "      <td>142.0</td>\n",
       "      <td>659246.358712</td>\n",
       "      <td>4642.579991</td>\n",
       "      <td>NaN</td>\n",
       "      <td>NaN</td>\n",
       "    </tr>\n",
       "  </tbody>\n",
       "</table>\n",
       "</div>"
      ],
      "text/plain": [
       "             df         sum_sq      mean_sq         F    PR(>F)\n",
       "State       7.0   29613.434621  4230.490660  0.911237  0.499705\n",
       "Residual  142.0  659246.358712  4642.579991       NaN       NaN"
      ]
     },
     "execution_count": 65,
     "metadata": {},
     "output_type": "execute_result"
    }
   ],
   "source": [
    "#checking if adv budget differs according to the State\n",
    "mod = ols(\"advkd ~ State\", data=store).fit()\n",
    "anov_table = sm.stats.anova_lm(mod)\n",
    "anov_table"
   ]
  },
  {
   "cell_type": "code",
   "execution_count": 66,
   "id": "616a04cd",
   "metadata": {},
   "outputs": [
    {
     "data": {
      "text/plain": [
       "<AxesSubplot:xlabel='State', ylabel='salesmd'>"
      ]
     },
     "execution_count": 66,
     "metadata": {},
     "output_type": "execute_result"
    },
    {
     "data": {
      "image/png": "[encoded data removed]",
      "text/plain": [
       "<Figure size 432x288 with 1 Axes>"
      ]
     },
     "metadata": {
      "needs_background": "light"
     },
     "output_type": "display_data"
    }
   ],
   "source": [
    "#box plot for salesmd vs State\n",
    "\n",
    "sb.boxplot(\"State\", \"salesmd\", data=store)"
   ]
  },
  {
   "cell_type": "code",
   "execution_count": 67,
   "id": "61f343f0",
   "metadata": {},
   "outputs": [
    {
     "data": {
      "text/html": [
       "<div>\n",
       "<style scoped>\n",
       "    .dataframe tbody tr th:only-of-type {\n",
       "        vertical-align: middle;\n",
       "    }\n",
       "\n",
       "    .dataframe tbody tr th {\n",
       "        vertical-align: top;\n",
       "    }\n",
       "\n",
       "    .dataframe thead th {\n",
       "        text-align: right;\n",
       "    }\n",
       "</style>\n",
       "<table border=\"1\" class=\"dataframe\">\n",
       "  <thead>\n",
       "    <tr style=\"text-align: right;\">\n",
       "      <th></th>\n",
       "      <th>df</th>\n",
       "      <th>sum_sq</th>\n",
       "      <th>mean_sq</th>\n",
       "      <th>F</th>\n",
       "      <th>PR(&gt;F)</th>\n",
       "    </tr>\n",
       "  </thead>\n",
       "  <tbody>\n",
       "    <tr>\n",
       "      <th>State</th>\n",
       "      <td>7.0</td>\n",
       "      <td>129.650789</td>\n",
       "      <td>18.521541</td>\n",
       "      <td>1.485581</td>\n",
       "      <td>0.176947</td>\n",
       "    </tr>\n",
       "    <tr>\n",
       "      <th>Residual</th>\n",
       "      <td>142.0</td>\n",
       "      <td>1770.391145</td>\n",
       "      <td>12.467543</td>\n",
       "      <td>NaN</td>\n",
       "      <td>NaN</td>\n",
       "    </tr>\n",
       "  </tbody>\n",
       "</table>\n",
       "</div>"
      ],
      "text/plain": [
       "             df       sum_sq    mean_sq         F    PR(>F)\n",
       "State       7.0   129.650789  18.521541  1.485581  0.176947\n",
       "Residual  142.0  1770.391145  12.467543       NaN       NaN"
      ]
     },
     "execution_count": 67,
     "metadata": {},
     "output_type": "execute_result"
    }
   ],
   "source": [
    "#checking if sales differs according to the State\n",
    "mod = ols(\"salesmd ~ State\", data=store).fit()\n",
    "anov_table = sm.stats.anova_lm(mod)\n",
    "anov_table"
   ]
  },
  {
   "cell_type": "code",
   "execution_count": 68,
   "id": "2bccfc6f",
   "metadata": {},
   "outputs": [
    {
     "data": {
      "text/plain": [
       "<AxesSubplot:xlabel='State', ylabel='GrossProfit'>"
      ]
     },
     "execution_count": 68,
     "metadata": {},
     "output_type": "execute_result"
    },
    {
     "data": {
      "image/png": "[encoded data removed]",
      "text/plain": [
       "<Figure size 432x288 with 1 Axes>"
      ]
     },
     "metadata": {
      "needs_background": "light"
     },
     "output_type": "display_data"
    }
   ],
   "source": [
    "#box plot for GrossProfit vs State\n",
    "\n",
    "sb.boxplot(\"State\", \"GrossProfit\", data=store)"
   ]
  },
  {
   "cell_type": "code",
   "execution_count": 69,
   "id": "e6a8d562",
   "metadata": {},
   "outputs": [
    {
     "data": {
      "text/html": [
       "<div>\n",
       "<style scoped>\n",
       "    .dataframe tbody tr th:only-of-type {\n",
       "        vertical-align: middle;\n",
       "    }\n",
       "\n",
       "    .dataframe tbody tr th {\n",
       "        vertical-align: top;\n",
       "    }\n",
       "\n",
       "    .dataframe thead th {\n",
       "        text-align: right;\n",
       "    }\n",
       "</style>\n",
       "<table border=\"1\" class=\"dataframe\">\n",
       "  <thead>\n",
       "    <tr style=\"text-align: right;\">\n",
       "      <th></th>\n",
       "      <th>df</th>\n",
       "      <th>sum_sq</th>\n",
       "      <th>mean_sq</th>\n",
       "      <th>F</th>\n",
       "      <th>PR(&gt;F)</th>\n",
       "    </tr>\n",
       "  </thead>\n",
       "  <tbody>\n",
       "    <tr>\n",
       "      <th>State</th>\n",
       "      <td>7.0</td>\n",
       "      <td>4.354289</td>\n",
       "      <td>0.622041</td>\n",
       "      <td>1.528566</td>\n",
       "      <td>0.162185</td>\n",
       "    </tr>\n",
       "    <tr>\n",
       "      <th>Residual</th>\n",
       "      <td>142.0</td>\n",
       "      <td>57.786110</td>\n",
       "      <td>0.406944</td>\n",
       "      <td>NaN</td>\n",
       "      <td>NaN</td>\n",
       "    </tr>\n",
       "  </tbody>\n",
       "</table>\n",
       "</div>"
      ],
      "text/plain": [
       "             df     sum_sq   mean_sq         F    PR(>F)\n",
       "State       7.0   4.354289  0.622041  1.528566  0.162185\n",
       "Residual  142.0  57.786110  0.406944       NaN       NaN"
      ]
     },
     "execution_count": 69,
     "metadata": {},
     "output_type": "execute_result"
    }
   ],
   "source": [
    "#checking if GrossProfit  differs according to the State\n",
    "mod = ols(\"GrossProfit  ~ State\", data=store).fit()\n",
    "anov_table = sm.stats.anova_lm(mod)\n",
    "anov_table"
   ]
  },
  {
   "cell_type": "code",
   "execution_count": 70,
   "id": "635c7f08",
   "metadata": {},
   "outputs": [
    {
     "data": {
      "text/plain": [
       "<AxesSubplot:xlabel='State', ylabel='HrsTrading'>"
      ]
     },
     "execution_count": 70,
     "metadata": {},
     "output_type": "execute_result"
    },
    {
     "data": {
      "image/png": "[encoded data removed]",
      "text/plain": [
       "<Figure size 432x288 with 1 Axes>"
      ]
     },
     "metadata": {
      "needs_background": "light"
     },
     "output_type": "display_data"
    }
   ],
   "source": [
    "#box plot for HrsTrading vs State\n",
    "\n",
    "sb.boxplot(\"State\", \"HrsTrading\", data=store)"
   ]
  },
  {
   "cell_type": "code",
   "execution_count": 71,
   "id": "ddb99255",
   "metadata": {},
   "outputs": [
    {
     "data": {
      "text/html": [
       "<div>\n",
       "<style scoped>\n",
       "    .dataframe tbody tr th:only-of-type {\n",
       "        vertical-align: middle;\n",
       "    }\n",
       "\n",
       "    .dataframe tbody tr th {\n",
       "        vertical-align: top;\n",
       "    }\n",
       "\n",
       "    .dataframe thead th {\n",
       "        text-align: right;\n",
       "    }\n",
       "</style>\n",
       "<table border=\"1\" class=\"dataframe\">\n",
       "  <thead>\n",
       "    <tr style=\"text-align: right;\">\n",
       "      <th></th>\n",
       "      <th>df</th>\n",
       "      <th>sum_sq</th>\n",
       "      <th>mean_sq</th>\n",
       "      <th>F</th>\n",
       "      <th>PR(&gt;F)</th>\n",
       "    </tr>\n",
       "  </thead>\n",
       "  <tbody>\n",
       "    <tr>\n",
       "      <th>State</th>\n",
       "      <td>7.0</td>\n",
       "      <td>8552.116810</td>\n",
       "      <td>1221.730973</td>\n",
       "      <td>2.313941</td>\n",
       "      <td>0.028983</td>\n",
       "    </tr>\n",
       "    <tr>\n",
       "      <th>Residual</th>\n",
       "      <td>142.0</td>\n",
       "      <td>74974.156524</td>\n",
       "      <td>527.987018</td>\n",
       "      <td>NaN</td>\n",
       "      <td>NaN</td>\n",
       "    </tr>\n",
       "  </tbody>\n",
       "</table>\n",
       "</div>"
      ],
      "text/plain": [
       "             df        sum_sq      mean_sq         F    PR(>F)\n",
       "State       7.0   8552.116810  1221.730973  2.313941  0.028983\n",
       "Residual  142.0  74974.156524   527.987018       NaN       NaN"
      ]
     },
     "execution_count": 71,
     "metadata": {},
     "output_type": "execute_result"
    }
   ],
   "source": [
    "#checking if HrsTrading  differs according to the State\n",
    "mod = ols(\"HrsTrading  ~ State\", data=store).fit()\n",
    "anov_table = sm.stats.anova_lm(mod)\n",
    "anov_table"
   ]
  },
  {
   "cell_type": "code",
   "execution_count": 72,
   "id": "5aee1539",
   "metadata": {},
   "outputs": [
    {
     "data": {
      "text/html": [
       "<div>\n",
       "<style scoped>\n",
       "    .dataframe tbody tr th:only-of-type {\n",
       "        vertical-align: middle;\n",
       "    }\n",
       "\n",
       "    .dataframe tbody tr th {\n",
       "        vertical-align: top;\n",
       "    }\n",
       "\n",
       "    .dataframe thead th {\n",
       "        text-align: right;\n",
       "    }\n",
       "</style>\n",
       "<table border=\"1\" class=\"dataframe\">\n",
       "  <thead>\n",
       "    <tr style=\"text-align: right;\">\n",
       "      <th>Location</th>\n",
       "      <th>Country</th>\n",
       "      <th>Mall</th>\n",
       "      <th>Strip</th>\n",
       "    </tr>\n",
       "    <tr>\n",
       "      <th>Mng-Sex (Num)</th>\n",
       "      <th></th>\n",
       "      <th></th>\n",
       "      <th></th>\n",
       "    </tr>\n",
       "  </thead>\n",
       "  <tbody>\n",
       "    <tr>\n",
       "      <th>0</th>\n",
       "      <td>1.006581</td>\n",
       "      <td>1.118640</td>\n",
       "      <td>1.040545</td>\n",
       "    </tr>\n",
       "    <tr>\n",
       "      <th>1</th>\n",
       "      <td>0.729000</td>\n",
       "      <td>0.840636</td>\n",
       "      <td>0.603286</td>\n",
       "    </tr>\n",
       "  </tbody>\n",
       "</table>\n",
       "</div>"
      ],
      "text/plain": [
       "Location        Country      Mall     Strip\n",
       "Mng-Sex (Num)                              \n",
       "0              1.006581  1.118640  1.040545\n",
       "1              0.729000  0.840636  0.603286"
      ]
     },
     "execution_count": 72,
     "metadata": {},
     "output_type": "execute_result"
    }
   ],
   "source": [
    "#Gender/location wise Profit\n",
    "store.pivot_table(values='GrossProfit',\n",
    "                 index='Mng-Sex (Num)',\n",
    "                 columns='Location', fill_value=0, aggfunc='mean')"
   ]
  },
  {
   "cell_type": "code",
   "execution_count": 73,
   "id": "25ffa946",
   "metadata": {},
   "outputs": [
    {
     "data": {
      "text/html": [
       "<div>\n",
       "<style scoped>\n",
       "    .dataframe tbody tr th:only-of-type {\n",
       "        vertical-align: middle;\n",
       "    }\n",
       "\n",
       "    .dataframe tbody tr th {\n",
       "        vertical-align: top;\n",
       "    }\n",
       "\n",
       "    .dataframe thead th {\n",
       "        text-align: right;\n",
       "    }\n",
       "</style>\n",
       "<table border=\"1\" class=\"dataframe\">\n",
       "  <thead>\n",
       "    <tr style=\"text-align: right;\">\n",
       "      <th>State</th>\n",
       "      <th>ACT</th>\n",
       "      <th>NSW</th>\n",
       "      <th>NT</th>\n",
       "      <th>Qld</th>\n",
       "      <th>SA</th>\n",
       "      <th>Tas</th>\n",
       "      <th>Vic</th>\n",
       "      <th>WA</th>\n",
       "    </tr>\n",
       "    <tr>\n",
       "      <th>Mng-Sex (Num)</th>\n",
       "      <th></th>\n",
       "      <th></th>\n",
       "      <th></th>\n",
       "      <th></th>\n",
       "      <th></th>\n",
       "      <th></th>\n",
       "      <th></th>\n",
       "      <th></th>\n",
       "    </tr>\n",
       "  </thead>\n",
       "  <tbody>\n",
       "    <tr>\n",
       "      <th>0</th>\n",
       "      <td>12.683333</td>\n",
       "      <td>11.564706</td>\n",
       "      <td>13.8</td>\n",
       "      <td>11.309524</td>\n",
       "      <td>10.283333</td>\n",
       "      <td>12.0</td>\n",
       "      <td>11.996154</td>\n",
       "      <td>14.016667</td>\n",
       "    </tr>\n",
       "    <tr>\n",
       "      <th>1</th>\n",
       "      <td>0.000000</td>\n",
       "      <td>11.433333</td>\n",
       "      <td>0.0</td>\n",
       "      <td>9.450000</td>\n",
       "      <td>11.975000</td>\n",
       "      <td>14.4</td>\n",
       "      <td>9.175000</td>\n",
       "      <td>12.350000</td>\n",
       "    </tr>\n",
       "  </tbody>\n",
       "</table>\n",
       "</div>"
      ],
      "text/plain": [
       "State                ACT        NSW    NT        Qld         SA   Tas  \\\n",
       "Mng-Sex (Num)                                                           \n",
       "0              12.683333  11.564706  13.8  11.309524  10.283333  12.0   \n",
       "1               0.000000  11.433333   0.0   9.450000  11.975000  14.4   \n",
       "\n",
       "State                Vic         WA  \n",
       "Mng-Sex (Num)                        \n",
       "0              11.996154  14.016667  \n",
       "1               9.175000  12.350000  "
      ]
     },
     "execution_count": 73,
     "metadata": {},
     "output_type": "execute_result"
    }
   ],
   "source": [
    "#Gender/State wise sales\n",
    "store.pivot_table(values='salesmd',\n",
    "                 index='Mng-Sex (Num)',\n",
    "                 columns='State', fill_value=0, aggfunc='mean')"
   ]
  },
  {
   "cell_type": "code",
   "execution_count": 74,
   "id": "971e06e6",
   "metadata": {},
   "outputs": [
    {
     "data": {
      "text/html": [
       "<div>\n",
       "<style scoped>\n",
       "    .dataframe tbody tr th:only-of-type {\n",
       "        vertical-align: middle;\n",
       "    }\n",
       "\n",
       "    .dataframe tbody tr th {\n",
       "        vertical-align: top;\n",
       "    }\n",
       "\n",
       "    .dataframe thead th {\n",
       "        text-align: right;\n",
       "    }\n",
       "</style>\n",
       "<table border=\"1\" class=\"dataframe\">\n",
       "  <thead>\n",
       "    <tr style=\"text-align: right;\">\n",
       "      <th>State</th>\n",
       "      <th>ACT</th>\n",
       "      <th>NSW</th>\n",
       "      <th>NT</th>\n",
       "      <th>Qld</th>\n",
       "      <th>SA</th>\n",
       "      <th>Tas</th>\n",
       "      <th>Vic</th>\n",
       "      <th>WA</th>\n",
       "    </tr>\n",
       "    <tr>\n",
       "      <th>Mng-Sex (Num)</th>\n",
       "      <th></th>\n",
       "      <th></th>\n",
       "      <th></th>\n",
       "      <th></th>\n",
       "      <th></th>\n",
       "      <th></th>\n",
       "      <th></th>\n",
       "      <th></th>\n",
       "    </tr>\n",
       "  </thead>\n",
       "  <tbody>\n",
       "    <tr>\n",
       "      <th>0</th>\n",
       "      <td>2.333333</td>\n",
       "      <td>2.314706</td>\n",
       "      <td>2.425</td>\n",
       "      <td>2.342857</td>\n",
       "      <td>2.622222</td>\n",
       "      <td>2.15</td>\n",
       "      <td>2.280769</td>\n",
       "      <td>2.658333</td>\n",
       "    </tr>\n",
       "    <tr>\n",
       "      <th>1</th>\n",
       "      <td>0.000000</td>\n",
       "      <td>2.283333</td>\n",
       "      <td>0.000</td>\n",
       "      <td>2.016667</td>\n",
       "      <td>2.850000</td>\n",
       "      <td>3.00</td>\n",
       "      <td>2.025000</td>\n",
       "      <td>2.400000</td>\n",
       "    </tr>\n",
       "  </tbody>\n",
       "</table>\n",
       "</div>"
      ],
      "text/plain": [
       "State               ACT       NSW     NT       Qld        SA   Tas       Vic  \\\n",
       "Mng-Sex (Num)                                                                  \n",
       "0              2.333333  2.314706  2.425  2.342857  2.622222  2.15  2.280769   \n",
       "1              0.000000  2.283333  0.000  2.016667  2.850000  3.00  2.025000   \n",
       "\n",
       "State                WA  \n",
       "Mng-Sex (Num)            \n",
       "0              2.658333  \n",
       "1              2.400000  "
      ]
     },
     "execution_count": 74,
     "metadata": {},
     "output_type": "execute_result"
    }
   ],
   "source": [
    "#Gender wage gap state wise\n",
    "store.pivot_table(values='wagesmd',\n",
    "                 index='Mng-Sex (Num)',\n",
    "                 columns='State', fill_value=0, aggfunc='mean')"
   ]
  },
  {
   "cell_type": "code",
   "execution_count": 75,
   "id": "2f0b83de",
   "metadata": {},
   "outputs": [
    {
     "data": {
      "text/html": [
       "<div>\n",
       "<style scoped>\n",
       "    .dataframe tbody tr th:only-of-type {\n",
       "        vertical-align: middle;\n",
       "    }\n",
       "\n",
       "    .dataframe tbody tr th {\n",
       "        vertical-align: top;\n",
       "    }\n",
       "\n",
       "    .dataframe thead th {\n",
       "        text-align: right;\n",
       "    }\n",
       "</style>\n",
       "<table border=\"1\" class=\"dataframe\">\n",
       "  <thead>\n",
       "    <tr style=\"text-align: right;\">\n",
       "      <th>State</th>\n",
       "      <th>ACT</th>\n",
       "      <th>NSW</th>\n",
       "      <th>NT</th>\n",
       "      <th>Qld</th>\n",
       "      <th>SA</th>\n",
       "      <th>Tas</th>\n",
       "      <th>Vic</th>\n",
       "      <th>WA</th>\n",
       "    </tr>\n",
       "    <tr>\n",
       "      <th>Mng-Sex (Num)</th>\n",
       "      <th></th>\n",
       "      <th></th>\n",
       "      <th></th>\n",
       "      <th></th>\n",
       "      <th></th>\n",
       "      <th></th>\n",
       "      <th></th>\n",
       "      <th></th>\n",
       "    </tr>\n",
       "  </thead>\n",
       "  <tbody>\n",
       "    <tr>\n",
       "      <th>0</th>\n",
       "      <td>37.333333</td>\n",
       "      <td>38.823529</td>\n",
       "      <td>39</td>\n",
       "      <td>38.428571</td>\n",
       "      <td>36.833333</td>\n",
       "      <td>34</td>\n",
       "      <td>38.038462</td>\n",
       "      <td>39.333333</td>\n",
       "    </tr>\n",
       "    <tr>\n",
       "      <th>1</th>\n",
       "      <td>0.000000</td>\n",
       "      <td>38.333333</td>\n",
       "      <td>0</td>\n",
       "      <td>33.333333</td>\n",
       "      <td>34.750000</td>\n",
       "      <td>36</td>\n",
       "      <td>40.000000</td>\n",
       "      <td>34.000000</td>\n",
       "    </tr>\n",
       "  </tbody>\n",
       "</table>\n",
       "</div>"
      ],
      "text/plain": [
       "State                ACT        NSW  NT        Qld         SA  Tas        Vic  \\\n",
       "Mng-Sex (Num)                                                                   \n",
       "0              37.333333  38.823529  39  38.428571  36.833333   34  38.038462   \n",
       "1               0.000000  38.333333   0  33.333333  34.750000   36  40.000000   \n",
       "\n",
       "State                 WA  \n",
       "Mng-Sex (Num)             \n",
       "0              39.333333  \n",
       "1              34.000000  "
      ]
     },
     "execution_count": 75,
     "metadata": {},
     "output_type": "execute_result"
    }
   ],
   "source": [
    "#Seeing  number of managers who are part of union state wise\n",
    "store.pivot_table(values='Union%',\n",
    "                 index='Mng-Sex (Num)',\n",
    "                 columns='State', fill_value=0, aggfunc='mean')"
   ]
  },
  {
   "cell_type": "code",
   "execution_count": 79,
   "id": "9ba305ec",
   "metadata": {},
   "outputs": [
    {
     "data": {
      "text/plain": [
       "'blue is no and yellow is yes'"
      ]
     },
     "execution_count": 79,
     "metadata": {},
     "output_type": "execute_result"
    },
    {
     "data": {
      "image/png": "[encoded data removed]",
      "text/plain": [
       "<Figure size 445x360 with 1 Axes>"
      ]
     },
     "metadata": {
      "needs_background": "light"
     },
     "output_type": "display_data"
    }
   ],
   "source": [
    "#Are sunday trading stores more revenue generating across states?\n",
    "sb.catplot(data=store, x=\"salesmd\", y='State', hue=\"Sundays (Num)\", kind=\"swarm\")\n",
    "plt.rcParams['figure.figsize'] = [50, 10]\n",
    "\n",
    "\"blue is no and yellow is yes\""
   ]
  },
  {
   "cell_type": "code",
   "execution_count": 77,
   "id": "b89f014b",
   "metadata": {},
   "outputs": [
    {
     "data": {
      "text/plain": [
       "'blue is no and yellow is yes'"
      ]
     },
     "execution_count": 77,
     "metadata": {},
     "output_type": "execute_result"
    },
    {
     "data": {
      "image/png": "[encoded data removed]",
      "text/plain": [
       "<Figure size 445x360 with 1 Axes>"
      ]
     },
     "metadata": {
      "needs_background": "light"
     },
     "output_type": "display_data"
    }
   ],
   "source": [
    "#Do sunday trading stores work more hours across Location?\n",
    "sb.catplot(data=store, x=\"HrsTrading\", y='Location', hue=\"Sundays (Num)\", kind=\"swarm\")\n",
    "plt.rcParams['figure.figsize'] = [50, 10]\n",
    "\n",
    "\"blue is no and yellow is yes\""
   ]
  },
  {
   "cell_type": "code",
   "execution_count": 100,
   "id": "f21212c4",
   "metadata": {},
   "outputs": [
    {
     "data": {
      "image/png": "[encoded data removed]",
      "text/plain": [
       "<Figure size 1224x504 with 1 Axes>"
      ]
     },
     "metadata": {},
     "output_type": "display_data"
    }
   ],
   "source": [
    "#What percentage stores are home delivery?\n",
    "delivery=store['HomeDel (Num)'].unique()\n",
    "numbers=store['HomeDel (Num)'].value_counts()\n",
    "\n",
    "#home delivery percentage\n",
    "plt.pie(numbers, labels = delivery, startangle = 75,autopct='%1.0f%%')\n",
    "plt.show()"
   ]
  },
  {
   "cell_type": "code",
   "execution_count": 101,
   "id": "753e902b",
   "metadata": {},
   "outputs": [
    {
     "data": {
      "image/png": "[encoded data removed]",
      "text/plain": [
       "<Figure size 1224x504 with 1 Axes>"
      ]
     },
     "metadata": {
      "needs_background": "light"
     },
     "output_type": "display_data"
    }
   ],
   "source": [
    "#which store type has most staff?\n",
    "staff=store['No. Staff']\n",
    "location=store['Location']\n",
    "\n",
    "#plotting survivors per hospital number\n",
    "plt.bar(location,staff)\n",
    "\n",
    "plt.title('which location needs more staff to operate?')\n",
    "plt.xlabel('Location type')\n",
    "plt.ylabel('number of workers')\n",
    "plt.rcParams['figure.figsize'] = [17, 7]\n",
    "plt.show()"
   ]
  },
  {
   "cell_type": "code",
   "execution_count": 98,
   "id": "ad60f0b8",
   "metadata": {},
   "outputs": [
    {
     "data": {
      "text/plain": [
       "([<matplotlib.patches.Wedge at 0x1dc25e139a0>,\n",
       "  <matplotlib.patches.Wedge at 0x1dc25e17370>,\n",
       "  <matplotlib.patches.Wedge at 0x1dc25e17d00>],\n",
       " [Text(-1.2636617362660532, 0.3815219735442036, 'Mall'),\n",
       "  Text(0.6115507765804128, -1.169788719241169, 'Country'),\n",
       "  Text(0.9431039278918859, 0.9235556188962831, 'Strip')],\n",
       " [Text(-0.6892700379633017, 0.20810289466047466, '41%'),\n",
       "  Text(0.3335731508620433, -0.6380665741315467, '34%'),\n",
       "  Text(0.514420324304665, 0.5037576103070635, '25%')])"
      ]
     },
     "execution_count": 98,
     "metadata": {},
     "output_type": "execute_result"
    },
    {
     "data": {
      "image/png": "[encoded data removed]",
      "text/plain": [
       "<Figure size 1224x504 with 1 Axes>"
      ]
     },
     "metadata": {},
     "output_type": "display_data"
    }
   ],
   "source": [
    "#which Location has more stores?\n",
    "\n",
    "loc=store['Location'].unique()\n",
    "number=store['Location'].value_counts()\n",
    "\n",
    "\n",
    "# color for each label\n",
    "colors = ['pink', 'yellow', 'silver']\n",
    "  \n",
    "# plotting the pie chart\n",
    "plt.pie(number, labels = \n",
    "loc, colors=colors, \n",
    "        startangle=90, shadow = True,\n",
    "        radius = 1.2, autopct = '%1.0f%%')"
   ]
  },
  {
   "cell_type": "code",
   "execution_count": 106,
   "id": "bca10e69",
   "metadata": {},
   "outputs": [
    {
     "data": {
      "text/plain": [
       "27     WA\n",
       "82    NSW\n",
       "25    Vic\n",
       "Name: State, dtype: object"
      ]
     },
     "execution_count": 106,
     "metadata": {},
     "output_type": "execute_result"
    }
   ],
   "source": [
    "#top 3 state by wage spend\n",
    "top3state=store.sort_values('wagesmd')['State'].head(3)\n",
    "top3state"
   ]
  },
  {
   "cell_type": "markdown",
   "id": "04565d1b",
   "metadata": {},
   "source": [
    "**Observations**\n",
    "\n",
    "Sales displays positive high correlation with wages ad budgetnumber of staff and moderately high with number of car spaces and manager experience\n",
    "\n",
    "Sales display mildly negative correlation with age of the store and manager age\n",
    "\n",
    "Country location has high sales\n",
    "\n",
    "SA state has high amount of wages spend and highest sales\n",
    "\n",
    "WA state has high amount of AD spend\n",
    "\n",
    "Profit is almost the same everywhere\n",
    "\n",
    "ACT state has more working hours for employees\n",
    "\n",
    "WA state has the highest wages \n",
    "\n",
    "Male managers are more profitable and generate more revenue\n",
    "\n",
    "There is no instance of gender pay gap\n",
    "\n",
    "Most of the stores do home delivery\n",
    "\n",
    "Most of the stores are located in Mall but Strip has the most workers\n",
    "\n",
    "Most of the stores trade on sunday and there is no difference of revenue/working hours between sunday operating/non operating stores across states/location types\n"
   ]
  },
  {
   "cell_type": "code",
   "execution_count": 112,
   "id": "f5e59d2e",
   "metadata": {},
   "outputs": [
    {
     "data": {
      "text/html": [
       "<div>\n",
       "<style scoped>\n",
       "    .dataframe tbody tr th:only-of-type {\n",
       "        vertical-align: middle;\n",
       "    }\n",
       "\n",
       "    .dataframe tbody tr th {\n",
       "        vertical-align: top;\n",
       "    }\n",
       "\n",
       "    .dataframe thead th {\n",
       "        text-align: right;\n",
       "    }\n",
       "</style>\n",
       "<table border=\"1\" class=\"dataframe\">\n",
       "  <thead>\n",
       "    <tr style=\"text-align: right;\">\n",
       "      <th></th>\n",
       "      <th>Store No.</th>\n",
       "      <th>salesmd</th>\n",
       "      <th>wagesmd</th>\n",
       "      <th>No. Staff</th>\n",
       "      <th>Loc'n (Num)</th>\n",
       "      <th>State (Num)</th>\n",
       "      <th>Age (Yrs)</th>\n",
       "      <th>GrossProfit</th>\n",
       "      <th>advkd</th>\n",
       "      <th>Competitors</th>\n",
       "      <th>...</th>\n",
       "      <th>Sundays (Num)</th>\n",
       "      <th>Mng-Sex (Num)</th>\n",
       "      <th>Mng-Age</th>\n",
       "      <th>Mng-Exp</th>\n",
       "      <th>Mng-Train</th>\n",
       "      <th>Union%</th>\n",
       "      <th>Car Spaces</th>\n",
       "      <th>HomeDel (Num)</th>\n",
       "      <th>bkxiii</th>\n",
       "      <th>bkxiv</th>\n",
       "    </tr>\n",
       "  </thead>\n",
       "  <tbody>\n",
       "    <tr>\n",
       "      <th>0</th>\n",
       "      <td>1</td>\n",
       "      <td>12.5</td>\n",
       "      <td>2.3</td>\n",
       "      <td>60</td>\n",
       "      <td>2</td>\n",
       "      <td>1</td>\n",
       "      <td>10</td>\n",
       "      <td>0.712</td>\n",
       "      <td>171</td>\n",
       "      <td>3</td>\n",
       "      <td>...</td>\n",
       "      <td>0</td>\n",
       "      <td>0</td>\n",
       "      <td>33</td>\n",
       "      <td>12</td>\n",
       "      <td>2</td>\n",
       "      <td>38</td>\n",
       "      <td>46</td>\n",
       "      <td>0</td>\n",
       "      <td>171</td>\n",
       "      <td>178</td>\n",
       "    </tr>\n",
       "    <tr>\n",
       "      <th>1</th>\n",
       "      <td>2</td>\n",
       "      <td>14.5</td>\n",
       "      <td>2.7</td>\n",
       "      <td>69</td>\n",
       "      <td>2</td>\n",
       "      <td>2</td>\n",
       "      <td>8</td>\n",
       "      <td>0.091</td>\n",
       "      <td>213</td>\n",
       "      <td>5</td>\n",
       "      <td>...</td>\n",
       "      <td>0</td>\n",
       "      <td>0</td>\n",
       "      <td>33</td>\n",
       "      <td>16</td>\n",
       "      <td>1</td>\n",
       "      <td>38</td>\n",
       "      <td>73</td>\n",
       "      <td>0</td>\n",
       "      <td>168</td>\n",
       "      <td>178</td>\n",
       "    </tr>\n",
       "    <tr>\n",
       "      <th>2</th>\n",
       "      <td>3</td>\n",
       "      <td>19.0</td>\n",
       "      <td>3.1</td>\n",
       "      <td>79</td>\n",
       "      <td>3</td>\n",
       "      <td>2</td>\n",
       "      <td>7</td>\n",
       "      <td>1.075</td>\n",
       "      <td>255</td>\n",
       "      <td>2</td>\n",
       "      <td>...</td>\n",
       "      <td>1</td>\n",
       "      <td>0</td>\n",
       "      <td>30</td>\n",
       "      <td>9</td>\n",
       "      <td>2</td>\n",
       "      <td>39</td>\n",
       "      <td>64</td>\n",
       "      <td>0</td>\n",
       "      <td>180</td>\n",
       "      <td>188</td>\n",
       "    </tr>\n",
       "    <tr>\n",
       "      <th>3</th>\n",
       "      <td>4</td>\n",
       "      <td>18.2</td>\n",
       "      <td>2.6</td>\n",
       "      <td>66</td>\n",
       "      <td>2</td>\n",
       "      <td>3</td>\n",
       "      <td>7</td>\n",
       "      <td>1.372</td>\n",
       "      <td>287</td>\n",
       "      <td>1</td>\n",
       "      <td>...</td>\n",
       "      <td>1</td>\n",
       "      <td>0</td>\n",
       "      <td>29</td>\n",
       "      <td>9</td>\n",
       "      <td>2</td>\n",
       "      <td>38</td>\n",
       "      <td>66</td>\n",
       "      <td>1</td>\n",
       "      <td>173</td>\n",
       "      <td>180</td>\n",
       "    </tr>\n",
       "    <tr>\n",
       "      <th>4</th>\n",
       "      <td>5</td>\n",
       "      <td>7.6</td>\n",
       "      <td>2.0</td>\n",
       "      <td>51</td>\n",
       "      <td>1</td>\n",
       "      <td>3</td>\n",
       "      <td>15</td>\n",
       "      <td>2.148</td>\n",
       "      <td>112</td>\n",
       "      <td>0</td>\n",
       "      <td>...</td>\n",
       "      <td>1</td>\n",
       "      <td>0</td>\n",
       "      <td>36</td>\n",
       "      <td>4</td>\n",
       "      <td>3</td>\n",
       "      <td>40</td>\n",
       "      <td>29</td>\n",
       "      <td>0</td>\n",
       "      <td>166</td>\n",
       "      <td>171</td>\n",
       "    </tr>\n",
       "    <tr>\n",
       "      <th>...</th>\n",
       "      <td>...</td>\n",
       "      <td>...</td>\n",
       "      <td>...</td>\n",
       "      <td>...</td>\n",
       "      <td>...</td>\n",
       "      <td>...</td>\n",
       "      <td>...</td>\n",
       "      <td>...</td>\n",
       "      <td>...</td>\n",
       "      <td>...</td>\n",
       "      <td>...</td>\n",
       "      <td>...</td>\n",
       "      <td>...</td>\n",
       "      <td>...</td>\n",
       "      <td>...</td>\n",
       "      <td>...</td>\n",
       "      <td>...</td>\n",
       "      <td>...</td>\n",
       "      <td>...</td>\n",
       "      <td>...</td>\n",
       "      <td>...</td>\n",
       "    </tr>\n",
       "    <tr>\n",
       "      <th>145</th>\n",
       "      <td>146</td>\n",
       "      <td>14.1</td>\n",
       "      <td>3.3</td>\n",
       "      <td>88</td>\n",
       "      <td>1</td>\n",
       "      <td>4</td>\n",
       "      <td>5</td>\n",
       "      <td>0.504</td>\n",
       "      <td>253</td>\n",
       "      <td>4</td>\n",
       "      <td>...</td>\n",
       "      <td>1</td>\n",
       "      <td>1</td>\n",
       "      <td>42</td>\n",
       "      <td>9</td>\n",
       "      <td>3</td>\n",
       "      <td>35</td>\n",
       "      <td>63</td>\n",
       "      <td>0</td>\n",
       "      <td>163</td>\n",
       "      <td>172</td>\n",
       "    </tr>\n",
       "    <tr>\n",
       "      <th>146</th>\n",
       "      <td>147</td>\n",
       "      <td>8.1</td>\n",
       "      <td>1.7</td>\n",
       "      <td>58</td>\n",
       "      <td>3</td>\n",
       "      <td>1</td>\n",
       "      <td>19</td>\n",
       "      <td>0.447</td>\n",
       "      <td>20</td>\n",
       "      <td>4</td>\n",
       "      <td>...</td>\n",
       "      <td>0</td>\n",
       "      <td>0</td>\n",
       "      <td>43</td>\n",
       "      <td>12</td>\n",
       "      <td>3</td>\n",
       "      <td>42</td>\n",
       "      <td>35</td>\n",
       "      <td>0</td>\n",
       "      <td>178</td>\n",
       "      <td>186</td>\n",
       "    </tr>\n",
       "    <tr>\n",
       "      <th>147</th>\n",
       "      <td>148</td>\n",
       "      <td>13.6</td>\n",
       "      <td>2.9</td>\n",
       "      <td>66</td>\n",
       "      <td>1</td>\n",
       "      <td>5</td>\n",
       "      <td>17</td>\n",
       "      <td>2.620</td>\n",
       "      <td>103</td>\n",
       "      <td>2</td>\n",
       "      <td>...</td>\n",
       "      <td>0</td>\n",
       "      <td>0</td>\n",
       "      <td>39</td>\n",
       "      <td>8</td>\n",
       "      <td>3</td>\n",
       "      <td>45</td>\n",
       "      <td>48</td>\n",
       "      <td>0</td>\n",
       "      <td>166</td>\n",
       "      <td>172</td>\n",
       "    </tr>\n",
       "    <tr>\n",
       "      <th>148</th>\n",
       "      <td>149</td>\n",
       "      <td>10.0</td>\n",
       "      <td>2.0</td>\n",
       "      <td>55</td>\n",
       "      <td>2</td>\n",
       "      <td>5</td>\n",
       "      <td>8</td>\n",
       "      <td>1.168</td>\n",
       "      <td>120</td>\n",
       "      <td>3</td>\n",
       "      <td>...</td>\n",
       "      <td>0</td>\n",
       "      <td>0</td>\n",
       "      <td>52</td>\n",
       "      <td>13</td>\n",
       "      <td>3</td>\n",
       "      <td>40</td>\n",
       "      <td>34</td>\n",
       "      <td>0</td>\n",
       "      <td>174</td>\n",
       "      <td>182</td>\n",
       "    </tr>\n",
       "    <tr>\n",
       "      <th>149</th>\n",
       "      <td>150</td>\n",
       "      <td>11.6</td>\n",
       "      <td>2.2</td>\n",
       "      <td>60</td>\n",
       "      <td>3</td>\n",
       "      <td>8</td>\n",
       "      <td>9</td>\n",
       "      <td>0.032</td>\n",
       "      <td>102</td>\n",
       "      <td>5</td>\n",
       "      <td>...</td>\n",
       "      <td>1</td>\n",
       "      <td>0</td>\n",
       "      <td>35</td>\n",
       "      <td>8</td>\n",
       "      <td>2</td>\n",
       "      <td>39</td>\n",
       "      <td>37</td>\n",
       "      <td>1</td>\n",
       "      <td>178</td>\n",
       "      <td>185</td>\n",
       "    </tr>\n",
       "  </tbody>\n",
       "</table>\n",
       "<p>150 rows × 21 columns</p>\n",
       "</div>"
      ],
      "text/plain": [
       "     Store No.  salesmd  wagesmd  No. Staff  Loc'n (Num)  State (Num)  \\\n",
       "0            1     12.5      2.3         60            2            1   \n",
       "1            2     14.5      2.7         69            2            2   \n",
       "2            3     19.0      3.1         79            3            2   \n",
       "3            4     18.2      2.6         66            2            3   \n",
       "4            5      7.6      2.0         51            1            3   \n",
       "..         ...      ...      ...        ...          ...          ...   \n",
       "145        146     14.1      3.3         88            1            4   \n",
       "146        147      8.1      1.7         58            3            1   \n",
       "147        148     13.6      2.9         66            1            5   \n",
       "148        149     10.0      2.0         55            2            5   \n",
       "149        150     11.6      2.2         60            3            8   \n",
       "\n",
       "     Age (Yrs)  GrossProfit  advkd  Competitors  ...  Sundays (Num)  \\\n",
       "0           10        0.712    171            3  ...              0   \n",
       "1            8        0.091    213            5  ...              0   \n",
       "2            7        1.075    255            2  ...              1   \n",
       "3            7        1.372    287            1  ...              1   \n",
       "4           15        2.148    112            0  ...              1   \n",
       "..         ...          ...    ...          ...  ...            ...   \n",
       "145          5        0.504    253            4  ...              1   \n",
       "146         19        0.447     20            4  ...              0   \n",
       "147         17        2.620    103            2  ...              0   \n",
       "148          8        1.168    120            3  ...              0   \n",
       "149          9        0.032    102            5  ...              1   \n",
       "\n",
       "     Mng-Sex (Num)  Mng-Age  Mng-Exp  Mng-Train  Union%  Car Spaces  \\\n",
       "0                0       33       12          2      38          46   \n",
       "1                0       33       16          1      38          73   \n",
       "2                0       30        9          2      39          64   \n",
       "3                0       29        9          2      38          66   \n",
       "4                0       36        4          3      40          29   \n",
       "..             ...      ...      ...        ...     ...         ...   \n",
       "145              1       42        9          3      35          63   \n",
       "146              0       43       12          3      42          35   \n",
       "147              0       39        8          3      45          48   \n",
       "148              0       52       13          3      40          34   \n",
       "149              0       35        8          2      39          37   \n",
       "\n",
       "     HomeDel (Num)  bkxiii  bkxiv  \n",
       "0                0     171    178  \n",
       "1                0     168    178  \n",
       "2                0     180    188  \n",
       "3                1     173    180  \n",
       "4                0     166    171  \n",
       "..             ...     ...    ...  \n",
       "145              0     163    172  \n",
       "146              0     178    186  \n",
       "147              0     166    172  \n",
       "148              0     174    182  \n",
       "149              1     178    185  \n",
       "\n",
       "[150 rows x 21 columns]"
      ]
     },
     "execution_count": 112,
     "metadata": {},
     "output_type": "execute_result"
    }
   ],
   "source": [
    "#dropping useless columns\n",
    "store=store.drop(['Location','State'],axis=1)\n",
    "store"
   ]
  },
  {
   "cell_type": "code",
   "execution_count": 113,
   "id": "e101b664",
   "metadata": {},
   "outputs": [],
   "source": [
    "#train test split\n",
    "df_train, df_test = train_test_split(store, train_size = 0.7, random_state = 100)"
   ]
  },
  {
   "cell_type": "code",
   "execution_count": 114,
   "id": "3dbeba26",
   "metadata": {},
   "outputs": [],
   "source": [
    "#separation of X and Y \n",
    "y_train = df_train.pop(\"salesmd\")\n",
    "X_train = df_train\n",
    "\n",
    "y_test = df_test.pop(\"salesmd\")\n",
    "X_test = df_test\n"
   ]
  },
  {
   "cell_type": "code",
   "execution_count": 115,
   "id": "adf3e40a",
   "metadata": {},
   "outputs": [
    {
     "data": {
      "text/plain": [
       "LinearRegression()"
      ]
     },
     "execution_count": 115,
     "metadata": {},
     "output_type": "execute_result"
    }
   ],
   "source": [
    "#initializing model and fitting \n",
    "lr = LinearRegression()\n",
    "lr.fit(X_train, y_train)\n"
   ]
  },
  {
   "cell_type": "code",
   "execution_count": 116,
   "id": "824fca72",
   "metadata": {},
   "outputs": [
    {
     "data": {
      "text/plain": [
       "0.97"
      ]
     },
     "execution_count": 116,
     "metadata": {},
     "output_type": "execute_result"
    }
   ],
   "source": [
    "#Reporting R2 \n",
    "\n",
    "y_train_pred= lr.predict(X_train)\n",
    "r2_score(y_train, y_train_pred).round(2)\n"
   ]
  },
  {
   "cell_type": "code",
   "execution_count": 117,
   "id": "6a886097",
   "metadata": {},
   "outputs": [
    {
     "data": {
      "text/plain": [
       "0.96"
      ]
     },
     "execution_count": 117,
     "metadata": {},
     "output_type": "execute_result"
    }
   ],
   "source": [
    "#prediction on test set\n",
    "y_test_pred= lr.predict(X_test)\n",
    "r2_score(y_test, y_test_pred).round(2)"
   ]
  },
  {
   "cell_type": "code",
   "execution_count": 118,
   "id": "207b9f88",
   "metadata": {},
   "outputs": [
    {
     "data": {
      "text/plain": [
       "<matplotlib.collections.PathCollection at 0x1dc27d81ac0>"
      ]
     },
     "execution_count": 118,
     "metadata": {},
     "output_type": "execute_result"
    },
    {
     "data": {
      "image/png": "[encoded data removed]",
      "text/plain": [
       "<Figure size 1224x504 with 1 Axes>"
      ]
     },
     "metadata": {
      "needs_background": "light"
     },
     "output_type": "display_data"
    }
   ],
   "source": [
    "# Actual v predictions scatter\n",
    "plt.scatter(y_test,y_test_pred)"
   ]
  },
  {
   "cell_type": "code",
   "execution_count": 119,
   "id": "860a72e4",
   "metadata": {},
   "outputs": [
    {
     "data": {
      "text/plain": [
       "<AxesSubplot:xlabel='salesmd', ylabel='Density'>"
      ]
     },
     "execution_count": 119,
     "metadata": {},
     "output_type": "execute_result"
    },
    {
     "data": {
      "image/png": "[encoded data removed]",
      "text/plain": [
       "<Figure size 1224x504 with 1 Axes>"
      ]
     },
     "metadata": {
      "needs_background": "light"
     },
     "output_type": "display_data"
    }
   ],
   "source": [
    "# Histogram of the distribution of residuals\n",
    "sb.distplot((y_test - y_test_pred))"
   ]
  },
  {
   "cell_type": "code",
   "execution_count": 120,
   "id": "60de5883",
   "metadata": {},
   "outputs": [
    {
     "data": {
      "text/html": [
       "<div>\n",
       "<style scoped>\n",
       "    .dataframe tbody tr th:only-of-type {\n",
       "        vertical-align: middle;\n",
       "    }\n",
       "\n",
       "    .dataframe tbody tr th {\n",
       "        vertical-align: top;\n",
       "    }\n",
       "\n",
       "    .dataframe thead th {\n",
       "        text-align: right;\n",
       "    }\n",
       "</style>\n",
       "<table border=\"1\" class=\"dataframe\">\n",
       "  <thead>\n",
       "    <tr style=\"text-align: right;\">\n",
       "      <th></th>\n",
       "      <th>Coefficients</th>\n",
       "    </tr>\n",
       "  </thead>\n",
       "  <tbody>\n",
       "    <tr>\n",
       "      <th>Store No.</th>\n",
       "      <td>0.002420</td>\n",
       "    </tr>\n",
       "    <tr>\n",
       "      <th>wagesmd</th>\n",
       "      <td>0.739065</td>\n",
       "    </tr>\n",
       "    <tr>\n",
       "      <th>No. Staff</th>\n",
       "      <td>0.004393</td>\n",
       "    </tr>\n",
       "    <tr>\n",
       "      <th>Loc'n (Num)</th>\n",
       "      <td>1.773015</td>\n",
       "    </tr>\n",
       "    <tr>\n",
       "      <th>State (Num)</th>\n",
       "      <td>-0.013535</td>\n",
       "    </tr>\n",
       "    <tr>\n",
       "      <th>Age (Yrs)</th>\n",
       "      <td>0.022215</td>\n",
       "    </tr>\n",
       "    <tr>\n",
       "      <th>GrossProfit</th>\n",
       "      <td>0.722451</td>\n",
       "    </tr>\n",
       "    <tr>\n",
       "      <th>advkd</th>\n",
       "      <td>0.040306</td>\n",
       "    </tr>\n",
       "    <tr>\n",
       "      <th>Competitors</th>\n",
       "      <td>0.293384</td>\n",
       "    </tr>\n",
       "    <tr>\n",
       "      <th>HrsTrading</th>\n",
       "      <td>-0.002322</td>\n",
       "    </tr>\n",
       "    <tr>\n",
       "      <th>Sundays (Num)</th>\n",
       "      <td>-0.162493</td>\n",
       "    </tr>\n",
       "    <tr>\n",
       "      <th>Mng-Sex (Num)</th>\n",
       "      <td>-0.158185</td>\n",
       "    </tr>\n",
       "    <tr>\n",
       "      <th>Mng-Age</th>\n",
       "      <td>-0.002726</td>\n",
       "    </tr>\n",
       "    <tr>\n",
       "      <th>Mng-Exp</th>\n",
       "      <td>0.019384</td>\n",
       "    </tr>\n",
       "    <tr>\n",
       "      <th>Mng-Train</th>\n",
       "      <td>-0.038465</td>\n",
       "    </tr>\n",
       "    <tr>\n",
       "      <th>Union%</th>\n",
       "      <td>-0.007423</td>\n",
       "    </tr>\n",
       "    <tr>\n",
       "      <th>Car Spaces</th>\n",
       "      <td>-0.000375</td>\n",
       "    </tr>\n",
       "    <tr>\n",
       "      <th>HomeDel (Num)</th>\n",
       "      <td>0.049924</td>\n",
       "    </tr>\n",
       "    <tr>\n",
       "      <th>bkxiii</th>\n",
       "      <td>-0.011707</td>\n",
       "    </tr>\n",
       "    <tr>\n",
       "      <th>bkxiv</th>\n",
       "      <td>0.053335</td>\n",
       "    </tr>\n",
       "  </tbody>\n",
       "</table>\n",
       "</div>"
      ],
      "text/plain": [
       "               Coefficients\n",
       "Store No.          0.002420\n",
       "wagesmd            0.739065\n",
       "No. Staff          0.004393\n",
       "Loc'n (Num)        1.773015\n",
       "State (Num)       -0.013535\n",
       "Age (Yrs)          0.022215\n",
       "GrossProfit        0.722451\n",
       "advkd              0.040306\n",
       "Competitors        0.293384\n",
       "HrsTrading        -0.002322\n",
       "Sundays (Num)     -0.162493\n",
       "Mng-Sex (Num)     -0.158185\n",
       "Mng-Age           -0.002726\n",
       "Mng-Exp            0.019384\n",
       "Mng-Train         -0.038465\n",
       "Union%            -0.007423\n",
       "Car Spaces        -0.000375\n",
       "HomeDel (Num)      0.049924\n",
       "bkxiii            -0.011707\n",
       "bkxiv              0.053335"
      ]
     },
     "execution_count": 120,
     "metadata": {},
     "output_type": "execute_result"
    }
   ],
   "source": [
    "#coefficients \n",
    "cdf = pd.DataFrame(data = lr.coef_, index = X_train.columns, columns = ['Coefficients'])\n",
    "cdf"
   ]
  },
  {
   "cell_type": "code",
   "execution_count": 121,
   "id": "218cacde",
   "metadata": {},
   "outputs": [
    {
     "data": {
      "text/plain": [
       "array([11., 18., 11.,  9., 15., 13.,  8., 15.,  9., 16.])"
      ]
     },
     "execution_count": 121,
     "metadata": {},
     "output_type": "execute_result"
    }
   ],
   "source": [
    "#seeing predicted values\n",
    "y_test_pred[0:10].round()"
   ]
  },
  {
   "cell_type": "code",
   "execution_count": 123,
   "id": "748ee38c",
   "metadata": {},
   "outputs": [
    {
     "name": "stdout",
     "output_type": "stream",
     "text": [
      "The mean square error of sale and predicted value is:  0.485474566832908\n"
     ]
    }
   ],
   "source": [
    "mse = mean_squared_error(y_test,y_test_pred)\n",
    "print('The mean square error of sale and predicted value is: ', mse)"
   ]
  },
  {
   "cell_type": "code",
   "execution_count": 135,
   "id": "f70e081f",
   "metadata": {},
   "outputs": [],
   "source": [
    "# create a regressor object\n",
    "regressor = DecisionTreeRegressor(random_state = 0) \n",
    "  \n"
   ]
  },
  {
   "cell_type": "code",
   "execution_count": 126,
   "id": "671938f6",
   "metadata": {},
   "outputs": [
    {
     "data": {
      "text/plain": [
       "DecisionTreeRegressor(random_state=0)"
      ]
     },
     "execution_count": 126,
     "metadata": {},
     "output_type": "execute_result"
    }
   ],
   "source": [
    "# fit the regressor with X and Y data\n",
    "regressor.fit(X_train, y_train)"
   ]
  },
  {
   "cell_type": "code",
   "execution_count": 127,
   "id": "0c8eaba6",
   "metadata": {},
   "outputs": [],
   "source": [
    "#regressor predict\n",
    "y_pred = regressor.predict(X_test)"
   ]
  },
  {
   "cell_type": "code",
   "execution_count": 128,
   "id": "48bcd0b7",
   "metadata": {},
   "outputs": [
    {
     "data": {
      "text/plain": [
       "0.96"
      ]
     },
     "execution_count": 128,
     "metadata": {},
     "output_type": "execute_result"
    }
   ],
   "source": [
    "#seeing R2 score\n",
    "r2_score(y_test, y_test_pred).round(2)"
   ]
  },
  {
   "cell_type": "code",
   "execution_count": 129,
   "id": "2ace83bc",
   "metadata": {},
   "outputs": [
    {
     "data": {
      "text/plain": [
       "0.88"
      ]
     },
     "execution_count": 129,
     "metadata": {},
     "output_type": "execute_result"
    }
   ],
   "source": [
    "#prediction on test set\n",
    "y_test_pred= regressor.predict(X_test)\n",
    "r2_score(y_test, y_test_pred).round(2)"
   ]
  },
  {
   "cell_type": "code",
   "execution_count": 130,
   "id": "4fbf027a",
   "metadata": {},
   "outputs": [
    {
     "data": {
      "text/plain": [
       "<matplotlib.collections.PathCollection at 0x1dc2826b400>"
      ]
     },
     "execution_count": 130,
     "metadata": {},
     "output_type": "execute_result"
    },
    {
     "data": {
      "image/png": "[encoded data removed]",
      "text/plain": [
       "<Figure size 432x288 with 1 Axes>"
      ]
     },
     "metadata": {
      "needs_background": "light"
     },
     "output_type": "display_data"
    }
   ],
   "source": [
    "# Actual v predictions scatter\n",
    "plt.scatter(y_test,y_test_pred)"
   ]
  },
  {
   "cell_type": "code",
   "execution_count": 131,
   "id": "c485275b",
   "metadata": {},
   "outputs": [
    {
     "data": {
      "text/plain": [
       "<AxesSubplot:xlabel='salesmd', ylabel='Density'>"
      ]
     },
     "execution_count": 131,
     "metadata": {},
     "output_type": "execute_result"
    },
    {
     "data": {
      "image/png": "[encoded data removed]",
      "text/plain": [
       "<Figure size 432x288 with 1 Axes>"
      ]
     },
     "metadata": {
      "needs_background": "light"
     },
     "output_type": "display_data"
    }
   ],
   "source": [
    "# Histogram of the distribution of residuals\n",
    "sb.distplot((y_test - y_test_pred))"
   ]
  },
  {
   "cell_type": "code",
   "execution_count": 132,
   "id": "baf80d4f",
   "metadata": {},
   "outputs": [
    {
     "data": {
      "text/html": [
       "<div>\n",
       "<style scoped>\n",
       "    .dataframe tbody tr th:only-of-type {\n",
       "        vertical-align: middle;\n",
       "    }\n",
       "\n",
       "    .dataframe tbody tr th {\n",
       "        vertical-align: top;\n",
       "    }\n",
       "\n",
       "    .dataframe thead th {\n",
       "        text-align: right;\n",
       "    }\n",
       "</style>\n",
       "<table border=\"1\" class=\"dataframe\">\n",
       "  <thead>\n",
       "    <tr style=\"text-align: right;\">\n",
       "      <th></th>\n",
       "      <th>Coefficients</th>\n",
       "    </tr>\n",
       "  </thead>\n",
       "  <tbody>\n",
       "    <tr>\n",
       "      <th>Store No.</th>\n",
       "      <td>0.002420</td>\n",
       "    </tr>\n",
       "    <tr>\n",
       "      <th>wagesmd</th>\n",
       "      <td>0.739065</td>\n",
       "    </tr>\n",
       "    <tr>\n",
       "      <th>No. Staff</th>\n",
       "      <td>0.004393</td>\n",
       "    </tr>\n",
       "    <tr>\n",
       "      <th>Loc'n (Num)</th>\n",
       "      <td>1.773015</td>\n",
       "    </tr>\n",
       "    <tr>\n",
       "      <th>State (Num)</th>\n",
       "      <td>-0.013535</td>\n",
       "    </tr>\n",
       "    <tr>\n",
       "      <th>Age (Yrs)</th>\n",
       "      <td>0.022215</td>\n",
       "    </tr>\n",
       "    <tr>\n",
       "      <th>GrossProfit</th>\n",
       "      <td>0.722451</td>\n",
       "    </tr>\n",
       "    <tr>\n",
       "      <th>advkd</th>\n",
       "      <td>0.040306</td>\n",
       "    </tr>\n",
       "    <tr>\n",
       "      <th>Competitors</th>\n",
       "      <td>0.293384</td>\n",
       "    </tr>\n",
       "    <tr>\n",
       "      <th>HrsTrading</th>\n",
       "      <td>-0.002322</td>\n",
       "    </tr>\n",
       "    <tr>\n",
       "      <th>Sundays (Num)</th>\n",
       "      <td>-0.162493</td>\n",
       "    </tr>\n",
       "    <tr>\n",
       "      <th>Mng-Sex (Num)</th>\n",
       "      <td>-0.158185</td>\n",
       "    </tr>\n",
       "    <tr>\n",
       "      <th>Mng-Age</th>\n",
       "      <td>-0.002726</td>\n",
       "    </tr>\n",
       "    <tr>\n",
       "      <th>Mng-Exp</th>\n",
       "      <td>0.019384</td>\n",
       "    </tr>\n",
       "    <tr>\n",
       "      <th>Mng-Train</th>\n",
       "      <td>-0.038465</td>\n",
       "    </tr>\n",
       "    <tr>\n",
       "      <th>Union%</th>\n",
       "      <td>-0.007423</td>\n",
       "    </tr>\n",
       "    <tr>\n",
       "      <th>Car Spaces</th>\n",
       "      <td>-0.000375</td>\n",
       "    </tr>\n",
       "    <tr>\n",
       "      <th>HomeDel (Num)</th>\n",
       "      <td>0.049924</td>\n",
       "    </tr>\n",
       "    <tr>\n",
       "      <th>bkxiii</th>\n",
       "      <td>-0.011707</td>\n",
       "    </tr>\n",
       "    <tr>\n",
       "      <th>bkxiv</th>\n",
       "      <td>0.053335</td>\n",
       "    </tr>\n",
       "  </tbody>\n",
       "</table>\n",
       "</div>"
      ],
      "text/plain": [
       "               Coefficients\n",
       "Store No.          0.002420\n",
       "wagesmd            0.739065\n",
       "No. Staff          0.004393\n",
       "Loc'n (Num)        1.773015\n",
       "State (Num)       -0.013535\n",
       "Age (Yrs)          0.022215\n",
       "GrossProfit        0.722451\n",
       "advkd              0.040306\n",
       "Competitors        0.293384\n",
       "HrsTrading        -0.002322\n",
       "Sundays (Num)     -0.162493\n",
       "Mng-Sex (Num)     -0.158185\n",
       "Mng-Age           -0.002726\n",
       "Mng-Exp            0.019384\n",
       "Mng-Train         -0.038465\n",
       "Union%            -0.007423\n",
       "Car Spaces        -0.000375\n",
       "HomeDel (Num)      0.049924\n",
       "bkxiii            -0.011707\n",
       "bkxiv              0.053335"
      ]
     },
     "execution_count": 132,
     "metadata": {},
     "output_type": "execute_result"
    }
   ],
   "source": [
    "#coefficients \n",
    "cdf = pd.DataFrame(data = lr.coef_, index = X_train.columns, columns = ['Coefficients'])\n",
    "cdf"
   ]
  },
  {
   "cell_type": "code",
   "execution_count": 133,
   "id": "c341a69f",
   "metadata": {},
   "outputs": [
    {
     "data": {
      "text/plain": [
       "array([ 9., 18.,  9.,  9., 17., 13.,  8., 14.,  9., 14.])"
      ]
     },
     "execution_count": 133,
     "metadata": {},
     "output_type": "execute_result"
    }
   ],
   "source": [
    "#seeing predicted values\n",
    "y_test_pred[0:10].round()"
   ]
  },
  {
   "cell_type": "code",
   "execution_count": 134,
   "id": "c0700edf",
   "metadata": {},
   "outputs": [
    {
     "name": "stdout",
     "output_type": "stream",
     "text": [
      "The mean square error of sale and predicted value is:  1.5308888888888892\n"
     ]
    }
   ],
   "source": [
    "mse = mean_squared_error(y_test,y_test_pred)\n",
    "print('The mean square error of sale and predicted value is: ', mse)"
   ]
  },
  {
   "cell_type": "markdown",
   "id": "09333524",
   "metadata": {},
   "source": [
    "**Conclusion**\n",
    "\n",
    "The MLR model is 97% accurate compared to 88% accuratcy of Decision Tree Regressor. The MLR model has a lower MSE compared to Decision Tree and hence it should be used."
   ]
  }
 ],
 "metadata": {
  "kernelspec": {
   "display_name": "Python 3 (ipykernel)",
   "language": "python",
   "name": "python3"
  },
  "language_info": {
   "codemirror_mode": {
    "name": "ipython",
    "version": 3
   },
   "file_extension": ".py",
   "mimetype": "text/x-python",
   "name": "python",
   "nbconvert_exporter": "python",
   "pygments_lexer": "ipython3",
   "version": "3.9.12"
  }
 },
 "nbformat": 4,
 "nbformat_minor": 5
}
