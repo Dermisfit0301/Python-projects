{
 "cells": [
  {
   "cell_type": "markdown",
   "id": "d6060c55",
   "metadata": {},
   "source": [
    "# Demand prediction of bike using MLR\n",
    "\n",
    "The company we are working for is named Lyft INc which operates majorly in US and Minorly in Canada. It wants us to predict the demand for the number of bikes required. It is dependent on a numbr of  variables like weather conditions, time etc. \n",
    "We will answer questions like:\n",
    "1.At what time or day is there more demand?\n",
    "2.What factors affect demand?\n",
    "3.Which weather condtions are ideal for demand? \n",
    "The method we are going to use are Multiple Linear Regression technique."
   ]
  },
  {
   "cell_type": "markdown",
   "id": "a5816f10",
   "metadata": {},
   "source": [
    "**Step 1: Setting up the work environment**\n",
    "\n",
    "We are going to download the necessary packages for our work. We are going to view the dataset and check the datatypes."
   ]
  },
  {
   "cell_type": "code",
   "execution_count": 1,
   "id": "d254f507",
   "metadata": {},
   "outputs": [
    {
     "name": "stdout",
     "output_type": "stream",
     "text": [
      "Requirement already satisfied: notebook-as-pdf in c:\\users\\sujoydutta\\anaconda3\\lib\\site-packages (0.5.0)\n",
      "Requirement already satisfied: pyppeteer in c:\\users\\sujoydutta\\anaconda3\\lib\\site-packages (from notebook-as-pdf) (1.0.2)\n",
      "Requirement already satisfied: PyPDF2 in c:\\users\\sujoydutta\\anaconda3\\lib\\site-packages (from notebook-as-pdf) (2.11.2)\n",
      "Requirement already satisfied: nbconvert in c:\\users\\sujoydutta\\anaconda3\\lib\\site-packages (from notebook-as-pdf) (6.4.4)\n",
      "Requirement already satisfied: mistune<2,>=0.8.1 in c:\\users\\sujoydutta\\anaconda3\\lib\\site-packages (from nbconvert->notebook-as-pdf) (0.8.4)\n",
      "Requirement already satisfied: testpath in c:\\users\\sujoydutta\\anaconda3\\lib\\site-packages (from nbconvert->notebook-as-pdf) (0.5.0)\n",
      "Requirement already satisfied: entrypoints>=0.2.2 in c:\\users\\sujoydutta\\anaconda3\\lib\\site-packages (from nbconvert->notebook-as-pdf) (0.4)\n",
      "Requirement already satisfied: nbformat>=4.4 in c:\\users\\sujoydutta\\anaconda3\\lib\\site-packages (from nbconvert->notebook-as-pdf) (5.3.0)\n",
      "Requirement already satisfied: pandocfilters>=1.4.1 in c:\\users\\sujoydutta\\anaconda3\\lib\\site-packages (from nbconvert->notebook-as-pdf) (1.5.0)\n",
      "Requirement already satisfied: defusedxml in c:\\users\\sujoydutta\\anaconda3\\lib\\site-packages (from nbconvert->notebook-as-pdf) (0.7.1)\n",
      "Requirement already satisfied: nbclient<0.6.0,>=0.5.0 in c:\\users\\sujoydutta\\anaconda3\\lib\\site-packages (from nbconvert->notebook-as-pdf) (0.5.13)\n",
      "Requirement already satisfied: jupyterlab-pygments in c:\\users\\sujoydutta\\anaconda3\\lib\\site-packages (from nbconvert->notebook-as-pdf) (0.1.2)\n",
      "Requirement already satisfied: jupyter-core in c:\\users\\sujoydutta\\anaconda3\\lib\\site-packages (from nbconvert->notebook-as-pdf) (4.9.2)\n",
      "Requirement already satisfied: bleach in c:\\users\\sujoydutta\\anaconda3\\lib\\site-packages (from nbconvert->notebook-as-pdf) (4.1.0)\n",
      "Requirement already satisfied: jinja2>=2.4 in c:\\users\\sujoydutta\\anaconda3\\lib\\site-packages (from nbconvert->notebook-as-pdf) (3.0.3)\n",
      "Requirement already satisfied: beautifulsoup4 in c:\\users\\sujoydutta\\anaconda3\\lib\\site-packages (from nbconvert->notebook-as-pdf) (4.11.1)\n",
      "Requirement already satisfied: traitlets>=5.0 in c:\\users\\sujoydutta\\anaconda3\\lib\\site-packages (from nbconvert->notebook-as-pdf) (5.1.1)\n",
      "Requirement already satisfied: pygments>=2.4.1 in c:\\users\\sujoydutta\\anaconda3\\lib\\site-packages (from nbconvert->notebook-as-pdf) (2.11.2)\n",
      "Requirement already satisfied: MarkupSafe>=2.0 in c:\\users\\sujoydutta\\anaconda3\\lib\\site-packages (from jinja2>=2.4->nbconvert->notebook-as-pdf) (2.0.1)\n",
      "Requirement already satisfied: nest-asyncio in c:\\users\\sujoydutta\\anaconda3\\lib\\site-packages (from nbclient<0.6.0,>=0.5.0->nbconvert->notebook-as-pdf) (1.5.5)\n",
      "Requirement already satisfied: jupyter-client>=6.1.5 in c:\\users\\sujoydutta\\anaconda3\\lib\\site-packages (from nbclient<0.6.0,>=0.5.0->nbconvert->notebook-as-pdf) (6.1.12)\n",
      "Requirement already satisfied: pyzmq>=13 in c:\\users\\sujoydutta\\anaconda3\\lib\\site-packages (from jupyter-client>=6.1.5->nbclient<0.6.0,>=0.5.0->nbconvert->notebook-as-pdf) (22.3.0)\n",
      "Requirement already satisfied: tornado>=4.1 in c:\\users\\sujoydutta\\anaconda3\\lib\\site-packages (from jupyter-client>=6.1.5->nbclient<0.6.0,>=0.5.0->nbconvert->notebook-as-pdf) (6.1)\n",
      "Requirement already satisfied: python-dateutil>=2.1 in c:\\users\\sujoydutta\\anaconda3\\lib\\site-packages (from jupyter-client>=6.1.5->nbclient<0.6.0,>=0.5.0->nbconvert->notebook-as-pdf) (2.8.2)\n",
      "Requirement already satisfied: pywin32>=1.0 in c:\\users\\sujoydutta\\anaconda3\\lib\\site-packages (from jupyter-core->nbconvert->notebook-as-pdf) (302)\n",
      "Requirement already satisfied: jsonschema>=2.6 in c:\\users\\sujoydutta\\anaconda3\\lib\\site-packages (from nbformat>=4.4->nbconvert->notebook-as-pdf) (4.4.0)\n",
      "Requirement already satisfied: fastjsonschema in c:\\users\\sujoydutta\\anaconda3\\lib\\site-packages (from nbformat>=4.4->nbconvert->notebook-as-pdf) (2.15.1)\n",
      "Requirement already satisfied: pyrsistent!=0.17.0,!=0.17.1,!=0.17.2,>=0.14.0 in c:\\users\\sujoydutta\\anaconda3\\lib\\site-packages (from jsonschema>=2.6->nbformat>=4.4->nbconvert->notebook-as-pdf) (0.18.0)\n",
      "Requirement already satisfied: attrs>=17.4.0 in c:\\users\\sujoydutta\\anaconda3\\lib\\site-packages (from jsonschema>=2.6->nbformat>=4.4->nbconvert->notebook-as-pdf) (21.4.0)\n",
      "Requirement already satisfied: six>=1.5 in c:\\users\\sujoydutta\\anaconda3\\lib\\site-packages (from python-dateutil>=2.1->jupyter-client>=6.1.5->nbclient<0.6.0,>=0.5.0->nbconvert->notebook-as-pdf) (1.16.0)\n",
      "Requirement already satisfied: soupsieve>1.2 in c:\\users\\sujoydutta\\anaconda3\\lib\\site-packages (from beautifulsoup4->nbconvert->notebook-as-pdf) (2.3.1)\n",
      "Requirement already satisfied: packaging in c:\\users\\sujoydutta\\anaconda3\\lib\\site-packages (from bleach->nbconvert->notebook-as-pdf) (21.3)\n",
      "Requirement already satisfied: webencodings in c:\\users\\sujoydutta\\anaconda3\\lib\\site-packages (from bleach->nbconvert->notebook-as-pdf) (0.5.1)\n",
      "Requirement already satisfied: pyparsing!=3.0.5,>=2.0.2 in c:\\users\\sujoydutta\\anaconda3\\lib\\site-packages (from packaging->bleach->nbconvert->notebook-as-pdf) (3.0.4)\n",
      "Requirement already satisfied: typing_extensions>=3.10.0.0 in c:\\users\\sujoydutta\\anaconda3\\lib\\site-packages (from PyPDF2->notebook-as-pdf) (4.1.1)\n",
      "Requirement already satisfied: certifi>=2021 in c:\\users\\sujoydutta\\anaconda3\\lib\\site-packages (from pyppeteer->notebook-as-pdf) (2021.10.8)\n",
      "Requirement already satisfied: tqdm<5.0.0,>=4.42.1 in c:\\users\\sujoydutta\\anaconda3\\lib\\site-packages (from pyppeteer->notebook-as-pdf) (4.64.0)\n",
      "Requirement already satisfied: urllib3<2.0.0,>=1.25.8 in c:\\users\\sujoydutta\\anaconda3\\lib\\site-packages (from pyppeteer->notebook-as-pdf) (1.26.9)\n",
      "Requirement already satisfied: websockets<11.0,>=10.0 in c:\\users\\sujoydutta\\anaconda3\\lib\\site-packages (from pyppeteer->notebook-as-pdf) (10.4)\n",
      "Requirement already satisfied: importlib-metadata>=1.4 in c:\\users\\sujoydutta\\anaconda3\\lib\\site-packages (from pyppeteer->notebook-as-pdf) (4.11.3)\n",
      "Requirement already satisfied: appdirs<2.0.0,>=1.4.3 in c:\\users\\sujoydutta\\anaconda3\\lib\\site-packages (from pyppeteer->notebook-as-pdf) (1.4.4)\n",
      "Requirement already satisfied: pyee<9.0.0,>=8.1.0 in c:\\users\\sujoydutta\\anaconda3\\lib\\site-packages (from pyppeteer->notebook-as-pdf) (8.2.2)\n",
      "Requirement already satisfied: zipp>=0.5 in c:\\users\\sujoydutta\\anaconda3\\lib\\site-packages (from importlib-metadata>=1.4->pyppeteer->notebook-as-pdf) (3.7.0)\n",
      "Requirement already satisfied: colorama in c:\\users\\sujoydutta\\anaconda3\\lib\\site-packages (from tqdm<5.0.0,>=4.42.1->pyppeteer->notebook-as-pdf) (0.4.4)\n",
      "Note: you may need to restart the kernel to use updated packages.\n"
     ]
    }
   ],
   "source": [
    "pip install notebook-as-pdf"
   ]
  },
  {
   "cell_type": "code",
   "execution_count": 2,
   "id": "70c55845",
   "metadata": {},
   "outputs": [],
   "source": [
    "#installing packages\n",
    "import numpy as np\n",
    "import pandas as pd\n",
    "import matplotlib as plt\n",
    "import seaborn as sb\n",
    "from scipy import stats\n",
    "from sklearn.linear_model import LinearRegression\n",
    "from sklearn.metrics import mean_squared_error\n",
    "from sklearn.pipeline import Pipeline\n",
    "from sklearn.preprocessing import StandardScaler\n",
    "from sklearn.preprocessing import PolynomialFeatures\n",
    "from sklearn.metrics import r2_score\n",
    "from sklearn.model_selection import train_test_split\n",
    "from sklearn.model_selection import cross_val_score\n",
    "from sklearn.model_selection import cross_val_predict\n",
    "from sklearn.linear_model import Ridge\n",
    "from sklearn.model_selection import GridSearchCV\n",
    "import os\n",
    "from collections import Counter\n",
    "from numpy import mean\n",
    "from numpy import std\n",
    "from pandas import read_csv\n",
    "from sklearn.model_selection import cross_val_score\n",
    "from sklearn.model_selection import RepeatedStratifiedKFold\n",
    "from sklearn.metrics import precision_recall_curve\n",
    "from sklearn.metrics import auc\n",
    "from sklearn.metrics import make_scorer\n",
    "from sklearn.dummy import DummyClassifier\n",
    "from sklearn.preprocessing import StandardScaler\n",
    "from sklearn.neighbors import KNeighborsClassifier\n",
    "from sklearn.pipeline import Pipeline\n",
    "from sklearn.model_selection import cross_val_score\n",
    "from sklearn.model_selection import RepeatedStratifiedKFold\n",
    "from sklearn.metrics import precision_recall_curve\n",
    "from sklearn.metrics import auc\n",
    "from sklearn.metrics import make_scorer\n",
    "from sklearn.tree import DecisionTreeClassifier\n",
    "from sklearn.neighbors import KNeighborsClassifier\n",
    "from sklearn.ensemble import RandomForestClassifier\n",
    "from sklearn.ensemble import ExtraTreesClassifier\n",
    "from sklearn.ensemble import BaggingClassifier\n",
    "from sklearn.naive_bayes import GaussianNB\n",
    "from pandas import Series;  from numpy.random import randn\n",
    "from statsmodels.stats.weightstats import ttest_ind\n",
    "import scipy.stats as stats\n",
    "from scipy.stats import ttest_ind\n",
    "import pandas as pd\n",
    "import numpy as np\n",
    "import seaborn as sb\n",
    "%matplotlib inline\n",
    "from matplotlib import pyplot as plt\n",
    "from scipy.stats import shapiro\n",
    "from scipy import stats\n",
    "from sklearn.linear_model import LinearRegression\n",
    "from sklearn.metrics import mean_squared_error\n",
    "from sklearn.metrics import classification_report\n",
    "from sklearn.pipeline import Pipeline\n",
    "from sklearn.preprocessing import StandardScaler\n",
    "from sklearn.preprocessing import PolynomialFeatures\n",
    "from sklearn.metrics import r2_score\n",
    "from sklearn.model_selection import train_test_split\n",
    "from sklearn.model_selection import cross_val_score\n",
    "from sklearn.model_selection import cross_val_predict\n",
    "from sklearn.linear_model import Ridge\n",
    "from sklearn.model_selection import GridSearchCV\n",
    "from datetime import datetime\n",
    "from datetime import date\n",
    "import statsmodels.api as sm\n",
    "from statsmodels.formula.api import ols\n",
    "from sklearn.preprocessing import StandardScaler\n",
    "from sklearn.decomposition import PCA\n",
    "from sklearn.linear_model import LogisticRegression as lgr\n",
    "\n",
    "from sklearn import preprocessing as preproc\n",
    "from sklearn import metrics\n",
    "from sklearn.datasets import make_classification\n",
    "from sklearn.model_selection import train_test_split\n",
    "from sklearn.pipeline import make_pipeline\n",
    "from sklearn.preprocessing import StandardScaler\n",
    "from sklearn.neighbors import KNeighborsRegressor\n",
    "from sklearn.neural_network import MLPRegressor"
   ]
  },
  {
   "cell_type": "code",
   "execution_count": 3,
   "id": "4db12bf7",
   "metadata": {},
   "outputs": [
    {
     "data": {
      "text/html": [
       "<div>\n",
       "<style scoped>\n",
       "    .dataframe tbody tr th:only-of-type {\n",
       "        vertical-align: middle;\n",
       "    }\n",
       "\n",
       "    .dataframe tbody tr th {\n",
       "        vertical-align: top;\n",
       "    }\n",
       "\n",
       "    .dataframe thead th {\n",
       "        text-align: right;\n",
       "    }\n",
       "</style>\n",
       "<table border=\"1\" class=\"dataframe\">\n",
       "  <thead>\n",
       "    <tr style=\"text-align: right;\">\n",
       "      <th></th>\n",
       "      <th>instant</th>\n",
       "      <th>dteday</th>\n",
       "      <th>season</th>\n",
       "      <th>yr</th>\n",
       "      <th>mnth</th>\n",
       "      <th>hr</th>\n",
       "      <th>holiday</th>\n",
       "      <th>weekday</th>\n",
       "      <th>workingday</th>\n",
       "      <th>weathersit</th>\n",
       "      <th>temp</th>\n",
       "      <th>atemp</th>\n",
       "      <th>hum</th>\n",
       "      <th>windspeed</th>\n",
       "      <th>casual</th>\n",
       "      <th>registered</th>\n",
       "      <th>cnt</th>\n",
       "    </tr>\n",
       "  </thead>\n",
       "  <tbody>\n",
       "    <tr>\n",
       "      <th>0</th>\n",
       "      <td>1</td>\n",
       "      <td>01-01-11</td>\n",
       "      <td>1</td>\n",
       "      <td>0</td>\n",
       "      <td>1</td>\n",
       "      <td>0</td>\n",
       "      <td>0</td>\n",
       "      <td>6</td>\n",
       "      <td>0</td>\n",
       "      <td>1</td>\n",
       "      <td>0.24</td>\n",
       "      <td>0.2879</td>\n",
       "      <td>0.81</td>\n",
       "      <td>0.0</td>\n",
       "      <td>3</td>\n",
       "      <td>13</td>\n",
       "      <td>16</td>\n",
       "    </tr>\n",
       "    <tr>\n",
       "      <th>1</th>\n",
       "      <td>2</td>\n",
       "      <td>01-01-11</td>\n",
       "      <td>1</td>\n",
       "      <td>0</td>\n",
       "      <td>1</td>\n",
       "      <td>1</td>\n",
       "      <td>0</td>\n",
       "      <td>6</td>\n",
       "      <td>0</td>\n",
       "      <td>1</td>\n",
       "      <td>0.22</td>\n",
       "      <td>0.2727</td>\n",
       "      <td>0.80</td>\n",
       "      <td>0.0</td>\n",
       "      <td>8</td>\n",
       "      <td>32</td>\n",
       "      <td>40</td>\n",
       "    </tr>\n",
       "    <tr>\n",
       "      <th>2</th>\n",
       "      <td>3</td>\n",
       "      <td>01-01-11</td>\n",
       "      <td>1</td>\n",
       "      <td>0</td>\n",
       "      <td>1</td>\n",
       "      <td>2</td>\n",
       "      <td>0</td>\n",
       "      <td>6</td>\n",
       "      <td>0</td>\n",
       "      <td>1</td>\n",
       "      <td>0.22</td>\n",
       "      <td>0.2727</td>\n",
       "      <td>0.80</td>\n",
       "      <td>0.0</td>\n",
       "      <td>5</td>\n",
       "      <td>27</td>\n",
       "      <td>32</td>\n",
       "    </tr>\n",
       "    <tr>\n",
       "      <th>3</th>\n",
       "      <td>4</td>\n",
       "      <td>01-01-11</td>\n",
       "      <td>1</td>\n",
       "      <td>0</td>\n",
       "      <td>1</td>\n",
       "      <td>3</td>\n",
       "      <td>0</td>\n",
       "      <td>6</td>\n",
       "      <td>0</td>\n",
       "      <td>1</td>\n",
       "      <td>0.24</td>\n",
       "      <td>0.2879</td>\n",
       "      <td>0.75</td>\n",
       "      <td>0.0</td>\n",
       "      <td>3</td>\n",
       "      <td>10</td>\n",
       "      <td>13</td>\n",
       "    </tr>\n",
       "    <tr>\n",
       "      <th>4</th>\n",
       "      <td>5</td>\n",
       "      <td>01-01-11</td>\n",
       "      <td>1</td>\n",
       "      <td>0</td>\n",
       "      <td>1</td>\n",
       "      <td>4</td>\n",
       "      <td>0</td>\n",
       "      <td>6</td>\n",
       "      <td>0</td>\n",
       "      <td>1</td>\n",
       "      <td>0.24</td>\n",
       "      <td>0.2879</td>\n",
       "      <td>0.75</td>\n",
       "      <td>0.0</td>\n",
       "      <td>0</td>\n",
       "      <td>1</td>\n",
       "      <td>1</td>\n",
       "    </tr>\n",
       "  </tbody>\n",
       "</table>\n",
       "</div>"
      ],
      "text/plain": [
       "   instant    dteday  season  yr  mnth  hr  holiday  weekday  workingday  \\\n",
       "0        1  01-01-11       1   0     1   0        0        6           0   \n",
       "1        2  01-01-11       1   0     1   1        0        6           0   \n",
       "2        3  01-01-11       1   0     1   2        0        6           0   \n",
       "3        4  01-01-11       1   0     1   3        0        6           0   \n",
       "4        5  01-01-11       1   0     1   4        0        6           0   \n",
       "\n",
       "   weathersit  temp   atemp   hum  windspeed  casual  registered  cnt  \n",
       "0           1  0.24  0.2879  0.81        0.0       3          13   16  \n",
       "1           1  0.22  0.2727  0.80        0.0       8          32   40  \n",
       "2           1  0.22  0.2727  0.80        0.0       5          27   32  \n",
       "3           1  0.24  0.2879  0.75        0.0       3          10   13  \n",
       "4           1  0.24  0.2879  0.75        0.0       0           1    1  "
      ]
     },
     "execution_count": 3,
     "metadata": {},
     "output_type": "execute_result"
    }
   ],
   "source": [
    "#downloading the file\n",
    "lyft= pd.read_csv(\"C:\\\\Users\\\\sujoydutta\\\\Desktop\\\\Data analysis\\\\Datasets\\\\Lyftdataset.csv\")\n",
    "lyft.head()"
   ]
  },
  {
   "cell_type": "code",
   "execution_count": 4,
   "id": "d3459dc4",
   "metadata": {},
   "outputs": [
    {
     "name": "stdout",
     "output_type": "stream",
     "text": [
      "<class 'pandas.core.frame.DataFrame'>\n",
      "RangeIndex: 17379 entries, 0 to 17378\n",
      "Data columns (total 17 columns):\n",
      " #   Column      Non-Null Count  Dtype  \n",
      "---  ------      --------------  -----  \n",
      " 0   instant     17379 non-null  int64  \n",
      " 1   dteday      17379 non-null  object \n",
      " 2   season      17379 non-null  int64  \n",
      " 3   yr          17379 non-null  int64  \n",
      " 4   mnth        17379 non-null  int64  \n",
      " 5   hr          17379 non-null  int64  \n",
      " 6   holiday     17379 non-null  int64  \n",
      " 7   weekday     17379 non-null  int64  \n",
      " 8   workingday  17379 non-null  int64  \n",
      " 9   weathersit  17379 non-null  int64  \n",
      " 10  temp        17379 non-null  float64\n",
      " 11  atemp       17379 non-null  float64\n",
      " 12  hum         17379 non-null  float64\n",
      " 13  windspeed   17379 non-null  float64\n",
      " 14  casual      17379 non-null  int64  \n",
      " 15  registered  17379 non-null  int64  \n",
      " 16  cnt         17379 non-null  int64  \n",
      "dtypes: float64(4), int64(12), object(1)\n",
      "memory usage: 2.3+ MB\n"
     ]
    }
   ],
   "source": [
    "#examining the dataset\n",
    "lyft.info()"
   ]
  },
  {
   "cell_type": "code",
   "execution_count": 5,
   "id": "65960c9f",
   "metadata": {},
   "outputs": [
    {
     "data": {
      "text/plain": [
       "(17379, 17)"
      ]
     },
     "execution_count": 5,
     "metadata": {},
     "output_type": "execute_result"
    }
   ],
   "source": [
    "#examining the dataset\n",
    "lyft.shape"
   ]
  },
  {
   "cell_type": "markdown",
   "id": "d83fd5c9",
   "metadata": {},
   "source": [
    "**Step 2: Data cleaning**\n",
    "\n",
    "In this step, we are going to clean our dataset. We are going to look for null values and replace them with mean and mode. \n",
    "We are going to modify some variables if it is necessary and change datatypes for better analysis. We will also remove outliers from the dataset.  Outliers hamper the machine learning algorithms and hence they have to be removed."
   ]
  },
  {
   "cell_type": "code",
   "execution_count": 6,
   "id": "8b2c55e8",
   "metadata": {},
   "outputs": [
    {
     "data": {
      "text/plain": [
       "instant       0\n",
       "dteday        0\n",
       "season        0\n",
       "yr            0\n",
       "mnth          0\n",
       "hr            0\n",
       "holiday       0\n",
       "weekday       0\n",
       "workingday    0\n",
       "weathersit    0\n",
       "temp          0\n",
       "atemp         0\n",
       "hum           0\n",
       "windspeed     0\n",
       "casual        0\n",
       "registered    0\n",
       "cnt           0\n",
       "dtype: int64"
      ]
     },
     "execution_count": 6,
     "metadata": {},
     "output_type": "execute_result"
    }
   ],
   "source": [
    "#checking null values \n",
    "lyft.isna().sum(axis=0)"
   ]
  },
  {
   "cell_type": "code",
   "execution_count": 7,
   "id": "865f68ed",
   "metadata": {},
   "outputs": [
    {
     "data": {
      "text/plain": [
       "0"
      ]
     },
     "execution_count": 7,
     "metadata": {},
     "output_type": "execute_result"
    }
   ],
   "source": [
    "#checking if registered and casual add up or not\n",
    "np.sum((lyft.casual + lyft.registered) != lyft.cnt)\n"
   ]
  },
  {
   "cell_type": "code",
   "execution_count": 9,
   "id": "3184492e",
   "metadata": {},
   "outputs": [
    {
     "name": "stdout",
     "output_type": "stream",
     "text": [
      "[ 1  2  3  4  5  6  7  8  9 10 11 12]\n",
      "[ 0  1  2  3  4  5  6  7  8  9 10 11 12 13 14 15 16 17 18 19 20 21 22 23]\n"
     ]
    }
   ],
   "source": [
    "#checking if month and hour values are logical or not\n",
    "print(lyft.mnth.unique())\n",
    "print(lyft.hr.unique())"
   ]
  },
  {
   "cell_type": "code",
   "execution_count": 13,
   "id": "0476bc6a",
   "metadata": {},
   "outputs": [
    {
     "data": {
      "text/html": [
       "<div>\n",
       "<style scoped>\n",
       "    .dataframe tbody tr th:only-of-type {\n",
       "        vertical-align: middle;\n",
       "    }\n",
       "\n",
       "    .dataframe tbody tr th {\n",
       "        vertical-align: top;\n",
       "    }\n",
       "\n",
       "    .dataframe thead th {\n",
       "        text-align: right;\n",
       "    }\n",
       "</style>\n",
       "<table border=\"1\" class=\"dataframe\">\n",
       "  <thead>\n",
       "    <tr style=\"text-align: right;\">\n",
       "      <th></th>\n",
       "      <th>season</th>\n",
       "      <th>yr</th>\n",
       "      <th>mnth</th>\n",
       "      <th>hr</th>\n",
       "      <th>holiday</th>\n",
       "      <th>weekday</th>\n",
       "      <th>workingday</th>\n",
       "      <th>weathersit</th>\n",
       "      <th>temp</th>\n",
       "      <th>atemp</th>\n",
       "      <th>hum</th>\n",
       "      <th>windspeed</th>\n",
       "      <th>cnt</th>\n",
       "    </tr>\n",
       "  </thead>\n",
       "  <tbody>\n",
       "    <tr>\n",
       "      <th>0</th>\n",
       "      <td>1</td>\n",
       "      <td>0</td>\n",
       "      <td>1</td>\n",
       "      <td>0</td>\n",
       "      <td>0</td>\n",
       "      <td>6</td>\n",
       "      <td>0</td>\n",
       "      <td>1</td>\n",
       "      <td>0.24</td>\n",
       "      <td>0.2879</td>\n",
       "      <td>0.81</td>\n",
       "      <td>0.0</td>\n",
       "      <td>16</td>\n",
       "    </tr>\n",
       "    <tr>\n",
       "      <th>1</th>\n",
       "      <td>1</td>\n",
       "      <td>0</td>\n",
       "      <td>1</td>\n",
       "      <td>1</td>\n",
       "      <td>0</td>\n",
       "      <td>6</td>\n",
       "      <td>0</td>\n",
       "      <td>1</td>\n",
       "      <td>0.22</td>\n",
       "      <td>0.2727</td>\n",
       "      <td>0.80</td>\n",
       "      <td>0.0</td>\n",
       "      <td>40</td>\n",
       "    </tr>\n",
       "    <tr>\n",
       "      <th>2</th>\n",
       "      <td>1</td>\n",
       "      <td>0</td>\n",
       "      <td>1</td>\n",
       "      <td>2</td>\n",
       "      <td>0</td>\n",
       "      <td>6</td>\n",
       "      <td>0</td>\n",
       "      <td>1</td>\n",
       "      <td>0.22</td>\n",
       "      <td>0.2727</td>\n",
       "      <td>0.80</td>\n",
       "      <td>0.0</td>\n",
       "      <td>32</td>\n",
       "    </tr>\n",
       "    <tr>\n",
       "      <th>3</th>\n",
       "      <td>1</td>\n",
       "      <td>0</td>\n",
       "      <td>1</td>\n",
       "      <td>3</td>\n",
       "      <td>0</td>\n",
       "      <td>6</td>\n",
       "      <td>0</td>\n",
       "      <td>1</td>\n",
       "      <td>0.24</td>\n",
       "      <td>0.2879</td>\n",
       "      <td>0.75</td>\n",
       "      <td>0.0</td>\n",
       "      <td>13</td>\n",
       "    </tr>\n",
       "    <tr>\n",
       "      <th>4</th>\n",
       "      <td>1</td>\n",
       "      <td>0</td>\n",
       "      <td>1</td>\n",
       "      <td>4</td>\n",
       "      <td>0</td>\n",
       "      <td>6</td>\n",
       "      <td>0</td>\n",
       "      <td>1</td>\n",
       "      <td>0.24</td>\n",
       "      <td>0.2879</td>\n",
       "      <td>0.75</td>\n",
       "      <td>0.0</td>\n",
       "      <td>1</td>\n",
       "    </tr>\n",
       "  </tbody>\n",
       "</table>\n",
       "</div>"
      ],
      "text/plain": [
       "   season  yr  mnth  hr  holiday  weekday  workingday  weathersit  temp  \\\n",
       "0       1   0     1   0        0        6           0           1  0.24   \n",
       "1       1   0     1   1        0        6           0           1  0.22   \n",
       "2       1   0     1   2        0        6           0           1  0.22   \n",
       "3       1   0     1   3        0        6           0           1  0.24   \n",
       "4       1   0     1   4        0        6           0           1  0.24   \n",
       "\n",
       "    atemp   hum  windspeed  cnt  \n",
       "0  0.2879  0.81        0.0   16  \n",
       "1  0.2727  0.80        0.0   40  \n",
       "2  0.2727  0.80        0.0   32  \n",
       "3  0.2879  0.75        0.0   13  \n",
       "4  0.2879  0.75        0.0    1  "
      ]
     },
     "execution_count": 13,
     "metadata": {},
     "output_type": "execute_result"
    }
   ],
   "source": [
    "#dropping useless columns\n",
    "lyft1=lyft.drop(['casual', 'registered', 'dteday', 'instant'], axis=1).copy()\n",
    "lyft1.head()"
   ]
  },
  {
   "cell_type": "markdown",
   "id": "9f3b787f",
   "metadata": {},
   "source": [
    "**Univariate analysis**\n",
    "\n",
    "We are using boxplot,histogram and plot to find the outliers,extreme values and distribution of the numerical variables. "
   ]
  },
  {
   "cell_type": "code",
   "execution_count": 14,
   "id": "b417b891",
   "metadata": {},
   "outputs": [
    {
     "data": {
      "text/plain": [
       "<AxesSubplot:ylabel='Density'>"
      ]
     },
     "execution_count": 14,
     "metadata": {},
     "output_type": "execute_result"
    },
    {
     "data": {
      "image/png": "[encoded data removed]",
      "text/plain": [
       "<Figure size 432x288 with 1 Axes>"
      ]
     },
     "metadata": {
      "needs_background": "light"
     },
     "output_type": "display_data"
    }
   ],
   "source": [
    "#checking distribution for temp\n",
    "lyft1.temp.plot.density()"
   ]
  },
  {
   "cell_type": "code",
   "execution_count": 15,
   "id": "4220d7a1",
   "metadata": {},
   "outputs": [
    {
     "name": "stderr",
     "output_type": "stream",
     "text": [
      "C:\\Users\\sujoydutta\\anaconda3\\lib\\site-packages\\seaborn\\_decorators.py:36: FutureWarning: Pass the following variable as a keyword arg: x. From version 0.12, the only valid positional argument will be `data`, and passing other arguments without an explicit keyword will result in an error or misinterpretation.\n",
      "  warnings.warn(\n"
     ]
    },
    {
     "data": {
      "text/plain": [
       "<AxesSubplot:xlabel='temp'>"
      ]
     },
     "execution_count": 15,
     "metadata": {},
     "output_type": "execute_result"
    },
    {
     "data": {
      "image/png": "[encoded data removed]",
      "text/plain": [
       "<Figure size 432x288 with 1 Axes>"
      ]
     },
     "metadata": {
      "needs_background": "light"
     },
     "output_type": "display_data"
    }
   ],
   "source": [
    "#checking outliers using boxplot\n",
    "sb.boxplot(lyft1.temp)"
   ]
  },
  {
   "cell_type": "code",
   "execution_count": 16,
   "id": "b323062f",
   "metadata": {},
   "outputs": [
    {
     "data": {
      "text/plain": [
       "<AxesSubplot:ylabel='Frequency'>"
      ]
     },
     "execution_count": 16,
     "metadata": {},
     "output_type": "execute_result"
    },
    {
     "data": {
      "image/png": "[encoded data removed]",
      "text/plain": [
       "<Figure size 432x288 with 1 Axes>"
      ]
     },
     "metadata": {
      "needs_background": "light"
     },
     "output_type": "display_data"
    }
   ],
   "source": [
    "#using histogram to see abnormally high values\n",
    "lyft1.temp.plot.hist()"
   ]
  },
  {
   "cell_type": "code",
   "execution_count": 17,
   "id": "c787ec50",
   "metadata": {},
   "outputs": [
    {
     "data": {
      "text/plain": [
       "<AxesSubplot:ylabel='Density'>"
      ]
     },
     "execution_count": 17,
     "metadata": {},
     "output_type": "execute_result"
    },
    {
     "data": {
      "image/png": "[encoded data removed]",
      "text/plain": [
       "<Figure size 432x288 with 1 Axes>"
      ]
     },
     "metadata": {
      "needs_background": "light"
     },
     "output_type": "display_data"
    }
   ],
   "source": [
    "#checking distribution for atemp\n",
    "lyft1.atemp.plot.density()"
   ]
  },
  {
   "cell_type": "code",
   "execution_count": 18,
   "id": "489d3e44",
   "metadata": {},
   "outputs": [
    {
     "name": "stderr",
     "output_type": "stream",
     "text": [
      "C:\\Users\\sujoydutta\\anaconda3\\lib\\site-packages\\seaborn\\_decorators.py:36: FutureWarning: Pass the following variable as a keyword arg: x. From version 0.12, the only valid positional argument will be `data`, and passing other arguments without an explicit keyword will result in an error or misinterpretation.\n",
      "  warnings.warn(\n"
     ]
    },
    {
     "data": {
      "text/plain": [
       "<AxesSubplot:xlabel='atemp'>"
      ]
     },
     "execution_count": 18,
     "metadata": {},
     "output_type": "execute_result"
    },
    {
     "data": {
      "image/png": "[encoded data removed]",
      "text/plain": [
       "<Figure size 432x288 with 1 Axes>"
      ]
     },
     "metadata": {
      "needs_background": "light"
     },
     "output_type": "display_data"
    }
   ],
   "source": [
    "#checking outliers using boxplot\n",
    "sb.boxplot(lyft1.atemp)"
   ]
  },
  {
   "cell_type": "code",
   "execution_count": 19,
   "id": "9e5104fd",
   "metadata": {},
   "outputs": [
    {
     "data": {
      "text/plain": [
       "<AxesSubplot:ylabel='Frequency'>"
      ]
     },
     "execution_count": 19,
     "metadata": {},
     "output_type": "execute_result"
    },
    {
     "data": {
      "image/png": "[encoded data removed]",
      "text/plain": [
       "<Figure size 432x288 with 1 Axes>"
      ]
     },
     "metadata": {
      "needs_background": "light"
     },
     "output_type": "display_data"
    }
   ],
   "source": [
    "#using histogram to see abnormally high values\n",
    "lyft1.atemp.plot.hist()"
   ]
  },
  {
   "cell_type": "code",
   "execution_count": 20,
   "id": "43476eac",
   "metadata": {},
   "outputs": [
    {
     "data": {
      "text/plain": [
       "<AxesSubplot:ylabel='Density'>"
      ]
     },
     "execution_count": 20,
     "metadata": {},
     "output_type": "execute_result"
    },
    {
     "data": {
      "image/png": "[encoded data removed]",
      "text/plain": [
       "<Figure size 432x288 with 1 Axes>"
      ]
     },
     "metadata": {
      "needs_background": "light"
     },
     "output_type": "display_data"
    }
   ],
   "source": [
    "#checking distribution for hum\n",
    "lyft1.hum.plot.density()"
   ]
  },
  {
   "cell_type": "code",
   "execution_count": 21,
   "id": "c6185d22",
   "metadata": {},
   "outputs": [
    {
     "name": "stderr",
     "output_type": "stream",
     "text": [
      "C:\\Users\\sujoydutta\\anaconda3\\lib\\site-packages\\seaborn\\_decorators.py:36: FutureWarning: Pass the following variable as a keyword arg: x. From version 0.12, the only valid positional argument will be `data`, and passing other arguments without an explicit keyword will result in an error or misinterpretation.\n",
      "  warnings.warn(\n"
     ]
    },
    {
     "data": {
      "text/plain": [
       "<AxesSubplot:xlabel='hum'>"
      ]
     },
     "execution_count": 21,
     "metadata": {},
     "output_type": "execute_result"
    },
    {
     "data": {
      "image/png": "[encoded data removed]",
      "text/plain": [
       "<Figure size 432x288 with 1 Axes>"
      ]
     },
     "metadata": {
      "needs_background": "light"
     },
     "output_type": "display_data"
    }
   ],
   "source": [
    "#checking outliers using boxplot\n",
    "sb.boxplot(lyft1.hum)"
   ]
  },
  {
   "cell_type": "code",
   "execution_count": 22,
   "id": "8cd6d98b",
   "metadata": {},
   "outputs": [
    {
     "data": {
      "text/plain": [
       "<AxesSubplot:ylabel='Frequency'>"
      ]
     },
     "execution_count": 22,
     "metadata": {},
     "output_type": "execute_result"
    },
    {
     "data": {
      "image/png": "[encoded data removed]",
      "text/plain": [
       "<Figure size 432x288 with 1 Axes>"
      ]
     },
     "metadata": {
      "needs_background": "light"
     },
     "output_type": "display_data"
    }
   ],
   "source": [
    "#using histogram to see abnormally high values\n",
    "lyft1.hum.plot.hist()\n"
   ]
  },
  {
   "cell_type": "code",
   "execution_count": 23,
   "id": "a33603fe",
   "metadata": {},
   "outputs": [
    {
     "data": {
      "text/plain": [
       "<AxesSubplot:ylabel='Density'>"
      ]
     },
     "execution_count": 23,
     "metadata": {},
     "output_type": "execute_result"
    },
    {
     "data": {
      "image/png": "[encoded data removed]",
      "text/plain": [
       "<Figure size 432x288 with 1 Axes>"
      ]
     },
     "metadata": {
      "needs_background": "light"
     },
     "output_type": "display_data"
    }
   ],
   "source": [
    "#checking distribution for windspeed\n",
    "lyft1.windspeed.plot.density()"
   ]
  },
  {
   "cell_type": "code",
   "execution_count": 24,
   "id": "fb0c87f9",
   "metadata": {},
   "outputs": [
    {
     "name": "stderr",
     "output_type": "stream",
     "text": [
      "C:\\Users\\sujoydutta\\anaconda3\\lib\\site-packages\\seaborn\\_decorators.py:36: FutureWarning: Pass the following variable as a keyword arg: x. From version 0.12, the only valid positional argument will be `data`, and passing other arguments without an explicit keyword will result in an error or misinterpretation.\n",
      "  warnings.warn(\n"
     ]
    },
    {
     "data": {
      "text/plain": [
       "<AxesSubplot:xlabel='windspeed'>"
      ]
     },
     "execution_count": 24,
     "metadata": {},
     "output_type": "execute_result"
    },
    {
     "data": {
      "image/png": "[encoded data removed]",
      "text/plain": [
       "<Figure size 432x288 with 1 Axes>"
      ]
     },
     "metadata": {
      "needs_background": "light"
     },
     "output_type": "display_data"
    }
   ],
   "source": [
    "#checking outliers using boxplot\n",
    "sb.boxplot(lyft1.windspeed)"
   ]
  },
  {
   "cell_type": "code",
   "execution_count": 25,
   "id": "cbd19819",
   "metadata": {},
   "outputs": [
    {
     "data": {
      "text/plain": [
       "<AxesSubplot:ylabel='Frequency'>"
      ]
     },
     "execution_count": 25,
     "metadata": {},
     "output_type": "execute_result"
    },
    {
     "data": {
      "image/png": "[encoded data removed]",
      "text/plain": [
       "<Figure size 432x288 with 1 Axes>"
      ]
     },
     "metadata": {
      "needs_background": "light"
     },
     "output_type": "display_data"
    }
   ],
   "source": [
    "#using histogram to see abnormally high values\n",
    "lyft1.windspeed.plot.hist()\n"
   ]
  },
  {
   "cell_type": "code",
   "execution_count": 26,
   "id": "44a8cc73",
   "metadata": {},
   "outputs": [
    {
     "data": {
      "text/plain": [
       "<AxesSubplot:ylabel='Density'>"
      ]
     },
     "execution_count": 26,
     "metadata": {},
     "output_type": "execute_result"
    },
    {
     "data": {
      "image/png": "[encoded data removed]",
      "text/plain": [
       "<Figure size 432x288 with 1 Axes>"
      ]
     },
     "metadata": {
      "needs_background": "light"
     },
     "output_type": "display_data"
    }
   ],
   "source": [
    "#checking distribution for cnt\n",
    "lyft1.cnt.plot.density()"
   ]
  },
  {
   "cell_type": "code",
   "execution_count": 27,
   "id": "98c7ae1f",
   "metadata": {},
   "outputs": [
    {
     "name": "stderr",
     "output_type": "stream",
     "text": [
      "C:\\Users\\sujoydutta\\anaconda3\\lib\\site-packages\\seaborn\\_decorators.py:36: FutureWarning: Pass the following variable as a keyword arg: x. From version 0.12, the only valid positional argument will be `data`, and passing other arguments without an explicit keyword will result in an error or misinterpretation.\n",
      "  warnings.warn(\n"
     ]
    },
    {
     "data": {
      "text/plain": [
       "<AxesSubplot:xlabel='cnt'>"
      ]
     },
     "execution_count": 27,
     "metadata": {},
     "output_type": "execute_result"
    },
    {
     "data": {
      "image/png": "[encoded data removed]",
      "text/plain": [
       "<Figure size 432x288 with 1 Axes>"
      ]
     },
     "metadata": {
      "needs_background": "light"
     },
     "output_type": "display_data"
    }
   ],
   "source": [
    "#checking outliers using boxplot\n",
    "sb.boxplot(lyft1.cnt)"
   ]
  },
  {
   "cell_type": "code",
   "execution_count": 28,
   "id": "6500e85e",
   "metadata": {},
   "outputs": [
    {
     "data": {
      "text/plain": [
       "<AxesSubplot:ylabel='Frequency'>"
      ]
     },
     "execution_count": 28,
     "metadata": {},
     "output_type": "execute_result"
    },
    {
     "data": {
      "image/png": "[encoded data removed]",
      "text/plain": [
       "<Figure size 432x288 with 1 Axes>"
      ]
     },
     "metadata": {
      "needs_background": "light"
     },
     "output_type": "display_data"
    }
   ],
   "source": [
    "#using histogram to see abnormally high values\n",
    "lyft1.cnt.plot.hist()"
   ]
  },
  {
   "cell_type": "code",
   "execution_count": 29,
   "id": "c7e844c7",
   "metadata": {},
   "outputs": [
    {
     "data": {
      "text/plain": [
       "0.10    0.37\n",
       "0.25    0.48\n",
       "0.50    0.63\n",
       "0.70    0.75\n",
       "0.90    0.88\n",
       "0.95    0.93\n",
       "0.99    1.00\n",
       "Name: hum, dtype: float64"
      ]
     },
     "execution_count": 29,
     "metadata": {},
     "output_type": "execute_result"
    }
   ],
   "source": [
    "#outlier treatment for variable hum \n",
    "lyft1.hum.quantile([0.1, 0.25, 0.5, 0.70, 0.9, 0.95, 0.99])\n"
   ]
  },
  {
   "cell_type": "code",
   "execution_count": 33,
   "id": "7e7f4b26",
   "metadata": {},
   "outputs": [
    {
     "name": "stdout",
     "output_type": "stream",
     "text": [
      "old length: 17379\n",
      "new length: 17355\n",
      "outliers dropped: 24\n"
     ]
    }
   ],
   "source": [
    "#dropping the outliers\n",
    "lyft2 = lyft1[lyft1.hum > 0.1].copy()\n",
    "print(\"old length:\",len(lyft1))\n",
    "print(\"new length:\",len(lyft2))\n",
    "print(\"outliers dropped:\",len(lyft1)-len(lyft2))"
   ]
  },
  {
   "cell_type": "code",
   "execution_count": 34,
   "id": "431e4325",
   "metadata": {},
   "outputs": [
    {
     "name": "stderr",
     "output_type": "stream",
     "text": [
      "C:\\Users\\sujoydutta\\anaconda3\\lib\\site-packages\\seaborn\\_decorators.py:36: FutureWarning: Pass the following variable as a keyword arg: x. From version 0.12, the only valid positional argument will be `data`, and passing other arguments without an explicit keyword will result in an error or misinterpretation.\n",
      "  warnings.warn(\n"
     ]
    },
    {
     "data": {
      "text/plain": [
       "<AxesSubplot:xlabel='hum'>"
      ]
     },
     "execution_count": 34,
     "metadata": {},
     "output_type": "execute_result"
    },
    {
     "data": {
      "image/png": "[encoded data removed]",
      "text/plain": [
       "<Figure size 432x288 with 1 Axes>"
      ]
     },
     "metadata": {
      "needs_background": "light"
     },
     "output_type": "display_data"
    }
   ],
   "source": [
    "#checking if outliers gone\n",
    "sb.boxplot(lyft2.hum)"
   ]
  },
  {
   "cell_type": "code",
   "execution_count": 35,
   "id": "da69980d",
   "metadata": {},
   "outputs": [
    {
     "data": {
      "text/plain": [
       "0.10    0.0000\n",
       "0.25    0.1045\n",
       "0.50    0.1940\n",
       "0.70    0.2537\n",
       "0.90    0.3582\n",
       "0.95    0.4179\n",
       "0.99    0.5224\n",
       "Name: windspeed, dtype: float64"
      ]
     },
     "execution_count": 35,
     "metadata": {},
     "output_type": "execute_result"
    }
   ],
   "source": [
    "#outlier treatment for variable windspeed \n",
    "lyft2.windspeed.quantile([0.1, 0.25, 0.5, 0.70, 0.9, 0.95, 0.99])\n"
   ]
  },
  {
   "cell_type": "code",
   "execution_count": 37,
   "id": "705e4ac2",
   "metadata": {},
   "outputs": [
    {
     "name": "stdout",
     "output_type": "stream",
     "text": [
      "old length: 17355\n",
      "new length: 16396\n",
      "outliers dropped: 959\n"
     ]
    }
   ],
   "source": [
    "#dropping the outliers\n",
    "lyft2a = lyft2[lyft2.windspeed < 0.4179].copy()\n",
    "print(\"old length:\",len(lyft2))\n",
    "print(\"new length:\",len(lyft2a))\n",
    "print(\"outliers dropped:\",len(lyft2)-len(lyft2a))"
   ]
  },
  {
   "cell_type": "code",
   "execution_count": 39,
   "id": "31c9a551",
   "metadata": {},
   "outputs": [
    {
     "name": "stderr",
     "output_type": "stream",
     "text": [
      "C:\\Users\\sujoydutta\\anaconda3\\lib\\site-packages\\seaborn\\_decorators.py:36: FutureWarning: Pass the following variable as a keyword arg: x. From version 0.12, the only valid positional argument will be `data`, and passing other arguments without an explicit keyword will result in an error or misinterpretation.\n",
      "  warnings.warn(\n"
     ]
    },
    {
     "data": {
      "text/plain": [
       "<AxesSubplot:xlabel='windspeed'>"
      ]
     },
     "execution_count": 39,
     "metadata": {},
     "output_type": "execute_result"
    },
    {
     "data": {
      "image/png": "[encoded data removed]",
      "text/plain": [
       "<Figure size 432x288 with 1 Axes>"
      ]
     },
     "metadata": {
      "needs_background": "light"
     },
     "output_type": "display_data"
    }
   ],
   "source": [
    "#checking if outliers gone\n",
    "sb.boxplot(lyft2a.windspeed)"
   ]
  },
  {
   "cell_type": "code",
   "execution_count": 40,
   "id": "419c78a4",
   "metadata": {},
   "outputs": [
    {
     "data": {
      "text/plain": [
       "0.10      9.00\n",
       "0.25     39.00\n",
       "0.50    141.00\n",
       "0.70    245.00\n",
       "0.90    452.00\n",
       "0.95    563.00\n",
       "0.99    784.05\n",
       "Name: cnt, dtype: float64"
      ]
     },
     "execution_count": 40,
     "metadata": {},
     "output_type": "execute_result"
    }
   ],
   "source": [
    "#outlier treatment for variable windspeed \n",
    "lyft2a.cnt.quantile([0.1, 0.25, 0.5, 0.70, 0.9, 0.95, 0.99])"
   ]
  },
  {
   "cell_type": "code",
   "execution_count": 41,
   "id": "6fdfaeb6",
   "metadata": {},
   "outputs": [
    {
     "name": "stdout",
     "output_type": "stream",
     "text": [
      "old length: 16396\n",
      "new length: 15571\n",
      "outliers dropped: 825\n"
     ]
    }
   ],
   "source": [
    "#dropping the outliers\n",
    "lyft2b = lyft2a[lyft2a.cnt < 563].copy()\n",
    "print(\"old length:\",len(lyft2a))\n",
    "print(\"new length:\",len(lyft2b))\n",
    "print(\"outliers dropped:\",len(lyft2a)-len(lyft2b))\n"
   ]
  },
  {
   "cell_type": "code",
   "execution_count": 42,
   "id": "be8beffa",
   "metadata": {},
   "outputs": [
    {
     "name": "stderr",
     "output_type": "stream",
     "text": [
      "C:\\Users\\sujoydutta\\anaconda3\\lib\\site-packages\\seaborn\\_decorators.py:36: FutureWarning: Pass the following variable as a keyword arg: x. From version 0.12, the only valid positional argument will be `data`, and passing other arguments without an explicit keyword will result in an error or misinterpretation.\n",
      "  warnings.warn(\n"
     ]
    },
    {
     "data": {
      "text/plain": [
       "<AxesSubplot:xlabel='cnt'>"
      ]
     },
     "execution_count": 42,
     "metadata": {},
     "output_type": "execute_result"
    },
    {
     "data": {
      "image/png": "[encoded data removed]",
      "text/plain": [
       "<Figure size 432x288 with 1 Axes>"
      ]
     },
     "metadata": {
      "needs_background": "light"
     },
     "output_type": "display_data"
    }
   ],
   "source": [
    "#checking if outliers gone\n",
    "sb.boxplot(lyft2b.cnt)"
   ]
  },
  {
   "cell_type": "markdown",
   "id": "6268f965",
   "metadata": {},
   "source": [
    "**Step 3:Exploratory data analysis**\n",
    "\n",
    "In this step, we are going to explore the dataset. Perform hypothesis tests,bivariate analysis and check for correlation between variables.  \n"
   ]
  },
  {
   "cell_type": "code",
   "execution_count": 90,
   "id": "007df602",
   "metadata": {},
   "outputs": [
    {
     "name": "stderr",
     "output_type": "stream",
     "text": [
      "C:\\Users\\sujoydutta\\anaconda3\\lib\\site-packages\\seaborn\\_decorators.py:36: FutureWarning: Pass the following variables as keyword args: x, y. From version 0.12, the only valid positional argument will be `data`, and passing other arguments without an explicit keyword will result in an error or misinterpretation.\n",
      "  warnings.warn(\n"
     ]
    },
    {
     "data": {
      "text/plain": [
       "<AxesSubplot:xlabel='hr', ylabel='cnt'>"
      ]
     },
     "execution_count": 90,
     "metadata": {},
     "output_type": "execute_result"
    },
    {
     "data": {
      "image/png": "[encoded data removed]",
      "text/plain": [
       "<Figure size 864x432 with 1 Axes>"
      ]
     },
     "metadata": {
      "needs_background": "light"
     },
     "output_type": "display_data"
    }
   ],
   "source": [
    "#box plot for cnt vs hr\n",
    "plt.figure(figsize=[12,6])\n",
    "sb.boxplot(\"hr\", \"cnt\", data=lyft2b)\n"
   ]
  },
  {
   "cell_type": "code",
   "execution_count": 91,
   "id": "649adc8c",
   "metadata": {},
   "outputs": [
    {
     "data": {
      "text/html": [
       "<div>\n",
       "<style scoped>\n",
       "    .dataframe tbody tr th:only-of-type {\n",
       "        vertical-align: middle;\n",
       "    }\n",
       "\n",
       "    .dataframe tbody tr th {\n",
       "        vertical-align: top;\n",
       "    }\n",
       "\n",
       "    .dataframe thead th {\n",
       "        text-align: right;\n",
       "    }\n",
       "</style>\n",
       "<table border=\"1\" class=\"dataframe\">\n",
       "  <thead>\n",
       "    <tr style=\"text-align: right;\">\n",
       "      <th></th>\n",
       "      <th>df</th>\n",
       "      <th>sum_sq</th>\n",
       "      <th>mean_sq</th>\n",
       "      <th>F</th>\n",
       "      <th>PR(&gt;F)</th>\n",
       "    </tr>\n",
       "  </thead>\n",
       "  <tbody>\n",
       "    <tr>\n",
       "      <th>hr</th>\n",
       "      <td>1.0</td>\n",
       "      <td>6.107687e+07</td>\n",
       "      <td>6.107687e+07</td>\n",
       "      <td>3671.150829</td>\n",
       "      <td>0.0</td>\n",
       "    </tr>\n",
       "    <tr>\n",
       "      <th>Residual</th>\n",
       "      <td>15569.0</td>\n",
       "      <td>2.590212e+08</td>\n",
       "      <td>1.663698e+04</td>\n",
       "      <td>NaN</td>\n",
       "      <td>NaN</td>\n",
       "    </tr>\n",
       "  </tbody>\n",
       "</table>\n",
       "</div>"
      ],
      "text/plain": [
       "               df        sum_sq       mean_sq            F  PR(>F)\n",
       "hr            1.0  6.107687e+07  6.107687e+07  3671.150829     0.0\n",
       "Residual  15569.0  2.590212e+08  1.663698e+04          NaN     NaN"
      ]
     },
     "execution_count": 91,
     "metadata": {},
     "output_type": "execute_result"
    }
   ],
   "source": [
    "#checking if demand differs according to the hour of the day\n",
    "mod = ols(\"cnt ~ hr\", data = lyft2b).fit()\n",
    "anov_table = sm.stats.anova_lm(mod)\n",
    "anov_table"
   ]
  },
  {
   "cell_type": "code",
   "execution_count": 46,
   "id": "62bb5fae",
   "metadata": {},
   "outputs": [
    {
     "name": "stderr",
     "output_type": "stream",
     "text": [
      "C:\\Users\\sujoydutta\\anaconda3\\lib\\site-packages\\seaborn\\_decorators.py:36: FutureWarning: Pass the following variables as keyword args: x, y. From version 0.12, the only valid positional argument will be `data`, and passing other arguments without an explicit keyword will result in an error or misinterpretation.\n",
      "  warnings.warn(\n"
     ]
    },
    {
     "data": {
      "text/plain": [
       "<AxesSubplot:xlabel='weekday', ylabel='cnt'>"
      ]
     },
     "execution_count": 46,
     "metadata": {},
     "output_type": "execute_result"
    },
    {
     "data": {
      "image/png": "[encoded data removed]",
      "text/plain": [
       "<Figure size 576x360 with 1 Axes>"
      ]
     },
     "metadata": {
      "needs_background": "light"
     },
     "output_type": "display_data"
    }
   ],
   "source": [
    "#cnt vs weekday\n",
    "plt.figure(figsize=[8,5])\n",
    "sb.boxplot(\"weekday\", \"cnt\", data=lyft2b)\n"
   ]
  },
  {
   "cell_type": "code",
   "execution_count": 92,
   "id": "dbcf2c2e",
   "metadata": {},
   "outputs": [
    {
     "data": {
      "text/html": [
       "<div>\n",
       "<style scoped>\n",
       "    .dataframe tbody tr th:only-of-type {\n",
       "        vertical-align: middle;\n",
       "    }\n",
       "\n",
       "    .dataframe tbody tr th {\n",
       "        vertical-align: top;\n",
       "    }\n",
       "\n",
       "    .dataframe thead th {\n",
       "        text-align: right;\n",
       "    }\n",
       "</style>\n",
       "<table border=\"1\" class=\"dataframe\">\n",
       "  <thead>\n",
       "    <tr style=\"text-align: right;\">\n",
       "      <th></th>\n",
       "      <th>df</th>\n",
       "      <th>sum_sq</th>\n",
       "      <th>mean_sq</th>\n",
       "      <th>F</th>\n",
       "      <th>PR(&gt;F)</th>\n",
       "    </tr>\n",
       "  </thead>\n",
       "  <tbody>\n",
       "    <tr>\n",
       "      <th>weekday</th>\n",
       "      <td>1.0</td>\n",
       "      <td>2.151308e+05</td>\n",
       "      <td>215130.83900</td>\n",
       "      <td>10.470618</td>\n",
       "      <td>0.001215</td>\n",
       "    </tr>\n",
       "    <tr>\n",
       "      <th>Residual</th>\n",
       "      <td>15569.0</td>\n",
       "      <td>3.198829e+08</td>\n",
       "      <td>20546.14528</td>\n",
       "      <td>NaN</td>\n",
       "      <td>NaN</td>\n",
       "    </tr>\n",
       "  </tbody>\n",
       "</table>\n",
       "</div>"
      ],
      "text/plain": [
       "               df        sum_sq       mean_sq          F    PR(>F)\n",
       "weekday       1.0  2.151308e+05  215130.83900  10.470618  0.001215\n",
       "Residual  15569.0  3.198829e+08   20546.14528        NaN       NaN"
      ]
     },
     "execution_count": 92,
     "metadata": {},
     "output_type": "execute_result"
    }
   ],
   "source": [
    "#checking if demand differs according to the weekday\n",
    "mod = ols(\"cnt ~ weekday\", data = lyft2b).fit()\n",
    "anov_table = sm.stats.anova_lm(mod)\n",
    "anov_table"
   ]
  },
  {
   "cell_type": "code",
   "execution_count": 48,
   "id": "705ca24a",
   "metadata": {},
   "outputs": [
    {
     "name": "stderr",
     "output_type": "stream",
     "text": [
      "C:\\Users\\sujoydutta\\anaconda3\\lib\\site-packages\\seaborn\\_decorators.py:36: FutureWarning: Pass the following variables as keyword args: x, y. From version 0.12, the only valid positional argument will be `data`, and passing other arguments without an explicit keyword will result in an error or misinterpretation.\n",
      "  warnings.warn(\n"
     ]
    },
    {
     "data": {
      "text/plain": [
       "<AxesSubplot:xlabel='mnth', ylabel='cnt'>"
      ]
     },
     "execution_count": 48,
     "metadata": {},
     "output_type": "execute_result"
    },
    {
     "data": {
      "image/png": "[encoded data removed]",
      "text/plain": [
       "<Figure size 720x432 with 1 Axes>"
      ]
     },
     "metadata": {
      "needs_background": "light"
     },
     "output_type": "display_data"
    }
   ],
   "source": [
    "#cnt vs month\n",
    "plt.figure(figsize=[10,6])\n",
    "sb.boxplot(\"mnth\", \"cnt\", data=lyft2b)"
   ]
  },
  {
   "cell_type": "code",
   "execution_count": 93,
   "id": "3168f713",
   "metadata": {},
   "outputs": [
    {
     "data": {
      "text/html": [
       "<div>\n",
       "<style scoped>\n",
       "    .dataframe tbody tr th:only-of-type {\n",
       "        vertical-align: middle;\n",
       "    }\n",
       "\n",
       "    .dataframe tbody tr th {\n",
       "        vertical-align: top;\n",
       "    }\n",
       "\n",
       "    .dataframe thead th {\n",
       "        text-align: right;\n",
       "    }\n",
       "</style>\n",
       "<table border=\"1\" class=\"dataframe\">\n",
       "  <thead>\n",
       "    <tr style=\"text-align: right;\">\n",
       "      <th></th>\n",
       "      <th>df</th>\n",
       "      <th>sum_sq</th>\n",
       "      <th>mean_sq</th>\n",
       "      <th>F</th>\n",
       "      <th>PR(&gt;F)</th>\n",
       "    </tr>\n",
       "  </thead>\n",
       "  <tbody>\n",
       "    <tr>\n",
       "      <th>mnth</th>\n",
       "      <td>1.0</td>\n",
       "      <td>4.311260e+06</td>\n",
       "      <td>4.311260e+06</td>\n",
       "      <td>212.554813</td>\n",
       "      <td>7.864329e-48</td>\n",
       "    </tr>\n",
       "    <tr>\n",
       "      <th>Residual</th>\n",
       "      <td>15569.0</td>\n",
       "      <td>3.157868e+08</td>\n",
       "      <td>2.028305e+04</td>\n",
       "      <td>NaN</td>\n",
       "      <td>NaN</td>\n",
       "    </tr>\n",
       "  </tbody>\n",
       "</table>\n",
       "</div>"
      ],
      "text/plain": [
       "               df        sum_sq       mean_sq           F        PR(>F)\n",
       "mnth          1.0  4.311260e+06  4.311260e+06  212.554813  7.864329e-48\n",
       "Residual  15569.0  3.157868e+08  2.028305e+04         NaN           NaN"
      ]
     },
     "execution_count": 93,
     "metadata": {},
     "output_type": "execute_result"
    }
   ],
   "source": [
    "#checking if demand differs according to the month\n",
    "mod = ols(\"cnt ~ mnth\", data = lyft2b).fit()\n",
    "anov_table = sm.stats.anova_lm(mod)\n",
    "anov_table"
   ]
  },
  {
   "cell_type": "code",
   "execution_count": 49,
   "id": "8616d823",
   "metadata": {},
   "outputs": [
    {
     "name": "stderr",
     "output_type": "stream",
     "text": [
      "C:\\Users\\sujoydutta\\anaconda3\\lib\\site-packages\\seaborn\\_decorators.py:36: FutureWarning: Pass the following variables as keyword args: x, y. From version 0.12, the only valid positional argument will be `data`, and passing other arguments without an explicit keyword will result in an error or misinterpretation.\n",
      "  warnings.warn(\n"
     ]
    },
    {
     "data": {
      "text/plain": [
       "<AxesSubplot:xlabel='season', ylabel='cnt'>"
      ]
     },
     "execution_count": 49,
     "metadata": {},
     "output_type": "execute_result"
    },
    {
     "data": {
      "image/png": "[encoded data removed]",
      "text/plain": [
       "<Figure size 720x432 with 1 Axes>"
      ]
     },
     "metadata": {
      "needs_background": "light"
     },
     "output_type": "display_data"
    }
   ],
   "source": [
    "#season vs cnt \n",
    "plt.figure(figsize=[10,6])\n",
    "sb.boxplot(\"season\", \"cnt\", data=lyft2b)\n"
   ]
  },
  {
   "cell_type": "code",
   "execution_count": 94,
   "id": "2724af1a",
   "metadata": {},
   "outputs": [
    {
     "data": {
      "text/html": [
       "<div>\n",
       "<style scoped>\n",
       "    .dataframe tbody tr th:only-of-type {\n",
       "        vertical-align: middle;\n",
       "    }\n",
       "\n",
       "    .dataframe tbody tr th {\n",
       "        vertical-align: top;\n",
       "    }\n",
       "\n",
       "    .dataframe thead th {\n",
       "        text-align: right;\n",
       "    }\n",
       "</style>\n",
       "<table border=\"1\" class=\"dataframe\">\n",
       "  <thead>\n",
       "    <tr style=\"text-align: right;\">\n",
       "      <th></th>\n",
       "      <th>df</th>\n",
       "      <th>sum_sq</th>\n",
       "      <th>mean_sq</th>\n",
       "      <th>F</th>\n",
       "      <th>PR(&gt;F)</th>\n",
       "    </tr>\n",
       "  </thead>\n",
       "  <tbody>\n",
       "    <tr>\n",
       "      <th>season</th>\n",
       "      <td>1.0</td>\n",
       "      <td>9.024545e+06</td>\n",
       "      <td>9.024545e+06</td>\n",
       "      <td>451.671827</td>\n",
       "      <td>7.874838e-99</td>\n",
       "    </tr>\n",
       "    <tr>\n",
       "      <th>Residual</th>\n",
       "      <td>15569.0</td>\n",
       "      <td>3.110735e+08</td>\n",
       "      <td>1.998031e+04</td>\n",
       "      <td>NaN</td>\n",
       "      <td>NaN</td>\n",
       "    </tr>\n",
       "  </tbody>\n",
       "</table>\n",
       "</div>"
      ],
      "text/plain": [
       "               df        sum_sq       mean_sq           F        PR(>F)\n",
       "season        1.0  9.024545e+06  9.024545e+06  451.671827  7.874838e-99\n",
       "Residual  15569.0  3.110735e+08  1.998031e+04         NaN           NaN"
      ]
     },
     "execution_count": 94,
     "metadata": {},
     "output_type": "execute_result"
    }
   ],
   "source": [
    "#checking if demand differs according to the season\n",
    "mod = ols(\"cnt ~ season\", data = lyft2b).fit()\n",
    "anov_table = sm.stats.anova_lm(mod)\n",
    "anov_table"
   ]
  },
  {
   "cell_type": "code",
   "execution_count": 57,
   "id": "44c02bf6",
   "metadata": {},
   "outputs": [
    {
     "data": {
      "text/html": [
       "<div>\n",
       "<style scoped>\n",
       "    .dataframe tbody tr th:only-of-type {\n",
       "        vertical-align: middle;\n",
       "    }\n",
       "\n",
       "    .dataframe tbody tr th {\n",
       "        vertical-align: top;\n",
       "    }\n",
       "\n",
       "    .dataframe thead th {\n",
       "        text-align: right;\n",
       "    }\n",
       "</style>\n",
       "<table border=\"1\" class=\"dataframe\">\n",
       "  <thead>\n",
       "    <tr style=\"text-align: right;\">\n",
       "      <th></th>\n",
       "      <th>season</th>\n",
       "      <th>yr</th>\n",
       "      <th>mnth</th>\n",
       "      <th>hr</th>\n",
       "      <th>holiday</th>\n",
       "      <th>weekday</th>\n",
       "      <th>workingday</th>\n",
       "      <th>weathersit</th>\n",
       "      <th>temp</th>\n",
       "      <th>atemp</th>\n",
       "      <th>hum</th>\n",
       "      <th>windspeed</th>\n",
       "      <th>cnt</th>\n",
       "    </tr>\n",
       "  </thead>\n",
       "  <tbody>\n",
       "    <tr>\n",
       "      <th>count</th>\n",
       "      <td>15571.00</td>\n",
       "      <td>15571.00</td>\n",
       "      <td>15571.00</td>\n",
       "      <td>15571.00</td>\n",
       "      <td>15571.00</td>\n",
       "      <td>15571.00</td>\n",
       "      <td>15571.00</td>\n",
       "      <td>15571.00</td>\n",
       "      <td>15571.00</td>\n",
       "      <td>15571.00</td>\n",
       "      <td>15571.00</td>\n",
       "      <td>15571.00</td>\n",
       "      <td>15571.00</td>\n",
       "    </tr>\n",
       "    <tr>\n",
       "      <th>mean</th>\n",
       "      <td>2.51</td>\n",
       "      <td>0.48</td>\n",
       "      <td>6.57</td>\n",
       "      <td>11.27</td>\n",
       "      <td>0.03</td>\n",
       "      <td>2.99</td>\n",
       "      <td>0.68</td>\n",
       "      <td>1.43</td>\n",
       "      <td>0.49</td>\n",
       "      <td>0.47</td>\n",
       "      <td>0.64</td>\n",
       "      <td>0.17</td>\n",
       "      <td>162.83</td>\n",
       "    </tr>\n",
       "    <tr>\n",
       "      <th>std</th>\n",
       "      <td>1.11</td>\n",
       "      <td>0.50</td>\n",
       "      <td>3.45</td>\n",
       "      <td>7.05</td>\n",
       "      <td>0.17</td>\n",
       "      <td>2.01</td>\n",
       "      <td>0.47</td>\n",
       "      <td>0.64</td>\n",
       "      <td>0.19</td>\n",
       "      <td>0.17</td>\n",
       "      <td>0.19</td>\n",
       "      <td>0.10</td>\n",
       "      <td>143.38</td>\n",
       "    </tr>\n",
       "    <tr>\n",
       "      <th>min</th>\n",
       "      <td>1.00</td>\n",
       "      <td>0.00</td>\n",
       "      <td>1.00</td>\n",
       "      <td>0.00</td>\n",
       "      <td>0.00</td>\n",
       "      <td>0.00</td>\n",
       "      <td>0.00</td>\n",
       "      <td>1.00</td>\n",
       "      <td>0.02</td>\n",
       "      <td>0.00</td>\n",
       "      <td>0.13</td>\n",
       "      <td>0.00</td>\n",
       "      <td>1.00</td>\n",
       "    </tr>\n",
       "    <tr>\n",
       "      <th>25%</th>\n",
       "      <td>2.00</td>\n",
       "      <td>0.00</td>\n",
       "      <td>4.00</td>\n",
       "      <td>5.00</td>\n",
       "      <td>0.00</td>\n",
       "      <td>1.00</td>\n",
       "      <td>0.00</td>\n",
       "      <td>1.00</td>\n",
       "      <td>0.34</td>\n",
       "      <td>0.33</td>\n",
       "      <td>0.49</td>\n",
       "      <td>0.10</td>\n",
       "      <td>35.00</td>\n",
       "    </tr>\n",
       "    <tr>\n",
       "      <th>50%</th>\n",
       "      <td>3.00</td>\n",
       "      <td>0.00</td>\n",
       "      <td>7.00</td>\n",
       "      <td>11.00</td>\n",
       "      <td>0.00</td>\n",
       "      <td>3.00</td>\n",
       "      <td>1.00</td>\n",
       "      <td>1.00</td>\n",
       "      <td>0.50</td>\n",
       "      <td>0.48</td>\n",
       "      <td>0.65</td>\n",
       "      <td>0.16</td>\n",
       "      <td>129.00</td>\n",
       "    </tr>\n",
       "    <tr>\n",
       "      <th>75%</th>\n",
       "      <td>3.00</td>\n",
       "      <td>1.00</td>\n",
       "      <td>10.00</td>\n",
       "      <td>18.00</td>\n",
       "      <td>0.00</td>\n",
       "      <td>5.00</td>\n",
       "      <td>1.00</td>\n",
       "      <td>2.00</td>\n",
       "      <td>0.64</td>\n",
       "      <td>0.62</td>\n",
       "      <td>0.80</td>\n",
       "      <td>0.25</td>\n",
       "      <td>254.00</td>\n",
       "    </tr>\n",
       "    <tr>\n",
       "      <th>max</th>\n",
       "      <td>4.00</td>\n",
       "      <td>1.00</td>\n",
       "      <td>12.00</td>\n",
       "      <td>23.00</td>\n",
       "      <td>1.00</td>\n",
       "      <td>6.00</td>\n",
       "      <td>1.00</td>\n",
       "      <td>4.00</td>\n",
       "      <td>1.00</td>\n",
       "      <td>1.00</td>\n",
       "      <td>1.00</td>\n",
       "      <td>0.39</td>\n",
       "      <td>562.00</td>\n",
       "    </tr>\n",
       "  </tbody>\n",
       "</table>\n",
       "</div>"
      ],
      "text/plain": [
       "         season        yr      mnth        hr   holiday   weekday  workingday  \\\n",
       "count  15571.00  15571.00  15571.00  15571.00  15571.00  15571.00    15571.00   \n",
       "mean       2.51      0.48      6.57     11.27      0.03      2.99        0.68   \n",
       "std        1.11      0.50      3.45      7.05      0.17      2.01        0.47   \n",
       "min        1.00      0.00      1.00      0.00      0.00      0.00        0.00   \n",
       "25%        2.00      0.00      4.00      5.00      0.00      1.00        0.00   \n",
       "50%        3.00      0.00      7.00     11.00      0.00      3.00        1.00   \n",
       "75%        3.00      1.00     10.00     18.00      0.00      5.00        1.00   \n",
       "max        4.00      1.00     12.00     23.00      1.00      6.00        1.00   \n",
       "\n",
       "       weathersit      temp     atemp       hum  windspeed       cnt  \n",
       "count    15571.00  15571.00  15571.00  15571.00   15571.00  15571.00  \n",
       "mean         1.43      0.49      0.47      0.64       0.17    162.83  \n",
       "std          0.64      0.19      0.17      0.19       0.10    143.38  \n",
       "min          1.00      0.02      0.00      0.13       0.00      1.00  \n",
       "25%          1.00      0.34      0.33      0.49       0.10     35.00  \n",
       "50%          1.00      0.50      0.48      0.65       0.16    129.00  \n",
       "75%          2.00      0.64      0.62      0.80       0.25    254.00  \n",
       "max          4.00      1.00      1.00      1.00       0.39    562.00  "
      ]
     },
     "execution_count": 57,
     "metadata": {},
     "output_type": "execute_result"
    }
   ],
   "source": [
    "#summary stats\n",
    "lyft2b.describe().round(2)"
   ]
  },
  {
   "cell_type": "code",
   "execution_count": 110,
   "id": "1e1c4139",
   "metadata": {},
   "outputs": [
    {
     "data": {
      "text/html": [
       "<div>\n",
       "<style scoped>\n",
       "    .dataframe tbody tr th:only-of-type {\n",
       "        vertical-align: middle;\n",
       "    }\n",
       "\n",
       "    .dataframe tbody tr th {\n",
       "        vertical-align: top;\n",
       "    }\n",
       "\n",
       "    .dataframe thead th {\n",
       "        text-align: right;\n",
       "    }\n",
       "</style>\n",
       "<table border=\"1\" class=\"dataframe\">\n",
       "  <thead>\n",
       "    <tr style=\"text-align: right;\">\n",
       "      <th></th>\n",
       "      <th>cnt</th>\n",
       "      <th>Demand-levels</th>\n",
       "    </tr>\n",
       "  </thead>\n",
       "  <tbody>\n",
       "    <tr>\n",
       "      <th>0</th>\n",
       "      <td>16</td>\n",
       "      <td>Low</td>\n",
       "    </tr>\n",
       "    <tr>\n",
       "      <th>1</th>\n",
       "      <td>40</td>\n",
       "      <td>Low</td>\n",
       "    </tr>\n",
       "    <tr>\n",
       "      <th>2</th>\n",
       "      <td>32</td>\n",
       "      <td>Low</td>\n",
       "    </tr>\n",
       "    <tr>\n",
       "      <th>3</th>\n",
       "      <td>13</td>\n",
       "      <td>Low</td>\n",
       "    </tr>\n",
       "    <tr>\n",
       "      <th>4</th>\n",
       "      <td>1</td>\n",
       "      <td>Low</td>\n",
       "    </tr>\n",
       "    <tr>\n",
       "      <th>5</th>\n",
       "      <td>1</td>\n",
       "      <td>Low</td>\n",
       "    </tr>\n",
       "    <tr>\n",
       "      <th>6</th>\n",
       "      <td>2</td>\n",
       "      <td>Low</td>\n",
       "    </tr>\n",
       "    <tr>\n",
       "      <th>7</th>\n",
       "      <td>3</td>\n",
       "      <td>Low</td>\n",
       "    </tr>\n",
       "    <tr>\n",
       "      <th>8</th>\n",
       "      <td>8</td>\n",
       "      <td>Low</td>\n",
       "    </tr>\n",
       "    <tr>\n",
       "      <th>9</th>\n",
       "      <td>14</td>\n",
       "      <td>Low</td>\n",
       "    </tr>\n",
       "    <tr>\n",
       "      <th>10</th>\n",
       "      <td>36</td>\n",
       "      <td>Low</td>\n",
       "    </tr>\n",
       "    <tr>\n",
       "      <th>11</th>\n",
       "      <td>56</td>\n",
       "      <td>Low</td>\n",
       "    </tr>\n",
       "    <tr>\n",
       "      <th>12</th>\n",
       "      <td>84</td>\n",
       "      <td>Low</td>\n",
       "    </tr>\n",
       "    <tr>\n",
       "      <th>13</th>\n",
       "      <td>94</td>\n",
       "      <td>Low</td>\n",
       "    </tr>\n",
       "    <tr>\n",
       "      <th>14</th>\n",
       "      <td>106</td>\n",
       "      <td>Low</td>\n",
       "    </tr>\n",
       "    <tr>\n",
       "      <th>15</th>\n",
       "      <td>110</td>\n",
       "      <td>Low</td>\n",
       "    </tr>\n",
       "    <tr>\n",
       "      <th>16</th>\n",
       "      <td>93</td>\n",
       "      <td>Low</td>\n",
       "    </tr>\n",
       "    <tr>\n",
       "      <th>17</th>\n",
       "      <td>67</td>\n",
       "      <td>Low</td>\n",
       "    </tr>\n",
       "    <tr>\n",
       "      <th>18</th>\n",
       "      <td>35</td>\n",
       "      <td>Low</td>\n",
       "    </tr>\n",
       "    <tr>\n",
       "      <th>19</th>\n",
       "      <td>37</td>\n",
       "      <td>Low</td>\n",
       "    </tr>\n",
       "  </tbody>\n",
       "</table>\n",
       "</div>"
      ],
      "text/plain": [
       "    cnt Demand-levels\n",
       "0    16           Low\n",
       "1    40           Low\n",
       "2    32           Low\n",
       "3    13           Low\n",
       "4     1           Low\n",
       "5     1           Low\n",
       "6     2           Low\n",
       "7     3           Low\n",
       "8     8           Low\n",
       "9    14           Low\n",
       "10   36           Low\n",
       "11   56           Low\n",
       "12   84           Low\n",
       "13   94           Low\n",
       "14  106           Low\n",
       "15  110           Low\n",
       "16   93           Low\n",
       "17   67           Low\n",
       "18   35           Low\n",
       "19   37           Low"
      ]
     },
     "execution_count": 110,
     "metadata": {},
     "output_type": "execute_result"
    }
   ],
   "source": [
    "#creating bins\n",
    "bins = np.linspace(min(lyft2b[\"cnt\"]), max(lyft2b[\"cnt\"]), 6)\n",
    "bins\n",
    "group_names = ['Low','mid-low', 'Medium','mid-high', 'High']\n",
    "lyft2b[\"Demand-levels\"] = pd.cut(lyft2b[\"cnt\"], bins, labels=group_names, include_lowest=True )\n",
    "lyft2b[['cnt','Demand-levels']].head(20)"
   ]
  },
  {
   "cell_type": "code",
   "execution_count": 111,
   "id": "6e5f308f",
   "metadata": {},
   "outputs": [
    {
     "name": "stdout",
     "output_type": "stream",
     "text": [
      "Low         7191\n",
      "mid-low     3763\n",
      "Medium      2427\n",
      "mid-high    1356\n",
      "High         834\n",
      "Name: Demand-levels, dtype: int64\n"
     ]
    }
   ],
   "source": [
    "#demand distribution\n",
    "demand_count=lyft2b[\"Demand-levels\"].value_counts()\n",
    "print(demand_count)"
   ]
  },
  {
   "cell_type": "code",
   "execution_count": 112,
   "id": "4699bd3a",
   "metadata": {},
   "outputs": [
    {
     "data": {
      "text/plain": [
       "Text(0.5, 1.0, 'Demand bins')"
      ]
     },
     "execution_count": 112,
     "metadata": {},
     "output_type": "execute_result"
    },
    {
     "data": {
      "image/png": "[encoded data removed]",
      "text/plain": [
       "<Figure size 432x288 with 1 Axes>"
      ]
     },
     "metadata": {
      "needs_background": "light"
     },
     "output_type": "display_data"
    }
   ],
   "source": [
    "# Distribution visualized\n",
    "plt.bar(group_names, lyft2b[\"Demand-levels\"].value_counts())\n",
    "plt.xlabel(\"Number of demands\")\n",
    "plt.ylabel(\"Demand levels\")\n",
    "plt.title(\"Demand bins\")"
   ]
  },
  {
   "cell_type": "code",
   "execution_count": 113,
   "id": "a04dd200",
   "metadata": {},
   "outputs": [
    {
     "data": {
      "text/html": [
       "<div>\n",
       "<style scoped>\n",
       "    .dataframe tbody tr th:only-of-type {\n",
       "        vertical-align: middle;\n",
       "    }\n",
       "\n",
       "    .dataframe tbody tr th {\n",
       "        vertical-align: top;\n",
       "    }\n",
       "\n",
       "    .dataframe thead th {\n",
       "        text-align: right;\n",
       "    }\n",
       "</style>\n",
       "<table border=\"1\" class=\"dataframe\">\n",
       "  <thead>\n",
       "    <tr style=\"text-align: right;\">\n",
       "      <th></th>\n",
       "      <th>temp</th>\n",
       "      <th>atemp</th>\n",
       "      <th>hum</th>\n",
       "      <th>windspeed</th>\n",
       "      <th>cnt</th>\n",
       "    </tr>\n",
       "  </thead>\n",
       "  <tbody>\n",
       "    <tr>\n",
       "      <th>temp</th>\n",
       "      <td>1.00</td>\n",
       "      <td>0.99</td>\n",
       "      <td>-0.06</td>\n",
       "      <td>0.00</td>\n",
       "      <td>0.40</td>\n",
       "    </tr>\n",
       "    <tr>\n",
       "      <th>atemp</th>\n",
       "      <td>0.99</td>\n",
       "      <td>1.00</td>\n",
       "      <td>-0.05</td>\n",
       "      <td>-0.03</td>\n",
       "      <td>0.39</td>\n",
       "    </tr>\n",
       "    <tr>\n",
       "      <th>hum</th>\n",
       "      <td>-0.06</td>\n",
       "      <td>-0.05</td>\n",
       "      <td>1.00</td>\n",
       "      <td>-0.24</td>\n",
       "      <td>-0.33</td>\n",
       "    </tr>\n",
       "    <tr>\n",
       "      <th>windspeed</th>\n",
       "      <td>0.00</td>\n",
       "      <td>-0.03</td>\n",
       "      <td>-0.24</td>\n",
       "      <td>1.00</td>\n",
       "      <td>0.11</td>\n",
       "    </tr>\n",
       "    <tr>\n",
       "      <th>cnt</th>\n",
       "      <td>0.40</td>\n",
       "      <td>0.39</td>\n",
       "      <td>-0.33</td>\n",
       "      <td>0.11</td>\n",
       "      <td>1.00</td>\n",
       "    </tr>\n",
       "  </tbody>\n",
       "</table>\n",
       "</div>"
      ],
      "text/plain": [
       "           temp  atemp   hum  windspeed   cnt\n",
       "temp       1.00   0.99 -0.06       0.00  0.40\n",
       "atemp      0.99   1.00 -0.05      -0.03  0.39\n",
       "hum       -0.06  -0.05  1.00      -0.24 -0.33\n",
       "windspeed  0.00  -0.03 -0.24       1.00  0.11\n",
       "cnt        0.40   0.39 -0.33       0.11  1.00"
      ]
     },
     "execution_count": 113,
     "metadata": {},
     "output_type": "execute_result"
    }
   ],
   "source": [
    "#checking correlation of independent variables with dependent \n",
    "num_vars = ['temp', 'atemp', 'hum', 'windspeed','cnt']\n",
    "corrs = lyft2b[num_vars].corr()\n",
    "corrs.round(2)"
   ]
  },
  {
   "cell_type": "code",
   "execution_count": 60,
   "id": "273ed4c6",
   "metadata": {},
   "outputs": [
    {
     "data": {
      "text/plain": [
       "<AxesSubplot:>"
      ]
     },
     "execution_count": 60,
     "metadata": {},
     "output_type": "execute_result"
    },
    {
     "data": {
      "image/png": "[encoded data removed]",
      "text/plain": [
       "<Figure size 432x288 with 2 Axes>"
      ]
     },
     "metadata": {
      "needs_background": "light"
     },
     "output_type": "display_data"
    }
   ],
   "source": [
    "#heatmap of correlation\n",
    "sb.heatmap(corrs, annot=True, cmap=\"Reds\")"
   ]
  },
  {
   "cell_type": "code",
   "execution_count": 109,
   "id": "670b5e9a",
   "metadata": {},
   "outputs": [
    {
     "name": "stderr",
     "output_type": "stream",
     "text": [
      "C:\\Users\\sujoydutta\\anaconda3\\lib\\site-packages\\seaborn\\distributions.py:2619: FutureWarning: `distplot` is a deprecated function and will be removed in a future version. Please adapt your code to use either `displot` (a figure-level function with similar flexibility) or `histplot` (an axes-level function for histograms).\n",
      "  warnings.warn(msg, FutureWarning)\n"
     ]
    },
    {
     "data": {
      "text/plain": [
       "<AxesSubplot:xlabel='cnt'>"
      ]
     },
     "execution_count": 109,
     "metadata": {},
     "output_type": "execute_result"
    },
    {
     "data": {
      "image/png": "[encoded data removed]",
      "text/plain": [
       "<Figure size 1152x504 with 1 Axes>"
      ]
     },
     "metadata": {
      "needs_background": "light"
     },
     "output_type": "display_data"
    }
   ],
   "source": [
    "#Seeing demand distribution \n",
    "plt.figure(figsize=(16,7))\n",
    "sb.distplot(lyft2b['cnt'], kde = False,hist_kws=dict(edgecolor=\"k\"))"
   ]
  },
  {
   "cell_type": "markdown",
   "id": "3b80a796",
   "metadata": {},
   "source": [
    "**Findings**\n",
    "\n",
    "1.\tDemand for bikes is mostly low to medium on most days so need to stock more bikes as it would lead to high maintenance costs and too much unused inventory. \n",
    "2.\tDemand for bikes are negatively affected by humidity and positively affected by temperature and windspeed which implies people like to cycle on moderate windy and summer times. \n",
    "3.\tPeople mostly like to cycle on the weekends so on weekends the stock should be high. \n",
    "4.\tPeople have high demand for bikes at around 7 to 8 AM and 5 to 7 PM, therefore we can say people like to workout in the morning and evenings.\n",
    "5.\tThe demand is lowest in the winter months.\n"
   ]
  },
  {
   "cell_type": "markdown",
   "id": "2437dc24",
   "metadata": {},
   "source": [
    "**Step 4: Model building**\n",
    "\n",
    "A linear regression model is going to be built in order to predict the rating of the app which is the dependent variable. The categorical variables will be converted into numerical using dummy variables method. The algorithm will predict the rating of an application."
   ]
  },
  {
   "cell_type": "code",
   "execution_count": 63,
   "id": "41acaa83",
   "metadata": {},
   "outputs": [
    {
     "data": {
      "text/html": [
       "<div>\n",
       "<style scoped>\n",
       "    .dataframe tbody tr th:only-of-type {\n",
       "        vertical-align: middle;\n",
       "    }\n",
       "\n",
       "    .dataframe tbody tr th {\n",
       "        vertical-align: top;\n",
       "    }\n",
       "\n",
       "    .dataframe thead th {\n",
       "        text-align: right;\n",
       "    }\n",
       "</style>\n",
       "<table border=\"1\" class=\"dataframe\">\n",
       "  <thead>\n",
       "    <tr style=\"text-align: right;\">\n",
       "      <th></th>\n",
       "      <th>season</th>\n",
       "      <th>yr</th>\n",
       "      <th>mnth</th>\n",
       "      <th>hr</th>\n",
       "      <th>holiday</th>\n",
       "      <th>weekday</th>\n",
       "      <th>workingday</th>\n",
       "      <th>weathersit</th>\n",
       "      <th>temp</th>\n",
       "      <th>atemp</th>\n",
       "      <th>hum</th>\n",
       "      <th>windspeed</th>\n",
       "      <th>cnt</th>\n",
       "    </tr>\n",
       "  </thead>\n",
       "  <tbody>\n",
       "    <tr>\n",
       "      <th>0</th>\n",
       "      <td>1</td>\n",
       "      <td>0</td>\n",
       "      <td>1</td>\n",
       "      <td>0</td>\n",
       "      <td>0</td>\n",
       "      <td>6</td>\n",
       "      <td>0</td>\n",
       "      <td>1</td>\n",
       "      <td>0.24</td>\n",
       "      <td>0.2879</td>\n",
       "      <td>0.81</td>\n",
       "      <td>0.0</td>\n",
       "      <td>16</td>\n",
       "    </tr>\n",
       "    <tr>\n",
       "      <th>1</th>\n",
       "      <td>1</td>\n",
       "      <td>0</td>\n",
       "      <td>1</td>\n",
       "      <td>1</td>\n",
       "      <td>0</td>\n",
       "      <td>6</td>\n",
       "      <td>0</td>\n",
       "      <td>1</td>\n",
       "      <td>0.22</td>\n",
       "      <td>0.2727</td>\n",
       "      <td>0.80</td>\n",
       "      <td>0.0</td>\n",
       "      <td>40</td>\n",
       "    </tr>\n",
       "    <tr>\n",
       "      <th>2</th>\n",
       "      <td>1</td>\n",
       "      <td>0</td>\n",
       "      <td>1</td>\n",
       "      <td>2</td>\n",
       "      <td>0</td>\n",
       "      <td>6</td>\n",
       "      <td>0</td>\n",
       "      <td>1</td>\n",
       "      <td>0.22</td>\n",
       "      <td>0.2727</td>\n",
       "      <td>0.80</td>\n",
       "      <td>0.0</td>\n",
       "      <td>32</td>\n",
       "    </tr>\n",
       "    <tr>\n",
       "      <th>3</th>\n",
       "      <td>1</td>\n",
       "      <td>0</td>\n",
       "      <td>1</td>\n",
       "      <td>3</td>\n",
       "      <td>0</td>\n",
       "      <td>6</td>\n",
       "      <td>0</td>\n",
       "      <td>1</td>\n",
       "      <td>0.24</td>\n",
       "      <td>0.2879</td>\n",
       "      <td>0.75</td>\n",
       "      <td>0.0</td>\n",
       "      <td>13</td>\n",
       "    </tr>\n",
       "    <tr>\n",
       "      <th>4</th>\n",
       "      <td>1</td>\n",
       "      <td>0</td>\n",
       "      <td>1</td>\n",
       "      <td>4</td>\n",
       "      <td>0</td>\n",
       "      <td>6</td>\n",
       "      <td>0</td>\n",
       "      <td>1</td>\n",
       "      <td>0.24</td>\n",
       "      <td>0.2879</td>\n",
       "      <td>0.75</td>\n",
       "      <td>0.0</td>\n",
       "      <td>1</td>\n",
       "    </tr>\n",
       "  </tbody>\n",
       "</table>\n",
       "</div>"
      ],
      "text/plain": [
       "   season  yr  mnth  hr  holiday  weekday  workingday  weathersit  temp  \\\n",
       "0       1   0     1   0        0        6           0           1  0.24   \n",
       "1       1   0     1   1        0        6           0           1  0.22   \n",
       "2       1   0     1   2        0        6           0           1  0.22   \n",
       "3       1   0     1   3        0        6           0           1  0.24   \n",
       "4       1   0     1   4        0        6           0           1  0.24   \n",
       "\n",
       "    atemp   hum  windspeed  cnt  \n",
       "0  0.2879  0.81        0.0   16  \n",
       "1  0.2727  0.80        0.0   40  \n",
       "2  0.2727  0.80        0.0   32  \n",
       "3  0.2879  0.75        0.0   13  \n",
       "4  0.2879  0.75        0.0    1  "
      ]
     },
     "execution_count": 63,
     "metadata": {},
     "output_type": "execute_result"
    }
   ],
   "source": [
    "#renaming the dataset\n",
    "lyft3=lyft2b.copy()\n",
    "lyft3.head()"
   ]
  },
  {
   "cell_type": "code",
   "execution_count": 68,
   "id": "45e188cb",
   "metadata": {},
   "outputs": [
    {
     "name": "stderr",
     "output_type": "stream",
     "text": [
      "C:\\Users\\sujoydutta\\AppData\\Local\\Temp\\ipykernel_2688\\4049091657.py:2: SettingWithCopyWarning: \n",
      "A value is trying to be set on a copy of a slice from a DataFrame\n",
      "\n",
      "See the caveats in the documentation: https://pandas.pydata.org/pandas-docs/stable/user_guide/indexing.html#returning-a-view-versus-a-copy\n",
      "  lyft3.mnth[lyft3.mnth.isin([5,6,7,8,9])] = 5\n"
     ]
    },
    {
     "data": {
      "text/plain": [
       "array([ 1,  2,  3,  4,  5, 10, 11, 12], dtype=int64)"
      ]
     },
     "execution_count": 68,
     "metadata": {},
     "output_type": "execute_result"
    }
   ],
   "source": [
    "#creating month dummy variable\n",
    "lyft3.mnth[lyft3.mnth.isin([5,6,7,8,9])] = 5\n",
    "np.unique(lyft3.mnth)\n"
   ]
  },
  {
   "cell_type": "code",
   "execution_count": 69,
   "id": "d9acdae2",
   "metadata": {},
   "outputs": [
    {
     "name": "stderr",
     "output_type": "stream",
     "text": [
      "C:\\Users\\sujoydutta\\AppData\\Local\\Temp\\ipykernel_2688\\2893508931.py:2: SettingWithCopyWarning: \n",
      "A value is trying to be set on a copy of a slice from a DataFrame\n",
      "\n",
      "See the caveats in the documentation: https://pandas.pydata.org/pandas-docs/stable/user_guide/indexing.html#returning-a-view-versus-a-copy\n",
      "  lyft3.hr[lyft3.hr.isin([0,1,2,3,4,5])] = 0\n",
      "C:\\Users\\sujoydutta\\AppData\\Local\\Temp\\ipykernel_2688\\2893508931.py:3: SettingWithCopyWarning: \n",
      "A value is trying to be set on a copy of a slice from a DataFrame\n",
      "\n",
      "See the caveats in the documentation: https://pandas.pydata.org/pandas-docs/stable/user_guide/indexing.html#returning-a-view-versus-a-copy\n",
      "  lyft3.hr[lyft3.hr.isin([11,12,13,14,15])] = 11\n"
     ]
    },
    {
     "data": {
      "text/plain": [
       "array([ 0,  6,  7,  8,  9, 10, 11, 16, 17, 18, 19, 20, 21, 22, 23],\n",
       "      dtype=int64)"
      ]
     },
     "execution_count": 69,
     "metadata": {},
     "output_type": "execute_result"
    }
   ],
   "source": [
    "#getting dummies for hr \n",
    "lyft3.hr[lyft3.hr.isin([0,1,2,3,4,5])] = 0\n",
    "lyft3.hr[lyft3.hr.isin([11,12,13,14,15])] = 11\n",
    "\n",
    "np.unique(lyft3.hr)\n"
   ]
  },
  {
   "cell_type": "code",
   "execution_count": 70,
   "id": "427ffacb",
   "metadata": {},
   "outputs": [
    {
     "data": {
      "text/plain": [
       "Index(['yr', 'holiday', 'workingday', 'temp', 'atemp', 'hum', 'windspeed',\n",
       "       'cnt', 'season_2', 'season_3', 'season_4', 'weathersit_2',\n",
       "       'weathersit_3', 'weathersit_4', 'weekday_1', 'weekday_2', 'weekday_3',\n",
       "       'weekday_4', 'weekday_5', 'weekday_6', 'mnth_2', 'mnth_3', 'mnth_4',\n",
       "       'mnth_5', 'mnth_10', 'mnth_11', 'mnth_12', 'hr_6', 'hr_7', 'hr_8',\n",
       "       'hr_9', 'hr_10', 'hr_11', 'hr_16', 'hr_17', 'hr_18', 'hr_19', 'hr_20',\n",
       "       'hr_21', 'hr_22', 'hr_23'],\n",
       "      dtype='object')"
      ]
     },
     "execution_count": 70,
     "metadata": {},
     "output_type": "execute_result"
    }
   ],
   "source": [
    "#getting dummies for for season, weathersit, weekday, mnth, hr. \n",
    "cat_cols = ['season', 'weathersit', 'weekday', 'mnth', 'hr']\n",
    "lyft3 = pd.get_dummies(lyft3, columns=cat_cols, drop_first=True)\n",
    "lyft3.columns"
   ]
  },
  {
   "cell_type": "code",
   "execution_count": 71,
   "id": "17e54979",
   "metadata": {},
   "outputs": [],
   "source": [
    "#train test split\n",
    "df_train, df_test = train_test_split(lyft3, train_size = 0.7, random_state = 100)"
   ]
  },
  {
   "cell_type": "code",
   "execution_count": 72,
   "id": "b9626cfa",
   "metadata": {},
   "outputs": [],
   "source": [
    "#separation of X and Y \n",
    "y_train = df_train.pop(\"cnt\")\n",
    "X_train = df_train\n",
    "\n",
    "y_test = df_test.pop(\"cnt\")\n",
    "X_test = df_test\n"
   ]
  },
  {
   "cell_type": "code",
   "execution_count": 77,
   "id": "18f8c7ce",
   "metadata": {},
   "outputs": [
    {
     "data": {
      "text/plain": [
       "LinearRegression()"
      ]
     },
     "execution_count": 77,
     "metadata": {},
     "output_type": "execute_result"
    }
   ],
   "source": [
    "#initializing model and fitting \n",
    "lr = LinearRegression()\n",
    "lr.fit(X_train, y_train)\n"
   ]
  },
  {
   "cell_type": "code",
   "execution_count": 82,
   "id": "f6d1bf04",
   "metadata": {},
   "outputs": [
    {
     "data": {
      "text/plain": [
       "0.67"
      ]
     },
     "execution_count": 82,
     "metadata": {},
     "output_type": "execute_result"
    }
   ],
   "source": [
    "#Reporting R2 \n",
    "\n",
    "y_train_pred= lr.predict(X_train)\n",
    "r2_score(y_train, y_train_pred).round(2)\n"
   ]
  },
  {
   "cell_type": "code",
   "execution_count": 83,
   "id": "1594f1ba",
   "metadata": {},
   "outputs": [
    {
     "data": {
      "text/plain": [
       "0.66"
      ]
     },
     "execution_count": 83,
     "metadata": {},
     "output_type": "execute_result"
    }
   ],
   "source": [
    "#prediction on test set\n",
    "y_test_pred= lr.predict(X_test)\n",
    "r2_score(y_test, y_test_pred).round(2)\n"
   ]
  },
  {
   "cell_type": "code",
   "execution_count": 84,
   "id": "5cb92457",
   "metadata": {},
   "outputs": [
    {
     "data": {
      "text/plain": [
       "<matplotlib.collections.PathCollection at 0x29c82bde580>"
      ]
     },
     "execution_count": 84,
     "metadata": {},
     "output_type": "execute_result"
    },
    {
     "data": {
      "image/png": "[encoded data removed]",
      "text/plain": [
       "<Figure size 432x288 with 1 Axes>"
      ]
     },
     "metadata": {
      "needs_background": "light"
     },
     "output_type": "display_data"
    }
   ],
   "source": [
    "# Actual v predictions scatter\n",
    "plt.scatter(y_test,y_test_pred)"
   ]
  },
  {
   "cell_type": "code",
   "execution_count": 85,
   "id": "240cd4d4",
   "metadata": {},
   "outputs": [
    {
     "name": "stderr",
     "output_type": "stream",
     "text": [
      "C:\\Users\\sujoydutta\\anaconda3\\lib\\site-packages\\seaborn\\distributions.py:2619: FutureWarning: `distplot` is a deprecated function and will be removed in a future version. Please adapt your code to use either `displot` (a figure-level function with similar flexibility) or `histplot` (an axes-level function for histograms).\n",
      "  warnings.warn(msg, FutureWarning)\n"
     ]
    },
    {
     "data": {
      "text/plain": [
       "<AxesSubplot:xlabel='cnt', ylabel='Density'>"
      ]
     },
     "execution_count": 85,
     "metadata": {},
     "output_type": "execute_result"
    },
    {
     "data": {
      "image/png": "[encoded data removed]",
      "text/plain": [
       "<Figure size 432x288 with 1 Axes>"
      ]
     },
     "metadata": {
      "needs_background": "light"
     },
     "output_type": "display_data"
    }
   ],
   "source": [
    "# Histogram of the distribution of residuals\n",
    "sb.distplot((y_test - y_test_pred))"
   ]
  },
  {
   "cell_type": "code",
   "execution_count": 89,
   "id": "df3aa751",
   "metadata": {},
   "outputs": [
    {
     "data": {
      "text/html": [
       "<div>\n",
       "<style scoped>\n",
       "    .dataframe tbody tr th:only-of-type {\n",
       "        vertical-align: middle;\n",
       "    }\n",
       "\n",
       "    .dataframe tbody tr th {\n",
       "        vertical-align: top;\n",
       "    }\n",
       "\n",
       "    .dataframe thead th {\n",
       "        text-align: right;\n",
       "    }\n",
       "</style>\n",
       "<table border=\"1\" class=\"dataframe\">\n",
       "  <thead>\n",
       "    <tr style=\"text-align: right;\">\n",
       "      <th></th>\n",
       "      <th>Coefficients</th>\n",
       "    </tr>\n",
       "  </thead>\n",
       "  <tbody>\n",
       "    <tr>\n",
       "      <th>yr</th>\n",
       "      <td>5.923041e+01</td>\n",
       "    </tr>\n",
       "    <tr>\n",
       "      <th>holiday</th>\n",
       "      <td>-3.700780e+13</td>\n",
       "    </tr>\n",
       "    <tr>\n",
       "      <th>workingday</th>\n",
       "      <td>-3.700780e+13</td>\n",
       "    </tr>\n",
       "    <tr>\n",
       "      <th>temp</th>\n",
       "      <td>5.497473e+01</td>\n",
       "    </tr>\n",
       "    <tr>\n",
       "      <th>atemp</th>\n",
       "      <td>1.443868e+02</td>\n",
       "    </tr>\n",
       "    <tr>\n",
       "      <th>hum</th>\n",
       "      <td>-6.158398e+01</td>\n",
       "    </tr>\n",
       "    <tr>\n",
       "      <th>windspeed</th>\n",
       "      <td>-1.526611e+00</td>\n",
       "    </tr>\n",
       "    <tr>\n",
       "      <th>season_2</th>\n",
       "      <td>2.806348e+01</td>\n",
       "    </tr>\n",
       "    <tr>\n",
       "      <th>season_3</th>\n",
       "      <td>1.426953e+01</td>\n",
       "    </tr>\n",
       "    <tr>\n",
       "      <th>season_4</th>\n",
       "      <td>5.448926e+01</td>\n",
       "    </tr>\n",
       "    <tr>\n",
       "      <th>weathersit_2</th>\n",
       "      <td>-4.822266e+00</td>\n",
       "    </tr>\n",
       "    <tr>\n",
       "      <th>weathersit_3</th>\n",
       "      <td>-5.124316e+01</td>\n",
       "    </tr>\n",
       "    <tr>\n",
       "      <th>weathersit_4</th>\n",
       "      <td>-2.498690e+01</td>\n",
       "    </tr>\n",
       "    <tr>\n",
       "      <th>weekday_1</th>\n",
       "      <td>3.700780e+13</td>\n",
       "    </tr>\n",
       "    <tr>\n",
       "      <th>weekday_2</th>\n",
       "      <td>3.700780e+13</td>\n",
       "    </tr>\n",
       "    <tr>\n",
       "      <th>weekday_3</th>\n",
       "      <td>3.700780e+13</td>\n",
       "    </tr>\n",
       "    <tr>\n",
       "      <th>weekday_4</th>\n",
       "      <td>3.700780e+13</td>\n",
       "    </tr>\n",
       "    <tr>\n",
       "      <th>weekday_5</th>\n",
       "      <td>3.700780e+13</td>\n",
       "    </tr>\n",
       "    <tr>\n",
       "      <th>weekday_6</th>\n",
       "      <td>7.753662e+00</td>\n",
       "    </tr>\n",
       "    <tr>\n",
       "      <th>mnth_2</th>\n",
       "      <td>5.163086e+00</td>\n",
       "    </tr>\n",
       "    <tr>\n",
       "      <th>mnth_3</th>\n",
       "      <td>1.029321e+01</td>\n",
       "    </tr>\n",
       "    <tr>\n",
       "      <th>mnth_4</th>\n",
       "      <td>7.293823e+00</td>\n",
       "    </tr>\n",
       "    <tr>\n",
       "      <th>mnth_5</th>\n",
       "      <td>1.707422e+01</td>\n",
       "    </tr>\n",
       "    <tr>\n",
       "      <th>mnth_10</th>\n",
       "      <td>6.162598e+00</td>\n",
       "    </tr>\n",
       "    <tr>\n",
       "      <th>mnth_11</th>\n",
       "      <td>-3.201660e+00</td>\n",
       "    </tr>\n",
       "    <tr>\n",
       "      <th>mnth_12</th>\n",
       "      <td>-5.682251e+00</td>\n",
       "    </tr>\n",
       "    <tr>\n",
       "      <th>hr_6</th>\n",
       "      <td>5.894092e+01</td>\n",
       "    </tr>\n",
       "    <tr>\n",
       "      <th>hr_7</th>\n",
       "      <td>1.926084e+02</td>\n",
       "    </tr>\n",
       "    <tr>\n",
       "      <th>hr_8</th>\n",
       "      <td>2.502695e+02</td>\n",
       "    </tr>\n",
       "    <tr>\n",
       "      <th>hr_9</th>\n",
       "      <td>1.864961e+02</td>\n",
       "    </tr>\n",
       "    <tr>\n",
       "      <th>hr_10</th>\n",
       "      <td>1.347828e+02</td>\n",
       "    </tr>\n",
       "    <tr>\n",
       "      <th>hr_11</th>\n",
       "      <td>1.739780e+02</td>\n",
       "    </tr>\n",
       "    <tr>\n",
       "      <th>hr_16</th>\n",
       "      <td>2.457051e+02</td>\n",
       "    </tr>\n",
       "    <tr>\n",
       "      <th>hr_17</th>\n",
       "      <td>3.094805e+02</td>\n",
       "    </tr>\n",
       "    <tr>\n",
       "      <th>hr_18</th>\n",
       "      <td>2.962715e+02</td>\n",
       "    </tr>\n",
       "    <tr>\n",
       "      <th>hr_19</th>\n",
       "      <td>2.540959e+02</td>\n",
       "    </tr>\n",
       "    <tr>\n",
       "      <th>hr_20</th>\n",
       "      <td>1.886633e+02</td>\n",
       "    </tr>\n",
       "    <tr>\n",
       "      <th>hr_21</th>\n",
       "      <td>1.364268e+02</td>\n",
       "    </tr>\n",
       "    <tr>\n",
       "      <th>hr_22</th>\n",
       "      <td>9.895703e+01</td>\n",
       "    </tr>\n",
       "    <tr>\n",
       "      <th>hr_23</th>\n",
       "      <td>5.666553e+01</td>\n",
       "    </tr>\n",
       "  </tbody>\n",
       "</table>\n",
       "</div>"
      ],
      "text/plain": [
       "              Coefficients\n",
       "yr            5.923041e+01\n",
       "holiday      -3.700780e+13\n",
       "workingday   -3.700780e+13\n",
       "temp          5.497473e+01\n",
       "atemp         1.443868e+02\n",
       "hum          -6.158398e+01\n",
       "windspeed    -1.526611e+00\n",
       "season_2      2.806348e+01\n",
       "season_3      1.426953e+01\n",
       "season_4      5.448926e+01\n",
       "weathersit_2 -4.822266e+00\n",
       "weathersit_3 -5.124316e+01\n",
       "weathersit_4 -2.498690e+01\n",
       "weekday_1     3.700780e+13\n",
       "weekday_2     3.700780e+13\n",
       "weekday_3     3.700780e+13\n",
       "weekday_4     3.700780e+13\n",
       "weekday_5     3.700780e+13\n",
       "weekday_6     7.753662e+00\n",
       "mnth_2        5.163086e+00\n",
       "mnth_3        1.029321e+01\n",
       "mnth_4        7.293823e+00\n",
       "mnth_5        1.707422e+01\n",
       "mnth_10       6.162598e+00\n",
       "mnth_11      -3.201660e+00\n",
       "mnth_12      -5.682251e+00\n",
       "hr_6          5.894092e+01\n",
       "hr_7          1.926084e+02\n",
       "hr_8          2.502695e+02\n",
       "hr_9          1.864961e+02\n",
       "hr_10         1.347828e+02\n",
       "hr_11         1.739780e+02\n",
       "hr_16         2.457051e+02\n",
       "hr_17         3.094805e+02\n",
       "hr_18         2.962715e+02\n",
       "hr_19         2.540959e+02\n",
       "hr_20         1.886633e+02\n",
       "hr_21         1.364268e+02\n",
       "hr_22         9.895703e+01\n",
       "hr_23         5.666553e+01"
      ]
     },
     "execution_count": 89,
     "metadata": {},
     "output_type": "execute_result"
    }
   ],
   "source": [
    "#coefficients \n",
    "cdf = pd.DataFrame(data = lr.coef_, index = X_train.columns, columns = ['Coefficients'])\n",
    "cdf"
   ]
  },
  {
   "cell_type": "code",
   "execution_count": 115,
   "id": "dccb449f",
   "metadata": {},
   "outputs": [
    {
     "data": {
      "text/plain": [
       "array([136.,  94.,  98.,  65., 115., 190., 148., 295., 186., 228.])"
      ]
     },
     "execution_count": 115,
     "metadata": {},
     "output_type": "execute_result"
    }
   ],
   "source": [
    "#seeing predicted values\n",
    "y_test_pred[0:10].round()"
   ]
  },
  {
   "cell_type": "code",
   "execution_count": 108,
   "id": "13579655",
   "metadata": {},
   "outputs": [
    {
     "name": "stdout",
     "output_type": "stream",
     "text": [
      "The mean square error of price and predicted value is:  7081.443690754819\n"
     ]
    }
   ],
   "source": [
    "mse = mean_squared_error(y_test,y_test_pred)\n",
    "print('The mean square error of price and predicted value is: ', mse)"
   ]
  },
  {
   "cell_type": "markdown",
   "id": "1d8e1cec",
   "metadata": {},
   "source": [
    "**Conclusion**\n",
    "\n",
    "The model is moderately well as it is able to explain almost 66% of the phenomenon. The fit has been achieved but however if more variables were there the fit would have been better. "
   ]
  }
 ],
 "metadata": {
  "kernelspec": {
   "display_name": "Python 3 (ipykernel)",
   "language": "python",
   "name": "python3"
  },
  "language_info": {
   "codemirror_mode": {
    "name": "ipython",
    "version": 3
   },
   "file_extension": ".py",
   "mimetype": "text/x-python",
   "name": "python",
   "nbconvert_exporter": "python",
   "pygments_lexer": "ipython3",
   "version": "3.9.12"
  }
 },
 "nbformat": 4,
 "nbformat_minor": 5
}
