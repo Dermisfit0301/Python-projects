{
 "cells": [
  {
   "cell_type": "markdown",
   "id": "516b3e34",
   "metadata": {},
   "source": [
    "# California Housing Price Prediction\n",
    "\n",
    "This algorithm will predict the price of a house in California based on given factors."
   ]
  },
  {
   "cell_type": "markdown",
   "id": "95ded68f",
   "metadata": {},
   "source": [
    "**Step 1: Setting up the work environment**\n",
    "\n",
    "We are going to download the necessary packages for our work. We are going to view the dataset and check the datatypes."
   ]
  },
  {
   "cell_type": "code",
   "execution_count": 111,
   "id": "6bf9062b",
   "metadata": {},
   "outputs": [],
   "source": [
    "#installing packages\n",
    "import numpy as np\n",
    "from sklearn import datasets, linear_model, metrics\n",
    "from sklearn.ensemble import RandomForestRegressor\n",
    "import pandas as pd\n",
    "import matplotlib.pyplot as plt\n",
    "import seaborn as sb\n",
    "from sklearn.linear_model import LinearRegression\n",
    "from sklearn.tree import DecisionTreeRegressor \n",
    "from sklearn.metrics import mean_squared_error\n",
    "from sklearn.pipeline import Pipeline\n",
    "from sklearn.preprocessing import StandardScaler\n",
    "from sklearn.preprocessing import PolynomialFeatures\n",
    "from sklearn.metrics import r2_score\n",
    "from sklearn.model_selection import train_test_split\n",
    "from sklearn.model_selection import cross_val_score\n",
    "from sklearn.model_selection import cross_val_predict\n",
    "from sklearn.linear_model import Ridge\n",
    "from sklearn.model_selection import GridSearchCV\n",
    "import os\n",
    "from collections import Counter\n",
    "from statsmodels.stats.weightstats import ttest_ind\n",
    "import scipy.stats as stats\n",
    "from scipy.stats import ttest_ind\n",
    "%matplotlib inline\n",
    "from scipy import stats\n",
    "from sklearn.metrics import classification_report\n",
    "from datetime import datetime\n",
    "from datetime import date\n",
    "import statsmodels.api as sm\n",
    "from statsmodels.formula.api import ols\n",
    "from sklearn import preprocessing as preproc\n",
    "from sklearn import metrics\n",
    "from sklearn.pipeline import make_pipeline\n",
    "from sklearn.preprocessing import StandardScaler\n",
    "from sklearn.preprocessing import PolynomialFeatures\n",
    "from sklearn.metrics import r2_score\n",
    "\n",
    "import warnings\n",
    "warnings.filterwarnings(\"ignore\")"
   ]
  },
  {
   "cell_type": "code",
   "execution_count": 2,
   "id": "8ead1cf1",
   "metadata": {},
   "outputs": [
    {
     "data": {
      "text/html": [
       "<div>\n",
       "<style scoped>\n",
       "    .dataframe tbody tr th:only-of-type {\n",
       "        vertical-align: middle;\n",
       "    }\n",
       "\n",
       "    .dataframe tbody tr th {\n",
       "        vertical-align: top;\n",
       "    }\n",
       "\n",
       "    .dataframe thead th {\n",
       "        text-align: right;\n",
       "    }\n",
       "</style>\n",
       "<table border=\"1\" class=\"dataframe\">\n",
       "  <thead>\n",
       "    <tr style=\"text-align: right;\">\n",
       "      <th></th>\n",
       "      <th>longitude</th>\n",
       "      <th>latitude</th>\n",
       "      <th>housing_median_age</th>\n",
       "      <th>total_rooms</th>\n",
       "      <th>total_bedrooms</th>\n",
       "      <th>population</th>\n",
       "      <th>households</th>\n",
       "      <th>median_income</th>\n",
       "      <th>ocean_proximity</th>\n",
       "      <th>median_house_value</th>\n",
       "    </tr>\n",
       "  </thead>\n",
       "  <tbody>\n",
       "    <tr>\n",
       "      <th>0</th>\n",
       "      <td>-122.23</td>\n",
       "      <td>37.88</td>\n",
       "      <td>41</td>\n",
       "      <td>880</td>\n",
       "      <td>129.0</td>\n",
       "      <td>322</td>\n",
       "      <td>126</td>\n",
       "      <td>8.3252</td>\n",
       "      <td>NEAR BAY</td>\n",
       "      <td>452600</td>\n",
       "    </tr>\n",
       "    <tr>\n",
       "      <th>1</th>\n",
       "      <td>-122.22</td>\n",
       "      <td>37.86</td>\n",
       "      <td>21</td>\n",
       "      <td>7099</td>\n",
       "      <td>1106.0</td>\n",
       "      <td>2401</td>\n",
       "      <td>1138</td>\n",
       "      <td>8.3014</td>\n",
       "      <td>NEAR BAY</td>\n",
       "      <td>358500</td>\n",
       "    </tr>\n",
       "    <tr>\n",
       "      <th>2</th>\n",
       "      <td>-122.24</td>\n",
       "      <td>37.85</td>\n",
       "      <td>52</td>\n",
       "      <td>1467</td>\n",
       "      <td>190.0</td>\n",
       "      <td>496</td>\n",
       "      <td>177</td>\n",
       "      <td>7.2574</td>\n",
       "      <td>NEAR BAY</td>\n",
       "      <td>352100</td>\n",
       "    </tr>\n",
       "    <tr>\n",
       "      <th>3</th>\n",
       "      <td>-122.25</td>\n",
       "      <td>37.85</td>\n",
       "      <td>52</td>\n",
       "      <td>1274</td>\n",
       "      <td>235.0</td>\n",
       "      <td>558</td>\n",
       "      <td>219</td>\n",
       "      <td>5.6431</td>\n",
       "      <td>NEAR BAY</td>\n",
       "      <td>341300</td>\n",
       "    </tr>\n",
       "    <tr>\n",
       "      <th>4</th>\n",
       "      <td>-122.25</td>\n",
       "      <td>37.85</td>\n",
       "      <td>52</td>\n",
       "      <td>1627</td>\n",
       "      <td>280.0</td>\n",
       "      <td>565</td>\n",
       "      <td>259</td>\n",
       "      <td>3.8462</td>\n",
       "      <td>NEAR BAY</td>\n",
       "      <td>342200</td>\n",
       "    </tr>\n",
       "  </tbody>\n",
       "</table>\n",
       "</div>"
      ],
      "text/plain": [
       "   longitude  latitude  housing_median_age  total_rooms  total_bedrooms  \\\n",
       "0    -122.23     37.88                  41          880           129.0   \n",
       "1    -122.22     37.86                  21         7099          1106.0   \n",
       "2    -122.24     37.85                  52         1467           190.0   \n",
       "3    -122.25     37.85                  52         1274           235.0   \n",
       "4    -122.25     37.85                  52         1627           280.0   \n",
       "\n",
       "   population  households  median_income ocean_proximity  median_house_value  \n",
       "0         322         126         8.3252        NEAR BAY              452600  \n",
       "1        2401        1138         8.3014        NEAR BAY              358500  \n",
       "2         496         177         7.2574        NEAR BAY              352100  \n",
       "3         558         219         5.6431        NEAR BAY              341300  \n",
       "4         565         259         3.8462        NEAR BAY              342200  "
      ]
     },
     "execution_count": 2,
     "metadata": {},
     "output_type": "execute_result"
    }
   ],
   "source": [
    "#getting the dataset\n",
    "calihouse= pd.read_excel('C:\\\\Users\\\\sujoydutta\\\\Desktop\\\\Data analysis\\\\Python\\Datasets_Py\\\\Regression\\\\california_housing.xlsx') \n",
    "calihouse.head()"
   ]
  },
  {
   "cell_type": "code",
   "execution_count": 3,
   "id": "641ae603",
   "metadata": {},
   "outputs": [
    {
     "data": {
      "text/plain": [
       "(20640, 10)"
      ]
     },
     "execution_count": 3,
     "metadata": {},
     "output_type": "execute_result"
    }
   ],
   "source": [
    "#seeing the dataset\n",
    "calihouse.shape"
   ]
  },
  {
   "cell_type": "code",
   "execution_count": 4,
   "id": "4a190537",
   "metadata": {},
   "outputs": [
    {
     "data": {
      "text/plain": [
       "longitude             float64\n",
       "latitude              float64\n",
       "housing_median_age      int64\n",
       "total_rooms             int64\n",
       "total_bedrooms        float64\n",
       "population              int64\n",
       "households              int64\n",
       "median_income         float64\n",
       "ocean_proximity        object\n",
       "median_house_value      int64\n",
       "dtype: object"
      ]
     },
     "execution_count": 4,
     "metadata": {},
     "output_type": "execute_result"
    }
   ],
   "source": [
    "#seeing datatypes\n",
    "calihouse.dtypes"
   ]
  },
  {
   "cell_type": "markdown",
   "id": "f2be0e05",
   "metadata": {},
   "source": [
    "**Step 2: Data cleaning**\n",
    "\n",
    "In this step, we are going to clean our dataset. We are going to look for null values and replace them with mean and mode. \n",
    "We are going to modify some variables if it is necessary and change datatypes for better analysis. We will also remove outliers from the dataset.  Outliers hamper the machine learning algorithms and hence they have to be removed."
   ]
  },
  {
   "cell_type": "code",
   "execution_count": 5,
   "id": "0202328e",
   "metadata": {},
   "outputs": [],
   "source": [
    "#categorical variables\n",
    "cat= ['ocean_proximity']"
   ]
  },
  {
   "cell_type": "code",
   "execution_count": 6,
   "id": "fb33f323",
   "metadata": {},
   "outputs": [
    {
     "name": "stdout",
     "output_type": "stream",
     "text": [
      "['longitude', 'latitude', 'housing_median_age', 'total_rooms', 'total_bedrooms', 'population', 'households', 'median_income', 'median_house_value']\n"
     ]
    }
   ],
   "source": [
    "#getting non categorical variables\n",
    "non_cat=[]\n",
    "for x in calihouse.columns:\n",
    "    if x in cat:\n",
    "        pass\n",
    "    else:\n",
    "        non_cat.append(x)\n",
    "print(non_cat)"
   ]
  },
  {
   "cell_type": "code",
   "execution_count": 7,
   "id": "602df4ba",
   "metadata": {},
   "outputs": [
    {
     "data": {
      "text/plain": [
       "longitude               0\n",
       "latitude                0\n",
       "housing_median_age      0\n",
       "total_rooms             0\n",
       "total_bedrooms        207\n",
       "population              0\n",
       "households              0\n",
       "median_income           0\n",
       "ocean_proximity         0\n",
       "median_house_value      0\n",
       "dtype: int64"
      ]
     },
     "execution_count": 7,
     "metadata": {},
     "output_type": "execute_result"
    }
   ],
   "source": [
    "#seeing missing values\n",
    "calihouse.isnull().sum()"
   ]
  },
  {
   "cell_type": "code",
   "execution_count": 8,
   "id": "e28ac9f2",
   "metadata": {},
   "outputs": [
    {
     "name": "stdout",
     "output_type": "stream",
     "text": [
      "<class 'pandas.core.frame.DataFrame'>\n",
      "RangeIndex: 20640 entries, 0 to 20639\n",
      "Data columns (total 10 columns):\n",
      " #   Column              Non-Null Count  Dtype  \n",
      "---  ------              --------------  -----  \n",
      " 0   longitude           20640 non-null  float64\n",
      " 1   latitude            20640 non-null  float64\n",
      " 2   housing_median_age  20640 non-null  int64  \n",
      " 3   total_rooms         20640 non-null  int64  \n",
      " 4   total_bedrooms      20433 non-null  float64\n",
      " 5   population          20640 non-null  int64  \n",
      " 6   households          20640 non-null  int64  \n",
      " 7   median_income       20640 non-null  float64\n",
      " 8   ocean_proximity     20640 non-null  object \n",
      " 9   median_house_value  20640 non-null  int64  \n",
      "dtypes: float64(4), int64(5), object(1)\n",
      "memory usage: 1.6+ MB\n",
      "None\n"
     ]
    }
   ],
   "source": [
    "#replacing missing values with nan(Not a number) that makes things simpler for python\n",
    "calihouse.replace(\"?\",np.nan,inplace = True)\n",
    "print(calihouse.info())"
   ]
  },
  {
   "cell_type": "code",
   "execution_count": 9,
   "id": "f8a902ca",
   "metadata": {},
   "outputs": [],
   "source": [
    "#replacing missing values in the variable total_bedrooms\n",
    "med_br=calihouse.total_bedrooms.median()\n",
    "med_br\n",
    "#replacing blank with mean\n",
    "calihouse['total_bedrooms'].replace(np.nan, med_br, inplace=True)"
   ]
  },
  {
   "cell_type": "code",
   "execution_count": 10,
   "id": "5c505f06",
   "metadata": {},
   "outputs": [
    {
     "data": {
      "text/plain": [
       "<AxesSubplot: >"
      ]
     },
     "execution_count": 10,
     "metadata": {},
     "output_type": "execute_result"
    },
    {
     "data": {
      "image/png": "[encoded data removed]",
      "text/plain": [
       "<Figure size 640x480 with 1 Axes>"
      ]
     },
     "metadata": {},
     "output_type": "display_data"
    }
   ],
   "source": [
    "#seeing the outliers for median_house_value\n",
    "sb.boxplot(calihouse['median_house_value'])"
   ]
  },
  {
   "cell_type": "code",
   "execution_count": 11,
   "id": "475cd605",
   "metadata": {},
   "outputs": [
    {
     "data": {
      "text/plain": [
       "<AxesSubplot: >"
      ]
     },
     "execution_count": 11,
     "metadata": {},
     "output_type": "execute_result"
    },
    {
     "data": {
      "image/png": "[encoded data removed]",
      "text/plain": [
       "<Figure size 640x480 with 1 Axes>"
      ]
     },
     "metadata": {},
     "output_type": "display_data"
    }
   ],
   "source": [
    "#seeing the outliers for median_income\n",
    "sb.boxplot(calihouse['median_income'])"
   ]
  },
  {
   "cell_type": "code",
   "execution_count": 12,
   "id": "21e11b7e",
   "metadata": {},
   "outputs": [
    {
     "data": {
      "text/plain": [
       "0.10     1.903800\n",
       "0.25     2.563400\n",
       "0.50     3.534800\n",
       "0.70     4.437500\n",
       "0.90     6.159210\n",
       "0.95     7.300305\n",
       "0.99    10.596540\n",
       "Name: median_income, dtype: float64"
      ]
     },
     "execution_count": 12,
     "metadata": {},
     "output_type": "execute_result"
    }
   ],
   "source": [
    "#outlier treatment for variable median_income\n",
    "calihouse.median_income.quantile([0.1, 0.25, 0.5, 0.70, 0.9, 0.95, 0.99])\n"
   ]
  },
  {
   "cell_type": "code",
   "execution_count": 13,
   "id": "04555e09",
   "metadata": {},
   "outputs": [
    {
     "data": {
      "text/html": [
       "<div>\n",
       "<style scoped>\n",
       "    .dataframe tbody tr th:only-of-type {\n",
       "        vertical-align: middle;\n",
       "    }\n",
       "\n",
       "    .dataframe tbody tr th {\n",
       "        vertical-align: top;\n",
       "    }\n",
       "\n",
       "    .dataframe thead th {\n",
       "        text-align: right;\n",
       "    }\n",
       "</style>\n",
       "<table border=\"1\" class=\"dataframe\">\n",
       "  <thead>\n",
       "    <tr style=\"text-align: right;\">\n",
       "      <th></th>\n",
       "      <th>longitude</th>\n",
       "      <th>latitude</th>\n",
       "      <th>housing_median_age</th>\n",
       "      <th>total_rooms</th>\n",
       "      <th>total_bedrooms</th>\n",
       "      <th>population</th>\n",
       "      <th>households</th>\n",
       "      <th>median_income</th>\n",
       "      <th>ocean_proximity</th>\n",
       "      <th>median_house_value</th>\n",
       "    </tr>\n",
       "  </thead>\n",
       "  <tbody>\n",
       "    <tr>\n",
       "      <th>0</th>\n",
       "      <td>-122.23</td>\n",
       "      <td>37.88</td>\n",
       "      <td>41</td>\n",
       "      <td>880</td>\n",
       "      <td>129.0</td>\n",
       "      <td>322</td>\n",
       "      <td>126</td>\n",
       "      <td>8.3252</td>\n",
       "      <td>NEAR BAY</td>\n",
       "      <td>452600</td>\n",
       "    </tr>\n",
       "    <tr>\n",
       "      <th>1</th>\n",
       "      <td>-122.22</td>\n",
       "      <td>37.86</td>\n",
       "      <td>21</td>\n",
       "      <td>7099</td>\n",
       "      <td>1106.0</td>\n",
       "      <td>2401</td>\n",
       "      <td>1138</td>\n",
       "      <td>8.3014</td>\n",
       "      <td>NEAR BAY</td>\n",
       "      <td>358500</td>\n",
       "    </tr>\n",
       "    <tr>\n",
       "      <th>131</th>\n",
       "      <td>-122.19</td>\n",
       "      <td>37.84</td>\n",
       "      <td>18</td>\n",
       "      <td>1617</td>\n",
       "      <td>210.0</td>\n",
       "      <td>533</td>\n",
       "      <td>194</td>\n",
       "      <td>11.6017</td>\n",
       "      <td>NEAR BAY</td>\n",
       "      <td>392600</td>\n",
       "    </tr>\n",
       "    <tr>\n",
       "      <th>134</th>\n",
       "      <td>-122.19</td>\n",
       "      <td>37.83</td>\n",
       "      <td>28</td>\n",
       "      <td>1326</td>\n",
       "      <td>184.0</td>\n",
       "      <td>463</td>\n",
       "      <td>190</td>\n",
       "      <td>8.2049</td>\n",
       "      <td>NEAR BAY</td>\n",
       "      <td>335200</td>\n",
       "    </tr>\n",
       "    <tr>\n",
       "      <th>135</th>\n",
       "      <td>-122.20</td>\n",
       "      <td>37.83</td>\n",
       "      <td>26</td>\n",
       "      <td>1589</td>\n",
       "      <td>223.0</td>\n",
       "      <td>542</td>\n",
       "      <td>211</td>\n",
       "      <td>8.4010</td>\n",
       "      <td>NEAR BAY</td>\n",
       "      <td>351200</td>\n",
       "    </tr>\n",
       "    <tr>\n",
       "      <th>...</th>\n",
       "      <td>...</td>\n",
       "      <td>...</td>\n",
       "      <td>...</td>\n",
       "      <td>...</td>\n",
       "      <td>...</td>\n",
       "      <td>...</td>\n",
       "      <td>...</td>\n",
       "      <td>...</td>\n",
       "      <td>...</td>\n",
       "      <td>...</td>\n",
       "    </tr>\n",
       "    <tr>\n",
       "      <th>20426</th>\n",
       "      <td>-118.69</td>\n",
       "      <td>34.18</td>\n",
       "      <td>11</td>\n",
       "      <td>1177</td>\n",
       "      <td>138.0</td>\n",
       "      <td>415</td>\n",
       "      <td>119</td>\n",
       "      <td>10.0472</td>\n",
       "      <td>&lt;1H OCEAN</td>\n",
       "      <td>500001</td>\n",
       "    </tr>\n",
       "    <tr>\n",
       "      <th>20427</th>\n",
       "      <td>-118.80</td>\n",
       "      <td>34.19</td>\n",
       "      <td>4</td>\n",
       "      <td>15572</td>\n",
       "      <td>2222.0</td>\n",
       "      <td>5495</td>\n",
       "      <td>2152</td>\n",
       "      <td>8.6499</td>\n",
       "      <td>&lt;1H OCEAN</td>\n",
       "      <td>500001</td>\n",
       "    </tr>\n",
       "    <tr>\n",
       "      <th>20428</th>\n",
       "      <td>-118.83</td>\n",
       "      <td>34.23</td>\n",
       "      <td>6</td>\n",
       "      <td>8803</td>\n",
       "      <td>1114.0</td>\n",
       "      <td>3385</td>\n",
       "      <td>1010</td>\n",
       "      <td>8.7288</td>\n",
       "      <td>&lt;1H OCEAN</td>\n",
       "      <td>425800</td>\n",
       "    </tr>\n",
       "    <tr>\n",
       "      <th>20436</th>\n",
       "      <td>-118.69</td>\n",
       "      <td>34.21</td>\n",
       "      <td>10</td>\n",
       "      <td>3663</td>\n",
       "      <td>409.0</td>\n",
       "      <td>1179</td>\n",
       "      <td>371</td>\n",
       "      <td>12.5420</td>\n",
       "      <td>&lt;1H OCEAN</td>\n",
       "      <td>500001</td>\n",
       "    </tr>\n",
       "    <tr>\n",
       "      <th>20503</th>\n",
       "      <td>-118.75</td>\n",
       "      <td>34.33</td>\n",
       "      <td>27</td>\n",
       "      <td>534</td>\n",
       "      <td>85.0</td>\n",
       "      <td>243</td>\n",
       "      <td>77</td>\n",
       "      <td>8.2787</td>\n",
       "      <td>&lt;1H OCEAN</td>\n",
       "      <td>330000</td>\n",
       "    </tr>\n",
       "  </tbody>\n",
       "</table>\n",
       "<p>690 rows × 10 columns</p>\n",
       "</div>"
      ],
      "text/plain": [
       "       longitude  latitude  housing_median_age  total_rooms  total_bedrooms  \\\n",
       "0        -122.23     37.88                  41          880           129.0   \n",
       "1        -122.22     37.86                  21         7099          1106.0   \n",
       "131      -122.19     37.84                  18         1617           210.0   \n",
       "134      -122.19     37.83                  28         1326           184.0   \n",
       "135      -122.20     37.83                  26         1589           223.0   \n",
       "...          ...       ...                 ...          ...             ...   \n",
       "20426    -118.69     34.18                  11         1177           138.0   \n",
       "20427    -118.80     34.19                   4        15572          2222.0   \n",
       "20428    -118.83     34.23                   6         8803          1114.0   \n",
       "20436    -118.69     34.21                  10         3663           409.0   \n",
       "20503    -118.75     34.33                  27          534            85.0   \n",
       "\n",
       "       population  households  median_income ocean_proximity  \\\n",
       "0             322         126         8.3252        NEAR BAY   \n",
       "1            2401        1138         8.3014        NEAR BAY   \n",
       "131           533         194        11.6017        NEAR BAY   \n",
       "134           463         190         8.2049        NEAR BAY   \n",
       "135           542         211         8.4010        NEAR BAY   \n",
       "...           ...         ...            ...             ...   \n",
       "20426         415         119        10.0472       <1H OCEAN   \n",
       "20427        5495        2152         8.6499       <1H OCEAN   \n",
       "20428        3385        1010         8.7288       <1H OCEAN   \n",
       "20436        1179         371        12.5420       <1H OCEAN   \n",
       "20503         243          77         8.2787       <1H OCEAN   \n",
       "\n",
       "       median_house_value  \n",
       "0                  452600  \n",
       "1                  358500  \n",
       "131                392600  \n",
       "134                335200  \n",
       "135                351200  \n",
       "...                   ...  \n",
       "20426              500001  \n",
       "20427              500001  \n",
       "20428              425800  \n",
       "20436              500001  \n",
       "20503              330000  \n",
       "\n",
       "[690 rows x 10 columns]"
      ]
     },
     "execution_count": 13,
     "metadata": {},
     "output_type": "execute_result"
    }
   ],
   "source": [
    "#seeing limits\n",
    "median_income_HE=calihouse[calihouse.median_income > 8].copy()\n",
    "median_income_HE"
   ]
  },
  {
   "cell_type": "code",
   "execution_count": 14,
   "id": "47cc0622",
   "metadata": {},
   "outputs": [
    {
     "name": "stdout",
     "output_type": "stream",
     "text": [
      "690\n"
     ]
    }
   ],
   "source": [
    "#putting them at one place\n",
    "print(len(median_income_HE))"
   ]
  },
  {
   "cell_type": "code",
   "execution_count": 15,
   "id": "85137c89",
   "metadata": {},
   "outputs": [],
   "source": [
    "#removing outliers\n",
    "for x in calihouse.median_income:\n",
    "    if x > 8:\n",
    "        calihouse.median_income.replace(x,np.nan,inplace=True)"
   ]
  },
  {
   "cell_type": "code",
   "execution_count": 16,
   "id": "0ae8a249",
   "metadata": {},
   "outputs": [
    {
     "data": {
      "text/plain": [
       "<AxesSubplot: >"
      ]
     },
     "execution_count": 16,
     "metadata": {},
     "output_type": "execute_result"
    },
    {
     "data": {
      "image/png": "[encoded data removed]",
      "text/plain": [
       "<Figure size 640x480 with 1 Axes>"
      ]
     },
     "metadata": {},
     "output_type": "display_data"
    }
   ],
   "source": [
    "#checking if outliers gone \n",
    "sb.boxplot(calihouse.median_income)"
   ]
  },
  {
   "cell_type": "code",
   "execution_count": 17,
   "id": "397af9e1",
   "metadata": {},
   "outputs": [],
   "source": [
    "#replacing nan values with median \n",
    "med_mi=calihouse.median_income.median()\n",
    "med_mi\n",
    "calihouse.median_income.replace(np.nan,med_mi, inplace=True)"
   ]
  },
  {
   "cell_type": "code",
   "execution_count": 18,
   "id": "bc08c18a",
   "metadata": {},
   "outputs": [
    {
     "data": {
      "text/plain": [
       "<AxesSubplot: >"
      ]
     },
     "execution_count": 18,
     "metadata": {},
     "output_type": "execute_result"
    },
    {
     "data": {
      "image/png": "[encoded data removed]",
      "text/plain": [
       "<Figure size 640x480 with 1 Axes>"
      ]
     },
     "metadata": {},
     "output_type": "display_data"
    }
   ],
   "source": [
    "#seeing the outliers for total_rooms\n",
    "sb.boxplot(calihouse['total_rooms'])"
   ]
  },
  {
   "cell_type": "code",
   "execution_count": 19,
   "id": "dbfb0595",
   "metadata": {},
   "outputs": [
    {
     "data": {
      "text/plain": [
       "0.10      941.00\n",
       "0.25     1447.75\n",
       "0.50     2127.00\n",
       "0.70     2876.00\n",
       "0.90     4651.50\n",
       "0.95     6213.20\n",
       "0.99    11212.11\n",
       "Name: total_rooms, dtype: float64"
      ]
     },
     "execution_count": 19,
     "metadata": {},
     "output_type": "execute_result"
    }
   ],
   "source": [
    "#outlier treatment for variable median_income\n",
    "calihouse.total_rooms.quantile([0.1, 0.25, 0.5, 0.70, 0.9, 0.95, 0.99])"
   ]
  },
  {
   "cell_type": "code",
   "execution_count": 20,
   "id": "eae97980",
   "metadata": {},
   "outputs": [
    {
     "data": {
      "text/html": [
       "<div>\n",
       "<style scoped>\n",
       "    .dataframe tbody tr th:only-of-type {\n",
       "        vertical-align: middle;\n",
       "    }\n",
       "\n",
       "    .dataframe tbody tr th {\n",
       "        vertical-align: top;\n",
       "    }\n",
       "\n",
       "    .dataframe thead th {\n",
       "        text-align: right;\n",
       "    }\n",
       "</style>\n",
       "<table border=\"1\" class=\"dataframe\">\n",
       "  <thead>\n",
       "    <tr style=\"text-align: right;\">\n",
       "      <th></th>\n",
       "      <th>longitude</th>\n",
       "      <th>latitude</th>\n",
       "      <th>housing_median_age</th>\n",
       "      <th>total_rooms</th>\n",
       "      <th>total_bedrooms</th>\n",
       "      <th>population</th>\n",
       "      <th>households</th>\n",
       "      <th>median_income</th>\n",
       "      <th>ocean_proximity</th>\n",
       "      <th>median_house_value</th>\n",
       "    </tr>\n",
       "  </thead>\n",
       "  <tbody>\n",
       "    <tr>\n",
       "      <th>1</th>\n",
       "      <td>-122.22</td>\n",
       "      <td>37.86</td>\n",
       "      <td>21</td>\n",
       "      <td>7099</td>\n",
       "      <td>1106.0</td>\n",
       "      <td>2401</td>\n",
       "      <td>1138</td>\n",
       "      <td>3.46775</td>\n",
       "      <td>NEAR BAY</td>\n",
       "      <td>358500</td>\n",
       "    </tr>\n",
       "    <tr>\n",
       "      <th>283</th>\n",
       "      <td>-122.16</td>\n",
       "      <td>37.79</td>\n",
       "      <td>22</td>\n",
       "      <td>12842</td>\n",
       "      <td>2048.0</td>\n",
       "      <td>4985</td>\n",
       "      <td>1967</td>\n",
       "      <td>5.98490</td>\n",
       "      <td>NEAR BAY</td>\n",
       "      <td>371000</td>\n",
       "    </tr>\n",
       "    <tr>\n",
       "      <th>508</th>\n",
       "      <td>-122.30</td>\n",
       "      <td>37.84</td>\n",
       "      <td>14</td>\n",
       "      <td>7355</td>\n",
       "      <td>2408.0</td>\n",
       "      <td>3100</td>\n",
       "      <td>2051</td>\n",
       "      <td>4.00180</td>\n",
       "      <td>NEAR BAY</td>\n",
       "      <td>143800</td>\n",
       "    </tr>\n",
       "    <tr>\n",
       "      <th>568</th>\n",
       "      <td>-122.24</td>\n",
       "      <td>37.73</td>\n",
       "      <td>21</td>\n",
       "      <td>7031</td>\n",
       "      <td>1249.0</td>\n",
       "      <td>2930</td>\n",
       "      <td>1235</td>\n",
       "      <td>4.52130</td>\n",
       "      <td>NEAR BAY</td>\n",
       "      <td>228400</td>\n",
       "    </tr>\n",
       "    <tr>\n",
       "      <th>570</th>\n",
       "      <td>-122.24</td>\n",
       "      <td>37.72</td>\n",
       "      <td>5</td>\n",
       "      <td>18634</td>\n",
       "      <td>2885.0</td>\n",
       "      <td>7427</td>\n",
       "      <td>2718</td>\n",
       "      <td>7.61100</td>\n",
       "      <td>NEAR BAY</td>\n",
       "      <td>350700</td>\n",
       "    </tr>\n",
       "    <tr>\n",
       "      <th>...</th>\n",
       "      <td>...</td>\n",
       "      <td>...</td>\n",
       "      <td>...</td>\n",
       "      <td>...</td>\n",
       "      <td>...</td>\n",
       "      <td>...</td>\n",
       "      <td>...</td>\n",
       "      <td>...</td>\n",
       "      <td>...</td>\n",
       "      <td>...</td>\n",
       "    </tr>\n",
       "    <tr>\n",
       "      <th>20530</th>\n",
       "      <td>-121.76</td>\n",
       "      <td>38.57</td>\n",
       "      <td>11</td>\n",
       "      <td>15018</td>\n",
       "      <td>3008.0</td>\n",
       "      <td>7984</td>\n",
       "      <td>2962</td>\n",
       "      <td>3.13710</td>\n",
       "      <td>INLAND</td>\n",
       "      <td>201800</td>\n",
       "    </tr>\n",
       "    <tr>\n",
       "      <th>20539</th>\n",
       "      <td>-121.71</td>\n",
       "      <td>38.56</td>\n",
       "      <td>20</td>\n",
       "      <td>8627</td>\n",
       "      <td>1516.0</td>\n",
       "      <td>4071</td>\n",
       "      <td>1466</td>\n",
       "      <td>4.21980</td>\n",
       "      <td>INLAND</td>\n",
       "      <td>164100</td>\n",
       "    </tr>\n",
       "    <tr>\n",
       "      <th>20544</th>\n",
       "      <td>-121.76</td>\n",
       "      <td>38.55</td>\n",
       "      <td>23</td>\n",
       "      <td>8800</td>\n",
       "      <td>1857.0</td>\n",
       "      <td>6330</td>\n",
       "      <td>1832</td>\n",
       "      <td>2.06500</td>\n",
       "      <td>INLAND</td>\n",
       "      <td>219400</td>\n",
       "    </tr>\n",
       "    <tr>\n",
       "      <th>20563</th>\n",
       "      <td>-121.75</td>\n",
       "      <td>38.67</td>\n",
       "      <td>9</td>\n",
       "      <td>12139</td>\n",
       "      <td>2640.0</td>\n",
       "      <td>6837</td>\n",
       "      <td>2358</td>\n",
       "      <td>3.12500</td>\n",
       "      <td>INLAND</td>\n",
       "      <td>132500</td>\n",
       "    </tr>\n",
       "    <tr>\n",
       "      <th>20629</th>\n",
       "      <td>-121.39</td>\n",
       "      <td>39.12</td>\n",
       "      <td>28</td>\n",
       "      <td>10035</td>\n",
       "      <td>1856.0</td>\n",
       "      <td>6912</td>\n",
       "      <td>1818</td>\n",
       "      <td>2.09430</td>\n",
       "      <td>INLAND</td>\n",
       "      <td>108300</td>\n",
       "    </tr>\n",
       "  </tbody>\n",
       "</table>\n",
       "<p>741 rows × 10 columns</p>\n",
       "</div>"
      ],
      "text/plain": [
       "       longitude  latitude  housing_median_age  total_rooms  total_bedrooms  \\\n",
       "1        -122.22     37.86                  21         7099          1106.0   \n",
       "283      -122.16     37.79                  22        12842          2048.0   \n",
       "508      -122.30     37.84                  14         7355          2408.0   \n",
       "568      -122.24     37.73                  21         7031          1249.0   \n",
       "570      -122.24     37.72                   5        18634          2885.0   \n",
       "...          ...       ...                 ...          ...             ...   \n",
       "20530    -121.76     38.57                  11        15018          3008.0   \n",
       "20539    -121.71     38.56                  20         8627          1516.0   \n",
       "20544    -121.76     38.55                  23         8800          1857.0   \n",
       "20563    -121.75     38.67                   9        12139          2640.0   \n",
       "20629    -121.39     39.12                  28        10035          1856.0   \n",
       "\n",
       "       population  households  median_income ocean_proximity  \\\n",
       "1            2401        1138        3.46775        NEAR BAY   \n",
       "283          4985        1967        5.98490        NEAR BAY   \n",
       "508          3100        2051        4.00180        NEAR BAY   \n",
       "568          2930        1235        4.52130        NEAR BAY   \n",
       "570          7427        2718        7.61100        NEAR BAY   \n",
       "...           ...         ...            ...             ...   \n",
       "20530        7984        2962        3.13710          INLAND   \n",
       "20539        4071        1466        4.21980          INLAND   \n",
       "20544        6330        1832        2.06500          INLAND   \n",
       "20563        6837        2358        3.12500          INLAND   \n",
       "20629        6912        1818        2.09430          INLAND   \n",
       "\n",
       "       median_house_value  \n",
       "1                  358500  \n",
       "283                371000  \n",
       "508                143800  \n",
       "568                228400  \n",
       "570                350700  \n",
       "...                   ...  \n",
       "20530              201800  \n",
       "20539              164100  \n",
       "20544              219400  \n",
       "20563              132500  \n",
       "20629              108300  \n",
       "\n",
       "[741 rows x 10 columns]"
      ]
     },
     "execution_count": 20,
     "metadata": {},
     "output_type": "execute_result"
    }
   ],
   "source": [
    "#seeing limits\n",
    "total_rooms_HE=calihouse[calihouse.total_rooms > 7000].copy()\n",
    "total_rooms_HE"
   ]
  },
  {
   "cell_type": "code",
   "execution_count": 21,
   "id": "32656be1",
   "metadata": {},
   "outputs": [
    {
     "name": "stdout",
     "output_type": "stream",
     "text": [
      "741\n"
     ]
    }
   ],
   "source": [
    "#putting them at one place\n",
    "print(len(total_rooms_HE))"
   ]
  },
  {
   "cell_type": "code",
   "execution_count": 22,
   "id": "5cad926b",
   "metadata": {},
   "outputs": [],
   "source": [
    "#removing outliers\n",
    "for x in calihouse.total_rooms:\n",
    "    if x > 7000:\n",
    "        calihouse.total_rooms.replace(x,np.nan,inplace=True)"
   ]
  },
  {
   "cell_type": "code",
   "execution_count": 23,
   "id": "666878d3",
   "metadata": {},
   "outputs": [
    {
     "data": {
      "text/plain": [
       "<AxesSubplot: >"
      ]
     },
     "execution_count": 23,
     "metadata": {},
     "output_type": "execute_result"
    },
    {
     "data": {
      "image/png": "[encoded data removed]",
      "text/plain": [
       "<Figure size 640x480 with 1 Axes>"
      ]
     },
     "metadata": {},
     "output_type": "display_data"
    }
   ],
   "source": [
    "#checking if outliers gone \n",
    "sb.boxplot(calihouse.total_rooms)"
   ]
  },
  {
   "cell_type": "code",
   "execution_count": 24,
   "id": "4e2e584e",
   "metadata": {},
   "outputs": [],
   "source": [
    "#replacing nan values with median \n",
    "med_tr=calihouse.total_rooms.median()\n",
    "med_tr\n",
    "calihouse.total_rooms.replace(np.nan,med_tr, inplace=True)"
   ]
  },
  {
   "cell_type": "code",
   "execution_count": 25,
   "id": "a722b268",
   "metadata": {},
   "outputs": [
    {
     "data": {
      "text/plain": [
       "<AxesSubplot: >"
      ]
     },
     "execution_count": 25,
     "metadata": {},
     "output_type": "execute_result"
    },
    {
     "data": {
      "image/png": "[encoded data removed]",
      "text/plain": [
       "<Figure size 640x480 with 1 Axes>"
      ]
     },
     "metadata": {},
     "output_type": "display_data"
    }
   ],
   "source": [
    "#seeing the outliers for total_bedrooms\n",
    "sb.boxplot(calihouse['total_bedrooms'])"
   ]
  },
  {
   "cell_type": "code",
   "execution_count": 26,
   "id": "80a0f171",
   "metadata": {},
   "outputs": [
    {
     "data": {
      "text/plain": [
       "0.10     199.00\n",
       "0.25     297.00\n",
       "0.50     435.00\n",
       "0.70     588.00\n",
       "0.90     959.10\n",
       "0.95    1271.00\n",
       "0.99    2216.27\n",
       "Name: total_bedrooms, dtype: float64"
      ]
     },
     "execution_count": 26,
     "metadata": {},
     "output_type": "execute_result"
    }
   ],
   "source": [
    "#outlier treatment for variable median_income\n",
    "calihouse.total_bedrooms.quantile([0.1, 0.25, 0.5, 0.70, 0.9, 0.95, 0.99])"
   ]
  },
  {
   "cell_type": "code",
   "execution_count": 27,
   "id": "b9dc7c05",
   "metadata": {},
   "outputs": [
    {
     "data": {
      "text/html": [
       "<div>\n",
       "<style scoped>\n",
       "    .dataframe tbody tr th:only-of-type {\n",
       "        vertical-align: middle;\n",
       "    }\n",
       "\n",
       "    .dataframe tbody tr th {\n",
       "        vertical-align: top;\n",
       "    }\n",
       "\n",
       "    .dataframe thead th {\n",
       "        text-align: right;\n",
       "    }\n",
       "</style>\n",
       "<table border=\"1\" class=\"dataframe\">\n",
       "  <thead>\n",
       "    <tr style=\"text-align: right;\">\n",
       "      <th></th>\n",
       "      <th>longitude</th>\n",
       "      <th>latitude</th>\n",
       "      <th>housing_median_age</th>\n",
       "      <th>total_rooms</th>\n",
       "      <th>total_bedrooms</th>\n",
       "      <th>population</th>\n",
       "      <th>households</th>\n",
       "      <th>median_income</th>\n",
       "      <th>ocean_proximity</th>\n",
       "      <th>median_house_value</th>\n",
       "    </tr>\n",
       "  </thead>\n",
       "  <tbody>\n",
       "    <tr>\n",
       "      <th>95</th>\n",
       "      <td>-122.26</td>\n",
       "      <td>37.80</td>\n",
       "      <td>36</td>\n",
       "      <td>5329.0</td>\n",
       "      <td>2477.0</td>\n",
       "      <td>3469</td>\n",
       "      <td>2323</td>\n",
       "      <td>2.0096</td>\n",
       "      <td>NEAR BAY</td>\n",
       "      <td>130000</td>\n",
       "    </tr>\n",
       "    <tr>\n",
       "      <th>96</th>\n",
       "      <td>-122.26</td>\n",
       "      <td>37.82</td>\n",
       "      <td>31</td>\n",
       "      <td>4596.0</td>\n",
       "      <td>1331.0</td>\n",
       "      <td>2048</td>\n",
       "      <td>1180</td>\n",
       "      <td>2.8345</td>\n",
       "      <td>NEAR BAY</td>\n",
       "      <td>183800</td>\n",
       "    </tr>\n",
       "    <tr>\n",
       "      <th>100</th>\n",
       "      <td>-122.25</td>\n",
       "      <td>37.81</td>\n",
       "      <td>29</td>\n",
       "      <td>4656.0</td>\n",
       "      <td>1414.0</td>\n",
       "      <td>2304</td>\n",
       "      <td>1250</td>\n",
       "      <td>2.4912</td>\n",
       "      <td>NEAR BAY</td>\n",
       "      <td>257800</td>\n",
       "    </tr>\n",
       "    <tr>\n",
       "      <th>101</th>\n",
       "      <td>-122.25</td>\n",
       "      <td>37.81</td>\n",
       "      <td>28</td>\n",
       "      <td>5806.0</td>\n",
       "      <td>1603.0</td>\n",
       "      <td>2563</td>\n",
       "      <td>1497</td>\n",
       "      <td>3.2177</td>\n",
       "      <td>NEAR BAY</td>\n",
       "      <td>273400</td>\n",
       "    </tr>\n",
       "    <tr>\n",
       "      <th>104</th>\n",
       "      <td>-122.26</td>\n",
       "      <td>37.81</td>\n",
       "      <td>34</td>\n",
       "      <td>5871.0</td>\n",
       "      <td>1914.0</td>\n",
       "      <td>2689</td>\n",
       "      <td>1789</td>\n",
       "      <td>2.8406</td>\n",
       "      <td>NEAR BAY</td>\n",
       "      <td>335700</td>\n",
       "    </tr>\n",
       "    <tr>\n",
       "      <th>...</th>\n",
       "      <td>...</td>\n",
       "      <td>...</td>\n",
       "      <td>...</td>\n",
       "      <td>...</td>\n",
       "      <td>...</td>\n",
       "      <td>...</td>\n",
       "      <td>...</td>\n",
       "      <td>...</td>\n",
       "      <td>...</td>\n",
       "      <td>...</td>\n",
       "    </tr>\n",
       "    <tr>\n",
       "      <th>20539</th>\n",
       "      <td>-121.71</td>\n",
       "      <td>38.56</td>\n",
       "      <td>20</td>\n",
       "      <td>2074.0</td>\n",
       "      <td>1516.0</td>\n",
       "      <td>4071</td>\n",
       "      <td>1466</td>\n",
       "      <td>4.2198</td>\n",
       "      <td>INLAND</td>\n",
       "      <td>164100</td>\n",
       "    </tr>\n",
       "    <tr>\n",
       "      <th>20543</th>\n",
       "      <td>-121.74</td>\n",
       "      <td>38.55</td>\n",
       "      <td>33</td>\n",
       "      <td>6861.0</td>\n",
       "      <td>1820.0</td>\n",
       "      <td>3717</td>\n",
       "      <td>1767</td>\n",
       "      <td>1.7311</td>\n",
       "      <td>INLAND</td>\n",
       "      <td>182600</td>\n",
       "    </tr>\n",
       "    <tr>\n",
       "      <th>20544</th>\n",
       "      <td>-121.76</td>\n",
       "      <td>38.55</td>\n",
       "      <td>23</td>\n",
       "      <td>2074.0</td>\n",
       "      <td>1857.0</td>\n",
       "      <td>6330</td>\n",
       "      <td>1832</td>\n",
       "      <td>2.0650</td>\n",
       "      <td>INLAND</td>\n",
       "      <td>219400</td>\n",
       "    </tr>\n",
       "    <tr>\n",
       "      <th>20563</th>\n",
       "      <td>-121.75</td>\n",
       "      <td>38.67</td>\n",
       "      <td>9</td>\n",
       "      <td>2074.0</td>\n",
       "      <td>2640.0</td>\n",
       "      <td>6837</td>\n",
       "      <td>2358</td>\n",
       "      <td>3.1250</td>\n",
       "      <td>INLAND</td>\n",
       "      <td>132500</td>\n",
       "    </tr>\n",
       "    <tr>\n",
       "      <th>20629</th>\n",
       "      <td>-121.39</td>\n",
       "      <td>39.12</td>\n",
       "      <td>28</td>\n",
       "      <td>2074.0</td>\n",
       "      <td>1856.0</td>\n",
       "      <td>6912</td>\n",
       "      <td>1818</td>\n",
       "      <td>2.0943</td>\n",
       "      <td>INLAND</td>\n",
       "      <td>108300</td>\n",
       "    </tr>\n",
       "  </tbody>\n",
       "</table>\n",
       "<p>958 rows × 10 columns</p>\n",
       "</div>"
      ],
      "text/plain": [
       "       longitude  latitude  housing_median_age  total_rooms  total_bedrooms  \\\n",
       "95       -122.26     37.80                  36       5329.0          2477.0   \n",
       "96       -122.26     37.82                  31       4596.0          1331.0   \n",
       "100      -122.25     37.81                  29       4656.0          1414.0   \n",
       "101      -122.25     37.81                  28       5806.0          1603.0   \n",
       "104      -122.26     37.81                  34       5871.0          1914.0   \n",
       "...          ...       ...                 ...          ...             ...   \n",
       "20539    -121.71     38.56                  20       2074.0          1516.0   \n",
       "20543    -121.74     38.55                  33       6861.0          1820.0   \n",
       "20544    -121.76     38.55                  23       2074.0          1857.0   \n",
       "20563    -121.75     38.67                   9       2074.0          2640.0   \n",
       "20629    -121.39     39.12                  28       2074.0          1856.0   \n",
       "\n",
       "       population  households  median_income ocean_proximity  \\\n",
       "95           3469        2323         2.0096        NEAR BAY   \n",
       "96           2048        1180         2.8345        NEAR BAY   \n",
       "100          2304        1250         2.4912        NEAR BAY   \n",
       "101          2563        1497         3.2177        NEAR BAY   \n",
       "104          2689        1789         2.8406        NEAR BAY   \n",
       "...           ...         ...            ...             ...   \n",
       "20539        4071        1466         4.2198          INLAND   \n",
       "20543        3717        1767         1.7311          INLAND   \n",
       "20544        6330        1832         2.0650          INLAND   \n",
       "20563        6837        2358         3.1250          INLAND   \n",
       "20629        6912        1818         2.0943          INLAND   \n",
       "\n",
       "       median_house_value  \n",
       "95                 130000  \n",
       "96                 183800  \n",
       "100                257800  \n",
       "101                273400  \n",
       "104                335700  \n",
       "...                   ...  \n",
       "20539              164100  \n",
       "20543              182600  \n",
       "20544              219400  \n",
       "20563              132500  \n",
       "20629              108300  \n",
       "\n",
       "[958 rows x 10 columns]"
      ]
     },
     "execution_count": 27,
     "metadata": {},
     "output_type": "execute_result"
    }
   ],
   "source": [
    "#seeing limits\n",
    "total_bedrooms_HE=calihouse[calihouse.total_bedrooms > 1300].copy()\n",
    "total_bedrooms_HE"
   ]
  },
  {
   "cell_type": "code",
   "execution_count": 28,
   "id": "9c334149",
   "metadata": {},
   "outputs": [],
   "source": [
    "#removing outliers\n",
    "for x in calihouse.total_bedrooms:\n",
    "    if x > 1271:\n",
    "        calihouse.total_bedrooms.replace(x,np.nan,inplace=True)\n"
   ]
  },
  {
   "cell_type": "code",
   "execution_count": 29,
   "id": "c5c1a25b",
   "metadata": {},
   "outputs": [
    {
     "data": {
      "text/plain": [
       "<AxesSubplot: >"
      ]
     },
     "execution_count": 29,
     "metadata": {},
     "output_type": "execute_result"
    },
    {
     "data": {
      "image/png": "[encoded data removed]",
      "text/plain": [
       "<Figure size 640x480 with 1 Axes>"
      ]
     },
     "metadata": {},
     "output_type": "display_data"
    }
   ],
   "source": [
    "#checking if outliers gone \n",
    "sb.boxplot(calihouse.total_bedrooms)"
   ]
  },
  {
   "cell_type": "code",
   "execution_count": 30,
   "id": "fb4a12bd",
   "metadata": {},
   "outputs": [],
   "source": [
    "#replacing nan values with median \n",
    "med_tb=calihouse.total_bedrooms.median()\n",
    "med_tb\n",
    "calihouse.total_bedrooms.replace(np.nan,med_tb, inplace=True)"
   ]
  },
  {
   "cell_type": "code",
   "execution_count": 31,
   "id": "4882563a",
   "metadata": {},
   "outputs": [
    {
     "data": {
      "text/plain": [
       "<AxesSubplot: >"
      ]
     },
     "execution_count": 31,
     "metadata": {},
     "output_type": "execute_result"
    },
    {
     "data": {
      "image/png": "[encoded data removed]",
      "text/plain": [
       "<Figure size 640x480 with 1 Axes>"
      ]
     },
     "metadata": {},
     "output_type": "display_data"
    }
   ],
   "source": [
    "#seeing the outliers for population\n",
    "sb.boxplot(calihouse['population'])"
   ]
  },
  {
   "cell_type": "code",
   "execution_count": 32,
   "id": "9bf53870",
   "metadata": {},
   "outputs": [
    {
     "data": {
      "text/plain": [
       "0.10     510.00\n",
       "0.25     787.00\n",
       "0.50    1166.00\n",
       "0.70    1580.00\n",
       "0.90    2566.00\n",
       "0.95    3288.00\n",
       "0.99    5805.83\n",
       "Name: population, dtype: float64"
      ]
     },
     "execution_count": 32,
     "metadata": {},
     "output_type": "execute_result"
    }
   ],
   "source": [
    "#outlier treatment for population\n",
    "calihouse.population.quantile([0.1, 0.25, 0.5, 0.70, 0.9, 0.95, 0.99])"
   ]
  },
  {
   "cell_type": "code",
   "execution_count": 33,
   "id": "816d1383",
   "metadata": {},
   "outputs": [
    {
     "data": {
      "text/html": [
       "<div>\n",
       "<style scoped>\n",
       "    .dataframe tbody tr th:only-of-type {\n",
       "        vertical-align: middle;\n",
       "    }\n",
       "\n",
       "    .dataframe tbody tr th {\n",
       "        vertical-align: top;\n",
       "    }\n",
       "\n",
       "    .dataframe thead th {\n",
       "        text-align: right;\n",
       "    }\n",
       "</style>\n",
       "<table border=\"1\" class=\"dataframe\">\n",
       "  <thead>\n",
       "    <tr style=\"text-align: right;\">\n",
       "      <th></th>\n",
       "      <th>longitude</th>\n",
       "      <th>latitude</th>\n",
       "      <th>housing_median_age</th>\n",
       "      <th>total_rooms</th>\n",
       "      <th>total_bedrooms</th>\n",
       "      <th>population</th>\n",
       "      <th>households</th>\n",
       "      <th>median_income</th>\n",
       "      <th>ocean_proximity</th>\n",
       "      <th>median_house_value</th>\n",
       "    </tr>\n",
       "  </thead>\n",
       "  <tbody>\n",
       "    <tr>\n",
       "      <th>95</th>\n",
       "      <td>-122.26</td>\n",
       "      <td>37.80</td>\n",
       "      <td>36</td>\n",
       "      <td>5329.0</td>\n",
       "      <td>423.0</td>\n",
       "      <td>3469</td>\n",
       "      <td>2323</td>\n",
       "      <td>2.0096</td>\n",
       "      <td>NEAR BAY</td>\n",
       "      <td>130000</td>\n",
       "    </tr>\n",
       "    <tr>\n",
       "      <th>185</th>\n",
       "      <td>-122.23</td>\n",
       "      <td>37.79</td>\n",
       "      <td>43</td>\n",
       "      <td>5963.0</td>\n",
       "      <td>423.0</td>\n",
       "      <td>4367</td>\n",
       "      <td>1231</td>\n",
       "      <td>2.1917</td>\n",
       "      <td>NEAR BAY</td>\n",
       "      <td>112800</td>\n",
       "    </tr>\n",
       "    <tr>\n",
       "      <th>283</th>\n",
       "      <td>-122.16</td>\n",
       "      <td>37.79</td>\n",
       "      <td>22</td>\n",
       "      <td>2074.0</td>\n",
       "      <td>423.0</td>\n",
       "      <td>4985</td>\n",
       "      <td>1967</td>\n",
       "      <td>5.9849</td>\n",
       "      <td>NEAR BAY</td>\n",
       "      <td>371000</td>\n",
       "    </tr>\n",
       "    <tr>\n",
       "      <th>460</th>\n",
       "      <td>-122.26</td>\n",
       "      <td>37.87</td>\n",
       "      <td>52</td>\n",
       "      <td>1087.0</td>\n",
       "      <td>371.0</td>\n",
       "      <td>3337</td>\n",
       "      <td>350</td>\n",
       "      <td>1.4012</td>\n",
       "      <td>NEAR BAY</td>\n",
       "      <td>175000</td>\n",
       "    </tr>\n",
       "    <tr>\n",
       "      <th>485</th>\n",
       "      <td>-122.26</td>\n",
       "      <td>37.86</td>\n",
       "      <td>35</td>\n",
       "      <td>5161.0</td>\n",
       "      <td>423.0</td>\n",
       "      <td>3276</td>\n",
       "      <td>1742</td>\n",
       "      <td>1.6307</td>\n",
       "      <td>NEAR BAY</td>\n",
       "      <td>253600</td>\n",
       "    </tr>\n",
       "    <tr>\n",
       "      <th>...</th>\n",
       "      <td>...</td>\n",
       "      <td>...</td>\n",
       "      <td>...</td>\n",
       "      <td>...</td>\n",
       "      <td>...</td>\n",
       "      <td>...</td>\n",
       "      <td>...</td>\n",
       "      <td>...</td>\n",
       "      <td>...</td>\n",
       "      <td>...</td>\n",
       "    </tr>\n",
       "    <tr>\n",
       "      <th>20544</th>\n",
       "      <td>-121.76</td>\n",
       "      <td>38.55</td>\n",
       "      <td>23</td>\n",
       "      <td>2074.0</td>\n",
       "      <td>423.0</td>\n",
       "      <td>6330</td>\n",
       "      <td>1832</td>\n",
       "      <td>2.0650</td>\n",
       "      <td>INLAND</td>\n",
       "      <td>219400</td>\n",
       "    </tr>\n",
       "    <tr>\n",
       "      <th>20563</th>\n",
       "      <td>-121.75</td>\n",
       "      <td>38.67</td>\n",
       "      <td>9</td>\n",
       "      <td>2074.0</td>\n",
       "      <td>423.0</td>\n",
       "      <td>6837</td>\n",
       "      <td>2358</td>\n",
       "      <td>3.1250</td>\n",
       "      <td>INLAND</td>\n",
       "      <td>132500</td>\n",
       "    </tr>\n",
       "    <tr>\n",
       "      <th>20567</th>\n",
       "      <td>-121.79</td>\n",
       "      <td>38.66</td>\n",
       "      <td>15</td>\n",
       "      <td>6809.0</td>\n",
       "      <td>1052.0</td>\n",
       "      <td>3060</td>\n",
       "      <td>1060</td>\n",
       "      <td>5.3064</td>\n",
       "      <td>INLAND</td>\n",
       "      <td>165000</td>\n",
       "    </tr>\n",
       "    <tr>\n",
       "      <th>20604</th>\n",
       "      <td>-121.54</td>\n",
       "      <td>39.12</td>\n",
       "      <td>17</td>\n",
       "      <td>4251.0</td>\n",
       "      <td>899.0</td>\n",
       "      <td>3265</td>\n",
       "      <td>934</td>\n",
       "      <td>2.3496</td>\n",
       "      <td>INLAND</td>\n",
       "      <td>65000</td>\n",
       "    </tr>\n",
       "    <tr>\n",
       "      <th>20629</th>\n",
       "      <td>-121.39</td>\n",
       "      <td>39.12</td>\n",
       "      <td>28</td>\n",
       "      <td>2074.0</td>\n",
       "      <td>423.0</td>\n",
       "      <td>6912</td>\n",
       "      <td>1818</td>\n",
       "      <td>2.0943</td>\n",
       "      <td>INLAND</td>\n",
       "      <td>108300</td>\n",
       "    </tr>\n",
       "  </tbody>\n",
       "</table>\n",
       "<p>1357 rows × 10 columns</p>\n",
       "</div>"
      ],
      "text/plain": [
       "       longitude  latitude  housing_median_age  total_rooms  total_bedrooms  \\\n",
       "95       -122.26     37.80                  36       5329.0           423.0   \n",
       "185      -122.23     37.79                  43       5963.0           423.0   \n",
       "283      -122.16     37.79                  22       2074.0           423.0   \n",
       "460      -122.26     37.87                  52       1087.0           371.0   \n",
       "485      -122.26     37.86                  35       5161.0           423.0   \n",
       "...          ...       ...                 ...          ...             ...   \n",
       "20544    -121.76     38.55                  23       2074.0           423.0   \n",
       "20563    -121.75     38.67                   9       2074.0           423.0   \n",
       "20567    -121.79     38.66                  15       6809.0          1052.0   \n",
       "20604    -121.54     39.12                  17       4251.0           899.0   \n",
       "20629    -121.39     39.12                  28       2074.0           423.0   \n",
       "\n",
       "       population  households  median_income ocean_proximity  \\\n",
       "95           3469        2323         2.0096        NEAR BAY   \n",
       "185          4367        1231         2.1917        NEAR BAY   \n",
       "283          4985        1967         5.9849        NEAR BAY   \n",
       "460          3337         350         1.4012        NEAR BAY   \n",
       "485          3276        1742         1.6307        NEAR BAY   \n",
       "...           ...         ...            ...             ...   \n",
       "20544        6330        1832         2.0650          INLAND   \n",
       "20563        6837        2358         3.1250          INLAND   \n",
       "20567        3060        1060         5.3064          INLAND   \n",
       "20604        3265         934         2.3496          INLAND   \n",
       "20629        6912        1818         2.0943          INLAND   \n",
       "\n",
       "       median_house_value  \n",
       "95                 130000  \n",
       "185                112800  \n",
       "283                371000  \n",
       "460                175000  \n",
       "485                253600  \n",
       "...                   ...  \n",
       "20544              219400  \n",
       "20563              132500  \n",
       "20567              165000  \n",
       "20604               65000  \n",
       "20629              108300  \n",
       "\n",
       "[1357 rows x 10 columns]"
      ]
     },
     "execution_count": 33,
     "metadata": {},
     "output_type": "execute_result"
    }
   ],
   "source": [
    "#seeing limits\n",
    "population_HE=calihouse[calihouse.population > 3000].copy()\n",
    "population_HE"
   ]
  },
  {
   "cell_type": "code",
   "execution_count": 34,
   "id": "1941d5fd",
   "metadata": {},
   "outputs": [],
   "source": [
    "#removing outliers\n",
    "for x in calihouse.population:\n",
    "    if x > 3000:\n",
    "        calihouse.population.replace(x,np.nan,inplace=True)\n"
   ]
  },
  {
   "cell_type": "code",
   "execution_count": 35,
   "id": "33618090",
   "metadata": {},
   "outputs": [
    {
     "data": {
      "text/plain": [
       "<AxesSubplot: >"
      ]
     },
     "execution_count": 35,
     "metadata": {},
     "output_type": "execute_result"
    },
    {
     "data": {
      "image/png": "[encoded data removed]",
      "text/plain": [
       "<Figure size 640x480 with 1 Axes>"
      ]
     },
     "metadata": {},
     "output_type": "display_data"
    }
   ],
   "source": [
    "#checking if outliers gone \n",
    "sb.boxplot(calihouse.population)"
   ]
  },
  {
   "cell_type": "code",
   "execution_count": 36,
   "id": "2c3a045b",
   "metadata": {},
   "outputs": [],
   "source": [
    "#replacing nan values with median \n",
    "med_pop=calihouse.population.median()\n",
    "med_pop\n",
    "calihouse.population.replace(np.nan,med_pop, inplace=True)"
   ]
  },
  {
   "cell_type": "code",
   "execution_count": 37,
   "id": "eae11553",
   "metadata": {},
   "outputs": [
    {
     "data": {
      "text/plain": [
       "<AxesSubplot: >"
      ]
     },
     "execution_count": 37,
     "metadata": {},
     "output_type": "execute_result"
    },
    {
     "data": {
      "image/png": "[encoded data removed]",
      "text/plain": [
       "<Figure size 640x480 with 1 Axes>"
      ]
     },
     "metadata": {},
     "output_type": "display_data"
    }
   ],
   "source": [
    "#seeing the outliers for households\n",
    "sb.boxplot(calihouse['households'])"
   ]
  },
  {
   "cell_type": "code",
   "execution_count": 38,
   "id": "474abed3",
   "metadata": {},
   "outputs": [
    {
     "data": {
      "text/plain": [
       "0.10     184.00\n",
       "0.25     280.00\n",
       "0.50     409.00\n",
       "0.70     553.00\n",
       "0.90     890.00\n",
       "0.95    1162.00\n",
       "0.99    1982.66\n",
       "Name: households, dtype: float64"
      ]
     },
     "execution_count": 38,
     "metadata": {},
     "output_type": "execute_result"
    }
   ],
   "source": [
    "#outlier treatment for households\n",
    "calihouse.households.quantile([0.1, 0.25, 0.5, 0.70, 0.9, 0.95, 0.99])"
   ]
  },
  {
   "cell_type": "code",
   "execution_count": 39,
   "id": "c302492f",
   "metadata": {},
   "outputs": [
    {
     "data": {
      "text/html": [
       "<div>\n",
       "<style scoped>\n",
       "    .dataframe tbody tr th:only-of-type {\n",
       "        vertical-align: middle;\n",
       "    }\n",
       "\n",
       "    .dataframe tbody tr th {\n",
       "        vertical-align: top;\n",
       "    }\n",
       "\n",
       "    .dataframe thead th {\n",
       "        text-align: right;\n",
       "    }\n",
       "</style>\n",
       "<table border=\"1\" class=\"dataframe\">\n",
       "  <thead>\n",
       "    <tr style=\"text-align: right;\">\n",
       "      <th></th>\n",
       "      <th>longitude</th>\n",
       "      <th>latitude</th>\n",
       "      <th>housing_median_age</th>\n",
       "      <th>total_rooms</th>\n",
       "      <th>total_bedrooms</th>\n",
       "      <th>population</th>\n",
       "      <th>households</th>\n",
       "      <th>median_income</th>\n",
       "      <th>ocean_proximity</th>\n",
       "      <th>median_house_value</th>\n",
       "    </tr>\n",
       "  </thead>\n",
       "  <tbody>\n",
       "    <tr>\n",
       "      <th>95</th>\n",
       "      <td>-122.26</td>\n",
       "      <td>37.80</td>\n",
       "      <td>36</td>\n",
       "      <td>5329.0</td>\n",
       "      <td>423.0</td>\n",
       "      <td>1114.0</td>\n",
       "      <td>2323</td>\n",
       "      <td>2.0096</td>\n",
       "      <td>NEAR BAY</td>\n",
       "      <td>130000</td>\n",
       "    </tr>\n",
       "    <tr>\n",
       "      <th>96</th>\n",
       "      <td>-122.26</td>\n",
       "      <td>37.82</td>\n",
       "      <td>31</td>\n",
       "      <td>4596.0</td>\n",
       "      <td>423.0</td>\n",
       "      <td>2048.0</td>\n",
       "      <td>1180</td>\n",
       "      <td>2.8345</td>\n",
       "      <td>NEAR BAY</td>\n",
       "      <td>183800</td>\n",
       "    </tr>\n",
       "    <tr>\n",
       "      <th>98</th>\n",
       "      <td>-122.26</td>\n",
       "      <td>37.82</td>\n",
       "      <td>22</td>\n",
       "      <td>3682.0</td>\n",
       "      <td>1270.0</td>\n",
       "      <td>2024.0</td>\n",
       "      <td>1250</td>\n",
       "      <td>1.2185</td>\n",
       "      <td>NEAR BAY</td>\n",
       "      <td>170000</td>\n",
       "    </tr>\n",
       "    <tr>\n",
       "      <th>100</th>\n",
       "      <td>-122.25</td>\n",
       "      <td>37.81</td>\n",
       "      <td>29</td>\n",
       "      <td>4656.0</td>\n",
       "      <td>423.0</td>\n",
       "      <td>2304.0</td>\n",
       "      <td>1250</td>\n",
       "      <td>2.4912</td>\n",
       "      <td>NEAR BAY</td>\n",
       "      <td>257800</td>\n",
       "    </tr>\n",
       "    <tr>\n",
       "      <th>101</th>\n",
       "      <td>-122.25</td>\n",
       "      <td>37.81</td>\n",
       "      <td>28</td>\n",
       "      <td>5806.0</td>\n",
       "      <td>423.0</td>\n",
       "      <td>2563.0</td>\n",
       "      <td>1497</td>\n",
       "      <td>3.2177</td>\n",
       "      <td>NEAR BAY</td>\n",
       "      <td>273400</td>\n",
       "    </tr>\n",
       "    <tr>\n",
       "      <th>...</th>\n",
       "      <td>...</td>\n",
       "      <td>...</td>\n",
       "      <td>...</td>\n",
       "      <td>...</td>\n",
       "      <td>...</td>\n",
       "      <td>...</td>\n",
       "      <td>...</td>\n",
       "      <td>...</td>\n",
       "      <td>...</td>\n",
       "      <td>...</td>\n",
       "    </tr>\n",
       "    <tr>\n",
       "      <th>20539</th>\n",
       "      <td>-121.71</td>\n",
       "      <td>38.56</td>\n",
       "      <td>20</td>\n",
       "      <td>2074.0</td>\n",
       "      <td>423.0</td>\n",
       "      <td>1114.0</td>\n",
       "      <td>1466</td>\n",
       "      <td>4.2198</td>\n",
       "      <td>INLAND</td>\n",
       "      <td>164100</td>\n",
       "    </tr>\n",
       "    <tr>\n",
       "      <th>20543</th>\n",
       "      <td>-121.74</td>\n",
       "      <td>38.55</td>\n",
       "      <td>33</td>\n",
       "      <td>6861.0</td>\n",
       "      <td>423.0</td>\n",
       "      <td>1114.0</td>\n",
       "      <td>1767</td>\n",
       "      <td>1.7311</td>\n",
       "      <td>INLAND</td>\n",
       "      <td>182600</td>\n",
       "    </tr>\n",
       "    <tr>\n",
       "      <th>20544</th>\n",
       "      <td>-121.76</td>\n",
       "      <td>38.55</td>\n",
       "      <td>23</td>\n",
       "      <td>2074.0</td>\n",
       "      <td>423.0</td>\n",
       "      <td>1114.0</td>\n",
       "      <td>1832</td>\n",
       "      <td>2.0650</td>\n",
       "      <td>INLAND</td>\n",
       "      <td>219400</td>\n",
       "    </tr>\n",
       "    <tr>\n",
       "      <th>20563</th>\n",
       "      <td>-121.75</td>\n",
       "      <td>38.67</td>\n",
       "      <td>9</td>\n",
       "      <td>2074.0</td>\n",
       "      <td>423.0</td>\n",
       "      <td>1114.0</td>\n",
       "      <td>2358</td>\n",
       "      <td>3.1250</td>\n",
       "      <td>INLAND</td>\n",
       "      <td>132500</td>\n",
       "    </tr>\n",
       "    <tr>\n",
       "      <th>20629</th>\n",
       "      <td>-121.39</td>\n",
       "      <td>39.12</td>\n",
       "      <td>28</td>\n",
       "      <td>2074.0</td>\n",
       "      <td>423.0</td>\n",
       "      <td>1114.0</td>\n",
       "      <td>1818</td>\n",
       "      <td>2.0943</td>\n",
       "      <td>INLAND</td>\n",
       "      <td>108300</td>\n",
       "    </tr>\n",
       "  </tbody>\n",
       "</table>\n",
       "<p>1036 rows × 10 columns</p>\n",
       "</div>"
      ],
      "text/plain": [
       "       longitude  latitude  housing_median_age  total_rooms  total_bedrooms  \\\n",
       "95       -122.26     37.80                  36       5329.0           423.0   \n",
       "96       -122.26     37.82                  31       4596.0           423.0   \n",
       "98       -122.26     37.82                  22       3682.0          1270.0   \n",
       "100      -122.25     37.81                  29       4656.0           423.0   \n",
       "101      -122.25     37.81                  28       5806.0           423.0   \n",
       "...          ...       ...                 ...          ...             ...   \n",
       "20539    -121.71     38.56                  20       2074.0           423.0   \n",
       "20543    -121.74     38.55                  33       6861.0           423.0   \n",
       "20544    -121.76     38.55                  23       2074.0           423.0   \n",
       "20563    -121.75     38.67                   9       2074.0           423.0   \n",
       "20629    -121.39     39.12                  28       2074.0           423.0   \n",
       "\n",
       "       population  households  median_income ocean_proximity  \\\n",
       "95         1114.0        2323         2.0096        NEAR BAY   \n",
       "96         2048.0        1180         2.8345        NEAR BAY   \n",
       "98         2024.0        1250         1.2185        NEAR BAY   \n",
       "100        2304.0        1250         2.4912        NEAR BAY   \n",
       "101        2563.0        1497         3.2177        NEAR BAY   \n",
       "...           ...         ...            ...             ...   \n",
       "20539      1114.0        1466         4.2198          INLAND   \n",
       "20543      1114.0        1767         1.7311          INLAND   \n",
       "20544      1114.0        1832         2.0650          INLAND   \n",
       "20563      1114.0        2358         3.1250          INLAND   \n",
       "20629      1114.0        1818         2.0943          INLAND   \n",
       "\n",
       "       median_house_value  \n",
       "95                 130000  \n",
       "96                 183800  \n",
       "98                 170000  \n",
       "100                257800  \n",
       "101                273400  \n",
       "...                   ...  \n",
       "20539              164100  \n",
       "20543              182600  \n",
       "20544              219400  \n",
       "20563              132500  \n",
       "20629              108300  \n",
       "\n",
       "[1036 rows x 10 columns]"
      ]
     },
     "execution_count": 39,
     "metadata": {},
     "output_type": "execute_result"
    }
   ],
   "source": [
    "#seeing limits\n",
    "households_HE=calihouse[calihouse.households > 1160].copy()\n",
    "households_HE"
   ]
  },
  {
   "cell_type": "code",
   "execution_count": 40,
   "id": "20dccbb6",
   "metadata": {},
   "outputs": [],
   "source": [
    "#removing outliers\n",
    "for x in calihouse.households:\n",
    "    if x > 1160:\n",
    "        calihouse.households.replace(x,np.nan,inplace=True)\n"
   ]
  },
  {
   "cell_type": "code",
   "execution_count": 41,
   "id": "9db00eab",
   "metadata": {},
   "outputs": [
    {
     "data": {
      "text/plain": [
       "<AxesSubplot: >"
      ]
     },
     "execution_count": 41,
     "metadata": {},
     "output_type": "execute_result"
    },
    {
     "data": {
      "image/png": "[encoded data removed]",
      "text/plain": [
       "<Figure size 640x480 with 1 Axes>"
      ]
     },
     "metadata": {},
     "output_type": "display_data"
    }
   ],
   "source": [
    "#checking if outliers gone \n",
    "sb.boxplot(calihouse.households)"
   ]
  },
  {
   "cell_type": "code",
   "execution_count": 42,
   "id": "50302def",
   "metadata": {},
   "outputs": [],
   "source": [
    "#replacing nan values with median \n",
    "med_hs=calihouse.households.median()\n",
    "med_hs\n",
    "calihouse.households.replace(np.nan,med_hs, inplace=True)"
   ]
  },
  {
   "cell_type": "code",
   "execution_count": 43,
   "id": "a0a012da",
   "metadata": {},
   "outputs": [
    {
     "data": {
      "text/plain": [
       "<AxesSubplot: >"
      ]
     },
     "execution_count": 43,
     "metadata": {},
     "output_type": "execute_result"
    },
    {
     "data": {
      "image/png": "[encoded data removed]",
      "text/plain": [
       "<Figure size 640x480 with 1 Axes>"
      ]
     },
     "metadata": {},
     "output_type": "display_data"
    }
   ],
   "source": [
    "#seeing the outliers for median_income\n",
    "sb.boxplot(calihouse['median_income'])"
   ]
  },
  {
   "cell_type": "markdown",
   "id": "8bf525a8",
   "metadata": {},
   "source": [
    "**Step 3:Exploratory data analysis**\n",
    "\n",
    "In this step, we are going to explore the dataset. Perform hypothesis tests,bivariate analysis and check for correlation between variables."
   ]
  },
  {
   "cell_type": "code",
   "execution_count": 44,
   "id": "deef2cd2",
   "metadata": {},
   "outputs": [
    {
     "data": {
      "text/html": [
       "<div>\n",
       "<style scoped>\n",
       "    .dataframe tbody tr th:only-of-type {\n",
       "        vertical-align: middle;\n",
       "    }\n",
       "\n",
       "    .dataframe tbody tr th {\n",
       "        vertical-align: top;\n",
       "    }\n",
       "\n",
       "    .dataframe thead th {\n",
       "        text-align: right;\n",
       "    }\n",
       "</style>\n",
       "<table border=\"1\" class=\"dataframe\">\n",
       "  <thead>\n",
       "    <tr style=\"text-align: right;\">\n",
       "      <th></th>\n",
       "      <th>longitude</th>\n",
       "      <th>latitude</th>\n",
       "      <th>housing_median_age</th>\n",
       "      <th>total_rooms</th>\n",
       "      <th>total_bedrooms</th>\n",
       "      <th>population</th>\n",
       "      <th>households</th>\n",
       "      <th>median_income</th>\n",
       "      <th>median_house_value</th>\n",
       "    </tr>\n",
       "  </thead>\n",
       "  <tbody>\n",
       "    <tr>\n",
       "      <th>count</th>\n",
       "      <td>20640.00</td>\n",
       "      <td>20640.00</td>\n",
       "      <td>20640.00</td>\n",
       "      <td>20640.00</td>\n",
       "      <td>20640.00</td>\n",
       "      <td>20640.00</td>\n",
       "      <td>20640.00</td>\n",
       "      <td>20640.00</td>\n",
       "      <td>20640.00</td>\n",
       "    </tr>\n",
       "    <tr>\n",
       "      <th>mean</th>\n",
       "      <td>-119.57</td>\n",
       "      <td>35.63</td>\n",
       "      <td>28.64</td>\n",
       "      <td>2327.04</td>\n",
       "      <td>465.00</td>\n",
       "      <td>1204.83</td>\n",
       "      <td>434.30</td>\n",
       "      <td>3.65</td>\n",
       "      <td>206855.82</td>\n",
       "    </tr>\n",
       "    <tr>\n",
       "      <th>std</th>\n",
       "      <td>2.00</td>\n",
       "      <td>2.14</td>\n",
       "      <td>12.59</td>\n",
       "      <td>1295.43</td>\n",
       "      <td>242.65</td>\n",
       "      <td>601.62</td>\n",
       "      <td>224.54</td>\n",
       "      <td>1.46</td>\n",
       "      <td>115395.62</td>\n",
       "    </tr>\n",
       "    <tr>\n",
       "      <th>min</th>\n",
       "      <td>-124.35</td>\n",
       "      <td>32.54</td>\n",
       "      <td>1.00</td>\n",
       "      <td>2.00</td>\n",
       "      <td>1.00</td>\n",
       "      <td>3.00</td>\n",
       "      <td>1.00</td>\n",
       "      <td>0.50</td>\n",
       "      <td>14999.00</td>\n",
       "    </tr>\n",
       "    <tr>\n",
       "      <th>25%</th>\n",
       "      <td>-121.80</td>\n",
       "      <td>33.93</td>\n",
       "      <td>18.00</td>\n",
       "      <td>1447.75</td>\n",
       "      <td>297.00</td>\n",
       "      <td>787.00</td>\n",
       "      <td>280.00</td>\n",
       "      <td>2.56</td>\n",
       "      <td>119600.00</td>\n",
       "    </tr>\n",
       "    <tr>\n",
       "      <th>50%</th>\n",
       "      <td>-118.49</td>\n",
       "      <td>34.26</td>\n",
       "      <td>29.00</td>\n",
       "      <td>2074.00</td>\n",
       "      <td>423.00</td>\n",
       "      <td>1114.00</td>\n",
       "      <td>395.00</td>\n",
       "      <td>3.47</td>\n",
       "      <td>179700.00</td>\n",
       "    </tr>\n",
       "    <tr>\n",
       "      <th>75%</th>\n",
       "      <td>-118.01</td>\n",
       "      <td>37.71</td>\n",
       "      <td>37.00</td>\n",
       "      <td>2948.00</td>\n",
       "      <td>588.00</td>\n",
       "      <td>1539.00</td>\n",
       "      <td>552.00</td>\n",
       "      <td>4.54</td>\n",
       "      <td>264725.00</td>\n",
       "    </tr>\n",
       "    <tr>\n",
       "      <th>max</th>\n",
       "      <td>-114.31</td>\n",
       "      <td>41.95</td>\n",
       "      <td>52.00</td>\n",
       "      <td>7000.00</td>\n",
       "      <td>1271.00</td>\n",
       "      <td>2999.00</td>\n",
       "      <td>1159.00</td>\n",
       "      <td>8.00</td>\n",
       "      <td>500001.00</td>\n",
       "    </tr>\n",
       "  </tbody>\n",
       "</table>\n",
       "</div>"
      ],
      "text/plain": [
       "       longitude  latitude  housing_median_age  total_rooms  total_bedrooms  \\\n",
       "count   20640.00  20640.00            20640.00     20640.00        20640.00   \n",
       "mean     -119.57     35.63               28.64      2327.04          465.00   \n",
       "std         2.00      2.14               12.59      1295.43          242.65   \n",
       "min      -124.35     32.54                1.00         2.00            1.00   \n",
       "25%      -121.80     33.93               18.00      1447.75          297.00   \n",
       "50%      -118.49     34.26               29.00      2074.00          423.00   \n",
       "75%      -118.01     37.71               37.00      2948.00          588.00   \n",
       "max      -114.31     41.95               52.00      7000.00         1271.00   \n",
       "\n",
       "       population  households  median_income  median_house_value  \n",
       "count    20640.00    20640.00       20640.00            20640.00  \n",
       "mean      1204.83      434.30           3.65           206855.82  \n",
       "std        601.62      224.54           1.46           115395.62  \n",
       "min          3.00        1.00           0.50            14999.00  \n",
       "25%        787.00      280.00           2.56           119600.00  \n",
       "50%       1114.00      395.00           3.47           179700.00  \n",
       "75%       1539.00      552.00           4.54           264725.00  \n",
       "max       2999.00     1159.00           8.00           500001.00  "
      ]
     },
     "execution_count": 44,
     "metadata": {},
     "output_type": "execute_result"
    }
   ],
   "source": [
    "#summary stats\n",
    "calihouse.describe().round(2)"
   ]
  },
  {
   "cell_type": "code",
   "execution_count": 45,
   "id": "7c0dcd4f",
   "metadata": {},
   "outputs": [
    {
     "data": {
      "text/html": [
       "<div>\n",
       "<style scoped>\n",
       "    .dataframe tbody tr th:only-of-type {\n",
       "        vertical-align: middle;\n",
       "    }\n",
       "\n",
       "    .dataframe tbody tr th {\n",
       "        vertical-align: top;\n",
       "    }\n",
       "\n",
       "    .dataframe thead th {\n",
       "        text-align: right;\n",
       "    }\n",
       "</style>\n",
       "<table border=\"1\" class=\"dataframe\">\n",
       "  <thead>\n",
       "    <tr style=\"text-align: right;\">\n",
       "      <th></th>\n",
       "      <th>longitude</th>\n",
       "      <th>latitude</th>\n",
       "      <th>housing_median_age</th>\n",
       "      <th>total_rooms</th>\n",
       "      <th>total_bedrooms</th>\n",
       "      <th>population</th>\n",
       "      <th>households</th>\n",
       "      <th>median_income</th>\n",
       "      <th>median_house_value</th>\n",
       "    </tr>\n",
       "  </thead>\n",
       "  <tbody>\n",
       "    <tr>\n",
       "      <th>longitude</th>\n",
       "      <td>1.00</td>\n",
       "      <td>-0.92</td>\n",
       "      <td>-0.11</td>\n",
       "      <td>0.01</td>\n",
       "      <td>0.04</td>\n",
       "      <td>0.10</td>\n",
       "      <td>0.04</td>\n",
       "      <td>-0.01</td>\n",
       "      <td>-0.05</td>\n",
       "    </tr>\n",
       "    <tr>\n",
       "      <th>latitude</th>\n",
       "      <td>-0.92</td>\n",
       "      <td>1.00</td>\n",
       "      <td>0.01</td>\n",
       "      <td>-0.02</td>\n",
       "      <td>-0.05</td>\n",
       "      <td>-0.12</td>\n",
       "      <td>-0.07</td>\n",
       "      <td>-0.08</td>\n",
       "      <td>-0.14</td>\n",
       "    </tr>\n",
       "    <tr>\n",
       "      <th>housing_median_age</th>\n",
       "      <td>-0.11</td>\n",
       "      <td>0.01</td>\n",
       "      <td>1.00</td>\n",
       "      <td>-0.30</td>\n",
       "      <td>-0.24</td>\n",
       "      <td>-0.21</td>\n",
       "      <td>-0.22</td>\n",
       "      <td>-0.16</td>\n",
       "      <td>0.11</td>\n",
       "    </tr>\n",
       "    <tr>\n",
       "      <th>total_rooms</th>\n",
       "      <td>0.01</td>\n",
       "      <td>-0.02</td>\n",
       "      <td>-0.30</td>\n",
       "      <td>1.00</td>\n",
       "      <td>0.79</td>\n",
       "      <td>0.69</td>\n",
       "      <td>0.78</td>\n",
       "      <td>0.22</td>\n",
       "      <td>0.16</td>\n",
       "    </tr>\n",
       "    <tr>\n",
       "      <th>total_bedrooms</th>\n",
       "      <td>0.04</td>\n",
       "      <td>-0.05</td>\n",
       "      <td>-0.24</td>\n",
       "      <td>0.79</td>\n",
       "      <td>1.00</td>\n",
       "      <td>0.72</td>\n",
       "      <td>0.94</td>\n",
       "      <td>-0.01</td>\n",
       "      <td>0.05</td>\n",
       "    </tr>\n",
       "    <tr>\n",
       "      <th>population</th>\n",
       "      <td>0.10</td>\n",
       "      <td>-0.12</td>\n",
       "      <td>-0.21</td>\n",
       "      <td>0.69</td>\n",
       "      <td>0.72</td>\n",
       "      <td>1.00</td>\n",
       "      <td>0.77</td>\n",
       "      <td>0.01</td>\n",
       "      <td>-0.03</td>\n",
       "    </tr>\n",
       "    <tr>\n",
       "      <th>households</th>\n",
       "      <td>0.04</td>\n",
       "      <td>-0.07</td>\n",
       "      <td>-0.22</td>\n",
       "      <td>0.78</td>\n",
       "      <td>0.94</td>\n",
       "      <td>0.77</td>\n",
       "      <td>1.00</td>\n",
       "      <td>0.03</td>\n",
       "      <td>0.07</td>\n",
       "    </tr>\n",
       "    <tr>\n",
       "      <th>median_income</th>\n",
       "      <td>-0.01</td>\n",
       "      <td>-0.08</td>\n",
       "      <td>-0.16</td>\n",
       "      <td>0.22</td>\n",
       "      <td>-0.01</td>\n",
       "      <td>0.01</td>\n",
       "      <td>0.03</td>\n",
       "      <td>1.00</td>\n",
       "      <td>0.55</td>\n",
       "    </tr>\n",
       "    <tr>\n",
       "      <th>median_house_value</th>\n",
       "      <td>-0.05</td>\n",
       "      <td>-0.14</td>\n",
       "      <td>0.11</td>\n",
       "      <td>0.16</td>\n",
       "      <td>0.05</td>\n",
       "      <td>-0.03</td>\n",
       "      <td>0.07</td>\n",
       "      <td>0.55</td>\n",
       "      <td>1.00</td>\n",
       "    </tr>\n",
       "  </tbody>\n",
       "</table>\n",
       "</div>"
      ],
      "text/plain": [
       "                    longitude  latitude  housing_median_age  total_rooms  \\\n",
       "longitude                1.00     -0.92               -0.11         0.01   \n",
       "latitude                -0.92      1.00                0.01        -0.02   \n",
       "housing_median_age      -0.11      0.01                1.00        -0.30   \n",
       "total_rooms              0.01     -0.02               -0.30         1.00   \n",
       "total_bedrooms           0.04     -0.05               -0.24         0.79   \n",
       "population               0.10     -0.12               -0.21         0.69   \n",
       "households               0.04     -0.07               -0.22         0.78   \n",
       "median_income           -0.01     -0.08               -0.16         0.22   \n",
       "median_house_value      -0.05     -0.14                0.11         0.16   \n",
       "\n",
       "                    total_bedrooms  population  households  median_income  \\\n",
       "longitude                     0.04        0.10        0.04          -0.01   \n",
       "latitude                     -0.05       -0.12       -0.07          -0.08   \n",
       "housing_median_age           -0.24       -0.21       -0.22          -0.16   \n",
       "total_rooms                   0.79        0.69        0.78           0.22   \n",
       "total_bedrooms                1.00        0.72        0.94          -0.01   \n",
       "population                    0.72        1.00        0.77           0.01   \n",
       "households                    0.94        0.77        1.00           0.03   \n",
       "median_income                -0.01        0.01        0.03           1.00   \n",
       "median_house_value            0.05       -0.03        0.07           0.55   \n",
       "\n",
       "                    median_house_value  \n",
       "longitude                        -0.05  \n",
       "latitude                         -0.14  \n",
       "housing_median_age                0.11  \n",
       "total_rooms                       0.16  \n",
       "total_bedrooms                    0.05  \n",
       "population                       -0.03  \n",
       "households                        0.07  \n",
       "median_income                     0.55  \n",
       "median_house_value                1.00  "
      ]
     },
     "execution_count": 45,
     "metadata": {},
     "output_type": "execute_result"
    }
   ],
   "source": [
    "#seeing correlation of numerical variables\n",
    "cordata =calihouse[non_cat].corr()\n",
    "cordata.round(2)"
   ]
  },
  {
   "cell_type": "code",
   "execution_count": 46,
   "id": "29e96677",
   "metadata": {},
   "outputs": [
    {
     "data": {
      "text/plain": [
       "<AxesSubplot: >"
      ]
     },
     "execution_count": 46,
     "metadata": {},
     "output_type": "execute_result"
    },
    {
     "data": {
      "image/png": "[encoded data removed]",
      "text/plain": [
       "<Figure size 640x480 with 2 Axes>"
      ]
     },
     "metadata": {},
     "output_type": "display_data"
    }
   ],
   "source": [
    "#heatmap of correlation\n",
    "sb.heatmap(cordata, annot=True, cmap=\"Reds\")"
   ]
  },
  {
   "cell_type": "code",
   "execution_count": 47,
   "id": "c227fc91",
   "metadata": {},
   "outputs": [
    {
     "data": {
      "text/html": [
       "<div>\n",
       "<style scoped>\n",
       "    .dataframe tbody tr th:only-of-type {\n",
       "        vertical-align: middle;\n",
       "    }\n",
       "\n",
       "    .dataframe tbody tr th {\n",
       "        vertical-align: top;\n",
       "    }\n",
       "\n",
       "    .dataframe thead th {\n",
       "        text-align: right;\n",
       "    }\n",
       "</style>\n",
       "<table border=\"1\" class=\"dataframe\">\n",
       "  <thead>\n",
       "    <tr style=\"text-align: right;\">\n",
       "      <th></th>\n",
       "      <th>median_house_value</th>\n",
       "      <th>Price-levels</th>\n",
       "    </tr>\n",
       "  </thead>\n",
       "  <tbody>\n",
       "    <tr>\n",
       "      <th>0</th>\n",
       "      <td>452600</td>\n",
       "      <td>High</td>\n",
       "    </tr>\n",
       "    <tr>\n",
       "      <th>1</th>\n",
       "      <td>358500</td>\n",
       "      <td>mid-high</td>\n",
       "    </tr>\n",
       "    <tr>\n",
       "      <th>2</th>\n",
       "      <td>352100</td>\n",
       "      <td>mid-high</td>\n",
       "    </tr>\n",
       "    <tr>\n",
       "      <th>3</th>\n",
       "      <td>341300</td>\n",
       "      <td>mid-high</td>\n",
       "    </tr>\n",
       "    <tr>\n",
       "      <th>4</th>\n",
       "      <td>342200</td>\n",
       "      <td>mid-high</td>\n",
       "    </tr>\n",
       "    <tr>\n",
       "      <th>5</th>\n",
       "      <td>269700</td>\n",
       "      <td>Medium</td>\n",
       "    </tr>\n",
       "    <tr>\n",
       "      <th>6</th>\n",
       "      <td>299200</td>\n",
       "      <td>Medium</td>\n",
       "    </tr>\n",
       "    <tr>\n",
       "      <th>7</th>\n",
       "      <td>241400</td>\n",
       "      <td>Medium</td>\n",
       "    </tr>\n",
       "    <tr>\n",
       "      <th>8</th>\n",
       "      <td>226700</td>\n",
       "      <td>Medium</td>\n",
       "    </tr>\n",
       "    <tr>\n",
       "      <th>9</th>\n",
       "      <td>261100</td>\n",
       "      <td>Medium</td>\n",
       "    </tr>\n",
       "    <tr>\n",
       "      <th>10</th>\n",
       "      <td>281500</td>\n",
       "      <td>Medium</td>\n",
       "    </tr>\n",
       "    <tr>\n",
       "      <th>11</th>\n",
       "      <td>241800</td>\n",
       "      <td>Medium</td>\n",
       "    </tr>\n",
       "    <tr>\n",
       "      <th>12</th>\n",
       "      <td>213500</td>\n",
       "      <td>Medium</td>\n",
       "    </tr>\n",
       "    <tr>\n",
       "      <th>13</th>\n",
       "      <td>191300</td>\n",
       "      <td>mid-low</td>\n",
       "    </tr>\n",
       "    <tr>\n",
       "      <th>14</th>\n",
       "      <td>159200</td>\n",
       "      <td>mid-low</td>\n",
       "    </tr>\n",
       "    <tr>\n",
       "      <th>15</th>\n",
       "      <td>140000</td>\n",
       "      <td>mid-low</td>\n",
       "    </tr>\n",
       "    <tr>\n",
       "      <th>16</th>\n",
       "      <td>152500</td>\n",
       "      <td>mid-low</td>\n",
       "    </tr>\n",
       "    <tr>\n",
       "      <th>17</th>\n",
       "      <td>155500</td>\n",
       "      <td>mid-low</td>\n",
       "    </tr>\n",
       "    <tr>\n",
       "      <th>18</th>\n",
       "      <td>158700</td>\n",
       "      <td>mid-low</td>\n",
       "    </tr>\n",
       "    <tr>\n",
       "      <th>19</th>\n",
       "      <td>162900</td>\n",
       "      <td>mid-low</td>\n",
       "    </tr>\n",
       "  </tbody>\n",
       "</table>\n",
       "</div>"
      ],
      "text/plain": [
       "    median_house_value Price-levels\n",
       "0               452600         High\n",
       "1               358500     mid-high\n",
       "2               352100     mid-high\n",
       "3               341300     mid-high\n",
       "4               342200     mid-high\n",
       "5               269700       Medium\n",
       "6               299200       Medium\n",
       "7               241400       Medium\n",
       "8               226700       Medium\n",
       "9               261100       Medium\n",
       "10              281500       Medium\n",
       "11              241800       Medium\n",
       "12              213500       Medium\n",
       "13              191300      mid-low\n",
       "14              159200      mid-low\n",
       "15              140000      mid-low\n",
       "16              152500      mid-low\n",
       "17              155500      mid-low\n",
       "18              158700      mid-low\n",
       "19              162900      mid-low"
      ]
     },
     "execution_count": 47,
     "metadata": {},
     "output_type": "execute_result"
    }
   ],
   "source": [
    "#creating bins\n",
    "bins = np.linspace(min(calihouse[\"median_house_value\"]), max(calihouse[\"median_house_value\"]), 6)\n",
    "bins\n",
    "group_names = ['Low','mid-low', 'Medium','mid-high', 'High']\n",
    "calihouse[\"Price-levels\"] = pd.cut(calihouse[\"median_house_value\"], bins, labels=group_names, include_lowest=True )\n",
    "calihouse[['median_house_value','Price-levels']].head(20)"
   ]
  },
  {
   "cell_type": "code",
   "execution_count": 48,
   "id": "11ad5156",
   "metadata": {},
   "outputs": [
    {
     "name": "stdout",
     "output_type": "stream",
     "text": [
      "mid-low     7870\n",
      "Medium      4568\n",
      "Low         4489\n",
      "mid-high    1991\n",
      "High        1722\n",
      "Name: Price-levels, dtype: int64\n"
     ]
    }
   ],
   "source": [
    "#price distribution\n",
    "price_count=calihouse[\"Price-levels\"].value_counts()\n",
    "print(price_count)"
   ]
  },
  {
   "cell_type": "code",
   "execution_count": 49,
   "id": "2ac1685d",
   "metadata": {},
   "outputs": [
    {
     "data": {
      "text/plain": [
       "Text(0.5, 1.0, 'Distribution of houses among price levels')"
      ]
     },
     "execution_count": 49,
     "metadata": {},
     "output_type": "execute_result"
    },
    {
     "data": {
      "image/png": "[encoded data removed]",
      "text/plain": [
       "<Figure size 640x480 with 1 Axes>"
      ]
     },
     "metadata": {},
     "output_type": "display_data"
    }
   ],
   "source": [
    "# Distribution visualized\n",
    "plt.bar(group_names, calihouse[\"Price-levels\"].value_counts())\n",
    "plt.xlabel(\"Price categories\")\n",
    "plt.ylabel(\"Number of houses\")\n",
    "plt.title(\"Distribution of houses among price levels\")"
   ]
  },
  {
   "cell_type": "code",
   "execution_count": 50,
   "id": "a5f3b4ac",
   "metadata": {},
   "outputs": [
    {
     "data": {
      "text/plain": [
       "<AxesSubplot: xlabel='ocean_proximity', ylabel='median_house_value'>"
      ]
     },
     "execution_count": 50,
     "metadata": {},
     "output_type": "execute_result"
    },
    {
     "data": {
      "image/png": "[encoded data removed]",
      "text/plain": [
       "<Figure size 1000x600 with 1 Axes>"
      ]
     },
     "metadata": {},
     "output_type": "display_data"
    }
   ],
   "source": [
    "#season vs cnt \n",
    "plt.figure(figsize=[10,6])\n",
    "sb.boxplot(data=calihouse, x=\"ocean_proximity\", y=\"median_house_value\")\n"
   ]
  },
  {
   "cell_type": "code",
   "execution_count": 51,
   "id": "78b74dd8",
   "metadata": {},
   "outputs": [
    {
     "data": {
      "text/html": [
       "<div>\n",
       "<style scoped>\n",
       "    .dataframe tbody tr th:only-of-type {\n",
       "        vertical-align: middle;\n",
       "    }\n",
       "\n",
       "    .dataframe tbody tr th {\n",
       "        vertical-align: top;\n",
       "    }\n",
       "\n",
       "    .dataframe thead th {\n",
       "        text-align: right;\n",
       "    }\n",
       "</style>\n",
       "<table border=\"1\" class=\"dataframe\">\n",
       "  <thead>\n",
       "    <tr style=\"text-align: right;\">\n",
       "      <th></th>\n",
       "      <th>df</th>\n",
       "      <th>sum_sq</th>\n",
       "      <th>mean_sq</th>\n",
       "      <th>F</th>\n",
       "      <th>PR(&gt;F)</th>\n",
       "    </tr>\n",
       "  </thead>\n",
       "  <tbody>\n",
       "    <tr>\n",
       "      <th>ocean_proximity</th>\n",
       "      <td>4.0</td>\n",
       "      <td>6.543716e+13</td>\n",
       "      <td>1.635929e+13</td>\n",
       "      <td>1612.140736</td>\n",
       "      <td>0.0</td>\n",
       "    </tr>\n",
       "    <tr>\n",
       "      <th>Residual</th>\n",
       "      <td>20635.0</td>\n",
       "      <td>2.093948e+14</td>\n",
       "      <td>1.014756e+10</td>\n",
       "      <td>NaN</td>\n",
       "      <td>NaN</td>\n",
       "    </tr>\n",
       "  </tbody>\n",
       "</table>\n",
       "</div>"
      ],
      "text/plain": [
       "                      df        sum_sq       mean_sq            F  PR(>F)\n",
       "ocean_proximity      4.0  6.543716e+13  1.635929e+13  1612.140736     0.0\n",
       "Residual         20635.0  2.093948e+14  1.014756e+10          NaN     NaN"
      ]
     },
     "execution_count": 51,
     "metadata": {},
     "output_type": "execute_result"
    }
   ],
   "source": [
    "#checking if median_house_value differs according to the ocean_proximity\n",
    "mod = ols(\"median_house_value ~ ocean_proximity\", data = calihouse).fit()\n",
    "anov_table = sm.stats.anova_lm(mod)\n",
    "anov_table"
   ]
  },
  {
   "cell_type": "code",
   "execution_count": 52,
   "id": "436da3f2",
   "metadata": {},
   "outputs": [
    {
     "data": {
      "text/html": [
       "<div>\n",
       "<style scoped>\n",
       "    .dataframe tbody tr th:only-of-type {\n",
       "        vertical-align: middle;\n",
       "    }\n",
       "\n",
       "    .dataframe tbody tr th {\n",
       "        vertical-align: top;\n",
       "    }\n",
       "\n",
       "    .dataframe thead th {\n",
       "        text-align: right;\n",
       "    }\n",
       "</style>\n",
       "<table border=\"1\" class=\"dataframe\">\n",
       "  <thead>\n",
       "    <tr style=\"text-align: right;\">\n",
       "      <th>Price-levels</th>\n",
       "      <th>Low</th>\n",
       "      <th>mid-low</th>\n",
       "      <th>Medium</th>\n",
       "      <th>mid-high</th>\n",
       "      <th>High</th>\n",
       "    </tr>\n",
       "    <tr>\n",
       "      <th>ocean_proximity</th>\n",
       "      <th></th>\n",
       "      <th></th>\n",
       "      <th></th>\n",
       "      <th></th>\n",
       "      <th></th>\n",
       "    </tr>\n",
       "  </thead>\n",
       "  <tbody>\n",
       "    <tr>\n",
       "      <th>&lt;1H OCEAN</th>\n",
       "      <td>94918.148148</td>\n",
       "      <td>165836.743819</td>\n",
       "      <td>248872.897871</td>\n",
       "      <td>347369.021739</td>\n",
       "      <td>477171.634385</td>\n",
       "    </tr>\n",
       "    <tr>\n",
       "      <th>INLAND</th>\n",
       "      <td>78860.092048</td>\n",
       "      <td>145918.912338</td>\n",
       "      <td>243755.748373</td>\n",
       "      <td>346043.200000</td>\n",
       "      <td>466212.161765</td>\n",
       "    </tr>\n",
       "    <tr>\n",
       "      <th>ISLAND</th>\n",
       "      <td>0.000000</td>\n",
       "      <td>0.000000</td>\n",
       "      <td>293750.000000</td>\n",
       "      <td>0.000000</td>\n",
       "      <td>438233.333333</td>\n",
       "    </tr>\n",
       "    <tr>\n",
       "      <th>NEAR BAY</th>\n",
       "      <td>91258.666667</td>\n",
       "      <td>163722.993197</td>\n",
       "      <td>251072.805508</td>\n",
       "      <td>350705.597964</td>\n",
       "      <td>474792.117978</td>\n",
       "    </tr>\n",
       "    <tr>\n",
       "      <th>NEAR OCEAN</th>\n",
       "      <td>88303.436426</td>\n",
       "      <td>157838.319908</td>\n",
       "      <td>254732.403718</td>\n",
       "      <td>350494.308943</td>\n",
       "      <td>476042.053191</td>\n",
       "    </tr>\n",
       "  </tbody>\n",
       "</table>\n",
       "</div>"
      ],
      "text/plain": [
       "Price-levels              Low        mid-low         Medium       mid-high  \\\n",
       "ocean_proximity                                                              \n",
       "<1H OCEAN        94918.148148  165836.743819  248872.897871  347369.021739   \n",
       "INLAND           78860.092048  145918.912338  243755.748373  346043.200000   \n",
       "ISLAND               0.000000       0.000000  293750.000000       0.000000   \n",
       "NEAR BAY         91258.666667  163722.993197  251072.805508  350705.597964   \n",
       "NEAR OCEAN       88303.436426  157838.319908  254732.403718  350494.308943   \n",
       "\n",
       "Price-levels              High  \n",
       "ocean_proximity                 \n",
       "<1H OCEAN        477171.634385  \n",
       "INLAND           466212.161765  \n",
       "ISLAND           438233.333333  \n",
       "NEAR BAY         474792.117978  \n",
       "NEAR OCEAN       476042.053191  "
      ]
     },
     "execution_count": 52,
     "metadata": {},
     "output_type": "execute_result"
    }
   ],
   "source": [
    "# ocean_proximity and Price level wise House Prices\n",
    "calihouse.pivot_table(values='median_house_value',\n",
    "                 index='ocean_proximity',\n",
    "                 columns='Price-levels', fill_value=0, aggfunc='mean')"
   ]
  },
  {
   "cell_type": "markdown",
   "id": "1b322e39",
   "metadata": {},
   "source": [
    "**FINDINGS**\n",
    "\n",
    "\n",
    "1.Most of the houses are in the low price range and can be afforded by most people. \n",
    "\n",
    "2.The price of the house is having moderate strong correlation with Median income implying people with high income buy high priced house.\n",
    "\n",
    "3.The prices in Inland are affordable to most people while houses on islands are costliest.\n"
   ]
  },
  {
   "cell_type": "markdown",
   "id": "d3fddbd0",
   "metadata": {},
   "source": [
    "\n",
    "**Step 4: Model building**\n",
    "\n",
    "A linear regression model is going to be built in order to predict the rating of the app which is the dependent variable. The categorical variables will be converted into numerical using dummy variables method.\n",
    "We will use a decision tree regressor as well as Random Forest Regression.\n",
    "The model with highest R2 will be used and least RMSE. \n",
    "The algorithm will predict the rating of an application."
   ]
  },
  {
   "cell_type": "code",
   "execution_count": 53,
   "id": "ea5257bc",
   "metadata": {},
   "outputs": [
    {
     "data": {
      "text/html": [
       "<div>\n",
       "<style scoped>\n",
       "    .dataframe tbody tr th:only-of-type {\n",
       "        vertical-align: middle;\n",
       "    }\n",
       "\n",
       "    .dataframe tbody tr th {\n",
       "        vertical-align: top;\n",
       "    }\n",
       "\n",
       "    .dataframe thead th {\n",
       "        text-align: right;\n",
       "    }\n",
       "</style>\n",
       "<table border=\"1\" class=\"dataframe\">\n",
       "  <thead>\n",
       "    <tr style=\"text-align: right;\">\n",
       "      <th></th>\n",
       "      <th>longitude</th>\n",
       "      <th>latitude</th>\n",
       "      <th>housing_median_age</th>\n",
       "      <th>total_rooms</th>\n",
       "      <th>total_bedrooms</th>\n",
       "      <th>population</th>\n",
       "      <th>households</th>\n",
       "      <th>median_income</th>\n",
       "      <th>ocean_proximity</th>\n",
       "      <th>median_house_value</th>\n",
       "      <th>Price-levels</th>\n",
       "    </tr>\n",
       "  </thead>\n",
       "  <tbody>\n",
       "  </tbody>\n",
       "</table>\n",
       "</div>"
      ],
      "text/plain": [
       "Empty DataFrame\n",
       "Columns: [longitude, latitude, housing_median_age, total_rooms, total_bedrooms, population, households, median_income, ocean_proximity, median_house_value, Price-levels]\n",
       "Index: []"
      ]
     },
     "execution_count": 53,
     "metadata": {},
     "output_type": "execute_result"
    }
   ],
   "source": [
    "calihouse.head(0)"
   ]
  },
  {
   "cell_type": "code",
   "execution_count": 54,
   "id": "8495f14d",
   "metadata": {},
   "outputs": [],
   "source": [
    "#initalizing encoder\n",
    "label_encoder=preproc.LabelEncoder()"
   ]
  },
  {
   "cell_type": "code",
   "execution_count": 55,
   "id": "90741889",
   "metadata": {},
   "outputs": [],
   "source": [
    "#encoding categorical variables\n",
    "openc=label_encoder.fit_transform(calihouse['ocean_proximity'])\n",
    "plenc=label_encoder.fit_transform(calihouse['Price-levels'])"
   ]
  },
  {
   "cell_type": "code",
   "execution_count": 56,
   "id": "82e77ef5",
   "metadata": {},
   "outputs": [],
   "source": [
    "#replacing original with encoded variables\n",
    "calihouse['ocean_proximity']=openc\n",
    "calihouse['Price-levels']=plenc"
   ]
  },
  {
   "cell_type": "code",
   "execution_count": 57,
   "id": "08595679",
   "metadata": {},
   "outputs": [
    {
     "data": {
      "text/html": [
       "<div>\n",
       "<style scoped>\n",
       "    .dataframe tbody tr th:only-of-type {\n",
       "        vertical-align: middle;\n",
       "    }\n",
       "\n",
       "    .dataframe tbody tr th {\n",
       "        vertical-align: top;\n",
       "    }\n",
       "\n",
       "    .dataframe thead th {\n",
       "        text-align: right;\n",
       "    }\n",
       "</style>\n",
       "<table border=\"1\" class=\"dataframe\">\n",
       "  <thead>\n",
       "    <tr style=\"text-align: right;\">\n",
       "      <th></th>\n",
       "      <th>longitude</th>\n",
       "      <th>latitude</th>\n",
       "      <th>housing_median_age</th>\n",
       "      <th>total_rooms</th>\n",
       "      <th>total_bedrooms</th>\n",
       "      <th>population</th>\n",
       "      <th>households</th>\n",
       "      <th>median_income</th>\n",
       "      <th>ocean_proximity</th>\n",
       "      <th>median_house_value</th>\n",
       "      <th>Price-levels</th>\n",
       "    </tr>\n",
       "  </thead>\n",
       "  <tbody>\n",
       "    <tr>\n",
       "      <th>0</th>\n",
       "      <td>-122.23</td>\n",
       "      <td>37.88</td>\n",
       "      <td>41</td>\n",
       "      <td>880.0</td>\n",
       "      <td>129.0</td>\n",
       "      <td>322.0</td>\n",
       "      <td>126.0</td>\n",
       "      <td>3.46775</td>\n",
       "      <td>3</td>\n",
       "      <td>452600</td>\n",
       "      <td>0</td>\n",
       "    </tr>\n",
       "    <tr>\n",
       "      <th>1</th>\n",
       "      <td>-122.22</td>\n",
       "      <td>37.86</td>\n",
       "      <td>21</td>\n",
       "      <td>2074.0</td>\n",
       "      <td>1106.0</td>\n",
       "      <td>2401.0</td>\n",
       "      <td>1138.0</td>\n",
       "      <td>3.46775</td>\n",
       "      <td>3</td>\n",
       "      <td>358500</td>\n",
       "      <td>3</td>\n",
       "    </tr>\n",
       "    <tr>\n",
       "      <th>2</th>\n",
       "      <td>-122.24</td>\n",
       "      <td>37.85</td>\n",
       "      <td>52</td>\n",
       "      <td>1467.0</td>\n",
       "      <td>190.0</td>\n",
       "      <td>496.0</td>\n",
       "      <td>177.0</td>\n",
       "      <td>7.25740</td>\n",
       "      <td>3</td>\n",
       "      <td>352100</td>\n",
       "      <td>3</td>\n",
       "    </tr>\n",
       "    <tr>\n",
       "      <th>3</th>\n",
       "      <td>-122.25</td>\n",
       "      <td>37.85</td>\n",
       "      <td>52</td>\n",
       "      <td>1274.0</td>\n",
       "      <td>235.0</td>\n",
       "      <td>558.0</td>\n",
       "      <td>219.0</td>\n",
       "      <td>5.64310</td>\n",
       "      <td>3</td>\n",
       "      <td>341300</td>\n",
       "      <td>3</td>\n",
       "    </tr>\n",
       "    <tr>\n",
       "      <th>4</th>\n",
       "      <td>-122.25</td>\n",
       "      <td>37.85</td>\n",
       "      <td>52</td>\n",
       "      <td>1627.0</td>\n",
       "      <td>280.0</td>\n",
       "      <td>565.0</td>\n",
       "      <td>259.0</td>\n",
       "      <td>3.84620</td>\n",
       "      <td>3</td>\n",
       "      <td>342200</td>\n",
       "      <td>3</td>\n",
       "    </tr>\n",
       "  </tbody>\n",
       "</table>\n",
       "</div>"
      ],
      "text/plain": [
       "   longitude  latitude  housing_median_age  total_rooms  total_bedrooms  \\\n",
       "0    -122.23     37.88                  41        880.0           129.0   \n",
       "1    -122.22     37.86                  21       2074.0          1106.0   \n",
       "2    -122.24     37.85                  52       1467.0           190.0   \n",
       "3    -122.25     37.85                  52       1274.0           235.0   \n",
       "4    -122.25     37.85                  52       1627.0           280.0   \n",
       "\n",
       "   population  households  median_income  ocean_proximity  median_house_value  \\\n",
       "0       322.0       126.0        3.46775                3              452600   \n",
       "1      2401.0      1138.0        3.46775                3              358500   \n",
       "2       496.0       177.0        7.25740                3              352100   \n",
       "3       558.0       219.0        5.64310                3              341300   \n",
       "4       565.0       259.0        3.84620                3              342200   \n",
       "\n",
       "   Price-levels  \n",
       "0             0  \n",
       "1             3  \n",
       "2             3  \n",
       "3             3  \n",
       "4             3  "
      ]
     },
     "execution_count": 57,
     "metadata": {},
     "output_type": "execute_result"
    }
   ],
   "source": [
    "#examining the changes\n",
    "calihouse.head()"
   ]
  },
  {
   "cell_type": "markdown",
   "id": "5a634f60",
   "metadata": {},
   "source": [
    "**First Model: Multiple Linear Regression**\n",
    "\n",
    "The first  model will be of multiple linear regression with all variables irrespective of their correlation status."
   ]
  },
  {
   "cell_type": "code",
   "execution_count": 58,
   "id": "7ee0385f",
   "metadata": {},
   "outputs": [],
   "source": [
    "#setting values of x and y\n",
    "X= calihouse.drop(['median_house_value'], axis=1)\n",
    "y= calihouse.pop('median_house_value')"
   ]
  },
  {
   "cell_type": "code",
   "execution_count": 59,
   "id": "615d20f0",
   "metadata": {},
   "outputs": [],
   "source": [
    "# Create linear regression object\n",
    "regressor = LinearRegression()"
   ]
  },
  {
   "cell_type": "code",
   "execution_count": 60,
   "id": "8aa29d11",
   "metadata": {},
   "outputs": [],
   "source": [
    "# Train, test, split\n",
    "\n",
    "X_train, X_test, y_train, y_test = train_test_split(X,y, test_size = .30, random_state= 1000000000)\n"
   ]
  },
  {
   "cell_type": "code",
   "execution_count": 61,
   "id": "62cdfb94",
   "metadata": {},
   "outputs": [
    {
     "data": {
      "text/html": [
       "<style>#sk-container-id-1 {color: black;background-color: white;}#sk-container-id-1 pre{padding: 0;}#sk-container-id-1 div.sk-toggleable {background-color: white;}#sk-container-id-1 label.sk-toggleable__label {cursor: pointer;display: block;width: 100%;margin-bottom: 0;padding: 0.3em;box-sizing: border-box;text-align: center;}#sk-container-id-1 label.sk-toggleable__label-arrow:before {content: \"▸\";float: left;margin-right: 0.25em;color: #696969;}#sk-container-id-1 label.sk-toggleable__label-arrow:hover:before {color: black;}#sk-container-id-1 div.sk-estimator:hover label.sk-toggleable__label-arrow:before {color: black;}#sk-container-id-1 div.sk-toggleable__content {max-height: 0;max-width: 0;overflow: hidden;text-align: left;background-color: #f0f8ff;}#sk-container-id-1 div.sk-toggleable__content pre {margin: 0.2em;color: black;border-radius: 0.25em;background-color: #f0f8ff;}#sk-container-id-1 input.sk-toggleable__control:checked~div.sk-toggleable__content {max-height: 200px;max-width: 100%;overflow: auto;}#sk-container-id-1 input.sk-toggleable__control:checked~label.sk-toggleable__label-arrow:before {content: \"▾\";}#sk-container-id-1 div.sk-estimator input.sk-toggleable__control:checked~label.sk-toggleable__label {background-color: #d4ebff;}#sk-container-id-1 div.sk-label input.sk-toggleable__control:checked~label.sk-toggleable__label {background-color: #d4ebff;}#sk-container-id-1 input.sk-hidden--visually {border: 0;clip: rect(1px 1px 1px 1px);clip: rect(1px, 1px, 1px, 1px);height: 1px;margin: -1px;overflow: hidden;padding: 0;position: absolute;width: 1px;}#sk-container-id-1 div.sk-estimator {font-family: monospace;background-color: #f0f8ff;border: 1px dotted black;border-radius: 0.25em;box-sizing: border-box;margin-bottom: 0.5em;}#sk-container-id-1 div.sk-estimator:hover {background-color: #d4ebff;}#sk-container-id-1 div.sk-parallel-item::after {content: \"\";width: 100%;border-bottom: 1px solid gray;flex-grow: 1;}#sk-container-id-1 div.sk-label:hover label.sk-toggleable__label {background-color: #d4ebff;}#sk-container-id-1 div.sk-serial::before {content: \"\";position: absolute;border-left: 1px solid gray;box-sizing: border-box;top: 0;bottom: 0;left: 50%;z-index: 0;}#sk-container-id-1 div.sk-serial {display: flex;flex-direction: column;align-items: center;background-color: white;padding-right: 0.2em;padding-left: 0.2em;position: relative;}#sk-container-id-1 div.sk-item {position: relative;z-index: 1;}#sk-container-id-1 div.sk-parallel {display: flex;align-items: stretch;justify-content: center;background-color: white;position: relative;}#sk-container-id-1 div.sk-item::before, #sk-container-id-1 div.sk-parallel-item::before {content: \"\";position: absolute;border-left: 1px solid gray;box-sizing: border-box;top: 0;bottom: 0;left: 50%;z-index: -1;}#sk-container-id-1 div.sk-parallel-item {display: flex;flex-direction: column;z-index: 1;position: relative;background-color: white;}#sk-container-id-1 div.sk-parallel-item:first-child::after {align-self: flex-end;width: 50%;}#sk-container-id-1 div.sk-parallel-item:last-child::after {align-self: flex-start;width: 50%;}#sk-container-id-1 div.sk-parallel-item:only-child::after {width: 0;}#sk-container-id-1 div.sk-dashed-wrapped {border: 1px dashed gray;margin: 0 0.4em 0.5em 0.4em;box-sizing: border-box;padding-bottom: 0.4em;background-color: white;}#sk-container-id-1 div.sk-label label {font-family: monospace;font-weight: bold;display: inline-block;line-height: 1.2em;}#sk-container-id-1 div.sk-label-container {text-align: center;}#sk-container-id-1 div.sk-container {/* jupyter's `normalize.less` sets `[hidden] { display: none; }` but bootstrap.min.css set `[hidden] { display: none !important; }` so we also need the `!important` here to be able to override the default hidden behavior on the sphinx rendered scikit-learn.org. See: https://github.com/scikit-learn/scikit-learn/issues/21755 */display: inline-block !important;position: relative;}#sk-container-id-1 div.sk-text-repr-fallback {display: none;}</style><div id=\"sk-container-id-1\" class=\"sk-top-container\"><div class=\"sk-text-repr-fallback\"><pre>LinearRegression(n_jobs=-2, normalize=False)</pre><b>In a Jupyter environment, please rerun this cell to show the HTML representation or trust the notebook. <br />On GitHub, the HTML representation is unable to render, please try loading this page with nbviewer.org.</b></div><div class=\"sk-container\" hidden><div class=\"sk-item\"><div class=\"sk-estimator sk-toggleable\"><input class=\"sk-toggleable__control sk-hidden--visually\" id=\"sk-estimator-id-1\" type=\"checkbox\" checked><label for=\"sk-estimator-id-1\" class=\"sk-toggleable__label sk-toggleable__label-arrow\">LinearRegression</label><div class=\"sk-toggleable__content\"><pre>LinearRegression(n_jobs=-2, normalize=False)</pre></div></div></div></div></div>"
      ],
      "text/plain": [
       "LinearRegression(n_jobs=-2, normalize=False)"
      ]
     },
     "execution_count": 61,
     "metadata": {},
     "output_type": "execute_result"
    }
   ],
   "source": [
    "# Fit model to training data\n",
    "regressor.fit(X_train,y_train)\n",
    "LinearRegression(copy_X=True, fit_intercept=True, n_jobs=-2, normalize=False)"
   ]
  },
  {
   "cell_type": "code",
   "execution_count": 62,
   "id": "f14455ab",
   "metadata": {},
   "outputs": [
    {
     "data": {
      "text/plain": [
       "array([193265.11743911, 304412.06261694,  19487.16102179, ...,\n",
       "       261581.45679766, 141576.91946566, 140947.39632408])"
      ]
     },
     "execution_count": 62,
     "metadata": {},
     "output_type": "execute_result"
    }
   ],
   "source": [
    "# Predict\n",
    "# Predicting test set results\n",
    "y_pred = regressor.predict(X_test)\n",
    "y_pred"
   ]
  },
  {
   "cell_type": "code",
   "execution_count": 63,
   "id": "a8ede551",
   "metadata": {},
   "outputs": [
    {
     "name": "stdout",
     "output_type": "stream",
     "text": [
      "R^2 = 0.5435975479459457\n"
     ]
    }
   ],
   "source": [
    "# Calculated R Squared\n",
    "print('R^2 =',metrics.explained_variance_score(y_test,y_pred))"
   ]
  },
  {
   "cell_type": "code",
   "execution_count": 64,
   "id": "097a0897",
   "metadata": {},
   "outputs": [
    {
     "data": {
      "text/plain": [
       "<matplotlib.collections.PathCollection at 0x2d380665640>"
      ]
     },
     "execution_count": 64,
     "metadata": {},
     "output_type": "execute_result"
    },
    {
     "data": {
      "image/png": "[encoded data removed]",
      "text/plain": [
       "<Figure size 640x480 with 1 Axes>"
      ]
     },
     "metadata": {},
     "output_type": "display_data"
    }
   ],
   "source": [
    "# Actual v predictions scatter\n",
    "plt.scatter(y_test, y_pred)"
   ]
  },
  {
   "cell_type": "code",
   "execution_count": 65,
   "id": "ed4f146f",
   "metadata": {},
   "outputs": [
    {
     "data": {
      "text/plain": [
       "<AxesSubplot: xlabel='median_house_value', ylabel='Density'>"
      ]
     },
     "execution_count": 65,
     "metadata": {},
     "output_type": "execute_result"
    },
    {
     "data": {
      "image/png": "[encoded data removed]",
      "text/plain": [
       "<Figure size 640x480 with 1 Axes>"
      ]
     },
     "metadata": {},
     "output_type": "display_data"
    }
   ],
   "source": [
    "# Histogram of the distribution of residuals\n",
    "sb.distplot((y_test - y_pred))"
   ]
  },
  {
   "cell_type": "code",
   "execution_count": 66,
   "id": "534bc851",
   "metadata": {},
   "outputs": [
    {
     "data": {
      "text/html": [
       "<div>\n",
       "<style scoped>\n",
       "    .dataframe tbody tr th:only-of-type {\n",
       "        vertical-align: middle;\n",
       "    }\n",
       "\n",
       "    .dataframe tbody tr th {\n",
       "        vertical-align: top;\n",
       "    }\n",
       "\n",
       "    .dataframe thead th {\n",
       "        text-align: right;\n",
       "    }\n",
       "</style>\n",
       "<table border=\"1\" class=\"dataframe\">\n",
       "  <thead>\n",
       "    <tr style=\"text-align: right;\">\n",
       "      <th></th>\n",
       "      <th>Coefficients</th>\n",
       "    </tr>\n",
       "  </thead>\n",
       "  <tbody>\n",
       "    <tr>\n",
       "      <th>longitude</th>\n",
       "      <td>-55639.377019</td>\n",
       "    </tr>\n",
       "    <tr>\n",
       "      <th>latitude</th>\n",
       "      <td>-56449.335945</td>\n",
       "    </tr>\n",
       "    <tr>\n",
       "      <th>housing_median_age</th>\n",
       "      <td>836.593479</td>\n",
       "    </tr>\n",
       "    <tr>\n",
       "      <th>total_rooms</th>\n",
       "      <td>10.866017</td>\n",
       "    </tr>\n",
       "    <tr>\n",
       "      <th>total_bedrooms</th>\n",
       "      <td>62.169765</td>\n",
       "    </tr>\n",
       "    <tr>\n",
       "      <th>population</th>\n",
       "      <td>-36.303946</td>\n",
       "    </tr>\n",
       "    <tr>\n",
       "      <th>households</th>\n",
       "      <td>-4.316753</td>\n",
       "    </tr>\n",
       "    <tr>\n",
       "      <th>median_income</th>\n",
       "      <td>35711.802309</td>\n",
       "    </tr>\n",
       "    <tr>\n",
       "      <th>ocean_proximity</th>\n",
       "      <td>-1254.531837</td>\n",
       "    </tr>\n",
       "    <tr>\n",
       "      <th>Price-levels</th>\n",
       "      <td>-23380.422887</td>\n",
       "    </tr>\n",
       "  </tbody>\n",
       "</table>\n",
       "</div>"
      ],
      "text/plain": [
       "                    Coefficients\n",
       "longitude          -55639.377019\n",
       "latitude           -56449.335945\n",
       "housing_median_age    836.593479\n",
       "total_rooms            10.866017\n",
       "total_bedrooms         62.169765\n",
       "population            -36.303946\n",
       "households             -4.316753\n",
       "median_income       35711.802309\n",
       "ocean_proximity     -1254.531837\n",
       "Price-levels       -23380.422887"
      ]
     },
     "execution_count": 66,
     "metadata": {},
     "output_type": "execute_result"
    }
   ],
   "source": [
    "#coefficients \n",
    "cdf = pd.DataFrame(data = regressor.coef_, index = X.columns, columns = ['Coefficients'])\n",
    "cdf"
   ]
  },
  {
   "cell_type": "markdown",
   "id": "b5863b48",
   "metadata": {},
   "source": [
    "**Conclusion**\n",
    "\n",
    "The model is not very good as it can explain only 54% of the change in the dependent variable. The fit is not achieved properly. The variables are not enough and maybe another methodology needs to be used to develop this model.\n",
    "\n",
    "Every one unit increase in:\n",
    "\n",
    "longitude is associated with a decrease in Price by $55639.\n",
    "\n",
    "latitude is associated with a decrease in Price by $56449.\n",
    "\n",
    "housing_median_age is associated with an increase in Price by $836\n",
    "\n",
    "total_bedrooms is associated with an increase in Price by a negligible amount.\n",
    "\n",
    "total_rooms is associated with an increase in Price by a negligible amount.\n",
    "\n",
    "population is associated with a decrease in Price by a negligible amount.\n",
    "\n",
    "households is associated with a decrease in Price by a negligible amount.\n",
    "\n",
    "median_income is associated an increase in Price by $35711.\n"
   ]
  },
  {
   "cell_type": "markdown",
   "id": "08504f99",
   "metadata": {},
   "source": [
    "**Second  Model: Linear regression**\n",
    "\n",
    "The second model will be of linear regression with one variable that is the median income which has a moderate to strong positive effect on the dependent variable that is the price of the house. This implies that those who buy highly priced house are having a higher income. "
   ]
  },
  {
   "cell_type": "code",
   "execution_count": 87,
   "id": "89e2ead0",
   "metadata": {},
   "outputs": [],
   "source": [
    "#setting values of x and y\n",
    "X= pd.DataFrame(calihouse['median_income'])\n",
    "y= y "
   ]
  },
  {
   "cell_type": "code",
   "execution_count": 88,
   "id": "3ec29182",
   "metadata": {},
   "outputs": [],
   "source": [
    "# Train, test, split\n",
    "\n",
    "X_train, X_test, y_train, y_test = train_test_split(X,y, test_size = .30, random_state= 10)"
   ]
  },
  {
   "cell_type": "code",
   "execution_count": 89,
   "id": "a2d179d7",
   "metadata": {},
   "outputs": [],
   "source": [
    "# create linear regression object\n",
    "reg = linear_model.LinearRegression()"
   ]
  },
  {
   "cell_type": "code",
   "execution_count": 90,
   "id": "13bd0034",
   "metadata": {},
   "outputs": [
    {
     "data": {
      "text/html": [
       "<style>#sk-container-id-2 {color: black;background-color: white;}#sk-container-id-2 pre{padding: 0;}#sk-container-id-2 div.sk-toggleable {background-color: white;}#sk-container-id-2 label.sk-toggleable__label {cursor: pointer;display: block;width: 100%;margin-bottom: 0;padding: 0.3em;box-sizing: border-box;text-align: center;}#sk-container-id-2 label.sk-toggleable__label-arrow:before {content: \"▸\";float: left;margin-right: 0.25em;color: #696969;}#sk-container-id-2 label.sk-toggleable__label-arrow:hover:before {color: black;}#sk-container-id-2 div.sk-estimator:hover label.sk-toggleable__label-arrow:before {color: black;}#sk-container-id-2 div.sk-toggleable__content {max-height: 0;max-width: 0;overflow: hidden;text-align: left;background-color: #f0f8ff;}#sk-container-id-2 div.sk-toggleable__content pre {margin: 0.2em;color: black;border-radius: 0.25em;background-color: #f0f8ff;}#sk-container-id-2 input.sk-toggleable__control:checked~div.sk-toggleable__content {max-height: 200px;max-width: 100%;overflow: auto;}#sk-container-id-2 input.sk-toggleable__control:checked~label.sk-toggleable__label-arrow:before {content: \"▾\";}#sk-container-id-2 div.sk-estimator input.sk-toggleable__control:checked~label.sk-toggleable__label {background-color: #d4ebff;}#sk-container-id-2 div.sk-label input.sk-toggleable__control:checked~label.sk-toggleable__label {background-color: #d4ebff;}#sk-container-id-2 input.sk-hidden--visually {border: 0;clip: rect(1px 1px 1px 1px);clip: rect(1px, 1px, 1px, 1px);height: 1px;margin: -1px;overflow: hidden;padding: 0;position: absolute;width: 1px;}#sk-container-id-2 div.sk-estimator {font-family: monospace;background-color: #f0f8ff;border: 1px dotted black;border-radius: 0.25em;box-sizing: border-box;margin-bottom: 0.5em;}#sk-container-id-2 div.sk-estimator:hover {background-color: #d4ebff;}#sk-container-id-2 div.sk-parallel-item::after {content: \"\";width: 100%;border-bottom: 1px solid gray;flex-grow: 1;}#sk-container-id-2 div.sk-label:hover label.sk-toggleable__label {background-color: #d4ebff;}#sk-container-id-2 div.sk-serial::before {content: \"\";position: absolute;border-left: 1px solid gray;box-sizing: border-box;top: 0;bottom: 0;left: 50%;z-index: 0;}#sk-container-id-2 div.sk-serial {display: flex;flex-direction: column;align-items: center;background-color: white;padding-right: 0.2em;padding-left: 0.2em;position: relative;}#sk-container-id-2 div.sk-item {position: relative;z-index: 1;}#sk-container-id-2 div.sk-parallel {display: flex;align-items: stretch;justify-content: center;background-color: white;position: relative;}#sk-container-id-2 div.sk-item::before, #sk-container-id-2 div.sk-parallel-item::before {content: \"\";position: absolute;border-left: 1px solid gray;box-sizing: border-box;top: 0;bottom: 0;left: 50%;z-index: -1;}#sk-container-id-2 div.sk-parallel-item {display: flex;flex-direction: column;z-index: 1;position: relative;background-color: white;}#sk-container-id-2 div.sk-parallel-item:first-child::after {align-self: flex-end;width: 50%;}#sk-container-id-2 div.sk-parallel-item:last-child::after {align-self: flex-start;width: 50%;}#sk-container-id-2 div.sk-parallel-item:only-child::after {width: 0;}#sk-container-id-2 div.sk-dashed-wrapped {border: 1px dashed gray;margin: 0 0.4em 0.5em 0.4em;box-sizing: border-box;padding-bottom: 0.4em;background-color: white;}#sk-container-id-2 div.sk-label label {font-family: monospace;font-weight: bold;display: inline-block;line-height: 1.2em;}#sk-container-id-2 div.sk-label-container {text-align: center;}#sk-container-id-2 div.sk-container {/* jupyter's `normalize.less` sets `[hidden] { display: none; }` but bootstrap.min.css set `[hidden] { display: none !important; }` so we also need the `!important` here to be able to override the default hidden behavior on the sphinx rendered scikit-learn.org. See: https://github.com/scikit-learn/scikit-learn/issues/21755 */display: inline-block !important;position: relative;}#sk-container-id-2 div.sk-text-repr-fallback {display: none;}</style><div id=\"sk-container-id-2\" class=\"sk-top-container\"><div class=\"sk-text-repr-fallback\"><pre>LinearRegression()</pre><b>In a Jupyter environment, please rerun this cell to show the HTML representation or trust the notebook. <br />On GitHub, the HTML representation is unable to render, please try loading this page with nbviewer.org.</b></div><div class=\"sk-container\" hidden><div class=\"sk-item\"><div class=\"sk-estimator sk-toggleable\"><input class=\"sk-toggleable__control sk-hidden--visually\" id=\"sk-estimator-id-2\" type=\"checkbox\" checked><label for=\"sk-estimator-id-2\" class=\"sk-toggleable__label sk-toggleable__label-arrow\">LinearRegression</label><div class=\"sk-toggleable__content\"><pre>LinearRegression()</pre></div></div></div></div></div>"
      ],
      "text/plain": [
       "LinearRegression()"
      ]
     },
     "execution_count": 90,
     "metadata": {},
     "output_type": "execute_result"
    }
   ],
   "source": [
    "# train the model using the training sets\n",
    "reg.fit(X_train, y_train)"
   ]
  },
  {
   "cell_type": "code",
   "execution_count": 91,
   "id": "310ca059",
   "metadata": {},
   "outputs": [],
   "source": [
    "#regressor predict\n",
    "y_pred = reg.predict(X_test)"
   ]
  },
  {
   "cell_type": "code",
   "execution_count": 95,
   "id": "7ca9eb8c",
   "metadata": {},
   "outputs": [
    {
     "data": {
      "text/plain": [
       "0.31"
      ]
     },
     "execution_count": 95,
     "metadata": {},
     "output_type": "execute_result"
    }
   ],
   "source": [
    "#prediction on test set\n",
    "y_test_pred= reg.predict(X_test)\n",
    "r2_score(y_test, y_test_pred).round(2)"
   ]
  },
  {
   "cell_type": "code",
   "execution_count": 96,
   "id": "64ee0b41",
   "metadata": {},
   "outputs": [
    {
     "data": {
      "text/plain": [
       "<matplotlib.collections.PathCollection at 0x2d389df57f0>"
      ]
     },
     "execution_count": 96,
     "metadata": {},
     "output_type": "execute_result"
    },
    {
     "data": {
      "image/png": "[encoded data removed]",
      "text/plain": [
       "<Figure size 640x480 with 1 Axes>"
      ]
     },
     "metadata": {},
     "output_type": "display_data"
    }
   ],
   "source": [
    "# Actual v predictions scatter\n",
    "plt.scatter(y_test,y_test_pred)"
   ]
  },
  {
   "cell_type": "code",
   "execution_count": 97,
   "id": "a9099cd7",
   "metadata": {},
   "outputs": [
    {
     "data": {
      "text/plain": [
       "<AxesSubplot: xlabel='median_house_value', ylabel='Density'>"
      ]
     },
     "execution_count": 97,
     "metadata": {},
     "output_type": "execute_result"
    },
    {
     "data": {
      "image/png": "[encoded data removed]",
      "text/plain": [
       "<Figure size 640x480 with 1 Axes>"
      ]
     },
     "metadata": {},
     "output_type": "display_data"
    }
   ],
   "source": [
    "# Histogram of the distribution of residuals\n",
    "sb.distplot((y_test - y_test_pred))"
   ]
  },
  {
   "cell_type": "code",
   "execution_count": 99,
   "id": "e3a6c2fb",
   "metadata": {},
   "outputs": [
    {
     "data": {
      "text/html": [
       "<div>\n",
       "<style scoped>\n",
       "    .dataframe tbody tr th:only-of-type {\n",
       "        vertical-align: middle;\n",
       "    }\n",
       "\n",
       "    .dataframe tbody tr th {\n",
       "        vertical-align: top;\n",
       "    }\n",
       "\n",
       "    .dataframe thead th {\n",
       "        text-align: right;\n",
       "    }\n",
       "</style>\n",
       "<table border=\"1\" class=\"dataframe\">\n",
       "  <thead>\n",
       "    <tr style=\"text-align: right;\">\n",
       "      <th></th>\n",
       "      <th>Coefficients</th>\n",
       "    </tr>\n",
       "  </thead>\n",
       "  <tbody>\n",
       "    <tr>\n",
       "      <th>median_income</th>\n",
       "      <td>43467.457203</td>\n",
       "    </tr>\n",
       "  </tbody>\n",
       "</table>\n",
       "</div>"
      ],
      "text/plain": [
       "               Coefficients\n",
       "median_income  43467.457203"
      ]
     },
     "execution_count": 99,
     "metadata": {},
     "output_type": "execute_result"
    }
   ],
   "source": [
    "#coefficients \n",
    "cdf = pd.DataFrame(data = reg.coef_, index = X_train.columns, columns = ['Coefficients'])\n",
    "cdf"
   ]
  },
  {
   "cell_type": "code",
   "execution_count": 100,
   "id": "3054a0b7",
   "metadata": {},
   "outputs": [
    {
     "name": "stdout",
     "output_type": "stream",
     "text": [
      "The mean square error of sale and predicted value is:  9375657770.34632\n"
     ]
    }
   ],
   "source": [
    "#The RMSE \n",
    "mse = mean_squared_error(y_test,y_test_pred)\n",
    "print('The mean square error of sale and predicted value is: ', mse)"
   ]
  },
  {
   "cell_type": "markdown",
   "id": "3c31198d",
   "metadata": {},
   "source": [
    "**Conclusion**\n",
    "\n",
    "The model is not very good as it can explain only 31% of the change in the dependent variable. The fit is not achieved properly. The variables are not enough and maybe another methodology needs to be used to develop this model.\n",
    "\n",
    "For a unit increase in:\n",
    "Median income the price of the house increases by around 43,500 dollars."
   ]
  },
  {
   "cell_type": "markdown",
   "id": "21df7f7b",
   "metadata": {},
   "source": [
    "**Third Model: Decision Tree regression**\n",
    "\n",
    "The third  model will be of Decision Tree regression with all variables. "
   ]
  },
  {
   "cell_type": "code",
   "execution_count": 101,
   "id": "33df960e",
   "metadata": {},
   "outputs": [],
   "source": [
    "#setting values of x and y\n",
    "X= X\n",
    "y= y "
   ]
  },
  {
   "cell_type": "code",
   "execution_count": 102,
   "id": "a07d42d6",
   "metadata": {},
   "outputs": [],
   "source": [
    "# Train, test, split\n",
    "\n",
    "X_train, X_test, y_train, y_test = train_test_split(X,y, test_size = .30, random_state= 10)"
   ]
  },
  {
   "cell_type": "code",
   "execution_count": 103,
   "id": "9ae5ccaa",
   "metadata": {},
   "outputs": [],
   "source": [
    "# create a regressor object\n",
    "dtreg = DecisionTreeRegressor(random_state = 0) \n",
    "  "
   ]
  },
  {
   "cell_type": "code",
   "execution_count": 104,
   "id": "fe3ceb21",
   "metadata": {},
   "outputs": [
    {
     "data": {
      "text/html": [
       "<style>#sk-container-id-3 {color: black;background-color: white;}#sk-container-id-3 pre{padding: 0;}#sk-container-id-3 div.sk-toggleable {background-color: white;}#sk-container-id-3 label.sk-toggleable__label {cursor: pointer;display: block;width: 100%;margin-bottom: 0;padding: 0.3em;box-sizing: border-box;text-align: center;}#sk-container-id-3 label.sk-toggleable__label-arrow:before {content: \"▸\";float: left;margin-right: 0.25em;color: #696969;}#sk-container-id-3 label.sk-toggleable__label-arrow:hover:before {color: black;}#sk-container-id-3 div.sk-estimator:hover label.sk-toggleable__label-arrow:before {color: black;}#sk-container-id-3 div.sk-toggleable__content {max-height: 0;max-width: 0;overflow: hidden;text-align: left;background-color: #f0f8ff;}#sk-container-id-3 div.sk-toggleable__content pre {margin: 0.2em;color: black;border-radius: 0.25em;background-color: #f0f8ff;}#sk-container-id-3 input.sk-toggleable__control:checked~div.sk-toggleable__content {max-height: 200px;max-width: 100%;overflow: auto;}#sk-container-id-3 input.sk-toggleable__control:checked~label.sk-toggleable__label-arrow:before {content: \"▾\";}#sk-container-id-3 div.sk-estimator input.sk-toggleable__control:checked~label.sk-toggleable__label {background-color: #d4ebff;}#sk-container-id-3 div.sk-label input.sk-toggleable__control:checked~label.sk-toggleable__label {background-color: #d4ebff;}#sk-container-id-3 input.sk-hidden--visually {border: 0;clip: rect(1px 1px 1px 1px);clip: rect(1px, 1px, 1px, 1px);height: 1px;margin: -1px;overflow: hidden;padding: 0;position: absolute;width: 1px;}#sk-container-id-3 div.sk-estimator {font-family: monospace;background-color: #f0f8ff;border: 1px dotted black;border-radius: 0.25em;box-sizing: border-box;margin-bottom: 0.5em;}#sk-container-id-3 div.sk-estimator:hover {background-color: #d4ebff;}#sk-container-id-3 div.sk-parallel-item::after {content: \"\";width: 100%;border-bottom: 1px solid gray;flex-grow: 1;}#sk-container-id-3 div.sk-label:hover label.sk-toggleable__label {background-color: #d4ebff;}#sk-container-id-3 div.sk-serial::before {content: \"\";position: absolute;border-left: 1px solid gray;box-sizing: border-box;top: 0;bottom: 0;left: 50%;z-index: 0;}#sk-container-id-3 div.sk-serial {display: flex;flex-direction: column;align-items: center;background-color: white;padding-right: 0.2em;padding-left: 0.2em;position: relative;}#sk-container-id-3 div.sk-item {position: relative;z-index: 1;}#sk-container-id-3 div.sk-parallel {display: flex;align-items: stretch;justify-content: center;background-color: white;position: relative;}#sk-container-id-3 div.sk-item::before, #sk-container-id-3 div.sk-parallel-item::before {content: \"\";position: absolute;border-left: 1px solid gray;box-sizing: border-box;top: 0;bottom: 0;left: 50%;z-index: -1;}#sk-container-id-3 div.sk-parallel-item {display: flex;flex-direction: column;z-index: 1;position: relative;background-color: white;}#sk-container-id-3 div.sk-parallel-item:first-child::after {align-self: flex-end;width: 50%;}#sk-container-id-3 div.sk-parallel-item:last-child::after {align-self: flex-start;width: 50%;}#sk-container-id-3 div.sk-parallel-item:only-child::after {width: 0;}#sk-container-id-3 div.sk-dashed-wrapped {border: 1px dashed gray;margin: 0 0.4em 0.5em 0.4em;box-sizing: border-box;padding-bottom: 0.4em;background-color: white;}#sk-container-id-3 div.sk-label label {font-family: monospace;font-weight: bold;display: inline-block;line-height: 1.2em;}#sk-container-id-3 div.sk-label-container {text-align: center;}#sk-container-id-3 div.sk-container {/* jupyter's `normalize.less` sets `[hidden] { display: none; }` but bootstrap.min.css set `[hidden] { display: none !important; }` so we also need the `!important` here to be able to override the default hidden behavior on the sphinx rendered scikit-learn.org. See: https://github.com/scikit-learn/scikit-learn/issues/21755 */display: inline-block !important;position: relative;}#sk-container-id-3 div.sk-text-repr-fallback {display: none;}</style><div id=\"sk-container-id-3\" class=\"sk-top-container\"><div class=\"sk-text-repr-fallback\"><pre>DecisionTreeRegressor(random_state=0)</pre><b>In a Jupyter environment, please rerun this cell to show the HTML representation or trust the notebook. <br />On GitHub, the HTML representation is unable to render, please try loading this page with nbviewer.org.</b></div><div class=\"sk-container\" hidden><div class=\"sk-item\"><div class=\"sk-estimator sk-toggleable\"><input class=\"sk-toggleable__control sk-hidden--visually\" id=\"sk-estimator-id-3\" type=\"checkbox\" checked><label for=\"sk-estimator-id-3\" class=\"sk-toggleable__label sk-toggleable__label-arrow\">DecisionTreeRegressor</label><div class=\"sk-toggleable__content\"><pre>DecisionTreeRegressor(random_state=0)</pre></div></div></div></div></div>"
      ],
      "text/plain": [
       "DecisionTreeRegressor(random_state=0)"
      ]
     },
     "execution_count": 104,
     "metadata": {},
     "output_type": "execute_result"
    }
   ],
   "source": [
    "# fit the regressor with X and Y data\n",
    "dtreg.fit(X_train, y_train)"
   ]
  },
  {
   "cell_type": "code",
   "execution_count": 105,
   "id": "38e9afec",
   "metadata": {},
   "outputs": [],
   "source": [
    "#regressor predict\n",
    "y_pred = dtreg.predict(X_test)"
   ]
  },
  {
   "cell_type": "code",
   "execution_count": 106,
   "id": "9c3ba592",
   "metadata": {},
   "outputs": [
    {
     "data": {
      "text/plain": [
       "0.15"
      ]
     },
     "execution_count": 106,
     "metadata": {},
     "output_type": "execute_result"
    }
   ],
   "source": [
    "#prediction on test set\n",
    "y_test_pred= dtreg.predict(X_test)\n",
    "r2_score(y_test, y_test_pred).round(2)"
   ]
  },
  {
   "cell_type": "code",
   "execution_count": 107,
   "id": "d3467b49",
   "metadata": {},
   "outputs": [
    {
     "data": {
      "text/plain": [
       "<matplotlib.collections.PathCollection at 0x2d389d852b0>"
      ]
     },
     "execution_count": 107,
     "metadata": {},
     "output_type": "execute_result"
    },
    {
     "data": {
      "image/png": "[encoded data removed]",
      "text/plain": [
       "<Figure size 640x480 with 1 Axes>"
      ]
     },
     "metadata": {},
     "output_type": "display_data"
    }
   ],
   "source": [
    "# Actual v predictions scatter\n",
    "plt.scatter(y_test,y_test_pred)"
   ]
  },
  {
   "cell_type": "code",
   "execution_count": 108,
   "id": "a47774d0",
   "metadata": {},
   "outputs": [
    {
     "data": {
      "text/plain": [
       "<AxesSubplot: xlabel='median_house_value', ylabel='Density'>"
      ]
     },
     "execution_count": 108,
     "metadata": {},
     "output_type": "execute_result"
    },
    {
     "data": {
      "image/png": "[encoded data removed]",
      "text/plain": [
       "<Figure size 640x480 with 1 Axes>"
      ]
     },
     "metadata": {},
     "output_type": "display_data"
    }
   ],
   "source": [
    "# Histogram of the distribution of residuals\n",
    "sb.distplot((y_test - y_test_pred))"
   ]
  },
  {
   "cell_type": "markdown",
   "id": "a1473491",
   "metadata": {},
   "source": [
    "**Conclusion**\n",
    "\n",
    "\n",
    "This model performs very poorly and is able to explain only 15% of the changes taking place in the dependent variable. \n"
   ]
  },
  {
   "cell_type": "markdown",
   "id": "68c86b8a",
   "metadata": {},
   "source": [
    "**Fourth Model: Random Forest Regression**\n",
    "\n",
    "The Fourth model will be of Random Forest Regression with all variables."
   ]
  },
  {
   "cell_type": "code",
   "execution_count": 112,
   "id": "83c3cb96",
   "metadata": {},
   "outputs": [],
   "source": [
    "#setting up random forest regressor\n",
    "rfreg = RandomForestRegressor(n_estimators = 100, random_state = 0)\n",
    " "
   ]
  },
  {
   "cell_type": "code",
   "execution_count": 113,
   "id": "3699a881",
   "metadata": {},
   "outputs": [
    {
     "data": {
      "text/html": [
       "<style>#sk-container-id-4 {color: black;background-color: white;}#sk-container-id-4 pre{padding: 0;}#sk-container-id-4 div.sk-toggleable {background-color: white;}#sk-container-id-4 label.sk-toggleable__label {cursor: pointer;display: block;width: 100%;margin-bottom: 0;padding: 0.3em;box-sizing: border-box;text-align: center;}#sk-container-id-4 label.sk-toggleable__label-arrow:before {content: \"▸\";float: left;margin-right: 0.25em;color: #696969;}#sk-container-id-4 label.sk-toggleable__label-arrow:hover:before {color: black;}#sk-container-id-4 div.sk-estimator:hover label.sk-toggleable__label-arrow:before {color: black;}#sk-container-id-4 div.sk-toggleable__content {max-height: 0;max-width: 0;overflow: hidden;text-align: left;background-color: #f0f8ff;}#sk-container-id-4 div.sk-toggleable__content pre {margin: 0.2em;color: black;border-radius: 0.25em;background-color: #f0f8ff;}#sk-container-id-4 input.sk-toggleable__control:checked~div.sk-toggleable__content {max-height: 200px;max-width: 100%;overflow: auto;}#sk-container-id-4 input.sk-toggleable__control:checked~label.sk-toggleable__label-arrow:before {content: \"▾\";}#sk-container-id-4 div.sk-estimator input.sk-toggleable__control:checked~label.sk-toggleable__label {background-color: #d4ebff;}#sk-container-id-4 div.sk-label input.sk-toggleable__control:checked~label.sk-toggleable__label {background-color: #d4ebff;}#sk-container-id-4 input.sk-hidden--visually {border: 0;clip: rect(1px 1px 1px 1px);clip: rect(1px, 1px, 1px, 1px);height: 1px;margin: -1px;overflow: hidden;padding: 0;position: absolute;width: 1px;}#sk-container-id-4 div.sk-estimator {font-family: monospace;background-color: #f0f8ff;border: 1px dotted black;border-radius: 0.25em;box-sizing: border-box;margin-bottom: 0.5em;}#sk-container-id-4 div.sk-estimator:hover {background-color: #d4ebff;}#sk-container-id-4 div.sk-parallel-item::after {content: \"\";width: 100%;border-bottom: 1px solid gray;flex-grow: 1;}#sk-container-id-4 div.sk-label:hover label.sk-toggleable__label {background-color: #d4ebff;}#sk-container-id-4 div.sk-serial::before {content: \"\";position: absolute;border-left: 1px solid gray;box-sizing: border-box;top: 0;bottom: 0;left: 50%;z-index: 0;}#sk-container-id-4 div.sk-serial {display: flex;flex-direction: column;align-items: center;background-color: white;padding-right: 0.2em;padding-left: 0.2em;position: relative;}#sk-container-id-4 div.sk-item {position: relative;z-index: 1;}#sk-container-id-4 div.sk-parallel {display: flex;align-items: stretch;justify-content: center;background-color: white;position: relative;}#sk-container-id-4 div.sk-item::before, #sk-container-id-4 div.sk-parallel-item::before {content: \"\";position: absolute;border-left: 1px solid gray;box-sizing: border-box;top: 0;bottom: 0;left: 50%;z-index: -1;}#sk-container-id-4 div.sk-parallel-item {display: flex;flex-direction: column;z-index: 1;position: relative;background-color: white;}#sk-container-id-4 div.sk-parallel-item:first-child::after {align-self: flex-end;width: 50%;}#sk-container-id-4 div.sk-parallel-item:last-child::after {align-self: flex-start;width: 50%;}#sk-container-id-4 div.sk-parallel-item:only-child::after {width: 0;}#sk-container-id-4 div.sk-dashed-wrapped {border: 1px dashed gray;margin: 0 0.4em 0.5em 0.4em;box-sizing: border-box;padding-bottom: 0.4em;background-color: white;}#sk-container-id-4 div.sk-label label {font-family: monospace;font-weight: bold;display: inline-block;line-height: 1.2em;}#sk-container-id-4 div.sk-label-container {text-align: center;}#sk-container-id-4 div.sk-container {/* jupyter's `normalize.less` sets `[hidden] { display: none; }` but bootstrap.min.css set `[hidden] { display: none !important; }` so we also need the `!important` here to be able to override the default hidden behavior on the sphinx rendered scikit-learn.org. See: https://github.com/scikit-learn/scikit-learn/issues/21755 */display: inline-block !important;position: relative;}#sk-container-id-4 div.sk-text-repr-fallback {display: none;}</style><div id=\"sk-container-id-4\" class=\"sk-top-container\"><div class=\"sk-text-repr-fallback\"><pre>RandomForestRegressor(random_state=0)</pre><b>In a Jupyter environment, please rerun this cell to show the HTML representation or trust the notebook. <br />On GitHub, the HTML representation is unable to render, please try loading this page with nbviewer.org.</b></div><div class=\"sk-container\" hidden><div class=\"sk-item\"><div class=\"sk-estimator sk-toggleable\"><input class=\"sk-toggleable__control sk-hidden--visually\" id=\"sk-estimator-id-4\" type=\"checkbox\" checked><label for=\"sk-estimator-id-4\" class=\"sk-toggleable__label sk-toggleable__label-arrow\">RandomForestRegressor</label><div class=\"sk-toggleable__content\"><pre>RandomForestRegressor(random_state=0)</pre></div></div></div></div></div>"
      ],
      "text/plain": [
       "RandomForestRegressor(random_state=0)"
      ]
     },
     "execution_count": 113,
     "metadata": {},
     "output_type": "execute_result"
    }
   ],
   "source": [
    "# fit the regressor with x and y data\n",
    "rfreg.fit(X_train, y_train) "
   ]
  },
  {
   "cell_type": "code",
   "execution_count": 114,
   "id": "7e70fe79",
   "metadata": {},
   "outputs": [],
   "source": [
    "#regressor predict\n",
    "y_pred = rfreg.predict(X_test)"
   ]
  },
  {
   "cell_type": "code",
   "execution_count": 115,
   "id": "2b3d4b25",
   "metadata": {},
   "outputs": [
    {
     "data": {
      "text/plain": [
       "0.32"
      ]
     },
     "execution_count": 115,
     "metadata": {},
     "output_type": "execute_result"
    }
   ],
   "source": [
    "#prediction on test set\n",
    "y_test_pred= rfreg.predict(X_test)\n",
    "r2_score(y_test, y_test_pred).round(2)"
   ]
  },
  {
   "cell_type": "code",
   "execution_count": 116,
   "id": "d56133be",
   "metadata": {},
   "outputs": [
    {
     "data": {
      "text/plain": [
       "<matplotlib.collections.PathCollection at 0x2d3891de370>"
      ]
     },
     "execution_count": 116,
     "metadata": {},
     "output_type": "execute_result"
    },
    {
     "data": {
      "image/png": "[encoded data removed]",
      "text/plain": [
       "<Figure size 640x480 with 1 Axes>"
      ]
     },
     "metadata": {},
     "output_type": "display_data"
    }
   ],
   "source": [
    "# Actual v predictions scatter\n",
    "plt.scatter(y_test,y_test_pred)"
   ]
  },
  {
   "cell_type": "code",
   "execution_count": 117,
   "id": "4895964c",
   "metadata": {},
   "outputs": [
    {
     "data": {
      "text/plain": [
       "<AxesSubplot: xlabel='median_house_value', ylabel='Density'>"
      ]
     },
     "execution_count": 117,
     "metadata": {},
     "output_type": "execute_result"
    },
    {
     "data": {
      "image/png": "[encoded data removed]",
      "text/plain": [
       "<Figure size 640x480 with 1 Axes>"
      ]
     },
     "metadata": {},
     "output_type": "display_data"
    }
   ],
   "source": [
    "# Histogram of the distribution of residuals\n",
    "sb.distplot((y_test - y_test_pred))"
   ]
  },
  {
   "cell_type": "markdown",
   "id": "2ec0e062",
   "metadata": {},
   "source": [
    "## **Conclusion**\n",
    "\n",
    "This model performs very poorly and is able to explain only 32% of the changes taking place in the dependent variable. But however this is almost 2 times better than a single decision tree. \n"
   ]
  },
  {
   "cell_type": "code",
   "execution_count": null,
   "id": "e98af3b0",
   "metadata": {},
   "outputs": [],
   "source": []
  }
 ],
 "metadata": {
  "kernelspec": {
   "display_name": "Python 3 (ipykernel)",
   "language": "python",
   "name": "python3"
  },
  "language_info": {
   "codemirror_mode": {
    "name": "ipython",
    "version": 3
   },
   "file_extension": ".py",
   "mimetype": "text/x-python",
   "name": "python",
   "nbconvert_exporter": "python",
   "pygments_lexer": "ipython3",
   "version": "3.9.12"
  }
 },
 "nbformat": 4,
 "nbformat_minor": 5
}
