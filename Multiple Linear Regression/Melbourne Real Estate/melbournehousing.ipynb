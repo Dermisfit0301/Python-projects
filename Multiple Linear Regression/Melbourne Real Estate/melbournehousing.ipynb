{
 "cells": [
  {
   "cell_type": "code",
   "execution_count": 1,
   "id": "e74822c9",
   "metadata": {
    "_cell_guid": "b1076dfc-b9ad-4769-8c92-a6c4dae69d19",
    "_uuid": "8f2839f25d086af736a60e9eeb907d3b93b6e0e5",
    "execution": {
     "iopub.execute_input": "2022-09-18T06:57:53.605186Z",
     "iopub.status.busy": "2022-09-18T06:57:53.604362Z",
     "iopub.status.idle": "2022-09-18T06:57:53.632942Z",
     "shell.execute_reply": "2022-09-18T06:57:53.631399Z"
    },
    "papermill": {
     "duration": 0.057466,
     "end_time": "2022-09-18T06:57:53.640964",
     "exception": false,
     "start_time": "2022-09-18T06:57:53.583498",
     "status": "completed"
    },
    "tags": []
   },
   "outputs": [
    {
     "name": "stdout",
     "output_type": "stream",
     "text": [
      "/kaggle/input/melbourne-housing-data/MELBOURNE_HOUSE_PRICES_LESS.csv\n",
      "/kaggle/input/melbourne-housing-market/Melbourne_housing_FULL.csv\n",
      "/kaggle/input/melbourne-housing-market/MELBOURNE_HOUSE_PRICES_LESS.csv\n"
     ]
    }
   ],
   "source": [
    "# This Python 3 environment comes with many helpful analytics libraries installed\n",
    "# It is defined by the kaggle/python Docker image: https://github.com/kaggle/docker-python\n",
    "# For example, here's several helpful packages to load\n",
    "\n",
    "import numpy as np # linear algebra\n",
    "import pandas as pd # data processing, CSV file I/O (e.g. pd.read_csv)\n",
    "\n",
    "# Input data files are available in the read-only \"../input/\" directory\n",
    "# For example, running this (by clicking run or pressing Shift+Enter) will list all files under the input directory\n",
    "\n",
    "import os\n",
    "for dirname, _, filenames in os.walk('/kaggle/input'):\n",
    "    for filename in filenames:\n",
    "        print(os.path.join(dirname, filename))\n",
    "\n",
    "# You can write up to 20GB to the current directory (/kaggle/working/) that gets preserved as output when you create a version using \"Save & Run All\" \n",
    "# You can also write temporary files to /kaggle/temp/, but they won't be saved outside of the current session"
   ]
  },
  {
   "cell_type": "markdown",
   "id": "f50b5163",
   "metadata": {
    "papermill": {
     "duration": 0.017607,
     "end_time": "2022-09-18T06:57:53.675794",
     "exception": false,
     "start_time": "2022-09-18T06:57:53.658187",
     "status": "completed"
    },
    "tags": []
   },
   "source": [
    "**Melbourne dataset**\n",
    "\n",
    "This dataset is of 2016 and has prices of real estate property listed.It has been taken from Australian websites. It can be used to find and predict the price of a house based on features."
   ]
  },
  {
   "cell_type": "markdown",
   "id": "29ca3460",
   "metadata": {
    "papermill": {
     "duration": 0.015094,
     "end_time": "2022-09-18T06:57:53.709098",
     "exception": false,
     "start_time": "2022-09-18T06:57:53.694004",
     "status": "completed"
    },
    "tags": []
   },
   "source": [
    "**Importing necessary packages**\n",
    "\n",
    "We will be importing packages that are necessary for data visualization, analysis and regression."
   ]
  },
  {
   "cell_type": "code",
   "execution_count": 2,
   "id": "3fcfd1ce",
   "metadata": {
    "execution": {
     "iopub.execute_input": "2022-09-18T06:57:53.741496Z",
     "iopub.status.busy": "2022-09-18T06:57:53.741013Z",
     "iopub.status.idle": "2022-09-18T06:57:54.987152Z",
     "shell.execute_reply": "2022-09-18T06:57:54.985532Z"
    },
    "papermill": {
     "duration": 1.266048,
     "end_time": "2022-09-18T06:57:54.990405",
     "exception": false,
     "start_time": "2022-09-18T06:57:53.724357",
     "status": "completed"
    },
    "tags": []
   },
   "outputs": [],
   "source": [
    "\n",
    "import numpy as np\n",
    "import pandas as pd\n",
    "\n",
    "import seaborn as sns\n",
    "import matplotlib.pyplot as plt\n",
    "\n",
    "from scipy import stats"
   ]
  },
  {
   "cell_type": "code",
   "execution_count": 3,
   "id": "e51e5691",
   "metadata": {
    "execution": {
     "iopub.execute_input": "2022-09-18T06:57:55.022982Z",
     "iopub.status.busy": "2022-09-18T06:57:55.022495Z",
     "iopub.status.idle": "2022-09-18T06:57:55.028533Z",
     "shell.execute_reply": "2022-09-18T06:57:55.027353Z"
    },
    "papermill": {
     "duration": 0.025276,
     "end_time": "2022-09-18T06:57:55.031153",
     "exception": false,
     "start_time": "2022-09-18T06:57:55.005877",
     "status": "completed"
    },
    "tags": []
   },
   "outputs": [],
   "source": [
    "import math\n",
    "import numpy as np\n",
    "from scipy.stats import lognorm\n",
    "import matplotlib.pyplot as plt"
   ]
  },
  {
   "cell_type": "code",
   "execution_count": 4,
   "id": "9eab8136",
   "metadata": {
    "execution": {
     "iopub.execute_input": "2022-09-18T06:57:55.063694Z",
     "iopub.status.busy": "2022-09-18T06:57:55.063184Z",
     "iopub.status.idle": "2022-09-18T06:57:55.068936Z",
     "shell.execute_reply": "2022-09-18T06:57:55.067647Z"
    },
    "papermill": {
     "duration": 0.025329,
     "end_time": "2022-09-18T06:57:55.071546",
     "exception": false,
     "start_time": "2022-09-18T06:57:55.046217",
     "status": "completed"
    },
    "tags": []
   },
   "outputs": [],
   "source": [
    "import matplotlib\n",
    "import matplotlib.pyplot as plt"
   ]
  },
  {
   "cell_type": "markdown",
   "id": "1c63c8b1",
   "metadata": {
    "papermill": {
     "duration": 0.014753,
     "end_time": "2022-09-18T06:57:55.101543",
     "exception": false,
     "start_time": "2022-09-18T06:57:55.086790",
     "status": "completed"
    },
    "tags": []
   },
   "source": [
    "**Loading the csv file**\n",
    "\n",
    "We will load the Melbourne housing dataset in the program which is in the form of CSV.\n"
   ]
  },
  {
   "cell_type": "code",
   "execution_count": 5,
   "id": "4be489ea",
   "metadata": {
    "execution": {
     "iopub.execute_input": "2022-09-18T06:57:55.133999Z",
     "iopub.status.busy": "2022-09-18T06:57:55.133536Z",
     "iopub.status.idle": "2022-09-18T06:57:55.381400Z",
     "shell.execute_reply": "2022-09-18T06:57:55.379988Z"
    },
    "papermill": {
     "duration": 0.268077,
     "end_time": "2022-09-18T06:57:55.384741",
     "exception": false,
     "start_time": "2022-09-18T06:57:55.116664",
     "status": "completed"
    },
    "tags": []
   },
   "outputs": [],
   "source": [
    "housing = pd.read_csv('../input/melbourne-housing-market/Melbourne_housing_FULL.csv')"
   ]
  },
  {
   "cell_type": "markdown",
   "id": "6aed0a48",
   "metadata": {
    "papermill": {
     "duration": 0.014669,
     "end_time": "2022-09-18T06:57:55.414916",
     "exception": false,
     "start_time": "2022-09-18T06:57:55.400247",
     "status": "completed"
    },
    "tags": []
   },
   "source": [
    "**Glimpsing the data**\n",
    "Let us have a look and see what the datset has.\n",
    "We will see what are the type of variables there. \n",
    "We will get an idea by sering the first three rows."
   ]
  },
  {
   "cell_type": "code",
   "execution_count": 6,
   "id": "d2a26de1",
   "metadata": {
    "execution": {
     "iopub.execute_input": "2022-09-18T06:57:55.446974Z",
     "iopub.status.busy": "2022-09-18T06:57:55.446498Z",
     "iopub.status.idle": "2022-09-18T06:57:55.490813Z",
     "shell.execute_reply": "2022-09-18T06:57:55.489814Z"
    },
    "papermill": {
     "duration": 0.06364,
     "end_time": "2022-09-18T06:57:55.493491",
     "exception": false,
     "start_time": "2022-09-18T06:57:55.429851",
     "status": "completed"
    },
    "tags": []
   },
   "outputs": [
    {
     "data": {
      "text/html": [
       "<div>\n",
       "<style scoped>\n",
       "    .dataframe tbody tr th:only-of-type {\n",
       "        vertical-align: middle;\n",
       "    }\n",
       "\n",
       "    .dataframe tbody tr th {\n",
       "        vertical-align: top;\n",
       "    }\n",
       "\n",
       "    .dataframe thead th {\n",
       "        text-align: right;\n",
       "    }\n",
       "</style>\n",
       "<table border=\"1\" class=\"dataframe\">\n",
       "  <thead>\n",
       "    <tr style=\"text-align: right;\">\n",
       "      <th></th>\n",
       "      <th>Suburb</th>\n",
       "      <th>Address</th>\n",
       "      <th>Rooms</th>\n",
       "      <th>Type</th>\n",
       "      <th>Price</th>\n",
       "      <th>Method</th>\n",
       "      <th>SellerG</th>\n",
       "      <th>Date</th>\n",
       "      <th>Distance</th>\n",
       "      <th>Postcode</th>\n",
       "      <th>...</th>\n",
       "      <th>Bathroom</th>\n",
       "      <th>Car</th>\n",
       "      <th>Landsize</th>\n",
       "      <th>BuildingArea</th>\n",
       "      <th>YearBuilt</th>\n",
       "      <th>CouncilArea</th>\n",
       "      <th>Lattitude</th>\n",
       "      <th>Longtitude</th>\n",
       "      <th>Regionname</th>\n",
       "      <th>Propertycount</th>\n",
       "    </tr>\n",
       "  </thead>\n",
       "  <tbody>\n",
       "    <tr>\n",
       "      <th>0</th>\n",
       "      <td>Abbotsford</td>\n",
       "      <td>68 Studley St</td>\n",
       "      <td>2</td>\n",
       "      <td>h</td>\n",
       "      <td>NaN</td>\n",
       "      <td>SS</td>\n",
       "      <td>Jellis</td>\n",
       "      <td>3/09/2016</td>\n",
       "      <td>2.5</td>\n",
       "      <td>3067.0</td>\n",
       "      <td>...</td>\n",
       "      <td>1.0</td>\n",
       "      <td>1.0</td>\n",
       "      <td>126.0</td>\n",
       "      <td>NaN</td>\n",
       "      <td>NaN</td>\n",
       "      <td>Yarra City Council</td>\n",
       "      <td>-37.8014</td>\n",
       "      <td>144.9958</td>\n",
       "      <td>Northern Metropolitan</td>\n",
       "      <td>4019.0</td>\n",
       "    </tr>\n",
       "    <tr>\n",
       "      <th>1</th>\n",
       "      <td>Abbotsford</td>\n",
       "      <td>85 Turner St</td>\n",
       "      <td>2</td>\n",
       "      <td>h</td>\n",
       "      <td>1480000.0</td>\n",
       "      <td>S</td>\n",
       "      <td>Biggin</td>\n",
       "      <td>3/12/2016</td>\n",
       "      <td>2.5</td>\n",
       "      <td>3067.0</td>\n",
       "      <td>...</td>\n",
       "      <td>1.0</td>\n",
       "      <td>1.0</td>\n",
       "      <td>202.0</td>\n",
       "      <td>NaN</td>\n",
       "      <td>NaN</td>\n",
       "      <td>Yarra City Council</td>\n",
       "      <td>-37.7996</td>\n",
       "      <td>144.9984</td>\n",
       "      <td>Northern Metropolitan</td>\n",
       "      <td>4019.0</td>\n",
       "    </tr>\n",
       "    <tr>\n",
       "      <th>2</th>\n",
       "      <td>Abbotsford</td>\n",
       "      <td>25 Bloomburg St</td>\n",
       "      <td>2</td>\n",
       "      <td>h</td>\n",
       "      <td>1035000.0</td>\n",
       "      <td>S</td>\n",
       "      <td>Biggin</td>\n",
       "      <td>4/02/2016</td>\n",
       "      <td>2.5</td>\n",
       "      <td>3067.0</td>\n",
       "      <td>...</td>\n",
       "      <td>1.0</td>\n",
       "      <td>0.0</td>\n",
       "      <td>156.0</td>\n",
       "      <td>79.0</td>\n",
       "      <td>1900.0</td>\n",
       "      <td>Yarra City Council</td>\n",
       "      <td>-37.8079</td>\n",
       "      <td>144.9934</td>\n",
       "      <td>Northern Metropolitan</td>\n",
       "      <td>4019.0</td>\n",
       "    </tr>\n",
       "  </tbody>\n",
       "</table>\n",
       "<p>3 rows × 21 columns</p>\n",
       "</div>"
      ],
      "text/plain": [
       "       Suburb          Address  Rooms Type      Price Method SellerG  \\\n",
       "0  Abbotsford    68 Studley St      2    h        NaN     SS  Jellis   \n",
       "1  Abbotsford     85 Turner St      2    h  1480000.0      S  Biggin   \n",
       "2  Abbotsford  25 Bloomburg St      2    h  1035000.0      S  Biggin   \n",
       "\n",
       "        Date  Distance  Postcode  ...  Bathroom  Car  Landsize  BuildingArea  \\\n",
       "0  3/09/2016       2.5    3067.0  ...       1.0  1.0     126.0           NaN   \n",
       "1  3/12/2016       2.5    3067.0  ...       1.0  1.0     202.0           NaN   \n",
       "2  4/02/2016       2.5    3067.0  ...       1.0  0.0     156.0          79.0   \n",
       "\n",
       "   YearBuilt         CouncilArea Lattitude  Longtitude             Regionname  \\\n",
       "0        NaN  Yarra City Council  -37.8014    144.9958  Northern Metropolitan   \n",
       "1        NaN  Yarra City Council  -37.7996    144.9984  Northern Metropolitan   \n",
       "2     1900.0  Yarra City Council  -37.8079    144.9934  Northern Metropolitan   \n",
       "\n",
       "  Propertycount  \n",
       "0        4019.0  \n",
       "1        4019.0  \n",
       "2        4019.0  \n",
       "\n",
       "[3 rows x 21 columns]"
      ]
     },
     "execution_count": 6,
     "metadata": {},
     "output_type": "execute_result"
    }
   ],
   "source": [
    "housing.shape\n",
    "housing.head(3)"
   ]
  },
  {
   "cell_type": "markdown",
   "id": "775c6a1e",
   "metadata": {
    "papermill": {
     "duration": 0.015231,
     "end_time": "2022-09-18T06:57:55.524404",
     "exception": false,
     "start_time": "2022-09-18T06:57:55.509173",
     "status": "completed"
    },
    "tags": []
   },
   "source": [
    "**Checking data type**\n",
    "\n",
    "Examining the data types of the variables"
   ]
  },
  {
   "cell_type": "code",
   "execution_count": 7,
   "id": "d20201c8",
   "metadata": {
    "execution": {
     "iopub.execute_input": "2022-09-18T06:57:55.558982Z",
     "iopub.status.busy": "2022-09-18T06:57:55.558456Z",
     "iopub.status.idle": "2022-09-18T06:57:55.568500Z",
     "shell.execute_reply": "2022-09-18T06:57:55.567166Z"
    },
    "papermill": {
     "duration": 0.030188,
     "end_time": "2022-09-18T06:57:55.570950",
     "exception": false,
     "start_time": "2022-09-18T06:57:55.540762",
     "status": "completed"
    },
    "tags": []
   },
   "outputs": [
    {
     "data": {
      "text/plain": [
       "Suburb            object\n",
       "Address           object\n",
       "Rooms              int64\n",
       "Type              object\n",
       "Price            float64\n",
       "Method            object\n",
       "SellerG           object\n",
       "Date              object\n",
       "Distance         float64\n",
       "Postcode         float64\n",
       "Bedroom2         float64\n",
       "Bathroom         float64\n",
       "Car              float64\n",
       "Landsize         float64\n",
       "BuildingArea     float64\n",
       "YearBuilt        float64\n",
       "CouncilArea       object\n",
       "Lattitude        float64\n",
       "Longtitude       float64\n",
       "Regionname        object\n",
       "Propertycount    float64\n",
       "dtype: object"
      ]
     },
     "execution_count": 7,
     "metadata": {},
     "output_type": "execute_result"
    }
   ],
   "source": [
    "housing.dtypes"
   ]
  },
  {
   "cell_type": "markdown",
   "id": "50990b2e",
   "metadata": {
    "papermill": {
     "duration": 0.015616,
     "end_time": "2022-09-18T06:57:55.602887",
     "exception": false,
     "start_time": "2022-09-18T06:57:55.587271",
     "status": "completed"
    },
    "tags": []
   },
   "source": [
    "**Data cleaning**\n",
    "\n",
    "Here we will clean the data and we will make it fit for analysis.\n",
    "Here we will replace the question marks and blank cells with NAN which means not Not a Number and signals the Python that they have to replace this cell. \n",
    "We will drop the columns that are not necessary for analysis. \n",
    "For blank cells we will replace them with measures of central tendency. \n",
    "We will replace numerical with mean values and categorical with mode values.\n"
   ]
  },
  {
   "cell_type": "code",
   "execution_count": 8,
   "id": "03a46a25",
   "metadata": {
    "execution": {
     "iopub.execute_input": "2022-09-18T06:57:55.636983Z",
     "iopub.status.busy": "2022-09-18T06:57:55.636499Z",
     "iopub.status.idle": "2022-09-18T06:57:55.660021Z",
     "shell.execute_reply": "2022-09-18T06:57:55.659072Z"
    },
    "papermill": {
     "duration": 0.043547,
     "end_time": "2022-09-18T06:57:55.662299",
     "exception": false,
     "start_time": "2022-09-18T06:57:55.618752",
     "status": "completed"
    },
    "tags": []
   },
   "outputs": [
    {
     "data": {
      "text/plain": [
       "100975"
      ]
     },
     "execution_count": 8,
     "metadata": {},
     "output_type": "execute_result"
    }
   ],
   "source": [
    "#checking for missing values\n",
    "housing.isnull().sum().sum()"
   ]
  },
  {
   "cell_type": "code",
   "execution_count": 9,
   "id": "73e61a64",
   "metadata": {
    "execution": {
     "iopub.execute_input": "2022-09-18T06:57:55.695490Z",
     "iopub.status.busy": "2022-09-18T06:57:55.695007Z",
     "iopub.status.idle": "2022-09-18T06:57:55.743414Z",
     "shell.execute_reply": "2022-09-18T06:57:55.741892Z"
    },
    "papermill": {
     "duration": 0.068276,
     "end_time": "2022-09-18T06:57:55.746399",
     "exception": false,
     "start_time": "2022-09-18T06:57:55.678123",
     "status": "completed"
    },
    "tags": []
   },
   "outputs": [
    {
     "name": "stdout",
     "output_type": "stream",
     "text": [
      "<class 'pandas.core.frame.DataFrame'>\n",
      "RangeIndex: 34857 entries, 0 to 34856\n",
      "Data columns (total 21 columns):\n",
      " #   Column         Non-Null Count  Dtype  \n",
      "---  ------         --------------  -----  \n",
      " 0   Suburb         34857 non-null  object \n",
      " 1   Address        34857 non-null  object \n",
      " 2   Rooms          34857 non-null  int64  \n",
      " 3   Type           34857 non-null  object \n",
      " 4   Price          27247 non-null  float64\n",
      " 5   Method         34857 non-null  object \n",
      " 6   SellerG        34857 non-null  object \n",
      " 7   Date           34857 non-null  object \n",
      " 8   Distance       34856 non-null  float64\n",
      " 9   Postcode       34856 non-null  float64\n",
      " 10  Bedroom2       26640 non-null  float64\n",
      " 11  Bathroom       26631 non-null  float64\n",
      " 12  Car            26129 non-null  float64\n",
      " 13  Landsize       23047 non-null  float64\n",
      " 14  BuildingArea   13742 non-null  float64\n",
      " 15  YearBuilt      15551 non-null  float64\n",
      " 16  CouncilArea    34854 non-null  object \n",
      " 17  Lattitude      26881 non-null  float64\n",
      " 18  Longtitude     26881 non-null  float64\n",
      " 19  Regionname     34854 non-null  object \n",
      " 20  Propertycount  34854 non-null  float64\n",
      "dtypes: float64(12), int64(1), object(8)\n",
      "memory usage: 5.6+ MB\n",
      "None\n"
     ]
    }
   ],
   "source": [
    "#replacing missing values\n",
    "housing.replace(\"?\",np.nan,inplace = True)\n",
    "housing.head()\n",
    "print(housing.info())"
   ]
  },
  {
   "cell_type": "code",
   "execution_count": 10,
   "id": "8842db62",
   "metadata": {
    "execution": {
     "iopub.execute_input": "2022-09-18T06:57:55.781833Z",
     "iopub.status.busy": "2022-09-18T06:57:55.780759Z",
     "iopub.status.idle": "2022-09-18T06:57:55.825347Z",
     "shell.execute_reply": "2022-09-18T06:57:55.824125Z"
    },
    "papermill": {
     "duration": 0.064989,
     "end_time": "2022-09-18T06:57:55.828103",
     "exception": false,
     "start_time": "2022-09-18T06:57:55.763114",
     "status": "completed"
    },
    "tags": []
   },
   "outputs": [
    {
     "data": {
      "text/html": [
       "<div>\n",
       "<style scoped>\n",
       "    .dataframe tbody tr th:only-of-type {\n",
       "        vertical-align: middle;\n",
       "    }\n",
       "\n",
       "    .dataframe tbody tr th {\n",
       "        vertical-align: top;\n",
       "    }\n",
       "\n",
       "    .dataframe thead th {\n",
       "        text-align: right;\n",
       "    }\n",
       "</style>\n",
       "<table border=\"1\" class=\"dataframe\">\n",
       "  <thead>\n",
       "    <tr style=\"text-align: right;\">\n",
       "      <th></th>\n",
       "      <th>Suburb</th>\n",
       "      <th>Address</th>\n",
       "      <th>Rooms</th>\n",
       "      <th>Type</th>\n",
       "      <th>Price</th>\n",
       "      <th>Method</th>\n",
       "      <th>SellerG</th>\n",
       "      <th>Date</th>\n",
       "      <th>Distance</th>\n",
       "      <th>Postcode</th>\n",
       "      <th>...</th>\n",
       "      <th>Bathroom</th>\n",
       "      <th>Car</th>\n",
       "      <th>Landsize</th>\n",
       "      <th>BuildingArea</th>\n",
       "      <th>YearBuilt</th>\n",
       "      <th>CouncilArea</th>\n",
       "      <th>Lattitude</th>\n",
       "      <th>Longtitude</th>\n",
       "      <th>Regionname</th>\n",
       "      <th>Propertycount</th>\n",
       "    </tr>\n",
       "  </thead>\n",
       "  <tbody>\n",
       "    <tr>\n",
       "      <th>0</th>\n",
       "      <td>False</td>\n",
       "      <td>False</td>\n",
       "      <td>False</td>\n",
       "      <td>False</td>\n",
       "      <td>True</td>\n",
       "      <td>False</td>\n",
       "      <td>False</td>\n",
       "      <td>False</td>\n",
       "      <td>False</td>\n",
       "      <td>False</td>\n",
       "      <td>...</td>\n",
       "      <td>False</td>\n",
       "      <td>False</td>\n",
       "      <td>False</td>\n",
       "      <td>True</td>\n",
       "      <td>True</td>\n",
       "      <td>False</td>\n",
       "      <td>False</td>\n",
       "      <td>False</td>\n",
       "      <td>False</td>\n",
       "      <td>False</td>\n",
       "    </tr>\n",
       "    <tr>\n",
       "      <th>1</th>\n",
       "      <td>False</td>\n",
       "      <td>False</td>\n",
       "      <td>False</td>\n",
       "      <td>False</td>\n",
       "      <td>False</td>\n",
       "      <td>False</td>\n",
       "      <td>False</td>\n",
       "      <td>False</td>\n",
       "      <td>False</td>\n",
       "      <td>False</td>\n",
       "      <td>...</td>\n",
       "      <td>False</td>\n",
       "      <td>False</td>\n",
       "      <td>False</td>\n",
       "      <td>True</td>\n",
       "      <td>True</td>\n",
       "      <td>False</td>\n",
       "      <td>False</td>\n",
       "      <td>False</td>\n",
       "      <td>False</td>\n",
       "      <td>False</td>\n",
       "    </tr>\n",
       "    <tr>\n",
       "      <th>2</th>\n",
       "      <td>False</td>\n",
       "      <td>False</td>\n",
       "      <td>False</td>\n",
       "      <td>False</td>\n",
       "      <td>False</td>\n",
       "      <td>False</td>\n",
       "      <td>False</td>\n",
       "      <td>False</td>\n",
       "      <td>False</td>\n",
       "      <td>False</td>\n",
       "      <td>...</td>\n",
       "      <td>False</td>\n",
       "      <td>False</td>\n",
       "      <td>False</td>\n",
       "      <td>False</td>\n",
       "      <td>False</td>\n",
       "      <td>False</td>\n",
       "      <td>False</td>\n",
       "      <td>False</td>\n",
       "      <td>False</td>\n",
       "      <td>False</td>\n",
       "    </tr>\n",
       "    <tr>\n",
       "      <th>3</th>\n",
       "      <td>False</td>\n",
       "      <td>False</td>\n",
       "      <td>False</td>\n",
       "      <td>False</td>\n",
       "      <td>True</td>\n",
       "      <td>False</td>\n",
       "      <td>False</td>\n",
       "      <td>False</td>\n",
       "      <td>False</td>\n",
       "      <td>False</td>\n",
       "      <td>...</td>\n",
       "      <td>False</td>\n",
       "      <td>False</td>\n",
       "      <td>False</td>\n",
       "      <td>True</td>\n",
       "      <td>True</td>\n",
       "      <td>False</td>\n",
       "      <td>False</td>\n",
       "      <td>False</td>\n",
       "      <td>False</td>\n",
       "      <td>False</td>\n",
       "    </tr>\n",
       "    <tr>\n",
       "      <th>4</th>\n",
       "      <td>False</td>\n",
       "      <td>False</td>\n",
       "      <td>False</td>\n",
       "      <td>False</td>\n",
       "      <td>False</td>\n",
       "      <td>False</td>\n",
       "      <td>False</td>\n",
       "      <td>False</td>\n",
       "      <td>False</td>\n",
       "      <td>False</td>\n",
       "      <td>...</td>\n",
       "      <td>False</td>\n",
       "      <td>False</td>\n",
       "      <td>False</td>\n",
       "      <td>False</td>\n",
       "      <td>False</td>\n",
       "      <td>False</td>\n",
       "      <td>False</td>\n",
       "      <td>False</td>\n",
       "      <td>False</td>\n",
       "      <td>False</td>\n",
       "    </tr>\n",
       "    <tr>\n",
       "      <th>5</th>\n",
       "      <td>False</td>\n",
       "      <td>False</td>\n",
       "      <td>False</td>\n",
       "      <td>False</td>\n",
       "      <td>False</td>\n",
       "      <td>False</td>\n",
       "      <td>False</td>\n",
       "      <td>False</td>\n",
       "      <td>False</td>\n",
       "      <td>False</td>\n",
       "      <td>...</td>\n",
       "      <td>False</td>\n",
       "      <td>False</td>\n",
       "      <td>False</td>\n",
       "      <td>True</td>\n",
       "      <td>True</td>\n",
       "      <td>False</td>\n",
       "      <td>False</td>\n",
       "      <td>False</td>\n",
       "      <td>False</td>\n",
       "      <td>False</td>\n",
       "    </tr>\n",
       "    <tr>\n",
       "      <th>6</th>\n",
       "      <td>False</td>\n",
       "      <td>False</td>\n",
       "      <td>False</td>\n",
       "      <td>False</td>\n",
       "      <td>False</td>\n",
       "      <td>False</td>\n",
       "      <td>False</td>\n",
       "      <td>False</td>\n",
       "      <td>False</td>\n",
       "      <td>False</td>\n",
       "      <td>...</td>\n",
       "      <td>False</td>\n",
       "      <td>False</td>\n",
       "      <td>False</td>\n",
       "      <td>False</td>\n",
       "      <td>False</td>\n",
       "      <td>False</td>\n",
       "      <td>False</td>\n",
       "      <td>False</td>\n",
       "      <td>False</td>\n",
       "      <td>False</td>\n",
       "    </tr>\n",
       "    <tr>\n",
       "      <th>7</th>\n",
       "      <td>False</td>\n",
       "      <td>False</td>\n",
       "      <td>False</td>\n",
       "      <td>False</td>\n",
       "      <td>True</td>\n",
       "      <td>False</td>\n",
       "      <td>False</td>\n",
       "      <td>False</td>\n",
       "      <td>False</td>\n",
       "      <td>False</td>\n",
       "      <td>...</td>\n",
       "      <td>False</td>\n",
       "      <td>False</td>\n",
       "      <td>False</td>\n",
       "      <td>False</td>\n",
       "      <td>False</td>\n",
       "      <td>False</td>\n",
       "      <td>False</td>\n",
       "      <td>False</td>\n",
       "      <td>False</td>\n",
       "      <td>False</td>\n",
       "    </tr>\n",
       "    <tr>\n",
       "      <th>8</th>\n",
       "      <td>False</td>\n",
       "      <td>False</td>\n",
       "      <td>False</td>\n",
       "      <td>False</td>\n",
       "      <td>True</td>\n",
       "      <td>False</td>\n",
       "      <td>False</td>\n",
       "      <td>False</td>\n",
       "      <td>False</td>\n",
       "      <td>False</td>\n",
       "      <td>...</td>\n",
       "      <td>False</td>\n",
       "      <td>False</td>\n",
       "      <td>False</td>\n",
       "      <td>True</td>\n",
       "      <td>False</td>\n",
       "      <td>False</td>\n",
       "      <td>False</td>\n",
       "      <td>False</td>\n",
       "      <td>False</td>\n",
       "      <td>False</td>\n",
       "    </tr>\n",
       "    <tr>\n",
       "      <th>9</th>\n",
       "      <td>False</td>\n",
       "      <td>False</td>\n",
       "      <td>False</td>\n",
       "      <td>False</td>\n",
       "      <td>True</td>\n",
       "      <td>False</td>\n",
       "      <td>False</td>\n",
       "      <td>False</td>\n",
       "      <td>False</td>\n",
       "      <td>False</td>\n",
       "      <td>...</td>\n",
       "      <td>False</td>\n",
       "      <td>False</td>\n",
       "      <td>False</td>\n",
       "      <td>True</td>\n",
       "      <td>False</td>\n",
       "      <td>False</td>\n",
       "      <td>False</td>\n",
       "      <td>False</td>\n",
       "      <td>False</td>\n",
       "      <td>False</td>\n",
       "    </tr>\n",
       "  </tbody>\n",
       "</table>\n",
       "<p>10 rows × 21 columns</p>\n",
       "</div>"
      ],
      "text/plain": [
       "   Suburb  Address  Rooms   Type  Price  Method  SellerG   Date  Distance  \\\n",
       "0   False    False  False  False   True   False    False  False     False   \n",
       "1   False    False  False  False  False   False    False  False     False   \n",
       "2   False    False  False  False  False   False    False  False     False   \n",
       "3   False    False  False  False   True   False    False  False     False   \n",
       "4   False    False  False  False  False   False    False  False     False   \n",
       "5   False    False  False  False  False   False    False  False     False   \n",
       "6   False    False  False  False  False   False    False  False     False   \n",
       "7   False    False  False  False   True   False    False  False     False   \n",
       "8   False    False  False  False   True   False    False  False     False   \n",
       "9   False    False  False  False   True   False    False  False     False   \n",
       "\n",
       "   Postcode  ...  Bathroom    Car  Landsize  BuildingArea  YearBuilt  \\\n",
       "0     False  ...     False  False     False          True       True   \n",
       "1     False  ...     False  False     False          True       True   \n",
       "2     False  ...     False  False     False         False      False   \n",
       "3     False  ...     False  False     False          True       True   \n",
       "4     False  ...     False  False     False         False      False   \n",
       "5     False  ...     False  False     False          True       True   \n",
       "6     False  ...     False  False     False         False      False   \n",
       "7     False  ...     False  False     False         False      False   \n",
       "8     False  ...     False  False     False          True      False   \n",
       "9     False  ...     False  False     False          True      False   \n",
       "\n",
       "   CouncilArea  Lattitude  Longtitude  Regionname  Propertycount  \n",
       "0        False      False       False       False          False  \n",
       "1        False      False       False       False          False  \n",
       "2        False      False       False       False          False  \n",
       "3        False      False       False       False          False  \n",
       "4        False      False       False       False          False  \n",
       "5        False      False       False       False          False  \n",
       "6        False      False       False       False          False  \n",
       "7        False      False       False       False          False  \n",
       "8        False      False       False       False          False  \n",
       "9        False      False       False       False          False  \n",
       "\n",
       "[10 rows x 21 columns]"
      ]
     },
     "execution_count": 10,
     "metadata": {},
     "output_type": "execute_result"
    }
   ],
   "source": [
    "#seeing missing values\n",
    "missing_data = housing.isnull()\n",
    "missing_data.head(10)"
   ]
  },
  {
   "cell_type": "code",
   "execution_count": 11,
   "id": "a45cb54f",
   "metadata": {
    "execution": {
     "iopub.execute_input": "2022-09-18T06:57:55.865014Z",
     "iopub.status.busy": "2022-09-18T06:57:55.864034Z",
     "iopub.status.idle": "2022-09-18T06:57:55.896008Z",
     "shell.execute_reply": "2022-09-18T06:57:55.893932Z"
    },
    "papermill": {
     "duration": 0.053225,
     "end_time": "2022-09-18T06:57:55.898655",
     "exception": false,
     "start_time": "2022-09-18T06:57:55.845430",
     "status": "completed"
    },
    "tags": []
   },
   "outputs": [
    {
     "name": "stdout",
     "output_type": "stream",
     "text": [
      "Suburb False    34857\n",
      "Name: Suburb, dtype: int64\n",
      "\n",
      "Address False    34857\n",
      "Name: Address, dtype: int64\n",
      "\n",
      "Rooms False    34857\n",
      "Name: Rooms, dtype: int64\n",
      "\n",
      "Type False    34857\n",
      "Name: Type, dtype: int64\n",
      "\n",
      "Price False    27247\n",
      "True      7610\n",
      "Name: Price, dtype: int64\n",
      "\n",
      "Method False    34857\n",
      "Name: Method, dtype: int64\n",
      "\n",
      "SellerG False    34857\n",
      "Name: SellerG, dtype: int64\n",
      "\n",
      "Date False    34857\n",
      "Name: Date, dtype: int64\n",
      "\n",
      "Distance False    34856\n",
      "True         1\n",
      "Name: Distance, dtype: int64\n",
      "\n",
      "Postcode False    34856\n",
      "True         1\n",
      "Name: Postcode, dtype: int64\n",
      "\n",
      "Bedroom2 False    26640\n",
      "True      8217\n",
      "Name: Bedroom2, dtype: int64\n",
      "\n",
      "Bathroom False    26631\n",
      "True      8226\n",
      "Name: Bathroom, dtype: int64\n",
      "\n",
      "Car False    26129\n",
      "True      8728\n",
      "Name: Car, dtype: int64\n",
      "\n",
      "Landsize False    23047\n",
      "True     11810\n",
      "Name: Landsize, dtype: int64\n",
      "\n",
      "BuildingArea True     21115\n",
      "False    13742\n",
      "Name: BuildingArea, dtype: int64\n",
      "\n",
      "YearBuilt True     19306\n",
      "False    15551\n",
      "Name: YearBuilt, dtype: int64\n",
      "\n",
      "CouncilArea False    34854\n",
      "True         3\n",
      "Name: CouncilArea, dtype: int64\n",
      "\n",
      "Lattitude False    26881\n",
      "True      7976\n",
      "Name: Lattitude, dtype: int64\n",
      "\n",
      "Longtitude False    26881\n",
      "True      7976\n",
      "Name: Longtitude, dtype: int64\n",
      "\n",
      "Regionname False    34854\n",
      "True         3\n",
      "Name: Regionname, dtype: int64\n",
      "\n",
      "Propertycount False    34854\n",
      "True         3\n",
      "Name: Propertycount, dtype: int64\n",
      "\n"
     ]
    }
   ],
   "source": [
    "#missing values column wise\n",
    "for column in missing_data.columns.values.tolist():\n",
    "  print(column,missing_data[column].value_counts())\n",
    "  print(\"\")"
   ]
  },
  {
   "cell_type": "code",
   "execution_count": 12,
   "id": "0db095b2",
   "metadata": {
    "execution": {
     "iopub.execute_input": "2022-09-18T06:57:55.934868Z",
     "iopub.status.busy": "2022-09-18T06:57:55.933483Z",
     "iopub.status.idle": "2022-09-18T06:57:56.032789Z",
     "shell.execute_reply": "2022-09-18T06:57:56.031500Z"
    },
    "papermill": {
     "duration": 0.120222,
     "end_time": "2022-09-18T06:57:56.035564",
     "exception": false,
     "start_time": "2022-09-18T06:57:55.915342",
     "status": "completed"
    },
    "tags": []
   },
   "outputs": [
    {
     "data": {
      "text/html": [
       "<div>\n",
       "<style scoped>\n",
       "    .dataframe tbody tr th:only-of-type {\n",
       "        vertical-align: middle;\n",
       "    }\n",
       "\n",
       "    .dataframe tbody tr th {\n",
       "        vertical-align: top;\n",
       "    }\n",
       "\n",
       "    .dataframe thead th {\n",
       "        text-align: right;\n",
       "    }\n",
       "</style>\n",
       "<table border=\"1\" class=\"dataframe\">\n",
       "  <thead>\n",
       "    <tr style=\"text-align: right;\">\n",
       "      <th></th>\n",
       "      <th>Suburb</th>\n",
       "      <th>Address</th>\n",
       "      <th>Rooms</th>\n",
       "      <th>Type</th>\n",
       "      <th>Price</th>\n",
       "      <th>Method</th>\n",
       "      <th>SellerG</th>\n",
       "      <th>Date</th>\n",
       "      <th>Distance</th>\n",
       "      <th>Postcode</th>\n",
       "      <th>...</th>\n",
       "      <th>Bathroom</th>\n",
       "      <th>Car</th>\n",
       "      <th>Landsize</th>\n",
       "      <th>BuildingArea</th>\n",
       "      <th>YearBuilt</th>\n",
       "      <th>CouncilArea</th>\n",
       "      <th>Lattitude</th>\n",
       "      <th>Longtitude</th>\n",
       "      <th>Regionname</th>\n",
       "      <th>Propertycount</th>\n",
       "    </tr>\n",
       "  </thead>\n",
       "  <tbody>\n",
       "    <tr>\n",
       "      <th>1</th>\n",
       "      <td>Abbotsford</td>\n",
       "      <td>85 Turner St</td>\n",
       "      <td>2</td>\n",
       "      <td>h</td>\n",
       "      <td>1480000.0</td>\n",
       "      <td>S</td>\n",
       "      <td>Biggin</td>\n",
       "      <td>3/12/2016</td>\n",
       "      <td>2.5</td>\n",
       "      <td>3067.0</td>\n",
       "      <td>...</td>\n",
       "      <td>1.0</td>\n",
       "      <td>1.0</td>\n",
       "      <td>202.0</td>\n",
       "      <td>NaN</td>\n",
       "      <td>NaN</td>\n",
       "      <td>Yarra City Council</td>\n",
       "      <td>-37.79960</td>\n",
       "      <td>144.99840</td>\n",
       "      <td>Northern Metropolitan</td>\n",
       "      <td>4019.0</td>\n",
       "    </tr>\n",
       "    <tr>\n",
       "      <th>2</th>\n",
       "      <td>Abbotsford</td>\n",
       "      <td>25 Bloomburg St</td>\n",
       "      <td>2</td>\n",
       "      <td>h</td>\n",
       "      <td>1035000.0</td>\n",
       "      <td>S</td>\n",
       "      <td>Biggin</td>\n",
       "      <td>4/02/2016</td>\n",
       "      <td>2.5</td>\n",
       "      <td>3067.0</td>\n",
       "      <td>...</td>\n",
       "      <td>1.0</td>\n",
       "      <td>0.0</td>\n",
       "      <td>156.0</td>\n",
       "      <td>79.0</td>\n",
       "      <td>1900.0</td>\n",
       "      <td>Yarra City Council</td>\n",
       "      <td>-37.80790</td>\n",
       "      <td>144.99340</td>\n",
       "      <td>Northern Metropolitan</td>\n",
       "      <td>4019.0</td>\n",
       "    </tr>\n",
       "    <tr>\n",
       "      <th>4</th>\n",
       "      <td>Abbotsford</td>\n",
       "      <td>5 Charles St</td>\n",
       "      <td>3</td>\n",
       "      <td>h</td>\n",
       "      <td>1465000.0</td>\n",
       "      <td>SP</td>\n",
       "      <td>Biggin</td>\n",
       "      <td>4/03/2017</td>\n",
       "      <td>2.5</td>\n",
       "      <td>3067.0</td>\n",
       "      <td>...</td>\n",
       "      <td>2.0</td>\n",
       "      <td>0.0</td>\n",
       "      <td>134.0</td>\n",
       "      <td>150.0</td>\n",
       "      <td>1900.0</td>\n",
       "      <td>Yarra City Council</td>\n",
       "      <td>-37.80930</td>\n",
       "      <td>144.99440</td>\n",
       "      <td>Northern Metropolitan</td>\n",
       "      <td>4019.0</td>\n",
       "    </tr>\n",
       "    <tr>\n",
       "      <th>5</th>\n",
       "      <td>Abbotsford</td>\n",
       "      <td>40 Federation La</td>\n",
       "      <td>3</td>\n",
       "      <td>h</td>\n",
       "      <td>850000.0</td>\n",
       "      <td>PI</td>\n",
       "      <td>Biggin</td>\n",
       "      <td>4/03/2017</td>\n",
       "      <td>2.5</td>\n",
       "      <td>3067.0</td>\n",
       "      <td>...</td>\n",
       "      <td>2.0</td>\n",
       "      <td>1.0</td>\n",
       "      <td>94.0</td>\n",
       "      <td>NaN</td>\n",
       "      <td>NaN</td>\n",
       "      <td>Yarra City Council</td>\n",
       "      <td>-37.79690</td>\n",
       "      <td>144.99690</td>\n",
       "      <td>Northern Metropolitan</td>\n",
       "      <td>4019.0</td>\n",
       "    </tr>\n",
       "    <tr>\n",
       "      <th>6</th>\n",
       "      <td>Abbotsford</td>\n",
       "      <td>55a Park St</td>\n",
       "      <td>4</td>\n",
       "      <td>h</td>\n",
       "      <td>1600000.0</td>\n",
       "      <td>VB</td>\n",
       "      <td>Nelson</td>\n",
       "      <td>4/06/2016</td>\n",
       "      <td>2.5</td>\n",
       "      <td>3067.0</td>\n",
       "      <td>...</td>\n",
       "      <td>1.0</td>\n",
       "      <td>2.0</td>\n",
       "      <td>120.0</td>\n",
       "      <td>142.0</td>\n",
       "      <td>2014.0</td>\n",
       "      <td>Yarra City Council</td>\n",
       "      <td>-37.80720</td>\n",
       "      <td>144.99410</td>\n",
       "      <td>Northern Metropolitan</td>\n",
       "      <td>4019.0</td>\n",
       "    </tr>\n",
       "    <tr>\n",
       "      <th>...</th>\n",
       "      <td>...</td>\n",
       "      <td>...</td>\n",
       "      <td>...</td>\n",
       "      <td>...</td>\n",
       "      <td>...</td>\n",
       "      <td>...</td>\n",
       "      <td>...</td>\n",
       "      <td>...</td>\n",
       "      <td>...</td>\n",
       "      <td>...</td>\n",
       "      <td>...</td>\n",
       "      <td>...</td>\n",
       "      <td>...</td>\n",
       "      <td>...</td>\n",
       "      <td>...</td>\n",
       "      <td>...</td>\n",
       "      <td>...</td>\n",
       "      <td>...</td>\n",
       "      <td>...</td>\n",
       "      <td>...</td>\n",
       "      <td>...</td>\n",
       "    </tr>\n",
       "    <tr>\n",
       "      <th>34852</th>\n",
       "      <td>Yarraville</td>\n",
       "      <td>13 Burns St</td>\n",
       "      <td>4</td>\n",
       "      <td>h</td>\n",
       "      <td>1480000.0</td>\n",
       "      <td>PI</td>\n",
       "      <td>Jas</td>\n",
       "      <td>24/02/2018</td>\n",
       "      <td>6.3</td>\n",
       "      <td>3013.0</td>\n",
       "      <td>...</td>\n",
       "      <td>1.0</td>\n",
       "      <td>3.0</td>\n",
       "      <td>593.0</td>\n",
       "      <td>NaN</td>\n",
       "      <td>NaN</td>\n",
       "      <td>Maribyrnong City Council</td>\n",
       "      <td>-37.81053</td>\n",
       "      <td>144.88467</td>\n",
       "      <td>Western Metropolitan</td>\n",
       "      <td>6543.0</td>\n",
       "    </tr>\n",
       "    <tr>\n",
       "      <th>34853</th>\n",
       "      <td>Yarraville</td>\n",
       "      <td>29A Murray St</td>\n",
       "      <td>2</td>\n",
       "      <td>h</td>\n",
       "      <td>888000.0</td>\n",
       "      <td>SP</td>\n",
       "      <td>Sweeney</td>\n",
       "      <td>24/02/2018</td>\n",
       "      <td>6.3</td>\n",
       "      <td>3013.0</td>\n",
       "      <td>...</td>\n",
       "      <td>2.0</td>\n",
       "      <td>1.0</td>\n",
       "      <td>98.0</td>\n",
       "      <td>104.0</td>\n",
       "      <td>2018.0</td>\n",
       "      <td>Maribyrnong City Council</td>\n",
       "      <td>-37.81551</td>\n",
       "      <td>144.88826</td>\n",
       "      <td>Western Metropolitan</td>\n",
       "      <td>6543.0</td>\n",
       "    </tr>\n",
       "    <tr>\n",
       "      <th>34854</th>\n",
       "      <td>Yarraville</td>\n",
       "      <td>147A Severn St</td>\n",
       "      <td>2</td>\n",
       "      <td>t</td>\n",
       "      <td>705000.0</td>\n",
       "      <td>S</td>\n",
       "      <td>Jas</td>\n",
       "      <td>24/02/2018</td>\n",
       "      <td>6.3</td>\n",
       "      <td>3013.0</td>\n",
       "      <td>...</td>\n",
       "      <td>1.0</td>\n",
       "      <td>2.0</td>\n",
       "      <td>220.0</td>\n",
       "      <td>120.0</td>\n",
       "      <td>2000.0</td>\n",
       "      <td>Maribyrnong City Council</td>\n",
       "      <td>-37.82286</td>\n",
       "      <td>144.87856</td>\n",
       "      <td>Western Metropolitan</td>\n",
       "      <td>6543.0</td>\n",
       "    </tr>\n",
       "    <tr>\n",
       "      <th>34855</th>\n",
       "      <td>Yarraville</td>\n",
       "      <td>12/37 Stephen St</td>\n",
       "      <td>3</td>\n",
       "      <td>h</td>\n",
       "      <td>1140000.0</td>\n",
       "      <td>SP</td>\n",
       "      <td>hockingstuart</td>\n",
       "      <td>24/02/2018</td>\n",
       "      <td>6.3</td>\n",
       "      <td>3013.0</td>\n",
       "      <td>...</td>\n",
       "      <td>NaN</td>\n",
       "      <td>NaN</td>\n",
       "      <td>NaN</td>\n",
       "      <td>NaN</td>\n",
       "      <td>NaN</td>\n",
       "      <td>Maribyrnong City Council</td>\n",
       "      <td>NaN</td>\n",
       "      <td>NaN</td>\n",
       "      <td>Western Metropolitan</td>\n",
       "      <td>6543.0</td>\n",
       "    </tr>\n",
       "    <tr>\n",
       "      <th>34856</th>\n",
       "      <td>Yarraville</td>\n",
       "      <td>3 Tarrengower St</td>\n",
       "      <td>2</td>\n",
       "      <td>h</td>\n",
       "      <td>1020000.0</td>\n",
       "      <td>PI</td>\n",
       "      <td>RW</td>\n",
       "      <td>24/02/2018</td>\n",
       "      <td>6.3</td>\n",
       "      <td>3013.0</td>\n",
       "      <td>...</td>\n",
       "      <td>1.0</td>\n",
       "      <td>0.0</td>\n",
       "      <td>250.0</td>\n",
       "      <td>103.0</td>\n",
       "      <td>1930.0</td>\n",
       "      <td>Maribyrnong City Council</td>\n",
       "      <td>-37.81810</td>\n",
       "      <td>144.89351</td>\n",
       "      <td>Western Metropolitan</td>\n",
       "      <td>6543.0</td>\n",
       "    </tr>\n",
       "  </tbody>\n",
       "</table>\n",
       "<p>27244 rows × 21 columns</p>\n",
       "</div>"
      ],
      "text/plain": [
       "           Suburb           Address  Rooms Type      Price Method  \\\n",
       "1      Abbotsford      85 Turner St      2    h  1480000.0      S   \n",
       "2      Abbotsford   25 Bloomburg St      2    h  1035000.0      S   \n",
       "4      Abbotsford      5 Charles St      3    h  1465000.0     SP   \n",
       "5      Abbotsford  40 Federation La      3    h   850000.0     PI   \n",
       "6      Abbotsford       55a Park St      4    h  1600000.0     VB   \n",
       "...           ...               ...    ...  ...        ...    ...   \n",
       "34852  Yarraville       13 Burns St      4    h  1480000.0     PI   \n",
       "34853  Yarraville     29A Murray St      2    h   888000.0     SP   \n",
       "34854  Yarraville    147A Severn St      2    t   705000.0      S   \n",
       "34855  Yarraville  12/37 Stephen St      3    h  1140000.0     SP   \n",
       "34856  Yarraville  3 Tarrengower St      2    h  1020000.0     PI   \n",
       "\n",
       "             SellerG        Date  Distance  Postcode  ...  Bathroom  Car  \\\n",
       "1             Biggin   3/12/2016       2.5    3067.0  ...       1.0  1.0   \n",
       "2             Biggin   4/02/2016       2.5    3067.0  ...       1.0  0.0   \n",
       "4             Biggin   4/03/2017       2.5    3067.0  ...       2.0  0.0   \n",
       "5             Biggin   4/03/2017       2.5    3067.0  ...       2.0  1.0   \n",
       "6             Nelson   4/06/2016       2.5    3067.0  ...       1.0  2.0   \n",
       "...              ...         ...       ...       ...  ...       ...  ...   \n",
       "34852            Jas  24/02/2018       6.3    3013.0  ...       1.0  3.0   \n",
       "34853        Sweeney  24/02/2018       6.3    3013.0  ...       2.0  1.0   \n",
       "34854            Jas  24/02/2018       6.3    3013.0  ...       1.0  2.0   \n",
       "34855  hockingstuart  24/02/2018       6.3    3013.0  ...       NaN  NaN   \n",
       "34856             RW  24/02/2018       6.3    3013.0  ...       1.0  0.0   \n",
       "\n",
       "       Landsize  BuildingArea  YearBuilt               CouncilArea Lattitude  \\\n",
       "1         202.0           NaN        NaN        Yarra City Council -37.79960   \n",
       "2         156.0          79.0     1900.0        Yarra City Council -37.80790   \n",
       "4         134.0         150.0     1900.0        Yarra City Council -37.80930   \n",
       "5          94.0           NaN        NaN        Yarra City Council -37.79690   \n",
       "6         120.0         142.0     2014.0        Yarra City Council -37.80720   \n",
       "...         ...           ...        ...                       ...       ...   \n",
       "34852     593.0           NaN        NaN  Maribyrnong City Council -37.81053   \n",
       "34853      98.0         104.0     2018.0  Maribyrnong City Council -37.81551   \n",
       "34854     220.0         120.0     2000.0  Maribyrnong City Council -37.82286   \n",
       "34855       NaN           NaN        NaN  Maribyrnong City Council       NaN   \n",
       "34856     250.0         103.0     1930.0  Maribyrnong City Council -37.81810   \n",
       "\n",
       "       Longtitude             Regionname Propertycount  \n",
       "1       144.99840  Northern Metropolitan        4019.0  \n",
       "2       144.99340  Northern Metropolitan        4019.0  \n",
       "4       144.99440  Northern Metropolitan        4019.0  \n",
       "5       144.99690  Northern Metropolitan        4019.0  \n",
       "6       144.99410  Northern Metropolitan        4019.0  \n",
       "...           ...                    ...           ...  \n",
       "34852   144.88467   Western Metropolitan        6543.0  \n",
       "34853   144.88826   Western Metropolitan        6543.0  \n",
       "34854   144.87856   Western Metropolitan        6543.0  \n",
       "34855         NaN   Western Metropolitan        6543.0  \n",
       "34856   144.89351   Western Metropolitan        6543.0  \n",
       "\n",
       "[27244 rows x 21 columns]"
      ]
     },
     "execution_count": 12,
     "metadata": {},
     "output_type": "execute_result"
    }
   ],
   "source": [
    "#dropping rows without price values\n",
    "housing.dropna(subset=['Price'],axis=0, inplace=True)\n",
    "housing.dropna(subset=['Propertycount'],axis=0, inplace=True)\n",
    "housing.dropna(subset=['Postcode'],axis=0, inplace=True)\n",
    "housing"
   ]
  },
  {
   "cell_type": "code",
   "execution_count": 13,
   "id": "f2c781ff",
   "metadata": {
    "execution": {
     "iopub.execute_input": "2022-09-18T06:57:56.074185Z",
     "iopub.status.busy": "2022-09-18T06:57:56.073703Z",
     "iopub.status.idle": "2022-09-18T06:57:56.121727Z",
     "shell.execute_reply": "2022-09-18T06:57:56.120491Z"
    },
    "papermill": {
     "duration": 0.070265,
     "end_time": "2022-09-18T06:57:56.124316",
     "exception": false,
     "start_time": "2022-09-18T06:57:56.054051",
     "status": "completed"
    },
    "tags": []
   },
   "outputs": [
    {
     "data": {
      "text/html": [
       "<div>\n",
       "<style scoped>\n",
       "    .dataframe tbody tr th:only-of-type {\n",
       "        vertical-align: middle;\n",
       "    }\n",
       "\n",
       "    .dataframe tbody tr th {\n",
       "        vertical-align: top;\n",
       "    }\n",
       "\n",
       "    .dataframe thead th {\n",
       "        text-align: right;\n",
       "    }\n",
       "</style>\n",
       "<table border=\"1\" class=\"dataframe\">\n",
       "  <thead>\n",
       "    <tr style=\"text-align: right;\">\n",
       "      <th></th>\n",
       "      <th>Suburb</th>\n",
       "      <th>Rooms</th>\n",
       "      <th>Type</th>\n",
       "      <th>Price</th>\n",
       "      <th>Method</th>\n",
       "      <th>SellerG</th>\n",
       "      <th>Date</th>\n",
       "      <th>Distance</th>\n",
       "      <th>Postcode</th>\n",
       "      <th>Bedroom2</th>\n",
       "      <th>Bathroom</th>\n",
       "      <th>Car</th>\n",
       "      <th>Landsize</th>\n",
       "      <th>BuildingArea</th>\n",
       "      <th>YearBuilt</th>\n",
       "      <th>CouncilArea</th>\n",
       "      <th>Lattitude</th>\n",
       "      <th>Longtitude</th>\n",
       "      <th>Regionname</th>\n",
       "      <th>Propertycount</th>\n",
       "    </tr>\n",
       "  </thead>\n",
       "  <tbody>\n",
       "    <tr>\n",
       "      <th>1</th>\n",
       "      <td>Abbotsford</td>\n",
       "      <td>2</td>\n",
       "      <td>h</td>\n",
       "      <td>1480000.0</td>\n",
       "      <td>S</td>\n",
       "      <td>Biggin</td>\n",
       "      <td>3/12/2016</td>\n",
       "      <td>2.5</td>\n",
       "      <td>3067.0</td>\n",
       "      <td>2.0</td>\n",
       "      <td>1.0</td>\n",
       "      <td>1.0</td>\n",
       "      <td>202.0</td>\n",
       "      <td>NaN</td>\n",
       "      <td>NaN</td>\n",
       "      <td>Yarra City Council</td>\n",
       "      <td>-37.79960</td>\n",
       "      <td>144.99840</td>\n",
       "      <td>Northern Metropolitan</td>\n",
       "      <td>4019.0</td>\n",
       "    </tr>\n",
       "    <tr>\n",
       "      <th>2</th>\n",
       "      <td>Abbotsford</td>\n",
       "      <td>2</td>\n",
       "      <td>h</td>\n",
       "      <td>1035000.0</td>\n",
       "      <td>S</td>\n",
       "      <td>Biggin</td>\n",
       "      <td>4/02/2016</td>\n",
       "      <td>2.5</td>\n",
       "      <td>3067.0</td>\n",
       "      <td>2.0</td>\n",
       "      <td>1.0</td>\n",
       "      <td>0.0</td>\n",
       "      <td>156.0</td>\n",
       "      <td>79.0</td>\n",
       "      <td>1900.0</td>\n",
       "      <td>Yarra City Council</td>\n",
       "      <td>-37.80790</td>\n",
       "      <td>144.99340</td>\n",
       "      <td>Northern Metropolitan</td>\n",
       "      <td>4019.0</td>\n",
       "    </tr>\n",
       "    <tr>\n",
       "      <th>4</th>\n",
       "      <td>Abbotsford</td>\n",
       "      <td>3</td>\n",
       "      <td>h</td>\n",
       "      <td>1465000.0</td>\n",
       "      <td>SP</td>\n",
       "      <td>Biggin</td>\n",
       "      <td>4/03/2017</td>\n",
       "      <td>2.5</td>\n",
       "      <td>3067.0</td>\n",
       "      <td>3.0</td>\n",
       "      <td>2.0</td>\n",
       "      <td>0.0</td>\n",
       "      <td>134.0</td>\n",
       "      <td>150.0</td>\n",
       "      <td>1900.0</td>\n",
       "      <td>Yarra City Council</td>\n",
       "      <td>-37.80930</td>\n",
       "      <td>144.99440</td>\n",
       "      <td>Northern Metropolitan</td>\n",
       "      <td>4019.0</td>\n",
       "    </tr>\n",
       "    <tr>\n",
       "      <th>5</th>\n",
       "      <td>Abbotsford</td>\n",
       "      <td>3</td>\n",
       "      <td>h</td>\n",
       "      <td>850000.0</td>\n",
       "      <td>PI</td>\n",
       "      <td>Biggin</td>\n",
       "      <td>4/03/2017</td>\n",
       "      <td>2.5</td>\n",
       "      <td>3067.0</td>\n",
       "      <td>3.0</td>\n",
       "      <td>2.0</td>\n",
       "      <td>1.0</td>\n",
       "      <td>94.0</td>\n",
       "      <td>NaN</td>\n",
       "      <td>NaN</td>\n",
       "      <td>Yarra City Council</td>\n",
       "      <td>-37.79690</td>\n",
       "      <td>144.99690</td>\n",
       "      <td>Northern Metropolitan</td>\n",
       "      <td>4019.0</td>\n",
       "    </tr>\n",
       "    <tr>\n",
       "      <th>6</th>\n",
       "      <td>Abbotsford</td>\n",
       "      <td>4</td>\n",
       "      <td>h</td>\n",
       "      <td>1600000.0</td>\n",
       "      <td>VB</td>\n",
       "      <td>Nelson</td>\n",
       "      <td>4/06/2016</td>\n",
       "      <td>2.5</td>\n",
       "      <td>3067.0</td>\n",
       "      <td>3.0</td>\n",
       "      <td>1.0</td>\n",
       "      <td>2.0</td>\n",
       "      <td>120.0</td>\n",
       "      <td>142.0</td>\n",
       "      <td>2014.0</td>\n",
       "      <td>Yarra City Council</td>\n",
       "      <td>-37.80720</td>\n",
       "      <td>144.99410</td>\n",
       "      <td>Northern Metropolitan</td>\n",
       "      <td>4019.0</td>\n",
       "    </tr>\n",
       "    <tr>\n",
       "      <th>...</th>\n",
       "      <td>...</td>\n",
       "      <td>...</td>\n",
       "      <td>...</td>\n",
       "      <td>...</td>\n",
       "      <td>...</td>\n",
       "      <td>...</td>\n",
       "      <td>...</td>\n",
       "      <td>...</td>\n",
       "      <td>...</td>\n",
       "      <td>...</td>\n",
       "      <td>...</td>\n",
       "      <td>...</td>\n",
       "      <td>...</td>\n",
       "      <td>...</td>\n",
       "      <td>...</td>\n",
       "      <td>...</td>\n",
       "      <td>...</td>\n",
       "      <td>...</td>\n",
       "      <td>...</td>\n",
       "      <td>...</td>\n",
       "    </tr>\n",
       "    <tr>\n",
       "      <th>34852</th>\n",
       "      <td>Yarraville</td>\n",
       "      <td>4</td>\n",
       "      <td>h</td>\n",
       "      <td>1480000.0</td>\n",
       "      <td>PI</td>\n",
       "      <td>Jas</td>\n",
       "      <td>24/02/2018</td>\n",
       "      <td>6.3</td>\n",
       "      <td>3013.0</td>\n",
       "      <td>4.0</td>\n",
       "      <td>1.0</td>\n",
       "      <td>3.0</td>\n",
       "      <td>593.0</td>\n",
       "      <td>NaN</td>\n",
       "      <td>NaN</td>\n",
       "      <td>Maribyrnong City Council</td>\n",
       "      <td>-37.81053</td>\n",
       "      <td>144.88467</td>\n",
       "      <td>Western Metropolitan</td>\n",
       "      <td>6543.0</td>\n",
       "    </tr>\n",
       "    <tr>\n",
       "      <th>34853</th>\n",
       "      <td>Yarraville</td>\n",
       "      <td>2</td>\n",
       "      <td>h</td>\n",
       "      <td>888000.0</td>\n",
       "      <td>SP</td>\n",
       "      <td>Sweeney</td>\n",
       "      <td>24/02/2018</td>\n",
       "      <td>6.3</td>\n",
       "      <td>3013.0</td>\n",
       "      <td>2.0</td>\n",
       "      <td>2.0</td>\n",
       "      <td>1.0</td>\n",
       "      <td>98.0</td>\n",
       "      <td>104.0</td>\n",
       "      <td>2018.0</td>\n",
       "      <td>Maribyrnong City Council</td>\n",
       "      <td>-37.81551</td>\n",
       "      <td>144.88826</td>\n",
       "      <td>Western Metropolitan</td>\n",
       "      <td>6543.0</td>\n",
       "    </tr>\n",
       "    <tr>\n",
       "      <th>34854</th>\n",
       "      <td>Yarraville</td>\n",
       "      <td>2</td>\n",
       "      <td>t</td>\n",
       "      <td>705000.0</td>\n",
       "      <td>S</td>\n",
       "      <td>Jas</td>\n",
       "      <td>24/02/2018</td>\n",
       "      <td>6.3</td>\n",
       "      <td>3013.0</td>\n",
       "      <td>2.0</td>\n",
       "      <td>1.0</td>\n",
       "      <td>2.0</td>\n",
       "      <td>220.0</td>\n",
       "      <td>120.0</td>\n",
       "      <td>2000.0</td>\n",
       "      <td>Maribyrnong City Council</td>\n",
       "      <td>-37.82286</td>\n",
       "      <td>144.87856</td>\n",
       "      <td>Western Metropolitan</td>\n",
       "      <td>6543.0</td>\n",
       "    </tr>\n",
       "    <tr>\n",
       "      <th>34855</th>\n",
       "      <td>Yarraville</td>\n",
       "      <td>3</td>\n",
       "      <td>h</td>\n",
       "      <td>1140000.0</td>\n",
       "      <td>SP</td>\n",
       "      <td>hockingstuart</td>\n",
       "      <td>24/02/2018</td>\n",
       "      <td>6.3</td>\n",
       "      <td>3013.0</td>\n",
       "      <td>NaN</td>\n",
       "      <td>NaN</td>\n",
       "      <td>NaN</td>\n",
       "      <td>NaN</td>\n",
       "      <td>NaN</td>\n",
       "      <td>NaN</td>\n",
       "      <td>Maribyrnong City Council</td>\n",
       "      <td>NaN</td>\n",
       "      <td>NaN</td>\n",
       "      <td>Western Metropolitan</td>\n",
       "      <td>6543.0</td>\n",
       "    </tr>\n",
       "    <tr>\n",
       "      <th>34856</th>\n",
       "      <td>Yarraville</td>\n",
       "      <td>2</td>\n",
       "      <td>h</td>\n",
       "      <td>1020000.0</td>\n",
       "      <td>PI</td>\n",
       "      <td>RW</td>\n",
       "      <td>24/02/2018</td>\n",
       "      <td>6.3</td>\n",
       "      <td>3013.0</td>\n",
       "      <td>2.0</td>\n",
       "      <td>1.0</td>\n",
       "      <td>0.0</td>\n",
       "      <td>250.0</td>\n",
       "      <td>103.0</td>\n",
       "      <td>1930.0</td>\n",
       "      <td>Maribyrnong City Council</td>\n",
       "      <td>-37.81810</td>\n",
       "      <td>144.89351</td>\n",
       "      <td>Western Metropolitan</td>\n",
       "      <td>6543.0</td>\n",
       "    </tr>\n",
       "  </tbody>\n",
       "</table>\n",
       "<p>27244 rows × 20 columns</p>\n",
       "</div>"
      ],
      "text/plain": [
       "           Suburb  Rooms Type      Price Method        SellerG        Date  \\\n",
       "1      Abbotsford      2    h  1480000.0      S         Biggin   3/12/2016   \n",
       "2      Abbotsford      2    h  1035000.0      S         Biggin   4/02/2016   \n",
       "4      Abbotsford      3    h  1465000.0     SP         Biggin   4/03/2017   \n",
       "5      Abbotsford      3    h   850000.0     PI         Biggin   4/03/2017   \n",
       "6      Abbotsford      4    h  1600000.0     VB         Nelson   4/06/2016   \n",
       "...           ...    ...  ...        ...    ...            ...         ...   \n",
       "34852  Yarraville      4    h  1480000.0     PI            Jas  24/02/2018   \n",
       "34853  Yarraville      2    h   888000.0     SP        Sweeney  24/02/2018   \n",
       "34854  Yarraville      2    t   705000.0      S            Jas  24/02/2018   \n",
       "34855  Yarraville      3    h  1140000.0     SP  hockingstuart  24/02/2018   \n",
       "34856  Yarraville      2    h  1020000.0     PI             RW  24/02/2018   \n",
       "\n",
       "       Distance  Postcode  Bedroom2  Bathroom  Car  Landsize  BuildingArea  \\\n",
       "1           2.5    3067.0       2.0       1.0  1.0     202.0           NaN   \n",
       "2           2.5    3067.0       2.0       1.0  0.0     156.0          79.0   \n",
       "4           2.5    3067.0       3.0       2.0  0.0     134.0         150.0   \n",
       "5           2.5    3067.0       3.0       2.0  1.0      94.0           NaN   \n",
       "6           2.5    3067.0       3.0       1.0  2.0     120.0         142.0   \n",
       "...         ...       ...       ...       ...  ...       ...           ...   \n",
       "34852       6.3    3013.0       4.0       1.0  3.0     593.0           NaN   \n",
       "34853       6.3    3013.0       2.0       2.0  1.0      98.0         104.0   \n",
       "34854       6.3    3013.0       2.0       1.0  2.0     220.0         120.0   \n",
       "34855       6.3    3013.0       NaN       NaN  NaN       NaN           NaN   \n",
       "34856       6.3    3013.0       2.0       1.0  0.0     250.0         103.0   \n",
       "\n",
       "       YearBuilt               CouncilArea  Lattitude  Longtitude  \\\n",
       "1            NaN        Yarra City Council  -37.79960   144.99840   \n",
       "2         1900.0        Yarra City Council  -37.80790   144.99340   \n",
       "4         1900.0        Yarra City Council  -37.80930   144.99440   \n",
       "5            NaN        Yarra City Council  -37.79690   144.99690   \n",
       "6         2014.0        Yarra City Council  -37.80720   144.99410   \n",
       "...          ...                       ...        ...         ...   \n",
       "34852        NaN  Maribyrnong City Council  -37.81053   144.88467   \n",
       "34853     2018.0  Maribyrnong City Council  -37.81551   144.88826   \n",
       "34854     2000.0  Maribyrnong City Council  -37.82286   144.87856   \n",
       "34855        NaN  Maribyrnong City Council        NaN         NaN   \n",
       "34856     1930.0  Maribyrnong City Council  -37.81810   144.89351   \n",
       "\n",
       "                  Regionname  Propertycount  \n",
       "1      Northern Metropolitan         4019.0  \n",
       "2      Northern Metropolitan         4019.0  \n",
       "4      Northern Metropolitan         4019.0  \n",
       "5      Northern Metropolitan         4019.0  \n",
       "6      Northern Metropolitan         4019.0  \n",
       "...                      ...            ...  \n",
       "34852   Western Metropolitan         6543.0  \n",
       "34853   Western Metropolitan         6543.0  \n",
       "34854   Western Metropolitan         6543.0  \n",
       "34855   Western Metropolitan         6543.0  \n",
       "34856   Western Metropolitan         6543.0  \n",
       "\n",
       "[27244 rows x 20 columns]"
      ]
     },
     "execution_count": 13,
     "metadata": {},
     "output_type": "execute_result"
    }
   ],
   "source": [
    "#dropping useless variables\n",
    "housing.drop('Address', inplace=True, axis=1)\n",
    "housing\n",
    "\n"
   ]
  },
  {
   "cell_type": "code",
   "execution_count": 14,
   "id": "a9af128f",
   "metadata": {
    "execution": {
     "iopub.execute_input": "2022-09-18T06:57:56.161819Z",
     "iopub.status.busy": "2022-09-18T06:57:56.161294Z",
     "iopub.status.idle": "2022-09-18T06:57:56.206326Z",
     "shell.execute_reply": "2022-09-18T06:57:56.205179Z"
    },
    "papermill": {
     "duration": 0.066846,
     "end_time": "2022-09-18T06:57:56.209004",
     "exception": false,
     "start_time": "2022-09-18T06:57:56.142158",
     "status": "completed"
    },
    "tags": []
   },
   "outputs": [
    {
     "data": {
      "text/html": [
       "<div>\n",
       "<style scoped>\n",
       "    .dataframe tbody tr th:only-of-type {\n",
       "        vertical-align: middle;\n",
       "    }\n",
       "\n",
       "    .dataframe tbody tr th {\n",
       "        vertical-align: top;\n",
       "    }\n",
       "\n",
       "    .dataframe thead th {\n",
       "        text-align: right;\n",
       "    }\n",
       "</style>\n",
       "<table border=\"1\" class=\"dataframe\">\n",
       "  <thead>\n",
       "    <tr style=\"text-align: right;\">\n",
       "      <th></th>\n",
       "      <th>Suburb</th>\n",
       "      <th>Rooms</th>\n",
       "      <th>Type</th>\n",
       "      <th>Price</th>\n",
       "      <th>Method</th>\n",
       "      <th>SellerG</th>\n",
       "      <th>Distance</th>\n",
       "      <th>Postcode</th>\n",
       "      <th>Bedroom2</th>\n",
       "      <th>Bathroom</th>\n",
       "      <th>Car</th>\n",
       "      <th>Landsize</th>\n",
       "      <th>BuildingArea</th>\n",
       "      <th>YearBuilt</th>\n",
       "      <th>CouncilArea</th>\n",
       "      <th>Lattitude</th>\n",
       "      <th>Longtitude</th>\n",
       "      <th>Regionname</th>\n",
       "      <th>Propertycount</th>\n",
       "    </tr>\n",
       "  </thead>\n",
       "  <tbody>\n",
       "    <tr>\n",
       "      <th>1</th>\n",
       "      <td>Abbotsford</td>\n",
       "      <td>2</td>\n",
       "      <td>h</td>\n",
       "      <td>1480000.0</td>\n",
       "      <td>S</td>\n",
       "      <td>Biggin</td>\n",
       "      <td>2.5</td>\n",
       "      <td>3067.0</td>\n",
       "      <td>2.0</td>\n",
       "      <td>1.0</td>\n",
       "      <td>1.0</td>\n",
       "      <td>202.0</td>\n",
       "      <td>NaN</td>\n",
       "      <td>NaN</td>\n",
       "      <td>Yarra City Council</td>\n",
       "      <td>-37.79960</td>\n",
       "      <td>144.99840</td>\n",
       "      <td>Northern Metropolitan</td>\n",
       "      <td>4019.0</td>\n",
       "    </tr>\n",
       "    <tr>\n",
       "      <th>2</th>\n",
       "      <td>Abbotsford</td>\n",
       "      <td>2</td>\n",
       "      <td>h</td>\n",
       "      <td>1035000.0</td>\n",
       "      <td>S</td>\n",
       "      <td>Biggin</td>\n",
       "      <td>2.5</td>\n",
       "      <td>3067.0</td>\n",
       "      <td>2.0</td>\n",
       "      <td>1.0</td>\n",
       "      <td>0.0</td>\n",
       "      <td>156.0</td>\n",
       "      <td>79.0</td>\n",
       "      <td>1900.0</td>\n",
       "      <td>Yarra City Council</td>\n",
       "      <td>-37.80790</td>\n",
       "      <td>144.99340</td>\n",
       "      <td>Northern Metropolitan</td>\n",
       "      <td>4019.0</td>\n",
       "    </tr>\n",
       "    <tr>\n",
       "      <th>4</th>\n",
       "      <td>Abbotsford</td>\n",
       "      <td>3</td>\n",
       "      <td>h</td>\n",
       "      <td>1465000.0</td>\n",
       "      <td>SP</td>\n",
       "      <td>Biggin</td>\n",
       "      <td>2.5</td>\n",
       "      <td>3067.0</td>\n",
       "      <td>3.0</td>\n",
       "      <td>2.0</td>\n",
       "      <td>0.0</td>\n",
       "      <td>134.0</td>\n",
       "      <td>150.0</td>\n",
       "      <td>1900.0</td>\n",
       "      <td>Yarra City Council</td>\n",
       "      <td>-37.80930</td>\n",
       "      <td>144.99440</td>\n",
       "      <td>Northern Metropolitan</td>\n",
       "      <td>4019.0</td>\n",
       "    </tr>\n",
       "    <tr>\n",
       "      <th>5</th>\n",
       "      <td>Abbotsford</td>\n",
       "      <td>3</td>\n",
       "      <td>h</td>\n",
       "      <td>850000.0</td>\n",
       "      <td>PI</td>\n",
       "      <td>Biggin</td>\n",
       "      <td>2.5</td>\n",
       "      <td>3067.0</td>\n",
       "      <td>3.0</td>\n",
       "      <td>2.0</td>\n",
       "      <td>1.0</td>\n",
       "      <td>94.0</td>\n",
       "      <td>NaN</td>\n",
       "      <td>NaN</td>\n",
       "      <td>Yarra City Council</td>\n",
       "      <td>-37.79690</td>\n",
       "      <td>144.99690</td>\n",
       "      <td>Northern Metropolitan</td>\n",
       "      <td>4019.0</td>\n",
       "    </tr>\n",
       "    <tr>\n",
       "      <th>6</th>\n",
       "      <td>Abbotsford</td>\n",
       "      <td>4</td>\n",
       "      <td>h</td>\n",
       "      <td>1600000.0</td>\n",
       "      <td>VB</td>\n",
       "      <td>Nelson</td>\n",
       "      <td>2.5</td>\n",
       "      <td>3067.0</td>\n",
       "      <td>3.0</td>\n",
       "      <td>1.0</td>\n",
       "      <td>2.0</td>\n",
       "      <td>120.0</td>\n",
       "      <td>142.0</td>\n",
       "      <td>2014.0</td>\n",
       "      <td>Yarra City Council</td>\n",
       "      <td>-37.80720</td>\n",
       "      <td>144.99410</td>\n",
       "      <td>Northern Metropolitan</td>\n",
       "      <td>4019.0</td>\n",
       "    </tr>\n",
       "    <tr>\n",
       "      <th>...</th>\n",
       "      <td>...</td>\n",
       "      <td>...</td>\n",
       "      <td>...</td>\n",
       "      <td>...</td>\n",
       "      <td>...</td>\n",
       "      <td>...</td>\n",
       "      <td>...</td>\n",
       "      <td>...</td>\n",
       "      <td>...</td>\n",
       "      <td>...</td>\n",
       "      <td>...</td>\n",
       "      <td>...</td>\n",
       "      <td>...</td>\n",
       "      <td>...</td>\n",
       "      <td>...</td>\n",
       "      <td>...</td>\n",
       "      <td>...</td>\n",
       "      <td>...</td>\n",
       "      <td>...</td>\n",
       "    </tr>\n",
       "    <tr>\n",
       "      <th>34852</th>\n",
       "      <td>Yarraville</td>\n",
       "      <td>4</td>\n",
       "      <td>h</td>\n",
       "      <td>1480000.0</td>\n",
       "      <td>PI</td>\n",
       "      <td>Jas</td>\n",
       "      <td>6.3</td>\n",
       "      <td>3013.0</td>\n",
       "      <td>4.0</td>\n",
       "      <td>1.0</td>\n",
       "      <td>3.0</td>\n",
       "      <td>593.0</td>\n",
       "      <td>NaN</td>\n",
       "      <td>NaN</td>\n",
       "      <td>Maribyrnong City Council</td>\n",
       "      <td>-37.81053</td>\n",
       "      <td>144.88467</td>\n",
       "      <td>Western Metropolitan</td>\n",
       "      <td>6543.0</td>\n",
       "    </tr>\n",
       "    <tr>\n",
       "      <th>34853</th>\n",
       "      <td>Yarraville</td>\n",
       "      <td>2</td>\n",
       "      <td>h</td>\n",
       "      <td>888000.0</td>\n",
       "      <td>SP</td>\n",
       "      <td>Sweeney</td>\n",
       "      <td>6.3</td>\n",
       "      <td>3013.0</td>\n",
       "      <td>2.0</td>\n",
       "      <td>2.0</td>\n",
       "      <td>1.0</td>\n",
       "      <td>98.0</td>\n",
       "      <td>104.0</td>\n",
       "      <td>2018.0</td>\n",
       "      <td>Maribyrnong City Council</td>\n",
       "      <td>-37.81551</td>\n",
       "      <td>144.88826</td>\n",
       "      <td>Western Metropolitan</td>\n",
       "      <td>6543.0</td>\n",
       "    </tr>\n",
       "    <tr>\n",
       "      <th>34854</th>\n",
       "      <td>Yarraville</td>\n",
       "      <td>2</td>\n",
       "      <td>t</td>\n",
       "      <td>705000.0</td>\n",
       "      <td>S</td>\n",
       "      <td>Jas</td>\n",
       "      <td>6.3</td>\n",
       "      <td>3013.0</td>\n",
       "      <td>2.0</td>\n",
       "      <td>1.0</td>\n",
       "      <td>2.0</td>\n",
       "      <td>220.0</td>\n",
       "      <td>120.0</td>\n",
       "      <td>2000.0</td>\n",
       "      <td>Maribyrnong City Council</td>\n",
       "      <td>-37.82286</td>\n",
       "      <td>144.87856</td>\n",
       "      <td>Western Metropolitan</td>\n",
       "      <td>6543.0</td>\n",
       "    </tr>\n",
       "    <tr>\n",
       "      <th>34855</th>\n",
       "      <td>Yarraville</td>\n",
       "      <td>3</td>\n",
       "      <td>h</td>\n",
       "      <td>1140000.0</td>\n",
       "      <td>SP</td>\n",
       "      <td>hockingstuart</td>\n",
       "      <td>6.3</td>\n",
       "      <td>3013.0</td>\n",
       "      <td>NaN</td>\n",
       "      <td>NaN</td>\n",
       "      <td>NaN</td>\n",
       "      <td>NaN</td>\n",
       "      <td>NaN</td>\n",
       "      <td>NaN</td>\n",
       "      <td>Maribyrnong City Council</td>\n",
       "      <td>NaN</td>\n",
       "      <td>NaN</td>\n",
       "      <td>Western Metropolitan</td>\n",
       "      <td>6543.0</td>\n",
       "    </tr>\n",
       "    <tr>\n",
       "      <th>34856</th>\n",
       "      <td>Yarraville</td>\n",
       "      <td>2</td>\n",
       "      <td>h</td>\n",
       "      <td>1020000.0</td>\n",
       "      <td>PI</td>\n",
       "      <td>RW</td>\n",
       "      <td>6.3</td>\n",
       "      <td>3013.0</td>\n",
       "      <td>2.0</td>\n",
       "      <td>1.0</td>\n",
       "      <td>0.0</td>\n",
       "      <td>250.0</td>\n",
       "      <td>103.0</td>\n",
       "      <td>1930.0</td>\n",
       "      <td>Maribyrnong City Council</td>\n",
       "      <td>-37.81810</td>\n",
       "      <td>144.89351</td>\n",
       "      <td>Western Metropolitan</td>\n",
       "      <td>6543.0</td>\n",
       "    </tr>\n",
       "  </tbody>\n",
       "</table>\n",
       "<p>27244 rows × 19 columns</p>\n",
       "</div>"
      ],
      "text/plain": [
       "           Suburb  Rooms Type      Price Method        SellerG  Distance  \\\n",
       "1      Abbotsford      2    h  1480000.0      S         Biggin       2.5   \n",
       "2      Abbotsford      2    h  1035000.0      S         Biggin       2.5   \n",
       "4      Abbotsford      3    h  1465000.0     SP         Biggin       2.5   \n",
       "5      Abbotsford      3    h   850000.0     PI         Biggin       2.5   \n",
       "6      Abbotsford      4    h  1600000.0     VB         Nelson       2.5   \n",
       "...           ...    ...  ...        ...    ...            ...       ...   \n",
       "34852  Yarraville      4    h  1480000.0     PI            Jas       6.3   \n",
       "34853  Yarraville      2    h   888000.0     SP        Sweeney       6.3   \n",
       "34854  Yarraville      2    t   705000.0      S            Jas       6.3   \n",
       "34855  Yarraville      3    h  1140000.0     SP  hockingstuart       6.3   \n",
       "34856  Yarraville      2    h  1020000.0     PI             RW       6.3   \n",
       "\n",
       "       Postcode  Bedroom2  Bathroom  Car  Landsize  BuildingArea  YearBuilt  \\\n",
       "1        3067.0       2.0       1.0  1.0     202.0           NaN        NaN   \n",
       "2        3067.0       2.0       1.0  0.0     156.0          79.0     1900.0   \n",
       "4        3067.0       3.0       2.0  0.0     134.0         150.0     1900.0   \n",
       "5        3067.0       3.0       2.0  1.0      94.0           NaN        NaN   \n",
       "6        3067.0       3.0       1.0  2.0     120.0         142.0     2014.0   \n",
       "...         ...       ...       ...  ...       ...           ...        ...   \n",
       "34852    3013.0       4.0       1.0  3.0     593.0           NaN        NaN   \n",
       "34853    3013.0       2.0       2.0  1.0      98.0         104.0     2018.0   \n",
       "34854    3013.0       2.0       1.0  2.0     220.0         120.0     2000.0   \n",
       "34855    3013.0       NaN       NaN  NaN       NaN           NaN        NaN   \n",
       "34856    3013.0       2.0       1.0  0.0     250.0         103.0     1930.0   \n",
       "\n",
       "                    CouncilArea  Lattitude  Longtitude             Regionname  \\\n",
       "1            Yarra City Council  -37.79960   144.99840  Northern Metropolitan   \n",
       "2            Yarra City Council  -37.80790   144.99340  Northern Metropolitan   \n",
       "4            Yarra City Council  -37.80930   144.99440  Northern Metropolitan   \n",
       "5            Yarra City Council  -37.79690   144.99690  Northern Metropolitan   \n",
       "6            Yarra City Council  -37.80720   144.99410  Northern Metropolitan   \n",
       "...                         ...        ...         ...                    ...   \n",
       "34852  Maribyrnong City Council  -37.81053   144.88467   Western Metropolitan   \n",
       "34853  Maribyrnong City Council  -37.81551   144.88826   Western Metropolitan   \n",
       "34854  Maribyrnong City Council  -37.82286   144.87856   Western Metropolitan   \n",
       "34855  Maribyrnong City Council        NaN         NaN   Western Metropolitan   \n",
       "34856  Maribyrnong City Council  -37.81810   144.89351   Western Metropolitan   \n",
       "\n",
       "       Propertycount  \n",
       "1             4019.0  \n",
       "2             4019.0  \n",
       "4             4019.0  \n",
       "5             4019.0  \n",
       "6             4019.0  \n",
       "...              ...  \n",
       "34852         6543.0  \n",
       "34853         6543.0  \n",
       "34854         6543.0  \n",
       "34855         6543.0  \n",
       "34856         6543.0  \n",
       "\n",
       "[27244 rows x 19 columns]"
      ]
     },
     "execution_count": 14,
     "metadata": {},
     "output_type": "execute_result"
    }
   ],
   "source": [
    "housing.drop('Date', inplace=True, axis=1)\n",
    "housing"
   ]
  },
  {
   "cell_type": "code",
   "execution_count": 15,
   "id": "547e577e",
   "metadata": {
    "execution": {
     "iopub.execute_input": "2022-09-18T06:57:56.247890Z",
     "iopub.status.busy": "2022-09-18T06:57:56.247409Z",
     "iopub.status.idle": "2022-09-18T06:57:56.366598Z",
     "shell.execute_reply": "2022-09-18T06:57:56.364546Z"
    },
    "papermill": {
     "duration": 0.141911,
     "end_time": "2022-09-18T06:57:56.369216",
     "exception": true,
     "start_time": "2022-09-18T06:57:56.227305",
     "status": "failed"
    },
    "tags": []
   },
   "outputs": [
    {
     "ename": "TypeError",
     "evalue": "Cannot specify both 'axis' and any of 'index' or 'columns'",
     "output_type": "error",
     "traceback": [
      "\u001b[0;31m---------------------------------------------------------------------------\u001b[0m",
      "\u001b[0;31mTypeError\u001b[0m                                 Traceback (most recent call last)",
      "\u001b[0;32m/tmp/ipykernel_19/728655506.py\u001b[0m in \u001b[0;36m<module>\u001b[0;34m\u001b[0m\n\u001b[0;32m----> 1\u001b[0;31m \u001b[0mhousing\u001b[0m\u001b[0;34m.\u001b[0m\u001b[0mrename\u001b[0m\u001b[0;34m(\u001b[0m\u001b[0mcolumns\u001b[0m\u001b[0;34m=\u001b[0m\u001b[0;34m{\u001b[0m\u001b[0;34m'Bedroom2'\u001b[0m\u001b[0;34m:\u001b[0m\u001b[0;34m'Bedrooms'\u001b[0m\u001b[0;34m}\u001b[0m\u001b[0;34m,\u001b[0m\u001b[0minplace\u001b[0m\u001b[0;34m=\u001b[0m\u001b[0;32mTrue\u001b[0m\u001b[0;34m,\u001b[0m \u001b[0maxis\u001b[0m\u001b[0;34m=\u001b[0m\u001b[0;36m1\u001b[0m\u001b[0;34m)\u001b[0m\u001b[0;34m\u001b[0m\u001b[0;34m\u001b[0m\u001b[0m\n\u001b[0m\u001b[1;32m      2\u001b[0m \u001b[0mhousing\u001b[0m\u001b[0;34m\u001b[0m\u001b[0;34m\u001b[0m\u001b[0m\n",
      "\u001b[0;32m/opt/conda/lib/python3.7/site-packages/pandas/util/_decorators.py\u001b[0m in \u001b[0;36mwrapper\u001b[0;34m(*args, **kwargs)\u001b[0m\n\u001b[1;32m    322\u001b[0m         \u001b[0;34m@\u001b[0m\u001b[0mwraps\u001b[0m\u001b[0;34m(\u001b[0m\u001b[0mfunc\u001b[0m\u001b[0;34m)\u001b[0m\u001b[0;34m\u001b[0m\u001b[0;34m\u001b[0m\u001b[0m\n\u001b[1;32m    323\u001b[0m         \u001b[0;32mdef\u001b[0m \u001b[0mwrapper\u001b[0m\u001b[0;34m(\u001b[0m\u001b[0;34m*\u001b[0m\u001b[0margs\u001b[0m\u001b[0;34m,\u001b[0m \u001b[0;34m**\u001b[0m\u001b[0mkwargs\u001b[0m\u001b[0;34m)\u001b[0m \u001b[0;34m->\u001b[0m \u001b[0mCallable\u001b[0m\u001b[0;34m[\u001b[0m\u001b[0;34m...\u001b[0m\u001b[0;34m,\u001b[0m \u001b[0mAny\u001b[0m\u001b[0;34m]\u001b[0m\u001b[0;34m:\u001b[0m\u001b[0;34m\u001b[0m\u001b[0;34m\u001b[0m\u001b[0m\n\u001b[0;32m--> 324\u001b[0;31m             \u001b[0;32mreturn\u001b[0m \u001b[0mfunc\u001b[0m\u001b[0;34m(\u001b[0m\u001b[0;34m*\u001b[0m\u001b[0margs\u001b[0m\u001b[0;34m,\u001b[0m \u001b[0;34m**\u001b[0m\u001b[0mkwargs\u001b[0m\u001b[0;34m)\u001b[0m\u001b[0;34m\u001b[0m\u001b[0;34m\u001b[0m\u001b[0m\n\u001b[0m\u001b[1;32m    325\u001b[0m \u001b[0;34m\u001b[0m\u001b[0m\n\u001b[1;32m    326\u001b[0m         \u001b[0mkind\u001b[0m \u001b[0;34m=\u001b[0m \u001b[0minspect\u001b[0m\u001b[0;34m.\u001b[0m\u001b[0mParameter\u001b[0m\u001b[0;34m.\u001b[0m\u001b[0mPOSITIONAL_OR_KEYWORD\u001b[0m\u001b[0;34m\u001b[0m\u001b[0;34m\u001b[0m\u001b[0m\n",
      "\u001b[0;32m/opt/conda/lib/python3.7/site-packages/pandas/core/frame.py\u001b[0m in \u001b[0;36mrename\u001b[0;34m(self, mapper, index, columns, axis, copy, inplace, level, errors)\u001b[0m\n\u001b[1;32m   5045\u001b[0m             \u001b[0minplace\u001b[0m\u001b[0;34m=\u001b[0m\u001b[0minplace\u001b[0m\u001b[0;34m,\u001b[0m\u001b[0;34m\u001b[0m\u001b[0;34m\u001b[0m\u001b[0m\n\u001b[1;32m   5046\u001b[0m             \u001b[0mlevel\u001b[0m\u001b[0;34m=\u001b[0m\u001b[0mlevel\u001b[0m\u001b[0;34m,\u001b[0m\u001b[0;34m\u001b[0m\u001b[0;34m\u001b[0m\u001b[0m\n\u001b[0;32m-> 5047\u001b[0;31m             \u001b[0merrors\u001b[0m\u001b[0;34m=\u001b[0m\u001b[0merrors\u001b[0m\u001b[0;34m,\u001b[0m\u001b[0;34m\u001b[0m\u001b[0;34m\u001b[0m\u001b[0m\n\u001b[0m\u001b[1;32m   5048\u001b[0m         )\n\u001b[1;32m   5049\u001b[0m \u001b[0;34m\u001b[0m\u001b[0m\n",
      "\u001b[0;32m/opt/conda/lib/python3.7/site-packages/pandas/core/generic.py\u001b[0m in \u001b[0;36mrename\u001b[0;34m(self, mapper, index, columns, axis, copy, inplace, level, errors)\u001b[0m\n\u001b[1;32m   1117\u001b[0m             \u001b[0;32mif\u001b[0m \u001b[0maxis\u001b[0m \u001b[0;32mis\u001b[0m \u001b[0;32mnot\u001b[0m \u001b[0;32mNone\u001b[0m\u001b[0;34m:\u001b[0m\u001b[0;34m\u001b[0m\u001b[0;34m\u001b[0m\u001b[0m\n\u001b[1;32m   1118\u001b[0m                 raise TypeError(\n\u001b[0;32m-> 1119\u001b[0;31m                     \u001b[0;34m\"Cannot specify both 'axis' and any of 'index' or 'columns'\"\u001b[0m\u001b[0;34m\u001b[0m\u001b[0;34m\u001b[0m\u001b[0m\n\u001b[0m\u001b[1;32m   1120\u001b[0m                 )\n\u001b[1;32m   1121\u001b[0m             \u001b[0;32melif\u001b[0m \u001b[0mmapper\u001b[0m \u001b[0;32mis\u001b[0m \u001b[0;32mnot\u001b[0m \u001b[0;32mNone\u001b[0m\u001b[0;34m:\u001b[0m\u001b[0;34m\u001b[0m\u001b[0;34m\u001b[0m\u001b[0m\n",
      "\u001b[0;31mTypeError\u001b[0m: Cannot specify both 'axis' and any of 'index' or 'columns'"
     ]
    }
   ],
   "source": [
    "housing.rename(columns={'Bedroom2':'Bedrooms'},inplace=True, axis=1)\n",
    "housing"
   ]
  },
  {
   "cell_type": "code",
   "execution_count": null,
   "id": "dc50aea9",
   "metadata": {
    "execution": {
     "iopub.execute_input": "2022-09-18T06:20:59.148274Z",
     "iopub.status.busy": "2022-09-18T06:20:59.147870Z",
     "iopub.status.idle": "2022-09-18T06:20:59.161450Z",
     "shell.execute_reply": "2022-09-18T06:20:59.160283Z",
     "shell.execute_reply.started": "2022-09-18T06:20:59.148240Z"
    },
    "papermill": {
     "duration": null,
     "end_time": null,
     "exception": null,
     "start_time": null,
     "status": "pending"
    },
    "tags": []
   },
   "outputs": [],
   "source": [
    "#gathering mean values of numerical variables\n",
    "avg_price= housing[\"Price\"].astype(\"float\").mean(axis=0)\n",
    "print(\"The average price of house in Melbourne is\",avg_price,\"Australian Dollars.\")\n",
    "avg_dist= housing[\"Distance\"].astype(\"float\").mean(axis=0)\n",
    "print(\"The average distance of house from business center in \",avg_dist,\"Kilometers.\")\n",
    "avg_BA= housing[\"BuildingArea\"].astype(\"float\").mean(axis=0)\n",
    "print(\"The average area of building \",avg_BA,\"in meter square\")\n",
    "avg_LS= housing[\"Landsize\"].astype(\"float\").mean(axis=0)\n",
    "print(\"The average area of plot\",avg_LS,\"in meter square\")\n",
    "avg_LT=housing[\"Lattitude\"].astype(\"float\").mean(axis=0)\n",
    "print(\"The average Lattitude is \",avg_LT,\"degrees\")\n",
    "avg_LO=housing[\"Longtitude\"].astype(\"float\").mean(axis=0)\n",
    "print(\"The average Longtitude is \",avg_LO,\"degrees\")\n"
   ]
  },
  {
   "cell_type": "code",
   "execution_count": null,
   "id": "967f2d4b",
   "metadata": {
    "execution": {
     "iopub.execute_input": "2022-09-18T06:21:00.945898Z",
     "iopub.status.busy": "2022-09-18T06:21:00.945465Z",
     "iopub.status.idle": "2022-09-18T06:21:00.955243Z",
     "shell.execute_reply": "2022-09-18T06:21:00.954078Z",
     "shell.execute_reply.started": "2022-09-18T06:21:00.945862Z"
    },
    "papermill": {
     "duration": null,
     "end_time": null,
     "exception": null,
     "start_time": null,
     "status": "pending"
    },
    "tags": []
   },
   "outputs": [],
   "source": [
    "#replacing numerical missing values with mean\n",
    "housing['Distance'].replace(np.nan, avg_dist, inplace=True)\n",
    "housing['BuildingArea'].replace(np.nan, avg_BA, inplace=True)\n",
    "housing['Lattitude'].replace(np.nan, avg_LT, inplace=True)\n",
    "housing['Longtitude'].replace(np.nan, avg_LO, inplace=True)\n",
    "housing['Landsize'].replace(np.nan, avg_LS, inplace=True)"
   ]
  },
  {
   "cell_type": "code",
   "execution_count": null,
   "id": "3c4040e8",
   "metadata": {
    "execution": {
     "iopub.execute_input": "2022-09-18T06:21:11.568849Z",
     "iopub.status.busy": "2022-09-18T06:21:11.568402Z",
     "iopub.status.idle": "2022-09-18T06:21:11.582008Z",
     "shell.execute_reply": "2022-09-18T06:21:11.581086Z",
     "shell.execute_reply.started": "2022-09-18T06:21:11.568811Z"
    },
    "papermill": {
     "duration": null,
     "end_time": null,
     "exception": null,
     "start_time": null,
     "status": "pending"
    },
    "tags": []
   },
   "outputs": [],
   "source": [
    "#seeing mode of categorical values\n",
    "\n",
    "\n",
    "num_bathrooms=housing['Bathroom'].value_counts()\n",
    "print(num_bathrooms)\n",
    "mode_num_bathrooms=housing['Bathroom'].value_counts().idxmax()\n",
    "print(\"the mode value is\",mode_num_bathrooms)\n",
    "\n"
   ]
  },
  {
   "cell_type": "code",
   "execution_count": null,
   "id": "1e958427",
   "metadata": {
    "execution": {
     "iopub.execute_input": "2022-09-18T06:21:14.464106Z",
     "iopub.status.busy": "2022-09-18T06:21:14.463680Z",
     "iopub.status.idle": "2022-09-18T06:21:14.474324Z",
     "shell.execute_reply": "2022-09-18T06:21:14.473121Z",
     "shell.execute_reply.started": "2022-09-18T06:21:14.464071Z"
    },
    "papermill": {
     "duration": null,
     "end_time": null,
     "exception": null,
     "start_time": null,
     "status": "pending"
    },
    "tags": []
   },
   "outputs": [],
   "source": [
    "num_bedrooms=housing['Bedroom2'].value_counts()\n",
    "print(num_bedrooms)\n",
    "mode_num_bedrooms=housing['Bedroom2'].value_counts().idxmax()\n",
    "print(\"the mode value is\",mode_num_bedrooms)\n"
   ]
  },
  {
   "cell_type": "code",
   "execution_count": null,
   "id": "ca923f3f",
   "metadata": {
    "execution": {
     "iopub.execute_input": "2022-09-18T06:21:17.112106Z",
     "iopub.status.busy": "2022-09-18T06:21:17.111674Z",
     "iopub.status.idle": "2022-09-18T06:21:17.122612Z",
     "shell.execute_reply": "2022-09-18T06:21:17.121706Z",
     "shell.execute_reply.started": "2022-09-18T06:21:17.112069Z"
    },
    "papermill": {
     "duration": null,
     "end_time": null,
     "exception": null,
     "start_time": null,
     "status": "pending"
    },
    "tags": []
   },
   "outputs": [],
   "source": [
    "num_of_car_parking_spots=housing['Car'].value_counts()\n",
    "print(num_of_car_parking_spots)\n",
    "mode_num_of_car_parking_spots=housing['Car'].value_counts().idxmax()\n",
    "print(\"the mode value is\",mode_num_of_car_parking_spots)"
   ]
  },
  {
   "cell_type": "code",
   "execution_count": null,
   "id": "8c6fb33c",
   "metadata": {
    "execution": {
     "iopub.execute_input": "2022-09-18T06:21:19.553336Z",
     "iopub.status.busy": "2022-09-18T06:21:19.552912Z",
     "iopub.status.idle": "2022-09-18T06:21:19.566603Z",
     "shell.execute_reply": "2022-09-18T06:21:19.565205Z",
     "shell.execute_reply.started": "2022-09-18T06:21:19.553299Z"
    },
    "papermill": {
     "duration": null,
     "end_time": null,
     "exception": null,
     "start_time": null,
     "status": "pending"
    },
    "tags": []
   },
   "outputs": [],
   "source": [
    "num_of_CouncilArea=housing['CouncilArea'].value_counts()\n",
    "print(num_of_CouncilArea)\n",
    "mode_num_of_CouncilArea=housing['CouncilArea'].value_counts().idxmax()\n",
    "print(\"the mode value is\",mode_num_of_CouncilArea)"
   ]
  },
  {
   "cell_type": "code",
   "execution_count": null,
   "id": "95d1624d",
   "metadata": {
    "execution": {
     "iopub.execute_input": "2022-09-18T06:21:23.295978Z",
     "iopub.status.busy": "2022-09-18T06:21:23.295543Z",
     "iopub.status.idle": "2022-09-18T06:21:23.307473Z",
     "shell.execute_reply": "2022-09-18T06:21:23.306381Z",
     "shell.execute_reply.started": "2022-09-18T06:21:23.295942Z"
    },
    "papermill": {
     "duration": null,
     "end_time": null,
     "exception": null,
     "start_time": null,
     "status": "pending"
    },
    "tags": []
   },
   "outputs": [],
   "source": [
    "num_of_Region=housing['Regionname'].value_counts()\n",
    "print(num_of_Region)\n",
    "mode_num_of_Region=housing['Regionname'].value_counts().idxmax()\n",
    "print(\"the mode value is\",mode_num_of_Region)"
   ]
  },
  {
   "cell_type": "code",
   "execution_count": null,
   "id": "363ddc42",
   "metadata": {
    "execution": {
     "iopub.execute_input": "2022-09-18T06:21:25.623412Z",
     "iopub.status.busy": "2022-09-18T06:21:25.623005Z",
     "iopub.status.idle": "2022-09-18T06:21:25.633750Z",
     "shell.execute_reply": "2022-09-18T06:21:25.632615Z",
     "shell.execute_reply.started": "2022-09-18T06:21:25.623370Z"
    },
    "papermill": {
     "duration": null,
     "end_time": null,
     "exception": null,
     "start_time": null,
     "status": "pending"
    },
    "tags": []
   },
   "outputs": [],
   "source": [
    "Year_built=housing['YearBuilt'].value_counts()\n",
    "print(Year_built)\n",
    "mode_num_of_Year_built=housing['YearBuilt'].value_counts().idxmax()\n",
    "print(\"the mode value is\",mode_num_of_Year_built)"
   ]
  },
  {
   "cell_type": "code",
   "execution_count": null,
   "id": "61b82c76",
   "metadata": {
    "execution": {
     "iopub.execute_input": "2022-09-18T06:21:28.719065Z",
     "iopub.status.busy": "2022-09-18T06:21:28.718670Z",
     "iopub.status.idle": "2022-09-18T06:21:28.733801Z",
     "shell.execute_reply": "2022-09-18T06:21:28.732702Z",
     "shell.execute_reply.started": "2022-09-18T06:21:28.719034Z"
    },
    "papermill": {
     "duration": null,
     "end_time": null,
     "exception": null,
     "start_time": null,
     "status": "pending"
    },
    "tags": []
   },
   "outputs": [],
   "source": [
    "#replacing blank with mode\n",
    "housing['Bathroom'].replace(np.nan, mode_num_bathrooms, inplace=True)\n",
    "housing['Bedroom2'].replace(np.nan, mode_num_bedrooms, inplace=True)\n",
    "housing['Car'].replace(np.nan, mode_num_of_car_parking_spots, inplace=True)\n",
    "housing['CouncilArea'].replace(np.nan, mode_num_of_CouncilArea, inplace=True)\n",
    "housing['Regionname'].replace(np.nan, mode_num_of_Region, inplace=True)\n",
    "housing['YearBuilt'].replace(np.nan, mode_num_of_Year_built, inplace=True)"
   ]
  },
  {
   "cell_type": "code",
   "execution_count": null,
   "id": "75e623c0",
   "metadata": {
    "execution": {
     "iopub.execute_input": "2022-09-18T06:21:30.792055Z",
     "iopub.status.busy": "2022-09-18T06:21:30.791033Z",
     "iopub.status.idle": "2022-09-18T06:21:30.808223Z",
     "shell.execute_reply": "2022-09-18T06:21:30.807135Z",
     "shell.execute_reply.started": "2022-09-18T06:21:30.792016Z"
    },
    "papermill": {
     "duration": null,
     "end_time": null,
     "exception": null,
     "start_time": null,
     "status": "pending"
    },
    "tags": []
   },
   "outputs": [],
   "source": [
    "#checking for missing values\n",
    "housing.isnull().sum().sum()"
   ]
  },
  {
   "cell_type": "code",
   "execution_count": null,
   "id": "7886bcbd",
   "metadata": {
    "execution": {
     "iopub.execute_input": "2022-09-18T06:21:33.097854Z",
     "iopub.status.busy": "2022-09-18T06:21:33.097414Z",
     "iopub.status.idle": "2022-09-18T06:21:33.107560Z",
     "shell.execute_reply": "2022-09-18T06:21:33.106295Z",
     "shell.execute_reply.started": "2022-09-18T06:21:33.097816Z"
    },
    "papermill": {
     "duration": null,
     "end_time": null,
     "exception": null,
     "start_time": null,
     "status": "pending"
    },
    "tags": []
   },
   "outputs": [],
   "source": [
    "lowestprice=min(housing[\"Price\"])\n",
    "lowestprice\n"
   ]
  },
  {
   "cell_type": "code",
   "execution_count": null,
   "id": "9489b2d9",
   "metadata": {
    "execution": {
     "iopub.execute_input": "2022-09-18T06:21:34.679381Z",
     "iopub.status.busy": "2022-09-18T06:21:34.679001Z",
     "iopub.status.idle": "2022-09-18T06:21:34.688910Z",
     "shell.execute_reply": "2022-09-18T06:21:34.687522Z",
     "shell.execute_reply.started": "2022-09-18T06:21:34.679350Z"
    },
    "papermill": {
     "duration": null,
     "end_time": null,
     "exception": null,
     "start_time": null,
     "status": "pending"
    },
    "tags": []
   },
   "outputs": [],
   "source": [
    "highestprice=max(housing[\"Price\"])\n",
    "highestprice"
   ]
  },
  {
   "cell_type": "code",
   "execution_count": null,
   "id": "b38e76b8",
   "metadata": {
    "execution": {
     "iopub.execute_input": "2022-09-18T06:21:38.408454Z",
     "iopub.status.busy": "2022-09-18T06:21:38.407634Z",
     "iopub.status.idle": "2022-09-18T06:21:38.413075Z",
     "shell.execute_reply": "2022-09-18T06:21:38.412117Z",
     "shell.execute_reply.started": "2022-09-18T06:21:38.408413Z"
    },
    "papermill": {
     "duration": null,
     "end_time": null,
     "exception": null,
     "start_time": null,
     "status": "pending"
    },
    "tags": []
   },
   "outputs": [],
   "source": [
    "bins=[80000,500000,1000000,12000000]\n",
    "labels=['basic','average','high end']"
   ]
  },
  {
   "cell_type": "code",
   "execution_count": null,
   "id": "9a98c322",
   "metadata": {
    "execution": {
     "iopub.execute_input": "2022-09-18T06:21:40.191581Z",
     "iopub.status.busy": "2022-09-18T06:21:40.191170Z",
     "iopub.status.idle": "2022-09-18T06:21:40.207284Z",
     "shell.execute_reply": "2022-09-18T06:21:40.206052Z",
     "shell.execute_reply.started": "2022-09-18T06:21:40.191522Z"
    },
    "papermill": {
     "duration": null,
     "end_time": null,
     "exception": null,
     "start_time": null,
     "status": "pending"
    },
    "tags": []
   },
   "outputs": [],
   "source": [
    "housing['Price category']=pd.cut(housing['Price'],bins=bins,labels=labels)\n",
    "housing['Price category'].value_counts()"
   ]
  },
  {
   "cell_type": "code",
   "execution_count": null,
   "id": "1889ea5a",
   "metadata": {
    "execution": {
     "iopub.execute_input": "2022-09-18T06:21:43.122098Z",
     "iopub.status.busy": "2022-09-18T06:21:43.121682Z",
     "iopub.status.idle": "2022-09-18T06:21:43.319876Z",
     "shell.execute_reply": "2022-09-18T06:21:43.318418Z",
     "shell.execute_reply.started": "2022-09-18T06:21:43.122063Z"
    },
    "papermill": {
     "duration": null,
     "end_time": null,
     "exception": null,
     "start_time": null,
     "status": "pending"
    },
    "tags": []
   },
   "outputs": [],
   "source": [
    "plt.bar(labels, housing['Price category'].value_counts())\n",
    "plt.xlabel(\"Amount of people in eact category\")\n",
    "plt.ylabel(\"Number of houses\")\n",
    "plt.title(\"house price bins\")"
   ]
  },
  {
   "cell_type": "markdown",
   "id": "39356f5b",
   "metadata": {
    "papermill": {
     "duration": null,
     "end_time": null,
     "exception": null,
     "start_time": null,
     "status": "pending"
    },
    "tags": []
   },
   "source": [
    "**Outliers removal**\n",
    "\n",
    "In this step I am going to remove the outliers from the variables as they can negatively affect the machine learning algorithm.\n",
    "They represent errors like measurement or sampling error.\n",
    "\n"
   ]
  },
  {
   "cell_type": "code",
   "execution_count": null,
   "id": "20618f37",
   "metadata": {
    "execution": {
     "iopub.execute_input": "2022-09-18T06:21:46.895178Z",
     "iopub.status.busy": "2022-09-18T06:21:46.894770Z",
     "iopub.status.idle": "2022-09-18T06:21:47.025983Z",
     "shell.execute_reply": "2022-09-18T06:21:47.024722Z",
     "shell.execute_reply.started": "2022-09-18T06:21:46.895141Z"
    },
    "papermill": {
     "duration": null,
     "end_time": null,
     "exception": null,
     "start_time": null,
     "status": "pending"
    },
    "tags": []
   },
   "outputs": [],
   "source": [
    "#seeing the outliers for price\n",
    "sns.boxplot(housing['Price'])"
   ]
  },
  {
   "cell_type": "code",
   "execution_count": null,
   "id": "f4aad081",
   "metadata": {
    "execution": {
     "iopub.execute_input": "2022-09-18T06:21:50.481039Z",
     "iopub.status.busy": "2022-09-18T06:21:50.480665Z",
     "iopub.status.idle": "2022-09-18T06:21:50.490870Z",
     "shell.execute_reply": "2022-09-18T06:21:50.489579Z",
     "shell.execute_reply.started": "2022-09-18T06:21:50.481009Z"
    },
    "papermill": {
     "duration": null,
     "end_time": null,
     "exception": null,
     "start_time": null,
     "status": "pending"
    },
    "tags": []
   },
   "outputs": [],
   "source": [
    "#checking z score in Price\n",
    "z = np.abs(stats.zscore(housing['Price']))\n",
    "print(z)"
   ]
  },
  {
   "cell_type": "code",
   "execution_count": null,
   "id": "50402fbf",
   "metadata": {
    "execution": {
     "iopub.execute_input": "2022-09-18T06:21:53.063716Z",
     "iopub.status.busy": "2022-09-18T06:21:53.063237Z",
     "iopub.status.idle": "2022-09-18T06:21:53.073518Z",
     "shell.execute_reply": "2022-09-18T06:21:53.072520Z",
     "shell.execute_reply.started": "2022-09-18T06:21:53.063677Z"
    },
    "papermill": {
     "duration": null,
     "end_time": null,
     "exception": null,
     "start_time": null,
     "status": "pending"
    },
    "tags": []
   },
   "outputs": [],
   "source": [
    "#Outliers in Price\n",
    "for x in ['Price']:\n",
    "    q75,q25 = np.percentile(housing.loc[:,x],[75,25])\n",
    "    intr_qr = q75-q25\n",
    " \n",
    "    max = q75+(1.5*intr_qr)\n",
    "    min = q25-(1.5*intr_qr)\n",
    "   #replacing with nan\n",
    "    housing.loc[housing[x] < min,x] = np.nan\n",
    "    housing.loc[housing[x] > max,x] = np.nan \n"
   ]
  },
  {
   "cell_type": "code",
   "execution_count": null,
   "id": "51086266",
   "metadata": {
    "execution": {
     "iopub.execute_input": "2022-09-18T06:21:56.082453Z",
     "iopub.status.busy": "2022-09-18T06:21:56.081641Z",
     "iopub.status.idle": "2022-09-18T06:21:56.100956Z",
     "shell.execute_reply": "2022-09-18T06:21:56.099567Z",
     "shell.execute_reply.started": "2022-09-18T06:21:56.082406Z"
    },
    "papermill": {
     "duration": null,
     "end_time": null,
     "exception": null,
     "start_time": null,
     "status": "pending"
    },
    "tags": []
   },
   "outputs": [],
   "source": [
    "#seeing null values\n",
    "housing.isnull().sum()"
   ]
  },
  {
   "cell_type": "code",
   "execution_count": null,
   "id": "f748c914",
   "metadata": {
    "execution": {
     "iopub.execute_input": "2022-09-18T06:21:59.482481Z",
     "iopub.status.busy": "2022-09-18T06:21:59.482046Z",
     "iopub.status.idle": "2022-09-18T06:21:59.489125Z",
     "shell.execute_reply": "2022-09-18T06:21:59.487941Z",
     "shell.execute_reply.started": "2022-09-18T06:21:59.482443Z"
    },
    "papermill": {
     "duration": null,
     "end_time": null,
     "exception": null,
     "start_time": null,
     "status": "pending"
    },
    "tags": []
   },
   "outputs": [],
   "source": [
    "#replacing nan with mean value\n",
    "housing['Price'].replace(np.nan, avg_price, inplace=True)"
   ]
  },
  {
   "cell_type": "code",
   "execution_count": null,
   "id": "c65bf400",
   "metadata": {
    "execution": {
     "iopub.execute_input": "2022-09-18T06:53:28.590659Z",
     "iopub.status.busy": "2022-09-18T06:53:28.590219Z",
     "iopub.status.idle": "2022-09-18T06:53:28.747836Z",
     "shell.execute_reply": "2022-09-18T06:53:28.746611Z",
     "shell.execute_reply.started": "2022-09-18T06:53:28.590621Z"
    },
    "papermill": {
     "duration": null,
     "end_time": null,
     "exception": null,
     "start_time": null,
     "status": "pending"
    },
    "tags": []
   },
   "outputs": [],
   "source": [
    "#seeing the outliers for Distance\n",
    "sns.boxplot(housing['Distance'])"
   ]
  },
  {
   "cell_type": "code",
   "execution_count": null,
   "id": "b001b83b",
   "metadata": {
    "execution": {
     "iopub.execute_input": "2022-09-18T06:23:25.249831Z",
     "iopub.status.busy": "2022-09-18T06:23:25.248984Z",
     "iopub.status.idle": "2022-09-18T06:23:25.261091Z",
     "shell.execute_reply": "2022-09-18T06:23:25.259876Z",
     "shell.execute_reply.started": "2022-09-18T06:23:25.249788Z"
    },
    "papermill": {
     "duration": null,
     "end_time": null,
     "exception": null,
     "start_time": null,
     "status": "pending"
    },
    "tags": []
   },
   "outputs": [],
   "source": [
    "#checking z score\n",
    "z = np.abs(stats.zscore(housing['Distance']))\n",
    "print(z)"
   ]
  },
  {
   "cell_type": "code",
   "execution_count": null,
   "id": "807ef172",
   "metadata": {
    "execution": {
     "iopub.execute_input": "2022-09-18T06:23:27.755208Z",
     "iopub.status.busy": "2022-09-18T06:23:27.754809Z",
     "iopub.status.idle": "2022-09-18T06:23:27.763997Z",
     "shell.execute_reply": "2022-09-18T06:23:27.762849Z",
     "shell.execute_reply.started": "2022-09-18T06:23:27.755176Z"
    },
    "papermill": {
     "duration": null,
     "end_time": null,
     "exception": null,
     "start_time": null,
     "status": "pending"
    },
    "tags": []
   },
   "outputs": [],
   "source": [
    "#Outliers in Distance\n",
    "for x in ['Distance']:\n",
    "    q75,q25 = np.percentile(housing.loc[:,x],[75,25])\n",
    "    intr_qr = q75-q25\n",
    " \n",
    "    max = q75+(1.5*intr_qr)\n",
    "    min = q25-(1.5*intr_qr)\n",
    "   #replacing with nan\n",
    "    housing.loc[housing[x] < min,x] = np.nan\n",
    "    housing.loc[housing[x] > max,x] = np.nan "
   ]
  },
  {
   "cell_type": "code",
   "execution_count": null,
   "id": "334368f0",
   "metadata": {
    "execution": {
     "iopub.execute_input": "2022-09-18T06:53:41.983627Z",
     "iopub.status.busy": "2022-09-18T06:53:41.983213Z",
     "iopub.status.idle": "2022-09-18T06:53:42.002743Z",
     "shell.execute_reply": "2022-09-18T06:53:42.001643Z",
     "shell.execute_reply.started": "2022-09-18T06:53:41.983593Z"
    },
    "papermill": {
     "duration": null,
     "end_time": null,
     "exception": null,
     "start_time": null,
     "status": "pending"
    },
    "tags": []
   },
   "outputs": [],
   "source": [
    "#seeing null values\n",
    "housing.isnull().sum()"
   ]
  },
  {
   "cell_type": "code",
   "execution_count": null,
   "id": "3252cf42",
   "metadata": {
    "execution": {
     "iopub.execute_input": "2022-09-18T06:24:25.569354Z",
     "iopub.status.busy": "2022-09-18T06:24:25.568930Z",
     "iopub.status.idle": "2022-09-18T06:24:25.576169Z",
     "shell.execute_reply": "2022-09-18T06:24:25.574932Z",
     "shell.execute_reply.started": "2022-09-18T06:24:25.569324Z"
    },
    "papermill": {
     "duration": null,
     "end_time": null,
     "exception": null,
     "start_time": null,
     "status": "pending"
    },
    "tags": []
   },
   "outputs": [],
   "source": [
    "#replacing nan with mean value\n",
    "housing['Distance'].replace(np.nan, avg_dist, inplace=True)"
   ]
  },
  {
   "cell_type": "code",
   "execution_count": null,
   "id": "393a1ed0",
   "metadata": {
    "execution": {
     "iopub.execute_input": "2022-09-18T06:54:03.484324Z",
     "iopub.status.busy": "2022-09-18T06:54:03.483688Z",
     "iopub.status.idle": "2022-09-18T06:54:03.651380Z",
     "shell.execute_reply": "2022-09-18T06:54:03.650428Z",
     "shell.execute_reply.started": "2022-09-18T06:54:03.484278Z"
    },
    "papermill": {
     "duration": null,
     "end_time": null,
     "exception": null,
     "start_time": null,
     "status": "pending"
    },
    "tags": []
   },
   "outputs": [],
   "source": [
    "#seeing the outliers for BuildingArea\n",
    "sns.boxplot(housing['BuildingArea'])"
   ]
  },
  {
   "cell_type": "code",
   "execution_count": null,
   "id": "bc273147",
   "metadata": {
    "execution": {
     "iopub.execute_input": "2022-09-18T06:53:49.172620Z",
     "iopub.status.busy": "2022-09-18T06:53:49.172158Z",
     "iopub.status.idle": "2022-09-18T06:53:49.183004Z",
     "shell.execute_reply": "2022-09-18T06:53:49.181606Z",
     "shell.execute_reply.started": "2022-09-18T06:53:49.172580Z"
    },
    "papermill": {
     "duration": null,
     "end_time": null,
     "exception": null,
     "start_time": null,
     "status": "pending"
    },
    "tags": []
   },
   "outputs": [],
   "source": [
    "#checking z score\n",
    "z = np.abs(stats.zscore(housing['BuildingArea']))\n",
    "print(z)"
   ]
  },
  {
   "cell_type": "code",
   "execution_count": null,
   "id": "3a14f537",
   "metadata": {
    "execution": {
     "iopub.execute_input": "2022-09-18T06:53:50.707203Z",
     "iopub.status.busy": "2022-09-18T06:53:50.706773Z",
     "iopub.status.idle": "2022-09-18T06:53:50.717111Z",
     "shell.execute_reply": "2022-09-18T06:53:50.716206Z",
     "shell.execute_reply.started": "2022-09-18T06:53:50.707167Z"
    },
    "papermill": {
     "duration": null,
     "end_time": null,
     "exception": null,
     "start_time": null,
     "status": "pending"
    },
    "tags": []
   },
   "outputs": [],
   "source": [
    "#Outliers in BuildingArea\n",
    "for x in ['BuildingArea']:\n",
    "    q75,q25 = np.percentile(housing.loc[:,x],[75,25])\n",
    "    intr_qr = q75-q25\n",
    " \n",
    "    max = q75+(1.5*intr_qr)\n",
    "    min = q25-(1.5*intr_qr)\n",
    "   #replacing with nan\n",
    "    housing.loc[housing[x] < min,x] = np.nan\n",
    "    housing.loc[housing[x] > max,x] = np.nan "
   ]
  },
  {
   "cell_type": "code",
   "execution_count": null,
   "id": "f87441ab",
   "metadata": {
    "execution": {
     "iopub.execute_input": "2022-09-18T06:53:59.980751Z",
     "iopub.status.busy": "2022-09-18T06:53:59.979892Z",
     "iopub.status.idle": "2022-09-18T06:53:59.998130Z",
     "shell.execute_reply": "2022-09-18T06:53:59.996983Z",
     "shell.execute_reply.started": "2022-09-18T06:53:59.980713Z"
    },
    "papermill": {
     "duration": null,
     "end_time": null,
     "exception": null,
     "start_time": null,
     "status": "pending"
    },
    "tags": []
   },
   "outputs": [],
   "source": [
    "#seeing null values\n",
    "housing.isnull().sum()"
   ]
  },
  {
   "cell_type": "code",
   "execution_count": null,
   "id": "c4da70a8",
   "metadata": {
    "execution": {
     "iopub.execute_input": "2022-09-18T06:53:56.825359Z",
     "iopub.status.busy": "2022-09-18T06:53:56.824918Z",
     "iopub.status.idle": "2022-09-18T06:53:56.832792Z",
     "shell.execute_reply": "2022-09-18T06:53:56.831915Z",
     "shell.execute_reply.started": "2022-09-18T06:53:56.825323Z"
    },
    "papermill": {
     "duration": null,
     "end_time": null,
     "exception": null,
     "start_time": null,
     "status": "pending"
    },
    "tags": []
   },
   "outputs": [],
   "source": [
    "#replacing nan with mean value\n",
    "housing['BuildingArea'].replace(np.nan, avg_BA, inplace=True)"
   ]
  },
  {
   "cell_type": "code",
   "execution_count": null,
   "id": "fb20f5c2",
   "metadata": {
    "execution": {
     "iopub.execute_input": "2022-09-18T06:56:27.970868Z",
     "iopub.status.busy": "2022-09-18T06:56:27.969732Z",
     "iopub.status.idle": "2022-09-18T06:56:28.143728Z",
     "shell.execute_reply": "2022-09-18T06:56:28.142613Z",
     "shell.execute_reply.started": "2022-09-18T06:56:27.970825Z"
    },
    "papermill": {
     "duration": null,
     "end_time": null,
     "exception": null,
     "start_time": null,
     "status": "pending"
    },
    "tags": []
   },
   "outputs": [],
   "source": [
    "#seeing the outliers for Lattitude\n",
    "sns.boxplot(housing['Lattitude'])"
   ]
  },
  {
   "cell_type": "code",
   "execution_count": null,
   "id": "6ca08115",
   "metadata": {
    "execution": {
     "iopub.execute_input": "2022-09-18T06:56:25.432642Z",
     "iopub.status.busy": "2022-09-18T06:56:25.431872Z",
     "iopub.status.idle": "2022-09-18T06:56:25.441582Z",
     "shell.execute_reply": "2022-09-18T06:56:25.440465Z",
     "shell.execute_reply.started": "2022-09-18T06:56:25.432602Z"
    },
    "papermill": {
     "duration": null,
     "end_time": null,
     "exception": null,
     "start_time": null,
     "status": "pending"
    },
    "tags": []
   },
   "outputs": [],
   "source": [
    "#checking z score\n",
    "z = np.abs(stats.zscore(housing['Lattitude']))\n",
    "print(z)"
   ]
  },
  {
   "cell_type": "code",
   "execution_count": null,
   "id": "a76167d8",
   "metadata": {
    "execution": {
     "iopub.execute_input": "2022-09-18T06:55:25.223781Z",
     "iopub.status.busy": "2022-09-18T06:55:25.223367Z",
     "iopub.status.idle": "2022-09-18T06:55:25.233545Z",
     "shell.execute_reply": "2022-09-18T06:55:25.232416Z",
     "shell.execute_reply.started": "2022-09-18T06:55:25.223733Z"
    },
    "papermill": {
     "duration": null,
     "end_time": null,
     "exception": null,
     "start_time": null,
     "status": "pending"
    },
    "tags": []
   },
   "outputs": [],
   "source": [
    "#Outliers in lattitude\n",
    "for x in ['Lattitude']:\n",
    "    q75,q25 = np.percentile(housing.loc[:,x],[75,25])\n",
    "    intr_qr = q75-q25\n",
    " \n",
    "    max = q75+(1.5*intr_qr)\n",
    "    min = q25-(1.5*intr_qr)\n",
    "   #replacing with nan\n",
    "    housing.loc[housing[x] < min,x] = np.nan\n",
    "    housing.loc[housing[x] > max,x] = np.nan "
   ]
  },
  {
   "cell_type": "code",
   "execution_count": null,
   "id": "f57380b3",
   "metadata": {
    "execution": {
     "iopub.execute_input": "2022-09-18T06:56:22.553464Z",
     "iopub.status.busy": "2022-09-18T06:56:22.553063Z",
     "iopub.status.idle": "2022-09-18T06:56:22.571418Z",
     "shell.execute_reply": "2022-09-18T06:56:22.570161Z",
     "shell.execute_reply.started": "2022-09-18T06:56:22.553422Z"
    },
    "papermill": {
     "duration": null,
     "end_time": null,
     "exception": null,
     "start_time": null,
     "status": "pending"
    },
    "tags": []
   },
   "outputs": [],
   "source": [
    "#seeing null values\n",
    "housing.isnull().sum()"
   ]
  },
  {
   "cell_type": "code",
   "execution_count": null,
   "id": "ee09334c",
   "metadata": {
    "execution": {
     "iopub.execute_input": "2022-09-18T06:56:20.883140Z",
     "iopub.status.busy": "2022-09-18T06:56:20.882710Z",
     "iopub.status.idle": "2022-09-18T06:56:20.888526Z",
     "shell.execute_reply": "2022-09-18T06:56:20.887722Z",
     "shell.execute_reply.started": "2022-09-18T06:56:20.883108Z"
    },
    "papermill": {
     "duration": null,
     "end_time": null,
     "exception": null,
     "start_time": null,
     "status": "pending"
    },
    "tags": []
   },
   "outputs": [],
   "source": [
    "#replacing nan with mean value\n",
    "housing['Lattitude'].replace(np.nan, avg_LT, inplace=True)"
   ]
  },
  {
   "cell_type": "code",
   "execution_count": null,
   "id": "57545f96",
   "metadata": {
    "execution": {
     "iopub.execute_input": "2022-09-18T06:57:09.916723Z",
     "iopub.status.busy": "2022-09-18T06:57:09.916315Z",
     "iopub.status.idle": "2022-09-18T06:57:10.094306Z",
     "shell.execute_reply": "2022-09-18T06:57:10.093156Z",
     "shell.execute_reply.started": "2022-09-18T06:57:09.916690Z"
    },
    "papermill": {
     "duration": null,
     "end_time": null,
     "exception": null,
     "start_time": null,
     "status": "pending"
    },
    "tags": []
   },
   "outputs": [],
   "source": [
    "#seeing the outliers for Longtitude\n",
    "sns.boxplot(housing['Longtitude'])"
   ]
  },
  {
   "cell_type": "code",
   "execution_count": null,
   "id": "e3b35500",
   "metadata": {
    "execution": {
     "iopub.execute_input": "2022-09-18T06:56:54.130617Z",
     "iopub.status.busy": "2022-09-18T06:56:54.129682Z",
     "iopub.status.idle": "2022-09-18T06:56:54.141325Z",
     "shell.execute_reply": "2022-09-18T06:56:54.140026Z",
     "shell.execute_reply.started": "2022-09-18T06:56:54.130577Z"
    },
    "papermill": {
     "duration": null,
     "end_time": null,
     "exception": null,
     "start_time": null,
     "status": "pending"
    },
    "tags": []
   },
   "outputs": [],
   "source": [
    "#checking z score\n",
    "z = np.abs(stats.zscore(housing['Longtitude']))\n",
    "print(z)"
   ]
  },
  {
   "cell_type": "code",
   "execution_count": null,
   "id": "6dcef757",
   "metadata": {
    "execution": {
     "iopub.execute_input": "2022-09-18T06:56:57.670546Z",
     "iopub.status.busy": "2022-09-18T06:56:57.670130Z",
     "iopub.status.idle": "2022-09-18T06:56:57.680373Z",
     "shell.execute_reply": "2022-09-18T06:56:57.679356Z",
     "shell.execute_reply.started": "2022-09-18T06:56:57.670500Z"
    },
    "papermill": {
     "duration": null,
     "end_time": null,
     "exception": null,
     "start_time": null,
     "status": "pending"
    },
    "tags": []
   },
   "outputs": [],
   "source": [
    "#Outliers in Longtitude\n",
    "for x in ['Longtitude']:\n",
    "    q75,q25 = np.percentile(housing.loc[:,x],[75,25])\n",
    "    intr_qr = q75-q25\n",
    " \n",
    "    max = q75+(1.5*intr_qr)\n",
    "    min = q25-(1.5*intr_qr)\n",
    "   #replacing with nan\n",
    "    housing.loc[housing[x] < min,x] = np.nan\n",
    "    housing.loc[housing[x] > max,x] = np.nan "
   ]
  },
  {
   "cell_type": "code",
   "execution_count": null,
   "id": "3e5f84bd",
   "metadata": {
    "execution": {
     "iopub.execute_input": "2022-09-18T06:57:05.104349Z",
     "iopub.status.busy": "2022-09-18T06:57:05.103730Z",
     "iopub.status.idle": "2022-09-18T06:57:05.120477Z",
     "shell.execute_reply": "2022-09-18T06:57:05.119201Z",
     "shell.execute_reply.started": "2022-09-18T06:57:05.104313Z"
    },
    "papermill": {
     "duration": null,
     "end_time": null,
     "exception": null,
     "start_time": null,
     "status": "pending"
    },
    "tags": []
   },
   "outputs": [],
   "source": [
    "#seeing null values\n",
    "housing.isnull().sum()"
   ]
  },
  {
   "cell_type": "code",
   "execution_count": null,
   "id": "efe74bef",
   "metadata": {
    "execution": {
     "iopub.execute_input": "2022-09-18T06:57:02.710619Z",
     "iopub.status.busy": "2022-09-18T06:57:02.709726Z",
     "iopub.status.idle": "2022-09-18T06:57:02.715705Z",
     "shell.execute_reply": "2022-09-18T06:57:02.714769Z",
     "shell.execute_reply.started": "2022-09-18T06:57:02.710581Z"
    },
    "papermill": {
     "duration": null,
     "end_time": null,
     "exception": null,
     "start_time": null,
     "status": "pending"
    },
    "tags": []
   },
   "outputs": [],
   "source": [
    "#replacing nan with mean value\n",
    "housing['Longtitude'].replace(np.nan, avg_LO, inplace=True)"
   ]
  },
  {
   "cell_type": "code",
   "execution_count": null,
   "id": "b8f18a71",
   "metadata": {
    "execution": {
     "iopub.execute_input": "2022-09-18T06:25:29.274252Z",
     "iopub.status.busy": "2022-09-18T06:25:29.273261Z",
     "iopub.status.idle": "2022-09-18T06:25:29.431155Z",
     "shell.execute_reply": "2022-09-18T06:25:29.429945Z",
     "shell.execute_reply.started": "2022-09-18T06:25:29.274198Z"
    },
    "papermill": {
     "duration": null,
     "end_time": null,
     "exception": null,
     "start_time": null,
     "status": "pending"
    },
    "tags": []
   },
   "outputs": [],
   "source": [
    "#seeing the outliers for Landsize\n",
    "sns.boxplot(housing['Landsize'])"
   ]
  },
  {
   "cell_type": "code",
   "execution_count": null,
   "id": "03e366c5",
   "metadata": {
    "execution": {
     "iopub.execute_input": "2022-09-18T06:25:13.886881Z",
     "iopub.status.busy": "2022-09-18T06:25:13.886200Z",
     "iopub.status.idle": "2022-09-18T06:25:13.895301Z",
     "shell.execute_reply": "2022-09-18T06:25:13.894439Z",
     "shell.execute_reply.started": "2022-09-18T06:25:13.886846Z"
    },
    "papermill": {
     "duration": null,
     "end_time": null,
     "exception": null,
     "start_time": null,
     "status": "pending"
    },
    "tags": []
   },
   "outputs": [],
   "source": [
    "#checking z score\n",
    "z = np.abs(stats.zscore(housing['Landsize']))\n",
    "print(z)"
   ]
  },
  {
   "cell_type": "code",
   "execution_count": null,
   "id": "9e6f98e6",
   "metadata": {
    "execution": {
     "iopub.execute_input": "2022-09-18T06:25:16.085979Z",
     "iopub.status.busy": "2022-09-18T06:25:16.085554Z",
     "iopub.status.idle": "2022-09-18T06:25:16.099467Z",
     "shell.execute_reply": "2022-09-18T06:25:16.098337Z",
     "shell.execute_reply.started": "2022-09-18T06:25:16.085944Z"
    },
    "papermill": {
     "duration": null,
     "end_time": null,
     "exception": null,
     "start_time": null,
     "status": "pending"
    },
    "tags": []
   },
   "outputs": [],
   "source": [
    "#Outliers in Landsize\n",
    "for x in ['Landsize']:\n",
    "    q75,q25 = np.percentile(housing.loc[:,x],[75,25])\n",
    "    intr_qr = q75-q25\n",
    " \n",
    "    max = q75+(1.5*intr_qr)\n",
    "    min = q25-(1.5*intr_qr)\n",
    "   #replacing with nan\n",
    "    housing.loc[housing[x] < min,x] = np.nan\n",
    "    housing.loc[housing[x] > max,x] = np.nan "
   ]
  },
  {
   "cell_type": "code",
   "execution_count": null,
   "id": "8ae05858",
   "metadata": {
    "execution": {
     "iopub.execute_input": "2022-09-18T06:25:24.142658Z",
     "iopub.status.busy": "2022-09-18T06:25:24.141385Z",
     "iopub.status.idle": "2022-09-18T06:25:24.160222Z",
     "shell.execute_reply": "2022-09-18T06:25:24.159346Z",
     "shell.execute_reply.started": "2022-09-18T06:25:24.142611Z"
    },
    "papermill": {
     "duration": null,
     "end_time": null,
     "exception": null,
     "start_time": null,
     "status": "pending"
    },
    "tags": []
   },
   "outputs": [],
   "source": [
    "#seeing null values\n",
    "housing.isnull().sum()"
   ]
  },
  {
   "cell_type": "code",
   "execution_count": null,
   "id": "86942630",
   "metadata": {
    "execution": {
     "iopub.execute_input": "2022-09-18T06:25:20.038740Z",
     "iopub.status.busy": "2022-09-18T06:25:20.038317Z",
     "iopub.status.idle": "2022-09-18T06:25:20.045493Z",
     "shell.execute_reply": "2022-09-18T06:25:20.044482Z",
     "shell.execute_reply.started": "2022-09-18T06:25:20.038703Z"
    },
    "papermill": {
     "duration": null,
     "end_time": null,
     "exception": null,
     "start_time": null,
     "status": "pending"
    },
    "tags": []
   },
   "outputs": [],
   "source": [
    "#replacing nan with mean value\n",
    "housing['Landsize'].replace(np.nan, avg_LS, inplace=True)"
   ]
  },
  {
   "cell_type": "markdown",
   "id": "650fef85",
   "metadata": {
    "papermill": {
     "duration": null,
     "end_time": null,
     "exception": null,
     "start_time": null,
     "status": "pending"
    },
    "tags": []
   },
   "source": [
    "**Normality**\n",
    "\n",
    "We will check if the data is normally distributed or not. The data should be in form pf bell curve. "
   ]
  }
 ],
 "metadata": {
  "kernelspec": {
   "display_name": "Python 3",
   "language": "python",
   "name": "python3"
  },
  "language_info": {
   "codemirror_mode": {
    "name": "ipython",
    "version": 3
   },
   "file_extension": ".py",
   "mimetype": "text/x-python",
   "name": "python",
   "nbconvert_exporter": "python",
   "pygments_lexer": "ipython3",
   "version": "3.7.12"
  },
  "papermill": {
   "default_parameters": {},
   "duration": 13.753369,
   "end_time": "2022-09-18T06:57:57.417049",
   "environment_variables": {},
   "exception": true,
   "input_path": "__notebook__.ipynb",
   "output_path": "__notebook__.ipynb",
   "parameters": {},
   "start_time": "2022-09-18T06:57:43.663680",
   "version": "2.3.4"
  }
 },
 "nbformat": 4,
 "nbformat_minor": 5
}
