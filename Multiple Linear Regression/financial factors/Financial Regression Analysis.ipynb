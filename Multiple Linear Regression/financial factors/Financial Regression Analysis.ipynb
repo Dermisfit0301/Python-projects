{
 "cells": [
  {
   "cell_type": "markdown",
   "id": "1fe05195",
   "metadata": {},
   "source": [
    "# Financial Regression Analysis\n",
    "\n",
    "In this assignment our job is to find the best Multiple Linear Regression algorithm to predict the dependent variable MKT. Also we have to check for multicollinearity in the dataset and drop the responsible variables. "
   ]
  },
  {
   "cell_type": "code",
   "execution_count": 23,
   "id": "746a2e6d",
   "metadata": {},
   "outputs": [],
   "source": [
    "#importing packages\n",
    "import pandas as pd\n",
    "from sklearn.model_selection import train_test_split\n",
    "from sklearn.ensemble import RandomForestRegressor\n",
    "from sklearn.svm import SVR\n",
    "from sklearn.linear_model import LinearRegression, Ridge, Lasso, ElasticNet\n",
    "from sklearn.metrics import mean_squared_error\n",
    "from statsmodels.stats.outliers_influence import variance_inflation_factor\n",
    "import statsmodels.api as sm\n",
    "import seaborn as sns\n",
    "import matplotlib.pyplot as plt\n",
    "from sklearn.metrics import r2_score"
   ]
  },
  {
   "cell_type": "code",
   "execution_count": 6,
   "id": "086bcf8b",
   "metadata": {},
   "outputs": [
    {
     "data": {
      "text/html": [
       "<div>\n",
       "<style scoped>\n",
       "    .dataframe tbody tr th:only-of-type {\n",
       "        vertical-align: middle;\n",
       "    }\n",
       "\n",
       "    .dataframe tbody tr th {\n",
       "        vertical-align: top;\n",
       "    }\n",
       "\n",
       "    .dataframe thead th {\n",
       "        text-align: right;\n",
       "    }\n",
       "</style>\n",
       "<table border=\"1\" class=\"dataframe\">\n",
       "  <thead>\n",
       "    <tr style=\"text-align: right;\">\n",
       "      <th></th>\n",
       "      <th>Dates</th>\n",
       "      <th>MF</th>\n",
       "      <th>SMB5</th>\n",
       "      <th>HML</th>\n",
       "      <th>RMW</th>\n",
       "      <th>CMA</th>\n",
       "      <th>WML</th>\n",
       "      <th>RF</th>\n",
       "      <th>MKT</th>\n",
       "    </tr>\n",
       "  </thead>\n",
       "  <tbody>\n",
       "    <tr>\n",
       "      <th>0</th>\n",
       "      <td>2004-10-31</td>\n",
       "      <td>101.446400</td>\n",
       "      <td>100.354200</td>\n",
       "      <td>97.841700</td>\n",
       "      <td>102.257900</td>\n",
       "      <td>96.783700</td>\n",
       "      <td>102.785500</td>\n",
       "      <td>100.387700</td>\n",
       "      <td>101.834100</td>\n",
       "    </tr>\n",
       "    <tr>\n",
       "      <th>1</th>\n",
       "      <td>2004-11-30</td>\n",
       "      <td>111.414754</td>\n",
       "      <td>106.534864</td>\n",
       "      <td>105.178536</td>\n",
       "      <td>105.167639</td>\n",
       "      <td>99.874608</td>\n",
       "      <td>103.105295</td>\n",
       "      <td>102.278199</td>\n",
       "      <td>111.858751</td>\n",
       "    </tr>\n",
       "    <tr>\n",
       "      <th>2</th>\n",
       "      <td>2004-12-31</td>\n",
       "      <td>121.991140</td>\n",
       "      <td>117.422493</td>\n",
       "      <td>115.928284</td>\n",
       "      <td>112.852392</td>\n",
       "      <td>112.678340</td>\n",
       "      <td>107.825124</td>\n",
       "      <td>112.403055</td>\n",
       "      <td>122.535557</td>\n",
       "    </tr>\n",
       "    <tr>\n",
       "      <th>3</th>\n",
       "      <td>2005-01-31</td>\n",
       "      <td>120.595329</td>\n",
       "      <td>124.347000</td>\n",
       "      <td>120.726074</td>\n",
       "      <td>125.064690</td>\n",
       "      <td>120.920415</td>\n",
       "      <td>126.403882</td>\n",
       "      <td>123.029620</td>\n",
       "      <td>121.089392</td>\n",
       "    </tr>\n",
       "    <tr>\n",
       "      <th>4</th>\n",
       "      <td>2005-02-28</td>\n",
       "      <td>125.340598</td>\n",
       "      <td>125.947498</td>\n",
       "      <td>125.315533</td>\n",
       "      <td>120.335247</td>\n",
       "      <td>120.266468</td>\n",
       "      <td>124.285062</td>\n",
       "      <td>121.597362</td>\n",
       "      <td>125.848568</td>\n",
       "    </tr>\n",
       "  </tbody>\n",
       "</table>\n",
       "</div>"
      ],
      "text/plain": [
       "       Dates          MF        SMB5         HML         RMW         CMA  \\\n",
       "0 2004-10-31  101.446400  100.354200   97.841700  102.257900   96.783700   \n",
       "1 2004-11-30  111.414754  106.534864  105.178536  105.167639   99.874608   \n",
       "2 2004-12-31  121.991140  117.422493  115.928284  112.852392  112.678340   \n",
       "3 2005-01-31  120.595329  124.347000  120.726074  125.064690  120.920415   \n",
       "4 2005-02-28  125.340598  125.947498  125.315533  120.335247  120.266468   \n",
       "\n",
       "          WML          RF         MKT  \n",
       "0  102.785500  100.387700  101.834100  \n",
       "1  103.105295  102.278199  111.858751  \n",
       "2  107.825124  112.403055  122.535557  \n",
       "3  126.403882  123.029620  121.089392  \n",
       "4  124.285062  121.597362  125.848568  "
      ]
     },
     "execution_count": 6,
     "metadata": {},
     "output_type": "execute_result"
    }
   ],
   "source": [
    "# Loading the data\n",
    "data = pd.read_excel('C:\\\\Users\\\\sujoydutta\\\\Desktop\\\\Data analysis\\\\Datasets for ML\\\\Regression\\\\Financial analysis Regression.xlsx')\n",
    "data.head()\n",
    "\n"
   ]
  },
  {
   "cell_type": "code",
   "execution_count": 7,
   "id": "042bc055",
   "metadata": {},
   "outputs": [],
   "source": [
    "#dropping unnecessary columns\n",
    "data=data.drop(['Dates'],axis=1)"
   ]
  },
  {
   "cell_type": "code",
   "execution_count": 8,
   "id": "8dcf10ad",
   "metadata": {},
   "outputs": [
    {
     "name": "stdout",
     "output_type": "stream",
     "text": [
      "<class 'pandas.core.frame.DataFrame'>\n",
      "RangeIndex: 228 entries, 0 to 227\n",
      "Data columns (total 8 columns):\n",
      " #   Column  Non-Null Count  Dtype  \n",
      "---  ------  --------------  -----  \n",
      " 0   MF      228 non-null    float64\n",
      " 1   SMB5    228 non-null    float64\n",
      " 2   HML     228 non-null    float64\n",
      " 3   RMW     228 non-null    float64\n",
      " 4   CMA     228 non-null    float64\n",
      " 5   WML     228 non-null    float64\n",
      " 6   RF      228 non-null    float64\n",
      " 7   MKT     228 non-null    float64\n",
      "dtypes: float64(8)\n",
      "memory usage: 14.4 KB\n"
     ]
    }
   ],
   "source": [
    "#examining dataset\n",
    "data.info()\n"
   ]
  },
  {
   "cell_type": "code",
   "execution_count": 11,
   "id": "1b81062b",
   "metadata": {},
   "outputs": [],
   "source": [
    "#splitting the dataset\n",
    "X = data.drop('MKT', axis=1)  \n",
    "y = data['MKT']\n"
   ]
  },
  {
   "cell_type": "code",
   "execution_count": 14,
   "id": "8eddc59c",
   "metadata": {},
   "outputs": [],
   "source": [
    "# Splitting the data into training and testing sets\n",
    "X_train, X_test, y_train, y_test = train_test_split(X, y, test_size=0.2, random_state=42)"
   ]
  },
  {
   "cell_type": "code",
   "execution_count": 15,
   "id": "4140e15b",
   "metadata": {},
   "outputs": [],
   "source": [
    "# Checking for multicollinearity using VIF\n",
    "def calculate_vif(data_frame):\n",
    "    vif_data = pd.DataFrame()\n",
    "    vif_data[\"Variable\"] = data_frame.columns\n",
    "    vif_data[\"VIF\"] = [variance_inflation_factor(data_frame.values, i) for i in range(data_frame.shape[1])]\n",
    "    return vif_data\n"
   ]
  },
  {
   "cell_type": "code",
   "execution_count": 16,
   "id": "b7aa4215",
   "metadata": {},
   "outputs": [
    {
     "name": "stdout",
     "output_type": "stream",
     "text": [
      "VIF:\n",
      "  Variable          VIF\n",
      "0       MF   652.084803\n",
      "1     SMB5   886.967150\n",
      "2      HML  2433.882103\n",
      "3      RMW  1058.752923\n",
      "4      CMA  2964.989412\n",
      "5      WML   941.793820\n",
      "6       RF  7914.419164\n"
     ]
    }
   ],
   "source": [
    "# Excluding the dependent variable from VIF calculation\n",
    "vif_data = calculate_vif(X_train)\n",
    "print(\"VIF:\")\n",
    "print(vif_data)"
   ]
  },
  {
   "cell_type": "markdown",
   "id": "3c4ee519",
   "metadata": {},
   "source": [
    "*Comment:\n",
    "There is high multicollinearity among the variables hence a correlation plot is needed to identify the ones responsible.* "
   ]
  },
  {
   "cell_type": "code",
   "execution_count": 18,
   "id": "219e7601",
   "metadata": {},
   "outputs": [
    {
     "data": {
      "text/html": [
       "<div>\n",
       "<style scoped>\n",
       "    .dataframe tbody tr th:only-of-type {\n",
       "        vertical-align: middle;\n",
       "    }\n",
       "\n",
       "    .dataframe tbody tr th {\n",
       "        vertical-align: top;\n",
       "    }\n",
       "\n",
       "    .dataframe thead th {\n",
       "        text-align: right;\n",
       "    }\n",
       "</style>\n",
       "<table border=\"1\" class=\"dataframe\">\n",
       "  <thead>\n",
       "    <tr style=\"text-align: right;\">\n",
       "      <th></th>\n",
       "      <th>MF</th>\n",
       "      <th>SMB5</th>\n",
       "      <th>HML</th>\n",
       "      <th>RMW</th>\n",
       "      <th>CMA</th>\n",
       "      <th>WML</th>\n",
       "      <th>RF</th>\n",
       "    </tr>\n",
       "  </thead>\n",
       "  <tbody>\n",
       "    <tr>\n",
       "      <th>MF</th>\n",
       "      <td>1.000000</td>\n",
       "      <td>0.996615</td>\n",
       "      <td>0.997558</td>\n",
       "      <td>0.993748</td>\n",
       "      <td>0.995987</td>\n",
       "      <td>0.994773</td>\n",
       "      <td>0.996995</td>\n",
       "    </tr>\n",
       "    <tr>\n",
       "      <th>SMB5</th>\n",
       "      <td>0.996615</td>\n",
       "      <td>1.000000</td>\n",
       "      <td>0.998244</td>\n",
       "      <td>0.994922</td>\n",
       "      <td>0.997454</td>\n",
       "      <td>0.996337</td>\n",
       "      <td>0.998150</td>\n",
       "    </tr>\n",
       "    <tr>\n",
       "      <th>HML</th>\n",
       "      <td>0.997558</td>\n",
       "      <td>0.998244</td>\n",
       "      <td>1.000000</td>\n",
       "      <td>0.995651</td>\n",
       "      <td>0.998848</td>\n",
       "      <td>0.996787</td>\n",
       "      <td>0.999000</td>\n",
       "    </tr>\n",
       "    <tr>\n",
       "      <th>RMW</th>\n",
       "      <td>0.993748</td>\n",
       "      <td>0.994922</td>\n",
       "      <td>0.995651</td>\n",
       "      <td>1.000000</td>\n",
       "      <td>0.996902</td>\n",
       "      <td>0.997790</td>\n",
       "      <td>0.997997</td>\n",
       "    </tr>\n",
       "    <tr>\n",
       "      <th>CMA</th>\n",
       "      <td>0.995987</td>\n",
       "      <td>0.997454</td>\n",
       "      <td>0.998848</td>\n",
       "      <td>0.996902</td>\n",
       "      <td>1.000000</td>\n",
       "      <td>0.997642</td>\n",
       "      <td>0.999447</td>\n",
       "    </tr>\n",
       "    <tr>\n",
       "      <th>WML</th>\n",
       "      <td>0.994773</td>\n",
       "      <td>0.996337</td>\n",
       "      <td>0.996787</td>\n",
       "      <td>0.997790</td>\n",
       "      <td>0.997642</td>\n",
       "      <td>1.000000</td>\n",
       "      <td>0.998295</td>\n",
       "    </tr>\n",
       "    <tr>\n",
       "      <th>RF</th>\n",
       "      <td>0.996995</td>\n",
       "      <td>0.998150</td>\n",
       "      <td>0.999000</td>\n",
       "      <td>0.997997</td>\n",
       "      <td>0.999447</td>\n",
       "      <td>0.998295</td>\n",
       "      <td>1.000000</td>\n",
       "    </tr>\n",
       "  </tbody>\n",
       "</table>\n",
       "</div>"
      ],
      "text/plain": [
       "            MF      SMB5       HML       RMW       CMA       WML        RF\n",
       "MF    1.000000  0.996615  0.997558  0.993748  0.995987  0.994773  0.996995\n",
       "SMB5  0.996615  1.000000  0.998244  0.994922  0.997454  0.996337  0.998150\n",
       "HML   0.997558  0.998244  1.000000  0.995651  0.998848  0.996787  0.999000\n",
       "RMW   0.993748  0.994922  0.995651  1.000000  0.996902  0.997790  0.997997\n",
       "CMA   0.995987  0.997454  0.998848  0.996902  1.000000  0.997642  0.999447\n",
       "WML   0.994773  0.996337  0.996787  0.997790  0.997642  1.000000  0.998295\n",
       "RF    0.996995  0.998150  0.999000  0.997997  0.999447  0.998295  1.000000"
      ]
     },
     "execution_count": 18,
     "metadata": {},
     "output_type": "execute_result"
    }
   ],
   "source": [
    "# Building a feature matrix\n",
    "correlation_matrix = X.corr()\n",
    "correlation_matrix"
   ]
  },
  {
   "cell_type": "code",
   "execution_count": 19,
   "id": "04feede5",
   "metadata": {},
   "outputs": [],
   "source": [
    "# Initialize models\n",
    "linear_model = LinearRegression()\n",
    "ridge_model = Ridge()\n",
    "lasso_model = Lasso()\n",
    "elastic_net_model = ElasticNet()\n",
    "svr_model = SVR()\n",
    "rf_model = RandomForestRegressor()"
   ]
  },
  {
   "cell_type": "code",
   "execution_count": 20,
   "id": "2e67d558",
   "metadata": {},
   "outputs": [],
   "source": [
    "# List of models\n",
    "models = [linear_model, ridge_model, lasso_model, elastic_net_model, svr_model, rf_model]\n"
   ]
  },
  {
   "cell_type": "code",
   "execution_count": 21,
   "id": "2956934d",
   "metadata": {},
   "outputs": [
    {
     "name": "stdout",
     "output_type": "stream",
     "text": [
      "LinearRegression Mean Squared Error: 1.3808772334733572\n",
      "Ridge Mean Squared Error: 1.3808948901963218\n",
      "Lasso Mean Squared Error: 1.481320896548156\n",
      "ElasticNet Mean Squared Error: 1.4809496756550669\n",
      "SVR Mean Squared Error: 373299.6261654502\n",
      "RandomForestRegressor Mean Squared Error: 843.0668650792112\n"
     ]
    }
   ],
   "source": [
    "# Iterate through models and evaluate MSE\n",
    "for model in models:\n",
    "    model.fit(X_train, y_train)\n",
    "    y_pred = model.predict(X_test)\n",
    "    mse = mean_squared_error(y_test, y_pred)\n",
    "    model_name = type(model).__name__\n",
    "    print(f\"{model_name} Mean Squared Error: {mse}\")"
   ]
  },
  {
   "cell_type": "markdown",
   "id": "1a0312af",
   "metadata": {},
   "source": [
    "**Observation**\n",
    "\n",
    "Considering both the R-squared values and mean squared errors, the linear models (Linear Regression, Ridge, Lasso, ElasticNet) perform well in terms of predictive accuracy and generalization to unseen data. The mean squared error for Linear Regression is slightly lower than the regularized models, making it the preferred choice for this dataset."
   ]
  },
  {
   "cell_type": "code",
   "execution_count": 24,
   "id": "df4a8eb6",
   "metadata": {},
   "outputs": [
    {
     "name": "stdout",
     "output_type": "stream",
     "text": [
      "LinearRegression R-squared: 0.9999954782806523\n",
      "Ridge R-squared: 0.9999954782228349\n",
      "Lasso R-squared: 0.9999951493751973\n",
      "ElasticNet R-squared: 0.99999515059077\n",
      "SVR R-squared: -0.22237958684380943\n",
      "RandomForestRegressor R-squared: 0.9971039141514757\n"
     ]
    }
   ],
   "source": [
    "# Iterate through models and evaluate R-squared\n",
    "for model in models:\n",
    "    model.fit(X_train, y_train)\n",
    "    y_pred = model.predict(X_test)\n",
    "    r_squared = r2_score(y_test, y_pred)\n",
    "    model_name = type(model).__name__\n",
    "    print(f\"{model_name} R-squared: {r_squared}\")"
   ]
  },
  {
   "cell_type": "markdown",
   "id": "febcbd4b",
   "metadata": {},
   "source": [
    "**Observation**\n",
    "\n",
    "Based on the R-squared values, all the linear models (Linear Regression, Ridge, Lasso, ElasticNet) perform exceptionally well, with R-squared values very close to 1. The SVR model, however, exhibits a negative R-squared, indicating poor performance.\n",
    "\n",
    "Considering the high R-squared values and simplicity, we recommend choosing the Linear Regression model for this dataset. It provides an excellent fit and is easier to interpret compared to the regularized models. "
   ]
  },
  {
   "cell_type": "code",
   "execution_count": 26,
   "id": "831fe390",
   "metadata": {},
   "outputs": [],
   "source": [
    "# Initialize the Linear Regression model\n",
    "linear_model = LinearRegression()\n",
    "\n"
   ]
  },
  {
   "cell_type": "code",
   "execution_count": 27,
   "id": "beed831a",
   "metadata": {},
   "outputs": [
    {
     "data": {
      "text/html": [
       "<style>#sk-container-id-1 {color: black;background-color: white;}#sk-container-id-1 pre{padding: 0;}#sk-container-id-1 div.sk-toggleable {background-color: white;}#sk-container-id-1 label.sk-toggleable__label {cursor: pointer;display: block;width: 100%;margin-bottom: 0;padding: 0.3em;box-sizing: border-box;text-align: center;}#sk-container-id-1 label.sk-toggleable__label-arrow:before {content: \"▸\";float: left;margin-right: 0.25em;color: #696969;}#sk-container-id-1 label.sk-toggleable__label-arrow:hover:before {color: black;}#sk-container-id-1 div.sk-estimator:hover label.sk-toggleable__label-arrow:before {color: black;}#sk-container-id-1 div.sk-toggleable__content {max-height: 0;max-width: 0;overflow: hidden;text-align: left;background-color: #f0f8ff;}#sk-container-id-1 div.sk-toggleable__content pre {margin: 0.2em;color: black;border-radius: 0.25em;background-color: #f0f8ff;}#sk-container-id-1 input.sk-toggleable__control:checked~div.sk-toggleable__content {max-height: 200px;max-width: 100%;overflow: auto;}#sk-container-id-1 input.sk-toggleable__control:checked~label.sk-toggleable__label-arrow:before {content: \"▾\";}#sk-container-id-1 div.sk-estimator input.sk-toggleable__control:checked~label.sk-toggleable__label {background-color: #d4ebff;}#sk-container-id-1 div.sk-label input.sk-toggleable__control:checked~label.sk-toggleable__label {background-color: #d4ebff;}#sk-container-id-1 input.sk-hidden--visually {border: 0;clip: rect(1px 1px 1px 1px);clip: rect(1px, 1px, 1px, 1px);height: 1px;margin: -1px;overflow: hidden;padding: 0;position: absolute;width: 1px;}#sk-container-id-1 div.sk-estimator {font-family: monospace;background-color: #f0f8ff;border: 1px dotted black;border-radius: 0.25em;box-sizing: border-box;margin-bottom: 0.5em;}#sk-container-id-1 div.sk-estimator:hover {background-color: #d4ebff;}#sk-container-id-1 div.sk-parallel-item::after {content: \"\";width: 100%;border-bottom: 1px solid gray;flex-grow: 1;}#sk-container-id-1 div.sk-label:hover label.sk-toggleable__label {background-color: #d4ebff;}#sk-container-id-1 div.sk-serial::before {content: \"\";position: absolute;border-left: 1px solid gray;box-sizing: border-box;top: 0;bottom: 0;left: 50%;z-index: 0;}#sk-container-id-1 div.sk-serial {display: flex;flex-direction: column;align-items: center;background-color: white;padding-right: 0.2em;padding-left: 0.2em;position: relative;}#sk-container-id-1 div.sk-item {position: relative;z-index: 1;}#sk-container-id-1 div.sk-parallel {display: flex;align-items: stretch;justify-content: center;background-color: white;position: relative;}#sk-container-id-1 div.sk-item::before, #sk-container-id-1 div.sk-parallel-item::before {content: \"\";position: absolute;border-left: 1px solid gray;box-sizing: border-box;top: 0;bottom: 0;left: 50%;z-index: -1;}#sk-container-id-1 div.sk-parallel-item {display: flex;flex-direction: column;z-index: 1;position: relative;background-color: white;}#sk-container-id-1 div.sk-parallel-item:first-child::after {align-self: flex-end;width: 50%;}#sk-container-id-1 div.sk-parallel-item:last-child::after {align-self: flex-start;width: 50%;}#sk-container-id-1 div.sk-parallel-item:only-child::after {width: 0;}#sk-container-id-1 div.sk-dashed-wrapped {border: 1px dashed gray;margin: 0 0.4em 0.5em 0.4em;box-sizing: border-box;padding-bottom: 0.4em;background-color: white;}#sk-container-id-1 div.sk-label label {font-family: monospace;font-weight: bold;display: inline-block;line-height: 1.2em;}#sk-container-id-1 div.sk-label-container {text-align: center;}#sk-container-id-1 div.sk-container {/* jupyter's `normalize.less` sets `[hidden] { display: none; }` but bootstrap.min.css set `[hidden] { display: none !important; }` so we also need the `!important` here to be able to override the default hidden behavior on the sphinx rendered scikit-learn.org. See: https://github.com/scikit-learn/scikit-learn/issues/21755 */display: inline-block !important;position: relative;}#sk-container-id-1 div.sk-text-repr-fallback {display: none;}</style><div id=\"sk-container-id-1\" class=\"sk-top-container\"><div class=\"sk-text-repr-fallback\"><pre>LinearRegression()</pre><b>In a Jupyter environment, please rerun this cell to show the HTML representation or trust the notebook. <br />On GitHub, the HTML representation is unable to render, please try loading this page with nbviewer.org.</b></div><div class=\"sk-container\" hidden><div class=\"sk-item\"><div class=\"sk-estimator sk-toggleable\"><input class=\"sk-toggleable__control sk-hidden--visually\" id=\"sk-estimator-id-1\" type=\"checkbox\" checked><label for=\"sk-estimator-id-1\" class=\"sk-toggleable__label sk-toggleable__label-arrow\">LinearRegression</label><div class=\"sk-toggleable__content\"><pre>LinearRegression()</pre></div></div></div></div></div>"
      ],
      "text/plain": [
       "LinearRegression()"
      ]
     },
     "execution_count": 27,
     "metadata": {},
     "output_type": "execute_result"
    }
   ],
   "source": [
    "\n",
    "# Fit the model on the training data\n",
    "linear_model.fit(X_train, y_train)\n"
   ]
  },
  {
   "cell_type": "code",
   "execution_count": 28,
   "id": "1c44c5e6",
   "metadata": {},
   "outputs": [],
   "source": [
    "# Predict on the test data\n",
    "y_pred1 = linear_model.predict(X_test)\n"
   ]
  },
  {
   "cell_type": "code",
   "execution_count": 29,
   "id": "0696aa49",
   "metadata": {},
   "outputs": [
    {
     "data": {
      "image/png": "[encoded data removed]",
      "text/plain": [
       "<Figure size 1000x800 with 1 Axes>"
      ]
     },
     "metadata": {},
     "output_type": "display_data"
    }
   ],
   "source": [
    "# Plotting the predicted vs actual values\n",
    "plt.figure(figsize=(10, 8))\n",
    "sns.regplot(x=y_test, y=y_pred, scatter_kws={'s': 50, 'alpha': 0.5}, line_kws={'color': 'red', 'linewidth': 2})\n",
    "plt.title('Multiple Linear Regression: Predicted vs Actual')\n",
    "plt.xlabel('Actual Values')\n",
    "plt.ylabel('Predicted Values')\n",
    "plt.show()"
   ]
  },
  {
   "cell_type": "markdown",
   "id": "86e68188",
   "metadata": {},
   "source": [
    "*Remarks:The image you sent is a line graph of predicted vs actual values. The red line represents the predicted values, while the blue line represents the actual values.\n",
    "The graph shows that the predicted values are generally close to the actual values, but there are some outliers, particularly at the lower end of the range. This suggests that the model is able to predict the values accurately for most cases, but it struggles to predict values for cases outside of its training data.*"
   ]
  }
 ],
 "metadata": {
  "kernelspec": {
   "display_name": "Python 3 (ipykernel)",
   "language": "python",
   "name": "python3"
  },
  "language_info": {
   "codemirror_mode": {
    "name": "ipython",
    "version": 3
   },
   "file_extension": ".py",
   "mimetype": "text/x-python",
   "name": "python",
   "nbconvert_exporter": "python",
   "pygments_lexer": "ipython3",
   "version": "3.9.12"
  }
 },
 "nbformat": 4,
 "nbformat_minor": 5
}
