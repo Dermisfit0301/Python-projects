{
 "cells": [
  {
   "cell_type": "markdown",
   "id": "1fdd2078",
   "metadata": {},
   "source": [
    "**Regression for Ad-cost**\n",
    "\n",
    "We will use regression to find out which method of advertisement can maximise our sales. \n"
   ]
  },
  {
   "cell_type": "code",
   "execution_count": 1,
   "id": "83292bd1",
   "metadata": {},
   "outputs": [],
   "source": [
    "#installing packages\n",
    "import numpy as np\n",
    "import pandas as pd\n",
    "import matplotlib as plt\n",
    "import seaborn as sb\n",
    "from scipy import stats\n",
    "from sklearn.linear_model import LinearRegression\n",
    "from sklearn.metrics import mean_squared_error\n",
    "from sklearn.pipeline import Pipeline\n",
    "from sklearn.preprocessing import StandardScaler\n",
    "from sklearn.preprocessing import PolynomialFeatures\n",
    "from sklearn.metrics import r2_score\n",
    "from sklearn.model_selection import train_test_split\n",
    "from sklearn.model_selection import cross_val_score\n",
    "from sklearn.model_selection import cross_val_predict\n",
    "from sklearn.linear_model import Ridge\n",
    "from sklearn.model_selection import GridSearchCV\n",
    "import os\n",
    "from collections import Counter\n",
    "from numpy import mean\n",
    "from numpy import std\n",
    "from pandas import read_csv\n",
    "from sklearn.model_selection import cross_val_score\n",
    "from sklearn.model_selection import RepeatedStratifiedKFold\n",
    "from sklearn.metrics import precision_recall_curve\n",
    "from sklearn.metrics import auc\n",
    "from sklearn.metrics import make_scorer\n",
    "from sklearn.dummy import DummyClassifier\n",
    "from sklearn.preprocessing import StandardScaler\n",
    "from sklearn.neighbors import KNeighborsClassifier\n",
    "from sklearn.pipeline import Pipeline\n",
    "from sklearn.model_selection import cross_val_score\n",
    "from sklearn.model_selection import RepeatedStratifiedKFold\n",
    "from sklearn.metrics import precision_recall_curve\n",
    "from sklearn.metrics import auc\n",
    "from sklearn.metrics import make_scorer\n",
    "from sklearn.tree import DecisionTreeClassifier\n",
    "from sklearn.neighbors import KNeighborsClassifier\n",
    "from sklearn.ensemble import RandomForestClassifier\n",
    "from sklearn.ensemble import ExtraTreesClassifier\n",
    "from sklearn.ensemble import BaggingClassifier\n",
    "from sklearn.naive_bayes import GaussianNB\n",
    "from pandas import Series;  from numpy.random import randn\n",
    "from statsmodels.stats.weightstats import ttest_ind\n",
    "import scipy.stats as stats\n",
    "from scipy.stats import ttest_ind\n",
    "import pandas as pd\n",
    "import numpy as np\n",
    "import seaborn as sb\n",
    "%matplotlib inline\n",
    "from matplotlib import pyplot as plt\n",
    "from scipy.stats import shapiro\n",
    "from scipy import stats\n",
    "from sklearn.linear_model import LinearRegression\n",
    "from sklearn.metrics import mean_squared_error\n",
    "from sklearn.metrics import classification_report\n",
    "from sklearn.pipeline import Pipeline\n",
    "from sklearn.preprocessing import StandardScaler\n",
    "from sklearn.preprocessing import PolynomialFeatures\n",
    "from sklearn.metrics import r2_score\n",
    "from sklearn.model_selection import train_test_split\n",
    "from sklearn.model_selection import cross_val_score\n",
    "from sklearn.model_selection import cross_val_predict\n",
    "from sklearn.linear_model import Ridge\n",
    "from sklearn.model_selection import GridSearchCV\n",
    "from datetime import datetime\n",
    "from datetime import date\n",
    "import statsmodels.api as sm\n",
    "from statsmodels.formula.api import ols\n",
    "from sklearn.preprocessing import StandardScaler\n",
    "from sklearn.decomposition import PCA\n",
    "from sklearn.linear_model import LogisticRegression as lgr\n",
    "import statsmodels.formula.api as smf\n",
    "from sklearn import preprocessing as preproc\n",
    "from sklearn import metrics\n",
    "from sklearn.datasets import make_classification\n",
    "from sklearn.model_selection import train_test_split\n",
    "from sklearn.pipeline import make_pipeline\n",
    "from sklearn.preprocessing import StandardScaler\n",
    "from sklearn.neighbors import KNeighborsRegressor\n",
    "from sklearn import model_selection\n",
    "from sklearn.neural_network import MLPRegressor"
   ]
  },
  {
   "cell_type": "code",
   "execution_count": 2,
   "id": "7625052b",
   "metadata": {},
   "outputs": [],
   "source": [
    "#bringing the dataset\n",
    "adsale=pd.read_csv(\"C:\\\\Users\\\\sujoydutta\\\\Desktop\\\\Data analysis\\\\Datasets\\\\Advertising.csv\")"
   ]
  },
  {
   "cell_type": "code",
   "execution_count": 3,
   "id": "27ff78c2",
   "metadata": {},
   "outputs": [
    {
     "name": "stdout",
     "output_type": "stream",
     "text": [
      "   Sequence number  TV(in K$)  Radio(in K$)  Newspaper((in K$))  Sales(in M$)\n",
      "0                1      230.1          37.8                69.2          22.1\n",
      "1                2       44.5          39.3                45.1          10.4\n",
      "2                3       17.2          45.9                69.3           9.3\n",
      "3                4      151.5          41.3                58.5          18.5\n",
      "4                5      180.8          10.8                58.4          12.9\n"
     ]
    }
   ],
   "source": [
    "#viewing the dataset\n",
    "print(adsale.head())"
   ]
  },
  {
   "cell_type": "code",
   "execution_count": 4,
   "id": "0376d921",
   "metadata": {},
   "outputs": [
    {
     "name": "stdout",
     "output_type": "stream",
     "text": [
      "<class 'pandas.core.frame.DataFrame'>\n",
      "RangeIndex: 1000 entries, 0 to 999\n",
      "Data columns (total 5 columns):\n",
      " #   Column              Non-Null Count  Dtype  \n",
      "---  ------              --------------  -----  \n",
      " 0   Sequence number     1000 non-null   int64  \n",
      " 1   TV(in K$)           941 non-null    float64\n",
      " 2   Radio(in K$)        955 non-null    float64\n",
      " 3   Newspaper((in K$))  774 non-null    float64\n",
      " 4   Sales(in M$)        995 non-null    float64\n",
      "dtypes: float64(4), int64(1)\n",
      "memory usage: 39.2 KB\n"
     ]
    },
    {
     "data": {
      "text/plain": [
       "(1000, 5)"
      ]
     },
     "execution_count": 4,
     "metadata": {},
     "output_type": "execute_result"
    }
   ],
   "source": [
    "#examining the dataset\n",
    "adsale.info()\n",
    "adsale.shape"
   ]
  },
  {
   "cell_type": "code",
   "execution_count": 5,
   "id": "fb458b23",
   "metadata": {},
   "outputs": [
    {
     "data": {
      "text/plain": [
       "Sequence number         0\n",
       "TV(in K$)              59\n",
       "Radio(in K$)           45\n",
       "Newspaper((in K$))    226\n",
       "Sales(in M$)            5\n",
       "dtype: int64"
      ]
     },
     "execution_count": 5,
     "metadata": {},
     "output_type": "execute_result"
    }
   ],
   "source": [
    "#seeing null values\n",
    "adsale.isnull().sum()"
   ]
  },
  {
   "cell_type": "code",
   "execution_count": 6,
   "id": "c7d01979",
   "metadata": {},
   "outputs": [
    {
     "data": {
      "text/html": [
       "<div>\n",
       "<style scoped>\n",
       "    .dataframe tbody tr th:only-of-type {\n",
       "        vertical-align: middle;\n",
       "    }\n",
       "\n",
       "    .dataframe tbody tr th {\n",
       "        vertical-align: top;\n",
       "    }\n",
       "\n",
       "    .dataframe thead th {\n",
       "        text-align: right;\n",
       "    }\n",
       "</style>\n",
       "<table border=\"1\" class=\"dataframe\">\n",
       "  <thead>\n",
       "    <tr style=\"text-align: right;\">\n",
       "      <th></th>\n",
       "      <th>TV(in K$)</th>\n",
       "      <th>Radio(in K$)</th>\n",
       "      <th>Newspaper((in K$))</th>\n",
       "      <th>Sales(in M$)</th>\n",
       "    </tr>\n",
       "  </thead>\n",
       "  <tbody>\n",
       "    <tr>\n",
       "      <th>0</th>\n",
       "      <td>230.1</td>\n",
       "      <td>37.8</td>\n",
       "      <td>69.2</td>\n",
       "      <td>22.1</td>\n",
       "    </tr>\n",
       "    <tr>\n",
       "      <th>1</th>\n",
       "      <td>44.5</td>\n",
       "      <td>39.3</td>\n",
       "      <td>45.1</td>\n",
       "      <td>10.4</td>\n",
       "    </tr>\n",
       "    <tr>\n",
       "      <th>2</th>\n",
       "      <td>17.2</td>\n",
       "      <td>45.9</td>\n",
       "      <td>69.3</td>\n",
       "      <td>9.3</td>\n",
       "    </tr>\n",
       "    <tr>\n",
       "      <th>3</th>\n",
       "      <td>151.5</td>\n",
       "      <td>41.3</td>\n",
       "      <td>58.5</td>\n",
       "      <td>18.5</td>\n",
       "    </tr>\n",
       "    <tr>\n",
       "      <th>4</th>\n",
       "      <td>180.8</td>\n",
       "      <td>10.8</td>\n",
       "      <td>58.4</td>\n",
       "      <td>12.9</td>\n",
       "    </tr>\n",
       "    <tr>\n",
       "      <th>...</th>\n",
       "      <td>...</td>\n",
       "      <td>...</td>\n",
       "      <td>...</td>\n",
       "      <td>...</td>\n",
       "    </tr>\n",
       "    <tr>\n",
       "      <th>995</th>\n",
       "      <td>71.0</td>\n",
       "      <td>6.0</td>\n",
       "      <td>44.0</td>\n",
       "      <td>NaN</td>\n",
       "    </tr>\n",
       "    <tr>\n",
       "      <th>996</th>\n",
       "      <td>116.0</td>\n",
       "      <td>5.0</td>\n",
       "      <td>96.0</td>\n",
       "      <td>NaN</td>\n",
       "    </tr>\n",
       "    <tr>\n",
       "      <th>997</th>\n",
       "      <td>178.0</td>\n",
       "      <td>43.0</td>\n",
       "      <td>116.0</td>\n",
       "      <td>NaN</td>\n",
       "    </tr>\n",
       "    <tr>\n",
       "      <th>998</th>\n",
       "      <td>223.0</td>\n",
       "      <td>35.0</td>\n",
       "      <td>47.0</td>\n",
       "      <td>NaN</td>\n",
       "    </tr>\n",
       "    <tr>\n",
       "      <th>999</th>\n",
       "      <td>207.0</td>\n",
       "      <td>35.0</td>\n",
       "      <td>73.0</td>\n",
       "      <td>NaN</td>\n",
       "    </tr>\n",
       "  </tbody>\n",
       "</table>\n",
       "<p>1000 rows × 4 columns</p>\n",
       "</div>"
      ],
      "text/plain": [
       "     TV(in K$)  Radio(in K$)  Newspaper((in K$))  Sales(in M$)\n",
       "0        230.1          37.8                69.2          22.1\n",
       "1         44.5          39.3                45.1          10.4\n",
       "2         17.2          45.9                69.3           9.3\n",
       "3        151.5          41.3                58.5          18.5\n",
       "4        180.8          10.8                58.4          12.9\n",
       "..         ...           ...                 ...           ...\n",
       "995       71.0           6.0                44.0           NaN\n",
       "996      116.0           5.0                96.0           NaN\n",
       "997      178.0          43.0               116.0           NaN\n",
       "998      223.0          35.0                47.0           NaN\n",
       "999      207.0          35.0                73.0           NaN\n",
       "\n",
       "[1000 rows x 4 columns]"
      ]
     },
     "execution_count": 6,
     "metadata": {},
     "output_type": "execute_result"
    }
   ],
   "source": [
    "#dropping useless columns\n",
    "adsale=adsale.drop(['Sequence number'],axis=1)\n",
    "adsale"
   ]
  },
  {
   "cell_type": "code",
   "execution_count": 7,
   "id": "36bc37fb",
   "metadata": {},
   "outputs": [
    {
     "data": {
      "text/html": [
       "<div>\n",
       "<style scoped>\n",
       "    .dataframe tbody tr th:only-of-type {\n",
       "        vertical-align: middle;\n",
       "    }\n",
       "\n",
       "    .dataframe tbody tr th {\n",
       "        vertical-align: top;\n",
       "    }\n",
       "\n",
       "    .dataframe thead th {\n",
       "        text-align: right;\n",
       "    }\n",
       "</style>\n",
       "<table border=\"1\" class=\"dataframe\">\n",
       "  <thead>\n",
       "    <tr style=\"text-align: right;\">\n",
       "      <th></th>\n",
       "      <th>TV</th>\n",
       "      <th>Radio</th>\n",
       "      <th>Newspaper</th>\n",
       "      <th>Sales</th>\n",
       "    </tr>\n",
       "  </thead>\n",
       "  <tbody>\n",
       "  </tbody>\n",
       "</table>\n",
       "</div>"
      ],
      "text/plain": [
       "Empty DataFrame\n",
       "Columns: [TV, Radio, Newspaper, Sales]\n",
       "Index: []"
      ]
     },
     "execution_count": 7,
     "metadata": {},
     "output_type": "execute_result"
    }
   ],
   "source": [
    "#renaming\n",
    "adsale.rename(columns={\n",
    "        \"TV(in K$)\": \"TV\",\n",
    "        \"Radio(in K$)\": \"Radio\",\n",
    "        \"Newspaper((in K$))\": \"Newspaper\",\n",
    "        \"Sales(in M$)\":\"Sales\"\n",
    "        \n",
    "    }, inplace=True,\n",
    "    )\n",
    "adsale.head(0)"
   ]
  },
  {
   "cell_type": "code",
   "execution_count": 8,
   "id": "82f2b865",
   "metadata": {},
   "outputs": [
    {
     "name": "stdout",
     "output_type": "stream",
     "text": [
      "<class 'pandas.core.frame.DataFrame'>\n",
      "RangeIndex: 1000 entries, 0 to 999\n",
      "Data columns (total 4 columns):\n",
      " #   Column     Non-Null Count  Dtype  \n",
      "---  ------     --------------  -----  \n",
      " 0   TV         941 non-null    float64\n",
      " 1   Radio      955 non-null    float64\n",
      " 2   Newspaper  774 non-null    float64\n",
      " 3   Sales      995 non-null    float64\n",
      "dtypes: float64(4)\n",
      "memory usage: 31.4 KB\n",
      "None\n"
     ]
    }
   ],
   "source": [
    "#replacing missing values with nan(Not a number) that makes things simpler for python\n",
    "adsale.replace(\"?\",np.nan,inplace = True)\n",
    "print(adsale.info())"
   ]
  },
  {
   "cell_type": "code",
   "execution_count": 9,
   "id": "2e458fd6",
   "metadata": {},
   "outputs": [
    {
     "name": "stdout",
     "output_type": "stream",
     "text": [
      "1000\n"
     ]
    }
   ],
   "source": [
    "#dropping null rows of sale \n",
    "salenull=adsale[adsale['Sales'].isnull()].index\n",
    "len(salenull)\n",
    "adsale.drop(salenull)\n",
    "print(len(adsale))\n"
   ]
  },
  {
   "cell_type": "code",
   "execution_count": 10,
   "id": "d963ee23",
   "metadata": {},
   "outputs": [
    {
     "data": {
      "text/html": [
       "<div>\n",
       "<style scoped>\n",
       "    .dataframe tbody tr th:only-of-type {\n",
       "        vertical-align: middle;\n",
       "    }\n",
       "\n",
       "    .dataframe tbody tr th {\n",
       "        vertical-align: top;\n",
       "    }\n",
       "\n",
       "    .dataframe thead th {\n",
       "        text-align: right;\n",
       "    }\n",
       "</style>\n",
       "<table border=\"1\" class=\"dataframe\">\n",
       "  <thead>\n",
       "    <tr style=\"text-align: right;\">\n",
       "      <th></th>\n",
       "      <th>TV</th>\n",
       "      <th>Radio</th>\n",
       "      <th>Newspaper</th>\n",
       "      <th>Sales</th>\n",
       "    </tr>\n",
       "  </thead>\n",
       "  <tbody>\n",
       "    <tr>\n",
       "      <th>0</th>\n",
       "      <td>230.1</td>\n",
       "      <td>37.8</td>\n",
       "      <td>69.2</td>\n",
       "      <td>22.1</td>\n",
       "    </tr>\n",
       "    <tr>\n",
       "      <th>1</th>\n",
       "      <td>44.5</td>\n",
       "      <td>39.3</td>\n",
       "      <td>45.1</td>\n",
       "      <td>10.4</td>\n",
       "    </tr>\n",
       "    <tr>\n",
       "      <th>2</th>\n",
       "      <td>17.2</td>\n",
       "      <td>45.9</td>\n",
       "      <td>69.3</td>\n",
       "      <td>9.3</td>\n",
       "    </tr>\n",
       "    <tr>\n",
       "      <th>3</th>\n",
       "      <td>151.5</td>\n",
       "      <td>41.3</td>\n",
       "      <td>58.5</td>\n",
       "      <td>18.5</td>\n",
       "    </tr>\n",
       "    <tr>\n",
       "      <th>4</th>\n",
       "      <td>180.8</td>\n",
       "      <td>10.8</td>\n",
       "      <td>58.4</td>\n",
       "      <td>12.9</td>\n",
       "    </tr>\n",
       "    <tr>\n",
       "      <th>...</th>\n",
       "      <td>...</td>\n",
       "      <td>...</td>\n",
       "      <td>...</td>\n",
       "      <td>...</td>\n",
       "    </tr>\n",
       "    <tr>\n",
       "      <th>990</th>\n",
       "      <td>141.0</td>\n",
       "      <td>38.0</td>\n",
       "      <td>106.0</td>\n",
       "      <td>8.0</td>\n",
       "    </tr>\n",
       "    <tr>\n",
       "      <th>991</th>\n",
       "      <td>75.0</td>\n",
       "      <td>29.0</td>\n",
       "      <td>113.0</td>\n",
       "      <td>10.0</td>\n",
       "    </tr>\n",
       "    <tr>\n",
       "      <th>992</th>\n",
       "      <td>175.0</td>\n",
       "      <td>14.0</td>\n",
       "      <td>108.0</td>\n",
       "      <td>6.0</td>\n",
       "    </tr>\n",
       "    <tr>\n",
       "      <th>993</th>\n",
       "      <td>83.0</td>\n",
       "      <td>29.0</td>\n",
       "      <td>78.0</td>\n",
       "      <td>23.0</td>\n",
       "    </tr>\n",
       "    <tr>\n",
       "      <th>994</th>\n",
       "      <td>64.0</td>\n",
       "      <td>38.0</td>\n",
       "      <td>91.0</td>\n",
       "      <td>6.0</td>\n",
       "    </tr>\n",
       "  </tbody>\n",
       "</table>\n",
       "<p>995 rows × 4 columns</p>\n",
       "</div>"
      ],
      "text/plain": [
       "        TV  Radio  Newspaper  Sales\n",
       "0    230.1   37.8       69.2   22.1\n",
       "1     44.5   39.3       45.1   10.4\n",
       "2     17.2   45.9       69.3    9.3\n",
       "3    151.5   41.3       58.5   18.5\n",
       "4    180.8   10.8       58.4   12.9\n",
       "..     ...    ...        ...    ...\n",
       "990  141.0   38.0      106.0    8.0\n",
       "991   75.0   29.0      113.0   10.0\n",
       "992  175.0   14.0      108.0    6.0\n",
       "993   83.0   29.0       78.0   23.0\n",
       "994   64.0   38.0       91.0    6.0\n",
       "\n",
       "[995 rows x 4 columns]"
      ]
     },
     "execution_count": 10,
     "metadata": {},
     "output_type": "execute_result"
    }
   ],
   "source": [
    "salenull\n",
    "adsale=adsale.drop(salenull,axis=0)\n",
    "adsale"
   ]
  },
  {
   "cell_type": "code",
   "execution_count": 11,
   "id": "cff4441b",
   "metadata": {},
   "outputs": [],
   "source": [
    "#taking mean values\n",
    "meantv=adsale['TV'].mean()\n",
    "meanrd=adsale['Radio'].mean()\n",
    "meannp=adsale['Newspaper'].mean()"
   ]
  },
  {
   "cell_type": "code",
   "execution_count": 12,
   "id": "3e070f48",
   "metadata": {},
   "outputs": [],
   "source": [
    "#replacing with mean\n",
    "adsale['Radio'].replace(np.nan, meanrd, inplace=True)\n",
    "adsale['Newspaper'].replace(np.nan, meannp, inplace=True)\n",
    "adsale['TV'].replace(np.nan, meantv, inplace=True)"
   ]
  },
  {
   "cell_type": "code",
   "execution_count": 13,
   "id": "0ab7481d",
   "metadata": {},
   "outputs": [
    {
     "data": {
      "text/html": [
       "<div>\n",
       "<style scoped>\n",
       "    .dataframe tbody tr th:only-of-type {\n",
       "        vertical-align: middle;\n",
       "    }\n",
       "\n",
       "    .dataframe tbody tr th {\n",
       "        vertical-align: top;\n",
       "    }\n",
       "\n",
       "    .dataframe thead th {\n",
       "        text-align: right;\n",
       "    }\n",
       "</style>\n",
       "<table border=\"1\" class=\"dataframe\">\n",
       "  <thead>\n",
       "    <tr style=\"text-align: right;\">\n",
       "      <th></th>\n",
       "      <th>TV</th>\n",
       "      <th>Radio</th>\n",
       "      <th>Newspaper</th>\n",
       "      <th>Sales</th>\n",
       "    </tr>\n",
       "  </thead>\n",
       "  <tbody>\n",
       "    <tr>\n",
       "      <th>count</th>\n",
       "      <td>995.000000</td>\n",
       "      <td>995.000000</td>\n",
       "      <td>995.000000</td>\n",
       "      <td>995.000000</td>\n",
       "    </tr>\n",
       "    <tr>\n",
       "      <th>mean</th>\n",
       "      <td>149.369017</td>\n",
       "      <td>25.562211</td>\n",
       "      <td>69.186736</td>\n",
       "      <td>12.427638</td>\n",
       "    </tr>\n",
       "    <tr>\n",
       "      <th>std</th>\n",
       "      <td>61.612509</td>\n",
       "      <td>14.166401</td>\n",
       "      <td>27.626955</td>\n",
       "      <td>6.085928</td>\n",
       "    </tr>\n",
       "    <tr>\n",
       "      <th>min</th>\n",
       "      <td>0.700000</td>\n",
       "      <td>0.000000</td>\n",
       "      <td>1.000000</td>\n",
       "      <td>1.600000</td>\n",
       "    </tr>\n",
       "    <tr>\n",
       "      <th>25%</th>\n",
       "      <td>100.000000</td>\n",
       "      <td>14.000000</td>\n",
       "      <td>50.000000</td>\n",
       "      <td>7.800000</td>\n",
       "    </tr>\n",
       "    <tr>\n",
       "      <th>50%</th>\n",
       "      <td>149.369017</td>\n",
       "      <td>25.562211</td>\n",
       "      <td>69.186736</td>\n",
       "      <td>12.000000</td>\n",
       "    </tr>\n",
       "    <tr>\n",
       "      <th>75%</th>\n",
       "      <td>200.000000</td>\n",
       "      <td>38.000000</td>\n",
       "      <td>90.000000</td>\n",
       "      <td>17.000000</td>\n",
       "    </tr>\n",
       "    <tr>\n",
       "      <th>max</th>\n",
       "      <td>296.400000</td>\n",
       "      <td>50.000000</td>\n",
       "      <td>120.000000</td>\n",
       "      <td>27.000000</td>\n",
       "    </tr>\n",
       "  </tbody>\n",
       "</table>\n",
       "</div>"
      ],
      "text/plain": [
       "               TV       Radio   Newspaper       Sales\n",
       "count  995.000000  995.000000  995.000000  995.000000\n",
       "mean   149.369017   25.562211   69.186736   12.427638\n",
       "std     61.612509   14.166401   27.626955    6.085928\n",
       "min      0.700000    0.000000    1.000000    1.600000\n",
       "25%    100.000000   14.000000   50.000000    7.800000\n",
       "50%    149.369017   25.562211   69.186736   12.000000\n",
       "75%    200.000000   38.000000   90.000000   17.000000\n",
       "max    296.400000   50.000000  120.000000   27.000000"
      ]
     },
     "execution_count": 13,
     "metadata": {},
     "output_type": "execute_result"
    }
   ],
   "source": [
    "#summary stats\n",
    "adsale.describe()"
   ]
  },
  {
   "cell_type": "code",
   "execution_count": 14,
   "id": "037f1ee4",
   "metadata": {},
   "outputs": [
    {
     "data": {
      "text/plain": [
       "<matplotlib.collections.PathCollection at 0x19e06c60e80>"
      ]
     },
     "execution_count": 14,
     "metadata": {},
     "output_type": "execute_result"
    },
    {
     "data": {
      "image/png": "[encoded data removed]",
      "text/plain": [
       "<Figure size 432x288 with 1 Axes>"
      ]
     },
     "metadata": {
      "needs_background": "light"
     },
     "output_type": "display_data"
    }
   ],
   "source": [
    "#seeing correlation with target variable-TV\n",
    "\n",
    "plt.scatter(adsale['TV'], adsale['Sales'])"
   ]
  },
  {
   "cell_type": "code",
   "execution_count": 15,
   "id": "e5ff7327",
   "metadata": {},
   "outputs": [
    {
     "data": {
      "text/plain": [
       "<matplotlib.collections.PathCollection at 0x19e06d64ac0>"
      ]
     },
     "execution_count": 15,
     "metadata": {},
     "output_type": "execute_result"
    },
    {
     "data": {
      "image/png": "[encoded data removed]",
      "text/plain": [
       "<Figure size 432x288 with 1 Axes>"
      ]
     },
     "metadata": {
      "needs_background": "light"
     },
     "output_type": "display_data"
    }
   ],
   "source": [
    "#seeing correlation with target variable-TV\n",
    "\n",
    "plt.scatter(adsale['Radio'], adsale['Sales'])"
   ]
  },
  {
   "cell_type": "code",
   "execution_count": 16,
   "id": "b1b476d9",
   "metadata": {},
   "outputs": [
    {
     "data": {
      "text/plain": [
       "<matplotlib.collections.PathCollection at 0x19e06dcec70>"
      ]
     },
     "execution_count": 16,
     "metadata": {},
     "output_type": "execute_result"
    },
    {
     "data": {
      "image/png": "[encoded data removed]",
      "text/plain": [
       "<Figure size 432x288 with 1 Axes>"
      ]
     },
     "metadata": {
      "needs_background": "light"
     },
     "output_type": "display_data"
    }
   ],
   "source": [
    "#seeing correlation with target variable-TV\n",
    "\n",
    "plt.scatter(adsale['Newspaper'],adsale['Sales'])"
   ]
  },
  {
   "cell_type": "code",
   "execution_count": 17,
   "id": "a3b340be",
   "metadata": {},
   "outputs": [
    {
     "data": {
      "text/html": [
       "<div>\n",
       "<style scoped>\n",
       "    .dataframe tbody tr th:only-of-type {\n",
       "        vertical-align: middle;\n",
       "    }\n",
       "\n",
       "    .dataframe tbody tr th {\n",
       "        vertical-align: top;\n",
       "    }\n",
       "\n",
       "    .dataframe thead th {\n",
       "        text-align: right;\n",
       "    }\n",
       "</style>\n",
       "<table border=\"1\" class=\"dataframe\">\n",
       "  <thead>\n",
       "    <tr style=\"text-align: right;\">\n",
       "      <th></th>\n",
       "      <th>TV</th>\n",
       "      <th>Radio</th>\n",
       "      <th>Newspaper</th>\n",
       "      <th>Sales</th>\n",
       "    </tr>\n",
       "  </thead>\n",
       "  <tbody>\n",
       "    <tr>\n",
       "      <th>TV</th>\n",
       "      <td>1.000000</td>\n",
       "      <td>0.035400</td>\n",
       "      <td>0.038882</td>\n",
       "      <td>0.212642</td>\n",
       "    </tr>\n",
       "    <tr>\n",
       "      <th>Radio</th>\n",
       "      <td>0.035400</td>\n",
       "      <td>1.000000</td>\n",
       "      <td>0.017943</td>\n",
       "      <td>0.065069</td>\n",
       "    </tr>\n",
       "    <tr>\n",
       "      <th>Newspaper</th>\n",
       "      <td>0.038882</td>\n",
       "      <td>0.017943</td>\n",
       "      <td>1.000000</td>\n",
       "      <td>-0.039386</td>\n",
       "    </tr>\n",
       "    <tr>\n",
       "      <th>Sales</th>\n",
       "      <td>0.212642</td>\n",
       "      <td>0.065069</td>\n",
       "      <td>-0.039386</td>\n",
       "      <td>1.000000</td>\n",
       "    </tr>\n",
       "  </tbody>\n",
       "</table>\n",
       "</div>"
      ],
      "text/plain": [
       "                 TV     Radio  Newspaper     Sales\n",
       "TV         1.000000  0.035400   0.038882  0.212642\n",
       "Radio      0.035400  1.000000   0.017943  0.065069\n",
       "Newspaper  0.038882  0.017943   1.000000 -0.039386\n",
       "Sales      0.212642  0.065069  -0.039386  1.000000"
      ]
     },
     "execution_count": 17,
     "metadata": {},
     "output_type": "execute_result"
    }
   ],
   "source": [
    "#correlation co-efficiaent\n",
    "adsale.corr()"
   ]
  },
  {
   "cell_type": "code",
   "execution_count": 18,
   "id": "f6f800ff",
   "metadata": {},
   "outputs": [
    {
     "name": "stderr",
     "output_type": "stream",
     "text": [
      "C:\\Users\\sujoydutta\\anaconda3\\lib\\site-packages\\seaborn\\distributions.py:2619: FutureWarning: `distplot` is a deprecated function and will be removed in a future version. Please adapt your code to use either `displot` (a figure-level function with similar flexibility) or `histplot` (an axes-level function for histograms).\n",
      "  warnings.warn(msg, FutureWarning)\n"
     ]
    },
    {
     "data": {
      "text/plain": [
       "<AxesSubplot:xlabel='Newspaper'>"
      ]
     },
     "execution_count": 18,
     "metadata": {},
     "output_type": "execute_result"
    },
    {
     "data": {
      "image/png": "[encoded data removed]",
      "text/plain": [
       "<Figure size 1152x504 with 1 Axes>"
      ]
     },
     "metadata": {
      "needs_background": "light"
     },
     "output_type": "display_data"
    }
   ],
   "source": [
    "#checking distribution of newspaper\n",
    "plt.figure(figsize=(16,7))\n",
    "sb.distplot(adsale['Newspaper'], kde = False,hist_kws=dict(edgecolor=\"k\"))"
   ]
  },
  {
   "cell_type": "code",
   "execution_count": 19,
   "id": "ceffb572",
   "metadata": {},
   "outputs": [
    {
     "data": {
      "text/plain": [
       "<AxesSubplot:xlabel='Sales'>"
      ]
     },
     "execution_count": 19,
     "metadata": {},
     "output_type": "execute_result"
    },
    {
     "data": {
      "image/png": "[encoded data removed]",
      "text/plain": [
       "<Figure size 1152x504 with 1 Axes>"
      ]
     },
     "metadata": {
      "needs_background": "light"
     },
     "output_type": "display_data"
    }
   ],
   "source": [
    "#checking distribution of sales\n",
    "plt.figure(figsize=(16,7))\n",
    "sb.distplot(adsale['Sales'], kde = False,hist_kws=dict(edgecolor=\"k\"))"
   ]
  },
  {
   "cell_type": "code",
   "execution_count": 20,
   "id": "19dbc14f",
   "metadata": {},
   "outputs": [
    {
     "data": {
      "text/plain": [
       "<AxesSubplot:xlabel='TV'>"
      ]
     },
     "execution_count": 20,
     "metadata": {},
     "output_type": "execute_result"
    },
    {
     "data": {
      "image/png": "[encoded data removed]",
      "text/plain": [
       "<Figure size 1152x504 with 1 Axes>"
      ]
     },
     "metadata": {
      "needs_background": "light"
     },
     "output_type": "display_data"
    }
   ],
   "source": [
    "#checking distribution of TV\n",
    "plt.figure(figsize=(16,7))\n",
    "sb.distplot(adsale['TV'], kde = False,hist_kws=dict(edgecolor=\"k\"))"
   ]
  },
  {
   "cell_type": "code",
   "execution_count": 21,
   "id": "3711c4d7",
   "metadata": {},
   "outputs": [
    {
     "data": {
      "text/plain": [
       "<AxesSubplot:xlabel='Radio'>"
      ]
     },
     "execution_count": 21,
     "metadata": {},
     "output_type": "execute_result"
    },
    {
     "data": {
      "image/png": "[encoded data removed]",
      "text/plain": [
       "<Figure size 1152x504 with 1 Axes>"
      ]
     },
     "metadata": {
      "needs_background": "light"
     },
     "output_type": "display_data"
    }
   ],
   "source": [
    "#for radio we see distribution\n",
    "plt.figure(figsize=(16,7))\n",
    "sb.distplot(adsale['Radio'], kde = False,hist_kws=dict(edgecolor=\"k\"))"
   ]
  },
  {
   "cell_type": "code",
   "execution_count": 22,
   "id": "e0d790f1",
   "metadata": {},
   "outputs": [],
   "source": [
    "#using log to fix distribution\n",
    "adsale['Radio']=np.sqrt(adsale['Radio'])\n",
    "adsale['Sales']=np.sqrt(adsale['Sales'])\n",
    "adsale['Newspaper']=np.sqrt(adsale['Newspaper'])"
   ]
  },
  {
   "cell_type": "code",
   "execution_count": 23,
   "id": "a6edf401",
   "metadata": {},
   "outputs": [
    {
     "data": {
      "text/plain": [
       "<AxesSubplot:xlabel='Radio'>"
      ]
     },
     "execution_count": 23,
     "metadata": {},
     "output_type": "execute_result"
    },
    {
     "data": {
      "image/png": "[encoded data removed]",
      "text/plain": [
       "<Figure size 1152x504 with 1 Axes>"
      ]
     },
     "metadata": {
      "needs_background": "light"
     },
     "output_type": "display_data"
    }
   ],
   "source": [
    "#for radio we see new distribution\n",
    "plt.figure(figsize=(16,7))\n",
    "sb.distplot(adsale['Radio'], kde = False,hist_kws=dict(edgecolor=\"k\"))"
   ]
  },
  {
   "cell_type": "code",
   "execution_count": 24,
   "id": "91a18113",
   "metadata": {},
   "outputs": [
    {
     "data": {
      "text/plain": [
       "<AxesSubplot:xlabel='Newspaper'>"
      ]
     },
     "execution_count": 24,
     "metadata": {},
     "output_type": "execute_result"
    },
    {
     "data": {
      "image/png": "[encoded data removed]",
      "text/plain": [
       "<Figure size 1152x504 with 1 Axes>"
      ]
     },
     "metadata": {
      "needs_background": "light"
     },
     "output_type": "display_data"
    }
   ],
   "source": [
    "#for Newspaper we see distribution\n",
    "plt.figure(figsize=(16,7))\n",
    "sb.distplot(adsale['Newspaper'], kde = False,hist_kws=dict(edgecolor=\"k\"))"
   ]
  },
  {
   "cell_type": "code",
   "execution_count": 25,
   "id": "09114fa6",
   "metadata": {},
   "outputs": [
    {
     "data": {
      "text/plain": [
       "<AxesSubplot:xlabel='Sales'>"
      ]
     },
     "execution_count": 25,
     "metadata": {},
     "output_type": "execute_result"
    },
    {
     "data": {
      "image/png": "[encoded data removed]",
      "text/plain": [
       "<Figure size 1152x504 with 1 Axes>"
      ]
     },
     "metadata": {
      "needs_background": "light"
     },
     "output_type": "display_data"
    }
   ],
   "source": [
    "#for TV we see new distribution\n",
    "plt.figure(figsize=(16,7))\n",
    "sb.distplot(adsale['Sales'], kde = False,hist_kws=dict(edgecolor=\"k\"))"
   ]
  },
  {
   "cell_type": "code",
   "execution_count": 26,
   "id": "bbd1c53e",
   "metadata": {},
   "outputs": [],
   "source": [
    "#linear regression setting x as TV,y\n",
    "X=pd.DataFrame(adsale.TV)\n",
    "y=adsale.Sales"
   ]
  },
  {
   "cell_type": "code",
   "execution_count": 27,
   "id": "37059c27",
   "metadata": {},
   "outputs": [
    {
     "data": {
      "text/plain": [
       "LinearRegression()"
      ]
     },
     "execution_count": 27,
     "metadata": {},
     "output_type": "execute_result"
    }
   ],
   "source": [
    "#linear regression initialize and fit\n",
    "lm=LinearRegression()\n",
    "lm.fit(X,y)"
   ]
  },
  {
   "cell_type": "code",
   "execution_count": 28,
   "id": "924b6429",
   "metadata": {},
   "outputs": [
    {
     "name": "stdout",
     "output_type": "stream",
     "text": [
      "2.9547437247141075\n",
      "[0.00298141]\n"
     ]
    }
   ],
   "source": [
    "#print co ef and intercept\n",
    "print(lm.intercept_)\n",
    "print(lm.coef_)"
   ]
  },
  {
   "cell_type": "code",
   "execution_count": 29,
   "id": "f3f7d029",
   "metadata": {},
   "outputs": [
    {
     "name": "stdout",
     "output_type": "stream",
     "text": [
      "      TV\n",
      "0    0.7\n",
      "1  296.4\n",
      "[2.95683071 3.83843453]\n"
     ]
    }
   ],
   "source": [
    "#predict\n",
    "X_new= pd.DataFrame({'TV':[adsale.TV.min(),adsale.TV.max()]})\n",
    "print(X_new.head())\n",
    "#model predict\n",
    "print(lm.predict(X_new))"
   ]
  },
  {
   "cell_type": "code",
   "execution_count": 30,
   "id": "63e06f07",
   "metadata": {},
   "outputs": [
    {
     "data": {
      "text/plain": [
       "[<matplotlib.lines.Line2D at 0x19e07bd0700>]"
      ]
     },
     "execution_count": 30,
     "metadata": {},
     "output_type": "execute_result"
    },
    {
     "data": {
      "image/png": "[encoded data removed]",
      "text/plain": [
       "<Figure size 432x288 with 1 Axes>"
      ]
     },
     "metadata": {
      "needs_background": "light"
     },
     "output_type": "display_data"
    }
   ],
   "source": [
    "#plot \n",
    "adsale.plot(kind='scatter', x='TV',y='Sales')\n",
    "plt.plot(X_new, c='red', linewidth=1)"
   ]
  },
  {
   "cell_type": "code",
   "execution_count": 31,
   "id": "cd53e6a5",
   "metadata": {},
   "outputs": [
    {
     "data": {
      "text/html": [
       "<div>\n",
       "<style scoped>\n",
       "    .dataframe tbody tr th:only-of-type {\n",
       "        vertical-align: middle;\n",
       "    }\n",
       "\n",
       "    .dataframe tbody tr th {\n",
       "        vertical-align: top;\n",
       "    }\n",
       "\n",
       "    .dataframe thead th {\n",
       "        text-align: right;\n",
       "    }\n",
       "</style>\n",
       "<table border=\"1\" class=\"dataframe\">\n",
       "  <thead>\n",
       "    <tr style=\"text-align: right;\">\n",
       "      <th></th>\n",
       "      <th>0</th>\n",
       "      <th>1</th>\n",
       "    </tr>\n",
       "  </thead>\n",
       "  <tbody>\n",
       "    <tr>\n",
       "      <th>Intercept</th>\n",
       "      <td>2.805590</td>\n",
       "      <td>3.103897</td>\n",
       "    </tr>\n",
       "    <tr>\n",
       "      <th>TV</th>\n",
       "      <td>0.002058</td>\n",
       "      <td>0.003905</td>\n",
       "    </tr>\n",
       "  </tbody>\n",
       "</table>\n",
       "</div>"
      ],
      "text/plain": [
       "                  0         1\n",
       "Intercept  2.805590  3.103897\n",
       "TV         0.002058  0.003905"
      ]
     },
     "execution_count": 31,
     "metadata": {},
     "output_type": "execute_result"
    }
   ],
   "source": [
    "#interval\n",
    "lm = smf.ols(formula='Sales~TV', data=adsale).fit()\n",
    "lm.conf_int()"
   ]
  },
  {
   "cell_type": "code",
   "execution_count": 32,
   "id": "618b49fb",
   "metadata": {},
   "outputs": [
    {
     "name": "stdout",
     "output_type": "stream",
     "text": [
      "Intercept    1.140722e-201\n",
      "TV            3.537902e-10\n",
      "dtype: float64\n",
      "0.03887408646553103\n"
     ]
    }
   ],
   "source": [
    "#values\n",
    "print(lm.pvalues)\n",
    "print(lm.rsquared)"
   ]
  },
  {
   "cell_type": "code",
   "execution_count": 33,
   "id": "5cb0a02e",
   "metadata": {},
   "outputs": [],
   "source": [
    "#linear regression setting x as Radio,y\n",
    "X=pd.DataFrame(adsale.Radio)\n",
    "y=adsale.Sales"
   ]
  },
  {
   "cell_type": "code",
   "execution_count": 34,
   "id": "e57cb4c3",
   "metadata": {},
   "outputs": [
    {
     "data": {
      "text/plain": [
       "LinearRegression()"
      ]
     },
     "execution_count": 34,
     "metadata": {},
     "output_type": "execute_result"
    }
   ],
   "source": [
    "#linear regression initialize and fit\n",
    "lm=LinearRegression()\n",
    "lm.fit(X,y)"
   ]
  },
  {
   "cell_type": "code",
   "execution_count": 35,
   "id": "efbeed2c",
   "metadata": {},
   "outputs": [
    {
     "name": "stdout",
     "output_type": "stream",
     "text": [
      "3.239388280409597\n",
      "[0.03348846]\n"
     ]
    }
   ],
   "source": [
    "#print co ef and intercept\n",
    "print(lm.intercept_)\n",
    "print(lm.coef_)"
   ]
  },
  {
   "cell_type": "code",
   "execution_count": 36,
   "id": "d3e753f1",
   "metadata": {},
   "outputs": [
    {
     "name": "stdout",
     "output_type": "stream",
     "text": [
      "      Radio\n",
      "0  0.000000\n",
      "1  7.071068\n",
      "[3.23938828 3.47618747]\n"
     ]
    }
   ],
   "source": [
    "#predict\n",
    "X_new= pd.DataFrame({'Radio':[adsale.Radio.min(),adsale.Radio.max()]})\n",
    "print(X_new.head())\n",
    "#model predict\n",
    "print(lm.predict(X_new))"
   ]
  },
  {
   "cell_type": "code",
   "execution_count": 37,
   "id": "cd9c80ec",
   "metadata": {},
   "outputs": [
    {
     "data": {
      "text/plain": [
       "[<matplotlib.lines.Line2D at 0x19e08559160>]"
      ]
     },
     "execution_count": 37,
     "metadata": {},
     "output_type": "execute_result"
    },
    {
     "data": {
      "image/png": "[encoded data removed]",
      "text/plain": [
       "<Figure size 432x288 with 1 Axes>"
      ]
     },
     "metadata": {
      "needs_background": "light"
     },
     "output_type": "display_data"
    }
   ],
   "source": [
    "#plot \n",
    "adsale.plot(kind='scatter', x='Radio',y='Sales')\n",
    "plt.plot(X_new, c='green', linewidth=1)"
   ]
  },
  {
   "cell_type": "code",
   "execution_count": 38,
   "id": "e9368719",
   "metadata": {},
   "outputs": [
    {
     "data": {
      "text/html": [
       "<div>\n",
       "<style scoped>\n",
       "    .dataframe tbody tr th:only-of-type {\n",
       "        vertical-align: middle;\n",
       "    }\n",
       "\n",
       "    .dataframe tbody tr th {\n",
       "        vertical-align: top;\n",
       "    }\n",
       "\n",
       "    .dataframe thead th {\n",
       "        text-align: right;\n",
       "    }\n",
       "</style>\n",
       "<table border=\"1\" class=\"dataframe\">\n",
       "  <thead>\n",
       "    <tr style=\"text-align: right;\">\n",
       "      <th></th>\n",
       "      <th>0</th>\n",
       "      <th>1</th>\n",
       "    </tr>\n",
       "  </thead>\n",
       "  <tbody>\n",
       "    <tr>\n",
       "      <th>Intercept</th>\n",
       "      <td>3.055691</td>\n",
       "      <td>3.423085</td>\n",
       "    </tr>\n",
       "    <tr>\n",
       "      <th>Radio</th>\n",
       "      <td>-0.002845</td>\n",
       "      <td>0.069822</td>\n",
       "    </tr>\n",
       "  </tbody>\n",
       "</table>\n",
       "</div>"
      ],
      "text/plain": [
       "                  0         1\n",
       "Intercept  3.055691  3.423085\n",
       "Radio     -0.002845  0.069822"
      ]
     },
     "execution_count": 38,
     "metadata": {},
     "output_type": "execute_result"
    }
   ],
   "source": [
    "#interval\n",
    "lm = smf.ols(formula='Sales~Radio', data=adsale).fit()\n",
    "lm.conf_int()"
   ]
  },
  {
   "cell_type": "code",
   "execution_count": 39,
   "id": "8bca67ce",
   "metadata": {},
   "outputs": [
    {
     "name": "stdout",
     "output_type": "stream",
     "text": [
      "Intercept    8.697907e-173\n",
      "Radio         7.079794e-02\n",
      "dtype: float64\n",
      "0.0032836867914816104\n"
     ]
    }
   ],
   "source": [
    "#values\n",
    "print(lm.pvalues)\n",
    "print(lm.rsquared)"
   ]
  },
  {
   "cell_type": "code",
   "execution_count": 40,
   "id": "afff8cd7",
   "metadata": {},
   "outputs": [],
   "source": [
    "#linear regression setting x as Newspaper,y\n",
    "X=pd.DataFrame(adsale.Newspaper)\n",
    "y=adsale.Sales"
   ]
  },
  {
   "cell_type": "code",
   "execution_count": 41,
   "id": "54f69aef",
   "metadata": {},
   "outputs": [
    {
     "data": {
      "text/plain": [
       "LinearRegression()"
      ]
     },
     "execution_count": 41,
     "metadata": {},
     "output_type": "execute_result"
    }
   ],
   "source": [
    "#linear regression initialize and fit\n",
    "lm=LinearRegression()\n",
    "lm.fit(X,y)"
   ]
  },
  {
   "cell_type": "code",
   "execution_count": 42,
   "id": "449d8063",
   "metadata": {},
   "outputs": [
    {
     "name": "stdout",
     "output_type": "stream",
     "text": [
      "3.5711479655194394\n",
      "[-0.0210757]\n"
     ]
    }
   ],
   "source": [
    "#print co ef and intercept\n",
    "print(lm.intercept_)\n",
    "print(lm.coef_)"
   ]
  },
  {
   "cell_type": "code",
   "execution_count": 43,
   "id": "78f89087",
   "metadata": {},
   "outputs": [
    {
     "name": "stdout",
     "output_type": "stream",
     "text": [
      "   Newspaper\n",
      "0   1.000000\n",
      "1  10.954451\n",
      "[3.55007226 3.3402752 ]\n"
     ]
    }
   ],
   "source": [
    "#predict\n",
    "X_new= pd.DataFrame({'Newspaper':[adsale.Newspaper.min(),adsale.Newspaper.max()]})\n",
    "print(X_new.head())\n",
    "#model predict\n",
    "print(lm.predict(X_new))"
   ]
  },
  {
   "cell_type": "code",
   "execution_count": 44,
   "id": "e970f38a",
   "metadata": {},
   "outputs": [
    {
     "data": {
      "text/plain": [
       "[<matplotlib.lines.Line2D at 0x19e08596c40>]"
      ]
     },
     "execution_count": 44,
     "metadata": {},
     "output_type": "execute_result"
    },
    {
     "data": {
      "image/png": "[encoded data removed]",
      "text/plain": [
       "<Figure size 432x288 with 1 Axes>"
      ]
     },
     "metadata": {
      "needs_background": "light"
     },
     "output_type": "display_data"
    }
   ],
   "source": [
    "#plot \n",
    "adsale.plot(kind='scatter', x='Newspaper',y='Sales')\n",
    "plt.plot(X_new, c='yellow', linewidth=1)"
   ]
  },
  {
   "cell_type": "code",
   "execution_count": 45,
   "id": "d8903efd",
   "metadata": {},
   "outputs": [
    {
     "data": {
      "text/html": [
       "<div>\n",
       "<style scoped>\n",
       "    .dataframe tbody tr th:only-of-type {\n",
       "        vertical-align: middle;\n",
       "    }\n",
       "\n",
       "    .dataframe tbody tr th {\n",
       "        vertical-align: top;\n",
       "    }\n",
       "\n",
       "    .dataframe thead th {\n",
       "        text-align: right;\n",
       "    }\n",
       "</style>\n",
       "<table border=\"1\" class=\"dataframe\">\n",
       "  <thead>\n",
       "    <tr style=\"text-align: right;\">\n",
       "      <th></th>\n",
       "      <th>0</th>\n",
       "      <th>1</th>\n",
       "    </tr>\n",
       "  </thead>\n",
       "  <tbody>\n",
       "    <tr>\n",
       "      <th>Intercept</th>\n",
       "      <td>3.305830</td>\n",
       "      <td>3.836466</td>\n",
       "    </tr>\n",
       "    <tr>\n",
       "      <th>Newspaper</th>\n",
       "      <td>-0.052973</td>\n",
       "      <td>0.010822</td>\n",
       "    </tr>\n",
       "  </tbody>\n",
       "</table>\n",
       "</div>"
      ],
      "text/plain": [
       "                  0         1\n",
       "Intercept  3.305830  3.836466\n",
       "Newspaper -0.052973  0.010822"
      ]
     },
     "execution_count": 45,
     "metadata": {},
     "output_type": "execute_result"
    }
   ],
   "source": [
    "#interval\n",
    "lm = smf.ols(formula='Sales~Newspaper', data=adsale).fit()\n",
    "lm.conf_int()"
   ]
  },
  {
   "cell_type": "code",
   "execution_count": 46,
   "id": "ff6c0c13",
   "metadata": {},
   "outputs": [
    {
     "name": "stdout",
     "output_type": "stream",
     "text": [
      "Intercept    7.104727e-117\n",
      "Newspaper     1.950716e-01\n",
      "dtype: float64\n",
      "0.001690149765232185\n"
     ]
    }
   ],
   "source": [
    "#values\n",
    "print(lm.pvalues)\n",
    "print(lm.rsquared)"
   ]
  },
  {
   "cell_type": "code",
   "execution_count": 47,
   "id": "11ecb238",
   "metadata": {},
   "outputs": [],
   "source": [
    "#using all variables \n",
    "feature=['TV','Radio','Newspaper']\n",
    "X=adsale[feature]\n",
    "y=adsale.Sales"
   ]
  },
  {
   "cell_type": "code",
   "execution_count": 48,
   "id": "c4115d65",
   "metadata": {},
   "outputs": [],
   "source": [
    "#train test split\n",
    "X_train, X_test, y_train, y_test = model_selection.train_test_split(X, y, test_size =0.25, random_state=0)"
   ]
  },
  {
   "cell_type": "code",
   "execution_count": 49,
   "id": "4bfa8fb2",
   "metadata": {},
   "outputs": [
    {
     "data": {
      "text/plain": [
       "LinearRegression()"
      ]
     },
     "execution_count": 49,
     "metadata": {},
     "output_type": "execute_result"
    }
   ],
   "source": [
    "#linear regression initialize and fit\n",
    "lm=LinearRegression()\n",
    "lm.fit(X_train,y_train)"
   ]
  },
  {
   "cell_type": "code",
   "execution_count": 50,
   "id": "5323aac1",
   "metadata": {},
   "outputs": [
    {
     "name": "stdout",
     "output_type": "stream",
     "text": [
      "3.0771358571698704\n",
      "[ 0.00320215  0.00817566 -0.02249184]\n"
     ]
    }
   ],
   "source": [
    "#print co ef and intercept\n",
    "print(lm.intercept_)\n",
    "print(lm.coef_)"
   ]
  },
  {
   "cell_type": "code",
   "execution_count": 51,
   "id": "45f66ec8",
   "metadata": {},
   "outputs": [
    {
     "data": {
      "text/plain": [
       "array([3.58079517, 3.37324933, 3.29290989, 3.67771502, 3.68592126,\n",
       "       3.67226574, 3.36356575, 3.71746293, 3.3576348 , 3.66693113,\n",
       "       3.51839817, 3.19971158, 2.93717085, 3.61999887, 3.39530112,\n",
       "       3.11342238, 3.09770254, 3.52445638, 3.12913741, 3.5905048 ,\n",
       "       3.30994647, 3.70022316, 3.42648168, 3.49208352, 3.52564245,\n",
       "       3.14350328, 3.52205684, 3.55033126, 3.51065842, 3.28425183,\n",
       "       3.63822633, 3.28747269, 3.58442199, 3.42182449, 3.43436027,\n",
       "       3.43040728, 3.40609016, 3.45226565, 3.1835859 , 3.32646927,\n",
       "       3.32486103, 3.62998474, 3.41349837, 3.632308  , 3.31955691,\n",
       "       3.26073327, 3.42697226, 3.22629979, 3.40642047, 3.44081315,\n",
       "       3.53222526, 3.28504121, 3.31103191, 3.51031602, 3.72156534,\n",
       "       3.13322855, 3.69747494, 3.50066533, 3.63926331, 3.75732397,\n",
       "       3.07098285, 3.25747387, 3.0933286 , 3.42838484, 3.40111321,\n",
       "       3.38692741, 3.83389802, 3.6512351 , 3.2044975 , 3.64323336,\n",
       "       3.48628829, 3.34952773, 3.38737895, 3.44957611, 3.46459631,\n",
       "       3.64753579, 3.69784059, 3.3380912 , 3.51129099, 3.52052991,\n",
       "       3.59965866, 3.64163953, 3.31983557, 3.25416531, 3.71283446,\n",
       "       3.55900842, 3.42333268, 3.23953128, 3.58106564, 3.42974128,\n",
       "       3.73824187, 3.1359326 , 3.04861064, 3.54722664, 3.71543873,\n",
       "       3.44546081, 3.51917144, 3.37786802, 3.51959476, 3.68365064,\n",
       "       3.41645537, 3.1384637 , 3.57617342, 3.50957852, 3.55895154,\n",
       "       3.71193113, 3.6774811 , 3.55505403, 3.67760597, 3.3751649 ,\n",
       "       3.07292903, 3.22246633, 3.56455212, 3.71831629, 3.14634084,\n",
       "       3.36915193, 3.15927511, 3.42783963, 3.5207579 , 3.05780434,\n",
       "       3.16963629, 3.32847775, 3.15335077, 3.21207293, 3.2739459 ,\n",
       "       3.5799269 , 3.06991315, 3.50909243, 3.29539758, 3.46920913,\n",
       "       3.43264423, 3.09403015, 3.11340876, 3.39216419, 3.88842665,\n",
       "       3.51733707, 3.34645892, 3.39840772, 3.41931673, 3.65347417,\n",
       "       3.31234347, 3.64674329, 3.77513152, 3.23783294, 3.12223271,\n",
       "       3.86929659, 3.35664237, 3.25374588, 3.69724723, 3.32435397,\n",
       "       3.47076082, 3.51055831, 3.29190749, 3.5031607 , 3.24411596,\n",
       "       3.11791301, 3.71143694, 3.38978442, 3.07506558, 3.17471381,\n",
       "       3.49432644, 3.66703521, 3.16195272, 3.55677366, 3.44321621,\n",
       "       3.35058274, 3.60085229, 3.5017175 , 3.20789244, 3.55669008,\n",
       "       3.22744799, 3.5944414 , 3.22955102, 3.46738531, 3.38564   ,\n",
       "       3.41007358, 3.1637465 , 3.38502609, 3.46142213, 3.30656202,\n",
       "       3.58618984, 3.20979193, 3.62225014, 3.28755669, 3.22142163,\n",
       "       2.96738068, 3.18829888, 3.35228009, 3.36778481, 3.41436451,\n",
       "       3.33616825, 3.81937607, 3.25589082, 3.28964731, 3.3159844 ,\n",
       "       3.17825049, 3.24396914, 3.71776242, 3.27368035, 3.4156236 ,\n",
       "       3.4341538 , 3.44436021, 3.5983293 , 3.18091835, 3.17058782,\n",
       "       3.11694479, 3.46603308, 3.65115991, 3.41801705, 3.40590838,\n",
       "       3.57982238, 3.49173024, 3.69125265, 3.26221093, 3.30948898,\n",
       "       3.2765552 , 3.37950962, 3.05848752, 3.47213197, 3.15297601,\n",
       "       3.14348918, 3.33448869, 3.33438169, 3.41719378, 3.71260397,\n",
       "       3.68851366, 3.2841877 , 3.26238276, 3.47715462, 3.60871989,\n",
       "       3.31062948, 3.56886281, 3.6606795 , 3.08167802, 3.07883575,\n",
       "       3.31647882, 3.53332648, 3.00036555, 3.47445305, 3.5528765 ,\n",
       "       3.66485872, 3.5256903 , 3.54377669, 3.3712486 , 2.99821425,\n",
       "       3.32150608, 3.43630818, 3.52716455, 3.63958433])"
      ]
     },
     "execution_count": 51,
     "metadata": {},
     "output_type": "execute_result"
    }
   ],
   "source": [
    "#predict\n",
    "ypred=lm.predict(X_test)\n",
    "ypred"
   ]
  },
  {
   "cell_type": "code",
   "execution_count": 52,
   "id": "53a23d41",
   "metadata": {},
   "outputs": [
    {
     "name": "stdout",
     "output_type": "stream",
     "text": [
      "0.9394402067898802\n"
     ]
    }
   ],
   "source": [
    "#mse\n",
    "print(np.sqrt(mean_squared_error(y_test,ypred)))"
   ]
  },
  {
   "cell_type": "code",
   "execution_count": 53,
   "id": "4a60d2b3",
   "metadata": {},
   "outputs": [
    {
     "name": "stdout",
     "output_type": "stream",
     "text": [
      "                  0         1\n",
      "Intercept  2.698538  3.360343\n",
      "TV         0.002056  0.003904\n",
      "Radio     -0.007258  0.064082\n",
      "Newspaper -0.057256  0.005313\n",
      "                            OLS Regression Results                            \n",
      "==============================================================================\n",
      "Dep. Variable:                  Sales   R-squared:                       0.044\n",
      "Model:                            OLS   Adj. R-squared:                  0.041\n",
      "Method:                 Least Squares   F-statistic:                     15.10\n",
      "Date:                Fri, 02 Dec 2022   Prob (F-statistic):           1.29e-09\n",
      "Time:                        18:02:07   Log-Likelihood:                -1318.7\n",
      "No. Observations:                 995   AIC:                             2645.\n",
      "Df Residuals:                     991   BIC:                             2665.\n",
      "Df Model:                           3                                         \n",
      "Covariance Type:            nonrobust                                         \n",
      "==============================================================================\n",
      "                 coef    std err          t      P>|t|      [0.025      0.975]\n",
      "------------------------------------------------------------------------------\n",
      "Intercept      3.0294      0.169     17.966      0.000       2.699       3.360\n",
      "TV             0.0030      0.000      6.331      0.000       0.002       0.004\n",
      "Radio          0.0284      0.018      1.563      0.118      -0.007       0.064\n",
      "Newspaper     -0.0260      0.016     -1.629      0.104      -0.057       0.005\n",
      "==============================================================================\n",
      "Omnibus:                       61.673   Durbin-Watson:                   1.953\n",
      "Prob(Omnibus):                  0.000   Jarque-Bera (JB):               45.517\n",
      "Skew:                          -0.423   Prob(JB):                     1.31e-10\n",
      "Kurtosis:                       2.381   Cond. No.                         947.\n",
      "==============================================================================\n",
      "\n",
      "Notes:\n",
      "[1] Standard Errors assume that the covariance matrix of the errors is correctly specified.\n"
     ]
    }
   ],
   "source": [
    "#interval\n",
    "lm = smf.ols(formula='Sales~TV+ Radio+Newspaper', data=adsale).fit()\n",
    "print(lm.conf_int())\n",
    "print(lm.summary())"
   ]
  },
  {
   "cell_type": "code",
   "execution_count": 90,
   "id": "ab655960",
   "metadata": {},
   "outputs": [
    {
     "data": {
      "text/html": [
       "<div>\n",
       "<style scoped>\n",
       "    .dataframe tbody tr th:only-of-type {\n",
       "        vertical-align: middle;\n",
       "    }\n",
       "\n",
       "    .dataframe tbody tr th {\n",
       "        vertical-align: top;\n",
       "    }\n",
       "\n",
       "    .dataframe thead th {\n",
       "        text-align: right;\n",
       "    }\n",
       "</style>\n",
       "<table border=\"1\" class=\"dataframe\">\n",
       "  <thead>\n",
       "    <tr style=\"text-align: right;\">\n",
       "      <th></th>\n",
       "      <th>TV</th>\n",
       "      <th>Radio</th>\n",
       "      <th>Newspaper</th>\n",
       "      <th>Sales</th>\n",
       "      <th>size</th>\n",
       "      <th>islarge</th>\n",
       "    </tr>\n",
       "  </thead>\n",
       "  <tbody>\n",
       "    <tr>\n",
       "      <th>0</th>\n",
       "      <td>230.1</td>\n",
       "      <td>6.148170</td>\n",
       "      <td>8.318654</td>\n",
       "      <td>4.701064</td>\n",
       "      <td>large</td>\n",
       "      <td>1</td>\n",
       "    </tr>\n",
       "    <tr>\n",
       "      <th>1</th>\n",
       "      <td>44.5</td>\n",
       "      <td>6.268971</td>\n",
       "      <td>6.715653</td>\n",
       "      <td>3.224903</td>\n",
       "      <td>small</td>\n",
       "      <td>0</td>\n",
       "    </tr>\n",
       "    <tr>\n",
       "      <th>2</th>\n",
       "      <td>17.2</td>\n",
       "      <td>6.774954</td>\n",
       "      <td>8.324662</td>\n",
       "      <td>3.049590</td>\n",
       "      <td>small</td>\n",
       "      <td>0</td>\n",
       "    </tr>\n",
       "    <tr>\n",
       "      <th>3</th>\n",
       "      <td>151.5</td>\n",
       "      <td>6.426508</td>\n",
       "      <td>7.648529</td>\n",
       "      <td>4.301163</td>\n",
       "      <td>large</td>\n",
       "      <td>1</td>\n",
       "    </tr>\n",
       "    <tr>\n",
       "      <th>4</th>\n",
       "      <td>180.8</td>\n",
       "      <td>3.286335</td>\n",
       "      <td>7.641989</td>\n",
       "      <td>3.591657</td>\n",
       "      <td>large</td>\n",
       "      <td>1</td>\n",
       "    </tr>\n",
       "    <tr>\n",
       "      <th>...</th>\n",
       "      <td>...</td>\n",
       "      <td>...</td>\n",
       "      <td>...</td>\n",
       "      <td>...</td>\n",
       "      <td>...</td>\n",
       "      <td>...</td>\n",
       "    </tr>\n",
       "    <tr>\n",
       "      <th>990</th>\n",
       "      <td>141.0</td>\n",
       "      <td>6.164414</td>\n",
       "      <td>10.295630</td>\n",
       "      <td>2.828427</td>\n",
       "      <td>small</td>\n",
       "      <td>0</td>\n",
       "    </tr>\n",
       "    <tr>\n",
       "      <th>991</th>\n",
       "      <td>75.0</td>\n",
       "      <td>5.385165</td>\n",
       "      <td>10.630146</td>\n",
       "      <td>3.162278</td>\n",
       "      <td>small</td>\n",
       "      <td>0</td>\n",
       "    </tr>\n",
       "    <tr>\n",
       "      <th>992</th>\n",
       "      <td>175.0</td>\n",
       "      <td>3.741657</td>\n",
       "      <td>10.392305</td>\n",
       "      <td>2.449490</td>\n",
       "      <td>large</td>\n",
       "      <td>1</td>\n",
       "    </tr>\n",
       "    <tr>\n",
       "      <th>993</th>\n",
       "      <td>83.0</td>\n",
       "      <td>5.385165</td>\n",
       "      <td>8.831761</td>\n",
       "      <td>4.795832</td>\n",
       "      <td>small</td>\n",
       "      <td>0</td>\n",
       "    </tr>\n",
       "    <tr>\n",
       "      <th>994</th>\n",
       "      <td>64.0</td>\n",
       "      <td>6.164414</td>\n",
       "      <td>9.539392</td>\n",
       "      <td>2.449490</td>\n",
       "      <td>large</td>\n",
       "      <td>1</td>\n",
       "    </tr>\n",
       "  </tbody>\n",
       "</table>\n",
       "<p>995 rows × 6 columns</p>\n",
       "</div>"
      ],
      "text/plain": [
       "        TV     Radio  Newspaper     Sales   size islarge\n",
       "0    230.1  6.148170   8.318654  4.701064  large       1\n",
       "1     44.5  6.268971   6.715653  3.224903  small       0\n",
       "2     17.2  6.774954   8.324662  3.049590  small       0\n",
       "3    151.5  6.426508   7.648529  4.301163  large       1\n",
       "4    180.8  3.286335   7.641989  3.591657  large       1\n",
       "..     ...       ...        ...       ...    ...     ...\n",
       "990  141.0  6.164414  10.295630  2.828427  small       0\n",
       "991   75.0  5.385165  10.630146  3.162278  small       0\n",
       "992  175.0  3.741657  10.392305  2.449490  large       1\n",
       "993   83.0  5.385165   8.831761  4.795832  small       0\n",
       "994   64.0  6.164414   9.539392  2.449490  large       1\n",
       "\n",
       "[995 rows x 6 columns]"
      ]
     },
     "execution_count": 90,
     "metadata": {},
     "output_type": "execute_result"
    }
   ],
   "source": [
    "#using random seed to create a dummy variable\n",
    "np.random.seed(123)\n",
    "nums=np.random.rand(len(adsale))\n",
    "mask_large = nums>0.5\n",
    "adsale['size'] ='small'\n",
    "adsale.loc[mask_large,'size'] = 'large'\n",
    "adsale"
   ]
  },
  {
   "cell_type": "code",
   "execution_count": 91,
   "id": "14c67c12",
   "metadata": {},
   "outputs": [],
   "source": [
    "#giving dummy variables for size\n",
    "adsale['islarge'] = np.where(adsale['size']== 'large', '1', '0')"
   ]
  },
  {
   "cell_type": "code",
   "execution_count": 93,
   "id": "6e8edeaf",
   "metadata": {},
   "outputs": [
    {
     "data": {
      "text/html": [
       "<div>\n",
       "<style scoped>\n",
       "    .dataframe tbody tr th:only-of-type {\n",
       "        vertical-align: middle;\n",
       "    }\n",
       "\n",
       "    .dataframe tbody tr th {\n",
       "        vertical-align: top;\n",
       "    }\n",
       "\n",
       "    .dataframe thead th {\n",
       "        text-align: right;\n",
       "    }\n",
       "</style>\n",
       "<table border=\"1\" class=\"dataframe\">\n",
       "  <thead>\n",
       "    <tr style=\"text-align: right;\">\n",
       "      <th></th>\n",
       "      <th>TV</th>\n",
       "      <th>Radio</th>\n",
       "      <th>Newspaper</th>\n",
       "      <th>Sales</th>\n",
       "      <th>size</th>\n",
       "      <th>islarge</th>\n",
       "      <th>Area</th>\n",
       "    </tr>\n",
       "  </thead>\n",
       "  <tbody>\n",
       "    <tr>\n",
       "      <th>0</th>\n",
       "      <td>230.1</td>\n",
       "      <td>6.148170</td>\n",
       "      <td>8.318654</td>\n",
       "      <td>4.701064</td>\n",
       "      <td>large</td>\n",
       "      <td>1</td>\n",
       "      <td>urban</td>\n",
       "    </tr>\n",
       "    <tr>\n",
       "      <th>1</th>\n",
       "      <td>44.5</td>\n",
       "      <td>6.268971</td>\n",
       "      <td>6.715653</td>\n",
       "      <td>3.224903</td>\n",
       "      <td>small</td>\n",
       "      <td>0</td>\n",
       "      <td>rural</td>\n",
       "    </tr>\n",
       "    <tr>\n",
       "      <th>2</th>\n",
       "      <td>17.2</td>\n",
       "      <td>6.774954</td>\n",
       "      <td>8.324662</td>\n",
       "      <td>3.049590</td>\n",
       "      <td>small</td>\n",
       "      <td>0</td>\n",
       "      <td>rural</td>\n",
       "    </tr>\n",
       "    <tr>\n",
       "      <th>3</th>\n",
       "      <td>151.5</td>\n",
       "      <td>6.426508</td>\n",
       "      <td>7.648529</td>\n",
       "      <td>4.301163</td>\n",
       "      <td>large</td>\n",
       "      <td>1</td>\n",
       "      <td>urban</td>\n",
       "    </tr>\n",
       "    <tr>\n",
       "      <th>4</th>\n",
       "      <td>180.8</td>\n",
       "      <td>3.286335</td>\n",
       "      <td>7.641989</td>\n",
       "      <td>3.591657</td>\n",
       "      <td>large</td>\n",
       "      <td>1</td>\n",
       "      <td>urban</td>\n",
       "    </tr>\n",
       "  </tbody>\n",
       "</table>\n",
       "</div>"
      ],
      "text/plain": [
       "      TV     Radio  Newspaper     Sales   size islarge   Area\n",
       "0  230.1  6.148170   8.318654  4.701064  large       1  urban\n",
       "1   44.5  6.268971   6.715653  3.224903  small       0  rural\n",
       "2   17.2  6.774954   8.324662  3.049590  small       0  rural\n",
       "3  151.5  6.426508   7.648529  4.301163  large       1  urban\n",
       "4  180.8  3.286335   7.641989  3.591657  large       1  urban"
      ]
     },
     "execution_count": 93,
     "metadata": {},
     "output_type": "execute_result"
    }
   ],
   "source": [
    "#using random seed to create a dummy variable\n",
    "np.random.seed(123)\n",
    "nums=np.random.rand(len(adsale))\n",
    "mask_suburban= (nums>0.33) & (nums<0.66) \n",
    "mask_urban = nums>0.5\n",
    "adsale['Area'] ='rural'\n",
    "adsale.loc[mask_suburban,'Area'] = 'suburban'\n",
    "adsale.loc[mask_urban,'Area'] = 'urban'\n",
    "adsale.head()"
   ]
  },
  {
   "cell_type": "code",
   "execution_count": null,
   "id": "0ddea3d1",
   "metadata": {},
   "outputs": [],
   "source": [
    "#giving dummy variables for size\n",
    "adsale['islarge'] = np.where(adsale['size']== 'large', '1', '0')"
   ]
  },
  {
   "cell_type": "code",
   "execution_count": 100,
   "id": "f3a3c526",
   "metadata": {},
   "outputs": [
    {
     "data": {
      "text/html": [
       "<div>\n",
       "<style scoped>\n",
       "    .dataframe tbody tr th:only-of-type {\n",
       "        vertical-align: middle;\n",
       "    }\n",
       "\n",
       "    .dataframe tbody tr th {\n",
       "        vertical-align: top;\n",
       "    }\n",
       "\n",
       "    .dataframe thead th {\n",
       "        text-align: right;\n",
       "    }\n",
       "</style>\n",
       "<table border=\"1\" class=\"dataframe\">\n",
       "  <thead>\n",
       "    <tr style=\"text-align: right;\">\n",
       "      <th></th>\n",
       "      <th>TV</th>\n",
       "      <th>Radio</th>\n",
       "      <th>Newspaper</th>\n",
       "      <th>Sales</th>\n",
       "      <th>size</th>\n",
       "      <th>islarge</th>\n",
       "      <th>Area</th>\n",
       "      <th>Area_suburban</th>\n",
       "      <th>Area_urban</th>\n",
       "    </tr>\n",
       "  </thead>\n",
       "  <tbody>\n",
       "    <tr>\n",
       "      <th>0</th>\n",
       "      <td>230.1</td>\n",
       "      <td>6.148170</td>\n",
       "      <td>8.318654</td>\n",
       "      <td>4.701064</td>\n",
       "      <td>large</td>\n",
       "      <td>1</td>\n",
       "      <td>urban</td>\n",
       "      <td>0</td>\n",
       "      <td>1</td>\n",
       "    </tr>\n",
       "    <tr>\n",
       "      <th>1</th>\n",
       "      <td>44.5</td>\n",
       "      <td>6.268971</td>\n",
       "      <td>6.715653</td>\n",
       "      <td>3.224903</td>\n",
       "      <td>small</td>\n",
       "      <td>0</td>\n",
       "      <td>rural</td>\n",
       "      <td>0</td>\n",
       "      <td>0</td>\n",
       "    </tr>\n",
       "    <tr>\n",
       "      <th>2</th>\n",
       "      <td>17.2</td>\n",
       "      <td>6.774954</td>\n",
       "      <td>8.324662</td>\n",
       "      <td>3.049590</td>\n",
       "      <td>small</td>\n",
       "      <td>0</td>\n",
       "      <td>rural</td>\n",
       "      <td>0</td>\n",
       "      <td>0</td>\n",
       "    </tr>\n",
       "    <tr>\n",
       "      <th>3</th>\n",
       "      <td>151.5</td>\n",
       "      <td>6.426508</td>\n",
       "      <td>7.648529</td>\n",
       "      <td>4.301163</td>\n",
       "      <td>large</td>\n",
       "      <td>1</td>\n",
       "      <td>urban</td>\n",
       "      <td>0</td>\n",
       "      <td>1</td>\n",
       "    </tr>\n",
       "    <tr>\n",
       "      <th>4</th>\n",
       "      <td>180.8</td>\n",
       "      <td>3.286335</td>\n",
       "      <td>7.641989</td>\n",
       "      <td>3.591657</td>\n",
       "      <td>large</td>\n",
       "      <td>1</td>\n",
       "      <td>urban</td>\n",
       "      <td>0</td>\n",
       "      <td>1</td>\n",
       "    </tr>\n",
       "  </tbody>\n",
       "</table>\n",
       "</div>"
      ],
      "text/plain": [
       "      TV     Radio  Newspaper     Sales   size islarge   Area  Area_suburban  \\\n",
       "0  230.1  6.148170   8.318654  4.701064  large       1  urban              0   \n",
       "1   44.5  6.268971   6.715653  3.224903  small       0  rural              0   \n",
       "2   17.2  6.774954   8.324662  3.049590  small       0  rural              0   \n",
       "3  151.5  6.426508   7.648529  4.301163  large       1  urban              0   \n",
       "4  180.8  3.286335   7.641989  3.591657  large       1  urban              0   \n",
       "\n",
       "   Area_urban  \n",
       "0           1  \n",
       "1           0  \n",
       "2           0  \n",
       "3           1  \n",
       "4           1  "
      ]
     },
     "execution_count": 100,
     "metadata": {},
     "output_type": "execute_result"
    }
   ],
   "source": [
    "#making dummy variables for area\n",
    "area_dummies=pd.get_dummies(adsale.Area, prefix= 'Area').iloc[:,1:]\n",
    "adsale=pd.concat([adsale,area_dummies],axis=1)\n",
    "adsale.head()"
   ]
  },
  {
   "cell_type": "code",
   "execution_count": 102,
   "id": "98ff0025",
   "metadata": {},
   "outputs": [],
   "source": [
    "#using new variables\n",
    "feature=['TV','Radio','Newspaper','islarge','Area_suburban','Area_urban']\n",
    "X=adsale[feature]\n",
    "y=adsale.Sales"
   ]
  },
  {
   "cell_type": "code",
   "execution_count": 114,
   "id": "e6c03cb8",
   "metadata": {},
   "outputs": [],
   "source": [
    "#train test split\n",
    "X_train, X_test, y_train, y_test = model_selection.train_test_split(X, y, test_size =0.3, random_state=0)"
   ]
  },
  {
   "cell_type": "code",
   "execution_count": 115,
   "id": "3e788861",
   "metadata": {},
   "outputs": [
    {
     "data": {
      "text/plain": [
       "LinearRegression()"
      ]
     },
     "execution_count": 115,
     "metadata": {},
     "output_type": "execute_result"
    }
   ],
   "source": [
    "#linear regression initialize and fit\n",
    "lm=LinearRegression()\n",
    "lm.fit(X_train,y_train)"
   ]
  },
  {
   "cell_type": "code",
   "execution_count": 116,
   "id": "e2865194",
   "metadata": {},
   "outputs": [
    {
     "name": "stdout",
     "output_type": "stream",
     "text": [
      "3.068089145888778\n",
      "['TV', 'Radio', 'Newspaper', 'islarge', 'Area_suburban', 'Area_urban'] [ 0.00337013  0.01048921 -0.02784318  0.01628021  0.02190704  0.01628021]\n"
     ]
    }
   ],
   "source": [
    "#print co ef and intercept\n",
    "print(lm.intercept_)\n",
    "print(feature, lm.coef_)"
   ]
  },
  {
   "cell_type": "code",
   "execution_count": 117,
   "id": "ab6d30ce",
   "metadata": {},
   "outputs": [
    {
     "data": {
      "text/plain": [
       "array([3.5993502 , 3.35030032, 3.29192069, 3.69769721, 3.72179704,\n",
       "       3.7011474 , 3.33438056, 3.72608545, 3.36039942, 3.69135773,\n",
       "       3.49440719, 3.18835382, 2.91983668, 3.60765227, 3.40303814,\n",
       "       3.09707504, 3.07671937, 3.53871331, 3.13474714, 3.60640851,\n",
       "       3.29911755, 3.69869403, 3.44947066, 3.47963566, 3.5132426 ,\n",
       "       3.13582222, 3.49795352, 3.57008786, 3.52283779, 3.28442958,\n",
       "       3.67514297, 3.25551879, 3.5805358 , 3.40643874, 3.44031438,\n",
       "       3.4640679 , 3.40633693, 3.44681191, 3.19712792, 3.34187485,\n",
       "       3.30212394, 3.65376255, 3.42107077, 3.65091314, 3.2985912 ,\n",
       "       3.25479851, 3.42869927, 3.23616049, 3.43759131, 3.42260315,\n",
       "       3.53808012, 3.31325149, 3.27974197, 3.48348877, 3.75070337,\n",
       "       3.13052752, 3.72950787, 3.53649164, 3.68223487, 3.80197967,\n",
       "       3.05678272, 3.26810902, 3.05539576, 3.43924263, 3.42222363,\n",
       "       3.3973538 , 3.8430318 , 3.63520257, 3.18425724, 3.67260569,\n",
       "       3.50268529, 3.32786552, 3.4140115 , 3.42456395, 3.4782705 ,\n",
       "       3.6693772 , 3.72173359, 3.33917159, 3.50354152, 3.53706682,\n",
       "       3.62189121, 3.62473727, 3.30934633, 3.24582916, 3.72636523,\n",
       "       3.58263177, 3.43558289, 3.24187684, 3.60230319, 3.40368731,\n",
       "       3.78421327, 3.1010203 , 2.999294  , 3.55058369, 3.75615751,\n",
       "       3.4573461 , 3.53742703, 3.39487454, 3.52960508, 3.71876911,\n",
       "       3.43436015, 3.12192208, 3.60743122, 3.52725366, 3.55169617,\n",
       "       3.7250271 , 3.70012436, 3.53676592, 3.68799363, 3.39977757,\n",
       "       3.06418991, 3.22052128, 3.5499287 , 3.75341779, 3.13105019,\n",
       "       3.3844324 , 3.12806502, 3.43837136, 3.53383604, 3.04543325,\n",
       "       3.16941203, 3.34163043, 3.15241466, 3.21699791, 3.26713775,\n",
       "       3.61654207, 3.02657259, 3.51189886, 3.2931124 , 3.46934952,\n",
       "       3.44343123, 3.10633644, 3.10599833, 3.38397481, 3.93115716,\n",
       "       3.53343616, 3.36672305, 3.4218249 , 3.43806062, 3.66495404,\n",
       "       3.31480401, 3.6834513 , 3.80002451, 3.23395448, 3.08135793,\n",
       "       3.87663683, 3.32831446, 3.26802914, 3.69694693, 3.32706024,\n",
       "       3.47442231, 3.53176745, 3.31313867, 3.52057638, 3.24517714,\n",
       "       3.1153907 , 3.74318733, 3.40583286, 3.06625291, 3.19226816,\n",
       "       3.50924219, 3.68744882, 3.1720806 , 3.54503909, 3.46057397,\n",
       "       3.35634148, 3.63289989, 3.51464279, 3.1918575 , 3.53747259,\n",
       "       3.24055131, 3.63786571, 3.22295985, 3.48615505, 3.37910811,\n",
       "       3.40253712, 3.16327975, 3.36166968, 3.47805411, 3.29099116,\n",
       "       3.61476284, 3.1771786 , 3.61304002, 3.30297371, 3.1902021 ,\n",
       "       2.95153687, 3.15839171, 3.35397565, 3.34667787, 3.4225652 ,\n",
       "       3.35440692, 3.82159538, 3.22376123, 3.27814594, 3.31406139,\n",
       "       3.1635343 , 3.25315581, 3.74612459, 3.27579222, 3.39666447,\n",
       "       3.42339292, 3.43553953, 3.62304065, 3.17628222, 3.17383515,\n",
       "       3.08875831, 3.49566693, 3.64222573, 3.43616397, 3.42062878,\n",
       "       3.60453761, 3.50938479, 3.69828075, 3.2611431 , 3.27651222,\n",
       "       3.24633365, 3.35406497, 3.04380118, 3.47349549, 3.15529945,\n",
       "       3.13573354, 3.31861141, 3.3484958 , 3.43862115, 3.73242135,\n",
       "       3.71682192, 3.28909536, 3.27602415, 3.49916938, 3.59724147,\n",
       "       3.31370243, 3.57656662, 3.68576168, 3.07305488, 3.03300851,\n",
       "       3.28859605, 3.55337318, 2.96533427, 3.50587356, 3.56845038,\n",
       "       3.69061455, 3.51839734, 3.56515662, 3.37836031, 2.99534918,\n",
       "       3.3355907 , 3.44768394, 3.55908297, 3.62542203, 3.46069043,\n",
       "       3.35477013, 3.09683134, 3.06733909, 3.76013511, 3.27459639,\n",
       "       3.13643882, 3.75743056, 3.4341206 , 3.1271092 , 3.54835117,\n",
       "       3.39958484, 3.16168947, 3.58201905, 3.58684791, 3.69899437,\n",
       "       3.6275787 , 3.22390787, 3.56287784, 3.41707226, 3.67942374,\n",
       "       3.30261175, 3.42407051, 3.26672656, 3.30117638, 2.98213487,\n",
       "       3.34365906, 3.60802663, 3.25969779, 3.37591514, 3.69800727,\n",
       "       3.69047589, 3.41532358, 3.27499487, 3.44162797, 3.11157148,\n",
       "       3.36848137, 3.49105642, 3.30645339, 3.40211336, 3.39636594,\n",
       "       3.35898887, 3.56453595, 3.15248296, 3.10642754, 3.40524474,\n",
       "       3.69156808, 3.13306448, 3.18582544, 3.74565665])"
      ]
     },
     "execution_count": 117,
     "metadata": {},
     "output_type": "execute_result"
    }
   ],
   "source": [
    "#predict\n",
    "ypred=lm.predict(X_test)\n",
    "ypred"
   ]
  },
  {
   "cell_type": "code",
   "execution_count": 121,
   "id": "7009368d",
   "metadata": {},
   "outputs": [
    {
     "name": "stdout",
     "output_type": "stream",
     "text": [
      "0.9339507346605983\n"
     ]
    }
   ],
   "source": [
    "#mse\n",
    "print(np.sqrt(mean_squared_error(y_test,ypred)))"
   ]
  },
  {
   "cell_type": "code",
   "execution_count": null,
   "id": "c4584a40",
   "metadata": {},
   "outputs": [],
   "source": []
  }
 ],
 "metadata": {
  "kernelspec": {
   "display_name": "Python 3 (ipykernel)",
   "language": "python",
   "name": "python3"
  },
  "language_info": {
   "codemirror_mode": {
    "name": "ipython",
    "version": 3
   },
   "file_extension": ".py",
   "mimetype": "text/x-python",
   "name": "python",
   "nbconvert_exporter": "python",
   "pygments_lexer": "ipython3",
   "version": "3.9.12"
  }
 },
 "nbformat": 4,
 "nbformat_minor": 5
}
