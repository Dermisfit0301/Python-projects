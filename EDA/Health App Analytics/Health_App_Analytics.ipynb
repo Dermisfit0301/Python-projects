{
  "nbformat": 4,
  "nbformat_minor": 0,
  "metadata": {
    "colab": {
      "provenance": []
    },
    "kernelspec": {
      "name": "python3",
      "display_name": "Python 3"
    },
    "language_info": {
      "name": "python"
    }
  },
  "cells": [
    {
      "cell_type": "markdown",
      "source": [
        "**Health app analysis**\n",
        "\n",
        "Here we are provided real time usage data of a user who used this health app for ten days. Our job is to analyse the usage pattern and derive insights from the data.\n"
      ],
      "metadata": {
        "id": "53NRCwE9pnHL"
      }
    },
    {
      "cell_type": "code",
      "source": [
        "#getting the packages\n",
        "import pandas as pd\n",
        "import matplotlib.pyplot as plt\n",
        "import seaborn as sns\n",
        "from wordcloud import WordCloud\n",
        "from datetime import datetime"
      ],
      "metadata": {
        "id": "V2lBscJ-WHG8"
      },
      "execution_count": null,
      "outputs": []
    },
    {
      "cell_type": "code",
      "source": [
        "#loading the data\n",
        "logs_df = pd.read_csv('/content/sample_data/HealthApp_2k.log_structured.csv')\n",
        "logs_df.head()\n"
      ],
      "metadata": {
        "colab": {
          "base_uri": "https://localhost:8080/",
          "height": 206
        },
        "id": "T5jqbfYkWeED",
        "outputId": "d1bf4320-1a17-441d-f6b3-176d81aa8e96"
      },
      "execution_count": null,
      "outputs": [
        {
          "output_type": "execute_result",
          "data": {
            "text/plain": [
              "   LineId                   Time                 Component       Pid  \\\n",
              "0       1  20171223-22:15:29:606                  Step_LSC  30002312   \n",
              "1       2  20171223-22:15:29:615                  Step_LSC  30002312   \n",
              "2       3  20171223-22:15:29:633  Step_StandReportReceiver  30002312   \n",
              "3       4  20171223-22:15:29:635                  Step_LSC  30002312   \n",
              "4       5  20171223-22:15:29:635     Step_StandStepCounter  30002312   \n",
              "\n",
              "                                             Content EventId  \\\n",
              "0                            onStandStepChanged 3579     E42   \n",
              "1                      onExtend:1514038530000 14 0 4     E39   \n",
              "2  onReceive action: android.intent.action.SCREEN_ON     E41   \n",
              "3  processHandleBroadcastAction action:android.in...     E43   \n",
              "4                                  flush sensor data     E12   \n",
              "\n",
              "                                       EventTemplate  \n",
              "0                             onStandStepChanged <*>  \n",
              "1                           onExtend:<*> <*> <*> <*>  \n",
              "2  onReceive action: android.intent.action.SCREEN_ON  \n",
              "3  processHandleBroadcastAction action:android.in...  \n",
              "4                                  flush sensor data  "
            ],
            "text/html": [
              "\n",
              "  <div id=\"df-d6591592-99d4-433f-9017-58a02bf5dbbf\" class=\"colab-df-container\">\n",
              "    <div>\n",
              "<style scoped>\n",
              "    .dataframe tbody tr th:only-of-type {\n",
              "        vertical-align: middle;\n",
              "    }\n",
              "\n",
              "    .dataframe tbody tr th {\n",
              "        vertical-align: top;\n",
              "    }\n",
              "\n",
              "    .dataframe thead th {\n",
              "        text-align: right;\n",
              "    }\n",
              "</style>\n",
              "<table border=\"1\" class=\"dataframe\">\n",
              "  <thead>\n",
              "    <tr style=\"text-align: right;\">\n",
              "      <th></th>\n",
              "      <th>LineId</th>\n",
              "      <th>Time</th>\n",
              "      <th>Component</th>\n",
              "      <th>Pid</th>\n",
              "      <th>Content</th>\n",
              "      <th>EventId</th>\n",
              "      <th>EventTemplate</th>\n",
              "    </tr>\n",
              "  </thead>\n",
              "  <tbody>\n",
              "    <tr>\n",
              "      <th>0</th>\n",
              "      <td>1</td>\n",
              "      <td>20171223-22:15:29:606</td>\n",
              "      <td>Step_LSC</td>\n",
              "      <td>30002312</td>\n",
              "      <td>onStandStepChanged 3579</td>\n",
              "      <td>E42</td>\n",
              "      <td>onStandStepChanged &lt;*&gt;</td>\n",
              "    </tr>\n",
              "    <tr>\n",
              "      <th>1</th>\n",
              "      <td>2</td>\n",
              "      <td>20171223-22:15:29:615</td>\n",
              "      <td>Step_LSC</td>\n",
              "      <td>30002312</td>\n",
              "      <td>onExtend:1514038530000 14 0 4</td>\n",
              "      <td>E39</td>\n",
              "      <td>onExtend:&lt;*&gt; &lt;*&gt; &lt;*&gt; &lt;*&gt;</td>\n",
              "    </tr>\n",
              "    <tr>\n",
              "      <th>2</th>\n",
              "      <td>3</td>\n",
              "      <td>20171223-22:15:29:633</td>\n",
              "      <td>Step_StandReportReceiver</td>\n",
              "      <td>30002312</td>\n",
              "      <td>onReceive action: android.intent.action.SCREEN_ON</td>\n",
              "      <td>E41</td>\n",
              "      <td>onReceive action: android.intent.action.SCREEN_ON</td>\n",
              "    </tr>\n",
              "    <tr>\n",
              "      <th>3</th>\n",
              "      <td>4</td>\n",
              "      <td>20171223-22:15:29:635</td>\n",
              "      <td>Step_LSC</td>\n",
              "      <td>30002312</td>\n",
              "      <td>processHandleBroadcastAction action:android.in...</td>\n",
              "      <td>E43</td>\n",
              "      <td>processHandleBroadcastAction action:android.in...</td>\n",
              "    </tr>\n",
              "    <tr>\n",
              "      <th>4</th>\n",
              "      <td>5</td>\n",
              "      <td>20171223-22:15:29:635</td>\n",
              "      <td>Step_StandStepCounter</td>\n",
              "      <td>30002312</td>\n",
              "      <td>flush sensor data</td>\n",
              "      <td>E12</td>\n",
              "      <td>flush sensor data</td>\n",
              "    </tr>\n",
              "  </tbody>\n",
              "</table>\n",
              "</div>\n",
              "    <div class=\"colab-df-buttons\">\n",
              "\n",
              "  <div class=\"colab-df-container\">\n",
              "    <button class=\"colab-df-convert\" onclick=\"convertToInteractive('df-d6591592-99d4-433f-9017-58a02bf5dbbf')\"\n",
              "            title=\"Convert this dataframe to an interactive table.\"\n",
              "            style=\"display:none;\">\n",
              "\n",
              "  <svg xmlns=\"http://www.w3.org/2000/svg\" height=\"24px\" viewBox=\"0 -960 960 960\">\n",
              "    <path d=\"M120-120v-720h720v720H120Zm60-500h600v-160H180v160Zm220 220h160v-160H400v160Zm0 220h160v-160H400v160ZM180-400h160v-160H180v160Zm440 0h160v-160H620v160ZM180-180h160v-160H180v160Zm440 0h160v-160H620v160Z\"/>\n",
              "  </svg>\n",
              "    </button>\n",
              "\n",
              "  <style>\n",
              "    .colab-df-container {\n",
              "      display:flex;\n",
              "      gap: 12px;\n",
              "    }\n",
              "\n",
              "    .colab-df-convert {\n",
              "      background-color: #E8F0FE;\n",
              "      border: none;\n",
              "      border-radius: 50%;\n",
              "      cursor: pointer;\n",
              "      display: none;\n",
              "      fill: #1967D2;\n",
              "      height: 32px;\n",
              "      padding: 0 0 0 0;\n",
              "      width: 32px;\n",
              "    }\n",
              "\n",
              "    .colab-df-convert:hover {\n",
              "      background-color: #E2EBFA;\n",
              "      box-shadow: 0px 1px 2px rgba(60, 64, 67, 0.3), 0px 1px 3px 1px rgba(60, 64, 67, 0.15);\n",
              "      fill: #174EA6;\n",
              "    }\n",
              "\n",
              "    .colab-df-buttons div {\n",
              "      margin-bottom: 4px;\n",
              "    }\n",
              "\n",
              "    [theme=dark] .colab-df-convert {\n",
              "      background-color: #3B4455;\n",
              "      fill: #D2E3FC;\n",
              "    }\n",
              "\n",
              "    [theme=dark] .colab-df-convert:hover {\n",
              "      background-color: #434B5C;\n",
              "      box-shadow: 0px 1px 3px 1px rgba(0, 0, 0, 0.15);\n",
              "      filter: drop-shadow(0px 1px 2px rgba(0, 0, 0, 0.3));\n",
              "      fill: #FFFFFF;\n",
              "    }\n",
              "  </style>\n",
              "\n",
              "    <script>\n",
              "      const buttonEl =\n",
              "        document.querySelector('#df-d6591592-99d4-433f-9017-58a02bf5dbbf button.colab-df-convert');\n",
              "      buttonEl.style.display =\n",
              "        google.colab.kernel.accessAllowed ? 'block' : 'none';\n",
              "\n",
              "      async function convertToInteractive(key) {\n",
              "        const element = document.querySelector('#df-d6591592-99d4-433f-9017-58a02bf5dbbf');\n",
              "        const dataTable =\n",
              "          await google.colab.kernel.invokeFunction('convertToInteractive',\n",
              "                                                    [key], {});\n",
              "        if (!dataTable) return;\n",
              "\n",
              "        const docLinkHtml = 'Like what you see? Visit the ' +\n",
              "          '<a target=\"_blank\" href=https://colab.research.google.com/notebooks/data_table.ipynb>data table notebook</a>'\n",
              "          + ' to learn more about interactive tables.';\n",
              "        element.innerHTML = '';\n",
              "        dataTable['output_type'] = 'display_data';\n",
              "        await google.colab.output.renderOutput(dataTable, element);\n",
              "        const docLink = document.createElement('div');\n",
              "        docLink.innerHTML = docLinkHtml;\n",
              "        element.appendChild(docLink);\n",
              "      }\n",
              "    </script>\n",
              "  </div>\n",
              "\n",
              "\n",
              "<div id=\"df-96d8790c-7775-4f68-83a9-a767425105a7\">\n",
              "  <button class=\"colab-df-quickchart\" onclick=\"quickchart('df-96d8790c-7775-4f68-83a9-a767425105a7')\"\n",
              "            title=\"Suggest charts\"\n",
              "            style=\"display:none;\">\n",
              "\n",
              "<svg xmlns=\"http://www.w3.org/2000/svg\" height=\"24px\"viewBox=\"0 0 24 24\"\n",
              "     width=\"24px\">\n",
              "    <g>\n",
              "        <path d=\"M19 3H5c-1.1 0-2 .9-2 2v14c0 1.1.9 2 2 2h14c1.1 0 2-.9 2-2V5c0-1.1-.9-2-2-2zM9 17H7v-7h2v7zm4 0h-2V7h2v10zm4 0h-2v-4h2v4z\"/>\n",
              "    </g>\n",
              "</svg>\n",
              "  </button>\n",
              "\n",
              "<style>\n",
              "  .colab-df-quickchart {\n",
              "      --bg-color: #E8F0FE;\n",
              "      --fill-color: #1967D2;\n",
              "      --hover-bg-color: #E2EBFA;\n",
              "      --hover-fill-color: #174EA6;\n",
              "      --disabled-fill-color: #AAA;\n",
              "      --disabled-bg-color: #DDD;\n",
              "  }\n",
              "\n",
              "  [theme=dark] .colab-df-quickchart {\n",
              "      --bg-color: #3B4455;\n",
              "      --fill-color: #D2E3FC;\n",
              "      --hover-bg-color: #434B5C;\n",
              "      --hover-fill-color: #FFFFFF;\n",
              "      --disabled-bg-color: #3B4455;\n",
              "      --disabled-fill-color: #666;\n",
              "  }\n",
              "\n",
              "  .colab-df-quickchart {\n",
              "    background-color: var(--bg-color);\n",
              "    border: none;\n",
              "    border-radius: 50%;\n",
              "    cursor: pointer;\n",
              "    display: none;\n",
              "    fill: var(--fill-color);\n",
              "    height: 32px;\n",
              "    padding: 0;\n",
              "    width: 32px;\n",
              "  }\n",
              "\n",
              "  .colab-df-quickchart:hover {\n",
              "    background-color: var(--hover-bg-color);\n",
              "    box-shadow: 0 1px 2px rgba(60, 64, 67, 0.3), 0 1px 3px 1px rgba(60, 64, 67, 0.15);\n",
              "    fill: var(--button-hover-fill-color);\n",
              "  }\n",
              "\n",
              "  .colab-df-quickchart-complete:disabled,\n",
              "  .colab-df-quickchart-complete:disabled:hover {\n",
              "    background-color: var(--disabled-bg-color);\n",
              "    fill: var(--disabled-fill-color);\n",
              "    box-shadow: none;\n",
              "  }\n",
              "\n",
              "  .colab-df-spinner {\n",
              "    border: 2px solid var(--fill-color);\n",
              "    border-color: transparent;\n",
              "    border-bottom-color: var(--fill-color);\n",
              "    animation:\n",
              "      spin 1s steps(1) infinite;\n",
              "  }\n",
              "\n",
              "  @keyframes spin {\n",
              "    0% {\n",
              "      border-color: transparent;\n",
              "      border-bottom-color: var(--fill-color);\n",
              "      border-left-color: var(--fill-color);\n",
              "    }\n",
              "    20% {\n",
              "      border-color: transparent;\n",
              "      border-left-color: var(--fill-color);\n",
              "      border-top-color: var(--fill-color);\n",
              "    }\n",
              "    30% {\n",
              "      border-color: transparent;\n",
              "      border-left-color: var(--fill-color);\n",
              "      border-top-color: var(--fill-color);\n",
              "      border-right-color: var(--fill-color);\n",
              "    }\n",
              "    40% {\n",
              "      border-color: transparent;\n",
              "      border-right-color: var(--fill-color);\n",
              "      border-top-color: var(--fill-color);\n",
              "    }\n",
              "    60% {\n",
              "      border-color: transparent;\n",
              "      border-right-color: var(--fill-color);\n",
              "    }\n",
              "    80% {\n",
              "      border-color: transparent;\n",
              "      border-right-color: var(--fill-color);\n",
              "      border-bottom-color: var(--fill-color);\n",
              "    }\n",
              "    90% {\n",
              "      border-color: transparent;\n",
              "      border-bottom-color: var(--fill-color);\n",
              "    }\n",
              "  }\n",
              "</style>\n",
              "\n",
              "  <script>\n",
              "    async function quickchart(key) {\n",
              "      const quickchartButtonEl =\n",
              "        document.querySelector('#' + key + ' button');\n",
              "      quickchartButtonEl.disabled = true;  // To prevent multiple clicks.\n",
              "      quickchartButtonEl.classList.add('colab-df-spinner');\n",
              "      try {\n",
              "        const charts = await google.colab.kernel.invokeFunction(\n",
              "            'suggestCharts', [key], {});\n",
              "      } catch (error) {\n",
              "        console.error('Error during call to suggestCharts:', error);\n",
              "      }\n",
              "      quickchartButtonEl.classList.remove('colab-df-spinner');\n",
              "      quickchartButtonEl.classList.add('colab-df-quickchart-complete');\n",
              "    }\n",
              "    (() => {\n",
              "      let quickchartButtonEl =\n",
              "        document.querySelector('#df-96d8790c-7775-4f68-83a9-a767425105a7 button');\n",
              "      quickchartButtonEl.style.display =\n",
              "        google.colab.kernel.accessAllowed ? 'block' : 'none';\n",
              "    })();\n",
              "  </script>\n",
              "</div>\n",
              "\n",
              "    </div>\n",
              "  </div>\n"
            ]
          },
          "metadata": {},
          "execution_count": 2
        }
      ]
    },
    {
      "cell_type": "code",
      "source": [
        "#examining the dataset\n",
        "logs_df.info()"
      ],
      "metadata": {
        "colab": {
          "base_uri": "https://localhost:8080/"
        },
        "id": "-v9RGUvGXeAp",
        "outputId": "e50d558c-c8a4-4d1d-ed9b-e91dc1f35a7b"
      },
      "execution_count": null,
      "outputs": [
        {
          "output_type": "stream",
          "name": "stdout",
          "text": [
            "<class 'pandas.core.frame.DataFrame'>\n",
            "RangeIndex: 2000 entries, 0 to 1999\n",
            "Data columns (total 7 columns):\n",
            " #   Column         Non-Null Count  Dtype \n",
            "---  ------         --------------  ----- \n",
            " 0   LineId         2000 non-null   int64 \n",
            " 1   Time           2000 non-null   object\n",
            " 2   Component      2000 non-null   object\n",
            " 3   Pid            2000 non-null   int64 \n",
            " 4   Content        2000 non-null   object\n",
            " 5   EventId        2000 non-null   object\n",
            " 6   EventTemplate  2000 non-null   object\n",
            "dtypes: int64(2), object(5)\n",
            "memory usage: 109.5+ KB\n"
          ]
        }
      ]
    },
    {
      "cell_type": "code",
      "source": [
        "#formatting the time\n",
        "logs_df['Time'] = pd.to_datetime(logs_df['Time'], format='%Y%m%d-%H:%M:%S:%f')\n",
        "logs_df['Time']"
      ],
      "metadata": {
        "colab": {
          "base_uri": "https://localhost:8080/"
        },
        "id": "pvr_NJmjXbI5",
        "outputId": "d14925f9-51ef-4110-b433-6b9908bf7918"
      },
      "execution_count": null,
      "outputs": [
        {
          "output_type": "execute_result",
          "data": {
            "text/plain": [
              "0      2017-12-23 22:15:29.606\n",
              "1      2017-12-23 22:15:29.615\n",
              "2      2017-12-23 22:15:29.633\n",
              "3      2017-12-23 22:15:29.635\n",
              "4      2017-12-23 22:15:29.635\n",
              "                 ...          \n",
              "1995   2017-12-24 00:58:53.985\n",
              "1996   2017-12-24 00:59:07.581\n",
              "1997   2017-12-24 01:00:00.794\n",
              "1998   2017-12-24 01:01:00.935\n",
              "1999   2017-12-24 01:02:35.789\n",
              "Name: Time, Length: 2000, dtype: datetime64[ns]"
            ]
          },
          "metadata": {},
          "execution_count": 5
        }
      ]
    },
    {
      "cell_type": "code",
      "source": [
        "#seeing various components counts\n",
        "logs_df['Component'].value_counts()"
      ],
      "metadata": {
        "colab": {
          "base_uri": "https://localhost:8080/"
        },
        "id": "eUmSYuJ9X0Kl",
        "outputId": "64497014-dc07-47c8-d239-a87336a2b749"
      },
      "execution_count": null,
      "outputs": [
        {
          "output_type": "execute_result",
          "data": {
            "text/plain": [
              "Step_LSC                       710\n",
              "Step_SPUtils                   494\n",
              "Step_ExtSDM                    482\n",
              "Step_StandReportReceiver       171\n",
              "HiH_HiSyncControl               42\n",
              "Step_StandStepCounter           19\n",
              "HiH_DataStatManager             17\n",
              "HiH_HiHealthDataInsertStore     11\n",
              "HiH_                            10\n",
              "HiH_HiHealthBinder               9\n",
              "HiH_HiAppUtil                    8\n",
              "Step_FlushableStepDataCache      8\n",
              "HiH_HiBroadcastUtil              5\n",
              "Step_StandStepDataManager        5\n",
              "HiH_ListenerManager              2\n",
              "HiH_HiSyncUtil                   2\n",
              "Step_HGNH                        2\n",
              "Step_ScreenUtil                  1\n",
              "Step_DataCache                   1\n",
              "Step_NotificationUtil            1\n",
              "Name: Component, dtype: int64"
            ]
          },
          "metadata": {},
          "execution_count": 6
        }
      ]
    },
    {
      "cell_type": "code",
      "source": [
        "#seeing various content counts\n",
        "logs_df['Content'].value_counts()\n"
      ],
      "metadata": {
        "colab": {
          "base_uri": "https://localhost:8080/"
        },
        "id": "AbQF-7WUX9gd",
        "outputId": "0241ca22-5946-4f2b-82b8-17686d3274dd"
      },
      "execution_count": null,
      "outputs": [
        {
          "output_type": "execute_result",
          "data": {
            "text/plain": [
              "calculateAltitudeWithCache totalAltitude=240                                                             217\n",
              "processHandleBroadcastAction action:android.intent.action.TIME_TICK                                      144\n",
              "onStandStepChanged 3786                                                                                   73\n",
              "onStandStepChanged 3761                                                                                   59\n",
              "calculateCaloriesWithCache totalCalories=130673                                                           48\n",
              "                                                                                                        ... \n",
              "onExtend:1514038677000 1 0 4                                                                               1\n",
              " getTodayTotalDetailSteps = 1514038560000##7105##548582##8661##16256##27319968                             1\n",
              "setTodayTotalDetailSteps=1514038560000##7106##548583##8661##16256##27320969                                1\n",
              "calculateCaloriesWithCache totalCalories=128895                                                            1\n",
              "checkCurrentDay a new day comes , reset basicSyncCondition, currentDay is 20171224 oldDay is 20171223      1\n",
              "Name: Content, Length: 1179, dtype: int64"
            ]
          },
          "metadata": {},
          "execution_count": 7
        }
      ]
    },
    {
      "cell_type": "code",
      "source": [
        "#counting the daily steps\n",
        "daily_steps = logs_df[logs_df['Component'] == 'Step_ExtSDM'].groupby(logs_df['Time'].dt.date)['Content'].count()\n"
      ],
      "metadata": {
        "id": "sAoCFBbWhByd"
      },
      "execution_count": null,
      "outputs": []
    },
    {
      "cell_type": "code",
      "source": [
        "# Daily Steps Plot\n",
        "plt.figure(figsize=(10, 6))\n",
        "daily_steps.plot(kind='bar', color='skyblue')\n",
        "plt.title('Daily Steps')\n",
        "plt.xlabel('Date')\n",
        "plt.ylabel('Steps')\n",
        "plt.show()"
      ],
      "metadata": {
        "colab": {
          "base_uri": "https://localhost:8080/",
          "height": 630
        },
        "id": "gqKB9BaGhig6",
        "outputId": "9f633c18-e2e4-4f3d-a23b-ffd74526bc13"
      },
      "execution_count": null,
      "outputs": [
        {
          "output_type": "display_data",
          "data": {
            "text/plain": [
              "<Figure size 1000x600 with 1 Axes>"
            ],
            "image/png": "[encoded data removed]"
          },
          "metadata": {}
        }
      ]
    },
    {
      "cell_type": "code",
      "source": [
        "#seeing the active times\n",
        "logs_df['Hour'] = logs_df['Time'].dt.hour\n",
        "active_times = logs_df.groupby('Hour')['LineId'].count()\n",
        "active_times"
      ],
      "metadata": {
        "colab": {
          "base_uri": "https://localhost:8080/"
        },
        "id": "Vs-viy40ha86",
        "outputId": "811ecc9b-7442-43cd-9672-cd507cb11c39"
      },
      "execution_count": null,
      "outputs": [
        {
          "output_type": "execute_result",
          "data": {
            "text/plain": [
              "Hour\n",
              "0      221\n",
              "1        3\n",
              "22    1243\n",
              "23     533\n",
              "Name: LineId, dtype: int64"
            ]
          },
          "metadata": {},
          "execution_count": 16
        }
      ]
    },
    {
      "cell_type": "code",
      "source": [
        "# Active Times Plot\n",
        "plt.figure(figsize=(10, 6))\n",
        "sns.barplot(x=active_times.index, y=active_times.values, color='salmon')\n",
        "plt.title('Active Times During the Day')\n",
        "plt.xlabel('Hour of the Day')\n",
        "plt.ylabel('Number of Events')\n",
        "plt.show()"
      ],
      "metadata": {
        "colab": {
          "base_uri": "https://localhost:8080/",
          "height": 564
        },
        "id": "aGf_jmC_hzaR",
        "outputId": "672b704f-a5b4-4f84-c8e6-9004c2bc1099"
      },
      "execution_count": null,
      "outputs": [
        {
          "output_type": "display_data",
          "data": {
            "text/plain": [
              "<Figure size 1000x600 with 1 Axes>"
            ],
            "image/png": "[encoded data removed]"
          },
          "metadata": {}
        }
      ]
    },
    {
      "cell_type": "code",
      "source": [
        "# Filtering rows related to workout activities\n",
        "workout_df = logs_df[logs_df['Component'].isin(['Step_LSC', 'Step_ExtSDM'])]\n",
        "workout_df"
      ],
      "metadata": {
        "colab": {
          "base_uri": "https://localhost:8080/",
          "height": 424
        },
        "id": "WYExX2WHi-dv",
        "outputId": "5f13294a-f79c-4c4c-b524-7eb85378539f"
      },
      "execution_count": null,
      "outputs": [
        {
          "output_type": "execute_result",
          "data": {
            "text/plain": [
              "      LineId                    Time    Component       Pid  \\\n",
              "0          1 2017-12-23 22:15:29.606     Step_LSC  30002312   \n",
              "1          2 2017-12-23 22:15:29.615     Step_LSC  30002312   \n",
              "3          4 2017-12-23 22:15:29.635     Step_LSC  30002312   \n",
              "7          8 2017-12-23 22:15:29.636     Step_LSC  30002312   \n",
              "8          9 2017-12-23 22:15:29.645  Step_ExtSDM  30002312   \n",
              "...      ...                     ...          ...       ...   \n",
              "1995    1996 2017-12-24 00:58:53.985     Step_LSC  30002312   \n",
              "1996    1997 2017-12-24 00:59:07.581     Step_LSC  30002312   \n",
              "1997    1998 2017-12-24 01:00:00.794     Step_LSC  30002312   \n",
              "1998    1999 2017-12-24 01:01:00.935     Step_LSC  30002312   \n",
              "1999    2000 2017-12-24 01:02:35.789     Step_LSC  30002312   \n",
              "\n",
              "                                                Content EventId  \\\n",
              "0                               onStandStepChanged 3579     E42   \n",
              "1                         onExtend:1514038530000 14 0 4     E39   \n",
              "3     processHandleBroadcastAction action:android.in...     E43   \n",
              "7                               onStandStepChanged 3579     E42   \n",
              "8       calculateCaloriesWithCache totalCalories=126775      E4   \n",
              "...                                                 ...     ...   \n",
              "1995  processHandleBroadcastAction action:android.in...     E44   \n",
              "1996  processHandleBroadcastAction action:android.in...     E44   \n",
              "1997  processHandleBroadcastAction action:android.in...     E44   \n",
              "1998  processHandleBroadcastAction action:android.in...     E44   \n",
              "1999  processHandleBroadcastAction action:android.in...     E44   \n",
              "\n",
              "                                          EventTemplate  Hour  \n",
              "0                                onStandStepChanged <*>    22  \n",
              "1                              onExtend:<*> <*> <*> <*>    22  \n",
              "3     processHandleBroadcastAction action:android.in...    22  \n",
              "7                                onStandStepChanged <*>    22  \n",
              "8          calculateCaloriesWithCache totalCalories=<*>    22  \n",
              "...                                                 ...   ...  \n",
              "1995  processHandleBroadcastAction action:android.in...     0  \n",
              "1996  processHandleBroadcastAction action:android.in...     0  \n",
              "1997  processHandleBroadcastAction action:android.in...     1  \n",
              "1998  processHandleBroadcastAction action:android.in...     1  \n",
              "1999  processHandleBroadcastAction action:android.in...     1  \n",
              "\n",
              "[1192 rows x 8 columns]"
            ],
            "text/html": [
              "\n",
              "  <div id=\"df-2d9b4008-12ec-484b-9793-c31bdbf76a45\" class=\"colab-df-container\">\n",
              "    <div>\n",
              "<style scoped>\n",
              "    .dataframe tbody tr th:only-of-type {\n",
              "        vertical-align: middle;\n",
              "    }\n",
              "\n",
              "    .dataframe tbody tr th {\n",
              "        vertical-align: top;\n",
              "    }\n",
              "\n",
              "    .dataframe thead th {\n",
              "        text-align: right;\n",
              "    }\n",
              "</style>\n",
              "<table border=\"1\" class=\"dataframe\">\n",
              "  <thead>\n",
              "    <tr style=\"text-align: right;\">\n",
              "      <th></th>\n",
              "      <th>LineId</th>\n",
              "      <th>Time</th>\n",
              "      <th>Component</th>\n",
              "      <th>Pid</th>\n",
              "      <th>Content</th>\n",
              "      <th>EventId</th>\n",
              "      <th>EventTemplate</th>\n",
              "      <th>Hour</th>\n",
              "    </tr>\n",
              "  </thead>\n",
              "  <tbody>\n",
              "    <tr>\n",
              "      <th>0</th>\n",
              "      <td>1</td>\n",
              "      <td>2017-12-23 22:15:29.606</td>\n",
              "      <td>Step_LSC</td>\n",
              "      <td>30002312</td>\n",
              "      <td>onStandStepChanged 3579</td>\n",
              "      <td>E42</td>\n",
              "      <td>onStandStepChanged &lt;*&gt;</td>\n",
              "      <td>22</td>\n",
              "    </tr>\n",
              "    <tr>\n",
              "      <th>1</th>\n",
              "      <td>2</td>\n",
              "      <td>2017-12-23 22:15:29.615</td>\n",
              "      <td>Step_LSC</td>\n",
              "      <td>30002312</td>\n",
              "      <td>onExtend:1514038530000 14 0 4</td>\n",
              "      <td>E39</td>\n",
              "      <td>onExtend:&lt;*&gt; &lt;*&gt; &lt;*&gt; &lt;*&gt;</td>\n",
              "      <td>22</td>\n",
              "    </tr>\n",
              "    <tr>\n",
              "      <th>3</th>\n",
              "      <td>4</td>\n",
              "      <td>2017-12-23 22:15:29.635</td>\n",
              "      <td>Step_LSC</td>\n",
              "      <td>30002312</td>\n",
              "      <td>processHandleBroadcastAction action:android.in...</td>\n",
              "      <td>E43</td>\n",
              "      <td>processHandleBroadcastAction action:android.in...</td>\n",
              "      <td>22</td>\n",
              "    </tr>\n",
              "    <tr>\n",
              "      <th>7</th>\n",
              "      <td>8</td>\n",
              "      <td>2017-12-23 22:15:29.636</td>\n",
              "      <td>Step_LSC</td>\n",
              "      <td>30002312</td>\n",
              "      <td>onStandStepChanged 3579</td>\n",
              "      <td>E42</td>\n",
              "      <td>onStandStepChanged &lt;*&gt;</td>\n",
              "      <td>22</td>\n",
              "    </tr>\n",
              "    <tr>\n",
              "      <th>8</th>\n",
              "      <td>9</td>\n",
              "      <td>2017-12-23 22:15:29.645</td>\n",
              "      <td>Step_ExtSDM</td>\n",
              "      <td>30002312</td>\n",
              "      <td>calculateCaloriesWithCache totalCalories=126775</td>\n",
              "      <td>E4</td>\n",
              "      <td>calculateCaloriesWithCache totalCalories=&lt;*&gt;</td>\n",
              "      <td>22</td>\n",
              "    </tr>\n",
              "    <tr>\n",
              "      <th>...</th>\n",
              "      <td>...</td>\n",
              "      <td>...</td>\n",
              "      <td>...</td>\n",
              "      <td>...</td>\n",
              "      <td>...</td>\n",
              "      <td>...</td>\n",
              "      <td>...</td>\n",
              "      <td>...</td>\n",
              "    </tr>\n",
              "    <tr>\n",
              "      <th>1995</th>\n",
              "      <td>1996</td>\n",
              "      <td>2017-12-24 00:58:53.985</td>\n",
              "      <td>Step_LSC</td>\n",
              "      <td>30002312</td>\n",
              "      <td>processHandleBroadcastAction action:android.in...</td>\n",
              "      <td>E44</td>\n",
              "      <td>processHandleBroadcastAction action:android.in...</td>\n",
              "      <td>0</td>\n",
              "    </tr>\n",
              "    <tr>\n",
              "      <th>1996</th>\n",
              "      <td>1997</td>\n",
              "      <td>2017-12-24 00:59:07.581</td>\n",
              "      <td>Step_LSC</td>\n",
              "      <td>30002312</td>\n",
              "      <td>processHandleBroadcastAction action:android.in...</td>\n",
              "      <td>E44</td>\n",
              "      <td>processHandleBroadcastAction action:android.in...</td>\n",
              "      <td>0</td>\n",
              "    </tr>\n",
              "    <tr>\n",
              "      <th>1997</th>\n",
              "      <td>1998</td>\n",
              "      <td>2017-12-24 01:00:00.794</td>\n",
              "      <td>Step_LSC</td>\n",
              "      <td>30002312</td>\n",
              "      <td>processHandleBroadcastAction action:android.in...</td>\n",
              "      <td>E44</td>\n",
              "      <td>processHandleBroadcastAction action:android.in...</td>\n",
              "      <td>1</td>\n",
              "    </tr>\n",
              "    <tr>\n",
              "      <th>1998</th>\n",
              "      <td>1999</td>\n",
              "      <td>2017-12-24 01:01:00.935</td>\n",
              "      <td>Step_LSC</td>\n",
              "      <td>30002312</td>\n",
              "      <td>processHandleBroadcastAction action:android.in...</td>\n",
              "      <td>E44</td>\n",
              "      <td>processHandleBroadcastAction action:android.in...</td>\n",
              "      <td>1</td>\n",
              "    </tr>\n",
              "    <tr>\n",
              "      <th>1999</th>\n",
              "      <td>2000</td>\n",
              "      <td>2017-12-24 01:02:35.789</td>\n",
              "      <td>Step_LSC</td>\n",
              "      <td>30002312</td>\n",
              "      <td>processHandleBroadcastAction action:android.in...</td>\n",
              "      <td>E44</td>\n",
              "      <td>processHandleBroadcastAction action:android.in...</td>\n",
              "      <td>1</td>\n",
              "    </tr>\n",
              "  </tbody>\n",
              "</table>\n",
              "<p>1192 rows × 8 columns</p>\n",
              "</div>\n",
              "    <div class=\"colab-df-buttons\">\n",
              "\n",
              "  <div class=\"colab-df-container\">\n",
              "    <button class=\"colab-df-convert\" onclick=\"convertToInteractive('df-2d9b4008-12ec-484b-9793-c31bdbf76a45')\"\n",
              "            title=\"Convert this dataframe to an interactive table.\"\n",
              "            style=\"display:none;\">\n",
              "\n",
              "  <svg xmlns=\"http://www.w3.org/2000/svg\" height=\"24px\" viewBox=\"0 -960 960 960\">\n",
              "    <path d=\"M120-120v-720h720v720H120Zm60-500h600v-160H180v160Zm220 220h160v-160H400v160Zm0 220h160v-160H400v160ZM180-400h160v-160H180v160Zm440 0h160v-160H620v160ZM180-180h160v-160H180v160Zm440 0h160v-160H620v160Z\"/>\n",
              "  </svg>\n",
              "    </button>\n",
              "\n",
              "  <style>\n",
              "    .colab-df-container {\n",
              "      display:flex;\n",
              "      gap: 12px;\n",
              "    }\n",
              "\n",
              "    .colab-df-convert {\n",
              "      background-color: #E8F0FE;\n",
              "      border: none;\n",
              "      border-radius: 50%;\n",
              "      cursor: pointer;\n",
              "      display: none;\n",
              "      fill: #1967D2;\n",
              "      height: 32px;\n",
              "      padding: 0 0 0 0;\n",
              "      width: 32px;\n",
              "    }\n",
              "\n",
              "    .colab-df-convert:hover {\n",
              "      background-color: #E2EBFA;\n",
              "      box-shadow: 0px 1px 2px rgba(60, 64, 67, 0.3), 0px 1px 3px 1px rgba(60, 64, 67, 0.15);\n",
              "      fill: #174EA6;\n",
              "    }\n",
              "\n",
              "    .colab-df-buttons div {\n",
              "      margin-bottom: 4px;\n",
              "    }\n",
              "\n",
              "    [theme=dark] .colab-df-convert {\n",
              "      background-color: #3B4455;\n",
              "      fill: #D2E3FC;\n",
              "    }\n",
              "\n",
              "    [theme=dark] .colab-df-convert:hover {\n",
              "      background-color: #434B5C;\n",
              "      box-shadow: 0px 1px 3px 1px rgba(0, 0, 0, 0.15);\n",
              "      filter: drop-shadow(0px 1px 2px rgba(0, 0, 0, 0.3));\n",
              "      fill: #FFFFFF;\n",
              "    }\n",
              "  </style>\n",
              "\n",
              "    <script>\n",
              "      const buttonEl =\n",
              "        document.querySelector('#df-2d9b4008-12ec-484b-9793-c31bdbf76a45 button.colab-df-convert');\n",
              "      buttonEl.style.display =\n",
              "        google.colab.kernel.accessAllowed ? 'block' : 'none';\n",
              "\n",
              "      async function convertToInteractive(key) {\n",
              "        const element = document.querySelector('#df-2d9b4008-12ec-484b-9793-c31bdbf76a45');\n",
              "        const dataTable =\n",
              "          await google.colab.kernel.invokeFunction('convertToInteractive',\n",
              "                                                    [key], {});\n",
              "        if (!dataTable) return;\n",
              "\n",
              "        const docLinkHtml = 'Like what you see? Visit the ' +\n",
              "          '<a target=\"_blank\" href=https://colab.research.google.com/notebooks/data_table.ipynb>data table notebook</a>'\n",
              "          + ' to learn more about interactive tables.';\n",
              "        element.innerHTML = '';\n",
              "        dataTable['output_type'] = 'display_data';\n",
              "        await google.colab.output.renderOutput(dataTable, element);\n",
              "        const docLink = document.createElement('div');\n",
              "        docLink.innerHTML = docLinkHtml;\n",
              "        element.appendChild(docLink);\n",
              "      }\n",
              "    </script>\n",
              "  </div>\n",
              "\n",
              "\n",
              "<div id=\"df-f14bf588-8783-4156-bcae-7d6a2ad795f8\">\n",
              "  <button class=\"colab-df-quickchart\" onclick=\"quickchart('df-f14bf588-8783-4156-bcae-7d6a2ad795f8')\"\n",
              "            title=\"Suggest charts\"\n",
              "            style=\"display:none;\">\n",
              "\n",
              "<svg xmlns=\"http://www.w3.org/2000/svg\" height=\"24px\"viewBox=\"0 0 24 24\"\n",
              "     width=\"24px\">\n",
              "    <g>\n",
              "        <path d=\"M19 3H5c-1.1 0-2 .9-2 2v14c0 1.1.9 2 2 2h14c1.1 0 2-.9 2-2V5c0-1.1-.9-2-2-2zM9 17H7v-7h2v7zm4 0h-2V7h2v10zm4 0h-2v-4h2v4z\"/>\n",
              "    </g>\n",
              "</svg>\n",
              "  </button>\n",
              "\n",
              "<style>\n",
              "  .colab-df-quickchart {\n",
              "      --bg-color: #E8F0FE;\n",
              "      --fill-color: #1967D2;\n",
              "      --hover-bg-color: #E2EBFA;\n",
              "      --hover-fill-color: #174EA6;\n",
              "      --disabled-fill-color: #AAA;\n",
              "      --disabled-bg-color: #DDD;\n",
              "  }\n",
              "\n",
              "  [theme=dark] .colab-df-quickchart {\n",
              "      --bg-color: #3B4455;\n",
              "      --fill-color: #D2E3FC;\n",
              "      --hover-bg-color: #434B5C;\n",
              "      --hover-fill-color: #FFFFFF;\n",
              "      --disabled-bg-color: #3B4455;\n",
              "      --disabled-fill-color: #666;\n",
              "  }\n",
              "\n",
              "  .colab-df-quickchart {\n",
              "    background-color: var(--bg-color);\n",
              "    border: none;\n",
              "    border-radius: 50%;\n",
              "    cursor: pointer;\n",
              "    display: none;\n",
              "    fill: var(--fill-color);\n",
              "    height: 32px;\n",
              "    padding: 0;\n",
              "    width: 32px;\n",
              "  }\n",
              "\n",
              "  .colab-df-quickchart:hover {\n",
              "    background-color: var(--hover-bg-color);\n",
              "    box-shadow: 0 1px 2px rgba(60, 64, 67, 0.3), 0 1px 3px 1px rgba(60, 64, 67, 0.15);\n",
              "    fill: var(--button-hover-fill-color);\n",
              "  }\n",
              "\n",
              "  .colab-df-quickchart-complete:disabled,\n",
              "  .colab-df-quickchart-complete:disabled:hover {\n",
              "    background-color: var(--disabled-bg-color);\n",
              "    fill: var(--disabled-fill-color);\n",
              "    box-shadow: none;\n",
              "  }\n",
              "\n",
              "  .colab-df-spinner {\n",
              "    border: 2px solid var(--fill-color);\n",
              "    border-color: transparent;\n",
              "    border-bottom-color: var(--fill-color);\n",
              "    animation:\n",
              "      spin 1s steps(1) infinite;\n",
              "  }\n",
              "\n",
              "  @keyframes spin {\n",
              "    0% {\n",
              "      border-color: transparent;\n",
              "      border-bottom-color: var(--fill-color);\n",
              "      border-left-color: var(--fill-color);\n",
              "    }\n",
              "    20% {\n",
              "      border-color: transparent;\n",
              "      border-left-color: var(--fill-color);\n",
              "      border-top-color: var(--fill-color);\n",
              "    }\n",
              "    30% {\n",
              "      border-color: transparent;\n",
              "      border-left-color: var(--fill-color);\n",
              "      border-top-color: var(--fill-color);\n",
              "      border-right-color: var(--fill-color);\n",
              "    }\n",
              "    40% {\n",
              "      border-color: transparent;\n",
              "      border-right-color: var(--fill-color);\n",
              "      border-top-color: var(--fill-color);\n",
              "    }\n",
              "    60% {\n",
              "      border-color: transparent;\n",
              "      border-right-color: var(--fill-color);\n",
              "    }\n",
              "    80% {\n",
              "      border-color: transparent;\n",
              "      border-right-color: var(--fill-color);\n",
              "      border-bottom-color: var(--fill-color);\n",
              "    }\n",
              "    90% {\n",
              "      border-color: transparent;\n",
              "      border-bottom-color: var(--fill-color);\n",
              "    }\n",
              "  }\n",
              "</style>\n",
              "\n",
              "  <script>\n",
              "    async function quickchart(key) {\n",
              "      const quickchartButtonEl =\n",
              "        document.querySelector('#' + key + ' button');\n",
              "      quickchartButtonEl.disabled = true;  // To prevent multiple clicks.\n",
              "      quickchartButtonEl.classList.add('colab-df-spinner');\n",
              "      try {\n",
              "        const charts = await google.colab.kernel.invokeFunction(\n",
              "            'suggestCharts', [key], {});\n",
              "      } catch (error) {\n",
              "        console.error('Error during call to suggestCharts:', error);\n",
              "      }\n",
              "      quickchartButtonEl.classList.remove('colab-df-spinner');\n",
              "      quickchartButtonEl.classList.add('colab-df-quickchart-complete');\n",
              "    }\n",
              "    (() => {\n",
              "      let quickchartButtonEl =\n",
              "        document.querySelector('#df-f14bf588-8783-4156-bcae-7d6a2ad795f8 button');\n",
              "      quickchartButtonEl.style.display =\n",
              "        google.colab.kernel.accessAllowed ? 'block' : 'none';\n",
              "    })();\n",
              "  </script>\n",
              "</div>\n",
              "\n",
              "  <div id=\"id_06619182-747a-4973-86b1-02f10c6fe825\">\n",
              "    <style>\n",
              "      .colab-df-generate {\n",
              "        background-color: #E8F0FE;\n",
              "        border: none;\n",
              "        border-radius: 50%;\n",
              "        cursor: pointer;\n",
              "        display: none;\n",
              "        fill: #1967D2;\n",
              "        height: 32px;\n",
              "        padding: 0 0 0 0;\n",
              "        width: 32px;\n",
              "      }\n",
              "\n",
              "      .colab-df-generate:hover {\n",
              "        background-color: #E2EBFA;\n",
              "        box-shadow: 0px 1px 2px rgba(60, 64, 67, 0.3), 0px 1px 3px 1px rgba(60, 64, 67, 0.15);\n",
              "        fill: #174EA6;\n",
              "      }\n",
              "\n",
              "      [theme=dark] .colab-df-generate {\n",
              "        background-color: #3B4455;\n",
              "        fill: #D2E3FC;\n",
              "      }\n",
              "\n",
              "      [theme=dark] .colab-df-generate:hover {\n",
              "        background-color: #434B5C;\n",
              "        box-shadow: 0px 1px 3px 1px rgba(0, 0, 0, 0.15);\n",
              "        filter: drop-shadow(0px 1px 2px rgba(0, 0, 0, 0.3));\n",
              "        fill: #FFFFFF;\n",
              "      }\n",
              "    </style>\n",
              "    <button class=\"colab-df-generate\" onclick=\"generateWithVariable('workout_df')\"\n",
              "            title=\"Generate code using this dataframe.\"\n",
              "            style=\"display:none;\">\n",
              "\n",
              "  <svg xmlns=\"http://www.w3.org/2000/svg\" height=\"24px\"viewBox=\"0 0 24 24\"\n",
              "       width=\"24px\">\n",
              "    <path d=\"M7,19H8.4L18.45,9,17,7.55,7,17.6ZM5,21V16.75L18.45,3.32a2,2,0,0,1,2.83,0l1.4,1.43a1.91,1.91,0,0,1,.58,1.4,1.91,1.91,0,0,1-.58,1.4L9.25,21ZM18.45,9,17,7.55Zm-12,3A5.31,5.31,0,0,0,4.9,8.1,5.31,5.31,0,0,0,1,6.5,5.31,5.31,0,0,0,4.9,4.9,5.31,5.31,0,0,0,6.5,1,5.31,5.31,0,0,0,8.1,4.9,5.31,5.31,0,0,0,12,6.5,5.46,5.46,0,0,0,6.5,12Z\"/>\n",
              "  </svg>\n",
              "    </button>\n",
              "    <script>\n",
              "      (() => {\n",
              "      const buttonEl =\n",
              "        document.querySelector('#id_06619182-747a-4973-86b1-02f10c6fe825 button.colab-df-generate');\n",
              "      buttonEl.style.display =\n",
              "        google.colab.kernel.accessAllowed ? 'block' : 'none';\n",
              "\n",
              "      buttonEl.onclick = () => {\n",
              "        google.colab.notebook.generateWithVariable('workout_df');\n",
              "      }\n",
              "      })();\n",
              "    </script>\n",
              "  </div>\n",
              "\n",
              "    </div>\n",
              "  </div>\n"
            ]
          },
          "metadata": {},
          "execution_count": 25
        }
      ]
    },
    {
      "cell_type": "code",
      "source": [
        "# Extracting the hour from the 'Time' column\n",
        "workout_df['Hour'] = workout_df['Time'].dt.hour\n",
        "\n",
        "# Counting the occurrences of each hour\n",
        "preferred_workout_times = workout_df['Hour'].value_counts()\n",
        "\n",
        "# Visualizing the preferred workout times\n",
        "plt.figure(figsize=(10, 6))\n",
        "sns.barplot(x=preferred_workout_times.index, y=preferred_workout_times.values, color='green')\n",
        "plt.title('Most Preferred Workout Times')\n",
        "plt.xlabel('Hour of the Day')\n",
        "plt.ylabel('Number of Workout Events')\n",
        "plt.show()\n"
      ],
      "metadata": {
        "colab": {
          "base_uri": "https://localhost:8080/",
          "height": 668
        },
        "id": "IldnaWA1jEJH",
        "outputId": "67fb1e9d-f040-4693-84d9-408a68931a53"
      },
      "execution_count": null,
      "outputs": [
        {
          "output_type": "stream",
          "name": "stderr",
          "text": [
            "<ipython-input-26-d281c619dea1>:2: SettingWithCopyWarning: \n",
            "A value is trying to be set on a copy of a slice from a DataFrame.\n",
            "Try using .loc[row_indexer,col_indexer] = value instead\n",
            "\n",
            "See the caveats in the documentation: https://pandas.pydata.org/pandas-docs/stable/user_guide/indexing.html#returning-a-view-versus-a-copy\n",
            "  workout_df['Hour'] = workout_df['Time'].dt.hour\n"
          ]
        },
        {
          "output_type": "display_data",
          "data": {
            "text/plain": [
              "<Figure size 1000x600 with 1 Axes>"
            ],
            "image/png": "[encoded data removed]"
          },
          "metadata": {}
        }
      ]
    },
    {
      "cell_type": "code",
      "source": [
        "# Identifying the hour with the maximum occurrences\n",
        "most_preferred_hour = preferred_workout_times.idxmax()\n",
        "print(f\"The most preferred workout time is at {most_preferred_hour}:00\")"
      ],
      "metadata": {
        "colab": {
          "base_uri": "https://localhost:8080/"
        },
        "id": "juYWTtqNjJlg",
        "outputId": "c3139082-b12b-4375-c199-4d1bbeeaedaa"
      },
      "execution_count": null,
      "outputs": [
        {
          "output_type": "stream",
          "name": "stdout",
          "text": [
            "The most preferred workout time is at 22:00\n"
          ]
        }
      ]
    },
    {
      "cell_type": "code",
      "source": [
        "#  Calorie Calculation\n",
        "calorie_df = logs_df[logs_df['Component'] == 'Step_ExtSDM']\n",
        "calorie_df['Calories'] = calorie_df['Content'].str.extract(r'totalCalories=(\\d+)').astype(float)\n",
        "calorie_df['Calories']"
      ],
      "metadata": {
        "colab": {
          "base_uri": "https://localhost:8080/"
        },
        "id": "BosYs0LSn6Bg",
        "outputId": "06ae98c5-3d4c-4e6f-8292-7dcc20a2d527"
      },
      "execution_count": null,
      "outputs": [
        {
          "output_type": "stream",
          "name": "stderr",
          "text": [
            "<ipython-input-28-f800275b7575>:3: SettingWithCopyWarning: \n",
            "A value is trying to be set on a copy of a slice from a DataFrame.\n",
            "Try using .loc[row_indexer,col_indexer] = value instead\n",
            "\n",
            "See the caveats in the documentation: https://pandas.pydata.org/pandas-docs/stable/user_guide/indexing.html#returning-a-view-versus-a-copy\n",
            "  calorie_df['Calories'] = calorie_df['Content'].str.extract(r'totalCalories=(\\d+)').astype(float)\n"
          ]
        },
        {
          "output_type": "execute_result",
          "data": {
            "text/plain": [
              "8       126775.0\n",
              "9            NaN\n",
              "17      126797.0\n",
              "18           NaN\n",
              "24      126818.0\n",
              "          ...   \n",
              "1954         NaN\n",
              "1959         0.0\n",
              "1960         NaN\n",
              "1968         0.0\n",
              "1969         NaN\n",
              "Name: Calories, Length: 482, dtype: float64"
            ]
          },
          "metadata": {},
          "execution_count": 28
        }
      ]
    },
    {
      "cell_type": "code",
      "source": [
        "# Visualize calorie calculation\n",
        "plt.figure(figsize=(10, 6))\n",
        "sns.histplot(calorie_df['Calories'], bins=20, kde=True, color='orange')\n",
        "plt.title('Calories Distribution')\n",
        "plt.xlabel('Calories')\n",
        "plt.ylabel('Frequency')\n",
        "plt.show()\n"
      ],
      "metadata": {
        "colab": {
          "base_uri": "https://localhost:8080/",
          "height": 564
        },
        "id": "KcZdodK0oDV_",
        "outputId": "9ea1100e-2910-4e45-c09a-d5da5d59814c"
      },
      "execution_count": null,
      "outputs": [
        {
          "output_type": "display_data",
          "data": {
            "text/plain": [
              "<Figure size 1000x600 with 1 Axes>"
            ],
            "image/png": "[encoded data removed]"
          },
          "metadata": {}
        }
      ]
    },
    {
      "cell_type": "code",
      "source": [
        "#  Altitude Changes\n",
        "altitude_df = logs_df[logs_df['Component'] == 'Step_ExtSDM']\n",
        "altitude_df['Altitude'] = altitude_df['Content'].str.extract(r'totalAltitude=(\\d+)').astype(float)\n",
        "altitude_df['Altitude']"
      ],
      "metadata": {
        "colab": {
          "base_uri": "https://localhost:8080/"
        },
        "id": "0tuW3dpUoQ2u",
        "outputId": "37ac80e9-6a58-4115-d569-371f2a32dd1c"
      },
      "execution_count": null,
      "outputs": [
        {
          "output_type": "stream",
          "name": "stderr",
          "text": [
            "<ipython-input-30-7cd68927c175>:3: SettingWithCopyWarning: \n",
            "A value is trying to be set on a copy of a slice from a DataFrame.\n",
            "Try using .loc[row_indexer,col_indexer] = value instead\n",
            "\n",
            "See the caveats in the documentation: https://pandas.pydata.org/pandas-docs/stable/user_guide/indexing.html#returning-a-view-versus-a-copy\n",
            "  altitude_df['Altitude'] = altitude_df['Content'].str.extract(r'totalAltitude=(\\d+)').astype(float)\n"
          ]
        },
        {
          "output_type": "execute_result",
          "data": {
            "text/plain": [
              "8         NaN\n",
              "9       240.0\n",
              "17        NaN\n",
              "18      240.0\n",
              "24        NaN\n",
              "        ...  \n",
              "1954      0.0\n",
              "1959      NaN\n",
              "1960      0.0\n",
              "1968      NaN\n",
              "1969      0.0\n",
              "Name: Altitude, Length: 482, dtype: float64"
            ]
          },
          "metadata": {},
          "execution_count": 30
        }
      ]
    },
    {
      "cell_type": "code",
      "source": [
        "# Visualizing altitude changes wrt time\n",
        "plt.figure(figsize=(10, 6))\n",
        "sns.lineplot(x=altitude_df['Time'], y=altitude_df['Altitude'], color='purple')\n",
        "plt.title('Altitude Changes Over Time')\n",
        "plt.xlabel('Time')\n",
        "plt.ylabel('Altitude')\n",
        "plt.show()"
      ],
      "metadata": {
        "colab": {
          "base_uri": "https://localhost:8080/",
          "height": 564
        },
        "id": "k24fTSwkoWOE",
        "outputId": "4e8555eb-5ffd-4332-b16b-0a2ca8ada177"
      },
      "execution_count": null,
      "outputs": [
        {
          "output_type": "display_data",
          "data": {
            "text/plain": [
              "<Figure size 1000x600 with 1 Axes>"
            ],
            "image/png": "[encoded data removed]"
          },
          "metadata": {}
        }
      ]
    },
    {
      "cell_type": "code",
      "source": [
        "#  Event Distribution Over Time\n",
        "plt.figure(figsize=(14, 6))\n",
        "sns.histplot(logs_df['Time'], bins=50, kde=True, color='orange')\n",
        "plt.title('Event Distribution Over Time')\n",
        "plt.xlabel('Time')\n",
        "plt.ylabel('Number of Events')\n",
        "plt.show()\n"
      ],
      "metadata": {
        "colab": {
          "base_uri": "https://localhost:8080/",
          "height": 564
        },
        "id": "7vDN-gtCv_LU",
        "outputId": "1b2e4018-7ab5-4d5e-9007-d6d480b1b814"
      },
      "execution_count": null,
      "outputs": [
        {
          "output_type": "display_data",
          "data": {
            "text/plain": [
              "<Figure size 1400x600 with 1 Axes>"
            ],
            "image/png": "[encoded data removed]"
          },
          "metadata": {}
        }
      ]
    }
  ]
}