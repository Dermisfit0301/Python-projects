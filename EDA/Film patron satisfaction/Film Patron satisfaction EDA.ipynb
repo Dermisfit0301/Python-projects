{
 "cells": [
  {
   "cell_type": "markdown",
   "id": "630b0bf7",
   "metadata": {},
   "source": [
    "# Film Patron satisfaction EDA\n",
    "\n",
    "Film on the Rocks, hosted at the iconic Red Rocks Amphitheatre in Colorado, offers a unique cinematic experience with classic films, live entertainment, and breathtaking views. Co-promoted by the Denver Film Society and the City and County of Denver, the series is supported by corporate sponsorships, allowing for affordable ticket prices. While the venue is exceptional, challenges like accessibility and weather dependence exist. The promoters aim to enhance patron satisfaction and increase attendance. To achieve this, they conducted surveys during a recent season to understand the demographics, satisfaction levels, and effective media outlets for their audience, facilitating better-targeted marketing efforts and potential growth."
   ]
  },
  {
   "cell_type": "code",
   "execution_count": 1,
   "id": "8368fa53",
   "metadata": {},
   "outputs": [],
   "source": [
    "#importing packages\n",
    "import pandas as pd"
   ]
  },
  {
   "cell_type": "code",
   "execution_count": 2,
   "id": "c4faf6a0",
   "metadata": {},
   "outputs": [
    {
     "data": {
      "text/html": [
       "<div>\n",
       "<style scoped>\n",
       "    .dataframe tbody tr th:only-of-type {\n",
       "        vertical-align: middle;\n",
       "    }\n",
       "\n",
       "    .dataframe tbody tr th {\n",
       "        vertical-align: top;\n",
       "    }\n",
       "\n",
       "    .dataframe thead th {\n",
       "        text-align: right;\n",
       "    }\n",
       "</style>\n",
       "<table border=\"1\" class=\"dataframe\">\n",
       "  <thead>\n",
       "    <tr style=\"text-align: right;\">\n",
       "      <th></th>\n",
       "      <th>_rowstate_</th>\n",
       "      <th>Movie</th>\n",
       "      <th>Gender</th>\n",
       "      <th>Marital_Status</th>\n",
       "      <th>Sinage</th>\n",
       "      <th>Parking</th>\n",
       "      <th>Clean</th>\n",
       "      <th>Overall</th>\n",
       "      <th>Age</th>\n",
       "      <th>Income</th>\n",
       "      <th>Hear_About</th>\n",
       "    </tr>\n",
       "  </thead>\n",
       "  <tbody>\n",
       "    <tr>\n",
       "      <th>0</th>\n",
       "      <td>0</td>\n",
       "      <td>Ferris Buellers Day Off</td>\n",
       "      <td>Female</td>\n",
       "      <td>Married</td>\n",
       "      <td>2.0</td>\n",
       "      <td>2.0</td>\n",
       "      <td>2.0</td>\n",
       "      <td>2.0</td>\n",
       "      <td>3.0</td>\n",
       "      <td>1.0</td>\n",
       "      <td>5</td>\n",
       "    </tr>\n",
       "    <tr>\n",
       "      <th>1</th>\n",
       "      <td>0</td>\n",
       "      <td>Ferris Buellers Day Off</td>\n",
       "      <td>Female</td>\n",
       "      <td>Single</td>\n",
       "      <td>1.0</td>\n",
       "      <td>1.0</td>\n",
       "      <td>1.0</td>\n",
       "      <td>1.0</td>\n",
       "      <td>2.0</td>\n",
       "      <td>1.0</td>\n",
       "      <td>5</td>\n",
       "    </tr>\n",
       "    <tr>\n",
       "      <th>2</th>\n",
       "      <td>0</td>\n",
       "      <td>Ferris Buellers Day Off</td>\n",
       "      <td>Male</td>\n",
       "      <td>Married</td>\n",
       "      <td>2.0</td>\n",
       "      <td>4.0</td>\n",
       "      <td>3.0</td>\n",
       "      <td>2.0</td>\n",
       "      <td>4.0</td>\n",
       "      <td>1.0</td>\n",
       "      <td>5</td>\n",
       "    </tr>\n",
       "    <tr>\n",
       "      <th>3</th>\n",
       "      <td>0</td>\n",
       "      <td>Ferris Buellers Day Off</td>\n",
       "      <td>Female</td>\n",
       "      <td>Married</td>\n",
       "      <td>1.0</td>\n",
       "      <td>3.0</td>\n",
       "      <td>2.0</td>\n",
       "      <td>2.0</td>\n",
       "      <td>4.0</td>\n",
       "      <td>1.0</td>\n",
       "      <td>5</td>\n",
       "    </tr>\n",
       "    <tr>\n",
       "      <th>4</th>\n",
       "      <td>0</td>\n",
       "      <td>Ferris Buellers Day Off</td>\n",
       "      <td>Female</td>\n",
       "      <td>Married</td>\n",
       "      <td>1.0</td>\n",
       "      <td>1.0</td>\n",
       "      <td>1.0</td>\n",
       "      <td>1.0</td>\n",
       "      <td>3.0</td>\n",
       "      <td>3.0</td>\n",
       "      <td>1</td>\n",
       "    </tr>\n",
       "  </tbody>\n",
       "</table>\n",
       "</div>"
      ],
      "text/plain": [
       "   _rowstate_                    Movie  Gender Marital_Status  Sinage  \\\n",
       "0           0  Ferris Buellers Day Off  Female        Married     2.0   \n",
       "1           0  Ferris Buellers Day Off  Female         Single     1.0   \n",
       "2           0  Ferris Buellers Day Off    Male        Married     2.0   \n",
       "3           0  Ferris Buellers Day Off  Female        Married     1.0   \n",
       "4           0  Ferris Buellers Day Off  Female        Married     1.0   \n",
       "\n",
       "   Parking  Clean  Overall  Age  Income Hear_About  \n",
       "0      2.0    2.0      2.0  3.0     1.0          5  \n",
       "1      1.0    1.0      1.0  2.0     1.0          5  \n",
       "2      4.0    3.0      2.0  4.0     1.0          5  \n",
       "3      3.0    2.0      2.0  4.0     1.0          5  \n",
       "4      1.0    1.0      1.0  3.0     3.0          1  "
      ]
     },
     "execution_count": 2,
     "metadata": {},
     "output_type": "execute_result"
    }
   ],
   "source": [
    "# Loading the survey data\n",
    "data = pd.read_csv(\"C:\\\\Users\\\\sujoydutta\\\\Desktop\\\\Data analysis\\\\Datasets for ML\\\\Misc types\\\\Films.csv\")\n",
    "data.head()"
   ]
  },
  {
   "cell_type": "code",
   "execution_count": 7,
   "id": "5f828afb",
   "metadata": {},
   "outputs": [],
   "source": [
    "#Calculating overall customer satisfaction\n",
    "likert_columns = [\"Sinage\", \"Parking\", \"Clean\"]\n",
    "data['Overall_Satisfaction'] = data[likert_columns].mean(axis=1)\n"
   ]
  },
  {
   "cell_type": "code",
   "execution_count": 8,
   "id": "6895d38e",
   "metadata": {},
   "outputs": [
    {
     "name": "stdout",
     "output_type": "stream",
     "text": [
      "Overall Customer Satisfaction:\n",
      "1.7740628166160084\n"
     ]
    }
   ],
   "source": [
    "# Printing the results\n",
    "print(\"Overall Customer Satisfaction:\")\n",
    "print(data['Overall_Satisfaction'].mean())"
   ]
  },
  {
   "cell_type": "code",
   "execution_count": 9,
   "id": "019ddb42",
   "metadata": {},
   "outputs": [],
   "source": [
    "# Analyze factors linked to satisfaction\n",
    "correlation_matrix = data[likert_columns].corr()\n"
   ]
  },
  {
   "cell_type": "code",
   "execution_count": 10,
   "id": "828ff78f",
   "metadata": {},
   "outputs": [
    {
     "name": "stdout",
     "output_type": "stream",
     "text": [
      "Factors Linked to Satisfaction:\n",
      "           Sinage   Parking     Clean\n",
      "Sinage   1.000000  0.470322  0.349163\n",
      "Parking  0.470322  1.000000  0.444368\n",
      "Clean    0.349163  0.444368  1.000000\n"
     ]
    }
   ],
   "source": [
    "print(\"Factors Linked to Satisfaction:\")\n",
    "print(correlation_matrix)"
   ]
  },
  {
   "cell_type": "code",
   "execution_count": 14,
   "id": "b9cba485",
   "metadata": {},
   "outputs": [],
   "source": [
    "# Recoding values\n",
    "data['Gender'] = data['Gender'].replace({'1': 'Male', '2': 'Female'})\n",
    "data['Marital_Status'] = data['Marital_Status'].replace({'1': 'Married', '2': 'Single','Slngle':'Single'})"
   ]
  },
  {
   "cell_type": "code",
   "execution_count": 16,
   "id": "106e43dd",
   "metadata": {},
   "outputs": [],
   "source": [
    "# Analyzing the demographic profile\n",
    "\n",
    "# Gender\n",
    "gender_profile = data['Gender'].value_counts()\n",
    "# Marital Status\n",
    "marital_status_profile = data['Marital_Status'].value_counts()\n",
    "# Age\n",
    "age_profile = data['Age'].value_counts()\n",
    "# Income\n",
    "income_profile = data['Income'].value_counts()\n"
   ]
  },
  {
   "cell_type": "code",
   "execution_count": 17,
   "id": "bdef0899",
   "metadata": {},
   "outputs": [
    {
     "name": "stdout",
     "output_type": "stream",
     "text": [
      "Demographic Profile:\n",
      "Gender Profile:\n",
      "Female    213\n",
      "Male      117\n",
      "Name: Gender, dtype: int64\n",
      "\n",
      "Marital Status Profile:\n",
      "Single     228\n",
      "Married    100\n",
      "Name: Marital_Status, dtype: int64\n",
      "\n",
      "Age Profile:\n",
      "2.0    175\n",
      "3.0    117\n",
      "1.0     26\n",
      "4.0     10\n",
      "Name: Age, dtype: int64\n",
      "\n",
      "Income Profile:\n",
      "1.0    142\n",
      "3.0     90\n",
      "2.0     82\n",
      "Name: Income, dtype: int64\n"
     ]
    }
   ],
   "source": [
    "# Printing the results\n",
    "print(\"Demographic Profile:\")\n",
    "print(\"Gender Profile:\")\n",
    "print(gender_profile)\n",
    "print(\"\\nMarital Status Profile:\")\n",
    "print(marital_status_profile)\n",
    "print(\"\\nAge Profile:\")\n",
    "print(age_profile)\n",
    "print(\"\\nIncome Profile:\")\n",
    "print(income_profile)\n"
   ]
  },
  {
   "cell_type": "code",
   "execution_count": 23,
   "id": "10f68966",
   "metadata": {},
   "outputs": [
    {
     "data": {
      "text/plain": [
       "0      5\n",
       "1      5\n",
       "2      5\n",
       "3      5\n",
       "4      1\n",
       "      ..\n",
       "325    1\n",
       "326    5\n",
       "327    5\n",
       "328    3\n",
       "329    5\n",
       "Name: Primary_Source, Length: 330, dtype: object"
      ]
     },
     "execution_count": 23,
     "metadata": {},
     "output_type": "execute_result"
    }
   ],
   "source": [
    "# Extracting the primary source from 'Hear About' column\n",
    "data['Primary_Source'] = data['Hear_About'].str.split(',').str[0]\n",
    "data['Primary_Source']"
   ]
  },
  {
   "cell_type": "code",
   "execution_count": 31,
   "id": "e629e725",
   "metadata": {},
   "outputs": [],
   "source": [
    "#Calculating the frequency of each source\n",
    "source_counts = data['Primary_Source'].value_counts().sort_index()\n"
   ]
  },
  {
   "cell_type": "code",
   "execution_count": 32,
   "id": "0a709a4a",
   "metadata": {},
   "outputs": [],
   "source": [
    "#percentage counts for each source\n",
    "percentage_counts = source_counts / source_counts.sum() * 100\n"
   ]
  },
  {
   "cell_type": "code",
   "execution_count": 33,
   "id": "b3d4382e",
   "metadata": {},
   "outputs": [],
   "source": [
    "#  Determining effective media outlets\n",
    "source_mapping = {\n",
    "    1: 'Television',\n",
    "    2: 'Newspaper',\n",
    "    3: 'Radio',\n",
    "    4: 'Website',\n",
    "    5: 'Word of Mouth'\n",
    "}\n"
   ]
  },
  {
   "cell_type": "code",
   "execution_count": 36,
   "id": "782a0faa",
   "metadata": {},
   "outputs": [],
   "source": [
    "# Initializing counts and percentages\n",
    "source_counts = {source_name: 0 for source_name in source_mapping.values()}\n",
    "percentage_counts = {source_name: 0 for source_name in source_mapping.values()}\n"
   ]
  },
  {
   "cell_type": "code",
   "execution_count": 37,
   "id": "44797bda",
   "metadata": {},
   "outputs": [],
   "source": [
    "# Counting and calculating percentages for each source\n",
    "for code, source_name in source_mapping.items():\n",
    "    count = data['Primary_Source'].apply(lambda x: x.split(',') if isinstance(x, str) else []).apply(lambda x: str(code) in x).sum()\n",
    "    percentage = (count / len(data) * 100) if len(data) > 0 else 0\n",
    "    source_counts[source_name] = count\n",
    "    percentage_counts[source_name] = percentage"
   ]
  },
  {
   "cell_type": "code",
   "execution_count": 38,
   "id": "b18fb81a",
   "metadata": {},
   "outputs": [
    {
     "name": "stdout",
     "output_type": "stream",
     "text": [
      "How Patrons Heard About Film on the Rocks:\n",
      "Television: Count=23, Percentage=6.97%\n",
      "Newspaper: Count=14, Percentage=4.24%\n",
      "Radio: Count=17, Percentage=5.15%\n",
      "Website: Count=42, Percentage=12.73%\n",
      "Word of Mouth: Count=227, Percentage=68.79%\n"
     ]
    }
   ],
   "source": [
    "# Printing the results\n",
    "print(\"How Patrons Heard About Film on the Rocks:\")\n",
    "for source_name in source_mapping.values():\n",
    "    count = source_counts[source_name]\n",
    "    percentage = percentage_counts[source_name]\n",
    "    print(f\"{source_name}: Count={count}, Percentage={percentage:.2f}%\")"
   ]
  }
 ],
 "metadata": {
  "kernelspec": {
   "display_name": "Python 3 (ipykernel)",
   "language": "python",
   "name": "python3"
  },
  "language_info": {
   "codemirror_mode": {
    "name": "ipython",
    "version": 3
   },
   "file_extension": ".py",
   "mimetype": "text/x-python",
   "name": "python",
   "nbconvert_exporter": "python",
   "pygments_lexer": "ipython3",
   "version": "3.9.12"
  }
 },
 "nbformat": 4,
 "nbformat_minor": 5
}
