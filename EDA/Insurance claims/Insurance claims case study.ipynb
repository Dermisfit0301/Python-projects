{
 "cells": [
  {
   "cell_type": "markdown",
   "id": "d60120b7",
   "metadata": {},
   "source": [
    "# Insurance claims case study\n",
    "\n",
    "In this case study, we have at our disposal two distinct datasets: the first containing valuable customer demographics information, and the second comprising records of insurance claims made by these customers. Our primary objective in this assignment is to delve into these datasets to unearth meaningful insights for our case study. Furthermore, we aim to refine our understanding by conducting hypothesis testing to validate certain assumptions.\n"
   ]
  },
  {
   "cell_type": "code",
   "execution_count": 52,
   "id": "3b3779e2",
   "metadata": {},
   "outputs": [],
   "source": [
    "# Getting required libraries\n",
    "import pandas as pd\n",
    "import matplotlib.pyplot as plt\n",
    "from sklearn.impute import SimpleImputer\n",
    "from datetime import datetime\n",
    "import calendar\n",
    "import seaborn as sns\n",
    "import scipy.stats as stats\n",
    "from scipy.stats import chi2_contingency"
   ]
  },
  {
   "cell_type": "code",
   "execution_count": 2,
   "id": "b5ded9ea",
   "metadata": {},
   "outputs": [],
   "source": [
    "# Load the data from the Excel file\n",
    "demographics = pd.read_csv('C:\\\\Users\\\\sujoydutta\\\\Desktop\\\\Data analysis\\\\Datasets for ML\\\\EDA\\\\cust_demographics.csv')\n",
    "claims = pd.read_csv('C:\\\\Users\\\\sujoydutta\\\\Desktop\\\\Data analysis\\\\Datasets for ML\\\\EDA\\\\claims.csv')"
   ]
  },
  {
   "cell_type": "code",
   "execution_count": 3,
   "id": "b815190b",
   "metadata": {},
   "outputs": [
    {
     "data": {
      "text/html": [
       "<div>\n",
       "<style scoped>\n",
       "    .dataframe tbody tr th:only-of-type {\n",
       "        vertical-align: middle;\n",
       "    }\n",
       "\n",
       "    .dataframe tbody tr th {\n",
       "        vertical-align: top;\n",
       "    }\n",
       "\n",
       "    .dataframe thead th {\n",
       "        text-align: right;\n",
       "    }\n",
       "</style>\n",
       "<table border=\"1\" class=\"dataframe\">\n",
       "  <thead>\n",
       "    <tr style=\"text-align: right;\">\n",
       "      <th></th>\n",
       "      <th>CUST_ID</th>\n",
       "      <th>gender</th>\n",
       "      <th>DateOfBirth</th>\n",
       "      <th>State</th>\n",
       "      <th>Contact</th>\n",
       "      <th>Segment</th>\n",
       "    </tr>\n",
       "  </thead>\n",
       "  <tbody>\n",
       "    <tr>\n",
       "      <th>0</th>\n",
       "      <td>21868593</td>\n",
       "      <td>Female</td>\n",
       "      <td>12-Jan-79</td>\n",
       "      <td>VT</td>\n",
       "      <td>789-916-8172</td>\n",
       "      <td>Platinum</td>\n",
       "    </tr>\n",
       "    <tr>\n",
       "      <th>1</th>\n",
       "      <td>75740424</td>\n",
       "      <td>Female</td>\n",
       "      <td>13-Jan-70</td>\n",
       "      <td>ME</td>\n",
       "      <td>265-543-1264</td>\n",
       "      <td>Silver</td>\n",
       "    </tr>\n",
       "    <tr>\n",
       "      <th>2</th>\n",
       "      <td>30308357</td>\n",
       "      <td>Female</td>\n",
       "      <td>11-Mar-84</td>\n",
       "      <td>TN</td>\n",
       "      <td>798-631-4758</td>\n",
       "      <td>Silver</td>\n",
       "    </tr>\n",
       "    <tr>\n",
       "      <th>3</th>\n",
       "      <td>47830476</td>\n",
       "      <td>Female</td>\n",
       "      <td>01-May-86</td>\n",
       "      <td>MA</td>\n",
       "      <td>413-187-7945</td>\n",
       "      <td>Silver</td>\n",
       "    </tr>\n",
       "    <tr>\n",
       "      <th>4</th>\n",
       "      <td>19269962</td>\n",
       "      <td>Male</td>\n",
       "      <td>13-May-77</td>\n",
       "      <td>NV</td>\n",
       "      <td>956-871-8691</td>\n",
       "      <td>Gold</td>\n",
       "    </tr>\n",
       "  </tbody>\n",
       "</table>\n",
       "</div>"
      ],
      "text/plain": [
       "    CUST_ID  gender DateOfBirth State       Contact   Segment\n",
       "0  21868593  Female   12-Jan-79    VT  789-916-8172  Platinum\n",
       "1  75740424  Female   13-Jan-70    ME  265-543-1264    Silver\n",
       "2  30308357  Female   11-Mar-84    TN  798-631-4758    Silver\n",
       "3  47830476  Female   01-May-86    MA  413-187-7945    Silver\n",
       "4  19269962    Male   13-May-77    NV  956-871-8691      Gold"
      ]
     },
     "execution_count": 3,
     "metadata": {},
     "output_type": "execute_result"
    }
   ],
   "source": [
    "#examining the first dataset\n",
    "demographics.head()"
   ]
  },
  {
   "cell_type": "code",
   "execution_count": 4,
   "id": "e81a9117",
   "metadata": {},
   "outputs": [
    {
     "data": {
      "text/html": [
       "<div>\n",
       "<style scoped>\n",
       "    .dataframe tbody tr th:only-of-type {\n",
       "        vertical-align: middle;\n",
       "    }\n",
       "\n",
       "    .dataframe tbody tr th {\n",
       "        vertical-align: top;\n",
       "    }\n",
       "\n",
       "    .dataframe thead th {\n",
       "        text-align: right;\n",
       "    }\n",
       "</style>\n",
       "<table border=\"1\" class=\"dataframe\">\n",
       "  <thead>\n",
       "    <tr style=\"text-align: right;\">\n",
       "      <th></th>\n",
       "      <th>claim_id</th>\n",
       "      <th>customer_id</th>\n",
       "      <th>incident_cause</th>\n",
       "      <th>claim_date</th>\n",
       "      <th>claim_area</th>\n",
       "      <th>police_report</th>\n",
       "      <th>claim_type</th>\n",
       "      <th>claim_amount</th>\n",
       "      <th>total_policy_claims</th>\n",
       "      <th>fraudulent</th>\n",
       "    </tr>\n",
       "  </thead>\n",
       "  <tbody>\n",
       "    <tr>\n",
       "      <th>0</th>\n",
       "      <td>54004764</td>\n",
       "      <td>21868593</td>\n",
       "      <td>Driver error</td>\n",
       "      <td>11/27/2017</td>\n",
       "      <td>Auto</td>\n",
       "      <td>No</td>\n",
       "      <td>Material only</td>\n",
       "      <td>$2980</td>\n",
       "      <td>1.0</td>\n",
       "      <td>No</td>\n",
       "    </tr>\n",
       "    <tr>\n",
       "      <th>1</th>\n",
       "      <td>33985796</td>\n",
       "      <td>75740424</td>\n",
       "      <td>Crime</td>\n",
       "      <td>10/03/2018</td>\n",
       "      <td>Home</td>\n",
       "      <td>Unknown</td>\n",
       "      <td>Material only</td>\n",
       "      <td>$2980</td>\n",
       "      <td>3.0</td>\n",
       "      <td>No</td>\n",
       "    </tr>\n",
       "    <tr>\n",
       "      <th>2</th>\n",
       "      <td>53522022</td>\n",
       "      <td>30308357</td>\n",
       "      <td>Other driver error</td>\n",
       "      <td>02/02/2018</td>\n",
       "      <td>Auto</td>\n",
       "      <td>No</td>\n",
       "      <td>Material only</td>\n",
       "      <td>$3369.5</td>\n",
       "      <td>1.0</td>\n",
       "      <td>Yes</td>\n",
       "    </tr>\n",
       "    <tr>\n",
       "      <th>3</th>\n",
       "      <td>13015401</td>\n",
       "      <td>47830476</td>\n",
       "      <td>Natural causes</td>\n",
       "      <td>06/17/2018</td>\n",
       "      <td>Auto</td>\n",
       "      <td>No</td>\n",
       "      <td>Material only</td>\n",
       "      <td>$1680</td>\n",
       "      <td>1.0</td>\n",
       "      <td>No</td>\n",
       "    </tr>\n",
       "    <tr>\n",
       "      <th>4</th>\n",
       "      <td>22890252</td>\n",
       "      <td>19269962</td>\n",
       "      <td>Crime</td>\n",
       "      <td>01/13/2018</td>\n",
       "      <td>Auto</td>\n",
       "      <td>No</td>\n",
       "      <td>Material only</td>\n",
       "      <td>$2680</td>\n",
       "      <td>1.0</td>\n",
       "      <td>No</td>\n",
       "    </tr>\n",
       "  </tbody>\n",
       "</table>\n",
       "</div>"
      ],
      "text/plain": [
       "   claim_id  customer_id      incident_cause  claim_date claim_area  \\\n",
       "0  54004764     21868593        Driver error  11/27/2017       Auto   \n",
       "1  33985796     75740424               Crime  10/03/2018       Home   \n",
       "2  53522022     30308357  Other driver error  02/02/2018       Auto   \n",
       "3  13015401     47830476      Natural causes  06/17/2018       Auto   \n",
       "4  22890252     19269962               Crime  01/13/2018       Auto   \n",
       "\n",
       "  police_report     claim_type claim_amount  total_policy_claims fraudulent  \n",
       "0            No  Material only        $2980                  1.0         No  \n",
       "1       Unknown  Material only        $2980                  3.0         No  \n",
       "2            No  Material only      $3369.5                  1.0        Yes  \n",
       "3            No  Material only        $1680                  1.0         No  \n",
       "4            No  Material only        $2680                  1.0         No  "
      ]
     },
     "execution_count": 4,
     "metadata": {},
     "output_type": "execute_result"
    }
   ],
   "source": [
    "#examining the first dataset\n",
    "claims.head()"
   ]
  },
  {
   "cell_type": "code",
   "execution_count": 5,
   "id": "a07d47b2",
   "metadata": {},
   "outputs": [
    {
     "data": {
      "text/html": [
       "<div>\n",
       "<style scoped>\n",
       "    .dataframe tbody tr th:only-of-type {\n",
       "        vertical-align: middle;\n",
       "    }\n",
       "\n",
       "    .dataframe tbody tr th {\n",
       "        vertical-align: top;\n",
       "    }\n",
       "\n",
       "    .dataframe thead th {\n",
       "        text-align: right;\n",
       "    }\n",
       "</style>\n",
       "<table border=\"1\" class=\"dataframe\">\n",
       "  <thead>\n",
       "    <tr style=\"text-align: right;\">\n",
       "      <th></th>\n",
       "      <th>claim_id</th>\n",
       "      <th>customer_id</th>\n",
       "      <th>incident_cause</th>\n",
       "      <th>claim_date</th>\n",
       "      <th>claim_area</th>\n",
       "      <th>police_report</th>\n",
       "      <th>claim_type</th>\n",
       "      <th>claim_amount</th>\n",
       "      <th>total_policy_claims</th>\n",
       "      <th>fraudulent</th>\n",
       "      <th>CUST_ID</th>\n",
       "      <th>gender</th>\n",
       "      <th>DateOfBirth</th>\n",
       "      <th>State</th>\n",
       "      <th>Contact</th>\n",
       "      <th>Segment</th>\n",
       "    </tr>\n",
       "  </thead>\n",
       "  <tbody>\n",
       "    <tr>\n",
       "      <th>0</th>\n",
       "      <td>54004764</td>\n",
       "      <td>21868593</td>\n",
       "      <td>Driver error</td>\n",
       "      <td>11/27/2017</td>\n",
       "      <td>Auto</td>\n",
       "      <td>No</td>\n",
       "      <td>Material only</td>\n",
       "      <td>$2980</td>\n",
       "      <td>1.0</td>\n",
       "      <td>No</td>\n",
       "      <td>21868593</td>\n",
       "      <td>Female</td>\n",
       "      <td>12-Jan-79</td>\n",
       "      <td>VT</td>\n",
       "      <td>789-916-8172</td>\n",
       "      <td>Platinum</td>\n",
       "    </tr>\n",
       "    <tr>\n",
       "      <th>1</th>\n",
       "      <td>33985796</td>\n",
       "      <td>75740424</td>\n",
       "      <td>Crime</td>\n",
       "      <td>10/03/2018</td>\n",
       "      <td>Home</td>\n",
       "      <td>Unknown</td>\n",
       "      <td>Material only</td>\n",
       "      <td>$2980</td>\n",
       "      <td>3.0</td>\n",
       "      <td>No</td>\n",
       "      <td>75740424</td>\n",
       "      <td>Female</td>\n",
       "      <td>13-Jan-70</td>\n",
       "      <td>ME</td>\n",
       "      <td>265-543-1264</td>\n",
       "      <td>Silver</td>\n",
       "    </tr>\n",
       "    <tr>\n",
       "      <th>2</th>\n",
       "      <td>53522022</td>\n",
       "      <td>30308357</td>\n",
       "      <td>Other driver error</td>\n",
       "      <td>02/02/2018</td>\n",
       "      <td>Auto</td>\n",
       "      <td>No</td>\n",
       "      <td>Material only</td>\n",
       "      <td>$3369.5</td>\n",
       "      <td>1.0</td>\n",
       "      <td>Yes</td>\n",
       "      <td>30308357</td>\n",
       "      <td>Female</td>\n",
       "      <td>11-Mar-84</td>\n",
       "      <td>TN</td>\n",
       "      <td>798-631-4758</td>\n",
       "      <td>Silver</td>\n",
       "    </tr>\n",
       "    <tr>\n",
       "      <th>3</th>\n",
       "      <td>63017412</td>\n",
       "      <td>30308357</td>\n",
       "      <td>Driver error</td>\n",
       "      <td>04/04/2018</td>\n",
       "      <td>Auto</td>\n",
       "      <td>No</td>\n",
       "      <td>Material only</td>\n",
       "      <td>$1950</td>\n",
       "      <td>6.0</td>\n",
       "      <td>No</td>\n",
       "      <td>30308357</td>\n",
       "      <td>Female</td>\n",
       "      <td>11-Mar-84</td>\n",
       "      <td>TN</td>\n",
       "      <td>798-631-4758</td>\n",
       "      <td>Silver</td>\n",
       "    </tr>\n",
       "    <tr>\n",
       "      <th>4</th>\n",
       "      <td>13015401</td>\n",
       "      <td>47830476</td>\n",
       "      <td>Natural causes</td>\n",
       "      <td>06/17/2018</td>\n",
       "      <td>Auto</td>\n",
       "      <td>No</td>\n",
       "      <td>Material only</td>\n",
       "      <td>$1680</td>\n",
       "      <td>1.0</td>\n",
       "      <td>No</td>\n",
       "      <td>47830476</td>\n",
       "      <td>Female</td>\n",
       "      <td>01-May-86</td>\n",
       "      <td>MA</td>\n",
       "      <td>413-187-7945</td>\n",
       "      <td>Silver</td>\n",
       "    </tr>\n",
       "  </tbody>\n",
       "</table>\n",
       "</div>"
      ],
      "text/plain": [
       "   claim_id  customer_id      incident_cause  claim_date claim_area  \\\n",
       "0  54004764     21868593        Driver error  11/27/2017       Auto   \n",
       "1  33985796     75740424               Crime  10/03/2018       Home   \n",
       "2  53522022     30308357  Other driver error  02/02/2018       Auto   \n",
       "3  63017412     30308357        Driver error  04/04/2018       Auto   \n",
       "4  13015401     47830476      Natural causes  06/17/2018       Auto   \n",
       "\n",
       "  police_report     claim_type claim_amount  total_policy_claims fraudulent  \\\n",
       "0            No  Material only        $2980                  1.0         No   \n",
       "1       Unknown  Material only        $2980                  3.0         No   \n",
       "2            No  Material only      $3369.5                  1.0        Yes   \n",
       "3            No  Material only        $1950                  6.0         No   \n",
       "4            No  Material only        $1680                  1.0         No   \n",
       "\n",
       "    CUST_ID  gender DateOfBirth State       Contact   Segment  \n",
       "0  21868593  Female   12-Jan-79    VT  789-916-8172  Platinum  \n",
       "1  75740424  Female   13-Jan-70    ME  265-543-1264    Silver  \n",
       "2  30308357  Female   11-Mar-84    TN  798-631-4758    Silver  \n",
       "3  30308357  Female   11-Mar-84    TN  798-631-4758    Silver  \n",
       "4  47830476  Female   01-May-86    MA  413-187-7945    Silver  "
      ]
     },
     "execution_count": 5,
     "metadata": {},
     "output_type": "execute_result"
    }
   ],
   "source": [
    "# Performing the join operation\n",
    "merged_data = pd.merge(claims, demographics, left_on='customer_id', right_on='CUST_ID', how='inner')\n",
    "merged_data.head()"
   ]
  },
  {
   "cell_type": "code",
   "execution_count": 42,
   "id": "587eb495",
   "metadata": {},
   "outputs": [
    {
     "ename": "KeyError",
     "evalue": "\"['CUST_ID'] not found in axis\"",
     "output_type": "error",
     "traceback": [
      "\u001b[1;31m---------------------------------------------------------------------------\u001b[0m",
      "\u001b[1;31mKeyError\u001b[0m                                  Traceback (most recent call last)",
      "Cell \u001b[1;32mIn [42], line 2\u001b[0m\n\u001b[0;32m      1\u001b[0m \u001b[38;5;66;03m#dropping the redundant column\u001b[39;00m\n\u001b[1;32m----> 2\u001b[0m merged_data\u001b[38;5;241m=\u001b[39m\u001b[43mmerged_data\u001b[49m\u001b[38;5;241;43m.\u001b[39;49m\u001b[43mdrop\u001b[49m\u001b[43m(\u001b[49m\u001b[43m[\u001b[49m\u001b[38;5;124;43m'\u001b[39;49m\u001b[38;5;124;43mCUST_ID\u001b[39;49m\u001b[38;5;124;43m'\u001b[39;49m\u001b[43m]\u001b[49m\u001b[43m,\u001b[49m\u001b[43maxis\u001b[49m\u001b[38;5;241;43m=\u001b[39;49m\u001b[38;5;241;43m1\u001b[39;49m\u001b[43m)\u001b[49m\n\u001b[0;32m      3\u001b[0m merged_data\u001b[38;5;241m.\u001b[39mhead()\n",
      "File \u001b[1;32m~\\anaconda3\\lib\\site-packages\\pandas\\util\\_decorators.py:311\u001b[0m, in \u001b[0;36mdeprecate_nonkeyword_arguments.<locals>.decorate.<locals>.wrapper\u001b[1;34m(*args, **kwargs)\u001b[0m\n\u001b[0;32m    305\u001b[0m \u001b[38;5;28;01mif\u001b[39;00m \u001b[38;5;28mlen\u001b[39m(args) \u001b[38;5;241m>\u001b[39m num_allow_args:\n\u001b[0;32m    306\u001b[0m     warnings\u001b[38;5;241m.\u001b[39mwarn(\n\u001b[0;32m    307\u001b[0m         msg\u001b[38;5;241m.\u001b[39mformat(arguments\u001b[38;5;241m=\u001b[39marguments),\n\u001b[0;32m    308\u001b[0m         \u001b[38;5;167;01mFutureWarning\u001b[39;00m,\n\u001b[0;32m    309\u001b[0m         stacklevel\u001b[38;5;241m=\u001b[39mstacklevel,\n\u001b[0;32m    310\u001b[0m     )\n\u001b[1;32m--> 311\u001b[0m \u001b[38;5;28;01mreturn\u001b[39;00m func(\u001b[38;5;241m*\u001b[39margs, \u001b[38;5;241m*\u001b[39m\u001b[38;5;241m*\u001b[39mkwargs)\n",
      "File \u001b[1;32m~\\anaconda3\\lib\\site-packages\\pandas\\core\\frame.py:4948\u001b[0m, in \u001b[0;36mDataFrame.drop\u001b[1;34m(self, labels, axis, index, columns, level, inplace, errors)\u001b[0m\n\u001b[0;32m   4800\u001b[0m \u001b[38;5;129m@deprecate_nonkeyword_arguments\u001b[39m(version\u001b[38;5;241m=\u001b[39m\u001b[38;5;28;01mNone\u001b[39;00m, allowed_args\u001b[38;5;241m=\u001b[39m[\u001b[38;5;124m\"\u001b[39m\u001b[38;5;124mself\u001b[39m\u001b[38;5;124m\"\u001b[39m, \u001b[38;5;124m\"\u001b[39m\u001b[38;5;124mlabels\u001b[39m\u001b[38;5;124m\"\u001b[39m])\n\u001b[0;32m   4801\u001b[0m \u001b[38;5;28;01mdef\u001b[39;00m \u001b[38;5;21mdrop\u001b[39m(\n\u001b[0;32m   4802\u001b[0m     \u001b[38;5;28mself\u001b[39m,\n\u001b[1;32m   (...)\u001b[0m\n\u001b[0;32m   4809\u001b[0m     errors: \u001b[38;5;28mstr\u001b[39m \u001b[38;5;241m=\u001b[39m \u001b[38;5;124m\"\u001b[39m\u001b[38;5;124mraise\u001b[39m\u001b[38;5;124m\"\u001b[39m,\n\u001b[0;32m   4810\u001b[0m ):\n\u001b[0;32m   4811\u001b[0m \u001b[38;5;250m    \u001b[39m\u001b[38;5;124;03m\"\"\"\u001b[39;00m\n\u001b[0;32m   4812\u001b[0m \u001b[38;5;124;03m    Drop specified labels from rows or columns.\u001b[39;00m\n\u001b[0;32m   4813\u001b[0m \n\u001b[1;32m   (...)\u001b[0m\n\u001b[0;32m   4946\u001b[0m \u001b[38;5;124;03m            weight  1.0     0.8\u001b[39;00m\n\u001b[0;32m   4947\u001b[0m \u001b[38;5;124;03m    \"\"\"\u001b[39;00m\n\u001b[1;32m-> 4948\u001b[0m     \u001b[38;5;28;01mreturn\u001b[39;00m \u001b[38;5;28;43msuper\u001b[39;49m\u001b[43m(\u001b[49m\u001b[43m)\u001b[49m\u001b[38;5;241;43m.\u001b[39;49m\u001b[43mdrop\u001b[49m\u001b[43m(\u001b[49m\n\u001b[0;32m   4949\u001b[0m \u001b[43m        \u001b[49m\u001b[43mlabels\u001b[49m\u001b[38;5;241;43m=\u001b[39;49m\u001b[43mlabels\u001b[49m\u001b[43m,\u001b[49m\n\u001b[0;32m   4950\u001b[0m \u001b[43m        \u001b[49m\u001b[43maxis\u001b[49m\u001b[38;5;241;43m=\u001b[39;49m\u001b[43maxis\u001b[49m\u001b[43m,\u001b[49m\n\u001b[0;32m   4951\u001b[0m \u001b[43m        \u001b[49m\u001b[43mindex\u001b[49m\u001b[38;5;241;43m=\u001b[39;49m\u001b[43mindex\u001b[49m\u001b[43m,\u001b[49m\n\u001b[0;32m   4952\u001b[0m \u001b[43m        \u001b[49m\u001b[43mcolumns\u001b[49m\u001b[38;5;241;43m=\u001b[39;49m\u001b[43mcolumns\u001b[49m\u001b[43m,\u001b[49m\n\u001b[0;32m   4953\u001b[0m \u001b[43m        \u001b[49m\u001b[43mlevel\u001b[49m\u001b[38;5;241;43m=\u001b[39;49m\u001b[43mlevel\u001b[49m\u001b[43m,\u001b[49m\n\u001b[0;32m   4954\u001b[0m \u001b[43m        \u001b[49m\u001b[43minplace\u001b[49m\u001b[38;5;241;43m=\u001b[39;49m\u001b[43minplace\u001b[49m\u001b[43m,\u001b[49m\n\u001b[0;32m   4955\u001b[0m \u001b[43m        \u001b[49m\u001b[43merrors\u001b[49m\u001b[38;5;241;43m=\u001b[39;49m\u001b[43merrors\u001b[49m\u001b[43m,\u001b[49m\n\u001b[0;32m   4956\u001b[0m \u001b[43m    \u001b[49m\u001b[43m)\u001b[49m\n",
      "File \u001b[1;32m~\\anaconda3\\lib\\site-packages\\pandas\\core\\generic.py:4279\u001b[0m, in \u001b[0;36mNDFrame.drop\u001b[1;34m(self, labels, axis, index, columns, level, inplace, errors)\u001b[0m\n\u001b[0;32m   4277\u001b[0m \u001b[38;5;28;01mfor\u001b[39;00m axis, labels \u001b[38;5;129;01min\u001b[39;00m axes\u001b[38;5;241m.\u001b[39mitems():\n\u001b[0;32m   4278\u001b[0m     \u001b[38;5;28;01mif\u001b[39;00m labels \u001b[38;5;129;01mis\u001b[39;00m \u001b[38;5;129;01mnot\u001b[39;00m \u001b[38;5;28;01mNone\u001b[39;00m:\n\u001b[1;32m-> 4279\u001b[0m         obj \u001b[38;5;241m=\u001b[39m \u001b[43mobj\u001b[49m\u001b[38;5;241;43m.\u001b[39;49m\u001b[43m_drop_axis\u001b[49m\u001b[43m(\u001b[49m\u001b[43mlabels\u001b[49m\u001b[43m,\u001b[49m\u001b[43m \u001b[49m\u001b[43maxis\u001b[49m\u001b[43m,\u001b[49m\u001b[43m \u001b[49m\u001b[43mlevel\u001b[49m\u001b[38;5;241;43m=\u001b[39;49m\u001b[43mlevel\u001b[49m\u001b[43m,\u001b[49m\u001b[43m \u001b[49m\u001b[43merrors\u001b[49m\u001b[38;5;241;43m=\u001b[39;49m\u001b[43merrors\u001b[49m\u001b[43m)\u001b[49m\n\u001b[0;32m   4281\u001b[0m \u001b[38;5;28;01mif\u001b[39;00m inplace:\n\u001b[0;32m   4282\u001b[0m     \u001b[38;5;28mself\u001b[39m\u001b[38;5;241m.\u001b[39m_update_inplace(obj)\n",
      "File \u001b[1;32m~\\anaconda3\\lib\\site-packages\\pandas\\core\\generic.py:4323\u001b[0m, in \u001b[0;36mNDFrame._drop_axis\u001b[1;34m(self, labels, axis, level, errors, consolidate, only_slice)\u001b[0m\n\u001b[0;32m   4321\u001b[0m         new_axis \u001b[38;5;241m=\u001b[39m axis\u001b[38;5;241m.\u001b[39mdrop(labels, level\u001b[38;5;241m=\u001b[39mlevel, errors\u001b[38;5;241m=\u001b[39merrors)\n\u001b[0;32m   4322\u001b[0m     \u001b[38;5;28;01melse\u001b[39;00m:\n\u001b[1;32m-> 4323\u001b[0m         new_axis \u001b[38;5;241m=\u001b[39m \u001b[43maxis\u001b[49m\u001b[38;5;241;43m.\u001b[39;49m\u001b[43mdrop\u001b[49m\u001b[43m(\u001b[49m\u001b[43mlabels\u001b[49m\u001b[43m,\u001b[49m\u001b[43m \u001b[49m\u001b[43merrors\u001b[49m\u001b[38;5;241;43m=\u001b[39;49m\u001b[43merrors\u001b[49m\u001b[43m)\u001b[49m\n\u001b[0;32m   4324\u001b[0m     indexer \u001b[38;5;241m=\u001b[39m axis\u001b[38;5;241m.\u001b[39mget_indexer(new_axis)\n\u001b[0;32m   4326\u001b[0m \u001b[38;5;66;03m# Case for non-unique axis\u001b[39;00m\n\u001b[0;32m   4327\u001b[0m \u001b[38;5;28;01melse\u001b[39;00m:\n",
      "File \u001b[1;32m~\\anaconda3\\lib\\site-packages\\pandas\\core\\indexes\\base.py:6644\u001b[0m, in \u001b[0;36mIndex.drop\u001b[1;34m(self, labels, errors)\u001b[0m\n\u001b[0;32m   6642\u001b[0m \u001b[38;5;28;01mif\u001b[39;00m mask\u001b[38;5;241m.\u001b[39many():\n\u001b[0;32m   6643\u001b[0m     \u001b[38;5;28;01mif\u001b[39;00m errors \u001b[38;5;241m!=\u001b[39m \u001b[38;5;124m\"\u001b[39m\u001b[38;5;124mignore\u001b[39m\u001b[38;5;124m\"\u001b[39m:\n\u001b[1;32m-> 6644\u001b[0m         \u001b[38;5;28;01mraise\u001b[39;00m \u001b[38;5;167;01mKeyError\u001b[39;00m(\u001b[38;5;124mf\u001b[39m\u001b[38;5;124m\"\u001b[39m\u001b[38;5;132;01m{\u001b[39;00m\u001b[38;5;28mlist\u001b[39m(labels[mask])\u001b[38;5;132;01m}\u001b[39;00m\u001b[38;5;124m not found in axis\u001b[39m\u001b[38;5;124m\"\u001b[39m)\n\u001b[0;32m   6645\u001b[0m     indexer \u001b[38;5;241m=\u001b[39m indexer[\u001b[38;5;241m~\u001b[39mmask]\n\u001b[0;32m   6646\u001b[0m \u001b[38;5;28;01mreturn\u001b[39;00m \u001b[38;5;28mself\u001b[39m\u001b[38;5;241m.\u001b[39mdelete(indexer)\n",
      "\u001b[1;31mKeyError\u001b[0m: \"['CUST_ID'] not found in axis\""
     ]
    }
   ],
   "source": [
    "#dropping the redundant column\n",
    "merged_data=merged_data.drop(['CUST_ID'],axis=1)\n",
    "merged_data.head()"
   ]
  },
  {
   "cell_type": "code",
   "execution_count": 7,
   "id": "ed2e25dc",
   "metadata": {},
   "outputs": [
    {
     "data": {
      "text/plain": [
       "claim_id                 int64\n",
       "customer_id              int64\n",
       "incident_cause          object\n",
       "claim_date              object\n",
       "claim_area              object\n",
       "police_report           object\n",
       "claim_type              object\n",
       "claim_amount            object\n",
       "total_policy_claims    float64\n",
       "fraudulent              object\n",
       "gender                  object\n",
       "DateOfBirth             object\n",
       "State                   object\n",
       "Contact                 object\n",
       "Segment                 object\n",
       "dtype: object"
      ]
     },
     "execution_count": 7,
     "metadata": {},
     "output_type": "execute_result"
    }
   ],
   "source": [
    "#examining the datatypes\n",
    "merged_data.dtypes"
   ]
  },
  {
   "cell_type": "code",
   "execution_count": 8,
   "id": "34d81418",
   "metadata": {},
   "outputs": [
    {
     "name": "stderr",
     "output_type": "stream",
     "text": [
      "C:\\Users\\sujoydutta\\AppData\\Local\\Temp\\ipykernel_9848\\2503692354.py:3: FutureWarning: The default value of regex will change from True to False in a future version. In addition, single character regular expressions will *not* be treated as literal strings when regex=True.\n",
      "  merged_data['claim_amount'] = merged_data['claim_amount'].str.replace('$', '').astype(float)\n"
     ]
    }
   ],
   "source": [
    "#data cleaning and formatting \n",
    "\n",
    "merged_data['claim_amount'] = merged_data['claim_amount'].str.replace('$', '').astype(float)\n",
    "\n",
    "\n",
    "merged_data['claim_id'] = merged_data['claim_id'].astype(str)\n",
    "\n",
    "merged_data['DateOfBirth'] = pd.to_datetime(merged_data['DateOfBirth'], format='%d-%b-%y')\n",
    "\n",
    "merged_data['claim_date'] = pd.to_datetime(merged_data['DateOfBirth'], format='%d-%b-%y')"
   ]
  },
  {
   "cell_type": "code",
   "execution_count": 9,
   "id": "17ff7ea5",
   "metadata": {},
   "outputs": [
    {
     "data": {
      "text/plain": [
       "No         621\n",
       "Unknown    296\n",
       "Yes        168\n",
       "Name: police_report, dtype: int64"
      ]
     },
     "execution_count": 9,
     "metadata": {},
     "output_type": "execute_result"
    }
   ],
   "source": [
    "merged_data['police_report'].value_counts()"
   ]
  },
  {
   "cell_type": "code",
   "execution_count": 10,
   "id": "ae9b467a",
   "metadata": {},
   "outputs": [
    {
     "data": {
      "text/plain": [
       "0             0\n",
       "1       Unknown\n",
       "2             0\n",
       "3             0\n",
       "4             0\n",
       "         ...   \n",
       "1080          1\n",
       "1081          0\n",
       "1082          1\n",
       "1083          0\n",
       "1084          0\n",
       "Name: alert_flag, Length: 1085, dtype: object"
      ]
     },
     "execution_count": 10,
     "metadata": {},
     "output_type": "execute_result"
    }
   ],
   "source": [
    "# Creating a dictionary to map values to 'alert_flag'\n",
    "alert_flag_mapping = {\n",
    "    'No': 0,\n",
    "    'Yes': 1,\n",
    "    'Unknown': 'Unknown'\n",
    "}\n",
    "\n",
    "# Creating the 'alert_flag' column based on the 'police_reported' column\n",
    "merged_data['alert_flag'] = merged_data['police_report'].map(alert_flag_mapping)\n",
    "merged_data['alert_flag']"
   ]
  },
  {
   "cell_type": "code",
   "execution_count": 11,
   "id": "3277c727",
   "metadata": {},
   "outputs": [],
   "source": [
    "# Sorting the DataFrame by 'claim_date' in descending order to ensure the most recent observation is retained\n",
    "merged_data.sort_values(by='claim_date', ascending=False, inplace=True)"
   ]
  },
  {
   "cell_type": "code",
   "execution_count": 12,
   "id": "6a214c1b",
   "metadata": {},
   "outputs": [],
   "source": [
    "# Drop duplicates based on the 'customer_id' column, retaining only the first occurrence \n",
    "merged_data.drop_duplicates(subset='customer_id', keep='first', inplace=True)"
   ]
  },
  {
   "cell_type": "code",
   "execution_count": 13,
   "id": "d9719860",
   "metadata": {},
   "outputs": [
    {
     "name": "stdout",
     "output_type": "stream",
     "text": [
      "<class 'pandas.core.frame.DataFrame'>\n",
      "Int64Index: 1078 entries, 462 to 648\n",
      "Data columns (total 16 columns):\n",
      " #   Column               Non-Null Count  Dtype         \n",
      "---  ------               --------------  -----         \n",
      " 0   claim_id             1078 non-null   object        \n",
      " 1   customer_id          1078 non-null   int64         \n",
      " 2   incident_cause       1078 non-null   object        \n",
      " 3   claim_date           1078 non-null   datetime64[ns]\n",
      " 4   claim_area           1078 non-null   object        \n",
      " 5   police_report        1078 non-null   object        \n",
      " 6   claim_type           1078 non-null   object        \n",
      " 7   claim_amount         1013 non-null   float64       \n",
      " 8   total_policy_claims  1068 non-null   float64       \n",
      " 9   fraudulent           1078 non-null   object        \n",
      " 10  gender               1078 non-null   object        \n",
      " 11  DateOfBirth          1078 non-null   datetime64[ns]\n",
      " 12  State                1078 non-null   object        \n",
      " 13  Contact              1078 non-null   object        \n",
      " 14  Segment              1078 non-null   object        \n",
      " 15  alert_flag           1078 non-null   object        \n",
      "dtypes: datetime64[ns](2), float64(2), int64(1), object(11)\n",
      "memory usage: 143.2+ KB\n"
     ]
    }
   ],
   "source": [
    "#seeing the values count\n",
    "merged_data.info()"
   ]
  },
  {
   "cell_type": "code",
   "execution_count": 14,
   "id": "38d2113e",
   "metadata": {},
   "outputs": [],
   "source": [
    "# making a simple imputer\n",
    "def get_imputation_strategy(value):\n",
    "    if isinstance(value, (int, float)):\n",
    "        return 'mean'\n",
    "    else:\n",
    "        return 'most_frequent'"
   ]
  },
  {
   "cell_type": "code",
   "execution_count": 15,
   "id": "25725615",
   "metadata": {},
   "outputs": [],
   "source": [
    "# Building the custom function to create an imputer with the appropriate strategy for each column\n",
    "imputation_strategies = merged_data.applymap(get_imputation_strategy)\n",
    "imputer = SimpleImputer(strategy='most_frequent')"
   ]
  },
  {
   "cell_type": "code",
   "execution_count": 16,
   "id": "6ee75e12",
   "metadata": {},
   "outputs": [
    {
     "data": {
      "text/html": [
       "<div>\n",
       "<style scoped>\n",
       "    .dataframe tbody tr th:only-of-type {\n",
       "        vertical-align: middle;\n",
       "    }\n",
       "\n",
       "    .dataframe tbody tr th {\n",
       "        vertical-align: top;\n",
       "    }\n",
       "\n",
       "    .dataframe thead th {\n",
       "        text-align: right;\n",
       "    }\n",
       "</style>\n",
       "<table border=\"1\" class=\"dataframe\">\n",
       "  <thead>\n",
       "    <tr style=\"text-align: right;\">\n",
       "      <th></th>\n",
       "      <th>claim_id</th>\n",
       "      <th>customer_id</th>\n",
       "      <th>incident_cause</th>\n",
       "      <th>claim_date</th>\n",
       "      <th>claim_area</th>\n",
       "      <th>police_report</th>\n",
       "      <th>claim_type</th>\n",
       "      <th>claim_amount</th>\n",
       "      <th>total_policy_claims</th>\n",
       "      <th>fraudulent</th>\n",
       "      <th>gender</th>\n",
       "      <th>DateOfBirth</th>\n",
       "      <th>State</th>\n",
       "      <th>Contact</th>\n",
       "      <th>Segment</th>\n",
       "      <th>alert_flag</th>\n",
       "    </tr>\n",
       "  </thead>\n",
       "  <tbody>\n",
       "    <tr>\n",
       "      <th>0</th>\n",
       "      <td>21491548</td>\n",
       "      <td>44643917</td>\n",
       "      <td>Other driver error</td>\n",
       "      <td>2068-12-19</td>\n",
       "      <td>Auto</td>\n",
       "      <td>Yes</td>\n",
       "      <td>Material and injury</td>\n",
       "      <td>41320.0</td>\n",
       "      <td>1.0</td>\n",
       "      <td>No</td>\n",
       "      <td>Male</td>\n",
       "      <td>2068-12-19</td>\n",
       "      <td>WA</td>\n",
       "      <td>278-698-5972</td>\n",
       "      <td>Gold</td>\n",
       "      <td>1</td>\n",
       "    </tr>\n",
       "    <tr>\n",
       "      <th>1</th>\n",
       "      <td>49457139</td>\n",
       "      <td>12499211</td>\n",
       "      <td>Other causes</td>\n",
       "      <td>2068-12-15</td>\n",
       "      <td>Auto</td>\n",
       "      <td>No</td>\n",
       "      <td>Material only</td>\n",
       "      <td>3139.5</td>\n",
       "      <td>1.0</td>\n",
       "      <td>Yes</td>\n",
       "      <td>Female</td>\n",
       "      <td>2068-12-15</td>\n",
       "      <td>MA</td>\n",
       "      <td>851-792-1325</td>\n",
       "      <td>Gold</td>\n",
       "      <td>0</td>\n",
       "    </tr>\n",
       "    <tr>\n",
       "      <th>2</th>\n",
       "      <td>25688619</td>\n",
       "      <td>98204394</td>\n",
       "      <td>Driver error</td>\n",
       "      <td>2068-12-06</td>\n",
       "      <td>Home</td>\n",
       "      <td>Unknown</td>\n",
       "      <td>Material only</td>\n",
       "      <td>1550.0</td>\n",
       "      <td>6.0</td>\n",
       "      <td>No</td>\n",
       "      <td>Male</td>\n",
       "      <td>2068-12-06</td>\n",
       "      <td>VA</td>\n",
       "      <td>685-823-5284</td>\n",
       "      <td>Silver</td>\n",
       "      <td>Unknown</td>\n",
       "    </tr>\n",
       "    <tr>\n",
       "      <th>3</th>\n",
       "      <td>44965194</td>\n",
       "      <td>18307355</td>\n",
       "      <td>Other causes</td>\n",
       "      <td>2068-11-09</td>\n",
       "      <td>Auto</td>\n",
       "      <td>Yes</td>\n",
       "      <td>Material and injury</td>\n",
       "      <td>34210.0</td>\n",
       "      <td>1.0</td>\n",
       "      <td>No</td>\n",
       "      <td>Male</td>\n",
       "      <td>2068-11-09</td>\n",
       "      <td>ID</td>\n",
       "      <td>879-542-1978</td>\n",
       "      <td>Platinum</td>\n",
       "      <td>1</td>\n",
       "    </tr>\n",
       "    <tr>\n",
       "      <th>4</th>\n",
       "      <td>87229793</td>\n",
       "      <td>44319192</td>\n",
       "      <td>Other causes</td>\n",
       "      <td>2068-11-07</td>\n",
       "      <td>Auto</td>\n",
       "      <td>Yes</td>\n",
       "      <td>Material and injury</td>\n",
       "      <td>41430.0</td>\n",
       "      <td>1.0</td>\n",
       "      <td>No</td>\n",
       "      <td>Male</td>\n",
       "      <td>2068-11-07</td>\n",
       "      <td>NC</td>\n",
       "      <td>432-234-3617</td>\n",
       "      <td>Platinum</td>\n",
       "      <td>1</td>\n",
       "    </tr>\n",
       "  </tbody>\n",
       "</table>\n",
       "</div>"
      ],
      "text/plain": [
       "   claim_id customer_id      incident_cause claim_date claim_area  \\\n",
       "0  21491548    44643917  Other driver error 2068-12-19       Auto   \n",
       "1  49457139    12499211        Other causes 2068-12-15       Auto   \n",
       "2  25688619    98204394        Driver error 2068-12-06       Home   \n",
       "3  44965194    18307355        Other causes 2068-11-09       Auto   \n",
       "4  87229793    44319192        Other causes 2068-11-07       Auto   \n",
       "\n",
       "  police_report           claim_type claim_amount total_policy_claims  \\\n",
       "0           Yes  Material and injury      41320.0                 1.0   \n",
       "1            No        Material only       3139.5                 1.0   \n",
       "2       Unknown        Material only       1550.0                 6.0   \n",
       "3           Yes  Material and injury      34210.0                 1.0   \n",
       "4           Yes  Material and injury      41430.0                 1.0   \n",
       "\n",
       "  fraudulent  gender DateOfBirth State       Contact   Segment alert_flag  \n",
       "0         No    Male  2068-12-19    WA  278-698-5972      Gold          1  \n",
       "1        Yes  Female  2068-12-15    MA  851-792-1325      Gold          0  \n",
       "2         No    Male  2068-12-06    VA  685-823-5284    Silver    Unknown  \n",
       "3         No    Male  2068-11-09    ID  879-542-1978  Platinum          1  \n",
       "4         No    Male  2068-11-07    NC  432-234-3617  Platinum          1  "
      ]
     },
     "execution_count": 16,
     "metadata": {},
     "output_type": "execute_result"
    }
   ],
   "source": [
    "# Fitting the imputer on the DataFrame to impute missing values\n",
    "merged_data_imputed = pd.DataFrame(imputer.fit_transform(merged_data), columns=merged_data.columns)\n",
    "merged_data_imputed.head()"
   ]
  },
  {
   "cell_type": "code",
   "execution_count": 17,
   "id": "3a729d40",
   "metadata": {},
   "outputs": [
    {
     "data": {
      "text/plain": [
       "462    46\n",
       "978    46\n",
       "306    46\n",
       "859    46\n",
       "63     46\n",
       "       ..\n",
       "712    54\n",
       "18     54\n",
       "688    54\n",
       "988    54\n",
       "648    54\n",
       "Name: age, Length: 1078, dtype: int64"
      ]
     },
     "execution_count": 17,
     "metadata": {},
     "output_type": "execute_result"
    }
   ],
   "source": [
    "# Calculating the current date\n",
    "current_date = datetime.now()\n",
    "\n",
    "# Calculating the age based on 'DateOfBirth' and current date\n",
    "merged_data['age'] = (current_date - merged_data['DateOfBirth']).dt.days // 365\n",
    "merged_data['age'] = merged_data['age'].abs()\n",
    "merged_data['age'] "
   ]
  },
  {
   "cell_type": "code",
   "execution_count": 18,
   "id": "61398b47",
   "metadata": {},
   "outputs": [
    {
     "data": {
      "text/plain": [
       "462    Adult\n",
       "978    Adult\n",
       "306    Adult\n",
       "859    Adult\n",
       "63     Adult\n",
       "       ...  \n",
       "712    Adult\n",
       "18     Adult\n",
       "688    Adult\n",
       "988    Adult\n",
       "648    Adult\n",
       "Name: age_segment, Length: 1078, dtype: object"
      ]
     },
     "execution_count": 18,
     "metadata": {},
     "output_type": "execute_result"
    }
   ],
   "source": [
    "# Categorizing customers based on age\n",
    "def categorize_age(age):\n",
    "    if age < 18:\n",
    "        return 'Children'\n",
    "    elif 18 <= age <= 30:\n",
    "        return 'Youth'\n",
    "    elif 30 < age <= 60:\n",
    "        return 'Adult'\n",
    "    else:\n",
    "        return 'Senior'\n",
    "\n",
    "merged_data['age_segment'] = merged_data['age'].apply(categorize_age)\n",
    "merged_data['age_segment']"
   ]
  },
  {
   "cell_type": "code",
   "execution_count": 19,
   "id": "c137c70c",
   "metadata": {},
   "outputs": [
    {
     "data": {
      "text/plain": [
       "Adult    868\n",
       "Youth    210\n",
       "Name: age_segment, dtype: int64"
      ]
     },
     "execution_count": 19,
     "metadata": {},
     "output_type": "execute_result"
    }
   ],
   "source": [
    "#seeing number of people in each segment\n",
    "merged_data['age_segment'].value_counts()"
   ]
  },
  {
   "cell_type": "code",
   "execution_count": 20,
   "id": "9c1eca64",
   "metadata": {},
   "outputs": [
    {
     "data": {
      "text/plain": [
       "age_segment\n",
       "Adult    12625.909646\n",
       "Youth    11816.365979\n",
       "Name: claim_amount, dtype: float64"
      ]
     },
     "execution_count": 20,
     "metadata": {},
     "output_type": "execute_result"
    }
   ],
   "source": [
    "# seeing the average amount by each segment\n",
    "average_claim_by_segment = merged_data.groupby('age_segment')['claim_amount'].mean()\n",
    "average_claim_by_segment"
   ]
  },
  {
   "cell_type": "code",
   "execution_count": 21,
   "id": "51abfec9",
   "metadata": {},
   "outputs": [
    {
     "data": {
      "text/plain": [
       "incident_cause\n",
       "Crime                  502877.0\n",
       "Driver error          2660166.5\n",
       "Natural causes        1001951.5\n",
       "Other causes          3053369.0\n",
       "Other driver error    2707723.0\n",
       "Name: claim_amount, dtype: float64"
      ]
     },
     "execution_count": 21,
     "metadata": {},
     "output_type": "execute_result"
    }
   ],
   "source": [
    "# Calculate the reference date (1st October 2018)\n",
    "reference_date = pd.to_datetime('2018-10-01')\n",
    "\n",
    "# Filter claims made at least 20 days before 1st October 2018\n",
    "filtered_data = merged_data[merged_data['claim_date'] <= reference_date - pd.DateOffset(days=20)]\n",
    "\n",
    "# Group the filtered data by 'incident_cause' and calculate the total claim amount for each incident cause\n",
    "total_claim_amount_by_cause = filtered_data.groupby('incident_cause')['claim_amount'].sum()\n",
    "total_claim_amount_by_cause"
   ]
  },
  {
   "cell_type": "code",
   "execution_count": 23,
   "id": "67b733f9",
   "metadata": {},
   "outputs": [
    {
     "data": {
      "text/plain": [
       "29"
      ]
     },
     "execution_count": 23,
     "metadata": {},
     "output_type": "execute_result"
    }
   ],
   "source": [
    "# Filtering the data to include only adults \n",
    "adults_data = merged_data[merged_data['age_segment'] == 'Adult']\n",
    "\n",
    "# Filtering the data to include only the specified states \n",
    "specified_states_data = adults_data[adults_data['State'].isin(['TX', 'DE', 'AK'])]\n",
    "\n",
    "# Filtering the data to include only driver-related issues and causes\n",
    "driver_related_data = specified_states_data[specified_states_data['incident_cause'].str.contains('driver', case=False)]\n",
    "\n",
    "# Count the number of claims in this filtered data\n",
    "num_adult_driver_claims = len(driver_related_data)\n",
    "num_adult_driver_claims"
   ]
  },
  {
   "cell_type": "code",
   "execution_count": 24,
   "id": "77a72f74",
   "metadata": {},
   "outputs": [
    {
     "data": {
      "image/png": "[encoded data removed]",
      "text/plain": [
       "<Figure size 800x800 with 1 Axes>"
      ]
     },
     "metadata": {},
     "output_type": "display_data"
    }
   ],
   "source": [
    "# Create a pie chart by 'gender' and 'age_segment' and calculating the total claim amount\n",
    "grouped_data = merged_data.groupby(['gender', 'age_segment'])['claim_amount'].sum()\n",
    "grouped_data = grouped_data.reset_index()\n",
    "plt.figure(figsize=(8, 8))\n",
    "plt.pie(grouped_data['claim_amount'], labels=grouped_data.apply(lambda row: f\"{row['gender']} - {row['age_segment']}\", axis=1), autopct='%1.1f%%')\n",
    "plt.title(\"Claim Amount by Gender and Segment\")\n",
    "plt.show()"
   ]
  },
  {
   "cell_type": "code",
   "execution_count": 25,
   "id": "dd67a372",
   "metadata": {},
   "outputs": [
    {
     "data": {
      "image/png": "[encoded data removed]",
      "text/plain": [
       "<Figure size 640x480 with 1 Axes>"
      ]
     },
     "metadata": {},
     "output_type": "display_data"
    }
   ],
   "source": [
    "# Determining which gender has claimed the most for driver-related issues\n",
    "driver_related_data = merged_data[merged_data['incident_cause'].str.contains('driver', case=False)]\n",
    "\n",
    "\n",
    "gender_claim_counts = driver_related_data['gender'].value_counts()\n",
    "\n",
    "\n",
    "gender_claim_counts.plot(kind='bar', color='skyblue')\n",
    "plt.title(\"Driver-Related Claims by Gender\")\n",
    "plt.xlabel(\"Gender\")\n",
    "plt.ylabel(\"Number of Claims\")\n",
    "plt.show()\n",
    "\n",
    "\n"
   ]
  },
  {
   "cell_type": "code",
   "execution_count": 28,
   "id": "f1b23d14",
   "metadata": {},
   "outputs": [
    {
     "data": {
      "image/png": "[encoded data removed]",
      "text/plain": [
       "<Figure size 640x480 with 1 Axes>"
      ]
     },
     "metadata": {},
     "output_type": "display_data"
    }
   ],
   "source": [
    "# Seeing which segment has the most fraudulent claims\n",
    "fraudulent_data = merged_data[merged_data['fraudulent'] == 'Yes']\n",
    "\n",
    "\n",
    "age_claim_counts = fraudulent_data['age_segment'].value_counts()\n",
    "\n",
    "age_claim_counts.plot(kind='bar', color='coral')\n",
    "plt.title(\"Fraudulent Policy Claims by Age Segment\")\n",
    "plt.xlabel(\"Age Segment\")\n",
    "plt.ylabel(\"Number of Claims\")\n",
    "plt.show()"
   ]
  },
  {
   "cell_type": "code",
   "execution_count": 37,
   "id": "87bbbf9f",
   "metadata": {},
   "outputs": [
    {
     "data": {
      "image/png": "[encoded data removed]",
      "text/plain": [
       "<Figure size 1000x500 with 1 Axes>"
      ]
     },
     "metadata": {},
     "output_type": "display_data"
    }
   ],
   "source": [
    "# Creating a line chart to visualize the monthly trend of amount claimed \n",
    "merged_data['claim_month'] = merged_data['claim_date'].dt.month\n",
    "\n",
    "\n",
    "monthly_claim_totals = merged_data.groupby('claim_month')['claim_amount'].sum()\n",
    "\n",
    "\n",
    "monthly_claim_totals = monthly_claim_totals.reindex(range(1, 13))\n",
    "\n",
    "plt.figure(figsize=(10, 5))\n",
    "plt.plot(monthly_claim_totals.index, monthly_claim_totals.values, marker='o', linestyle='-')\n",
    "plt.title(\"Monthly Trend of Total Claim Amount\")\n",
    "plt.xlabel(\"Month\")\n",
    "plt.ylabel(\"Total Claim Amount\")\n",
    "plt.xticks(range(1, 13), [calendar.month_abbr[i] for i in range(1, 13)])  # Display month abbreviations\n",
    "plt.grid(True)\n",
    "plt.show()"
   ]
  },
  {
   "cell_type": "code",
   "execution_count": 39,
   "id": "16bdab51",
   "metadata": {},
   "outputs": [
    {
     "data": {
      "text/html": [
       "<div>\n",
       "<style scoped>\n",
       "    .dataframe tbody tr th:only-of-type {\n",
       "        vertical-align: middle;\n",
       "    }\n",
       "\n",
       "    .dataframe tbody tr th {\n",
       "        vertical-align: top;\n",
       "    }\n",
       "\n",
       "    .dataframe thead th {\n",
       "        text-align: right;\n",
       "    }\n",
       "</style>\n",
       "<table border=\"1\" class=\"dataframe\">\n",
       "  <thead>\n",
       "    <tr style=\"text-align: right;\">\n",
       "      <th></th>\n",
       "      <th>gender</th>\n",
       "      <th>age_segment</th>\n",
       "      <th>fraudulent</th>\n",
       "      <th>claim_amount</th>\n",
       "    </tr>\n",
       "  </thead>\n",
       "  <tbody>\n",
       "    <tr>\n",
       "      <th>0</th>\n",
       "      <td>Female</td>\n",
       "      <td>Adult</td>\n",
       "      <td>No</td>\n",
       "      <td>12181.540984</td>\n",
       "    </tr>\n",
       "    <tr>\n",
       "      <th>1</th>\n",
       "      <td>Female</td>\n",
       "      <td>Adult</td>\n",
       "      <td>Yes</td>\n",
       "      <td>11382.095960</td>\n",
       "    </tr>\n",
       "    <tr>\n",
       "      <th>2</th>\n",
       "      <td>Female</td>\n",
       "      <td>Youth</td>\n",
       "      <td>No</td>\n",
       "      <td>13381.298701</td>\n",
       "    </tr>\n",
       "    <tr>\n",
       "      <th>3</th>\n",
       "      <td>Female</td>\n",
       "      <td>Youth</td>\n",
       "      <td>Yes</td>\n",
       "      <td>8448.441176</td>\n",
       "    </tr>\n",
       "    <tr>\n",
       "      <th>4</th>\n",
       "      <td>Male</td>\n",
       "      <td>Adult</td>\n",
       "      <td>No</td>\n",
       "      <td>12237.327044</td>\n",
       "    </tr>\n",
       "    <tr>\n",
       "      <th>5</th>\n",
       "      <td>Male</td>\n",
       "      <td>Adult</td>\n",
       "      <td>Yes</td>\n",
       "      <td>16566.520619</td>\n",
       "    </tr>\n",
       "    <tr>\n",
       "      <th>6</th>\n",
       "      <td>Male</td>\n",
       "      <td>Youth</td>\n",
       "      <td>No</td>\n",
       "      <td>11933.734940</td>\n",
       "    </tr>\n",
       "    <tr>\n",
       "      <th>7</th>\n",
       "      <td>Male</td>\n",
       "      <td>Youth</td>\n",
       "      <td>Yes</td>\n",
       "      <td>7523.029412</td>\n",
       "    </tr>\n",
       "  </tbody>\n",
       "</table>\n",
       "</div>"
      ],
      "text/plain": [
       "   gender age_segment fraudulent  claim_amount\n",
       "0  Female       Adult         No  12181.540984\n",
       "1  Female       Adult        Yes  11382.095960\n",
       "2  Female       Youth         No  13381.298701\n",
       "3  Female       Youth        Yes   8448.441176\n",
       "4    Male       Adult         No  12237.327044\n",
       "5    Male       Adult        Yes  16566.520619\n",
       "6    Male       Youth         No  11933.734940\n",
       "7    Male       Youth        Yes   7523.029412"
      ]
     },
     "execution_count": 39,
     "metadata": {},
     "output_type": "execute_result"
    }
   ],
   "source": [
    "# Grouping the data by 'gender', 'age_segment', and 'fraudulent', and calculating the average claim amount\n",
    "average_claim_amount = merged_data.groupby(['gender', 'age_segment', 'fraudulent'])['claim_amount'].mean().reset_index()\n",
    "average_claim_amount"
   ]
  },
  {
   "cell_type": "code",
   "execution_count": 40,
   "id": "86c6aaf3",
   "metadata": {},
   "outputs": [
    {
     "data": {
      "image/png": "[encoded data removed]",
      "text/plain": [
       "<Figure size 1386.72x500 with 2 Axes>"
      ]
     },
     "metadata": {},
     "output_type": "display_data"
    }
   ],
   "source": [
    "# Creating a facetted bar chart\n",
    "sns.set(style=\"whitegrid\")\n",
    "g = sns.catplot(\n",
    "    data=average_claim_amount, kind=\"bar\",\n",
    "    x=\"gender\", y=\"claim_amount\", hue=\"fraudulent\",\n",
    "    col=\"age_segment\", aspect=1.3,\n",
    ")\n",
    "g.set_axis_labels(\"Gender\", \"Average Claim Amount\")\n",
    "g.set_titles(\"Age Segment: {col_name}\")\n",
    "plt.show()"
   ]
  },
  {
   "cell_type": "markdown",
   "id": "f8dbbd30",
   "metadata": {},
   "source": [
    "# **Is there any similarity in the amount claimed by males and females?**\n",
    "\n",
    "We will use t-test to compare the means of the claim amounts for males and females. "
   ]
  },
  {
   "cell_type": "code",
   "execution_count": 43,
   "id": "c3033944",
   "metadata": {},
   "outputs": [],
   "source": [
    "# Separate the claim amounts for males and females\n",
    "male_claim_amounts = merged_data[merged_data['gender'] == 'Male']['claim_amount']\n",
    "female_claim_amounts = merged_data[merged_data['gender'] == 'Female']['claim_amount']\n"
   ]
  },
  {
   "cell_type": "code",
   "execution_count": 44,
   "id": "e429855b",
   "metadata": {},
   "outputs": [],
   "source": [
    "# Performing a t-test to compare the means\n",
    "t_stat, p_value = stats.ttest_ind(male_claim_amounts, female_claim_amounts, equal_var=False)\n"
   ]
  },
  {
   "cell_type": "code",
   "execution_count": 45,
   "id": "d6927187",
   "metadata": {},
   "outputs": [
    {
     "name": "stdout",
     "output_type": "stream",
     "text": [
      "There is no significant difference in the amounts claimed by males and females.\n"
     ]
    }
   ],
   "source": [
    "# Checking the p-value to determine if there's a significant difference\n",
    "if p_value < 0.05:  # Adjust the significance level as needed\n",
    "    print(\"There is a significant difference in the amounts claimed by males and females.\")\n",
    "else:\n",
    "    print(\"There is no significant difference in the amounts claimed by males and females.\")"
   ]
  },
  {
   "cell_type": "markdown",
   "id": "8bbacc31",
   "metadata": {},
   "source": [
    "# Is there any relationship between age category and segment?\n",
    "To determine if there is a relationship between two categorical variables like \"age category\" and \"segment,\" you can perform a chi-squared test of independence. The chi-squared test can assess whether there is a statistically significant association between these categorical variables"
   ]
  },
  {
   "cell_type": "code",
   "execution_count": 54,
   "id": "5f82e15d",
   "metadata": {},
   "outputs": [
    {
     "data": {
      "text/html": [
       "<div>\n",
       "<style scoped>\n",
       "    .dataframe tbody tr th:only-of-type {\n",
       "        vertical-align: middle;\n",
       "    }\n",
       "\n",
       "    .dataframe tbody tr th {\n",
       "        vertical-align: top;\n",
       "    }\n",
       "\n",
       "    .dataframe thead th {\n",
       "        text-align: right;\n",
       "    }\n",
       "</style>\n",
       "<table border=\"1\" class=\"dataframe\">\n",
       "  <thead>\n",
       "    <tr style=\"text-align: right;\">\n",
       "      <th>Segment</th>\n",
       "      <th>Gold</th>\n",
       "      <th>Platinum</th>\n",
       "      <th>Silver</th>\n",
       "    </tr>\n",
       "    <tr>\n",
       "      <th>age_segment</th>\n",
       "      <th></th>\n",
       "      <th></th>\n",
       "      <th></th>\n",
       "    </tr>\n",
       "  </thead>\n",
       "  <tbody>\n",
       "    <tr>\n",
       "      <th>Adult</th>\n",
       "      <td>300</td>\n",
       "      <td>291</td>\n",
       "      <td>277</td>\n",
       "    </tr>\n",
       "    <tr>\n",
       "      <th>Youth</th>\n",
       "      <td>71</td>\n",
       "      <td>70</td>\n",
       "      <td>69</td>\n",
       "    </tr>\n",
       "  </tbody>\n",
       "</table>\n",
       "</div>"
      ],
      "text/plain": [
       "Segment      Gold  Platinum  Silver\n",
       "age_segment                        \n",
       "Adult         300       291     277\n",
       "Youth          71        70      69"
      ]
     },
     "execution_count": 54,
     "metadata": {},
     "output_type": "execute_result"
    }
   ],
   "source": [
    "# Creating a contingency table\n",
    "contingency_table = pd.crosstab(merged_data['age_segment'], merged_data['Segment'])\n",
    "contingency_table"
   ]
  },
  {
   "cell_type": "code",
   "execution_count": 55,
   "id": "186af844",
   "metadata": {},
   "outputs": [],
   "source": [
    "# Performing the chi-squared test\n",
    "chi2, p, _, _ = chi2_contingency(contingency_table)\n"
   ]
  },
  {
   "cell_type": "code",
   "execution_count": 56,
   "id": "40fb7c10",
   "metadata": {},
   "outputs": [
    {
     "name": "stdout",
     "output_type": "stream",
     "text": [
      "There is no significant relationship between age category and segment.\n"
     ]
    }
   ],
   "source": [
    "# Checking the p-value to determine if there is a significant relationship\n",
    "if p < 0.05:  \n",
    "    print(\"There is a significant relationship between age category and segment.\")\n",
    "else:\n",
    "    print(\"There is no significant relationship between age category and segment.\")"
   ]
  },
  {
   "cell_type": "markdown",
   "id": "064c76be",
   "metadata": {},
   "source": [
    "# Is there any difference between age groups and insurance claims?\n",
    "\n",
    "To determine if there is any difference between age groups and insurance claims performance (ANOVA) between insurance claims in different age segments, we will perform an Analysis of Variance (ANOVA) test. The ANOVA test assesses whether there are statistically significant differences in the means of multiple groups."
   ]
  },
  {
   "cell_type": "code",
   "execution_count": 58,
   "id": "a7bfc31c",
   "metadata": {},
   "outputs": [],
   "source": [
    "# Creating a list of insurance claims for each age segment\n",
    "age_segments = merged_data['age_segment'].unique()\n",
    "claims_data = [merged_data[merged_data['age_segment'] == segment]['claim_amount'] for segment in age_segments]\n"
   ]
  },
  {
   "cell_type": "code",
   "execution_count": 59,
   "id": "f1e1f37d",
   "metadata": {},
   "outputs": [],
   "source": [
    "# Performing the ANOVA test\n",
    "f_statistic, p_value = stats.f_oneway(*claims_data)"
   ]
  },
  {
   "cell_type": "code",
   "execution_count": 60,
   "id": "62ae4964",
   "metadata": {},
   "outputs": [
    {
     "name": "stdout",
     "output_type": "stream",
     "text": [
      "There are no significant differences in insurance claims between different age segments.\n"
     ]
    }
   ],
   "source": [
    "# Checking the p-value to determine if there are significant differences\n",
    "if p_value < 0.05:  \n",
    "    print(\"There are significant differences in insurance claim amount between different age segments.\")\n",
    "else:\n",
    "    print(\"There are no significant differences in insurance claim amount between different age segments.\")"
   ]
  },
  {
   "cell_type": "markdown",
   "id": "3499eaab",
   "metadata": {},
   "source": [
    "# The current year has shown a significant rise in claim amounts as compared to 2016-17 fiscal average which was 10000\n",
    "To determine if the current year has shown a significant rise in claim amounts compared to the 2016-17 fiscal average, we will perform a statistical analysis and compare the claim amounts for these two time periods."
   ]
  },
  {
   "cell_type": "code",
   "execution_count": 61,
   "id": "67f5af40",
   "metadata": {},
   "outputs": [
    {
     "data": {
      "text/plain": [
       "462    2068\n",
       "978    2068\n",
       "306    2068\n",
       "859    2068\n",
       "63     2068\n",
       "       ... \n",
       "712    1969\n",
       "18     1969\n",
       "688    1969\n",
       "988    1969\n",
       "648    1969\n",
       "Name: claim_year, Length: 1078, dtype: int64"
      ]
     },
     "execution_count": 61,
     "metadata": {},
     "output_type": "execute_result"
    }
   ],
   "source": [
    "# Extract the year from 'claim_date'\n",
    "merged_data['claim_year'] = merged_data['claim_date'].dt.year\n",
    "merged_data['claim_year']\n"
   ]
  },
  {
   "cell_type": "code",
   "execution_count": 62,
   "id": "da3f13e0",
   "metadata": {},
   "outputs": [
    {
     "data": {
      "text/plain": [
       "2068"
      ]
     },
     "execution_count": 62,
     "metadata": {},
     "output_type": "execute_result"
    }
   ],
   "source": [
    "# Finding the most recent year in the dataset\n",
    "recent_year = merged_data['claim_year'].max()\n",
    "recent_year"
   ]
  },
  {
   "cell_type": "code",
   "execution_count": 66,
   "id": "9c95dbfc",
   "metadata": {},
   "outputs": [
    {
     "name": "stderr",
     "output_type": "stream",
     "text": [
      "C:\\Users\\sujoydutta\\AppData\\Local\\Temp\\ipykernel_9848\\997251540.py:2: FutureWarning: DataFrame.mean and DataFrame.median with numeric_only=None will include datetime64 and datetime64tz columns in a future version.\n",
      "  most_recent_claim_year_mean = merged_data[merged_data['claim_year'] == recent_year].mean().round()\n",
      "C:\\Users\\sujoydutta\\AppData\\Local\\Temp\\ipykernel_9848\\997251540.py:2: FutureWarning: Dropping of nuisance columns in DataFrame reductions (with 'numeric_only=None') is deprecated; in a future version this will raise TypeError.  Select only valid columns before calling the reduction.\n",
      "  most_recent_claim_year_mean = merged_data[merged_data['claim_year'] == recent_year].mean().round()\n"
     ]
    },
    {
     "data": {
      "text/plain": [
       "claim_id               8.954812e+187\n",
       "customer_id             4.608128e+07\n",
       "claim_amount            1.524200e+04\n",
       "total_policy_claims     2.000000e+00\n",
       "age                     4.500000e+01\n",
       "claim_month             8.000000e+00\n",
       "claim_year              2.068000e+03\n",
       "dtype: float64"
      ]
     },
     "execution_count": 66,
     "metadata": {},
     "output_type": "execute_result"
    }
   ],
   "source": [
    "# Calculating the mean of all existing values for the most recent claim year\n",
    "most_recent_claim_year_mean = merged_data[merged_data['claim_year'] == recent_year].mean().round()\n",
    "most_recent_claim_year_mean"
   ]
  },
  {
   "cell_type": "code",
   "execution_count": 67,
   "id": "c2f4dda8",
   "metadata": {},
   "outputs": [],
   "source": [
    "# Calculating the average claim amount for the 2016-17 fiscal year\n",
    "fiscal_year_2016_17 = range(2016, 2018)  \n",
    "fiscal_year_average = merged_data[merged_data['claim_year'].isin(fiscal_year_2016_17)]['claim_amount'].mean()\n"
   ]
  },
  {
   "cell_type": "code",
   "execution_count": 71,
   "id": "f0a080b9",
   "metadata": {},
   "outputs": [
    {
     "name": "stdout",
     "output_type": "stream",
     "text": [
      "The current year has not shown a significant rise in claim amounts compared to 2016-17 fiscal year.\n"
     ]
    }
   ],
   "source": [
    "# Comparing the two averages\n",
    "if most_recent_claim_year_mean['claim_amount'] > fiscal_year_average:\n",
    "    print(f\"The current year has shown a significant rise in claim amounts compared to 2016-17 fiscal year.\")\n",
    "else:\n",
    "    print(f\"The current year has not shown a significant rise in claim amounts compared to 2016-17 fiscal year.\")"
   ]
  },
  {
   "cell_type": "markdown",
   "id": "412a44da",
   "metadata": {},
   "source": [
    "# Is there any relationship between the total number of policy claims and the claimed amount?\n",
    "\n",
    "For answering this question, the number of claims has to be grouped per customer ID and the claim amount needs to be summed per ID. Then a correlation test needs to be taken. "
   ]
  },
  {
   "cell_type": "code",
   "execution_count": 47,
   "id": "9e4ed62c",
   "metadata": {},
   "outputs": [
    {
     "data": {
      "text/html": [
       "<div>\n",
       "<style scoped>\n",
       "    .dataframe tbody tr th:only-of-type {\n",
       "        vertical-align: middle;\n",
       "    }\n",
       "\n",
       "    .dataframe tbody tr th {\n",
       "        vertical-align: top;\n",
       "    }\n",
       "\n",
       "    .dataframe thead th {\n",
       "        text-align: right;\n",
       "    }\n",
       "</style>\n",
       "<table border=\"1\" class=\"dataframe\">\n",
       "  <thead>\n",
       "    <tr style=\"text-align: right;\">\n",
       "      <th></th>\n",
       "      <th>claim_id</th>\n",
       "      <th>claim_amount</th>\n",
       "    </tr>\n",
       "    <tr>\n",
       "      <th>customer_id</th>\n",
       "      <th></th>\n",
       "      <th></th>\n",
       "    </tr>\n",
       "  </thead>\n",
       "  <tbody>\n",
       "    <tr>\n",
       "      <th>154557</th>\n",
       "      <td>1</td>\n",
       "      <td>0.0</td>\n",
       "    </tr>\n",
       "    <tr>\n",
       "      <th>263204</th>\n",
       "      <td>1</td>\n",
       "      <td>39192.0</td>\n",
       "    </tr>\n",
       "    <tr>\n",
       "      <th>287476</th>\n",
       "      <td>1</td>\n",
       "      <td>1621.5</td>\n",
       "    </tr>\n",
       "    <tr>\n",
       "      <th>441097</th>\n",
       "      <td>1</td>\n",
       "      <td>37040.0</td>\n",
       "    </tr>\n",
       "    <tr>\n",
       "      <th>524545</th>\n",
       "      <td>1</td>\n",
       "      <td>35250.0</td>\n",
       "    </tr>\n",
       "    <tr>\n",
       "      <th>...</th>\n",
       "      <td>...</td>\n",
       "      <td>...</td>\n",
       "    </tr>\n",
       "    <tr>\n",
       "      <th>99674324</th>\n",
       "      <td>1</td>\n",
       "      <td>21480.0</td>\n",
       "    </tr>\n",
       "    <tr>\n",
       "      <th>99723844</th>\n",
       "      <td>1</td>\n",
       "      <td>14360.0</td>\n",
       "    </tr>\n",
       "    <tr>\n",
       "      <th>99761663</th>\n",
       "      <td>1</td>\n",
       "      <td>1242.0</td>\n",
       "    </tr>\n",
       "    <tr>\n",
       "      <th>99892000</th>\n",
       "      <td>1</td>\n",
       "      <td>2415.0</td>\n",
       "    </tr>\n",
       "    <tr>\n",
       "      <th>99961993</th>\n",
       "      <td>1</td>\n",
       "      <td>2310.0</td>\n",
       "    </tr>\n",
       "  </tbody>\n",
       "</table>\n",
       "<p>1078 rows × 2 columns</p>\n",
       "</div>"
      ],
      "text/plain": [
       "             claim_id  claim_amount\n",
       "customer_id                        \n",
       "154557              1           0.0\n",
       "263204              1       39192.0\n",
       "287476              1        1621.5\n",
       "441097              1       37040.0\n",
       "524545              1       35250.0\n",
       "...               ...           ...\n",
       "99674324            1       21480.0\n",
       "99723844            1       14360.0\n",
       "99761663            1        1242.0\n",
       "99892000            1        2415.0\n",
       "99961993            1        2310.0\n",
       "\n",
       "[1078 rows x 2 columns]"
      ]
     },
     "execution_count": 47,
     "metadata": {},
     "output_type": "execute_result"
    }
   ],
   "source": [
    "# Grouping by customer_id and making a separate dataset\n",
    "customer_claim_data = merged_data.groupby('customer_id').agg({'claim_id': 'count', 'claim_amount': 'sum'})\n",
    "customer_claim_data\n"
   ]
  },
  {
   "cell_type": "code",
   "execution_count": 48,
   "id": "5b923156",
   "metadata": {},
   "outputs": [
    {
     "data": {
      "text/html": [
       "<div>\n",
       "<style scoped>\n",
       "    .dataframe tbody tr th:only-of-type {\n",
       "        vertical-align: middle;\n",
       "    }\n",
       "\n",
       "    .dataframe tbody tr th {\n",
       "        vertical-align: top;\n",
       "    }\n",
       "\n",
       "    .dataframe thead th {\n",
       "        text-align: right;\n",
       "    }\n",
       "</style>\n",
       "<table border=\"1\" class=\"dataframe\">\n",
       "  <thead>\n",
       "    <tr style=\"text-align: right;\">\n",
       "      <th></th>\n",
       "      <th>number_of_claims</th>\n",
       "      <th>total_claim_amount</th>\n",
       "    </tr>\n",
       "    <tr>\n",
       "      <th>customer_id</th>\n",
       "      <th></th>\n",
       "      <th></th>\n",
       "    </tr>\n",
       "  </thead>\n",
       "  <tbody>\n",
       "    <tr>\n",
       "      <th>154557</th>\n",
       "      <td>1</td>\n",
       "      <td>0.0</td>\n",
       "    </tr>\n",
       "    <tr>\n",
       "      <th>263204</th>\n",
       "      <td>1</td>\n",
       "      <td>39192.0</td>\n",
       "    </tr>\n",
       "    <tr>\n",
       "      <th>287476</th>\n",
       "      <td>1</td>\n",
       "      <td>1621.5</td>\n",
       "    </tr>\n",
       "    <tr>\n",
       "      <th>441097</th>\n",
       "      <td>1</td>\n",
       "      <td>37040.0</td>\n",
       "    </tr>\n",
       "    <tr>\n",
       "      <th>524545</th>\n",
       "      <td>1</td>\n",
       "      <td>35250.0</td>\n",
       "    </tr>\n",
       "    <tr>\n",
       "      <th>...</th>\n",
       "      <td>...</td>\n",
       "      <td>...</td>\n",
       "    </tr>\n",
       "    <tr>\n",
       "      <th>99674324</th>\n",
       "      <td>1</td>\n",
       "      <td>21480.0</td>\n",
       "    </tr>\n",
       "    <tr>\n",
       "      <th>99723844</th>\n",
       "      <td>1</td>\n",
       "      <td>14360.0</td>\n",
       "    </tr>\n",
       "    <tr>\n",
       "      <th>99761663</th>\n",
       "      <td>1</td>\n",
       "      <td>1242.0</td>\n",
       "    </tr>\n",
       "    <tr>\n",
       "      <th>99892000</th>\n",
       "      <td>1</td>\n",
       "      <td>2415.0</td>\n",
       "    </tr>\n",
       "    <tr>\n",
       "      <th>99961993</th>\n",
       "      <td>1</td>\n",
       "      <td>2310.0</td>\n",
       "    </tr>\n",
       "  </tbody>\n",
       "</table>\n",
       "<p>1078 rows × 2 columns</p>\n",
       "</div>"
      ],
      "text/plain": [
       "             number_of_claims  total_claim_amount\n",
       "customer_id                                      \n",
       "154557                      1                 0.0\n",
       "263204                      1             39192.0\n",
       "287476                      1              1621.5\n",
       "441097                      1             37040.0\n",
       "524545                      1             35250.0\n",
       "...                       ...                 ...\n",
       "99674324                    1             21480.0\n",
       "99723844                    1             14360.0\n",
       "99761663                    1              1242.0\n",
       "99892000                    1              2415.0\n",
       "99961993                    1              2310.0\n",
       "\n",
       "[1078 rows x 2 columns]"
      ]
     },
     "execution_count": 48,
     "metadata": {},
     "output_type": "execute_result"
    }
   ],
   "source": [
    "# Renaming the columns for clarity\n",
    "customer_claim_data = customer_claim_data.rename(columns={'claim_id': 'number_of_claims', 'claim_amount': 'total_claim_amount'})\n",
    "\n",
    "customer_claim_data"
   ]
  },
  {
   "cell_type": "code",
   "execution_count": 49,
   "id": "b5bc7232",
   "metadata": {},
   "outputs": [
    {
     "data": {
      "text/html": [
       "<div>\n",
       "<style scoped>\n",
       "    .dataframe tbody tr th:only-of-type {\n",
       "        vertical-align: middle;\n",
       "    }\n",
       "\n",
       "    .dataframe tbody tr th {\n",
       "        vertical-align: top;\n",
       "    }\n",
       "\n",
       "    .dataframe thead th {\n",
       "        text-align: right;\n",
       "    }\n",
       "</style>\n",
       "<table border=\"1\" class=\"dataframe\">\n",
       "  <thead>\n",
       "    <tr style=\"text-align: right;\">\n",
       "      <th></th>\n",
       "      <th>customer_id</th>\n",
       "      <th>number_of_claims</th>\n",
       "      <th>total_claim_amount</th>\n",
       "    </tr>\n",
       "  </thead>\n",
       "  <tbody>\n",
       "    <tr>\n",
       "      <th>0</th>\n",
       "      <td>154557</td>\n",
       "      <td>1</td>\n",
       "      <td>0.0</td>\n",
       "    </tr>\n",
       "    <tr>\n",
       "      <th>1</th>\n",
       "      <td>263204</td>\n",
       "      <td>1</td>\n",
       "      <td>39192.0</td>\n",
       "    </tr>\n",
       "    <tr>\n",
       "      <th>2</th>\n",
       "      <td>287476</td>\n",
       "      <td>1</td>\n",
       "      <td>1621.5</td>\n",
       "    </tr>\n",
       "    <tr>\n",
       "      <th>3</th>\n",
       "      <td>441097</td>\n",
       "      <td>1</td>\n",
       "      <td>37040.0</td>\n",
       "    </tr>\n",
       "    <tr>\n",
       "      <th>4</th>\n",
       "      <td>524545</td>\n",
       "      <td>1</td>\n",
       "      <td>35250.0</td>\n",
       "    </tr>\n",
       "    <tr>\n",
       "      <th>...</th>\n",
       "      <td>...</td>\n",
       "      <td>...</td>\n",
       "      <td>...</td>\n",
       "    </tr>\n",
       "    <tr>\n",
       "      <th>1073</th>\n",
       "      <td>99674324</td>\n",
       "      <td>1</td>\n",
       "      <td>21480.0</td>\n",
       "    </tr>\n",
       "    <tr>\n",
       "      <th>1074</th>\n",
       "      <td>99723844</td>\n",
       "      <td>1</td>\n",
       "      <td>14360.0</td>\n",
       "    </tr>\n",
       "    <tr>\n",
       "      <th>1075</th>\n",
       "      <td>99761663</td>\n",
       "      <td>1</td>\n",
       "      <td>1242.0</td>\n",
       "    </tr>\n",
       "    <tr>\n",
       "      <th>1076</th>\n",
       "      <td>99892000</td>\n",
       "      <td>1</td>\n",
       "      <td>2415.0</td>\n",
       "    </tr>\n",
       "    <tr>\n",
       "      <th>1077</th>\n",
       "      <td>99961993</td>\n",
       "      <td>1</td>\n",
       "      <td>2310.0</td>\n",
       "    </tr>\n",
       "  </tbody>\n",
       "</table>\n",
       "<p>1078 rows × 3 columns</p>\n",
       "</div>"
      ],
      "text/plain": [
       "      customer_id  number_of_claims  total_claim_amount\n",
       "0          154557                 1                 0.0\n",
       "1          263204                 1             39192.0\n",
       "2          287476                 1              1621.5\n",
       "3          441097                 1             37040.0\n",
       "4          524545                 1             35250.0\n",
       "...           ...               ...                 ...\n",
       "1073     99674324                 1             21480.0\n",
       "1074     99723844                 1             14360.0\n",
       "1075     99761663                 1              1242.0\n",
       "1076     99892000                 1              2415.0\n",
       "1077     99961993                 1              2310.0\n",
       "\n",
       "[1078 rows x 3 columns]"
      ]
     },
     "execution_count": 49,
     "metadata": {},
     "output_type": "execute_result"
    }
   ],
   "source": [
    "# Resetting the index to make customer_id a regular column\n",
    "customer_claim_data = customer_claim_data.reset_index()\n",
    "customer_claim_data\n"
   ]
  },
  {
   "cell_type": "code",
   "execution_count": 51,
   "id": "ae43780a",
   "metadata": {},
   "outputs": [
    {
     "name": "stdout",
     "output_type": "stream",
     "text": [
      "There is no significant relationship between the total number of policy claims and the claimed amount.\n"
     ]
    }
   ],
   "source": [
    "# checking the correlation\n",
    "correlation_coefficient = customer_claim_data['number_of_claims'].corr(customer_claim_data['total_claim_amount'])\n",
    "\n",
    "# Check the correlation coefficient to assess the relationship\n",
    "if correlation_coefficient > 0:\n",
    "    print(\"There is a positive relationship between the total number of policy claims and the claimed amount.\")\n",
    "elif correlation_coefficient < 0:\n",
    "    print(\"There is a negative relationship between the total number of policy claims and the claimed amount.\")\n",
    "else:\n",
    "    print(\"There is no significant relationship between the total number of policy claims and the claimed amount.\")"
   ]
  }
 ],
 "metadata": {
  "kernelspec": {
   "display_name": "Python 3 (ipykernel)",
   "language": "python",
   "name": "python3"
  },
  "language_info": {
   "codemirror_mode": {
    "name": "ipython",
    "version": 3
   },
   "file_extension": ".py",
   "mimetype": "text/x-python",
   "name": "python",
   "nbconvert_exporter": "python",
   "pygments_lexer": "ipython3",
   "version": "3.9.12"
  }
 },
 "nbformat": 4,
 "nbformat_minor": 5
}
